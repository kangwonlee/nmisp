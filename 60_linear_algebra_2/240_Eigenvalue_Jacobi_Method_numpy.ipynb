{
 "cells": [
  {
   "cell_type": "markdown",
   "metadata": {
    "id": "view-in-github",
    "colab_type": "text"
   },
   "source": [
    "<a href=\"https://colab.research.google.com/github/kangwonlee/nmisp/blob/lecture-idea/60_linear_algebra_2/240_Eigenvalue_Jacobi_Method_numpy.ipynb\" target=\"_parent\"><img src=\"https://colab.research.google.com/assets/colab-badge.svg\" alt=\"Open In Colab\"/></a>\n"
   ]
  },
  {
   "cell_type": "code",
   "execution_count": null,
   "metadata": {},
   "outputs": [],
   "source": [
    "# This cell is for the Google Colaboratory\n",
    "# https://stackoverflow.com/a/63519730\n",
    "if 'google.colab' in str(get_ipython()):\n",
    "  path_py = '/content/nmisp_py'\n",
    "\n",
    "  import os\n",
    "  if not os.path.exists(path_py):\n",
    "    import subprocess\n",
    "    subprocess.run(\n",
    "        ('git', 'clone', 'https://github.com/kangwonlee/nmisp_py')\n",
    "    )\n",
    "  assert os.path.exists(path_py)\n",
    "\n",
    "  import sys\n",
    "  sys.path.insert(0, path_py)\n",
    "\n"
   ]
  },
  {
   "cell_type": "code",
   "execution_count": null,
   "metadata": {},
   "outputs": [],
   "source": [
    "import os\n",
    "from typing import List, Tuple, Union\n",
    "\n",
    "import matplotlib.pyplot as plt\n",
    "import numpy as np\n",
    "import numpy.random as nr\n",
    "import numpy.testing as nt\n",
    "\n",
    "import jacobi\n",
    "import matrix\n",
    "\n"
   ]
  },
  {
   "cell_type": "code",
   "execution_count": null,
   "metadata": {},
   "outputs": [],
   "source": [
    "Scalar = Union[int, float, complex]\n",
    "Vector = List[Scalar]\n",
    "Matrix = List[Vector]\n",
    "\n"
   ]
  },
  {
   "cell_type": "markdown",
   "metadata": {},
   "source": [
    "The following function would visualize a numerical matrix using the [Hinton Diagram](https://matplotlib.org/stable/gallery/specialty_plots/hinton_demo.html).<br>\n",
    "아래 함수는 행렬을 [힌튼 다이어그램](https://matplotlib.org/stable/gallery/specialty_plots/hinton_demo.html)으로 시각화할 것이다.\n",
    "\n"
   ]
  },
  {
   "cell_type": "code",
   "execution_count": null,
   "metadata": {},
   "outputs": [],
   "source": [
    "def hinton(matrix, max_weight=None, ax=None):\n",
    "    '''\n",
    "    Draw Hinton diagram for visualizing a weight matrix.\n",
    "    https://matplotlib.org/stable/gallery/specialty_plots/hinton_demo.html\n",
    "    '''\n",
    "    if ax is None:\n",
    "      b_ax_none = True\n",
    "      ax = plt.gca()\n",
    "    else:\n",
    "      b_ax_none = False\n",
    "\n",
    "    if not max_weight:\n",
    "        max_weight = 2 ** np.ceil(np.log2(np.abs(matrix).max()))\n",
    "\n",
    "    ax.patch.set_facecolor('gray')\n",
    "    ax.set_aspect('equal', 'box')\n",
    "\n",
    "    ax.xaxis.set_major_locator(plt.NullLocator())\n",
    "    ax.yaxis.set_major_locator(plt.NullLocator())\n",
    "\n",
    "    for (y, x), w in np.ndenumerate(matrix):\n",
    "        color = 'white' if w > 0 else 'black'\n",
    "        size = np.sqrt(abs(w) / max_weight)\n",
    "        rect = plt.Rectangle([x - size / 2, y - size / 2], size, size,\n",
    "                             facecolor=color, edgecolor=color)\n",
    "        ax.add_patch(rect)\n",
    "\n",
    "    ax.autoscale_view()\n",
    "    ax.invert_yaxis()\n",
    "\n",
    "    if b_ax_none:\n",
    "      plt.show()\n",
    "      plt.close()\n",
    "\n"
   ]
  },
  {
   "cell_type": "markdown",
   "metadata": {},
   "source": [
    "# 자코비 고유치 알고리듬<br>Jacobi Eigenvalue Algorithm\n",
    "\n"
   ]
  },
  {
   "cell_type": "markdown",
   "metadata": {},
   "source": [
    "ref : [[0](https://en.wikipedia.org/wiki/Jacobi_eigenvalue_algorithm)], [[1](https://en.wikipedia.org/wiki/Matrix_similarity)], [[2](https://mathworld.wolfram.com/JacobiTransformation.html)]\n",
    "\n"
   ]
  },
  {
   "cell_type": "markdown",
   "metadata": {},
   "source": [
    "해당 알고리듬은 대칭행렬의 모든 고유치와를 고유벡터를 한번에 구할 수 있다.<br>The algorithm can find all eigenvalues and eigenvectors of a symmetric matrix.\n"
   ]
  },
  {
   "cell_type": "markdown",
   "metadata": {},
   "source": [
    "행렬의 *상사변환* 의 일종인 *자코비 변환* 을 반복한다.<br>It iterates the *Jacobi transformation*, a *similarity transformation*.\n",
    "\n"
   ]
  },
  {
   "cell_type": "markdown",
   "metadata": {},
   "source": [
    "상사변환이란, 어떤 행렬 $A$ 에 행렬 $P$ 와 그 역행렬 $P^{-1}$을 좌우에서 곱해주는 것이다.<br>\n",
    "The *similarity transformation* is to multiply a matrix $P$ and its inverse $P^{-1}$ to a matrix $A$ on both sides.\n",
    "\n"
   ]
  },
  {
   "cell_type": "markdown",
   "metadata": {},
   "source": [
    "$$\n",
    "B = P^{-1}AP\n",
    "$$\n"
   ]
  },
  {
   "cell_type": "markdown",
   "metadata": {},
   "source": [
    "행렬 $A$ 와 $B$ 의 고유치는 같다.<br>The matrices $A$ and $B$ have the same eigenvalues.\n",
    "\n"
   ]
  },
  {
   "cell_type": "markdown",
   "metadata": {},
   "source": [
    "자코비 변환은, 행렬의 비대각 원소들 가운데 하나를 0으로 만드는 것이다..<br>Jacobi transformation is to diagonalize a two dimensional subspace in the basis of an n-dimensional space.\n",
    "\n"
   ]
  },
  {
   "cell_type": "markdown",
   "metadata": {},
   "source": [
    "$3 \\times 3$ 행렬 사례를 살펴 보도록 하자.<br>Let's take a look at a $3 \\times 3$ matrix case.\n",
    "\n"
   ]
  },
  {
   "cell_type": "code",
   "execution_count": null,
   "metadata": {},
   "outputs": [],
   "source": [
    "n = 3\n",
    "\n",
    "matA = nr.randint(-5, 5, (n, n),)\n",
    "matA = matA @ matA.T\n",
    "matA += np.diag(nr.randint(10, 100, (n,)))\n",
    "\n"
   ]
  },
  {
   "cell_type": "code",
   "execution_count": null,
   "metadata": {},
   "outputs": [],
   "source": [
    "hinton(matA)\n",
    "\n"
   ]
  },
  {
   "cell_type": "markdown",
   "metadata": {},
   "source": [
    "오른쪽은 고유벡터, 왼쪽은 고유치를 보여 줄 것이다.<br>Right, left matrices will show the eigenvectors and eigenvalues respectively.\n",
    "\n"
   ]
  },
  {
   "cell_type": "markdown",
   "metadata": {},
   "source": [
    "행렬의 열 벡터의 변화를 따라 가 보자.<br>Let's keep track of the changes of the column vectors of the matrices.\n",
    "\n"
   ]
  },
  {
   "cell_type": "code",
   "execution_count": null,
   "metadata": {
    "scrolled": false
   },
   "outputs": [],
   "source": [
    "w, v = jacobi.eigenvalue_algorithm(matA, b_plot=True)\n",
    "\n"
   ]
  },
  {
   "cell_type": "markdown",
   "metadata": {},
   "source": [
    "아래 $W$ 행렬의 대각원소가 $A$ 행렬의 고유치이다.<br>The diagonal elements of the following matrix $W$ are the eigenvalues of the matrix $A$.\n",
    "\n"
   ]
  },
  {
   "cell_type": "code",
   "execution_count": null,
   "metadata": {},
   "outputs": [],
   "source": [
    "w\n",
    "\n"
   ]
  },
  {
   "cell_type": "code",
   "execution_count": null,
   "metadata": {},
   "outputs": [],
   "source": [
    "hinton(w)\n",
    "\n"
   ]
  },
  {
   "cell_type": "markdown",
   "metadata": {},
   "source": [
    "아래 $V$ 행렬의 열벡터가 $A$ 행렬의 고유벡터이다.<br>The column vectors of the following matrix $V$ are the eigenvectors of the matrix $A$.\n",
    "\n"
   ]
  },
  {
   "cell_type": "code",
   "execution_count": null,
   "metadata": {},
   "outputs": [],
   "source": [
    "v\n",
    "\n"
   ]
  },
  {
   "cell_type": "code",
   "execution_count": null,
   "metadata": {},
   "outputs": [],
   "source": [
    "hinton(v)\n",
    "\n"
   ]
  },
  {
   "cell_type": "markdown",
   "metadata": {},
   "source": [
    "## 대각화<br>Diagonalization\n",
    "\n"
   ]
  },
  {
   "cell_type": "markdown",
   "metadata": {},
   "source": [
    "이렇게 구한 고유 벡터 행렬 $V$ 로 행렬 $A$ 를 상사 변환하자.<br>\n",
    "Let's simiarity-transform $A$ with the eigenvector matrix $V$.\n",
    "\n"
   ]
  },
  {
   "cell_type": "code",
   "execution_count": null,
   "metadata": {},
   "outputs": [],
   "source": [
    "vT = matrix.transpose_mat(v)\n",
    "\n"
   ]
  },
  {
   "cell_type": "markdown",
   "metadata": {},
   "source": [
    "$\\Lambda = V^T A V$\n"
   ]
  },
  {
   "cell_type": "code",
   "execution_count": null,
   "metadata": {},
   "outputs": [],
   "source": [
    "matLambda = matrix.mul_mat(vT, matrix.mul_mat(matA, v))\n",
    "\n"
   ]
  },
  {
   "cell_type": "code",
   "execution_count": null,
   "metadata": {},
   "outputs": [],
   "source": [
    "matLambda\n",
    "\n"
   ]
  },
  {
   "cell_type": "code",
   "execution_count": null,
   "metadata": {},
   "outputs": [],
   "source": [
    "hinton(matLambda)\n",
    "\n"
   ]
  },
  {
   "cell_type": "markdown",
   "metadata": {},
   "source": [
    "$W$ 행렬과 $\\Lambda$ 행렬은 같은가?<br>Are $W$ and $\\Lambda$ matrices the same?\n",
    "\n"
   ]
  },
  {
   "cell_type": "code",
   "execution_count": null,
   "metadata": {},
   "outputs": [],
   "source": [
    "nt.assert_allclose(\n",
    "    np.array(matLambda),\n",
    "    np.array(w),\n",
    "    atol=1e-7,\n",
    "    rtol=1e-7,\n",
    ")\n",
    "\n"
   ]
  },
  {
   "cell_type": "markdown",
   "metadata": {},
   "source": [
    "반대의 경우는 어떤가?<br>What about the opposite case?\n"
   ]
  },
  {
   "cell_type": "markdown",
   "metadata": {},
   "source": [
    "$V \\Lambda V^T == A$ ?\n"
   ]
  },
  {
   "cell_type": "code",
   "execution_count": null,
   "metadata": {},
   "outputs": [],
   "source": [
    "nt.assert_allclose(\n",
    "    np.array(matrix.mul_mat(v, matrix.mul_mat(w, vT))),\n",
    "    np.array(matA),\n",
    "    atol=1e-7,\n",
    ")\n",
    "\n"
   ]
  },
  {
   "cell_type": "markdown",
   "metadata": {},
   "source": [
    "## Test\n",
    "\n"
   ]
  },
  {
   "cell_type": "code",
   "execution_count": null,
   "metadata": {},
   "outputs": [],
   "source": [
    "# https://en.wikipedia.org/wiki/Jacobi_eigenvalue_algorithm\n",
    "\n",
    "mat_test_A = [\n",
    "    [4, -30, 60, -35],\n",
    "    [-30, 300, -675, 420],\n",
    "    [60, -675, 1620, -1050],\n",
    "    [-35, 420, -1050, 700],\n",
    "]\n",
    "\n"
   ]
  },
  {
   "cell_type": "code",
   "execution_count": null,
   "metadata": {},
   "outputs": [],
   "source": [
    "hinton(mat_test_A)\n",
    "\n"
   ]
  },
  {
   "cell_type": "code",
   "execution_count": null,
   "metadata": {},
   "outputs": [],
   "source": [
    "result_test_w, result_test_v = jacobi.eigenvalue_algorithm(mat_test_A)\n",
    "\n"
   ]
  },
  {
   "cell_type": "code",
   "execution_count": null,
   "metadata": {
    "scrolled": true
   },
   "outputs": [],
   "source": [
    "nt.assert_allclose(\n",
    "    np.diag(np.array(result_test_w)),\n",
    "    np.array([2585.25381092892231, 37.1014913651276582, 1.4780548447781369, 0.1666428611718905]),\n",
    ")\n",
    "\n"
   ]
  },
  {
   "cell_type": "code",
   "execution_count": null,
   "metadata": {},
   "outputs": [],
   "source": [
    "expected_v_transpose = [\n",
    "    [0.0291933231647860588, -0.328712055763188997, 0.791411145833126331, -0.514552749997152907],\n",
    "    [0.179186290535454826, -0.741917790628453435, 0.100228136947192199, 0.638282528193614892],\n",
    "    [0.582075699497237650, -0.370502185067093058, -0.509578634501799626, -0.514048272222164294],\n",
    "    [0.792608291163763585, 0.451923120901599794, 0.322416398581824992, 0.252161169688241933],\n",
    "]\n",
    "\n"
   ]
  },
  {
   "cell_type": "markdown",
   "metadata": {},
   "source": [
    "Let's compare two matrices side by side.<br>\n",
    "두 행렬을 옆에 나란이 놓고 비교해 보자.\n",
    "\n"
   ]
  },
  {
   "cell_type": "code",
   "execution_count": null,
   "metadata": {},
   "outputs": [],
   "source": [
    "ax1 = plt.subplot(1, 2, 1)\n",
    "hinton(np.array(result_test_v).T, ax=ax1)\n",
    "\n",
    "ax2 = plt.subplot(1, 2, 2)\n",
    "hinton(expected_v_transpose, ax=ax2)\n",
    "\n"
   ]
  },
  {
   "cell_type": "code",
   "execution_count": null,
   "metadata": {},
   "outputs": [],
   "source": [
    "for result_list, expected_list in zip(np.array(result_test_v).T.tolist(), expected_v_transpose):\n",
    "    result = np.array(result_list)\n",
    "    expected = np.array(expected_list)\n",
    "\n",
    "    try:\n",
    "        nt.assert_allclose(result, expected)\n",
    "    except AssertionError as e:\n",
    "        nt.assert_allclose(result, -expected)\n",
    "\n"
   ]
  },
  {
   "cell_type": "markdown",
   "metadata": {},
   "source": [
    "### Similarity Transformation Example<br>행렬의 상사 변환 사례\n"
   ]
  },
  {
   "cell_type": "markdown",
   "metadata": {},
   "source": [
    "An arbitrary symmetric matrix<br>\n",
    "임의의 대칭 행렬\n",
    "\n"
   ]
  },
  {
   "cell_type": "code",
   "execution_count": null,
   "metadata": {},
   "outputs": [],
   "source": [
    "a = nr.randint(-5, 5, size=(3, 3))\n",
    "ata = a.T @ a\n",
    "ata\n",
    "\n"
   ]
  },
  {
   "cell_type": "markdown",
   "metadata": {},
   "source": [
    "Eigenvalues `v` and Eigenvectors `w` of the matrix<br>\n",
    "해당 행렬의 고유치 `v`와 고유벡터 `w`\n",
    "\n"
   ]
  },
  {
   "cell_type": "code",
   "execution_count": null,
   "metadata": {},
   "outputs": [],
   "source": [
    "import numpy.linalg as nl\n",
    "\n",
    "w, v = nl.eig(ata)\n",
    "w, v\n",
    "\n"
   ]
  },
  {
   "cell_type": "markdown",
   "metadata": {},
   "source": [
    "A rotation matrix<br>\n",
    "회전 행렬\n",
    "\n"
   ]
  },
  {
   "cell_type": "code",
   "execution_count": null,
   "metadata": {},
   "outputs": [],
   "source": [
    "theta = np.deg2rad(30)\n",
    "c = np.cos(theta)\n",
    "s = np.sin(theta)\n",
    "p = np.array((\n",
    "    (c, -s, 0),\n",
    "    (s, c, 0),\n",
    "    (0, 0, 1),\n",
    "))\n",
    "\n"
   ]
  },
  {
   "cell_type": "markdown",
   "metadata": {},
   "source": [
    "Eigenvalues and eigenvectors of the rotation matrix<br>\n",
    "회전 행렬의 고유치와 고유벡터\n",
    "\n"
   ]
  },
  {
   "cell_type": "code",
   "execution_count": null,
   "metadata": {},
   "outputs": [],
   "source": [
    "wp, vp = nl.eig(p)\n",
    "\n"
   ]
  },
  {
   "cell_type": "markdown",
   "metadata": {},
   "source": [
    "Eigenvalues 고유치\n",
    "\n"
   ]
  },
  {
   "cell_type": "code",
   "execution_count": null,
   "metadata": {},
   "outputs": [],
   "source": [
    "wp\n",
    "\n"
   ]
  },
  {
   "cell_type": "markdown",
   "metadata": {},
   "source": [
    "Eigenvectors 고유벡터\n",
    "\n",
    "ref : https://stackoverflow.com/questions/37149933/how-to-set-max-output-width-in-numpy\n",
    "\n"
   ]
  },
  {
   "cell_type": "code",
   "execution_count": null,
   "metadata": {},
   "outputs": [],
   "source": [
    "np.set_printoptions(edgeitems=30, linewidth=100,)\n",
    "vp\n",
    "\n"
   ]
  },
  {
   "cell_type": "markdown",
   "metadata": {},
   "source": [
    "Similarity transformation<br>\n",
    "상사변환\n",
    "\n"
   ]
  },
  {
   "cell_type": "code",
   "execution_count": null,
   "metadata": {},
   "outputs": [],
   "source": [
    "p_a_pi = p @ ata @ nl.inv(p)\n",
    "wpp, vpp = nl.eig(ata)\n",
    "\n"
   ]
  },
  {
   "cell_type": "code",
   "execution_count": null,
   "metadata": {},
   "outputs": [],
   "source": [
    "wpp\n",
    "\n"
   ]
  },
  {
   "cell_type": "code",
   "execution_count": null,
   "metadata": {},
   "outputs": [],
   "source": [
    "vpp\n",
    "\n"
   ]
  },
  {
   "cell_type": "markdown",
   "metadata": {},
   "source": [
    "Same eigenvalues?<br>\n",
    "고유치가 같은가?\n",
    "\n"
   ]
  },
  {
   "cell_type": "code",
   "execution_count": null,
   "metadata": {},
   "outputs": [],
   "source": [
    "nt.assert_allclose(wpp, w)\n",
    "\n"
   ]
  },
  {
   "cell_type": "markdown",
   "metadata": {},
   "source": [
    "Same eigenvectors?<br>\n",
    "고유벡터가 같은가?\n",
    "\n"
   ]
  },
  {
   "cell_type": "code",
   "execution_count": null,
   "metadata": {},
   "outputs": [],
   "source": [
    "nt.assert_allclose(vpp, v)\n",
    "\n"
   ]
  },
  {
   "cell_type": "markdown",
   "metadata": {},
   "source": [
    "#### An arbitrary matrix `p`<br>\n",
    "임의의 `p` 행렬\n",
    "\n"
   ]
  },
  {
   "cell_type": "code",
   "execution_count": null,
   "metadata": {},
   "outputs": [],
   "source": [
    "p = nr.randint(-5, 5, size=(3, 3)) + np.diag(nr.rand(3, 1))\n",
    "p\n",
    "\n"
   ]
  },
  {
   "cell_type": "markdown",
   "metadata": {},
   "source": [
    "Multiplying `p` and its inverse<br>\n",
    "`p`와 그 역행렬을 곱함\n",
    "\n"
   ]
  },
  {
   "cell_type": "code",
   "execution_count": null,
   "metadata": {},
   "outputs": [],
   "source": [
    "p_a_pi = p @ ata @ nl.inv(p)\n",
    "wpp2, vpp2 = nl.eig(ata)\n",
    "\n"
   ]
  },
  {
   "cell_type": "code",
   "execution_count": null,
   "metadata": {},
   "outputs": [],
   "source": [
    "nt.assert_allclose(vpp2, v)\n",
    "\n"
   ]
  },
  {
   "cell_type": "code",
   "execution_count": null,
   "metadata": {},
   "outputs": [],
   "source": [
    "nt.assert_allclose(wpp2, w)\n",
    "\n"
   ]
  },
  {
   "cell_type": "markdown",
   "metadata": {},
   "source": [
    "### $7\\times7$ matrix<br>$7\\times7$ 행렬\n",
    "\n"
   ]
  },
  {
   "cell_type": "code",
   "execution_count": null,
   "metadata": {
    "colab": {
     "base_uri": "https://localhost:8080/",
     "height": 414
    },
    "outputId": "d0f08365-d9d3-4992-c130-a7864ab2ab32"
   },
   "outputs": [],
   "source": [
    "n = 7\n",
    "\n",
    "matA = nr.rand(n, n) - 0.5\n",
    "matA = matA @ matA.T\n",
    "\n",
    "w77, v77 = jacobi.eigenvalue_algorithm(matA, b_plot=True)\n",
    "\n"
   ]
  },
  {
   "cell_type": "markdown",
   "metadata": {},
   "source": [
    "## Final Bell<br>마지막 종\n",
    "\n"
   ]
  },
  {
   "cell_type": "code",
   "execution_count": null,
   "metadata": {},
   "outputs": [],
   "source": [
    "# stackoverfow.com/a/24634221\n",
    "import os\n",
    "os.system(\"printf '\\a'\");\n",
    "\n"
   ]
  },
  {
   "cell_type": "code",
   "execution_count": null,
   "metadata": {},
   "outputs": [],
   "source": []
  }
 ],
 "metadata": {
  "colab": {
   "include_colab_link": true,
   "provenance": []
  },
  "kernelspec": {
   "display_name": "Python 3 (ipykernel)",
   "language": "python",
   "name": "python3"
  },
  "language_info": {
   "codemirror_mode": {
    "name": "ipython",
    "version": 3
   },
   "file_extension": ".py",
   "mimetype": "text/x-python",
   "name": "python",
   "nbconvert_exporter": "python",
   "pygments_lexer": "ipython3",
   "version": "3.10.10"
  }
 },
 "nbformat": 4,
 "nbformat_minor": 1
}