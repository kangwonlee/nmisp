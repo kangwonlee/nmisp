{
 "cells": [
  {
   "cell_type": "markdown",
   "metadata": {
    "id": "view-in-github",
    "colab_type": "text"
   },
   "source": [
    "<a href=\"https://colab.research.google.com/github/kangwonlee/nmisp/blob/truss-example/60_linear_algebra_2/127_Truss_Section_Method.ipynb\" target=\"_parent\"><img src=\"https://colab.research.google.com/assets/colab-badge.svg\" alt=\"Open In Colab\"/></a>\n"
   ]
  },
  {
   "cell_type": "code",
   "execution_count": null,
   "metadata": {},
   "outputs": [],
   "source": [
    "import matplotlib.pyplot as plt\n",
    "import numpy as np\n",
    "\n"
   ]
  },
  {
   "cell_type": "markdown",
   "metadata": {},
   "source": [
    "## Truss\n",
    "\n"
   ]
  },
  {
   "cell_type": "code",
   "execution_count": null,
   "metadata": {},
   "outputs": [],
   "source": [
    "def draw_line(i, j, p, ax=None):\n",
    "    if ax is None:\n",
    "        ax = plt.gca()\n",
    "    return ax.plot(\n",
    "        [p[i, 0], p[j, 0],],\n",
    "        [p[i, 1], p[j, 1],],\n",
    "    )\n",
    "\n"
   ]
  },
  {
   "cell_type": "code",
   "execution_count": null,
   "metadata": {},
   "outputs": [],
   "source": [
    "points = np.array(\n",
    "    [\n",
    "        [0, 1], # A 0\n",
    "        [1, 1], # B 1\n",
    "        [1, 0], # C 2\n",
    "        [2, 1], # D 3\n",
    "        [2, 0], # E 4\n",
    "        [3, 0], # G 5\n",
    "    ]\n",
    ")\n",
    "\n"
   ]
  },
  {
   "cell_type": "code",
   "execution_count": null,
   "metadata": {},
   "outputs": [],
   "source": [
    "ax=plt.gca()\n",
    "\n",
    "# A-B\n",
    "draw_line(0, 1, points, ax)\n",
    "# A-C\n",
    "draw_line(0, 2, points, ax)\n",
    "\n",
    "# B-C\n",
    "draw_line(1, 2, points, ax)\n",
    "# B-D\n",
    "draw_line(1, 3, points, ax)\n",
    "# B-E\n",
    "draw_line(1, 4, points, ax)\n",
    "\n",
    "# C-E\n",
    "draw_line(2, 4, points, ax)\n",
    "\n",
    "# D-E\n",
    "draw_line(3, 4, points, ax)\n",
    "# D-G\n",
    "draw_line(3, 5, points, ax)\n",
    "\n",
    "# E-G\n",
    "draw_line(4, 5, points, ax)\n",
    "\n",
    "plt.axis('equal')\n",
    "plt.grid(True)\n",
    "\n"
   ]
  },
  {
   "cell_type": "code",
   "execution_count": null,
   "metadata": {},
   "outputs": [],
   "source": []
  }
 ],
 "metadata": {
  "kernelspec": {
   "display_name": "Python 3 (ipykernel)",
   "language": "python",
   "name": "python3"
  },
  "language_info": {
   "codemirror_mode": {
    "name": "ipython",
    "version": 3
   },
   "file_extension": ".py",
   "mimetype": "text/x-python",
   "name": "python",
   "nbconvert_exporter": "python",
   "pygments_lexer": "ipython3",
   "version": "3.10.0"
  }
 },
 "nbformat": 4,
 "nbformat_minor": 5
}