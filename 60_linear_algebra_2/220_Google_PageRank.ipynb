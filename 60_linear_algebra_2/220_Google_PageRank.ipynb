{
 "cells": [
  {
   "cell_type": "markdown",
   "metadata": {
    "id": "view-in-github",
    "colab_type": "text"
   },
   "source": [
    "<a href=\"https://colab.research.google.com/github/kangwonlee/nmisp/blob/lecture-idea/60_linear_algebra_2/220_Google_PageRank.ipynb\" target=\"_parent\"><img src=\"https://colab.research.google.com/assets/colab-badge.svg\" alt=\"Open In Colab\"/></a>\n"
   ]
  },
  {
   "cell_type": "code",
   "execution_count": null,
   "metadata": {},
   "outputs": [],
   "source": [
    "# 그래프, 수학 기능 추가\n",
    "# Add graph and math features\n",
    "import pylab as py\n",
    "import numpy as np\n",
    "import numpy.linalg as nl\n",
    "\n"
   ]
  },
  {
   "cell_type": "markdown",
   "metadata": {},
   "source": [
    "# 구글 페이지랭크 알고리듬<br>The PageRank Algorithm of Google\n",
    "\n"
   ]
  },
  {
   "cell_type": "markdown",
   "metadata": {},
   "source": [
    "* 위키백과 기여자, '페이지랭크', 위키백과, , 2017년 9월 1일, 02:44 UTC, <https://ko.wikipedia.org/w/index.php?title=%ED%8E%98%EC%9D%B4%EC%A7%80%EB%9E%AD%ED%81%AC&oldid=19481213> [2018년 7월 31일에 접근] \n",
    "* Wikipedia contributors, 'PageRank', Wikipedia, The Free Encyclopedia, 16 July 2018, 19:43 UTC, <https://en.wikipedia.org/w/index.php?title=PageRank&oldid=850584505> [accessed 31 July 2018] \n",
    "\n"
   ]
  },
  {
   "cell_type": "markdown",
   "metadata": {},
   "source": [
    "다음 그림을 살펴 보자.<br>\n",
    "Let's take a look a the following figure.\n",
    "\n"
   ]
  },
  {
   "cell_type": "markdown",
   "metadata": {},
   "source": [
    "![pagerank](https://user-images.githubusercontent.com/17876446/246726501-117c56e0-5b0c-4bc4-a84f-27d706f82aa6.jpg)\n",
    "\n"
   ]
  },
  {
   "cell_type": "markdown",
   "metadata": {},
   "source": [
    "위 연결 상태를 다음과 같은 행렬로 표시할 수 있다.<br>The connectivity status can be represented as a matrix as follows.\n",
    "\n"
   ]
  },
  {
   "cell_type": "markdown",
   "metadata": {},
   "source": [
    "| m | A  | B  | C  | D  | E  | F  | G1 | G2 | G3 | G4 | G5 |\n",
    "|:---:|---:|---:|---:|---:|---:|---:|---:|---:|---:|---:|---:|\n",
    "| A   | 0  | 0  | 0  | 1  | 0  | 0  | 0  |  0 |  0 |  0 |  0 |\n",
    "| B   | 0  | 0  | 1  | 1  | 1  | 1  | 1  |  1 |  1 |  0 |  0 |\n",
    "| C   | 0  | 1  | 0  | 0  | 0  | 0  | 0  |  0 |  0 |  0 |  0 |\n",
    "| D   | 0  | 0  | 0  | 0  | 1  | 0  | 0  |  0 |  0 |  0 |  0 |\n",
    "| E   | 0  | 0  | 0  | 0  | 0  | 1  | 1  |  1 |  1 |  1 |  1 |\n",
    "| F   | 0  | 0  | 0  | 0  | 1  | 0  | 0  |  0 |  0 |  0 |  0 |\n",
    "| G1  | 0  | 0  | 0  | 0  | 0  | 0  | 0  |  0 |  0 |  0 |  0 |\n",
    "| G2  | 0  | 0  | 0  | 0  | 0  | 0  | 0  |  0 |  0 |  0 |  0 |\n",
    "| G3  | 0  | 0  | 0  | 0  | 0  | 0  | 0  |  0 |  0 |  0 |  0 |\n",
    "| G4  | 0  | 0  | 0  | 0  | 0  | 0  | 0  |  0 |  0 |  0 |  0 |\n",
    "| G5  | 0  | 0  | 0  | 0  | 0  | 0  | 0  |  0 |  0 |  0 |  0 |\n",
    "\n"
   ]
  },
  {
   "cell_type": "markdown",
   "metadata": {},
   "source": [
    "예를 들어 첫 행에서 A 절점으로 들어오는 연결선은 D 절점에서 오는 것 하나 뿐이다.<br>\n",
    "For example, in the first row, node A has only one incoming link from node D.\n",
    "\n"
   ]
  },
  {
   "cell_type": "code",
   "execution_count": null,
   "metadata": {},
   "outputs": [],
   "source": [
    "m = np.array(\n",
    "    [\n",
    "        [0, 0, 0, 1, 0, 0, 0, 0, 0, 0, 0],\n",
    "        [0, 0, 1, 1, 1, 1, 1, 1, 1, 0, 0],\n",
    "        [0, 1, 0, 0, 0, 0, 0, 0, 0, 0, 0],\n",
    "        [0, 0, 0, 0, 1, 0, 0, 0, 0, 0, 0],\n",
    "        [0, 0, 0, 0, 0, 1, 1, 1, 1, 1, 1],\n",
    "        [0, 0, 0, 0, 1, 0, 0, 0, 0, 0, 0],\n",
    "        [0, 0, 0, 0, 0, 0, 0, 0, 0, 0, 0],\n",
    "        [0, 0, 0, 0, 0, 0, 0, 0, 0, 0, 0],\n",
    "        [0, 0, 0, 0, 0, 0, 0, 0, 0, 0, 0],\n",
    "        [0, 0, 0, 0, 0, 0, 0, 0, 0, 0, 0],\n",
    "        [0, 0, 0, 0, 0, 0, 0, 0, 0, 0, 0],\n",
    "    ], dtype=float\n",
    ")\n",
    "\n"
   ]
  },
  {
   "cell_type": "markdown",
   "metadata": {},
   "source": [
    "각 열의 합이 1이 되도록 만든다.<br>Make sum of each column to one.\n",
    "\n"
   ]
  },
  {
   "cell_type": "code",
   "execution_count": null,
   "metadata": {},
   "outputs": [],
   "source": [
    "s = m.sum(axis=0)\n",
    "\n"
   ]
  },
  {
   "cell_type": "code",
   "execution_count": null,
   "metadata": {},
   "outputs": [],
   "source": [
    "for j in range(m.shape[1]):\n",
    "    if 1 < s[j]:\n",
    "        si = 1.0 / s[j]\n",
    "        for i in range(m.shape[0]):\n",
    "            m[i, j] *= si\n",
    "\n"
   ]
  },
  {
   "cell_type": "code",
   "execution_count": null,
   "metadata": {},
   "outputs": [],
   "source": [
    "m\n",
    "\n"
   ]
  },
  {
   "cell_type": "markdown",
   "metadata": {},
   "source": [
    "이제 행렬의 고유벡터를 구한다.<br>Now let's find the eigenvector of the matrix.\n",
    "\n"
   ]
  },
  {
   "cell_type": "code",
   "execution_count": null,
   "metadata": {},
   "outputs": [],
   "source": [
    "eval, evac = nl.eig(m)\n",
    "\n"
   ]
  },
  {
   "cell_type": "code",
   "execution_count": null,
   "metadata": {},
   "outputs": [],
   "source": [
    "eval\n",
    "\n"
   ]
  },
  {
   "cell_type": "code",
   "execution_count": null,
   "metadata": {},
   "outputs": [],
   "source": [
    "py.matshow(evac)\n",
    "py.colorbar()\n",
    "py.axis('equal')\n",
    "\n"
   ]
  },
  {
   "cell_type": "code",
   "execution_count": null,
   "metadata": {},
   "outputs": [],
   "source": [
    "evac[:, 0]\n"
   ]
  },
  {
   "cell_type": "markdown",
   "metadata": {},
   "source": [
    "## Final Bell<br>마지막 종\n",
    "\n"
   ]
  },
  {
   "cell_type": "code",
   "execution_count": null,
   "metadata": {},
   "outputs": [],
   "source": [
    "# stackoverfow.com/a/24634221\n",
    "import os\n",
    "os.system(\"printf '\\a'\");\n",
    "\n"
   ]
  },
  {
   "cell_type": "code",
   "execution_count": null,
   "metadata": {},
   "outputs": [],
   "source": []
  }
 ],
 "metadata": {
  "kernelspec": {
   "display_name": "Python 3",
   "language": "python",
   "name": "python3"
  },
  "language_info": {
   "codemirror_mode": {
    "name": "ipython",
    "version": 3
   },
   "file_extension": ".py",
   "mimetype": "text/x-python",
   "name": "python",
   "nbconvert_exporter": "python",
   "pygments_lexer": "ipython3",
   "version": "3.7.3"
  }
 },
 "nbformat": 4,
 "nbformat_minor": 2
}