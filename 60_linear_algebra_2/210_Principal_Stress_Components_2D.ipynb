{
 "cells": [
  {
   "cell_type": "markdown",
   "metadata": {
    "id": "view-in-github",
    "colab_type": "text"
   },
   "source": [
    "<a href=\"https://colab.research.google.com/github/kangwonlee/nmisp/blob/main/60_linear_algebra_2/210_Principal_Stress_Components_2D.ipynb\" target=\"_parent\"><img src=\"https://colab.research.google.com/assets/colab-badge.svg\" alt=\"Open In Colab\"/></a>\n"
   ]
  },
  {
   "cell_type": "code",
   "execution_count": null,
   "metadata": {},
   "outputs": [],
   "source": [
    "# 그래프, 수학 기능 추가\n",
    "# Add graph and math features\n",
    "import matplotlib.pyplot as plt\n",
    "import numpy as np\n",
    "import numpy.linalg as nl\n",
    "\n"
   ]
  },
  {
   "cell_type": "markdown",
   "metadata": {},
   "source": [
    "# 고유치와 고유벡터 : 주응력과 그 방향<br>Eigenvalue and Eigenvector : Principal stresses and their directions\n",
    "\n"
   ]
  },
  {
   "cell_type": "markdown",
   "metadata": {},
   "source": [
    "참고문헌 : Pytel 외 저, 이주성 외 역, 재료역학, 2판, 한티미디어, 2013.<br>Ref: Pytel, Kiusalaas, Sharma, Mechanics of Materials, 2nd Ed., Cengage Learning, 2013.\n",
    "\n"
   ]
  },
  {
   "cell_type": "markdown",
   "metadata": {},
   "source": [
    "다음 2차원 응력 상태의 주응력과 그 방향을 구해 보자.<br>\n",
    "Let's find the principal stresses and their directions.\n",
    "\n"
   ]
  },
  {
   "cell_type": "markdown",
   "metadata": {},
   "source": [
    "$$\n",
    "\\begin{bmatrix}\n",
    "\\sigma_{xx} & \\tau_{xy} \\\\\n",
    "sym & \\sigma_{yy}\n",
    "\\end{bmatrix}\n",
    "=\n",
    "\\begin{bmatrix}\n",
    "8000 & 3000 \\\\\n",
    "sym & 4000\n",
    "\\end{bmatrix}\n",
    "$$\n",
    "\n"
   ]
  },
  {
   "cell_type": "code",
   "execution_count": null,
   "metadata": {},
   "outputs": [],
   "source": [
    "stress_Pa_mat = np.array(\n",
    "    [[8000, 3000],\n",
    "     [3000, 4000]]\n",
    ")\n",
    "\n"
   ]
  },
  {
   "cell_type": "code",
   "execution_count": null,
   "metadata": {},
   "outputs": [],
   "source": [
    "stress_Pa_mat\n",
    "\n"
   ]
  },
  {
   "cell_type": "code",
   "source": [
    "def plot_circle(x, y, r):\n",
    "  theta_deg = np.arange(0, 360+1)\n",
    "  theta_rad = np.deg2rad(theta_deg)\n",
    "\n",
    "  c = np.cos(theta_rad)\n",
    "  s = np.sin(theta_rad)\n",
    "\n",
    "  plt.plot(r*c+x, r*s+y)\n",
    "\n",
    "\n",
    "def plot_mohr_circle(stress_Pa_mat):\n",
    "  center_x = (stress_Pa_mat[0, 0] + stress_Pa_mat[1, 1]) * 0.5\n",
    "\n",
    "  delta_x = stress_Pa_mat[0, 0] - center_x\n",
    "  delta_y = stress_Pa_mat[0, 1]\n",
    "  angle_rad = np.arctan2(delta_y, delta_x)\n",
    "\n",
    "  r = (delta_x ** 2 + delta_y ** 2) ** 0.5\n",
    "\n",
    "  plot_circle(center_x, 0, r)\n",
    "\n",
    "  ax = plt.gca()\n",
    "  ax.plot(\n",
    "      (stress_Pa_mat[1, 1], stress_Pa_mat[0, 0]),\n",
    "      (stress_Pa_mat[0, 1], -stress_Pa_mat[0, 1])\n",
    "  )\n",
    "\n",
    "  plt.text(stress_Pa_mat[0, 0], -stress_Pa_mat[0, 1], f\"angle = {np.rad2deg(angle_rad)*0.5:.2f}deg\")\n",
    "  plt.text(stress_Pa_mat[1, 1], stress_Pa_mat[0, 1], f\"angle = {np.rad2deg(angle_rad)*0.5 + 90:.2f}deg\")\n",
    "  plt.text(center_x + r, 0, f\"$\\sigma_1 = {center_x + r:.2f}$\")\n",
    "  plt.text(center_x - r, 0, f\"$\\sigma_2 = {center_x - r:.2f}$\")\n",
    "\n",
    "  plt.axis('equal')\n",
    "  plt.grid(True)\n",
    "\n",
    "\n",
    "plot_mohr_circle(stress_Pa_mat)\n",
    "\n"
   ],
   "metadata": {},
   "execution_count": null,
   "outputs": []
  },
  {
   "cell_type": "markdown",
   "metadata": {},
   "source": [
    "`numpy.linalg.eig()` 함수는 행렬의 고유치와 고유벡터를 계산할 수 있다.<br>`numpy.linalg.eig()` function can calculate eiganvalues and eigenvectors of a matrix.\n",
    "\n"
   ]
  },
  {
   "cell_type": "code",
   "execution_count": null,
   "metadata": {},
   "outputs": [],
   "source": [
    "result = nl.eig(stress_Pa_mat)\n",
    "\n"
   ]
  },
  {
   "cell_type": "markdown",
   "metadata": {},
   "source": [
    "행렬의 고유치<br>Eigenvalues of the matrix\n",
    "\n"
   ]
  },
  {
   "cell_type": "code",
   "execution_count": null,
   "metadata": {},
   "outputs": [],
   "source": [
    "result[0]\n",
    "\n"
   ]
  },
  {
   "cell_type": "markdown",
   "metadata": {},
   "source": [
    "행렬의 고유벡터<br>Eigenvectors of the matrix\n",
    "\n"
   ]
  },
  {
   "cell_type": "code",
   "execution_count": null,
   "metadata": {},
   "outputs": [],
   "source": [
    "result[1]\n",
    "\n"
   ]
  },
  {
   "cell_type": "markdown",
   "metadata": {},
   "source": [
    "첫번째 고유치의 고유벡터<br>Eigenvector of the first eigenvalue\n",
    "\n"
   ]
  },
  {
   "cell_type": "code",
   "execution_count": null,
   "metadata": {},
   "outputs": [],
   "source": [
    "x0 = result[1][:, 0]\n",
    "\n"
   ]
  },
  {
   "cell_type": "code",
   "execution_count": null,
   "metadata": {
    "scrolled": true
   },
   "outputs": [],
   "source": [
    "x0\n",
    "\n"
   ]
  },
  {
   "cell_type": "code",
   "execution_count": null,
   "metadata": {},
   "outputs": [],
   "source": [
    "angle_0_deg = np.rad2deg(np.arctan2(x0[1], x0[0]))\n",
    "\n"
   ]
  },
  {
   "cell_type": "markdown",
   "metadata": {},
   "source": [
    "첫번째 고유벡터의 방향<br>Direction of the first eigenvector\n",
    "\n"
   ]
  },
  {
   "cell_type": "code",
   "execution_count": null,
   "metadata": {},
   "outputs": [],
   "source": [
    "angle_0_deg\n",
    "\n"
   ]
  },
  {
   "cell_type": "markdown",
   "metadata": {},
   "source": [
    "두번째 고유벡터<br>Second eigenvector\n",
    "\n"
   ]
  },
  {
   "cell_type": "code",
   "execution_count": null,
   "metadata": {},
   "outputs": [],
   "source": [
    "x1 = result[1][:, 1]\n",
    "\n"
   ]
  },
  {
   "cell_type": "code",
   "execution_count": null,
   "metadata": {},
   "outputs": [],
   "source": [
    "x1\n",
    "\n"
   ]
  },
  {
   "cell_type": "markdown",
   "metadata": {},
   "source": [
    "두번째 고유벡터의 방향<br>Direction of the second eigenvector\n",
    "\n"
   ]
  },
  {
   "cell_type": "code",
   "execution_count": null,
   "metadata": {},
   "outputs": [],
   "source": [
    "angle_1_deg = np.rad2deg(np.arctan2(x1[1], x1[0]))\n",
    "\n"
   ]
  },
  {
   "cell_type": "code",
   "execution_count": null,
   "metadata": {},
   "outputs": [],
   "source": [
    "angle_1_deg\n",
    "\n"
   ]
  },
  {
   "cell_type": "markdown",
   "metadata": {},
   "source": [
    "## Final Bell<br>마지막 종\n",
    "\n"
   ]
  },
  {
   "cell_type": "code",
   "execution_count": null,
   "metadata": {},
   "outputs": [],
   "source": [
    "# stackoverfow.com/a/24634221\n",
    "import os\n",
    "os.system(\"printf '\\a'\");\n",
    "\n"
   ]
  },
  {
   "cell_type": "code",
   "execution_count": null,
   "metadata": {},
   "outputs": [],
   "source": []
  }
 ],
 "metadata": {
  "kernelspec": {
   "display_name": "Python 3",
   "language": "python",
   "name": "python3"
  },
  "language_info": {
   "codemirror_mode": {
    "name": "ipython",
    "version": 3
   },
   "file_extension": ".py",
   "mimetype": "text/x-python",
   "name": "python",
   "nbconvert_exporter": "python",
   "pygments_lexer": "ipython3",
   "version": "3.7.3"
  },
  "colab": {
   "provenance": [],
   "include_colab_link": true
  }
 },
 "nbformat": 4,
 "nbformat_minor": 0
}