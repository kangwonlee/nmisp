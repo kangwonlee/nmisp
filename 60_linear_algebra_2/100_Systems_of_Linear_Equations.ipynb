{
 "cells": [
  {
   "cell_type": "markdown",
   "metadata": {
    "id": "view-in-github",
    "colab_type": "text"
   },
   "source": [
    "<a href=\"https://colab.research.google.com/github/kangwonlee/nmisp/blob/lecture-idea/60_linear_algebra_2/100_Systems_of_Linear_Equations.ipynb\" target=\"_parent\"><img src=\"https://colab.research.google.com/assets/colab-badge.svg\" alt=\"Open In Colab\"/></a>\n"
   ]
  },
  {
   "cell_type": "code",
   "execution_count": null,
   "metadata": {},
   "outputs": [],
   "source": [
    "import matplotlib.pyplot as plt\n",
    "import numpy as np\n",
    "import numpy.random as nr\n",
    "import sympy as sym\n",
    "import IPython.display as disp\n",
    "\n",
    "sym.init_printing()\n",
    "\n"
   ]
  },
  {
   "cell_type": "markdown",
   "metadata": {},
   "source": [
    "# 선형 연립 방정식<br>Systems of Linear Equations\n",
    "\n"
   ]
  },
  {
   "cell_type": "markdown",
   "metadata": {},
   "source": [
    "미지수가 3개인 선형 연립 방정식을 생각해 보자.<br>Let's think about a system of linear equations with three unknowns.\n",
    "\n"
   ]
  },
  {
   "cell_type": "code",
   "execution_count": null,
   "metadata": {},
   "outputs": [],
   "source": [
    "n = 3\n",
    "\n",
    "x = np.array(sym.symbols(f'x:{n}'))\n",
    "x\n",
    "\n"
   ]
  },
  {
   "cell_type": "markdown",
   "metadata": {},
   "source": [
    "세 미지수를 모두 결정하려면, 보통 세개의 서로 선형 독립인 방정식이 필요하다.<br>To decide all three unknowns, usually we need three linearly independent equations.\n",
    "\n"
   ]
  },
  {
   "cell_type": "code",
   "execution_count": null,
   "metadata": {},
   "outputs": [],
   "source": [
    "a = np.array(sym.symbols(\n",
    "    f'a:{n}(:{n})'\n",
    ")).reshape((n, n)).tolist()\n",
    "\n",
    "b = sym.symbols(f'b:{n}')\n",
    "\n"
   ]
  },
  {
   "cell_type": "code",
   "execution_count": null,
   "metadata": {
    "scrolled": true
   },
   "outputs": [],
   "source": [
    "eqs = []\n",
    "for coefs, const in zip(a, b):\n",
    "    lhs = sum([aij * xj for aij, xj in zip(coefs, x)])\n",
    "    eq = sym.Eq(lhs, const)\n",
    "    eqs.append(eq)\n",
    "    disp.display(eq)\n",
    "\n"
   ]
  },
  {
   "cell_type": "markdown",
   "metadata": {},
   "source": [
    "행렬 형태로 정리해 보자<br>Let's rewrite in the matrix form\n",
    "\n"
   ]
  },
  {
   "cell_type": "code",
   "execution_count": null,
   "metadata": {
    "scrolled": true
   },
   "outputs": [],
   "source": [
    "matA = sym.Matrix(a)\n",
    "vecB = sym.Matrix(b)\n",
    "vecX = sym.Matrix(x)\n",
    "\n",
    "eq_mat = sym.Eq(matA * vecX, vecB)\n",
    "\n",
    "eq_mat\n",
    "\n"
   ]
  },
  {
   "cell_type": "markdown",
   "metadata": {},
   "source": [
    "여기서 계수 행렬과 상수 벡터만 생각해 보자.<br>Here, let's just think about the coefficient matrix and constant vector.\n",
    "\n"
   ]
  },
  {
   "cell_type": "code",
   "execution_count": null,
   "metadata": {},
   "outputs": [],
   "source": [
    "matAb = matA.col_insert(n, vecB)\n",
    "matAb\n",
    "\n"
   ]
  },
  {
   "cell_type": "markdown",
   "metadata": {},
   "source": [
    "## 가우스 소거법<br>Gauss Elimination\n",
    "\n"
   ]
  },
  {
   "cell_type": "markdown",
   "metadata": {},
   "source": [
    "다음 비디오는 가우스 소거법을 소개한다.<br>\n",
    "The following video introduces the Gauss Elimiation. (00:17 ~ 18:57)\n",
    "\n",
    "[![MIT OCW 18.06 Lecture 2 Gauss Elimination](https://i.ytimg.com/vi/QVKj3LADCnA/hqdefault.jpg)](https://www.youtube.com/watch?v=QVKj3LADCnA&list=PLE7DDD91010BC51F8&index=3&start=18&end=1137&version=3)\n",
    "\n"
   ]
  },
  {
   "cell_type": "code",
   "source": [
    "def hinton(matrix, max_weight=None, ax=None):\n",
    "    '''\n",
    "    Draw Hinton diagram for visualizing a weight matrix.\n",
    "    https://matplotlib.org/stable/gallery/specialty_plots/hinton_demo.html\n",
    "    '''\n",
    "    ax = ax if ax is not None else plt.gca()\n",
    "\n",
    "    if not max_weight:\n",
    "        max_weight = 2 ** np.ceil(np.log2(np.abs(matrix).max()))\n",
    "\n",
    "    ax.patch.set_facecolor('gray')\n",
    "    ax.set_aspect('equal', 'box')\n",
    "\n",
    "    ax.xaxis.set_major_locator(plt.NullLocator())\n",
    "    ax.yaxis.set_major_locator(plt.NullLocator())\n",
    "\n",
    "    for (y, x), w in np.ndenumerate(matrix):\n",
    "        color = 'white' if w > 0 else 'black'\n",
    "        size = np.sqrt(abs(w) / max_weight)\n",
    "        rect = plt.Rectangle([x - size / 2, y - size / 2], size, size,\n",
    "                             facecolor=color, edgecolor=color)\n",
    "        ax.add_patch(rect)\n",
    "\n",
    "    ax.autoscale_view()\n",
    "    ax.invert_yaxis()\n",
    "\n"
   ],
   "metadata": {},
   "execution_count": null,
   "outputs": []
  },
  {
   "cell_type": "markdown",
   "metadata": {},
   "source": [
    "비디오에서 제시한 연립 방정식을 생각해 보자.<br>\n",
    "Let's think about the system of equations of the video.\n",
    "\n"
   ]
  },
  {
   "cell_type": "code",
   "execution_count": null,
   "metadata": {},
   "outputs": [],
   "source": [
    "A = np.array([\n",
    "    [1, 2, 1],\n",
    "    [3, 8, 1],\n",
    "    [0, 4, 1],\n",
    "])\n",
    "A\n",
    "\n"
   ]
  },
  {
   "cell_type": "code",
   "execution_count": null,
   "metadata": {},
   "outputs": [],
   "source": [
    "b = np.array([\n",
    "    [2, 12, 2]\n",
    "]).T\n",
    "b\n",
    "\n"
   ]
  },
  {
   "cell_type": "markdown",
   "metadata": {},
   "source": [
    "행렬 A와 벡터 b를 붙인다.<br>\n",
    "Let's augument matrix A and b.\n",
    "\n"
   ]
  },
  {
   "cell_type": "code",
   "execution_count": null,
   "metadata": {
    "scrolled": true
   },
   "outputs": [],
   "source": [
    "Ab = np.hstack((A, b))\n",
    "Ab\n",
    "\n"
   ]
  },
  {
   "cell_type": "code",
   "source": [
    "hinton(Ab)\n",
    "\n"
   ],
   "metadata": {},
   "execution_count": null,
   "outputs": []
  },
  {
   "cell_type": "markdown",
   "metadata": {},
   "source": [
    "우선 첫 행의 첫 열 원소에 pivot 이라는 이름을 준다.<br>First, let's designate the first element of the first row as pivot.\n",
    "\n"
   ]
  },
  {
   "cell_type": "code",
   "execution_count": null,
   "metadata": {},
   "outputs": [],
   "source": [
    "p = 0\n",
    "pivot = Ab[p, p]\n",
    "pivot\n",
    "\n"
   ]
  },
  {
   "cell_type": "markdown",
   "metadata": {},
   "source": [
    "두번째 행 첫 열 원소를 pivot 으로 나눈 비를 계산한다.<br>\n",
    "Divide the element at the first column of the second row with pivot\n",
    "\n"
   ]
  },
  {
   "cell_type": "code",
   "execution_count": null,
   "metadata": {},
   "outputs": [],
   "source": [
    "i = p + 1\n",
    "multiplier = Ab[i, p] / pivot\n",
    "multiplier\n",
    "\n"
   ]
  },
  {
   "cell_type": "markdown",
   "metadata": {},
   "source": [
    "첫 행에 이 비를 곱한 후 둘째 행에서 뺀다.<br>Multiply the first row with this multiplier and subtract from the second row.\n",
    "\n"
   ]
  },
  {
   "cell_type": "code",
   "execution_count": null,
   "metadata": {
    "scrolled": false
   },
   "outputs": [],
   "source": [
    "Ab[i, :] = Ab[i, :] + (- multiplier) * Ab[p, :]\n",
    "Ab\n",
    "\n"
   ]
  },
  {
   "cell_type": "code",
   "source": [
    "hinton(Ab)\n",
    "\n"
   ],
   "metadata": {},
   "execution_count": null,
   "outputs": []
  },
  {
   "cell_type": "markdown",
   "metadata": {},
   "source": [
    "두번째 행 첫번째 열이 0이 되었음을 알 수 있다.<br>\n",
    "We can see that the second row first column is now zero.\n",
    "\n"
   ]
  },
  {
   "cell_type": "markdown",
   "metadata": {},
   "source": [
    "세번째 행 첫번째 열은 이미 0이다.<br>\n",
    "The third row first column is already zero.\n",
    "\n"
   ]
  },
  {
   "cell_type": "markdown",
   "metadata": {},
   "source": [
    "이제 p 에 1을 더하고 반복하자.<br>Now let's add 1 to `p` and repeat.\n",
    "\n"
   ]
  },
  {
   "cell_type": "code",
   "execution_count": null,
   "metadata": {},
   "outputs": [],
   "source": [
    "p += 1\n",
    "pivot = Ab[p, p]\n",
    "pivot\n",
    "\n"
   ]
  },
  {
   "cell_type": "markdown",
   "metadata": {},
   "source": [
    "`p+1` 행 `p` 열 원소를 `pivot` 으로 나눈 비를 계산한다.<br>\n",
    "Divide the element at the `p`th column of the `p+1`th row with pivot\n",
    "\n"
   ]
  },
  {
   "cell_type": "code",
   "execution_count": null,
   "metadata": {},
   "outputs": [],
   "source": [
    "i = p + 1\n",
    "multiplier = Ab[i, p] / pivot\n",
    "multiplier\n",
    "\n"
   ]
  },
  {
   "cell_type": "markdown",
   "metadata": {},
   "source": [
    "`p` 행에 이 비를 곱한 후 `p+1` 행에서 뺀다.<br>\n",
    "Multiply the `p`th row with this multiplier and subtract from the `p+1`th row.\n",
    "\n"
   ]
  },
  {
   "cell_type": "code",
   "execution_count": null,
   "metadata": {
    "scrolled": false
   },
   "outputs": [],
   "source": [
    "Ab[i, :]  = Ab[i, :] + (- multiplier) * Ab[p, :]\n",
    "Ab\n",
    "\n"
   ]
  },
  {
   "cell_type": "code",
   "source": [
    "hinton(Ab)\n",
    "\n"
   ],
   "metadata": {},
   "execution_count": null,
   "outputs": []
  },
  {
   "cell_type": "markdown",
   "metadata": {},
   "source": [
    "이런 식으로 왼쪽 위로부터 오른쪽 아래로의 주대각선 아래 원소를 모두 0으로 만든다.<br>This way, make all elements below main diagonal, from the left upper corner to the right lower direction, zero.\n",
    "\n"
   ]
  },
  {
   "cell_type": "markdown",
   "metadata": {},
   "source": [
    "## 후진대입법<br>Backward substitution\n",
    "\n"
   ]
  },
  {
   "cell_type": "markdown",
   "metadata": {},
   "source": [
    "주대각선 아래가 모두 0이라면 아래와 같이 생각해 볼 수 있다.<br>If all elements below the main diagonal are zeros, we may think as follows.\n",
    "\n"
   ]
  },
  {
   "cell_type": "code",
   "execution_count": null,
   "metadata": {},
   "outputs": [],
   "source": [
    "alpha = np.array(sym.symbols(\n",
    "    f'alpha:{n}(:{n})'\n",
    ")).reshape((n, n)).tolist()\n",
    "\n",
    "beta = sym.symbols(f'beta:{n}')\n",
    "\n"
   ]
  },
  {
   "cell_type": "code",
   "execution_count": null,
   "metadata": {
    "scrolled": true
   },
   "outputs": [],
   "source": [
    "eqs2 = []\n",
    "for p in range(n):\n",
    "    \n",
    "    lhs_list = []\n",
    "    for i in range(p, n):\n",
    "        lhs_list.append(alpha[p][i]*x[i])\n",
    "\n",
    "    eq = sym.Eq(sum(lhs_list), beta[p])\n",
    "    eqs2.append(eq)\n",
    "\n",
    "for eq in eqs2:\n",
    "    disp.display(eq)\n",
    "\n"
   ]
  },
  {
   "cell_type": "markdown",
   "metadata": {},
   "source": [
    "맨 마지막 행에서 마지막 미지수를 알 수 있다.<br>\n",
    "From the last row, we can find the last unknown.\n",
    "\n"
   ]
  },
  {
   "cell_type": "code",
   "execution_count": null,
   "metadata": {},
   "outputs": [],
   "source": [
    "sol = sym.Matrix([sym.Symbol('None')] * n)\n",
    "\n"
   ]
  },
  {
   "cell_type": "code",
   "execution_count": null,
   "metadata": {
    "scrolled": true
   },
   "outputs": [],
   "source": [
    "sol_n_1 = sym.solve(eqs2[-1], x[-1])\n",
    "sol[-1] = sol_n_1[0]\n",
    "disp.display(sol)\n",
    "\n"
   ]
  },
  {
   "cell_type": "markdown",
   "metadata": {},
   "source": [
    "그 하나 앞 미지수는 마지막에서 두번째 방정식에서 구할 수 있다.<br>We can find the second last unknown from the second last equation.\n",
    "\n"
   ]
  },
  {
   "cell_type": "code",
   "execution_count": null,
   "metadata": {},
   "outputs": [],
   "source": [
    "eqs2[-2].subs(x[-1], sol[-1])\n",
    "\n"
   ]
  },
  {
   "cell_type": "code",
   "execution_count": null,
   "metadata": {},
   "outputs": [],
   "source": [
    "sol_n_2 = sym.solve(eqs2[-2].subs(x[-1], sol[-1]), x[-2])\n",
    "sol[-2] = sol_n_2[0]\n",
    "disp.display(sol)\n",
    "\n"
   ]
  },
  {
   "cell_type": "markdown",
   "metadata": {},
   "source": [
    "반복하면 모든 해를 구할 수 있다.<br>We can find all solutions this way.\n",
    "\n"
   ]
  },
  {
   "cell_type": "markdown",
   "metadata": {},
   "source": [
    "## `numpy.linalg`\n",
    "\n"
   ]
  },
  {
   "cell_type": "markdown",
   "metadata": {},
   "source": [
    "`numpy.linalg` 의 `solve()` 함수를 이용할 수도 있다.<br>We can use `solve()` of `numpy.linalg`.\n",
    "\n"
   ]
  },
  {
   "cell_type": "code",
   "execution_count": null,
   "metadata": {},
   "outputs": [],
   "source": [
    "import numpy.linalg as nl\n",
    "\n",
    "x_sol = nl.solve(A, b)\n",
    "x_sol\n",
    "\n"
   ]
  },
  {
   "cell_type": "code",
   "execution_count": null,
   "metadata": {},
   "outputs": [],
   "source": [
    "import numpy.testing as nt\n",
    "nt.assert_allclose(A@x_sol, b)\n",
    "\n"
   ]
  },
  {
   "cell_type": "markdown",
   "metadata": {},
   "source": [
    "## 소거행렬<br>Elimination matrix\n",
    "\n"
   ]
  },
  {
   "cell_type": "markdown",
   "metadata": {},
   "source": [
    "위에서 소개했던 행열 연산을 행하는 행렬을 생각할 수 있다.<br>\n",
    "We can think about a matrix carrying out row-column operations above. (20:41 ~ 36:26)\n",
    "\n",
    "[![MIT OCW 18.06 Lecture 2 Gauss Elimination](https://i.ytimg.com/vi/QVKj3LADCnA/hqdefault.jpg)](https://www.youtube.com/watch?v=QVKj3LADCnA&list=PLE7DDD91010BC51F8&index=3&start=1242&end=2186)\n"
   ]
  },
  {
   "cell_type": "markdown",
   "metadata": {},
   "source": [
    "2행1열 소거:<br>\n",
    "Eliminate row 2 column 1:\n",
    "\n"
   ]
  },
  {
   "cell_type": "code",
   "execution_count": null,
   "metadata": {},
   "outputs": [],
   "source": [
    "E21 = np.array([\n",
    "    [1, 0, 0],\n",
    "    [-3, 1, 0],\n",
    "    [0, 0, 1]\n",
    "])\n",
    "\n"
   ]
  },
  {
   "cell_type": "code",
   "execution_count": null,
   "metadata": {},
   "outputs": [],
   "source": [
    "E21 @ A\n",
    "\n"
   ]
  },
  {
   "cell_type": "markdown",
   "metadata": {},
   "source": [
    "3행2열 소거:<br>\n",
    "Eliminate row 3 column 2:\n",
    "\n"
   ]
  },
  {
   "cell_type": "code",
   "execution_count": null,
   "metadata": {},
   "outputs": [],
   "source": [
    "E32 = np.array([\n",
    "    [1, 0, 0],\n",
    "    [0, 1, 0],\n",
    "    [0, -2, 1]\n",
    "])\n",
    "\n"
   ]
  },
  {
   "cell_type": "code",
   "execution_count": null,
   "metadata": {
    "scrolled": true
   },
   "outputs": [],
   "source": [
    "E32 @ (E21 @ A)\n",
    "\n"
   ]
  },
  {
   "cell_type": "markdown",
   "metadata": {},
   "source": [
    "교환법칙은 성립하는가?<br>\n",
    "Commutative?\n",
    "\n"
   ]
  },
  {
   "cell_type": "code",
   "execution_count": null,
   "metadata": {
    "scrolled": true
   },
   "outputs": [],
   "source": [
    "E21 @ E32 @ A\n"
   ]
  },
  {
   "cell_type": "markdown",
   "metadata": {},
   "source": [
    "결합법칙은 성립하는가?<br>\n",
    "Associative?\n",
    "\n"
   ]
  },
  {
   "cell_type": "code",
   "execution_count": null,
   "metadata": {},
   "outputs": [],
   "source": [
    "(E32 @ E21) @ A\n",
    "\n"
   ]
  },
  {
   "cell_type": "markdown",
   "metadata": {},
   "source": [
    "위 두 행렬의 곱:<br>\n",
    "Product of the two matrices above:\n",
    "\n"
   ]
  },
  {
   "cell_type": "code",
   "execution_count": null,
   "metadata": {},
   "outputs": [],
   "source": [
    "E = E32 @ E21\n",
    "\n"
   ]
  },
  {
   "cell_type": "code",
   "execution_count": null,
   "metadata": {},
   "outputs": [],
   "source": [
    "E\n",
    "\n"
   ]
  },
  {
   "cell_type": "markdown",
   "metadata": {},
   "source": [
    "E 행렬과 A 행렬의 곱은 상삼각 행렬이다.<br>\n",
    "The product of matricies of E and A is the upper triangular matrix.\n",
    "\n"
   ]
  },
  {
   "cell_type": "code",
   "execution_count": null,
   "metadata": {},
   "outputs": [],
   "source": [
    "E @ A\n",
    "\n"
   ]
  },
  {
   "cell_type": "markdown",
   "metadata": {},
   "source": [
    "## 표준 기능으로 구현한 가우스 소거법<br>Gauss Elimination in Standard library\n",
    "\n"
   ]
  },
  {
   "cell_type": "markdown",
   "metadata": {},
   "source": [
    "다음 셀은 가우스 소거법을 표준기능 만으로 구현한다.<br>\n",
    "Following cell implements the Gauss elimination with standard library only.\n",
    "\n"
   ]
  },
  {
   "cell_type": "code",
   "execution_count": null,
   "metadata": {},
   "outputs": [],
   "source": [
    "from typing import List, Union\n",
    "\n",
    "Scalar = Union[int, float]\n",
    "Row = List[Scalar]\n",
    "Matrix = List[Row]\n",
    "\n",
    "\n",
    "def gauss_elimination(Ab:Matrix, epsilon:float=1e-7) -> None:\n",
    "\n",
    "    # pivot loop\n",
    "    for p in range(0, len(Ab)-1):\n",
    "        pivot = Ab[p][p]\n",
    "        assert abs(pivot) > epsilon, (\n",
    "            f\"At p={p}, pivot={pivot} seems too small\"\n",
    "        )\n",
    "        one_over_minus_pivot = -1.0 / pivot\n",
    "\n",
    "        # row loop\n",
    "        for i in range(p+1, len(Ab)):\n",
    "            multiplier = Ab[i][p] * one_over_minus_pivot\n",
    "\n",
    "            # column loop\n",
    "            for j in range(p, len(Ab[p])):\n",
    "                Ab[i][j] += multiplier * Ab[p][j]\n",
    "\n"
   ]
  },
  {
   "cell_type": "markdown",
   "metadata": {},
   "source": [
    "위 행렬의 예로 확인해 보자.<br>\n",
    "Let's check with the matrix above.\n",
    "\n"
   ]
  },
  {
   "cell_type": "code",
   "execution_count": null,
   "metadata": {},
   "outputs": [],
   "source": [
    "Ab_list = [\n",
    "    [1, 2, 1,  2],\n",
    "    [3, 8, 1, 12],\n",
    "    [0, 4, 1,  2],\n",
    "]\n",
    "\n"
   ]
  },
  {
   "cell_type": "code",
   "source": [
    "hinton(Ab_list)\n",
    "\n"
   ],
   "metadata": {},
   "execution_count": null,
   "outputs": []
  },
  {
   "cell_type": "code",
   "execution_count": null,
   "metadata": {},
   "outputs": [],
   "source": [
    "gauss_elimination(Ab_list)\n",
    "\n"
   ]
  },
  {
   "cell_type": "code",
   "execution_count": null,
   "metadata": {},
   "outputs": [],
   "source": [
    "import pprint\n",
    "pprint.pprint(Ab_list, width=40)\n",
    "\n"
   ]
  },
  {
   "cell_type": "code",
   "source": [
    "hinton(Ab_list)\n",
    "\n"
   ],
   "metadata": {},
   "execution_count": null,
   "outputs": []
  },
  {
   "cell_type": "markdown",
   "metadata": {},
   "source": [
    "다음 셀은 후진대입법을 표준기능 만으로 구현한다.<br>\n",
    "Following cell implements the back substitution with standard library only.\n",
    "\n"
   ]
  },
  {
   "cell_type": "code",
   "execution_count": null,
   "metadata": {},
   "outputs": [],
   "source": [
    "def back_substitution(Uc:Matrix, epsilon:float=1e-7) -> Row:\n",
    "\n",
    "    # number of unknowns\n",
    "    n = len(Uc)\n",
    "    result = [None] * n\n",
    "\n",
    "    # last unknown\n",
    "    result[n-1] = Uc[n-1][n] / Uc[n-1][n-1]\n",
    "\n",
    "    # row loop from second last to the first unknowns\n",
    "    for i in range(n-2, 0-1, -1):\n",
    "        s = Uc[i][n]\n",
    "\n",
    "        # column loop\n",
    "        for j in range(i+1, n-1+1):\n",
    "            s += (-1) * result[j] * Uc[i][j]\n",
    "\n",
    "        assert abs(Uc[i][i]) > epsilon, (\n",
    "            f\"At i={i}, pivot={Uc[i][i]} seems too small\"\n",
    "        )\n",
    "        result[i] = s / Uc[i][i]\n",
    "\n",
    "    return result\n",
    "\n"
   ]
  },
  {
   "cell_type": "code",
   "execution_count": null,
   "metadata": {},
   "outputs": [],
   "source": [
    "back_substitution(Ab_list)\n",
    "\n"
   ]
  },
  {
   "cell_type": "markdown",
   "metadata": {},
   "source": [
    "## 연습 문제<br>Exercise\n",
    "\n"
   ]
  },
  {
   "cell_type": "markdown",
   "metadata": {},
   "source": [
    "위 방법을 적용 가능한 공학 문제 사례를 설명하고 `numpy.linalg.solve()`로 해를 구해 보시오. 이렇게 구한 해가 맞는지 어떻게 확인할 수 있는가?<br>\n",
    "Describe an engineering problem that we can apply the method above and find the solution using `numpy.linalg.solve()`. How can we verify if the solution is correct?\n",
    "\n"
   ]
  },
  {
   "cell_type": "markdown",
   "metadata": {},
   "source": [
    "## 참고문헌<br>References\n",
    "\n"
   ]
  },
  {
   "cell_type": "markdown",
   "metadata": {},
   "source": [
    "* Gilbert Strang. 18.06 Linear Algebra. Spring 2010. Massachusetts Institute of Technology: MIT OpenCourseWare, https://ocw.mit.edu. License: Creative Commons BY-NC-SA.\n"
   ]
  },
  {
   "cell_type": "markdown",
   "metadata": {},
   "source": [
    "## Final Bell<br>마지막 종\n",
    "\n"
   ]
  },
  {
   "cell_type": "code",
   "execution_count": null,
   "metadata": {},
   "outputs": [],
   "source": [
    "# stackoverfow.com/a/24634221\n",
    "import os\n",
    "os.system(\"printf '\\a'\");\n",
    "\n"
   ]
  },
  {
   "cell_type": "code",
   "execution_count": null,
   "metadata": {},
   "outputs": [],
   "source": []
  }
 ],
 "metadata": {
  "kernelspec": {
   "display_name": "Python 3",
   "language": "python",
   "name": "python3"
  },
  "language_info": {
   "codemirror_mode": {
    "name": "ipython",
    "version": 3
   },
   "file_extension": ".py",
   "mimetype": "text/x-python",
   "name": "python",
   "nbconvert_exporter": "python",
   "pygments_lexer": "ipython3",
   "version": "3.8.8"
  },
  "colab": {
   "provenance": [],
   "include_colab_link": true
  }
 },
 "nbformat": 4,
 "nbformat_minor": 0
}