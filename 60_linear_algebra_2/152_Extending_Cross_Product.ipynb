{
 "cells": [
  {
   "cell_type": "markdown",
   "metadata": {
    "id": "view-in-github",
    "colab_type": "text"
   },
   "source": [
    "<a href=\"https://colab.research.google.com/github/kangwonlee/nmisp/blob/n-1-ary-cross-product/60_linear_algebra_2/152_Extending_Cross_Product.ipynb\" target=\"_parent\"><img src=\"https://colab.research.google.com/assets/colab-badge.svg\" alt=\"Open In Colab\"/></a>\n"
   ]
  },
  {
   "cell_type": "code",
   "execution_count": null,
   "metadata": {},
   "outputs": [],
   "source": [
    "import numpy as np\n",
    "import numpy.linalg as nl\n",
    "import numpy.random as nr\n",
    "import numpy.testing as nt\n",
    "\n",
    "nr.seed()\n",
    "\n"
   ]
  },
  {
   "cell_type": "markdown",
   "metadata": {},
   "source": [
    "## Determinant for Finding Orthogonal Vectors in n-D<br>n 차원에서의 n-1 개의 벡터에 수직인 벡터를 행렬식으로 찾아 보자.\n",
    "\n"
   ]
  },
  {
   "cell_type": "markdown",
   "metadata": {},
   "source": [
    "### 3-space cross product<br>3차원 외적\n",
    "\n"
   ]
  },
  {
   "cell_type": "markdown",
   "metadata": {},
   "source": [
    "$$\n",
    "\\begin{pmatrix}\n",
    "  u_0 \\\\ u_1 \\\\ u_2\n",
    "\\end{pmatrix}\n",
    "\\times\n",
    "\\begin{pmatrix}\n",
    "  v_0 \\\\ v_1 \\\\ v_2\n",
    "\\end{pmatrix}\n",
    "=\n",
    "\\begin{vmatrix}\n",
    "  \\mathbf{i} & \\mathbf{j} & \\mathbf{k} \\\\\n",
    "  u_0 & u_1 & u_2 \\\\\n",
    "  v_0 & v_1 & v_2 \\\\\n",
    "\\end{vmatrix}\n",
    "$$\n",
    "\n"
   ]
  },
  {
   "cell_type": "code",
   "execution_count": null,
   "metadata": {},
   "outputs": [],
   "source": [
    "n = 3\n",
    "\n"
   ]
  },
  {
   "cell_type": "code",
   "execution_count": null,
   "metadata": {},
   "outputs": [],
   "source": [
    "u = nr.random((n, 1))\n",
    "u\n",
    "\n"
   ]
  },
  {
   "cell_type": "code",
   "execution_count": null,
   "metadata": {},
   "outputs": [],
   "source": [
    "v = nr.random((n, 1))\n",
    "v\n",
    "\n"
   ]
  },
  {
   "cell_type": "markdown",
   "metadata": {},
   "source": [
    "Normal vector<br>수직인 벡터\n",
    "\n"
   ]
  },
  {
   "cell_type": "code",
   "execution_count": null,
   "metadata": {},
   "outputs": [],
   "source": [
    "normal_vector = np.cross(u.T, v.T).T\n",
    "normal_vector\n",
    "\n"
   ]
  },
  {
   "cell_type": "markdown",
   "metadata": {},
   "source": [
    "Verification<br>확인\n",
    "\n"
   ]
  },
  {
   "cell_type": "code",
   "execution_count": null,
   "metadata": {},
   "outputs": [],
   "source": [
    "nt.assert_almost_equal(u.T @ normal_vector, 0)\n",
    "nt.assert_almost_equal(v.T @ normal_vector, 0)\n",
    "\n"
   ]
  },
  {
   "cell_type": "markdown",
   "metadata": {},
   "source": [
    "### Finding a vector orthogonal to 3 vectors in the 4-space<br>3개의 4차원 벡터와 수직인 벡터를 찾아 보자.\n",
    "\n"
   ]
  },
  {
   "cell_type": "markdown",
   "metadata": {},
   "source": [
    "$$\n",
    "\\begin{vmatrix}\n",
    "  \\mathbf{e_0} & \\mathbf{e_1} & \\mathbf{e_2} & \\mathbf{e_3} \\\\\n",
    "  u_0 & u_1 & u_2 & u_3 \\\\\n",
    "  v_0 & v_1 & v_2 & v_3 \\\\\n",
    "  w_0 & w_1 & w_2 & w_3 \\\\\n",
    "\\end{vmatrix}\n",
    "$$\n",
    "\n"
   ]
  },
  {
   "cell_type": "code",
   "execution_count": null,
   "metadata": {},
   "outputs": [],
   "source": [
    "n = 4\n",
    "\n"
   ]
  },
  {
   "cell_type": "code",
   "execution_count": null,
   "metadata": {},
   "outputs": [],
   "source": [
    "u = nr.random((n, 1))\n",
    "u\n",
    "\n"
   ]
  },
  {
   "cell_type": "code",
   "execution_count": null,
   "metadata": {},
   "outputs": [],
   "source": [
    "v = nr.random((n, 1))\n",
    "v\n",
    "\n"
   ]
  },
  {
   "cell_type": "code",
   "execution_count": null,
   "metadata": {},
   "outputs": [],
   "source": [
    "w = nr.random((n, 1))\n",
    "w\n",
    "\n"
   ]
  },
  {
   "cell_type": "markdown",
   "metadata": {},
   "source": [
    "Normal vector<br>수직인 벡터\n",
    "\n"
   ]
  },
  {
   "cell_type": "code",
   "execution_count": null,
   "metadata": {},
   "outputs": [],
   "source": [
    "def find_orthogonal(*argv):\n",
    "    n_vec = len(argv)\n",
    "    n = n_vec + 1\n",
    "    assert all(\n",
    "        map(\n",
    "            lambda v:v.shape[0] == n,\n",
    "            argv\n",
    "        )\n",
    "    )\n",
    "\n",
    "    rows = np.hstack(argv).T\n",
    "    cols_template = list(range(n))\n",
    "\n",
    "    result = []\n",
    "\n",
    "    for k in range(n):\n",
    "        cols = list(cols_template)\n",
    "        cols.remove(k)\n",
    "\n",
    "        rows_k = rows[:, cols]\n",
    "        result.append(nl.det(rows_k) * ((-1)**k))\n",
    "\n",
    "    return np.array([result]).T\n",
    "\n"
   ]
  },
  {
   "cell_type": "code",
   "execution_count": null,
   "metadata": {},
   "outputs": [],
   "source": [
    "normal_vector = find_orthogonal(u, v, w)\n",
    "normal_vector\n",
    "\n"
   ]
  },
  {
   "cell_type": "markdown",
   "metadata": {},
   "source": [
    "Verification<br>확인\n",
    "\n"
   ]
  },
  {
   "cell_type": "code",
   "execution_count": null,
   "metadata": {},
   "outputs": [],
   "source": [
    "nt.assert_almost_equal(u.T @ normal_vector, 0)\n",
    "nt.assert_almost_equal(v.T @ normal_vector, 0)\n",
    "nt.assert_almost_equal(w.T @ normal_vector, 0)\n",
    "\n"
   ]
  },
  {
   "cell_type": "code",
   "execution_count": null,
   "metadata": {},
   "outputs": [],
   "source": []
  }
 ],
 "metadata": {
  "kernelspec": {
   "display_name": "Python 3 (ipykernel)",
   "language": "python",
   "name": "python3"
  },
  "language_info": {
   "codemirror_mode": {
    "name": "ipython",
    "version": 3
   },
   "file_extension": ".py",
   "mimetype": "text/x-python",
   "name": "python",
   "nbconvert_exporter": "python",
   "pygments_lexer": "ipython3",
   "version": "3.10.0"
  }
 },
 "nbformat": 4,
 "nbformat_minor": 5
}