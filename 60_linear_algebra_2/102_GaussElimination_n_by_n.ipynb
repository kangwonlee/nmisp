{
 "cells": [
  {
   "cell_type": "markdown",
   "metadata": {
    "id": "view-in-github",
    "colab_type": "text"
   },
   "source": [
    "<a href=\"https://colab.research.google.com/github/kangwonlee/nmisp/blob/lecture-idea/60_linear_algebra_2/102_GaussElimination_n_by_n.ipynb\" target=\"_parent\"><img src=\"https://colab.research.google.com/assets/colab-badge.svg\" alt=\"Open In Colab\"/></a>\n"
   ]
  },
  {
   "cell_type": "code",
   "execution_count": null,
   "metadata": {},
   "outputs": [],
   "source": [
    "import time\n",
    "\n",
    "from typing import List, Union\n",
    "\n",
    "import matplotlib.pyplot as plt\n",
    "import numpy as np\n",
    "import numpy.random as nr\n",
    "\n"
   ]
  },
  {
   "cell_type": "code",
   "source": [
    "Scalar = Union[int, float]\n",
    "Row = List[Scalar]\n",
    "Matrix = List[Row]\n",
    "\n"
   ],
   "metadata": {},
   "execution_count": null,
   "outputs": []
  },
  {
   "cell_type": "markdown",
   "metadata": {},
   "source": [
    "# Gauss Elimination example of a random $7 \\times 7$ matrix<br>무작위 수로 만든 $7 \\times 7$ 행렬 가우스 소거법 사례\n",
    "\n"
   ]
  },
  {
   "cell_type": "code",
   "source": [
    "def hinton(matrix:Matrix, max_weight=None, ax=None):\n",
    "    '''\n",
    "    Draw Hinton diagram for visualizing a matrix.\n",
    "    https://matplotlib.org/stable/gallery/specialty_plots/hinton_demo.html\n",
    "    '''\n",
    "    ax = ax if ax is not None else plt.gca()\n",
    "\n",
    "    if not max_weight:\n",
    "        max_weight = 2 ** np.ceil(np.log2(np.abs(matrix).max()))\n",
    "\n",
    "    ax.patch.set_facecolor('gray')\n",
    "    ax.set_aspect('equal', 'box')\n",
    "\n",
    "    ax.xaxis.set_major_locator(plt.NullLocator())\n",
    "    ax.yaxis.set_major_locator(plt.NullLocator())\n",
    "\n",
    "    for (y, x), w in np.ndenumerate(matrix):\n",
    "        color = 'white' if w > 0 else 'black'\n",
    "        size = np.sqrt(abs(w) / max_weight)\n",
    "        rect = plt.Rectangle([x - size / 2, y - size / 2], size, size,\n",
    "                             facecolor=color, edgecolor=color)\n",
    "        ax.add_patch(rect)\n",
    "\n",
    "    ax.autoscale_view()\n",
    "    ax.invert_yaxis()\n",
    "\n",
    "    plt.show()\n",
    "    plt.close()\n",
    "\n"
   ],
   "metadata": {},
   "execution_count": null,
   "outputs": []
  },
  {
   "cell_type": "code",
   "source": [
    "n = 7\n",
    "\n",
    "mA = (nr.random((n, n)) - 0.5) + np.diag([1]*n)\n",
    "vb = nr.random((n, 1))\n",
    "\n",
    "mAb = np.hstack((mA, vb))\n",
    "\n",
    "hinton(mAb)\n",
    "\n"
   ],
   "metadata": {},
   "execution_count": null,
   "outputs": []
  },
  {
   "cell_type": "code",
   "source": [
    "def gauss_elimination(Ab:Matrix) -> None:\n",
    "\n",
    "    # pivot loop\n",
    "    for p in range(0, len(Ab)-1):\n",
    "        pivot = Ab[p][p]\n",
    "        one_over_minus_pivot = -1.0 / pivot\n",
    "        # row loop\n",
    "        for i in range(p+1, len(Ab)):\n",
    "            multiplier = Ab[i][p] * one_over_minus_pivot\n",
    "            # column loop\n",
    "            for j in range(p, len(Ab[p])):\n",
    "                Ab[i][j] += multiplier * Ab[p][j]\n",
    "\n",
    "            print(f\"p = {p}, i = {i}, n = {len(Ab)}\")\n",
    "            hinton(Ab)\n",
    "            time.sleep(1.0)\n",
    "\n"
   ],
   "metadata": {},
   "execution_count": null,
   "outputs": []
  },
  {
   "cell_type": "code",
   "source": [
    "gauss_elimination(mAb.tolist())\n",
    "\n"
   ],
   "metadata": {},
   "execution_count": null,
   "outputs": []
  },
  {
   "cell_type": "code",
   "source": [
    "mAb.shape\n",
    "\n"
   ],
   "metadata": {},
   "execution_count": null,
   "outputs": []
  },
  {
   "cell_type": "markdown",
   "metadata": {},
   "source": [
    "## Final Bell<br>마지막 종\n",
    "\n"
   ]
  },
  {
   "cell_type": "code",
   "execution_count": null,
   "metadata": {},
   "outputs": [],
   "source": [
    "# stackoverfow.com/a/24634221\n",
    "import os\n",
    "os.system(\"printf '\\a'\");\n",
    "\n"
   ]
  },
  {
   "cell_type": "code",
   "execution_count": null,
   "metadata": {},
   "outputs": [],
   "source": []
  }
 ],
 "metadata": {
  "kernelspec": {
   "display_name": "Python 3",
   "language": "python",
   "name": "python3"
  },
  "language_info": {
   "codemirror_mode": {
    "name": "ipython",
    "version": 3
   },
   "file_extension": ".py",
   "mimetype": "text/x-python",
   "name": "python",
   "nbconvert_exporter": "python",
   "pygments_lexer": "ipython3",
   "version": "3.8.8"
  },
  "colab": {
   "provenance": [],
   "include_colab_link": true
  }
 },
 "nbformat": 4,
 "nbformat_minor": 0
}