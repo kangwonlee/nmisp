{
 "cells": [
  {
   "cell_type": "markdown",
   "metadata": {
    "id": "view-in-github",
    "colab_type": "text"
   },
   "source": [
    "<a href=\"https://colab.research.google.com/github/kangwonlee/nmisp/blob/dependabot/pip/tests/requests-2.31.0/60_linear_algebra_2/200_Eigenvalues_of_a_Matrix_PowerMethod.ipynb\" target=\"_parent\"><img src=\"https://colab.research.google.com/assets/colab-badge.svg\" alt=\"Open In Colab\"/></a>\n"
   ]
  },
  {
   "cell_type": "markdown",
   "metadata": {},
   "source": [
    "# 행렬의 고유치<br>Eigenvalues of a Matrix\n",
    "\n"
   ]
  },
  {
   "cell_type": "markdown",
   "metadata": {},
   "source": [
    "임의의 $n \\times n$ 행렬을 생각해 보자.<br>\n",
    "Let's think about an arbitrary $n \\times n$ matrix.\n",
    "\n"
   ]
  },
  {
   "cell_type": "code",
   "execution_count": null,
   "metadata": {},
   "outputs": [],
   "source": [
    "n = 2\n",
    "\n"
   ]
  },
  {
   "cell_type": "code",
   "execution_count": null,
   "metadata": {},
   "outputs": [],
   "source": [
    "import matplotlib.pyplot as plt\n",
    "import numpy as np\n",
    "import numpy.random as nr\n",
    "import numpy.linalg as nl\n",
    "\n",
    "matA = nr.randint(1, 10, size=(n,n))\n",
    "for p in range(n):\n",
    "    matA[p, p] = nr.randint(10, 20)\n",
    "matA = (matA * matA.T) ** 0.5\n",
    "matA\n",
    "\n"
   ]
  },
  {
   "cell_type": "markdown",
   "metadata": {},
   "source": [
    "1이 $n \\times 1$ 인 벡터 $x$ 를 생각해 보자.<br>Let's think about a vector $x$ of ones in $n \\times 1$ shape.\n",
    "\n"
   ]
  },
  {
   "cell_type": "code",
   "execution_count": null,
   "metadata": {
    "scrolled": true
   },
   "outputs": [],
   "source": [
    "vecX = np.ones(n)\n",
    "vecX\n",
    "\n"
   ]
  },
  {
   "cell_type": "markdown",
   "metadata": {},
   "source": [
    "나중에 사용하기 위해 `vecX`를 리스트에 저장해 두자.<br>\n",
    "To use later, let's store `vecX` in a list.\n",
    "\n"
   ]
  },
  {
   "cell_type": "code",
   "execution_count": null,
   "metadata": {},
   "outputs": [],
   "source": [
    "vec_list = [vecX]\n",
    "\n"
   ]
  },
  {
   "cell_type": "markdown",
   "metadata": {},
   "source": [
    "행렬과 벡터$x$를 곱하여 그 결과 벡터를 $y$라고 부르자.<br>Let's multiply the matrix and the vector $x$ and name the product vector as $y$.\n",
    "\n"
   ]
  },
  {
   "cell_type": "code",
   "execution_count": null,
   "metadata": {
    "scrolled": true
   },
   "outputs": [],
   "source": [
    "vecY = matA @ vecX\n",
    "vecY\n",
    "\n"
   ]
  },
  {
   "cell_type": "markdown",
   "metadata": {},
   "source": [
    "곱한 결과의 요소 가운데 절대값이 가장 큰 값을 찾는다.<br>Find the element with the largest absolute value.\n",
    "\n"
   ]
  },
  {
   "cell_type": "code",
   "execution_count": null,
   "metadata": {},
   "outputs": [],
   "source": [
    "lam = abs(vecY).max()\n",
    "lam\n",
    "\n"
   ]
  },
  {
   "cell_type": "markdown",
   "metadata": {},
   "source": [
    "벡터 $y$ 를 이 값으로 나눈다.  (이를 *정규화* 라고 부른다.)<br>\n",
    "Normalize the vector $y$ with this value.  (We call this *normalization*.)\n",
    "\n"
   ]
  },
  {
   "cell_type": "code",
   "execution_count": null,
   "metadata": {},
   "outputs": [],
   "source": [
    "vecY *= 1.0 / lam\n",
    "vecY\n",
    "\n"
   ]
  },
  {
   "cell_type": "markdown",
   "metadata": {},
   "source": [
    "이 `vecY`도 리스트에 저장해 두자.<br>\n",
    "Let's store `vecY` in the list.\n",
    "\n"
   ]
  },
  {
   "cell_type": "code",
   "execution_count": null,
   "metadata": {},
   "outputs": [],
   "source": [
    "vec_list.append(vecY)\n",
    "\n"
   ]
  },
  {
   "cell_type": "markdown",
   "metadata": {},
   "source": [
    "원래 벡터 $x$와 $y$의 차의 크기를 계산한다.<br>Find the norm of the difference between vector $x$ and $y$.\n",
    "\n"
   ]
  },
  {
   "cell_type": "code",
   "execution_count": null,
   "metadata": {},
   "outputs": [],
   "source": [
    "nl.norm(vecX - vecY)\n",
    "\n"
   ]
  },
  {
   "cell_type": "code",
   "execution_count": null,
   "metadata": {},
   "outputs": [],
   "source": [
    "vecX = vecY\n",
    "\n"
   ]
  },
  {
   "cell_type": "markdown",
   "metadata": {},
   "source": [
    "이를 반복하자.<br>Let's repeat this.\n",
    "\n"
   ]
  },
  {
   "cell_type": "code",
   "execution_count": null,
   "metadata": {
    "scrolled": true
   },
   "outputs": [],
   "source": [
    "vecY = matA @ vecX\n",
    "vecY\n",
    "\n"
   ]
  },
  {
   "cell_type": "code",
   "execution_count": null,
   "metadata": {},
   "outputs": [],
   "source": [
    "lam = abs(vecY).max()\n",
    "lam\n",
    "\n"
   ]
  },
  {
   "cell_type": "code",
   "execution_count": null,
   "metadata": {},
   "outputs": [],
   "source": [
    "vecY *= 1.0 / lam\n",
    "\n"
   ]
  },
  {
   "cell_type": "markdown",
   "metadata": {},
   "source": [
    "이 `vecY`도 리스트에 저장해 두자.<br>\n",
    "Let's store `vecY` in the list.\n",
    "\n"
   ]
  },
  {
   "cell_type": "code",
   "execution_count": null,
   "metadata": {},
   "outputs": [],
   "source": [
    "vec_list.append(vecY)\n",
    "\n"
   ]
  },
  {
   "cell_type": "markdown",
   "metadata": {},
   "source": [
    "벡터 $x$와 $y$의 차의 크기가 감소하는가?<br>Is the norm of the difference vector decreasing?\n",
    "\n"
   ]
  },
  {
   "cell_type": "code",
   "execution_count": null,
   "metadata": {},
   "outputs": [],
   "source": [
    "nl.norm(vecX - vecY)\n",
    "\n"
   ]
  },
  {
   "cell_type": "code",
   "execution_count": null,
   "metadata": {},
   "outputs": [],
   "source": [
    "vecX = vecY\n",
    "\n"
   ]
  },
  {
   "cell_type": "markdown",
   "metadata": {},
   "source": [
    "반복문을 이용해 보자.<br>Let's use a loop\n",
    "\n"
   ]
  },
  {
   "cell_type": "code",
   "execution_count": null,
   "metadata": {},
   "outputs": [],
   "source": [
    "epsilon = 1e-7\n",
    "\n",
    "for i in range(100000):\n",
    "    vecY = matA @ vecX\n",
    "    lam = abs(vecY).max()\n",
    "    vecY *= 1.0 / lam\n",
    "\n",
    "    vec_list.append(vecY)\n",
    "\n",
    "    norm = nl.norm(vecX - vecY)\n",
    "    if norm < epsilon:\n",
    "        break\n",
    "\n",
    "    vecX = vecY\n",
    "\n"
   ]
  },
  {
   "cell_type": "code",
   "execution_count": null,
   "metadata": {
    "scrolled": true
   },
   "outputs": [],
   "source": [
    "print(f'lam = {lam}')\n",
    "print(f'vecX = {vecX}')\n",
    "print(f'vecY = {vecY}')\n",
    "print(f'vecX - vecY = {vecX - vecY}')\n",
    "print(f'counter = {i}')\n",
    "print(f'norm = {norm}')\n",
    "\n"
   ]
  },
  {
   "cell_type": "markdown",
   "metadata": {},
   "source": [
    "위에서 구한 벡터와 행렬을 곱해 보자.<br>Let's multiply the result vector and the matrix.\n",
    "\n"
   ]
  },
  {
   "cell_type": "code",
   "execution_count": null,
   "metadata": {},
   "outputs": [],
   "source": [
    "b = matA @ vecY\n",
    "\n"
   ]
  },
  {
   "cell_type": "code",
   "execution_count": null,
   "metadata": {},
   "outputs": [],
   "source": [
    "b / vecY\n",
    "\n"
   ]
  },
  {
   "cell_type": "markdown",
   "metadata": {},
   "source": [
    "위 결과의 의미는?<br>What does this result mean?\n",
    "\n"
   ]
  },
  {
   "cell_type": "markdown",
   "metadata": {},
   "source": [
    "\n",
    "### `vecY` 시각화<br>Visualization of `vecY`\n",
    "\n"
   ]
  },
  {
   "cell_type": "code",
   "execution_count": null,
   "metadata": {},
   "outputs": [],
   "source": [
    "if 2 == n:\n",
    "    vec_array = np.array(vec_list)\n",
    "    vec_x = vec_array[:, 0]\n",
    "    vec_y = vec_array[:, 1]\n",
    "\n",
    "    plt.plot(vec_x[0], vec_y[0], 'r.', label='initial')\n",
    "    plt.plot(vec_x[-1], vec_y[-1], 'x', label='final')\n",
    "\n",
    "    head_length = 0.1\n",
    "\n",
    "    for xi, yi in zip(vec_x, vec_y):\n",
    "      s = (xi**2 + yi**2) ** 0.5\n",
    "\n",
    "      r = (s - head_length) / s\n",
    "\n",
    "      plt.arrow(0, 0, xi*r, yi*r, head_width=0.05, head_length=0.1, fc='k', ec='k')\n",
    "\n",
    "    plt.ylim(0, max(vec_y)*1.1)\n",
    "    plt.grid(True)\n",
    "    plt.legend(loc=0)\n",
    "\n",
    "    plt.savefig('vec_points.png', dpi=300)\n",
    "\n"
   ]
  },
  {
   "cell_type": "markdown",
   "metadata": {},
   "source": [
    "## Power Method\n",
    "\n"
   ]
  },
  {
   "cell_type": "markdown",
   "metadata": {},
   "source": [
    "행렬의 가장 큰 고유치와 그 고유벡터를 계산하는 함수를 만들어 볼 수 있다.<br>\n",
    "We can write a function calculating the largest eigenvalue and its eigenvector.\n",
    "\n"
   ]
  },
  {
   "cell_type": "code",
   "execution_count": null,
   "metadata": {},
   "outputs": [],
   "source": [
    "def power_method(matA:np.ndarray, vecX:np.ndarray=None, epsilon:float=1e-7, n_iter_max:int=100000):\n",
    "    n = matA.shape[0]\n",
    "    \n",
    "    if vecX is None:\n",
    "        vecX = np.ones(n)\n",
    "\n",
    "    for i in range(n_iter_max):\n",
    "\n",
    "        vecY = matA @ vecX\n",
    "        lam = abs(vecY).max()\n",
    "        vecY *= 1.0 / lam\n",
    "\n",
    "        norm = nl.norm(vecX - vecY)\n",
    "        if norm < epsilon:\n",
    "            break\n",
    "\n",
    "        vecX = vecY\n",
    "\n",
    "\n",
    "    return lam, vecY, i\n",
    "\n"
   ]
  },
  {
   "cell_type": "code",
   "execution_count": null,
   "metadata": {},
   "outputs": [],
   "source": [
    "lam, vecX, n = power_method(matA)\n",
    "\n",
    "print(f'lam = {lam}')\n",
    "print(f'vecX = {vecX}')\n",
    "print(f'counter = {n}')\n",
    "\n"
   ]
  },
  {
   "cell_type": "markdown",
   "metadata": {},
   "source": [
    "## Final Bell<br>마지막 종\n",
    "\n"
   ]
  },
  {
   "cell_type": "code",
   "execution_count": null,
   "metadata": {},
   "outputs": [],
   "source": [
    "# stackoverfow.com/a/24634221\n",
    "import os\n",
    "os.system(\"printf '\\a'\");\n",
    "\n"
   ]
  },
  {
   "cell_type": "code",
   "execution_count": null,
   "metadata": {},
   "outputs": [],
   "source": []
  }
 ],
 "metadata": {
  "kernelspec": {
   "display_name": "Python 3",
   "language": "python",
   "name": "python3"
  },
  "language_info": {
   "codemirror_mode": {
    "name": "ipython",
    "version": 3
   },
   "file_extension": ".py",
   "mimetype": "text/x-python",
   "name": "python",
   "nbconvert_exporter": "python",
   "pygments_lexer": "ipython3",
   "version": "3.7.3"
  },
  "colab": {
   "provenance": [],
   "include_colab_link": true
  }
 },
 "nbformat": 4,
 "nbformat_minor": 0
}