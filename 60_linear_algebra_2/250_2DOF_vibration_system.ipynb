{
 "nbformat": 4,
 "nbformat_minor": 0,
 "metadata": {
  "colab": {
   "private_outputs": true,
   "provenance": [],
   "include_colab_link": true
  },
  "kernelspec": {
   "name": "python3",
   "display_name": "Python 3"
  },
  "language_info": {
   "name": "python"
  }
 },
 "cells": [
  {
   "cell_type": "markdown",
   "metadata": {
    "id": "view-in-github",
    "colab_type": "text"
   },
   "source": [
    "<a href=\"https://colab.research.google.com/github/kangwonlee/nmisp/blob/lecture-idea/60_linear_algebra_2/250_2DOF_vibration_system.ipynb\" target=\"_parent\"><img src=\"https://colab.research.google.com/assets/colab-badge.svg\" alt=\"Open In Colab\"/></a>\n"
   ]
  },
  {
   "cell_type": "markdown",
   "source": [
    "## 2 Degree of Freedom Vibration System<br>2자유도 진동계\n"
   ],
   "metadata": {}
  },
  {
   "cell_type": "markdown",
   "source": [
    "Ref : <br>William Thomson, 1988, Theory of Vibration with Applications, 3rd Ed., Prentice Hall.<br>William Thomson, 1990, 기계진동 이론과 응용 (이장무, 이종원, 박영필 옮김), 희중당.\n",
    "\n"
   ],
   "metadata": {}
  },
  {
   "cell_type": "code",
   "execution_count": null,
   "metadata": {},
   "outputs": [],
   "source": [
    "import matplotlib.pyplot as plt\n",
    "import numpy as np\n",
    "import numpy.linalg as nl\n",
    "import scipy.integrate as si\n",
    "\n"
   ]
  },
  {
   "cell_type": "markdown",
   "source": [
    "Let's think about a mechanical vibration system with two masses $m_1$ & $m_2$.<br>두 질량 $m_1$ & $m_2$의 기계 진동계를 생각해 보자.\n",
    "\n",
    "Suppose one end of spring $k_1$ is fixed and the other end is connected to mass $m_1$.<br>스프링 $k_1$의 한 끝은 고정되어 있고 다른 한 끝은 질량 $m_1$과 연결되어 있다고 하자.\n",
    "\n",
    "Additionally, spring $k_2$ connects both masses.<br>또한, 스프링 $k_2$가 두 질량을 연결한다.\n",
    "\n",
    "$x_1(t)$ & $x_2(t)$ would indicate the positions of masses $m_1$ & $m_2$ respectively.<br>\n",
    "$x_1(t)$과 $x_2(t)$는 각각 질량 $m_1$ & $m_2$의 위치를 표시한다.\n",
    "\n",
    "Force of $F=4$(kN) would be applied to $m_2$ at $t>0(sec)$.<br>\n",
    "$t>0(sec)$ 이후 $m_2$에 $F=4$(kN)의 힘이 가해진다.\n",
    "\n"
   ],
   "metadata": {}
  },
  {
   "cell_type": "markdown",
   "source": [
    "$$\n",
    "\\begin{pmatrix}\n",
    "m_1 & 0 \\\\\n",
    "0 & m_2\n",
    "\\end{pmatrix}\n",
    "\\begin{pmatrix}\n",
    "\\frac{d^2}{dt^2}x_1 \\\\\n",
    "\\frac{d^2}{dt^2}x_2\n",
    "\\end{pmatrix}\n",
    "+\n",
    "\\begin{pmatrix}\n",
    "k_1 + k_2 & -k_2 \\\\\n",
    "-k_2 & k_2\n",
    "\\end{pmatrix}\n",
    "\\begin{pmatrix}\n",
    "x_1 \\\\\n",
    "x_2\n",
    "\\end{pmatrix}\n",
    "=\n",
    "\\begin{pmatrix}\n",
    "0 \\\\\n",
    "F(t)\n",
    "\\end{pmatrix}\n",
    "$$\n"
   ],
   "metadata": {}
  },
  {
   "cell_type": "markdown",
   "source": [
    "$$\n",
    "\\begin{pmatrix}\n",
    "\\frac{d^2}{dt^2}x_1 \\\\\n",
    "\\frac{d^2}{dt^2}x_2\n",
    "\\end{pmatrix}\n",
    "=\n",
    "\\begin{pmatrix}\n",
    "m_1 & 0 \\\\\n",
    "0 & m_2\n",
    "\\end{pmatrix}^{-1}\n",
    "\\left[\n",
    "-\\begin{pmatrix}\n",
    "k_1 + k_2 & -k_2 \\\\\n",
    "-k_2 & k_2\n",
    "\\end{pmatrix}\n",
    "\\begin{pmatrix}\n",
    "x_1 \\\\\n",
    "x_2\n",
    "\\end{pmatrix}\n",
    "+\n",
    "\\begin{pmatrix}\n",
    "0 \\\\\n",
    "F(t)\n",
    "\\end{pmatrix}\n",
    "\\right]\n",
    "\\\\\n",
    "=\n",
    "\\mathbb{M}^{-1}\n",
    "\\left[\n",
    "-\\mathbb{K}\n",
    "\\begin{pmatrix}\n",
    "x_1 \\\\\n",
    "x_2\n",
    "\\end{pmatrix}\n",
    "+\n",
    "\\begin{pmatrix}\n",
    "0 \\\\\n",
    "F(t)\n",
    "\\end{pmatrix}\n",
    "\\right]\n",
    "$$\n",
    "\n"
   ],
   "metadata": {}
  },
  {
   "cell_type": "markdown",
   "source": [
    "$$\n",
    "\\mathbb{y}\n",
    "=\n",
    "\\begin{pmatrix}\n",
    "y_0 \\\\ y_1 \\\\ y_2 \\\\ y_3\n",
    "\\end{pmatrix}\n",
    "=\n",
    "\\begin{pmatrix}\n",
    "x_1 \\\\ x_2 \\\\ \\frac{d}{dt}x_1 \\\\ \\frac{d}{dt}x_2\n",
    "\\end{pmatrix}\n",
    "$$\n",
    "\n"
   ],
   "metadata": {}
  },
  {
   "cell_type": "markdown",
   "source": [
    "$$\n",
    "\\frac{d}{dt} \\mathbb{y}\n",
    "=\n",
    "\\begin{pmatrix}\n",
    "\\frac{d}{dt}x_1 \\\\ \\frac{d}{dt}x_2 \\\\ \\frac{d^2}{dt^2}x_1 \\\\ \\frac{d^2}{dt^2}x_2\n",
    "\\end{pmatrix}\n",
    "=\n",
    "\\begin{pmatrix}\n",
    "y_2 \\\\ y_3 \\\\\n",
    "\\mathbb{M}^{-1}\n",
    "\\left[\n",
    "-\\mathbb{K}\n",
    "\\begin{pmatrix}\n",
    "x_1 \\\\\n",
    "x_2\n",
    "\\end{pmatrix}\n",
    "+\n",
    "\\begin{pmatrix}\n",
    "0 \\\\\n",
    "F(t)\n",
    "\\end{pmatrix}\n",
    "\\right]\\end{pmatrix}\n",
    "=\n",
    "\\begin{pmatrix}\n",
    "0 & 0 & 1 & 0 \\\\\n",
    "0 & 0 & 0 & 1 \\\\\n",
    "-\\frac{1}{m_1}\\left(k_1+k_2\\right)& \\frac{1}{m_1}k_2 & 0 & 0 \\\\\n",
    "\\frac{1}{m_2}k_2 & -\\frac{1}{m_2}k_2 & 0 & 0 \\\\\n",
    "\\end{pmatrix}\n",
    "\\begin{pmatrix}\n",
    "y_0 \\\\ y_1 \\\\ y_2 \\\\ y_3\n",
    "\\end{pmatrix}\n",
    "+\n",
    "\\begin{pmatrix}\n",
    "0 \\\\ 0 \\\\ 0 \\\\ \\frac{1}{m_2}\n",
    "\\end{pmatrix}\n",
    "F(t) \\\\\n",
    "\\frac{d}{dt} \\mathbb{y}\n",
    "=\n",
    "\\mathbb{A}\\mathbb{y}+\\mathbb{B}F(t)\n",
    "$$\n",
    "\n"
   ],
   "metadata": {}
  },
  {
   "cell_type": "markdown",
   "source": [
    "| variable<br>변수 |   value<br>값    |\n",
    "|:---------------:|:---------------:|\n",
    "| $k_1$ | 36(kN/m) |\n",
    "| $k_2$ | 36(kN/m) |\n",
    "| $m_1$ | 100(kg) |\n",
    "| $m_2$ | 25(kg) |\n",
    "\n"
   ],
   "metadata": {}
  },
  {
   "cell_type": "code",
   "source": [
    "k1 = k2 = 36e3\n",
    "m1 = 100\n",
    "m2 = 25\n",
    "F = 4000\n",
    "\n"
   ],
   "metadata": {},
   "execution_count": null,
   "outputs": []
  },
  {
   "cell_type": "code",
   "source": [
    "A = np.array((\n",
    "    (0, 0, 1, 0),\n",
    "    (0, 0, 0, 1),\n",
    "    (-(k1 + k2)/m1, k2 / m1, 0, 0),\n",
    "    (k2 / m2, -k2 / m2, 0, 0),\n",
    "))\n",
    "B = np.array(\n",
    "    (0, 0, 0, 1/m2))\n",
    "A, B\n",
    "\n"
   ],
   "metadata": {},
   "execution_count": null,
   "outputs": []
  },
  {
   "cell_type": "markdown",
   "source": [
    "### Eigenvalues of the Matrix $\\mathbb{A}$<br>\n",
    "행렬 $\\mathbb{A}$의 고유치\n",
    "\n"
   ],
   "metadata": {}
  },
  {
   "cell_type": "code",
   "source": [
    "w, v = nl.eig(A)\n",
    "\n"
   ],
   "metadata": {},
   "execution_count": null,
   "outputs": []
  },
  {
   "cell_type": "code",
   "source": [
    "w\n",
    "\n"
   ],
   "metadata": {},
   "execution_count": null,
   "outputs": []
  },
  {
   "cell_type": "markdown",
   "source": [
    "The imaginary parts of the eigenvalues indicate sinusoidal frequencies in rad/sec.<br>고유치의 허수부가 rad/sec 단위의 주파수 이다.\n",
    "\n"
   ],
   "metadata": {}
  },
  {
   "cell_type": "code",
   "source": [
    "w_hz = w[0::2].imag / (2 * np.pi)\n",
    "w_hz\n",
    "\n"
   ],
   "metadata": {},
   "execution_count": null,
   "outputs": []
  },
  {
   "cell_type": "code",
   "source": [
    "v\n",
    "\n"
   ],
   "metadata": {},
   "execution_count": null,
   "outputs": []
  },
  {
   "cell_type": "markdown",
   "source": [
    "### Numerical Solution using `solve_ivp()`<br>`solve_ivp()` 수치해\n",
    "\n"
   ],
   "metadata": {}
  },
  {
   "cell_type": "markdown",
   "source": [
    "Slope function<br>기울기 함수\n",
    "\n"
   ],
   "metadata": {}
  },
  {
   "cell_type": "code",
   "source": [
    "def dy_dt(t, y):\n",
    "  Ay = A @ y\n",
    "  BF = B * F\n",
    "  slope = Ay + B * F\n",
    "  return slope\n",
    "\n"
   ],
   "metadata": {},
   "execution_count": null,
   "outputs": []
  },
  {
   "cell_type": "markdown",
   "source": [
    "Simulation<br>시뮬레이션\n",
    "\n"
   ],
   "metadata": {}
  },
  {
   "cell_type": "code",
   "source": [
    "delta_t = 0.01\n",
    "t_start = 0\n",
    "t_end = 1\n",
    "\n",
    "t_eval = np.arange(t_start, t_end, delta_t)\n",
    "\n",
    "sol = si.solve_ivp(dy_dt, (t_start, t_end), y0=[0]*4, t_eval=t_eval)\n",
    "\n"
   ],
   "metadata": {},
   "execution_count": null,
   "outputs": []
  },
  {
   "cell_type": "code",
   "source": [
    "sol\n",
    "\n"
   ],
   "metadata": {},
   "execution_count": null,
   "outputs": []
  },
  {
   "cell_type": "markdown",
   "source": [
    "Let's indicate periods of the vibration.<br>진동 주기를 표시해 보자.\n",
    "\n"
   ],
   "metadata": {}
  },
  {
   "cell_type": "code",
   "source": [
    "t0 = np.arange(sol.t[0], sol.t[-1], 1/w_hz[0])\n",
    "t1 = np.arange(sol.t[0], sol.t[-1], 1/w_hz[1])\n",
    "\n",
    "for k, y in enumerate(sol.y):\n",
    "\n",
    "  ax = plt.subplot(len(sol.y), 1, k+1)\n",
    "  ax.plot(sol.t, y)\n",
    "  ax.set_ylabel(f'$y_{k}$')\n",
    "  ax.grid(True)\n",
    "\n",
    "  for ti in t0:\n",
    "    ax.axvline(ti, color=\"C1\",alpha=0.5)\n",
    "\n",
    "  for ti in t1:\n",
    "    ax.axvline(ti, color=\"C2\",alpha=0.5)\n",
    "\n",
    "ax.set_xlabel('$t(sec)$');\n",
    "\n"
   ],
   "metadata": {},
   "execution_count": null,
   "outputs": []
  },
  {
   "cell_type": "markdown",
   "source": [
    "Please check the green vertical lines of $y_0$ & $y_1$ plots.<br>$y_0$ & $y_1$ 그래프의 초록색 선을 확인해 보자.\n",
    "\n",
    "Regarding the orange vertical lines, please check $y_3$ plot.<br>오렌지색 선은 $y_3$ 그래프에서 확인해 보자.\n",
    "\n"
   ],
   "metadata": {}
  },
  {
   "cell_type": "code",
   "source": [],
   "metadata": {},
   "execution_count": null,
   "outputs": []
  }
 ]
}