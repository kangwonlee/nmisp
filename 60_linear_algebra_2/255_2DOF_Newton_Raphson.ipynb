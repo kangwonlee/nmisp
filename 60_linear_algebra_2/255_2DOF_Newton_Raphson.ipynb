{
 "cells": [
  {
   "cell_type": "markdown",
   "metadata": {
    "id": "view-in-github",
    "colab_type": "text"
   },
   "source": [
    "<a href=\"https://colab.research.google.com/github/kangwonlee/nmisp/blob/complex-eigenvalues/60_linear_algebra_2/255_2DOF_Newton_Raphson.ipynb\" target=\"_parent\"><img src=\"https://colab.research.google.com/assets/colab-badge.svg\" alt=\"Open In Colab\"/></a>\n"
   ]
  },
  {
   "cell_type": "code",
   "execution_count": null,
   "metadata": {},
   "outputs": [],
   "source": [
    "import numpy as np\n",
    "import numpy.linalg as nl\n",
    "import numpy.random as nr\n",
    "import numpy.testing as nt\n",
    "import scipy.optimize as so\n",
    "\n"
   ]
  },
  {
   "cell_type": "markdown",
   "metadata": {},
   "source": [
    "# Finding Eigenvalues of an Asymmetric Matrix using Newton Raphson Method<br>비대칭 행렬의 고유치를 뉴튼법으로 찾아보기\n",
    "\n"
   ]
  },
  {
   "cell_type": "markdown",
   "metadata": {},
   "source": [
    "* A real square matrix $\\mathbb{A}$ may have complex eigenvalues.<br>모든 원소가 실수인 정방행렬 $\\mathbb{A}$도 비대칭이라면 그 고유치가 복소수일 수 있다.\n",
    "\n"
   ]
  },
  {
   "cell_type": "markdown",
   "metadata": {},
   "source": [
    "* All eigenvalues of the matrix $\\mathbb{A}$ are roots of its characteristic polynomial, what about trying the Newton-Raphson method?<br>행렬 $\\mathbb{A}$의 고유치는 모두 그 특성방정식의 근이므로, 뉴튼랩슨법으로 찾아 보면 어떨까?\n",
    "\n",
    "\n"
   ]
  },
  {
   "cell_type": "markdown",
   "metadata": {},
   "source": [
    "## Characteristic Equation\n",
    "\n"
   ]
  },
  {
   "cell_type": "markdown",
   "metadata": {},
   "source": [
    "$$\n",
    "    det(\\mathbb{A}-\\lambda \\mathbb{I})=0\n",
    "$$\n",
    "\n"
   ]
  },
  {
   "cell_type": "markdown",
   "metadata": {},
   "source": [
    "## Example : 2DOF Mechanical Vibration System<br>사례: 2자유도 진동계\n",
    "\n"
   ]
  },
  {
   "cell_type": "markdown",
   "metadata": {},
   "source": [
    "### State Space Form<br>상태공간 형태\n",
    "\n"
   ]
  },
  {
   "cell_type": "markdown",
   "metadata": {},
   "source": [
    "* Equation of Motion<br>운동방정식\n",
    "\n"
   ]
  },
  {
   "cell_type": "markdown",
   "metadata": {},
   "source": [
    "$$\n",
    "      \\mathbb{M}\\frac{d^2}{dt^2}\\mathbb{x}(t)\n",
    "    + \\mathbb{C}\\frac{d}{dt}\\mathbb{x}(t)\n",
    "    + \\mathbb{K}\\mathbb{x}(t)=0\n",
    "$$\n",
    "\n"
   ]
  },
  {
   "cell_type": "markdown",
   "metadata": {},
   "source": [
    "* This is the fundamental equation governing forced and unforced vibration systems. Here:<br>자유 또는 강제 진동은 이 식을 따른다. 여기서:\n",
    "\n",
    "|     | description<br>설명 |\n",
    "|:----:|------|\n",
    "| $\\mathbb{M}$ | Mass matrix<br>질량 행렬 |\n",
    "| $\\mathbb{C}$ | Damping matrix<br>감쇠 행렬 |\n",
    "| $\\mathbb{K}$ | Stiffness matrix<br>강성 행렬 |\n",
    "| $\\mathbb{x}(t)$ | Displacement vector<br>변위 벡터 |\n",
    "\n"
   ]
  },
  {
   "cell_type": "markdown",
   "metadata": {},
   "source": [
    "* Displacement Vector:<br>변위 벡터\n",
    "    * Represents the displacement of each mass in the system over time.<br>시스템의 각 질량의 시간에 따른 변위를 나타냄.\n",
    "\n"
   ]
  },
  {
   "cell_type": "markdown",
   "metadata": {},
   "source": [
    "$$\n",
    "    \\mathbb{x}(t) = \\begin{bmatrix}\n",
    "        x_1 (t) \\\\\n",
    "        x_2 (t)\n",
    "    \\end{bmatrix}\n",
    "$$\n",
    "\n"
   ]
  },
  {
   "cell_type": "markdown",
   "metadata": {},
   "source": [
    "* Mass, Damping, and Stiffness Matricies<br>질량, 감쇠, 강성 행렬\n",
    "    * These matrices define the specific properties of the 2DOF system. Notice how the arrangement of the elements reflects the connections between the masses, springs, and dampers.<br>이러한 행렬들이 해당 2자유도 시스템의 속성을 정의한다. 행렬의 원소들이 질량, 스프링, 댐퍼의 연결 상태를 어떻게 반영하고 있는지 자세히 살펴보기 바람.\n",
    "\n",
    "$$\n",
    "\\begin{align}\n",
    "    \\mathbb{M} &= \\begin{bmatrix}\n",
    "        m_1 & 0 \\\\\n",
    "        0 & m_2\n",
    "    \\end{bmatrix}\\\\\n",
    "    \\mathbb{C} &= \\begin{bmatrix}\n",
    "        c_1+c_2 & -c_2 \\\\\n",
    "        -c_2 & c_2\n",
    "    \\end{bmatrix}\\\\\n",
    "    \\mathbb{K} &= \\begin{bmatrix}\n",
    "        k_1+k_2 & -k_2 \\\\\n",
    "        -k_2 & k_2\n",
    "    \\end{bmatrix}\n",
    "\\end{align}\n",
    "$$\n",
    "\n"
   ]
  },
  {
   "cell_type": "markdown",
   "metadata": {},
   "source": [
    "#### Derivation<br>유도\n",
    "\n"
   ]
  },
  {
   "cell_type": "markdown",
   "metadata": {},
   "source": [
    "* Rewriting the Equation of Motion:<br>운동방정식을 고쳐씀:\n",
    "    * In these steps, the original equation of motion is rearranged through matrix manipulation to isolate the acceleration term.<br>아래와 같이 운동방정식을 재배열하여 가속도 항 만 등호의 왼쪽에 남김.\n",
    "\n"
   ]
  },
  {
   "cell_type": "markdown",
   "metadata": {},
   "source": [
    "$$\n",
    "      \\mathbb{M}\\frac{d^2}{dt^2}\\mathbb{x}(t)\n",
    "    = - \\mathbb{C}\\frac{d}{dt}\\mathbb{x}(t)\n",
    "    - \\mathbb{K}\\mathbb{x}(t)\n",
    "$$\n",
    "\n"
   ]
  },
  {
   "cell_type": "markdown",
   "metadata": {},
   "source": [
    "$$\n",
    "      \\frac{d^2}{dt^2}\\mathbb{x}(t)\n",
    "    = - \\mathbb{M}^{-1}\\mathbb{C}\\frac{d}{dt}\\mathbb{x}(t)\n",
    "    - \\mathbb{M}^{-1}\\mathbb{K}\\mathbb{x}(t)\n",
    "$$\n",
    "\n"
   ]
  },
  {
   "cell_type": "markdown",
   "metadata": {},
   "source": [
    "* Expanded Equation with Matrix Coefficients:<br>행렬 계수로 방정식을 표시\n",
    "    * Here, the matrix-vector equations are written out explicitly, showing how each element corresponds to forces arising from the spring and damper connections between the masses.<br>행렬 벡터 방정식을 명시적으로 표시하여 각 요소가 질량 사이의 스프링 댐퍼 연결 상태로 부터 나타나는 힘을 보임.\n",
    "\n"
   ]
  },
  {
   "cell_type": "markdown",
   "metadata": {},
   "source": [
    "$$\n",
    "    \\begin{align}\n",
    "        \\begin{bmatrix}\n",
    "            \\frac{d^2}{dt^2}x_1 (t) \\\\\n",
    "            \\frac{d^2}{dt^2}x_2 (t)\n",
    "        \\end{bmatrix}\n",
    "        &= \n",
    "        \\begin{bmatrix}\n",
    "            \\frac{-c_1-c_2}{m_1} & \\frac{c_2}{m_1} \\\\\n",
    "            \\frac{c_2}{m_2} & \\frac{-c_2}{m_2}\n",
    "        \\end{bmatrix}\n",
    "        \\begin{bmatrix}\n",
    "            \\frac{d}{dt}x_1 (t) \\\\\n",
    "            \\frac{d}{dt}x_2 (t)\n",
    "        \\end{bmatrix}\n",
    "        +\n",
    "        \\begin{bmatrix}\n",
    "            \\frac{-k_1-k_2}{m_1} & \\frac{k_2}{m_1} \\\\\n",
    "            \\frac{k_2}{m_2} & \\frac{-k_2}{m_2}\n",
    "        \\end{bmatrix}\n",
    "        \\begin{bmatrix}\n",
    "            x_1 (t) \\\\\n",
    "            x_2 (t)\n",
    "        \\end{bmatrix} \\\\\n",
    "        &= \n",
    "        \\begin{bmatrix}\n",
    "            \\frac{-k_1-k_2}{m_1} & \\frac{k_2}{m_1} \\\\\n",
    "            \\frac{k_2}{m_2} & \\frac{-k_2}{m_2}\n",
    "        \\end{bmatrix}\n",
    "        \\begin{bmatrix}\n",
    "            x_1 (t) \\\\\n",
    "            x_2 (t)\n",
    "        \\end{bmatrix}\n",
    "        +\n",
    "        \\begin{bmatrix}\n",
    "            \\frac{-c_1-c_2}{m_1} & \\frac{c_2}{m_1} \\\\\n",
    "            \\frac{c_2}{m_2} & \\frac{-c_2}{m_2}\n",
    "        \\end{bmatrix}\n",
    "        \\begin{bmatrix}\n",
    "            \\frac{d}{dt}x_1 (t) \\\\\n",
    "            \\frac{d}{dt}x_2 (t)\n",
    "        \\end{bmatrix}\n",
    "    \\end{align}\n",
    "$$\n",
    "\n"
   ]
  },
  {
   "cell_type": "markdown",
   "metadata": {},
   "source": [
    "* State Space Representation:<br>상태 공간 표현식:\n",
    "    * The system is converted into state space form, where the state vector q(t) includes both displacements and their corresponding velocities. This format is convenient for analysis and  control purposes.<br>시스템을 상태공간 형태로 변형. 상태 벡터 $\\mathbb{q}(t)$ 는 두 질량의 변위와 해당 속도를 포함. 이 형태는 해석 제어 목적으로 편리함.\n",
    "\n"
   ]
  },
  {
   "cell_type": "markdown",
   "metadata": {},
   "source": [
    "$$\n",
    "    \\mathbb{q}(t) = \\begin{bmatrix}\n",
    "        q_1 (t) \\\\\n",
    "        q_2 (t) \\\\\n",
    "        q_3 (t) \\\\\n",
    "        q_4 (t)\n",
    "    \\end{bmatrix} = \\begin{bmatrix}\n",
    "        x_1 (t) \\\\\n",
    "        x_2 (t) \\\\\n",
    "        \\frac{d}{dt}x_1 (t) \\\\\n",
    "        \\frac{d}{dt}x_2 (t)\n",
    "    \\end{bmatrix}\n",
    "$$\n",
    "\n"
   ]
  },
  {
   "cell_type": "markdown",
   "metadata": {},
   "source": [
    "$$\n",
    "    \\frac{d}{dt}\\mathbb{q}(t) \n",
    "    = \\begin{bmatrix}\n",
    "        \\frac{d}{dt}q_1 (t) \\\\\n",
    "        \\frac{d}{dt}q_2 (t) \\\\\n",
    "        \\frac{d}{dt}q_3 (t) \\\\\n",
    "        \\frac{d}{dt}q_4 (t)\n",
    "    \\end{bmatrix}\n",
    "    = \\frac{d}{dt}\\begin{bmatrix}\n",
    "        x_1 (t) \\\\\n",
    "        x_2 (t) \\\\\n",
    "        \\frac{d}{dt}x_1 (t) \\\\\n",
    "        \\frac{d}{dt}x_2 (t)\n",
    "    \\end{bmatrix}\n",
    "    = \\begin{bmatrix}\n",
    "        \\frac{d}{dt}x_1 (t) \\\\\n",
    "        \\frac{d}{dt}x_2 (t) \\\\\n",
    "        \\frac{d^2}{dt^2}x_1 (t) \\\\\n",
    "        \\frac{d^2}{dt^2}x_2 (t)\n",
    "    \\end{bmatrix} = \\begin{bmatrix}\n",
    "        q_3 (t) \\\\\n",
    "        q_4 (t) \\\\\n",
    "        \\begin{bmatrix}\n",
    "            \\frac{-k_1-k_2}{m_1} & \\frac{k_2}{m_1} \\\\\n",
    "            \\frac{k_2}{m_2} & \\frac{-k_2}{m_2}\n",
    "        \\end{bmatrix}\n",
    "        \\begin{bmatrix}\n",
    "            q_1 (t) \\\\\n",
    "            q_2 (t)\n",
    "        \\end{bmatrix}\n",
    "        +\n",
    "        \\begin{bmatrix}\n",
    "            \\frac{-c_1-c_2}{m_1} & \\frac{c_2}{m_1} \\\\\n",
    "            \\frac{c_2}{m_2} & \\frac{-c_2}{m_2}\n",
    "        \\end{bmatrix}\n",
    "        \\begin{bmatrix}\n",
    "            q_3 (t) \\\\\n",
    "            q_4 (t)\n",
    "        \\end{bmatrix}\n",
    "    \\end{bmatrix}\n",
    "$$\n",
    "\n"
   ]
  },
  {
   "cell_type": "markdown",
   "metadata": {},
   "source": [
    "* State Space Equation<br>상태공간방정식\n",
    "\n"
   ]
  },
  {
   "cell_type": "markdown",
   "metadata": {},
   "source": [
    "$$\n",
    "    \\frac{d}{dt}\\mathbb{q}(t) \n",
    "    = \\begin{bmatrix}\n",
    "        \\frac{d}{dt}x_1 (t) \\\\\n",
    "        \\frac{d}{dt}x_2 (t) \\\\\n",
    "        \\frac{d^2}{dt^2}x_1 (t) \\\\\n",
    "        \\frac{d^2}{dt^2}x_2 (t)\n",
    "    \\end{bmatrix} = \\begin{bmatrix}\n",
    "        \\begin{bmatrix}\n",
    "            0 & 0 \\\\\n",
    "            0 & 0\n",
    "        \\end{bmatrix}\n",
    "        \\begin{bmatrix}\n",
    "            q_1 (t) \\\\\n",
    "            q_2 (t)\n",
    "        \\end{bmatrix}\n",
    "        +\n",
    "        \\begin{bmatrix}\n",
    "            1 & 0 \\\\\n",
    "            0 & 1\n",
    "        \\end{bmatrix}\n",
    "        \\begin{bmatrix}\n",
    "            q_3 (t) \\\\\n",
    "            q_4 (t)\n",
    "        \\end{bmatrix} \\\\\n",
    "        \\begin{bmatrix}\n",
    "            \\frac{-k_1-k_2}{m_1} & \\frac{k_2}{m_1} \\\\\n",
    "            \\frac{k_2}{m_2} & \\frac{-k_2}{m_2}\n",
    "        \\end{bmatrix}\n",
    "        \\begin{bmatrix}\n",
    "            q_1 (t) \\\\\n",
    "            q_2 (t)\n",
    "        \\end{bmatrix}\n",
    "        +\n",
    "        \\begin{bmatrix}\n",
    "            \\frac{-c_1-c_2}{m_1} & \\frac{c_2}{m_1} \\\\\n",
    "            \\frac{c_2}{m_2} & \\frac{-c_2}{m_2}\n",
    "        \\end{bmatrix}\n",
    "        \\begin{bmatrix}\n",
    "            q_3 (t) \\\\\n",
    "            q_4 (t)\n",
    "        \\end{bmatrix}\n",
    "    \\end{bmatrix}\n",
    "$$\n",
    "\n"
   ]
  },
  {
   "cell_type": "markdown",
   "metadata": {},
   "source": [
    "* This represents the final first-order differential equation in matrix form. The matrix on the right-hand side is the system matrix, which encapsulates all the information about the masses, springs, and dampers.<br>이 형태가 최종 1차 상미분 방정식을 행렬 형태로 나타냄. 등호 오른쪽의 행렬이 시스템 행렬로, 질량, 스프링, 댐퍼의 모든 정보를 담고 있다.\n",
    "\n"
   ]
  },
  {
   "cell_type": "markdown",
   "metadata": {},
   "source": [
    "$$\n",
    "    \\frac{d}{dt}\\mathbb{q}(t) \n",
    "    = \\begin{bmatrix}\n",
    "        \\mathbb{0} & \\mathbb{I} \\\\\n",
    "        -\\mathbb{M}^{-1}\\mathbb{K} & -\\mathbb{M}^{-1}\\mathbb{C}\n",
    "    \\end{bmatrix}\n",
    "    \\mathbb{q}\n",
    "$$\n",
    "\n"
   ]
  },
  {
   "cell_type": "markdown",
   "metadata": {},
   "source": [
    "### System Matrix $\\mathbb{A}$<br>시스템 행렬 $\\mathbb{A}$\n",
    "\n"
   ]
  },
  {
   "cell_type": "markdown",
   "metadata": {},
   "source": [
    "* Upper part of $\\mathbb{A}$<br>$\\mathbb{A}$ 행렬의 윗부분\n",
    "\n"
   ]
  },
  {
   "cell_type": "code",
   "execution_count": null,
   "metadata": {},
   "outputs": [],
   "source": [
    "ndof = 2\n",
    "\n",
    "mA00 = np.zeros((ndof, ndof))\n",
    "mA01 = np.identity(2)\n",
    "mA0 = np.hstack((mA00, mA01))\n",
    "\n"
   ]
  },
  {
   "cell_type": "markdown",
   "metadata": {},
   "source": [
    "* Lumped parameters<br>시스템 매개변수\n",
    "\n"
   ]
  },
  {
   "cell_type": "code",
   "execution_count": null,
   "metadata": {},
   "outputs": [],
   "source": [
    "m1_kg = nr.uniform(0.1, 1)\n",
    "m2_kg = m1_kg# nr.uniform(0.1, 1)\n",
    "\n",
    "c1_Npmps = nr.uniform(0.1, 5)\n",
    "c2_Npmps = c1_Npmps# nr.uniform(0.1, 5)\n",
    "\n",
    "k1_Npm = nr.uniform(10, 100)\n",
    "k2_Npm = k1_Npm # nr.uniform(10, 100)\n",
    "\n"
   ]
  },
  {
   "cell_type": "markdown",
   "metadata": {},
   "source": [
    "* $\\mathbb{M}^{-1}$\n",
    "\n"
   ]
  },
  {
   "cell_type": "code",
   "execution_count": null,
   "metadata": {},
   "outputs": [],
   "source": [
    "mMinv = np.diag(((1.0/m1_kg), (1.0/m2_kg)))\n",
    "\n"
   ]
  },
  {
   "cell_type": "markdown",
   "metadata": {},
   "source": [
    "* $\\mathbb{C}$\n",
    "\n"
   ]
  },
  {
   "cell_type": "code",
   "execution_count": null,
   "metadata": {},
   "outputs": [],
   "source": [
    "mC = np.array(\n",
    "    [\n",
    "        [(c1_Npmps+c2_Npmps), -c2_Npmps],\n",
    "        [-c2_Npmps, c2_Npmps],\n",
    "    ]\n",
    ")\n",
    "\n"
   ]
  },
  {
   "cell_type": "markdown",
   "metadata": {},
   "source": [
    "* $\\mathbb{K}$\n",
    "\n"
   ]
  },
  {
   "cell_type": "code",
   "execution_count": null,
   "metadata": {},
   "outputs": [],
   "source": [
    "mK = np.array(\n",
    "    [\n",
    "        [(k1_Npm+k2_Npm), -k2_Npm],\n",
    "        [-k2_Npm, k2_Npm],\n",
    "    ]\n",
    ")\n",
    "\n"
   ]
  },
  {
   "cell_type": "markdown",
   "metadata": {},
   "source": [
    "* Lower part of $\\mathbb{A}$<br>$\\mathbb{A}$ 행렬의 아랫부분\n",
    "\n"
   ]
  },
  {
   "cell_type": "code",
   "execution_count": null,
   "metadata": {},
   "outputs": [],
   "source": [
    "mA10 = -mMinv @ mK\n",
    "mA11 = -mMinv @ mC\n",
    "mA1 = np.hstack((mA10, mA11))\n",
    "\n"
   ]
  },
  {
   "cell_type": "code",
   "execution_count": null,
   "metadata": {},
   "outputs": [],
   "source": [
    "mA = np.vstack((\n",
    "    mA0,\n",
    "    mA1\n",
    "))\n",
    "\n"
   ]
  },
  {
   "cell_type": "markdown",
   "metadata": {},
   "source": [
    "* $\\mathbb{A}$\n",
    "\n"
   ]
  },
  {
   "cell_type": "code",
   "execution_count": null,
   "metadata": {},
   "outputs": [],
   "source": [
    "mA\n",
    "\n"
   ]
  },
  {
   "cell_type": "markdown",
   "metadata": {},
   "source": [
    "### Characteristic Polynomial<br>특성 다항식\n",
    "\n"
   ]
  },
  {
   "cell_type": "code",
   "execution_count": null,
   "metadata": {},
   "outputs": [],
   "source": [
    "import sympy as sym\n",
    "\n"
   ]
  },
  {
   "cell_type": "code",
   "execution_count": null,
   "metadata": {},
   "outputs": [],
   "source": [
    "mAsym = sym.Matrix(mA)\n",
    "\n"
   ]
  },
  {
   "cell_type": "code",
   "execution_count": null,
   "metadata": {},
   "outputs": [],
   "source": [
    "p_sym = mAsym.charpoly()\n",
    "p_sym\n",
    "\n"
   ]
  },
  {
   "cell_type": "code",
   "execution_count": null,
   "metadata": {
    "scrolled": true
   },
   "outputs": [],
   "source": [
    "func_coefs = p_sym.all_coeffs()\n",
    "func_coefs\n",
    "\n"
   ]
  },
  {
   "cell_type": "code",
   "execution_count": null,
   "metadata": {},
   "outputs": [],
   "source": [
    "dfunc_coefs = p_sym.diff().all_coeffs()\n",
    "dfunc_coefs\n",
    "\n"
   ]
  },
  {
   "cell_type": "code",
   "execution_count": null,
   "metadata": {},
   "outputs": [],
   "source": [
    "func_coefs.reverse()\n",
    "func = np.polynomial.Polynomial(np.array(func_coefs).astype(float))\n",
    "\n",
    "dfunc_coefs.reverse()\n",
    "dfunc = np.polynomial.Polynomial(np.array(dfunc_coefs).astype(float))\n",
    "\n"
   ]
  },
  {
   "cell_type": "markdown",
   "metadata": {},
   "source": [
    "Make sure both polynomials are equal.<br>sympy 다항식과 numpy 다항식이 같은지 확인\n",
    "\n"
   ]
  },
  {
   "cell_type": "code",
   "execution_count": null,
   "metadata": {},
   "outputs": [],
   "source": [
    "nt.assert_almost_equal(func(1), p_sym.eval(1))\n",
    "\n"
   ]
  },
  {
   "cell_type": "markdown",
   "metadata": {},
   "source": [
    "### Newton Raphson Method<br>뉴튼 랩슨법\n",
    "\n"
   ]
  },
  {
   "cell_type": "code",
   "execution_count": null,
   "metadata": {},
   "outputs": [],
   "source": [
    "import itertools\n",
    "import os\n",
    "\n",
    "\n",
    "eigenvalues = []\n",
    "\n",
    "x0_real_array = np.linspace(-100, 100)\n",
    "\n",
    "for x0_real, m, k in itertools.product(\n",
    "        x0_real_array,\n",
    "        (m1_kg, m2_kg),\n",
    "        (k1_Npm, k2_Npm, 0.0),\n",
    "    ):\n",
    "    omega = (-k / m) ** 0.5\n",
    "    x0 = x0_real + omega\n",
    "\n",
    "    assert np.isfinite(func(x0))\n",
    "    assert np.isfinite(dfunc(x0))\n",
    "    try:\n",
    "        e_new = so.newton(func, x0, fprime=dfunc)\n",
    "        if all(map(lambda x: not np.isclose(x, e_new), eigenvalues)):\n",
    "            eigenvalues.append(e_new)\n",
    "        e_new_conj = e_new.conj()\n",
    "        if all(map(lambda x: not np.isclose(x, e_new_conj), eigenvalues)):\n",
    "            eigenvalues.append(e_new_conj)\n",
    "\n",
    "    except RuntimeError as e:\n",
    "        pass\n",
    "\n",
    "print(eigenvalues)\n",
    "\n"
   ]
  },
  {
   "cell_type": "markdown",
   "metadata": {},
   "source": [
    "## Final Bell<br>마지막 종\n",
    "\n"
   ]
  },
  {
   "cell_type": "code",
   "execution_count": null,
   "metadata": {},
   "outputs": [],
   "source": [
    "# stackoverfow.com/a/24634221\n",
    "import os\n",
    "os.system(\"printf '\\a'\");\n",
    "\n"
   ]
  },
  {
   "cell_type": "code",
   "execution_count": null,
   "metadata": {},
   "outputs": [],
   "source": []
  }
 ],
 "metadata": {
  "colab": {
   "include_colab_link": true,
   "provenance": []
  },
  "kernelspec": {
   "display_name": "Python 3 (ipykernel)",
   "language": "python",
   "name": "python3"
  },
  "language_info": {
   "codemirror_mode": {
    "name": "ipython",
    "version": 3
   },
   "file_extension": ".py",
   "mimetype": "text/x-python",
   "name": "python",
   "nbconvert_exporter": "python",
   "pygments_lexer": "ipython3",
   "version": "3.10.0"
  }
 },
 "nbformat": 4,
 "nbformat_minor": 4
}