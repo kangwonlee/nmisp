{
 "cells": [
  {
   "cell_type": "markdown",
   "metadata": {
    "id": "view-in-github",
    "colab_type": "text"
   },
   "source": [
    "<a href=\"https://colab.research.google.com/github/kangwonlee/nmisp/blob/lecture-idea/60_linear_algebra_2/120_System_Linear_Eq_Four_Node_Truss.ipynb\" target=\"_parent\"><img src=\"https://colab.research.google.com/assets/colab-badge.svg\" alt=\"Open In Colab\"/></a>\n"
   ]
  },
  {
   "cell_type": "markdown",
   "metadata": {},
   "source": [
    "# 선형연립방정식 사례: 간단한 트러스<br>Example of Systems of Linear Equations : Simple Truss\n",
    "\n"
   ]
  },
  {
   "cell_type": "code",
   "execution_count": null,
   "metadata": {},
   "outputs": [],
   "source": [
    "# 그래프, 수학 기능 추가\n",
    "# Add graph and math features\n",
    "import pylab as py\n",
    "import numpy as np\n",
    "import numpy.linalg as nl\n",
    "# 기호 연산 기능 추가\n",
    "# Add symbolic operation capability\n",
    "import sympy as sym\n",
    "\n"
   ]
  },
  {
   "cell_type": "markdown",
   "metadata": {},
   "source": [
    "화살표를 그리는 함수<br>Function to draw an arrow\n",
    "\n"
   ]
  },
  {
   "cell_type": "code",
   "execution_count": null,
   "metadata": {},
   "outputs": [],
   "source": [
    "def draw_2dvec(x, y, x0=0, y0=0, color='k', name=None):\n",
    "    py.quiver(x0, y0, x, y, color=color, angles='xy', scale_units='xy', scale=1)\n",
    "    py.plot((x0, x0+x), (y0, y0+y), alpha=0)\n",
    "    if name is not None:\n",
    "        if not name.startswith('$'):\n",
    "            vec_str = '$\\\\vec{%s}$' % name\n",
    "        else:\n",
    "            vec_str = name\n",
    "        py.text(0.5 * x + x0, 0.5 * y + y0, vec_str)\n",
    "\n"
   ]
  },
  {
   "cell_type": "markdown",
   "metadata": {},
   "source": [
    "정삼각형을 그리는 함수<br>Function to draw an equilateral triangle\n",
    "\n"
   ]
  },
  {
   "cell_type": "code",
   "execution_count": null,
   "metadata": {},
   "outputs": [],
   "source": [
    "def triangle_support(x, y, length):\n",
    "    # https://matplotlib.org/gallery/lines_bars_and_markers/fill.html\n",
    "    height = py.cos(py.radians(30)) * length\n",
    "    py.fill((x, x + length*0.5, x + length*-0.5), (y, y - height, y - height))\n",
    "\n"
   ]
  },
  {
   "cell_type": "markdown",
   "metadata": {},
   "source": [
    "## 4 절점 트러스<br>A Four Node Truss\n",
    "\n"
   ]
  },
  {
   "cell_type": "markdown",
   "metadata": {},
   "source": [
    "다음과 같은 트러스를 생각해 보자.<br>\n",
    "Let's think about a truss as follows.<br>\n",
    "(ref: \"Application of system of linear equations\", Chegg Study, [Online] Available: https://www.chegg.com/homework-help/questions-and-answers/application-system-linear-equations-sure-work-matlab-problem-figure-1-shows-mechanical-str-q22676917)\n",
    "\n"
   ]
  },
  {
   "cell_type": "code",
   "execution_count": null,
   "metadata": {},
   "outputs": [],
   "source": [
    "# 마디점 좌표 nodal point coordinates\n",
    "xy_list = [(0, 0), (1, 1), (1, 0), (2, 0)]\n",
    "\n",
    "# 각 부재의 양 끝 점 end points of each member\n",
    "connectivity_list = [(0, 1), (0, 2), (1, 2), (1, 3), (2, 3)]\n",
    "\n",
    "for k, i_j in enumerate(connectivity_list):\n",
    "    i, j = i_j\n",
    "\n",
    "    py.plot(\n",
    "        (xy_list[i][0], xy_list[j][0]),\n",
    "        (xy_list[i][1], xy_list[j][1]),\n",
    "        '.-'\n",
    "    )\n",
    "\n",
    "    # 부재 번호 표시 Indicate member id\n",
    "    py.text(0.5 * (xy_list[i][0] + xy_list[j][0]), \n",
    "            0.5 * (xy_list[i][1] + xy_list[j][1]), k + 1)\n",
    "\n",
    "# 마디점 번호 표시 Indicate node ids\n",
    "for k, xy in enumerate(xy_list):\n",
    "    py.text(xy[0], xy[1], '(%d)' % (k+1))\n",
    "    \n",
    "draw_2dvec(0, -0.5, xy_list[2][0], xy_list[2][1], name='$F_1$')\n",
    "\n",
    "triangle_support(xy_list[0][0], xy_list[0][1], 0.25)\n",
    "triangle_support(xy_list[3][0], xy_list[3][1], 0.25)\n",
    "\n",
    "py.axis('equal')\n",
    "# https://stackoverflow.com/questions/9295026/matplotlib-plots-removing-axis-legends-and-white-spaces\n",
    "py.axis('off')\n",
    "\n",
    "py.savefig('triangular_truss.svg')\n",
    "\n"
   ]
  },
  {
   "cell_type": "markdown",
   "metadata": {},
   "source": [
    "모든 각은 45도 이다.<br>\n",
    "All angles are 45 degrees.\n",
    "\n"
   ]
  },
  {
   "cell_type": "markdown",
   "metadata": {},
   "source": [
    "$$\n",
    "\\alpha = sin\\left(\\frac{\\pi}{4}\\right) = cos\\left(\\frac{\\pi}{4}\\right)\n",
    "$$\n",
    "\n"
   ]
  },
  {
   "cell_type": "markdown",
   "metadata": {},
   "source": [
    "각 마디에서의 힘의 평형은 다음과 같다. $f_i$ 는 $i$번째 부재의 장력이다.<br>\n",
    "Force equilibrium equations at respective nodes are as follows. $f_i$ is the tensile force of $i$th member.\n",
    "\n"
   ]
  },
  {
   "cell_type": "markdown",
   "metadata": {},
   "source": [
    "$$\n",
    "\\begin{align}    \n",
    "    R_{1x} + \\alpha \\cdot f_{1}+f_{2} &= 0 \\\\\n",
    "    R_{1y} + \\alpha \\cdot f_{1} &= 0 \\\\\n",
    "    -\\alpha \\cdot f_{1}+\\alpha \\cdot f_{4} &=0 \\\\\n",
    "    -\\alpha \\cdot f_{1}-f_{3}-\\alpha \\cdot f_{4} &=0 \\\\    \n",
    "    -f_{2}+f_{5}&=0 \\\\    \n",
    "    f_{3}&=F_{1} \\\\    \n",
    "    -\\alpha \\cdot f_4 - f_5 &=0 \\\\\n",
    "    \\alpha \\cdot f_4 + R_{4y} &=0 \\\\\n",
    "\\end{align}\n",
    "$$\n",
    "\n"
   ]
  },
  {
   "cell_type": "markdown",
   "metadata": {},
   "source": [
    "행렬형태로는:<br>\n",
    "In matrix form:\n",
    "\n"
   ]
  },
  {
   "cell_type": "markdown",
   "metadata": {},
   "source": [
    "$$\n",
    "\\begin{bmatrix}\n",
    "1 & 0 &  \\alpha &  1 &  0 &       0 &  0 & 0 \\\\\n",
    "0 & 1 &  \\alpha &  0 &  0 &       0 &  0 & 0 \\\\\n",
    "0 & 0 & -\\alpha &  0 &  0 &  \\alpha &  0 & 0 \\\\\n",
    "0 & 0 & -\\alpha &  0 & -1 & -\\alpha &  0 & 0 \\\\\n",
    "0 & 0 &       0 & -1 &  0 &       0 &  1 & 0 \\\\\n",
    "0 & 0 &       0 &  0 &  1 &       0 &  0 & 0 \\\\\n",
    "0 & 0 &       0 &  0 &  0 & -\\alpha & -1 & 0 \\\\\n",
    "0 & 0 &       0 &  0 &  0 &  \\alpha &  0 & 1 \\\\\n",
    "\\end{bmatrix}\n",
    "\\begin{pmatrix}\n",
    "R_{1x} \\\\ R_{1y} \\\\ f_1 \\\\ f_2 \\\\ f_3 \\\\ f_4 \\\\ f_5 \\\\ R_{4y}\n",
    "\\end{pmatrix}\n",
    "=\n",
    "\\begin{pmatrix}\n",
    "0 \\\\ 0 \\\\ 0 \\\\ 0 \\\\ 0 \\\\ F_1 \\\\ 0 \\\\ 0\n",
    "\\end{pmatrix}\n",
    "$$\n",
    "\n"
   ]
  },
  {
   "cell_type": "code",
   "execution_count": null,
   "metadata": {},
   "outputs": [],
   "source": [
    "alpha = py.sin(py.radians(45))\n",
    "\n"
   ]
  },
  {
   "cell_type": "code",
   "execution_count": null,
   "metadata": {},
   "outputs": [],
   "source": [
    "matrix = np.array([\n",
    "    [1, 0,  alpha,  1,  0,      0,  0, 0],\n",
    "    [0, 1,  alpha,  0,  0,      0,  0, 0],\n",
    "    [0, 0, -alpha,  0,  0,  alpha,  0, 0],\n",
    "    [0, 0, -alpha,  0, -1, -alpha,  0, 0],\n",
    "    [0, 0,      0, -1,  0,      0,  1, 0],\n",
    "    [0, 0,      0,  0,  1,      0,  0, 0],\n",
    "    [0, 0,      0,  0,  0, -alpha, -1, 0],\n",
    "    [0, 0,      0,  0,  0,  alpha,  0, 1],\n",
    "])\n",
    "\n"
   ]
  },
  {
   "cell_type": "markdown",
   "metadata": {},
   "source": [
    "행렬의 계수를 계산해 보자.<br>Let's check the rank of the matrix.\n",
    "\n"
   ]
  },
  {
   "cell_type": "code",
   "execution_count": null,
   "metadata": {
    "scrolled": true
   },
   "outputs": [],
   "source": [
    "nl.matrix_rank(matrix)\n",
    "\n"
   ]
  },
  {
   "cell_type": "markdown",
   "metadata": {},
   "source": [
    "미지수의 갯수와 정방행렬의 계수가 같다는 것은 이 선형 연립 방정식의 해를 구할 수 있다는 뜻이다.<br>\n",
    "The number of unknowns and the rank of the matrix are the same; we can find a root of this system of linear equations.\n",
    "\n"
   ]
  },
  {
   "cell_type": "markdown",
   "metadata": {},
   "source": [
    "우변을 준비해 보자.<br>\n",
    "Let's prepare for the right side.\n",
    "\n"
   ]
  },
  {
   "cell_type": "code",
   "execution_count": null,
   "metadata": {},
   "outputs": [],
   "source": [
    "vector = np.array([[0, 0, 0, 0, 0, 100, 0, 0]]).T\n",
    "\n"
   ]
  },
  {
   "cell_type": "markdown",
   "metadata": {},
   "source": [
    "파이썬의 확장 기능 가운데 하나인 NumPy 의 선형 대수 기능 `solve()` 를 사용하여 해를 구해 보자.<br>\n",
    "Using `solve()` of linear algebra subpackage of `NumPy`, a Python package, let's find a solution.\n",
    "\n"
   ]
  },
  {
   "cell_type": "code",
   "execution_count": null,
   "metadata": {
    "scrolled": true
   },
   "outputs": [],
   "source": [
    "sol = nl.solve(matrix, vector)\n",
    "\n"
   ]
  },
  {
   "cell_type": "code",
   "execution_count": null,
   "metadata": {},
   "outputs": [],
   "source": [
    "sol\n",
    "\n"
   ]
  },
  {
   "cell_type": "markdown",
   "metadata": {},
   "source": [
    "![Triangular Truss](https://user-images.githubusercontent.com/17876446/246723235-1f3ad16b-0c83-4627-a322-97f30e9a492b.svg)\n",
    "\n"
   ]
  },
  {
   "cell_type": "markdown",
   "metadata": {},
   "source": [
    "이렇게 찾은 `sol`이 원래의 연립방정식을 만족하는지 확인해보자.<br>\n",
    "Let's check whether `sol` found this way satisfies the original system of equations.\n",
    "\n"
   ]
  },
  {
   "cell_type": "code",
   "execution_count": null,
   "metadata": {},
   "outputs": [],
   "source": [
    "import numpy.testing as nt\n",
    "\n",
    "\n",
    "nt.assert_allclose(matrix @ sol, vector, atol=1e-7)\n",
    "\n"
   ]
  },
  {
   "cell_type": "markdown",
   "metadata": {},
   "source": [
    "## Final Bell<br>마지막 종\n",
    "\n"
   ]
  },
  {
   "cell_type": "code",
   "execution_count": null,
   "metadata": {},
   "outputs": [],
   "source": [
    "# stackoverfow.com/a/24634221\n",
    "import os\n",
    "os.system(\"printf '\\a'\");\n",
    "\n"
   ]
  },
  {
   "cell_type": "code",
   "execution_count": null,
   "metadata": {},
   "outputs": [],
   "source": []
  }
 ],
 "metadata": {
  "kernelspec": {
   "display_name": "Python 3",
   "language": "python",
   "name": "python3"
  },
  "language_info": {
   "codemirror_mode": {
    "name": "ipython",
    "version": 3
   },
   "file_extension": ".py",
   "mimetype": "text/x-python",
   "name": "python",
   "nbconvert_exporter": "python",
   "pygments_lexer": "ipython3",
   "version": "3.8.8"
  }
 },
 "nbformat": 4,
 "nbformat_minor": 2
}