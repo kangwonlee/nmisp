{
 "cells": [
  {
   "cell_type": "markdown",
   "metadata": {
    "id": "view-in-github",
    "colab_type": "text"
   },
   "source": [
    "<a href=\"https://colab.research.google.com/github/kangwonlee/nmisp/blob/cofactor-steps/60_linear_algebra_2/151_Cofactor_steps.ipynb\" target=\"_parent\"><img src=\"https://colab.research.google.com/assets/colab-badge.svg\" alt=\"Open In Colab\"/></a>\n"
   ]
  },
  {
   "cell_type": "code",
   "execution_count": null,
   "metadata": {},
   "outputs": [],
   "source": [
    "import numpy as np\n",
    "import numpy.linalg as nl\n",
    "\n"
   ]
  },
  {
   "cell_type": "code",
   "execution_count": null,
   "metadata": {},
   "outputs": [],
   "source": [
    "def show_cofactor_steps(A:np.ndarray):\n",
    "    nRow, nCol = A.shape\n",
    "\n",
    "    assert nRow == nCol\n",
    "\n",
    "    index_all = list(range(nRow))\n",
    "    index_table = []\n",
    "\n",
    "    for i in range(nRow):\n",
    "        index = list(index_all)\n",
    "        index.remove(i)\n",
    "        index_table.append(tuple(index))\n",
    "\n",
    "    for i, row_index in enumerate(index_table):\n",
    "        minor_i = A[row_index, :]\n",
    "        for j, col_index in enumerate(index_table):\n",
    "            minor_ij = minor_i[:, col_index]\n",
    "            print(fr'$\\|minor({i},{j})\\|$ = {nl.det(minor_ij)}')\n",
    "            print(minor_ij)\n",
    "\n",
    "        print('=' * 40)\n",
    "\n"
   ]
  },
  {
   "cell_type": "code",
   "execution_count": null,
   "metadata": {},
   "outputs": [],
   "source": [
    "matA = np.array(\n",
    "    [\n",
    "        [0, 0, -4],\n",
    "        [1, 6, 4],\n",
    "        [1, 5, 8],\n",
    "    ]\n",
    ")\n",
    "matA\n",
    "\n"
   ]
  },
  {
   "cell_type": "code",
   "execution_count": null,
   "metadata": {},
   "outputs": [],
   "source": [
    "show_cofactor_steps(matA)\n",
    "\n"
   ]
  },
  {
   "cell_type": "code",
   "execution_count": null,
   "metadata": {},
   "outputs": [],
   "source": [
    "def show_cofactor_for_inv_steps(A:np.ndarray):\n",
    "    nRow, nCol = A.shape\n",
    "\n",
    "    assert nRow == nCol\n",
    "\n",
    "    index_all = list(range(nRow))\n",
    "    index_table = []\n",
    "\n",
    "    for i in range(nRow):\n",
    "        index = list(index_all)\n",
    "        index.remove(i)\n",
    "        index_table.append(tuple(index))\n",
    "\n",
    "    for j, col_index in enumerate(index_table):\n",
    "        minor_j = A[:, col_index]\n",
    "        for i, row_index in enumerate(index_table):\n",
    "            minor_ij = minor_j[row_index, :]\n",
    "            print(fr'$\\|minor({i},{j})\\|$ = {nl.det(minor_ij)}')\n",
    "            print(minor_ij)\n",
    "\n",
    "        print('=' * 40)\n"
   ]
  },
  {
   "cell_type": "code",
   "execution_count": null,
   "metadata": {},
   "outputs": [],
   "source": [
    "show_cofactor_for_inv_steps(matA)\n",
    "\n"
   ]
  },
  {
   "cell_type": "code",
   "execution_count": null,
   "metadata": {},
   "outputs": [],
   "source": []
  }
 ],
 "metadata": {
  "kernelspec": {
   "display_name": "Python 3 (ipykernel)",
   "language": "python",
   "name": "python3"
  },
  "language_info": {
   "codemirror_mode": {
    "name": "ipython",
    "version": 3
   },
   "file_extension": ".py",
   "mimetype": "text/x-python",
   "name": "python",
   "nbconvert_exporter": "python",
   "pygments_lexer": "ipython3",
   "version": "3.10.0"
  }
 },
 "nbformat": 4,
 "nbformat_minor": 5
}