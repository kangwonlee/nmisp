{
 "cells": [
  {
   "cell_type": "markdown",
   "metadata": {
    "id": "view-in-github",
    "colab_type": "text"
   },
   "source": [
    "<a href=\"https://colab.research.google.com/github/kangwonlee/nmisp/blob/40-gram-schmidt/40_linear_algebra_1/37_Gram_Schmidt.ipynb\" target=\"_parent\"><img src=\"https://colab.research.google.com/assets/colab-badge.svg\" alt=\"Open In Colab\"/></a>\n"
   ]
  },
  {
   "cell_type": "code",
   "execution_count": null,
   "metadata": {},
   "outputs": [],
   "source": [
    "# 그래프, 수학 기능 추가\n",
    "# Add graph and math features\n",
    "import pylab as py\n",
    "import numpy as np\n",
    "import numpy.linalg as nl\n",
    "\n"
   ]
  },
  {
   "cell_type": "code",
   "execution_count": null,
   "metadata": {},
   "outputs": [],
   "source": [
    "# 3차원 그래픽\n",
    "# 3D Graphics\n",
    "from mpl_toolkits.mplot3d import Axes3D\n",
    "\n"
   ]
  },
  {
   "cell_type": "markdown",
   "metadata": {},
   "source": [
    "# Gram-Schmidt Orthogonalization Process<br>그람-슈미트 직교화\n",
    "\n"
   ]
  },
  {
   "cell_type": "markdown",
   "metadata": {},
   "source": [
    "## 3 Vectors on a 3D space<br>3차원 공간의 세 벡터\n",
    "\n"
   ]
  },
  {
   "cell_type": "code",
   "execution_count": null,
   "metadata": {},
   "outputs": [],
   "source": [
    "u0 = np.array((1, 1, 1))\n",
    "u1 = np.array((0, 1, 1))\n",
    "u2 = np.array((0, 0, 1))\n",
    "\n"
   ]
  },
  {
   "cell_type": "markdown",
   "metadata": {},
   "source": [
    "This function will plot a vector.<br>\n",
    "아래 함수는 벡터를 그릴 것이다.\n",
    "\n"
   ]
  },
  {
   "cell_type": "code",
   "execution_count": null,
   "metadata": {},
   "outputs": [],
   "source": [
    "def plot_vec(axx, u, start=np.array((0,0,0)), label=None):\n",
    "    return axx.plot(\n",
    "        (start[0], u[0]),\n",
    "        (start[1], u[1]),\n",
    "        (start[2], u[2]),\n",
    "        label=label,\n",
    "    )\n",
    "\n"
   ]
  },
  {
   "cell_type": "code",
   "execution_count": null,
   "metadata": {},
   "outputs": [],
   "source": [
    "fig = py.figure(figsize=(10, 10))\n",
    "ax = fig.add_subplot(111, projection='3d')\n",
    "\n",
    "# change this line to change view angle\n",
    "# 보는 각도를 바꾸려면 아래 행을 조절하시오\n",
    "ax.view_init(elev=40, azim=-30, roll=0)\n",
    "\n",
    "plot_vec(ax, u0, label='$\\\\mathbf{u_0}$')\n",
    "plot_vec(ax, u1, label='$\\\\mathbf{u_1}$')\n",
    "plot_vec(ax, u2, label='$\\\\mathbf{u_2}$')\n",
    "\n",
    "py.legend(loc=0);\n",
    "\n"
   ]
  },
  {
   "cell_type": "markdown",
   "metadata": {},
   "source": [
    "The function below will normalize a vector.<br>\n",
    "아래 함수는 벡터를 정규화 할 것이다.\n",
    "\n"
   ]
  },
  {
   "cell_type": "code",
   "execution_count": null,
   "metadata": {},
   "outputs": [],
   "source": [
    "def normalize(u):\n",
    "    return u * ((nl.norm(u))**-1)\n",
    "\n"
   ]
  },
  {
   "cell_type": "code",
   "execution_count": null,
   "metadata": {},
   "outputs": [],
   "source": [
    "u0_norm = normalize(u0)\n",
    "assert np.isclose(nl.norm(u0_norm), 1), (u0_norm, nl.norm(u0_norm))\n",
    "\n"
   ]
  },
  {
   "cell_type": "markdown",
   "metadata": {},
   "source": [
    "The following function will project the vector u on v direction.<br>\n",
    "아래 함수는 벡터 u 를 v 방향으로 투영할 것이다.\n",
    "\n"
   ]
  },
  {
   "cell_type": "code",
   "execution_count": null,
   "metadata": {},
   "outputs": [],
   "source": [
    "def proj_v_u(v, u):\n",
    "    v_norm = normalize(v)\n",
    "    mag = v_norm @ u\n",
    "    return mag * v_norm\n",
    "\n"
   ]
  },
  {
   "cell_type": "markdown",
   "metadata": {},
   "source": [
    "Let's project vector u1 on u0 direction.<br>벡터 u1를 u0 방향으로 투영해 보자.\n",
    "\n"
   ]
  },
  {
   "cell_type": "code",
   "execution_count": null,
   "metadata": {},
   "outputs": [],
   "source": [
    "v0 = u0\n",
    "proj_v0_u1 = proj_v_u(v0, u1)\n",
    "\n"
   ]
  },
  {
   "cell_type": "code",
   "execution_count": null,
   "metadata": {},
   "outputs": [],
   "source": [
    "py.close()\n",
    "\n",
    "fig = py.figure(figsize=(10, 10))\n",
    "ax = fig.add_subplot(111, projection='3d')\n",
    "\n",
    "# change this line to change view angle\n",
    "# 보는 각도를 바꾸려면 아래 행을 조절하시오\n",
    "ax.view_init(elev=40, azim=-30, roll=0)\n",
    "\n",
    "plot_vec(ax, u0, label='$\\\\mathbf{u_0}$')\n",
    "plot_vec(ax, u1, label='$\\\\mathbf{u_1}$')\n",
    "plot_vec(ax, u2, label='$\\\\mathbf{u_2}$')\n",
    "\n",
    "plot_vec(ax, proj_v0_u1, label='$proj_{\\\\mathbf{v}_0} {\\\\mathbf{u}_1} $')\n",
    "\n",
    "py.legend(loc=0);\n",
    "\n"
   ]
  },
  {
   "cell_type": "markdown",
   "metadata": {},
   "source": [
    "Now let's subtract this projection from u1 vector.<br>\n",
    "이제 u1 벡터로부터 이 투영된 벡터를 빼 보자.\n",
    "\n"
   ]
  },
  {
   "cell_type": "code",
   "execution_count": null,
   "metadata": {},
   "outputs": [],
   "source": [
    "v1 = u1 - proj_v0_u1\n",
    "\n"
   ]
  },
  {
   "cell_type": "code",
   "execution_count": null,
   "metadata": {},
   "outputs": [],
   "source": [
    "py.close()\n",
    "\n",
    "fig = py.figure(figsize=(10, 10))\n",
    "ax = fig.add_subplot(111, projection='3d')\n",
    "\n",
    "# change this line to change view angle\n",
    "# 보는 각도를 바꾸려면 아래 행을 조절하시오\n",
    "ax.view_init(elev=40, azim=-30, roll=0)\n",
    "\n",
    "plot_vec(ax, u0, label='$\\\\mathbf{u_0}$')\n",
    "plot_vec(ax, u1, label='$\\\\mathbf{u_1}$')\n",
    "plot_vec(ax, u2, label='$\\\\mathbf{u_2}$')\n",
    "\n",
    "plot_vec(ax, proj_v0_u1, label='$proj_{\\\\mathbf{v}_0} {\\\\mathbf{u}_1} $')\n",
    "plot_vec(ax, v1, label=r'$\\mathbf{v}_1$')\n",
    "plot_vec(ax, v1 + proj_v0_u1, start=proj_v0_u1, label=r'$\\mathbf{v}_1$')\n",
    "\n",
    "py.legend(loc=0);\n",
    "\n"
   ]
  },
  {
   "cell_type": "markdown",
   "metadata": {},
   "source": [
    "Now let's think about projecting u2 to the plane containing both v0 and v1.<br>\n",
    "이제 u2를 v0 와 v1를 포함하는 평면으로 투영하는 것을 생각해 보자.\n",
    "\n"
   ]
  },
  {
   "cell_type": "markdown",
   "metadata": {},
   "source": [
    "The projection $proj_{\\left(\\mathbf{v}_0,\\mathbf{v}_1\\right)} \\mathbf{u}_2$ will be linear combination of v0 and v1 vectors.<br>해당 투영된 벡터 $proj_{\\left(\\mathbf{v}_0,\\mathbf{v}_1\\right)} \\mathbf{u}_2$ 는 v0 와 v1 의 선형 결합 linear combination 이 될 것이다.\n",
    "\n"
   ]
  },
  {
   "cell_type": "markdown",
   "metadata": {},
   "source": [
    "More specifically:<br>보다 정확하게는 다음 형태로 표현될 것이다:\n",
    "\n"
   ]
  },
  {
   "cell_type": "markdown",
   "metadata": {},
   "source": [
    "$$\n",
    "proj_{\\left(\\mathbf{v}_0,\\mathbf{v}_1\\right)} \\mathbf{u}_2\n",
    "= proj_{\\mathbf{v}_0} \\mathbf{u}_2\n",
    "+ proj_{\\mathbf{v}_1} \\mathbf{u}_2\n",
    "$$\n",
    "\n"
   ]
  },
  {
   "cell_type": "code",
   "execution_count": null,
   "metadata": {},
   "outputs": [],
   "source": [
    "proj_v0_u2 = proj_v_u(v0, u2)\n",
    "proj_v1_u2 = proj_v_u(v1, u2)\n",
    "\n",
    "proj_v0v1_u2 = proj_v0_u2 + proj_v1_u2\n",
    "\n"
   ]
  },
  {
   "cell_type": "code",
   "execution_count": null,
   "metadata": {},
   "outputs": [],
   "source": [
    "py.close()\n",
    "\n",
    "fig = py.figure(figsize=(10, 10))\n",
    "ax = fig.add_subplot(111, projection='3d')\n",
    "\n",
    "# change this line to change view angle\n",
    "# 보는 각도를 바꾸려면 아래 행을 조절하시오\n",
    "ax.view_init(elev=40, azim=-30, roll=0)\n",
    "\n",
    "plot_vec(ax, u0, label=r'$\\mathbf{u_0}$')\n",
    "plot_vec(ax, v1, label=r'$\\mathbf{v_1}$')\n",
    "plot_vec(ax, u2, label=r'$\\mathbf{u_2}$')\n",
    "\n",
    "plot_vec(ax, proj_v0_u2, label=r'$proj_{\\mathbf{v}_0} {\\mathbf{u}_2} $')\n",
    "plot_vec(ax, proj_v1_u2, label=r'$proj_{\\mathbf{v}_1} {\\mathbf{u}_2} $')\n",
    "plot_vec(ax, proj_v0v1_u2, label=r'$proj_{\\left(\\mathbf{v}_0,\\mathbf{v}_1\\right)} \\mathbf{u}_2$')\n",
    "\n",
    "py.legend(loc=0);\n",
    "\n"
   ]
  },
  {
   "cell_type": "markdown",
   "metadata": {},
   "source": [
    "Again, let's subtract this projection from u2.<br>이제 다시 이 투영된 벡터를 u2 벡터로 부터 빼 보자.\n",
    "\n"
   ]
  },
  {
   "cell_type": "markdown",
   "metadata": {},
   "source": [
    "$$\n",
    "\\mathbf{v}_2 = \\mathbf{u}_2\n",
    "- proj_{\\left(\\mathbf{v}_0,\\mathbf{v}_1\\right)} \\mathbf{u}_2\n",
    "$$\n",
    "\n"
   ]
  },
  {
   "cell_type": "code",
   "execution_count": null,
   "metadata": {},
   "outputs": [],
   "source": [
    "v2 = u2 - proj_v0v1_u2\n",
    "\n"
   ]
  },
  {
   "cell_type": "code",
   "execution_count": null,
   "metadata": {},
   "outputs": [],
   "source": [
    "py.close()\n",
    "\n",
    "fig = py.figure(figsize=(10, 10))\n",
    "ax = fig.add_subplot(111, projection='3d')\n",
    "\n",
    "# change this line to change view angle\n",
    "# 보는 각도를 바꾸려면 아래 행을 조절하시오\n",
    "ax.view_init(elev=40, azim=-30, roll=0)\n",
    "\n",
    "plot_vec(ax, u0, label=r'$\\mathbf{u_0}$')\n",
    "plot_vec(ax, v1, label=r'$\\mathbf{v_1}$')\n",
    "plot_vec(ax, u2, label=r'$\\mathbf{u_2}$')\n",
    "\n",
    "plot_vec(ax, proj_v0_u2, label=r'$proj_{\\mathbf{v}_0} {\\mathbf{u}_2} $')\n",
    "plot_vec(ax, proj_v1_u2, label=r'$proj_{\\mathbf{v}_1} {\\mathbf{u}_2} $')\n",
    "plot_vec(ax, proj_v0v1_u2, label=r'$proj_{\\left(\\mathbf{v}_0,\\mathbf{v}_1\\right)} \\mathbf{u}_2$')\n",
    "\n",
    "plot_vec(ax, v2, label=r'$\\mathbf{v_2}$')\n",
    "plot_vec(ax, proj_v0v1_u2 + v2, start=proj_v0v1_u2, label=r'$\\mathbf{v_2}$')\n",
    "\n",
    "py.legend(loc=0);\n",
    "\n"
   ]
  },
  {
   "cell_type": "markdown",
   "metadata": {},
   "source": [
    "Are $\\mathbf{v}_0$, $\\mathbf{v}_1$, and $\\mathbf{v}_2$ vectors normal?<br>$\\mathbf{v}_0$, $\\mathbf{v}_1$, $\\mathbf{v}_2$ 벡터들은 서로 수직인가?\n",
    "\n"
   ]
  },
  {
   "cell_type": "code",
   "execution_count": null,
   "metadata": {},
   "outputs": [],
   "source": [
    "assert np.isclose(nl.norm(v0 @ v1), 0)\n",
    "assert np.isclose(nl.norm(v0 @ v2), 0)\n",
    "assert np.isclose(nl.norm(v1 @ v2), 0)\n",
    "\n"
   ]
  },
  {
   "cell_type": "markdown",
   "metadata": {},
   "source": [
    "Passing the tests above would mean yes.<br>위 테스트가 통과되었다면 그렇다는 뜻일 것이다.\n",
    "\n"
   ]
  },
  {
   "cell_type": "markdown",
   "metadata": {},
   "source": [
    "## Final Bell<br>마지막 종\n",
    "\n"
   ]
  },
  {
   "cell_type": "code",
   "execution_count": null,
   "metadata": {},
   "outputs": [],
   "source": [
    "# stackoverfow.com/a/24634221\n",
    "import os\n",
    "os.system(\"printf '\\a'\");\n",
    "\n"
   ]
  },
  {
   "cell_type": "code",
   "execution_count": null,
   "metadata": {},
   "outputs": [],
   "source": []
  }
 ],
 "metadata": {
  "colab": {
   "include_colab_link": true,
   "provenance": []
  },
  "kernelspec": {
   "display_name": "Python 3 (ipykernel)",
   "language": "python",
   "name": "python3"
  },
  "language_info": {
   "codemirror_mode": {
    "name": "ipython",
    "version": 3
   },
   "file_extension": ".py",
   "mimetype": "text/x-python",
   "name": "python",
   "nbconvert_exporter": "python",
   "pygments_lexer": "ipython3",
   "version": "3.10.0"
  }
 },
 "nbformat": 4,
 "nbformat_minor": 4
}