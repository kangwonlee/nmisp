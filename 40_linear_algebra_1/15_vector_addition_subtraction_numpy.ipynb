{
 "cells": [
  {
   "cell_type": "markdown",
   "metadata": {
    "id": "view-in-github",
    "colab_type": "text"
   },
   "source": [
    "<a href=\"https://colab.research.google.com/github/kangwonlee/nmisp/blob/lecture-idea/40_linear_algebra_1/15_vector_addition_subtraction_numpy.ipynb\" target=\"_parent\"><img src=\"https://colab.research.google.com/assets/colab-badge.svg\" alt=\"Open In Colab\"/></a>\n"
   ]
  },
  {
   "cell_type": "code",
   "execution_count": null,
   "metadata": {},
   "outputs": [],
   "source": [
    "# 그래프, 수학 기능 추가\n",
    "# Add graph and math features\n",
    "import pylab as py\n",
    "import numpy as np\n",
    "import numpy.linalg as nl\n",
    "\n"
   ]
  },
  {
   "cell_type": "markdown",
   "metadata": {},
   "source": [
    "# 파이썬에서의 선형대수 : 사이파이 계열의 넘파이<br>Linear Algebra in Python: NumPy of SciPy Stack\n",
    "\n"
   ]
  },
  {
   "cell_type": "markdown",
   "metadata": {},
   "source": [
    "파이썬 프로그래밍 언어의 기본 기능만으로도 선형 대수 문제를 해결하는 것이 가능은 하나, 보다 효율을 높이기 위해, 1990년대 이후, 여러 개발자들의 공헌으로 **사이파이** 계열 확장 모듈을 개발하였다.<br>\n",
    "We can solve linear algebra with default features of python. However, to make it more efficient, since 1990's, a group of community developers contributed in developing **SciPy** stack.\n",
    "\n"
   ]
  },
  {
   "cell_type": "markdown",
   "metadata": {},
   "source": [
    "이 장에서는 그 가운데 주로 넘파이 NumPy 를 사용할 것이다.<br>\n",
    "In this chapter, we would mostly use NumPy.\n",
    "\n"
   ]
  },
  {
   "cell_type": "markdown",
   "metadata": {},
   "source": [
    "## 벡터 정의 : NumPy<br>Definition of vectors : NumPy\n",
    "\n"
   ]
  },
  {
   "cell_type": "markdown",
   "metadata": {},
   "source": [
    "`numpy` 배열을 이용하여 다음과 같이 벡터를 정의할 수 있다.<br>\n",
    "We can define the vectors using the arrays of the `numpy` as follows.\n",
    "\n"
   ]
  },
  {
   "cell_type": "code",
   "execution_count": null,
   "metadata": {},
   "outputs": [],
   "source": [
    "# ref : https://www.youtube.com/watch?v=8QihetGj3pg\n",
    "a = np.array((6, -2))\n",
    "b = np.array((-4, 4))\n",
    "\n"
   ]
  },
  {
   "cell_type": "code",
   "execution_count": null,
   "metadata": {},
   "outputs": [],
   "source": [
    "a\n",
    "\n"
   ]
  },
  {
   "cell_type": "code",
   "execution_count": null,
   "metadata": {},
   "outputs": [],
   "source": [
    "b\n",
    "\n"
   ]
  },
  {
   "cell_type": "markdown",
   "metadata": {},
   "source": [
    "위 2차원 벡터를 한번 그려 보자<br>\n",
    "Let's plot the 2D vectors above.\n",
    "\n"
   ]
  },
  {
   "cell_type": "code",
   "execution_count": null,
   "metadata": {},
   "outputs": [],
   "source": [
    "def draw_2dvec(x, y, x0=0, y0=0, color='k', name=None):\n",
    "    py.quiver(x0, y0, x, y, color=color, angles='xy', scale_units='xy', scale=1)\n",
    "    py.plot((x0, x0+x), (y0, y0+y), alpha=0)\n",
    "    if name is not None:\n",
    "        if not name.startswith('$'):\n",
    "            vec_str = '$\\\\vec{%s}$' % name\n",
    "        else:\n",
    "            vec_str = name\n",
    "        py.text(0.5 * x + x0, 0.5 * y + y0, vec_str)\n",
    "\n"
   ]
  },
  {
   "cell_type": "code",
   "execution_count": null,
   "metadata": {},
   "outputs": [],
   "source": [
    "draw_2dvec(a[0], a[1], name='a')\n",
    "draw_2dvec(b[0], b[1], name='b')\n",
    "\n",
    "py.axis('equal')\n",
    "py.grid(True)\n",
    "\n"
   ]
  },
  {
   "cell_type": "markdown",
   "metadata": {},
   "source": [
    "## 벡터 합 : NumPy<br>Sum of two vectors : NumPy\n",
    "\n"
   ]
  },
  {
   "cell_type": "markdown",
   "metadata": {},
   "source": [
    "두 벡터를 더해 보자.<br>Let's add two vectors.\n",
    "\n"
   ]
  },
  {
   "cell_type": "code",
   "execution_count": null,
   "metadata": {},
   "outputs": [],
   "source": [
    "a_plus_b = a + b\n",
    "\n"
   ]
  },
  {
   "cell_type": "code",
   "execution_count": null,
   "metadata": {
    "scrolled": true
   },
   "outputs": [],
   "source": [
    "a_plus_b\n",
    "\n"
   ]
  },
  {
   "cell_type": "markdown",
   "metadata": {},
   "source": [
    "이 벡터의 합을 그려보자.<br>\n",
    "Let's draw this sum of vectors.\n",
    "\n"
   ]
  },
  {
   "cell_type": "code",
   "execution_count": null,
   "metadata": {},
   "outputs": [],
   "source": [
    "draw_2dvec(a[0], a[1], name='a')\n",
    "draw_2dvec(b[0], b[1], name='b')\n",
    "draw_2dvec(a_plus_b[0], a_plus_b[1], name='$\\\\vec{a}+\\\\vec{b}$')\n",
    "\n",
    "py.axis('equal')\n",
    "py.grid(True)\n",
    "\n"
   ]
  },
  {
   "cell_type": "markdown",
   "metadata": {},
   "source": [
    "어떻게 해서 벡터의 합은 이렇게 된 것일까? $\\vec{b}$ 벡터의 시작점을 $\\vec{a}$ 벡터의 끝점으로 옮겨 보자.<br>\n",
    "How come this vector sum came up like this?  Let's move the starting point of $\\vec{b}$ to the starting point of $\\vec{a}$.\n",
    "\n"
   ]
  },
  {
   "cell_type": "code",
   "execution_count": null,
   "metadata": {},
   "outputs": [],
   "source": [
    "draw_2dvec(a[0], a[1], name='a')\n",
    "draw_2dvec(b[0], b[1], a[0], a[1], color=(0.5, 0.5, 0.5), name='b')\n",
    "draw_2dvec(b[0], b[1], name='b')\n",
    "draw_2dvec(a_plus_b[0], a_plus_b[1], name='$\\\\vec{a}+\\\\vec{b}$')\n",
    "\n",
    "py.axis('equal')\n",
    "py.grid(True)\n",
    "\n"
   ]
  },
  {
   "cell_type": "markdown",
   "metadata": {},
   "source": [
    "여기서 $\\vec{a}$, $\\vec{b}$ 그리고 $\\vec{a} + \\vec{b}$ 가 삼각형을 이룬다는 것을 알 수 있다.<br>\n",
    "Here, you can see that $\\vec{a}$, $\\vec{b}$, and $\\vec{a} + \\vec{b}$ form a triangle.\n",
    "\n"
   ]
  },
  {
   "cell_type": "markdown",
   "metadata": {},
   "source": [
    "$\\vec{b}$의 시작점을 $\\vec{a}$의 끝점으로 옮긴 결과, 회색 벡터의 끝점이 $\\vec{a} + \\vec{b}$ 의 끝점과 같다.<br>\n",
    "As the result of moving the start point of $\\vec{b}$ to the end point of $\\vec{a}$, the end points of the gray vector and $\\vec{a} + \\vec{b}$ are identicial.\n",
    "\n"
   ]
  },
  {
   "cell_type": "markdown",
   "metadata": {},
   "source": [
    "### 교환법칙 : NumPy<br>Commutative Law : NumPy\n",
    "\n"
   ]
  },
  {
   "cell_type": "markdown",
   "metadata": {},
   "source": [
    "벡터의 합의 순서를 바꾸어 보자.<br>Let's change the order of addition.\n",
    "\n"
   ]
  },
  {
   "cell_type": "code",
   "execution_count": null,
   "metadata": {},
   "outputs": [],
   "source": [
    "b_plus_a = b + a\n",
    "\n"
   ]
  },
  {
   "cell_type": "code",
   "execution_count": null,
   "metadata": {
    "scrolled": true
   },
   "outputs": [],
   "source": [
    "b_plus_a\n",
    "\n"
   ]
  },
  {
   "cell_type": "markdown",
   "metadata": {},
   "source": [
    "이는 $\\vec{a}+\\vec{b}$와 같다.<br>This is the same as $\\vec{a}+\\vec{b}$.\n",
    "\n"
   ]
  },
  {
   "cell_type": "markdown",
   "metadata": {},
   "source": [
    "이번에도 시각화 해 보자.<br>Let's visualize again.\n",
    "\n"
   ]
  },
  {
   "cell_type": "code",
   "execution_count": null,
   "metadata": {},
   "outputs": [],
   "source": [
    "draw_2dvec(a[0], a[1], name='a')\n",
    "draw_2dvec(b[0], b[1], name='b')\n",
    "draw_2dvec(a[0], a[1], b[0], b[1], color=(0.75, 0.75, 0.75), name='a')\n",
    "draw_2dvec(b_plus_a[0], b_plus_a[1], name='$\\\\vec{b}+\\\\vec{a}$')\n",
    "\n",
    "py.axis('equal')\n",
    "py.grid(True)\n",
    "\n"
   ]
  },
  {
   "cell_type": "markdown",
   "metadata": {},
   "source": [
    "비슷하게, $\\vec{a}$, $\\vec{b}$ 그리고 $\\vec{b} + \\vec{a}$ 가 삼각형을 이룬다는 것을 알 수 있다.<br>\n",
    "Similarly, you can see that $\\vec{a}$, $\\vec{b}$, and $\\vec{b} + \\vec{a}$ form a triangle.\n",
    "\n"
   ]
  },
  {
   "cell_type": "markdown",
   "metadata": {},
   "source": [
    "이번에는 $\\vec{a}$의 시작점을 $\\vec{b}$의 끝점으로 옮겨 보았다. 덧셈의 순서와는 상관 없이, 회색 벡터의 끝점이 $\\vec{b} + \\vec{a}$ 의 끝점과 일치하는 것을 확인할 수 있다.<br>\n",
    "This time, we moved the start point of $\\vec{a}$ to the end point of $\\vec{b}$. We can confirm that regardless of the order of addition, the end points of the gray vector and $\\vec{a} + \\vec{b}$ are identicial.\n",
    "\n"
   ]
  },
  {
   "cell_type": "markdown",
   "metadata": {},
   "source": [
    "두 방식을 모두 표시해 보자.<br>Let's indicate both ways.\n",
    "\n"
   ]
  },
  {
   "cell_type": "code",
   "execution_count": null,
   "metadata": {
    "scrolled": true
   },
   "outputs": [],
   "source": [
    "draw_2dvec(a[0], a[1], name='a')\n",
    "draw_2dvec(b[0], b[1], name='b')\n",
    "draw_2dvec(a[0], a[1], b[0], b[1], color=(0.75, 0.75, 0.75), name='a')\n",
    "draw_2dvec(b[0], b[1], a[0], a[1], color=(0.5, 0.5, 0.5), name='b')\n",
    "draw_2dvec(b_plus_a[0], b_plus_a[1], name='$\\\\vec{a}+\\\\vec{b}$')\n",
    "\n",
    "py.axis('equal')\n",
    "py.grid(True)\n",
    "\n"
   ]
  },
  {
   "cell_type": "markdown",
   "metadata": {},
   "source": [
    "벡터 합은 $\\vec{a}$와 $\\vec{b}$가 이루는 평행 사변형의 한 대각선임을 알 수 있다.<br>\n",
    "We can see that the vector sum is one of diagonals of the parallogram of $\\vec{a}$'s and $\\vec{b}$'s.\n",
    "\n"
   ]
  },
  {
   "cell_type": "markdown",
   "metadata": {},
   "source": [
    "## 스칼라와 벡터의 곱 : NumPy<br>Product of a Scalar and a Vector : NumPy\n",
    "\n"
   ]
  },
  {
   "cell_type": "markdown",
   "metadata": {},
   "source": [
    "벡터에 어떤 스칼라 값을 곱해 보자.<br>Let's multiply a scalar value to a vector.\n",
    "\n"
   ]
  },
  {
   "cell_type": "code",
   "execution_count": null,
   "metadata": {},
   "outputs": [],
   "source": [
    "x = np.array((2, 1))\n",
    "alpha = 3\n",
    "alpha_x = alpha * x\n",
    "\n"
   ]
  },
  {
   "cell_type": "code",
   "execution_count": null,
   "metadata": {},
   "outputs": [],
   "source": [
    "alpha_x\n",
    "\n"
   ]
  },
  {
   "cell_type": "markdown",
   "metadata": {},
   "source": [
    "그림으로 표시해 보자.<br>Let's draw.\n",
    "\n"
   ]
  },
  {
   "cell_type": "code",
   "execution_count": null,
   "metadata": {
    "scrolled": false
   },
   "outputs": [],
   "source": [
    "draw_2dvec(alpha_x[0], alpha_x[1], name='$\\\\alpha\\\\vec{x}$', color=(0.5, 0.5, 0.5))\n",
    "draw_2dvec(x[0], x[1], name='x')\n",
    "\n",
    "py.axis('equal')\n",
    "py.grid(True)\n",
    "\n"
   ]
  },
  {
   "cell_type": "markdown",
   "metadata": {},
   "source": [
    "방향은 바뀌지 않고 크기만 달라지는 것을 알 수 있다.<br>\n",
    "The direction does not change but the magnitude changes.\n",
    "\n"
   ]
  },
  {
   "cell_type": "markdown",
   "metadata": {},
   "source": [
    "스칼라 값이 음인 경우는 어떠할까?<br>What if scalar value is negative?\n",
    "\n"
   ]
  },
  {
   "cell_type": "code",
   "execution_count": null,
   "metadata": {},
   "outputs": [],
   "source": [
    "x = np.array((2, 1))\n",
    "beta = -1\n",
    "beta_x = beta * x\n",
    "\n"
   ]
  },
  {
   "cell_type": "code",
   "execution_count": null,
   "metadata": {},
   "outputs": [],
   "source": [
    "beta_x\n",
    "\n"
   ]
  },
  {
   "cell_type": "code",
   "execution_count": null,
   "metadata": {
    "scrolled": true
   },
   "outputs": [],
   "source": [
    "draw_2dvec(alpha_x[0], alpha_x[1], name='$\\\\alpha\\\\vec{x}$', color=(0.5, 0.5, 0.5))\n",
    "draw_2dvec(beta_x[0], beta_x[1], name='$\\\\beta\\\\vec{x}$', color=py.ones((1, 3)) * 0.25)\n",
    "draw_2dvec(x[0], x[1], name='x')\n",
    "\n",
    "py.axis('equal')\n",
    "py.grid(True)\n",
    "\n"
   ]
  },
  {
   "cell_type": "markdown",
   "metadata": {},
   "source": [
    "음의 스칼라를 곱하면 방향이 반대로 된다는 것을 알 수 있다.<br>\n",
    "In case of the negative scalar, the direction becomes the opposite.\n",
    "\n"
   ]
  },
  {
   "cell_type": "markdown",
   "metadata": {},
   "source": [
    "## 벡터의 차 : NumPy<br>Difference of two vectors : NumPy\n",
    "\n"
   ]
  },
  {
   "cell_type": "markdown",
   "metadata": {},
   "source": [
    "어떤 벡터 $\\vec{b}$를 다른 벡터 $\\vec{a}$에서 빼는 셈에 대해 생각해 보자.<br>\n",
    "Let's think about subtracting a vector $\\vec{b}$ from another vector $\\vec{a}$.\n",
    "\n"
   ]
  },
  {
   "cell_type": "code",
   "execution_count": null,
   "metadata": {},
   "outputs": [],
   "source": [
    "a_minus_b = a - b\n",
    "\n"
   ]
  },
  {
   "cell_type": "code",
   "execution_count": null,
   "metadata": {
    "scrolled": true
   },
   "outputs": [],
   "source": [
    "a_minus_b\n",
    "\n"
   ]
  },
  {
   "cell_type": "markdown",
   "metadata": {},
   "source": [
    "그림으로 표시보자.<br>\n",
    "Let's visualize.\n",
    "\n"
   ]
  },
  {
   "cell_type": "code",
   "execution_count": null,
   "metadata": {},
   "outputs": [],
   "source": [
    "draw_2dvec(a[0], a[1], name='a')\n",
    "draw_2dvec(b[0], b[1], name='b')\n",
    "draw_2dvec(a_minus_b[0], a_minus_b[1], name='$\\\\vec{a}-\\\\vec{b}$')\n",
    "\n",
    "py.axis('equal')\n",
    "py.grid(True)\n",
    "\n"
   ]
  },
  {
   "cell_type": "markdown",
   "metadata": {},
   "source": [
    "이번에는 어떻게 해서 벡터의 차가 이렇게 된 것인지 알아 보자. $\\vec{b}$ 벡터에 -1을 곱해서 시작점을 $\\vec{a}$ 벡터의 끝점으로 옮겨 보자.<br>\n",
    "Let's figure out the vector subtraction.  Let's multiply by -1 to $\\vec{b}$ and move the starting point to the end point of $\\vec{a}$.\n",
    "\n"
   ]
  },
  {
   "cell_type": "code",
   "execution_count": null,
   "metadata": {},
   "outputs": [],
   "source": [
    "draw_2dvec(a[0], a[1], name='a')\n",
    "draw_2dvec(-b[0], -b[1], a[0], a[1], color=(0.5, 0.5, 0.5), name='$-\\\\vec{b}$')\n",
    "draw_2dvec(b[0], b[1], name='b')\n",
    "draw_2dvec(a_minus_b[0], a_minus_b[1], name='$\\\\vec{a}-\\\\vec{b}$')\n",
    "\n",
    "py.axis('equal')\n",
    "py.grid(True)\n",
    "\n"
   ]
  },
  {
   "cell_type": "markdown",
   "metadata": {},
   "source": [
    "벡터 뺄셈은 부호를 바꾸어 더하는 것과 같다.<br>Subtracting a vector is equivalent to changing the sign of the vector and adding it.\n",
    "\n"
   ]
  },
  {
   "cell_type": "markdown",
   "metadata": {},
   "source": [
    " 이번에는 $\\vec{a}-\\vec{b}$ 의 시작점을 $\\vec{b}$의 끝점으로 옮겨 보자.<br>\n",
    " This time, let's move the start point of $\\vec{a}-\\vec{b}$ to the end point of $\\vec{b}$.\n",
    "\n"
   ]
  },
  {
   "cell_type": "code",
   "execution_count": null,
   "metadata": {
    "scrolled": false
   },
   "outputs": [],
   "source": [
    "draw_2dvec(a[0], a[1], name='a')\n",
    "draw_2dvec(b[0], b[1], name='b')\n",
    "draw_2dvec(a[0], a[1], b[0], b[1], color=(0.75, 0.75, 0.75), name='a')\n",
    "draw_2dvec(b[0], b[1], a[0], a[1], color=(0.5, 0.5, 0.5), name='b')\n",
    "draw_2dvec(a_minus_b[0], a_minus_b[1], b[0], b[1], name='$\\\\vec{a}-\\\\vec{b}$')\n",
    "\n",
    "py.axis('equal')\n",
    "py.grid(True)\n",
    "\n"
   ]
  },
  {
   "cell_type": "markdown",
   "metadata": {},
   "source": [
    "이는 다음을 뜻한다.<br>\n",
    "This means the following.\n",
    "\n"
   ]
  },
  {
   "cell_type": "markdown",
   "metadata": {},
   "source": [
    "$$\n",
    "\\vec{b}+\\left(\\vec{a}-\\vec{b}\\right)=\\vec{a}\n",
    "$$\n",
    "\n"
   ]
  },
  {
   "cell_type": "markdown",
   "metadata": {},
   "source": [
    "또한, $\\vec{a}-\\vec{b}$ 도 $\\vec{a}$와 $\\vec{b}$가 이루는 평행 사변형의 다른 대각선임을 알 수 있다.<br>\n",
    "We can also see that the vector subtraction is the other diagonal of the parallogram of $\\vec{a}$'s and $\\vec{b}$'s.\n",
    "\n"
   ]
  },
  {
   "cell_type": "markdown",
   "metadata": {},
   "source": [
    "## 연습 문제<br>Exercise\n",
    "\n"
   ]
  },
  {
   "cell_type": "markdown",
   "metadata": {},
   "source": [
    "* 임의의 두 2차원 벡터를 numpy array 로 정의하시오<br>Define two 2-dimensional vectors as numpy array's\n",
    "\n"
   ]
  },
  {
   "cell_type": "code",
   "execution_count": null,
   "metadata": {},
   "outputs": [],
   "source": []
  },
  {
   "cell_type": "markdown",
   "metadata": {},
   "source": [
    "* 위에서 보인 예와 같이 두 벡터를 그려 보시오<br>Plot these two vectors as above\n",
    "\n"
   ]
  },
  {
   "cell_type": "code",
   "execution_count": null,
   "metadata": {},
   "outputs": [],
   "source": []
  },
  {
   "cell_type": "markdown",
   "metadata": {},
   "source": [
    "* 두 벡터의 합과 두 벡터를 함께 그려 보시오<br>Plot the sum of two vectors with the two vectors\n",
    "\n"
   ]
  },
  {
   "cell_type": "code",
   "execution_count": null,
   "metadata": {},
   "outputs": [],
   "source": []
  },
  {
   "cell_type": "markdown",
   "metadata": {},
   "source": [
    "* 두 벡터와 두 벡터의 합, 두 벡터의 차를 함께 그려 보시오<br>Plot the two vectors, the sum vector and the difference vector\n",
    "\n"
   ]
  },
  {
   "cell_type": "code",
   "execution_count": null,
   "metadata": {},
   "outputs": [],
   "source": []
  },
  {
   "cell_type": "markdown",
   "metadata": {},
   "source": [
    "## Final Bell<br>마지막 종\n",
    "\n"
   ]
  },
  {
   "cell_type": "code",
   "execution_count": null,
   "metadata": {},
   "outputs": [],
   "source": [
    "# stackoverfow.com/a/24634221\n",
    "import os\n",
    "os.system(\"printf '\\a'\");\n",
    "\n"
   ]
  },
  {
   "cell_type": "code",
   "execution_count": null,
   "metadata": {},
   "outputs": [],
   "source": []
  }
 ],
 "metadata": {
  "kernelspec": {
   "display_name": "Python 3",
   "language": "python",
   "name": "python3"
  },
  "language_info": {
   "codemirror_mode": {
    "name": "ipython",
    "version": 3
   },
   "file_extension": ".py",
   "mimetype": "text/x-python",
   "name": "python",
   "nbconvert_exporter": "python",
   "pygments_lexer": "ipython3",
   "version": "3.7.3"
  },
  "colab": {
   "provenance": [],
   "include_colab_link": true
  }
 },
 "nbformat": 4,
 "nbformat_minor": 0
}