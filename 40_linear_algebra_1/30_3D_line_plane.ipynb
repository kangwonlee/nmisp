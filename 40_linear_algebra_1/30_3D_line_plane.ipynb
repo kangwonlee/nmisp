{
 "cells": [
  {
   "cell_type": "markdown",
   "metadata": {
    "id": "view-in-github",
    "colab_type": "text"
   },
   "source": [
    "<a href=\"https://colab.research.google.com/github/kangwonlee/nmisp/blob/add-header/40_linear_algebra_1/30_3D_line_plane.ipynb\" target=\"_parent\"><img src=\"https://colab.research.google.com/assets/colab-badge.svg\" alt=\"Open In Colab\"/></a>\n"
   ]
  },
  {
   "cell_type": "code",
   "execution_count": null,
   "metadata": {},
   "outputs": [],
   "source": [
    "# 그래프, 수학 기능 추가\n",
    "# Add graph and math features\n",
    "import pylab as py\n",
    "import numpy as np\n",
    "import numpy.linalg as nl\n",
    "\n"
   ]
  },
  {
   "cell_type": "code",
   "execution_count": null,
   "metadata": {},
   "outputs": [],
   "source": [
    "# 3차원 그래픽\n",
    "# 3D Graphics\n",
    "from mpl_toolkits.mplot3d import Axes3D\n",
    "\n"
   ]
  },
  {
   "cell_type": "markdown",
   "metadata": {},
   "source": [
    "# 3차원 공간의 직선과 평면<br>Lines and Planes of 3D Spaces\n",
    "\n"
   ]
  },
  {
   "cell_type": "markdown",
   "metadata": {},
   "source": [
    "## 3차원 공간의 직선<br>Lines of 3D Spaces\n",
    "\n"
   ]
  },
  {
   "cell_type": "markdown",
   "metadata": {},
   "source": [
    "* Following parametric equation about $t$ can describe a line in a 3D space.<br>$t$에 관한 다음 매개변수 방정식으로 3차원 공간의 직선을 표시할 수 있다.\n",
    "\n"
   ]
  },
  {
   "cell_type": "markdown",
   "metadata": {},
   "source": [
    "$$\n",
    "\\begin{pmatrix}\n",
    " x(t) \\\\ y(t) \\\\ z(t) \\\\\n",
    "\\end{pmatrix}\n",
    "=\n",
    "\\begin{pmatrix}\n",
    " x_0 + d_x \\cdot t \\\\\n",
    " y_0 + d_y \\cdot t \\\\\n",
    " z_0 + d_z \\cdot t \\\\\n",
    "\\end{pmatrix}\n",
    "$$\n"
   ]
  },
  {
   "cell_type": "markdown",
   "metadata": {},
   "source": [
    "* $t$ is the parameter varying from $-\\infty$ to $\\infty$.<br>$t$ 는 매개변수로 $-\\infty$ ~ $\\infty$ 범위의 값을 가질 것이다.\n",
    "\n"
   ]
  },
  {
   "cell_type": "markdown",
   "metadata": {},
   "source": [
    "* Now let's think about the following vectors.<br>이제 다음 벡터를 생각해 보자.\n",
    "\n"
   ]
  },
  {
   "cell_type": "markdown",
   "metadata": {},
   "source": [
    "$$\n",
    "\\begin{align}\n",
    "    \\mathbf{x}(t) &= \\begin{pmatrix}\n",
    "        x(t) \\\\ y(t) \\\\ z(t) \\\\\n",
    "    \\end{pmatrix} \\\\\n",
    "    \\mathbf{x}_0 &=\n",
    "    \\begin{pmatrix}\n",
    "        x_0 \\\\\n",
    "        y_0 \\\\\n",
    "        z_0 \\\\\n",
    "    \\end{pmatrix} \\\\\n",
    "    \\mathbf{d} &=\n",
    "    \\begin{pmatrix}\n",
    "        d_x \\\\\n",
    "        d_y \\\\\n",
    "        d_z \\\\\n",
    "    \\end{pmatrix}\n",
    "\\end{align}\n",
    "$$\n",
    "\n"
   ]
  },
  {
   "cell_type": "markdown",
   "metadata": {},
   "source": [
    "* Here, $\\mathbf{x}_0$ is a point on the line and $\\mathbf{d}$ is the direction vector.<br>여기서 $\\mathbf{x}_0$ 는 직선 위의 한 점이고 $\\mathbf{d}$ 는 방향 벡터이다.\n",
    "\n"
   ]
  },
  {
   "cell_type": "markdown",
   "metadata": {},
   "source": [
    "* These vectors can describe a 3D line as follows.<br>이러한 여러 벡터를 사용하여 3차원 직선을 표시할 수 있다.\n",
    "\n"
   ]
  },
  {
   "cell_type": "markdown",
   "metadata": {},
   "source": [
    "$$\n",
    "    \\mathbf{x}(t)=\\mathbf{x_0}+t \\cdot \\mathbf{d}\n",
    "$$\n",
    "\n"
   ]
  },
  {
   "cell_type": "markdown",
   "metadata": {},
   "source": [
    "* Here, $\\mathbf{x_0}$ is a point on the line, $\\mathbf{d}$ is the direction of the line, and $t$ is a parameter that changes between $-\\infty$ and $\\infty$.  <br>여기서 $\\mathbf{x_0}$는 직선 위의 점, $\\mathbf{d}$는 직선의 방향, $t$는 $-\\infty$ 와 $\\infty$ 사이에서 변화하는 매개변수이다.\n",
    "\n"
   ]
  },
  {
   "cell_type": "markdown",
   "metadata": {},
   "source": [
    "* For example, let's plot a line passing $\\mathbf{x}_0=(-1, 1, 1)^T$ with direction of $\\mathbf{d}=(1, 1, 1)^T$.<br>예를 들어 $\\mathbf{x}_0=(-1, 1, 1)^T$ 을 지나고 방향은 $\\mathbf{d}=(1, 1, 1)^T$ 인 직선을 그려보자.\n",
    "\n"
   ]
  },
  {
   "cell_type": "code",
   "execution_count": null,
   "metadata": {},
   "outputs": [],
   "source": [
    "x_0 = np.array([[-1, 1, 1]]).T\n",
    "d = np.array([[1, 1, 1]]).T\n",
    "t = np.array([np.arange(-10, 10)])\n",
    "x = (x_0 + d @ t).tolist()\n",
    "\n",
    "fig = py.figure(figsize=(10, 10))\n",
    "ax = fig.add_subplot(111, projection='3d')\n",
    "\n",
    "# change this line to change view angle\n",
    "# 보는 각도를 바꾸려면 아래 행을 조절하시오\n",
    "ax.view_init(elev=40, azim=-30, roll=0)\n",
    "\n",
    "ax.plot(x[0], x[1], x[2], label='line')\n",
    "ax.plot((0, x_0[0, 0]), (0, x_0[1, 0]), (0, x_0[2, 0]), label='$\\\\mathbf{x_0}$')\n",
    "ax.plot((x_0[0, 0], x_0[0, 0]+d[0, 0]),\n",
    "        (x_0[1, 0], x_0[1, 0]+d[1, 0]),\n",
    "        (x_0[2, 0], x_0[2, 0]+d[2, 0]),\n",
    "        label='$\\\\mathbf{d}$', linewidth=3)\n",
    "\n",
    "py.legend(loc=0)\n",
    "\n"
   ]
  },
  {
   "cell_type": "markdown",
   "metadata": {},
   "source": [
    "* Please feel free to try different `x_0` and `d` vectors.<br>다른 `x_0`, `d` 벡터로도 그려보자.\n",
    "\n"
   ]
  },
  {
   "cell_type": "markdown",
   "metadata": {},
   "source": [
    "## 3차원 공간의 평면<br>Planes of 3D Spaces\n",
    "\n"
   ]
  },
  {
   "cell_type": "markdown",
   "metadata": {},
   "source": [
    "(Weisstein, Eric W. \"Plane.\" From MathWorld--A Wolfram Web Resource. http://mathworld.wolfram.com/Plane.html)\n",
    "\n"
   ]
  },
  {
   "cell_type": "markdown",
   "metadata": {},
   "source": [
    "3차원 공간의 평면은 다음 조건을 만족하는 점 $\\mathbf{x}$의 집합이다.<br>A 3D plane is a set of points $\\mathbf{x}$ satisfying the following condition.\n",
    "\n"
   ]
  },
  {
   "cell_type": "markdown",
   "metadata": {},
   "source": [
    "$$\n",
    "    \\mathbf{n} \\cdot \\left(\\mathbf{x} - \\mathbf{x}_0 \\right) = 0\n",
    "$$\n",
    "\n"
   ]
  },
  {
   "cell_type": "markdown",
   "metadata": {},
   "source": [
    "여기서 $\\mathbf{x}_0$은 평면 위의 한 점이고 $\\mathbf{n}$은 평면에 수직인 벡터이다.<br>\n",
    "Here, $\\mathbf{x}_0$ is a point on the plane and $\\mathbf{n}$ is a vector normal to the plane.\n",
    "\n"
   ]
  },
  {
   "cell_type": "markdown",
   "metadata": {},
   "source": [
    "위 조건을 만족하는 모든 점의 집합은, $\\mathbf{x}_0$ 점을 포함하고 $\\mathbf{n}$ 벡터에 수직인 평면이다.<br>\n",
    "The set of all points satisfying the equation above is a plane including the point $\\mathbf{x}_0$ and normal to vector $\\mathbf{n}$.\n",
    "\n"
   ]
  },
  {
   "cell_type": "markdown",
   "metadata": {},
   "source": [
    "위 내적 값을 시각화 해보자.<br>Let's visualize the inner product values.\n",
    "\n"
   ]
  },
  {
   "cell_type": "code",
   "execution_count": null,
   "metadata": {},
   "outputs": [],
   "source": [
    "# Normal Direction\n",
    "norm = py.array([[2, 1, 0.5]]).T\n",
    "# A point on the plane\n",
    "x_0 = py.array([[1, -2, 0.5]]).T\n",
    "\n",
    "# Set x y z ranges\n",
    "x_array = py.linspace(-5, 5, 10+1)\n",
    "y_array = py.linspace(-5, 5, 10+1)\n",
    "z_array = py.linspace(-5, 5, 10+1)\n",
    "\n",
    "# Combinations of x y z coordinates\n",
    "x_mesh, y_mesh, z_mesh = py.meshgrid(x_array, y_array, z_array)\n",
    "\n",
    "x_flat = x_mesh.flatten()\n",
    "y_flat = y_mesh.flatten()\n",
    "z_flat = z_mesh.flatten()\n",
    "\n",
    "# (x - x_0)\n",
    "x_minus_x0_x_flat = x_flat - x_0[0, 0]\n",
    "x_minus_x0_y_flat = y_flat - x_0[1, 0]\n",
    "x_minus_x0_z_flat = z_flat - x_0[2, 0]\n",
    "\n",
    "# Prepare for the dot product\n",
    "x_minus_x0_array = py.array(\n",
    "    [\n",
    "        x_minus_x0_x_flat,\n",
    "        x_minus_x0_y_flat,\n",
    "        x_minus_x0_z_flat,\n",
    "    ]\n",
    ")\n",
    "\n",
    "# n dot (x - x_0)\n",
    "dot_product = norm.T @ x_minus_x0_array\n",
    "\n",
    "# Prepare for the 3D axis\n",
    "fig = py.figure(figsize=(10, 10))\n",
    "ax = fig.add_subplot(111, projection='3d')\n",
    "\n",
    "# change this line to change view angle\n",
    "# 보는 각도를 바꾸려면 아래 행을 조절하시오\n",
    "ax.view_init(elev=30, azim=-45, roll=0)\n",
    "\n",
    "# Scatter plot\n",
    "# https://matplotlib.org/gallery/mplot3d/scatter3d.html\n",
    "# http://jakevdp.github.io/mpl_tutorial/tutorial_pages/tut5.html\n",
    "scatter = ax.scatter(x_flat,\n",
    "                     y_flat,\n",
    "                     z_flat, c=dot_product, cmap='PiYG')\n",
    "\n",
    "# Indicate x_0\n",
    "ax.plot((0, x_0[0, 0]), (0, x_0[1, 0]), (0, x_0[2, 0]), label='$\\\\mathbf{x_0}$')\n",
    "# Indicate n\n",
    "ax.plot((x_0[0, 0], x_0[0, 0]+norm[0, 0]),\n",
    "        (x_0[1, 0], x_0[1, 0]+norm[1, 0]),\n",
    "        (x_0[2, 0], x_0[2, 0]+norm[2, 0]),\n",
    "        label='$\\\\mathbf{n}$', linewidth=3)\n",
    "\n",
    "# Legend\n",
    "py.legend(loc=0)\n",
    "\n",
    "# Which color of point represent which value?\n",
    "py.colorbar(scatter)\n",
    "\n",
    "# Title of the plot\n",
    "py.title(r'$\\mathbf{n} \\cdot \\left(\\mathbf{x} - \\mathbf{x}_0 \\right)$');\n",
    "\n"
   ]
  },
  {
   "cell_type": "markdown",
   "metadata": {},
   "source": [
    "위 그림은 범위 내 모든 격자 점 (평면에 포함되는 점과 포함되지 않는 점 모두) 에서의 내적 $\\mathbf{n} \\cdot \\left(\\mathbf{x} - \\mathbf{x}_0 \\right)$ 값을 표시한 것이다.<br>\n",
    "The plot above indicates values of the inner product $\\mathbf{n} \\cdot \\left(\\mathbf{x} - \\mathbf{x}_0 \\right)$ for all grid points within the range; both on the plane or not.\n",
    "\n"
   ]
  },
  {
   "cell_type": "markdown",
   "metadata": {},
   "source": [
    "내적 값 0인 점의 집합이 해당 평면이다.<br>The set of points with the inner product value 0 is the plane.\n",
    "\n"
   ]
  },
  {
   "cell_type": "markdown",
   "metadata": {},
   "source": [
    "* Please try different `norm` & `x0` vectors and observe the changes.<br>다른 `norm` & `x0` 벡터도 시도해 보면서 어떻게 달라지는지 관찰해 보기 바람.\n",
    "\n"
   ]
  },
  {
   "cell_type": "markdown",
   "metadata": {},
   "source": [
    "## Final Bell<br>마지막 종\n",
    "\n"
   ]
  },
  {
   "cell_type": "code",
   "execution_count": null,
   "metadata": {},
   "outputs": [],
   "source": [
    "# stackoverfow.com/a/24634221\n",
    "import os\n",
    "os.system(\"printf '\\a'\");\n",
    "\n"
   ]
  },
  {
   "cell_type": "code",
   "execution_count": null,
   "metadata": {},
   "outputs": [],
   "source": []
  }
 ],
 "metadata": {
  "kernelspec": {
   "display_name": "Python 3 (ipykernel)",
   "language": "python",
   "name": "python3"
  },
  "language_info": {
   "codemirror_mode": {
    "name": "ipython",
    "version": 3
   },
   "file_extension": ".py",
   "mimetype": "text/x-python",
   "name": "python",
   "nbconvert_exporter": "python",
   "pygments_lexer": "ipython3",
   "version": "3.10.0"
  },
  "colab": {
   "provenance": [],
   "include_colab_link": true
  }
 },
 "nbformat": 4,
 "nbformat_minor": 0
}