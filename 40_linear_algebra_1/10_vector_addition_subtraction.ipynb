{
 "cells": [
  {
   "cell_type": "markdown",
   "metadata": {
    "id": "view-in-github",
    "colab_type": "text"
   },
   "source": [
    "<a href=\"https://colab.research.google.com/github/kangwonlee/nmisp/blob/dependabot/pip/tests/requests-2.31.0/40_linear_algebra_1/10_vector_addition_subtraction.ipynb\" target=\"_parent\"><img src=\"https://colab.research.google.com/assets/colab-badge.svg\" alt=\"Open In Colab\"/></a>\n"
   ]
  },
  {
   "cell_type": "code",
   "execution_count": null,
   "metadata": {},
   "outputs": [],
   "source": [
    "# 그래프, 수학 기능 추가\n",
    "# Add graph and math features\n",
    "import pylab as py\n",
    "import numpy as np\n",
    "import numpy.linalg as nl\n",
    "# 기호 연산 기능 추가\n",
    "# Add symbolic operation capability\n",
    "import sympy as sy\n",
    "\n"
   ]
  },
  {
   "cell_type": "markdown",
   "metadata": {},
   "source": [
    "# 파이썬에서의 선형대수 : 표준 기능<br>Linear Algebra in Python: Standard Library\n"
   ]
  },
  {
   "cell_type": "markdown",
   "metadata": {},
   "source": [
    "(Karlijn Willems, SciPy Cheat Sheet: Linear Algebra in Python, DataCamp, 2017/02/07, https://www.datacamp.com/community/blog/python-scipy-cheat-sheet)\n",
    "\n"
   ]
  },
  {
   "cell_type": "markdown",
   "metadata": {},
   "source": [
    "(Wikipedia contributors. Linear algebra. Wikipedia, The Free Encyclopedia. August 2, 2018, 17:17 UTC. Available at: https://en.wikipedia.org/w/index.php?title=Linear_algebra&oldid=853134963. Accessed August 11, 2018. )\n",
    "\n"
   ]
  },
  {
   "cell_type": "markdown",
   "metadata": {},
   "source": [
    "**선형 대수**란 간단히 말하면 벡터와 행렬에 관한 수학의 한 분야이다.<br>\n",
    "In short, **Linear Algebra** is an area of mathematics about vectors and matrices.\n",
    "\n"
   ]
  },
  {
   "cell_type": "markdown",
   "metadata": {},
   "source": [
    "파이썬 프로그래밍 언어의 기본 기능만으로도 선형 대수 문제를 해결하는 것이 가능은 하나, 보다 효율을 높이기 위해, 1990년대 이후, 여러 개발자들의 공헌으로 [**사이파이** 계열 확장 모듈](https://www.scipy.org/stackspec.html)을 개발하였다.<br>\n",
    "We can solve linear algebra with default features of python. However, to make it more efficient, since 1990's, a group of community developers contributed in developing [**SciPy** stack](https://www.scipy.org/stackspec.html).\n",
    "\n"
   ]
  },
  {
   "cell_type": "markdown",
   "metadata": {},
   "source": [
    "여기서는 다른 모듈을 사용하지 않고 파이썬 자체의 문법만 사용할 것이다.<br>\n",
    "Here we would use the Python grammar itself without using other modules.\n",
    "\n"
   ]
  },
  {
   "cell_type": "markdown",
   "metadata": {},
   "source": [
    "# 벡터<br>Vector\n",
    "\n"
   ]
  },
  {
   "cell_type": "markdown",
   "metadata": {},
   "source": [
    "벡터는 크기만이 아니라 방향도 가지는 양이다.<br>\n",
    "Vectors is a quantity having both its magnitude and its direction.\n",
    "\n"
   ]
  },
  {
   "cell_type": "markdown",
   "metadata": {},
   "source": [
    "벡터에 관해 아래 비디오 링크를 참고할 수 있다. (5:48)<br>\n",
    "Regarding the vector, you can check the following link. (5:48)<br>\n",
    "<br>\n",
    "[![칸 아카데미 벡터 소개<br>Khan Academy Vector intro](https://i.ytimg.com/vi/br7tS1t2SFE/hqdefault.jpg)](https://www.youtube.com/watch?v=br7tS1t2SFE)<br>\n",
    "<br>\n",
    "Please check following video for adding two vectors.<br>\n",
    "두 벡터의 합에 대해 아래 비디오를 참고하시오.\n",
    "<br>\n",
    "[![칸 아카데미 벡터합](https://i.ytimg.com/vi/8QihetGj3pg/hqdefault.jpg)](https://www.youtube.com/watch?v=8QihetGj3pg)\n",
    "\n"
   ]
  },
  {
   "cell_type": "markdown",
   "metadata": {},
   "source": [
    "예를 들어 2차원 벡터를 생각해 보자.<br>\n",
    "For example, let's think about two-dimensional vectors (2D vectors).\n",
    "\n"
   ]
  },
  {
   "cell_type": "markdown",
   "metadata": {},
   "source": [
    "## 벡터 정의 : 표준 기능<br>Definition of vectors : Standard Library\n",
    "\n"
   ]
  },
  {
   "cell_type": "markdown",
   "metadata": {},
   "source": [
    "리스트 list 또는 튜플 tuple 을 이용하여 다음과 같이 벡터를 정의할 수 있다.<br>\n",
    "We can define the vectors using the list or tuple as follows.\n",
    "\n"
   ]
  },
  {
   "cell_type": "code",
   "execution_count": null,
   "metadata": {},
   "outputs": [],
   "source": [
    "# ref : https://www.youtube.com/watch?v=8QihetGj3pg\n",
    "a = [6, -2] # list\n",
    "b = (-4, 4) # tuple\n",
    "\n"
   ]
  },
  {
   "cell_type": "code",
   "execution_count": null,
   "metadata": {},
   "outputs": [],
   "source": [
    "a\n",
    "\n"
   ]
  },
  {
   "cell_type": "code",
   "execution_count": null,
   "metadata": {},
   "outputs": [],
   "source": [
    "b\n",
    "\n"
   ]
  },
  {
   "cell_type": "markdown",
   "metadata": {},
   "source": [
    "위 2차원 벡터를 한번 그려 보자<br>\n",
    "Let's plot the 2D vectors above.\n",
    "\n"
   ]
  },
  {
   "cell_type": "code",
   "execution_count": null,
   "metadata": {},
   "outputs": [],
   "source": [
    "def draw_2dvec(x, y, x0=0, y0=0, color='k', name=None):\n",
    "    py.quiver(x0, y0, x, y, color=color, angles='xy', scale_units='xy', scale=1)\n",
    "    py.plot((x0, x0+x), (y0, y0+y), alpha=0)\n",
    "    if name is not None:\n",
    "        if not name.startswith('$'):\n",
    "            vec_str = '$\\\\vec{%s}$' % name\n",
    "        else:\n",
    "            vec_str = name\n",
    "        py.text(0.5 * x + x0, 0.5 * y + y0, vec_str)\n",
    "\n"
   ]
  },
  {
   "cell_type": "code",
   "execution_count": null,
   "metadata": {},
   "outputs": [],
   "source": [
    "draw_2dvec(a[0], a[1], name='a')\n",
    "draw_2dvec(b[0], b[1], name='b')\n",
    "\n",
    "py.axis('equal')\n",
    "py.grid(True)\n",
    "\n"
   ]
  },
  {
   "cell_type": "markdown",
   "metadata": {},
   "source": [
    "## 벡터 합 : 표준 기능<br>Sum of two vectors : Standard Library\n",
    "\n"
   ]
  },
  {
   "cell_type": "markdown",
   "metadata": {},
   "source": [
    "두 벡터를 더해 보자.<br>Let's add two vectors.\n",
    "\n"
   ]
  },
  {
   "cell_type": "code",
   "execution_count": null,
   "metadata": {},
   "outputs": [],
   "source": [
    "def add_two_vectors(a, b):\n",
    "    # 두 벡터의 길이가 같은지 확인 \n",
    "    # check if both vectors have the same lengths\n",
    "    assert len(a) == len(b), f\"len(a) == {len(a)} != len(b) == {len(b)}\"\n",
    "\n",
    "    # 벡터의 길이를 n 에 저장\n",
    "    # store the length of the vectors to n \n",
    "    n = len(a)\n",
    "\n",
    "    # 벡터 합을 담을 list 를 준비\n",
    "    # prepare a list to store the vector sum\n",
    "    result = [0] * n\n",
    "\n",
    "    # list의 인덱스를 훑는 for 문\n",
    "    # for loop over the indies of the list\n",
    "    for i in range(n):\n",
    "        # a 와 b list 의 i 번째 원소\n",
    "        # i'th elements of lists a and b\n",
    "        print(f\"a[{i}]={a[i]}, b[{i}]={b[i]}\")\n",
    "\n",
    "        # i 번째 원소의 합\n",
    "        # sum of the i'th elements\n",
    "        result[i] = a[i] + b[i]\n",
    "\n",
    "    # for 반복문의 끝\n",
    "    # end of the for loop\n",
    "\n",
    "    # 결과를 반환\n",
    "    # return the result\n",
    "    return result\n",
    "\n"
   ]
  },
  {
   "cell_type": "markdown",
   "metadata": {},
   "source": [
    "In case of vector addition, it is necessary to check if the lengths of two vectors are the same.<br>\n",
    "벡터 덧셈의 경우, 두 벡터의 크기가 같은지 확인할 필요가 있다.<br>\n",
    "If lengths of two vectors are different, it would raise an `AssertionError`.<br>\n",
    "두 벡터의 길이가 다르면 `AssertionError` 를 발생 시킬 것이다.<br>\n",
    "As an alternative, we may assume that all missing components of the shorter vector are zeros.<br>\n",
    "다른 가능성으로, 길이가 짧은 쪽 벡터에는 없는 성분은 모두 0으로 간주할 수도 있을 것이다.\n",
    "\n"
   ]
  },
  {
   "cell_type": "code",
   "execution_count": null,
   "metadata": {},
   "outputs": [],
   "source": [
    "a_plus_b = add_two_vectors(a, b)\n",
    "\n"
   ]
  },
  {
   "cell_type": "code",
   "execution_count": null,
   "metadata": {
    "scrolled": true
   },
   "outputs": [],
   "source": [
    "a_plus_b\n",
    "\n"
   ]
  },
  {
   "cell_type": "markdown",
   "metadata": {},
   "source": [
    "이 벡터의 합을 그려보자.<br>\n",
    "Let's draw this sum of vectors.\n",
    "\n"
   ]
  },
  {
   "cell_type": "code",
   "execution_count": null,
   "metadata": {},
   "outputs": [],
   "source": [
    "draw_2dvec(a[0], a[1], name='a')\n",
    "draw_2dvec(b[0], b[1], name='b')\n",
    "draw_2dvec(a_plus_b[0], a_plus_b[1], name='$\\\\vec{a}+\\\\vec{b}$')\n",
    "\n",
    "py.axis('equal')\n",
    "py.grid(True)\n",
    "\n"
   ]
  },
  {
   "cell_type": "markdown",
   "metadata": {},
   "source": [
    "어떻게 해서 벡터의 합은 이렇게 된 것일까? $\\vec{b}$ 벡터의 시작점을 $\\vec{a}$ 벡터의 끝점으로 옮겨 보자.<br>\n",
    "How come this vector sum came up like this?  Let's move the starting point of $\\vec{b}$ to the starting point of $\\vec{a}$.\n",
    "\n"
   ]
  },
  {
   "cell_type": "code",
   "execution_count": null,
   "metadata": {},
   "outputs": [],
   "source": [
    "draw_2dvec(a[0], a[1], name='a')\n",
    "draw_2dvec(b[0], b[1], a[0], a[1], color=(0.5, 0.5, 0.5), name='b')\n",
    "draw_2dvec(b[0], b[1], name='b')\n",
    "draw_2dvec(a_plus_b[0], a_plus_b[1], name='$\\\\vec{a}+\\\\vec{b}$')\n",
    "\n",
    "py.axis('equal')\n",
    "py.grid(True)\n",
    "\n"
   ]
  },
  {
   "cell_type": "markdown",
   "metadata": {},
   "source": [
    "여기서 $\\vec{a}$, $\\vec{b}$ 그리고 $\\vec{a} + \\vec{b}$ 가 삼각형을 이룬다는 것을 알 수 있다.<br>\n",
    "Here, you can see that $\\vec{a}$, $\\vec{b}$, and $\\vec{a} + \\vec{b}$ form a triangle.\n",
    "\n"
   ]
  },
  {
   "cell_type": "markdown",
   "metadata": {},
   "source": [
    "$\\vec{b}$의 시작점을 $\\vec{a}$의 끝점으로 옮긴 결과, 회색 벡터의 끝점이 $\\vec{a} + \\vec{b}$ 의 끝점과 같다.<br>\n",
    "As the result of moving the start point of $\\vec{b}$ to the end point of $\\vec{a}$, the end points of the gray vector and $\\vec{a} + \\vec{b}$ are identicial.\n",
    "\n"
   ]
  },
  {
   "cell_type": "markdown",
   "metadata": {},
   "source": [
    "### 교환법칙 : 표준 기능<br>Commutative Law : Standard Library\n",
    "\n"
   ]
  },
  {
   "cell_type": "markdown",
   "metadata": {},
   "source": [
    "벡터의 합의 순서를 바꾸어 보자.<br>Let's change the order of addition.\n",
    "\n"
   ]
  },
  {
   "cell_type": "code",
   "execution_count": null,
   "metadata": {},
   "outputs": [],
   "source": [
    "b_plus_a = add_two_vectors(b, a)\n",
    "\n"
   ]
  },
  {
   "cell_type": "code",
   "execution_count": null,
   "metadata": {
    "scrolled": true
   },
   "outputs": [],
   "source": [
    "b_plus_a\n",
    "\n"
   ]
  },
  {
   "cell_type": "markdown",
   "metadata": {},
   "source": [
    "이는 $\\vec{a}+\\vec{b}$와 같다.<br>This is the same as $\\vec{a}+\\vec{b}$.\n",
    "\n"
   ]
  },
  {
   "cell_type": "markdown",
   "metadata": {},
   "source": [
    "이번에도 시각화 해 보자.<br>Let's visualize again.\n",
    "\n"
   ]
  },
  {
   "cell_type": "code",
   "execution_count": null,
   "metadata": {},
   "outputs": [],
   "source": [
    "draw_2dvec(a[0], a[1], name='a')\n",
    "draw_2dvec(b[0], b[1], name='b')\n",
    "draw_2dvec(a[0], a[1], b[0], b[1], color=(0.75, 0.75, 0.75), name='a')\n",
    "draw_2dvec(b_plus_a[0], b_plus_a[1], name='$\\\\vec{b}+\\\\vec{a}$')\n",
    "\n",
    "py.axis('equal')\n",
    "py.grid(True)\n",
    "\n"
   ]
  },
  {
   "cell_type": "markdown",
   "metadata": {},
   "source": [
    "비슷하게, $\\vec{a}$, $\\vec{b}$ 그리고 $\\vec{b} + \\vec{a}$ 가 삼각형을 이룬다는 것을 알 수 있다.<br>\n",
    "Similarly, you can see that $\\vec{a}$, $\\vec{b}$, and $\\vec{b} + \\vec{a}$ form a triangle.\n",
    "\n"
   ]
  },
  {
   "cell_type": "markdown",
   "metadata": {},
   "source": [
    "이번에는 $\\vec{a}$의 시작점을 $\\vec{b}$의 끝점으로 옮겨 보았다. 덧셈의 순서와는 상관 없이, 회색 벡터의 끝점이 $\\vec{b} + \\vec{a}$ 의 끝점과 일치하는 것을 확인할 수 있다.<br>\n",
    "This time, we moved the start point of $\\vec{a}$ to the end point of $\\vec{b}$. We can confirm that regardless of the order of addition, the end points of the gray vector and $\\vec{a} + \\vec{b}$ are identicial.\n",
    "\n"
   ]
  },
  {
   "cell_type": "markdown",
   "metadata": {},
   "source": [
    "두 방식을 모두 표시해 보자.<br>Let's indicate both ways.\n",
    "\n"
   ]
  },
  {
   "cell_type": "code",
   "execution_count": null,
   "metadata": {
    "scrolled": true
   },
   "outputs": [],
   "source": [
    "draw_2dvec(a[0], a[1], name='a')\n",
    "draw_2dvec(b[0], b[1], name='b')\n",
    "draw_2dvec(a[0], a[1], b[0], b[1], color=(0.75, 0.75, 0.75), name='a')\n",
    "draw_2dvec(b[0], b[1], a[0], a[1], color=(0.5, 0.5, 0.5), name='b')\n",
    "draw_2dvec(b_plus_a[0], b_plus_a[1], name='$\\\\vec{a}+\\\\vec{b}$')\n",
    "\n",
    "py.axis('equal')\n",
    "py.grid(True)\n",
    "\n"
   ]
  },
  {
   "cell_type": "markdown",
   "metadata": {},
   "source": [
    "벡터 합은 $\\vec{a}$와 $\\vec{b}$가 이루는 평행 사변형의 한 대각선임을 알 수 있다.<br>\n",
    "We can see that the vector sum is one of diagonals of the parallogram of $\\vec{a}$'s and $\\vec{b}$'s.\n",
    "\n"
   ]
  },
  {
   "cell_type": "markdown",
   "metadata": {},
   "source": [
    "## 스칼라와 벡터의 곱 : 표준 기능<br>Product of a Scalar and a Vector : Standard Library\n",
    "\n"
   ]
  },
  {
   "cell_type": "markdown",
   "metadata": {},
   "source": [
    "벡터에 어떤 스칼라 값을 곱해 보자.<br>Let's multiply a scalar value to a vector.\n",
    "\n"
   ]
  },
  {
   "cell_type": "code",
   "execution_count": null,
   "metadata": {},
   "outputs": [],
   "source": [
    "def scalar_mul(a, x_vector):\n",
    "    result = [0.0] * len(x_vector)\n",
    "\n",
    "    for k in range(len(x_vector)):\n",
    "        result[k] = a * x_vector[k]\n",
    "\n",
    "    return result\n",
    "\n"
   ]
  },
  {
   "cell_type": "code",
   "execution_count": null,
   "metadata": {},
   "outputs": [],
   "source": [
    "x = (2, 1)\n",
    "alpha = 3\n",
    "alpha_x = scalar_mul(alpha, x)\n",
    "\n"
   ]
  },
  {
   "cell_type": "code",
   "execution_count": null,
   "metadata": {},
   "outputs": [],
   "source": [
    "alpha_x\n",
    "\n"
   ]
  },
  {
   "cell_type": "markdown",
   "metadata": {},
   "source": [
    "그림으로 표시해 보자.<br>Let's draw.\n",
    "\n"
   ]
  },
  {
   "cell_type": "code",
   "execution_count": null,
   "metadata": {
    "scrolled": false
   },
   "outputs": [],
   "source": [
    "draw_2dvec(alpha_x[0], alpha_x[1], name='$\\\\alpha\\\\vec{x}$', color=(0.5, 0.5, 0.5))\n",
    "draw_2dvec(x[0], x[1], name='x')\n",
    "\n",
    "py.axis('equal')\n",
    "py.grid(True)\n",
    "\n"
   ]
  },
  {
   "cell_type": "markdown",
   "metadata": {},
   "source": [
    "방향은 바뀌지 않고 크기만 달라지는 것을 알 수 있다.<br>\n",
    "The direction does not change but the magnitude changes.\n",
    "\n"
   ]
  },
  {
   "cell_type": "markdown",
   "metadata": {},
   "source": [
    "스칼라 값이 음인 경우는 어떠할까?<br>What if scalar value is negative?\n",
    "\n"
   ]
  },
  {
   "cell_type": "code",
   "execution_count": null,
   "metadata": {},
   "outputs": [],
   "source": [
    "x = (2, 1)\n",
    "beta = -1\n",
    "beta_x = scalar_mul(beta, x)\n",
    "\n"
   ]
  },
  {
   "cell_type": "code",
   "execution_count": null,
   "metadata": {},
   "outputs": [],
   "source": [
    "beta_x\n",
    "\n"
   ]
  },
  {
   "cell_type": "code",
   "execution_count": null,
   "metadata": {
    "scrolled": true
   },
   "outputs": [],
   "source": [
    "draw_2dvec(alpha_x[0], alpha_x[1], name='$\\\\alpha\\\\vec{x}$', color=(0.5, 0.5, 0.5))\n",
    "draw_2dvec(beta_x[0], beta_x[1], name='$\\\\beta\\\\vec{x}$', color=py.ones((1, 3)) * 0.25)\n",
    "draw_2dvec(x[0], x[1], name='x')\n",
    "\n",
    "py.axis('equal')\n",
    "py.grid(True)\n",
    "\n"
   ]
  },
  {
   "cell_type": "markdown",
   "metadata": {},
   "source": [
    "음의 스칼라를 곱하면 방향이 반대로 된다는 것을 알 수 있다.<br>\n",
    "In case of the negative scalar, the direction becomes the opposite.\n",
    "\n"
   ]
  },
  {
   "cell_type": "markdown",
   "metadata": {},
   "source": [
    "## 벡터의 차 : 표준 기능<br>Difference of two vectors : Standard Library\n",
    "\n"
   ]
  },
  {
   "cell_type": "markdown",
   "metadata": {},
   "source": [
    "어떤 벡터 $\\vec{b}$를 다른 벡터 $\\vec{a}$에서 빼는 셈에 대해 생각해 보자.<br>\n",
    "Let's think about subtracting a vector $\\vec{b}$ from another vector $\\vec{a}$.\n",
    "\n"
   ]
  },
  {
   "cell_type": "code",
   "execution_count": null,
   "metadata": {},
   "outputs": [],
   "source": [
    "a_minus_b = add_two_vectors(a, scalar_mul(-1, b))\n",
    "\n"
   ]
  },
  {
   "cell_type": "code",
   "execution_count": null,
   "metadata": {
    "scrolled": true
   },
   "outputs": [],
   "source": [
    "a_minus_b\n",
    "\n"
   ]
  },
  {
   "cell_type": "markdown",
   "metadata": {},
   "source": [
    "그림으로 표시보자.<br>\n",
    "Let's visualize.\n",
    "\n"
   ]
  },
  {
   "cell_type": "code",
   "execution_count": null,
   "metadata": {},
   "outputs": [],
   "source": [
    "draw_2dvec(a[0], a[1], name='a')\n",
    "draw_2dvec(b[0], b[1], name='b')\n",
    "draw_2dvec(a_minus_b[0], a_minus_b[1], name='$\\\\vec{a}-\\\\vec{b}$')\n",
    "\n",
    "py.axis('equal')\n",
    "py.grid(True)\n",
    "\n"
   ]
  },
  {
   "cell_type": "markdown",
   "metadata": {},
   "source": [
    "이번에는 어떻게 해서 벡터의 차가 이렇게 된 것인지 알아 보자. $\\vec{b}$ 벡터에 -1을 곱해서 시작점을 $\\vec{a}$ 벡터의 끝점으로 옮겨 보자.<br>\n",
    "Let's figure out the vector subtraction.  Let's multiply by -1 to $\\vec{b}$ and move the starting point to the end point of $\\vec{a}$.\n",
    "\n"
   ]
  },
  {
   "cell_type": "code",
   "execution_count": null,
   "metadata": {},
   "outputs": [],
   "source": [
    "draw_2dvec(a[0], a[1], name='a')\n",
    "draw_2dvec(-b[0], -b[1], a[0], a[1], color=(0.5, 0.5, 0.5), name='$-\\\\vec{b}$')\n",
    "draw_2dvec(b[0], b[1], name='b')\n",
    "draw_2dvec(a_minus_b[0], a_minus_b[1], name='$\\\\vec{a}-\\\\vec{b}$')\n",
    "\n",
    "py.axis('equal')\n",
    "py.grid(True)\n",
    "\n"
   ]
  },
  {
   "cell_type": "markdown",
   "metadata": {},
   "source": [
    "벡터 뺄셈은 부호를 바꾸어 더하는 것과 같다.<br>Subtracting a vector is equivalent to changing the sign of the vector and adding it.\n",
    "\n"
   ]
  },
  {
   "cell_type": "markdown",
   "metadata": {},
   "source": [
    " 이번에는 $\\vec{a}-\\vec{b}$ 의 시작점을 $\\vec{b}$의 끝점으로 옮겨 보자.<br>\n",
    " This time, let's move the start point of $\\vec{a}-\\vec{b}$ to the end point of $\\vec{b}$.\n",
    "\n"
   ]
  },
  {
   "cell_type": "code",
   "execution_count": null,
   "metadata": {
    "scrolled": false
   },
   "outputs": [],
   "source": [
    "draw_2dvec(a[0], a[1], name='a')\n",
    "draw_2dvec(b[0], b[1], name='b')\n",
    "draw_2dvec(a[0], a[1], b[0], b[1], color=(0.75, 0.75, 0.75), name='a')\n",
    "draw_2dvec(b[0], b[1], a[0], a[1], color=(0.5, 0.5, 0.5), name='b')\n",
    "draw_2dvec(a_minus_b[0], a_minus_b[1], b[0], b[1], name='$\\\\vec{a}-\\\\vec{b}$')\n",
    "\n",
    "py.axis('equal')\n",
    "py.grid(True)\n",
    "\n"
   ]
  },
  {
   "cell_type": "markdown",
   "metadata": {},
   "source": [
    "이는 다음을 뜻한다.<br>\n",
    "This means the following.\n",
    "\n"
   ]
  },
  {
   "cell_type": "markdown",
   "metadata": {},
   "source": [
    "$$\n",
    "\\vec{b}+\\left(\\vec{a}-\\vec{b}\\right)=\\vec{a}\n",
    "$$\n",
    "\n"
   ]
  },
  {
   "cell_type": "markdown",
   "metadata": {},
   "source": [
    "또한, $\\vec{a}-\\vec{b}$ 도 $\\vec{a}$와 $\\vec{b}$가 이루는 평행 사변형의 다른 대각선임을 알 수 있다.<br>\n",
    "We can also see that the vector subtraction is the other diagonal of the parallogram of $\\vec{a}$'s and $\\vec{b}$'s.\n",
    "\n"
   ]
  },
  {
   "cell_type": "markdown",
   "source": [
    "# Now let's compare with `NumPy`<br>이제 `NumPy`와 비교해 봅시다.\n",
    "\n"
   ],
   "metadata": {}
  },
  {
   "cell_type": "markdown",
   "metadata": {},
   "source": [
    "## 연습 문제<br>Exercise\n",
    "\n"
   ]
  },
  {
   "cell_type": "markdown",
   "metadata": {},
   "source": [
    "* 임의의 두 2차원 벡터를 파이썬 튜플 tuple 로 정의하시오<br>Define two 2-dimensional vectors as python tuples.\n",
    "\n"
   ]
  },
  {
   "cell_type": "code",
   "execution_count": null,
   "metadata": {},
   "outputs": [],
   "source": []
  },
  {
   "cell_type": "markdown",
   "metadata": {},
   "source": [
    "* 위에서 보인 예와 같이 두 벡터를 그려 보시오<br>Plot these two vectors as above\n",
    "\n"
   ]
  },
  {
   "cell_type": "code",
   "execution_count": null,
   "metadata": {},
   "outputs": [],
   "source": []
  },
  {
   "cell_type": "markdown",
   "metadata": {},
   "source": [
    "* 두 벡터의 합과 두 벡터를 함께 그려 보시오<br>Plot the sum of two vectors with the two vectors\n",
    "\n"
   ]
  },
  {
   "cell_type": "code",
   "execution_count": null,
   "metadata": {},
   "outputs": [],
   "source": []
  },
  {
   "cell_type": "markdown",
   "metadata": {},
   "source": [
    "* 두 벡터와 두 벡터의 합, 두 벡터의 차를 함께 그려 보시오<br>Plot the two vectors, the sum vector and the difference vector\n",
    "\n"
   ]
  },
  {
   "cell_type": "code",
   "execution_count": null,
   "metadata": {},
   "outputs": [],
   "source": []
  },
  {
   "cell_type": "markdown",
   "metadata": {},
   "source": [
    "## 튜플 `tuple` 과 리스트 `list`<br>`tuple` and `list`\n",
    "\n"
   ]
  },
  {
   "cell_type": "markdown",
   "metadata": {},
   "source": [
    "리스트 `list` 와 튜플 `tuple` 모두 여러 항목을 저장할 수 있다.<br>Both `list` and `tuple` can store multiple items.\n",
    "\n"
   ]
  },
  {
   "cell_type": "markdown",
   "metadata": {},
   "source": [
    "또한 각 항목을 순서로 구분한다.<br>Also, distinguish each item with the order.\n",
    "\n"
   ]
  },
  {
   "cell_type": "markdown",
   "metadata": {},
   "source": [
    "리스트는 항목을 변경 추가 삭제할 수 있으나 (mutable) 튜플은 한번 만들어지면 변경할 수 없다 (immutable).<br>\n",
    "We may change, add, or remove items in lists (mutable) but we cannot with tuples (immutable).\n",
    "\n"
   ]
  },
  {
   "cell_type": "markdown",
   "metadata": {},
   "source": [
    "예를 들어 다음 함수를 생각해 보자.<br>Let's check following function.\n",
    "\n"
   ]
  },
  {
   "cell_type": "code",
   "execution_count": null,
   "metadata": {},
   "outputs": [],
   "source": [
    "def multipy_scalar(a, x_vector):\n",
    "    y_vector = x_vector\n",
    "\n",
    "    for k in range(len(x_vector)):\n",
    "        y_vector[k] = a * x_vector[k]\n",
    "\n",
    "    return y_vector\n",
    "\n"
   ]
  },
  {
   "cell_type": "code",
   "execution_count": null,
   "metadata": {},
   "outputs": [],
   "source": [
    "x_list = [1, 2, 3]\n",
    "a_sample = 0.1\n",
    "y_sample = multipy_scalar(a_sample, x_list)\n",
    "\n"
   ]
  },
  {
   "cell_type": "code",
   "execution_count": null,
   "metadata": {},
   "outputs": [],
   "source": [
    "y_sample\n",
    "\n"
   ]
  },
  {
   "cell_type": "code",
   "execution_count": null,
   "metadata": {},
   "outputs": [],
   "source": [
    "x_list\n",
    "\n"
   ]
  },
  {
   "cell_type": "markdown",
   "metadata": {},
   "source": [
    "튜플 tuple 의 경우, 항목을 바꿀 수 없으므로 아래 예에서 예외 Exception 가 발생한다.<br>\n",
    "Because a tuple does not allow chaning one of its items, following example would raise an Exception.\n",
    "\n"
   ]
  },
  {
   "cell_type": "code",
   "execution_count": null,
   "metadata": {},
   "outputs": [],
   "source": [
    "try:\n",
    "    x_tuple = (4, 5, 6)\n",
    "    b_sample = 0.01\n",
    "    y_sample = multipy_scalar(b_sample, x_tuple)\n",
    "except TypeError as e:\n",
    "    print(e)\n",
    "    print('cannot change an item in tuple')\n",
    "\n"
   ]
  },
  {
   "cell_type": "markdown",
   "metadata": {},
   "source": [
    "## `zip`()\n",
    "\n"
   ]
  },
  {
   "cell_type": "markdown",
   "metadata": {},
   "source": [
    "기본 내장 함수인 `zip()` 은 여러 모음에서 한 항목씩 꺼내어 만든 튜플 `tuple` 을 *생성*한다.<br>\n",
    "Built-in function `zip()` generates `tuple`s of items from multiple collections.\n",
    "\n"
   ]
  },
  {
   "cell_type": "code",
   "execution_count": null,
   "metadata": {},
   "outputs": [],
   "source": [
    "a_str = 'abc'\n",
    "b_list = [0, 1, 2]\n",
    "c_dict = {'x':'xylophone', 'y':'yield'}\n",
    "\n",
    "for a_b_c in zip(a_str, b_list, c_dict):\n",
    "    print(a_b_c)\n",
    "\n"
   ]
  },
  {
   "cell_type": "markdown",
   "metadata": {},
   "source": [
    "한 모음이라도 항목이 다 떨어지면 중단한다.<br>\n",
    "The iteration stops when the smallest collection exhausts.\n",
    "\n"
   ]
  },
  {
   "cell_type": "markdown",
   "metadata": {},
   "source": [
    "위 벡터 합 예를 아래와 같이 바꾸어 쓸 수 있다.<br>\n",
    "We can rewrite the vector sum example above as follows.\n",
    "\n"
   ]
  },
  {
   "cell_type": "code",
   "execution_count": null,
   "metadata": {},
   "outputs": [],
   "source": [
    "def add_two_vectors_zip(a, b):\n",
    "\n",
    "    # 두 벡터의 길이가 같은지 확인 \n",
    "    # check if both vectors have the same lengths\n",
    "    assert len(a) == len(b), f\"len(a) == {len(a)} != len(b) == {len(b)}\"\n",
    "\n",
    "    # 벡터 합을 담을 list 를 준비\n",
    "    # prepare a list to store the vector sum\n",
    "    result = []\n",
    "\n",
    "    for ai, bi in zip(a, b):\n",
    "        # a 와 b list 의 i 번째 원소\n",
    "        # i'th elements of lists a and b\n",
    "        print(f\"ai={ai}, bi={bi}\")\n",
    "\n",
    "        # i 번째 원소의 합\n",
    "        # sum of the i'th elements\n",
    "        result.append(ai + bi)\n",
    "\n",
    "    # for 반복문의 끝\n",
    "    # end of the for loop\n",
    "\n",
    "    # 결과를 반환\n",
    "    # return the result\n",
    "    return result\n",
    "\n"
   ]
  },
  {
   "cell_type": "code",
   "execution_count": null,
   "metadata": {},
   "outputs": [],
   "source": [
    "assert add_two_vectors(a, b) == add_two_vectors_zip(a, b), (a, b, add_two_vectors(a, b), add_two_vectors_zip(a, b))\n",
    "\n"
   ]
  },
  {
   "cell_type": "markdown",
   "metadata": {},
   "source": [
    "### 리스트 컴프리헨션<br>List comprehension\n",
    "\n"
   ]
  },
  {
   "cell_type": "markdown",
   "metadata": {},
   "source": [
    "다음 결과를 비교하시오.<br>\n",
    "Compare the results of following cells.\n"
   ]
  },
  {
   "cell_type": "code",
   "execution_count": null,
   "metadata": {},
   "outputs": [],
   "source": [
    "s_for = []\n",
    "\n",
    "for i in range(10):\n",
    "    s_for.append(2 * i + 1)\n",
    "\n",
    "print(s_for)\n",
    "\n"
   ]
  },
  {
   "cell_type": "code",
   "execution_count": null,
   "metadata": {},
   "outputs": [],
   "source": [
    "s_list_comprehension = [2 * j + 1 for j in range(10)]\n",
    "\n",
    "print(s_list_comprehension)\n",
    "\n"
   ]
  },
  {
   "cell_type": "code",
   "execution_count": null,
   "metadata": {},
   "outputs": [],
   "source": [
    "s_map = list(map(lambda k: 2 * k + 1, range(10)))\n",
    "\n",
    "print(s_map)\n",
    "\n"
   ]
  },
  {
   "cell_type": "markdown",
   "metadata": {},
   "source": [
    "`set()` 이나 `dict()`에 대해서도 적용 가능하다.<br>\n",
    "It is applicable to `set()` or `dict()`.\n",
    "\n"
   ]
  },
  {
   "cell_type": "code",
   "execution_count": null,
   "metadata": {},
   "outputs": [],
   "source": [
    "input_str = 'set comprehension'\n",
    "\n"
   ]
  },
  {
   "cell_type": "code",
   "execution_count": null,
   "metadata": {},
   "outputs": [],
   "source": [
    "set_for = set()\n",
    "\n",
    "for c in input_str:\n",
    "    set_for.add(c*2)\n",
    "\n",
    "print(set_for)\n",
    "\n"
   ]
  },
  {
   "cell_type": "code",
   "execution_count": null,
   "metadata": {
    "scrolled": true
   },
   "outputs": [],
   "source": [
    "set_comprehension = {2 * j for j in input_str}\n",
    "\n",
    "print(set_comprehension)\n",
    "print(set_for == set_comprehension)\n",
    "\n"
   ]
  },
  {
   "cell_type": "code",
   "execution_count": null,
   "metadata": {},
   "outputs": [],
   "source": [
    "input_str = 'dictionary comprehension'\n",
    "\n"
   ]
  },
  {
   "cell_type": "code",
   "execution_count": null,
   "metadata": {},
   "outputs": [],
   "source": [
    "dict_for = {}\n",
    "\n",
    "for c in input_str:\n",
    "    # ASCII code for c = ord(c)\n",
    "    dict_for[c] = ord(c)\n",
    "\n",
    "print(dict_for)\n",
    "\n"
   ]
  },
  {
   "cell_type": "code",
   "execution_count": null,
   "metadata": {
    "scrolled": true
   },
   "outputs": [],
   "source": [
    "dict_comprehension = {c:ord(c) for c in input_str}\n",
    "\n",
    "print(dict_comprehension)\n",
    "\n"
   ]
  },
  {
   "cell_type": "markdown",
   "metadata": {},
   "source": [
    "## `quiver()`\n",
    "\n"
   ]
  },
  {
   "cell_type": "markdown",
   "metadata": {},
   "source": [
    "이 함수는 다수의 화살표를 동시에 생성한다.<br>\n",
    "This function would generate a group of arrows at the same time.\n",
    "\n"
   ]
  },
  {
   "cell_type": "markdown",
   "metadata": {},
   "source": [
    "아래 셀의 결과를 비교하시오.<br>Compare the result of the following cells.\n",
    "\n"
   ]
  },
  {
   "cell_type": "code",
   "execution_count": null,
   "metadata": {},
   "outputs": [],
   "source": [
    "import matplotlib.pyplot as plt\n",
    "import numpy as np\n",
    "\n"
   ]
  },
  {
   "cell_type": "code",
   "execution_count": null,
   "metadata": {},
   "outputs": [],
   "source": [
    "x_deg = np.linspace(0, 360)\n",
    "y = np.zeros_like(x_deg)\n",
    "u = np.zeros_like(x_deg)\n",
    "v = np.cos(np.deg2rad(x_deg))\n",
    "\n",
    "plt.quiver(x_deg, y, u, v)\n",
    "plt.show()\n",
    "\n"
   ]
  },
  {
   "cell_type": "code",
   "execution_count": null,
   "metadata": {},
   "outputs": [],
   "source": [
    "x_deg = np.linspace(0, 360)\n",
    "y = np.zeros_like(x_deg)\n",
    "u = np.zeros_like(x_deg)\n",
    "v = np.cos(np.deg2rad(x_deg))\n",
    "\n",
    "plt.plot(x_deg, v)\n",
    "plt.quiver(x_deg, y, u, v)\n",
    "\n",
    "plt.show()\n",
    "\n"
   ]
  },
  {
   "cell_type": "markdown",
   "metadata": {},
   "source": [
    "## 두 벡터의 합을 구하는 다른 방법<br>Other ways to add two vectors\n",
    "\n"
   ]
  },
  {
   "cell_type": "markdown",
   "metadata": {},
   "source": [
    "리스트 항목 순서<br>Indices of lists\n",
    "\n"
   ]
  },
  {
   "cell_type": "code",
   "execution_count": null,
   "metadata": {},
   "outputs": [],
   "source": [
    "def add_two_vectors_index(a, b):\n",
    "\n",
    "    result = [0.0] * len(a)\n",
    "\n",
    "    for index in range(len(a)):\n",
    "        print(f\"index : a[{index}]={a[index]}, b[{index}]={b[index]}\")\n",
    "        result[index] = a[index] + b[index]\n",
    "\n",
    "    return result\n",
    "\n"
   ]
  },
  {
   "cell_type": "markdown",
   "source": [
    "`copy()`\n",
    "\n"
   ],
   "metadata": {}
  },
  {
   "cell_type": "code",
   "source": [
    "def add_two_vectors_copy(a, b):\n",
    "    result = a.copy()\n",
    "    for index in range(len(a)):\n",
    "        print(\n",
    "            f\"index : result[{index}]={result[index]},\" \n",
    "            f\" b[{index}]={b[index]}\"\n",
    "        )\n",
    "        result[index] += b[index]\n",
    "    return result\n",
    "\n"
   ],
   "metadata": {},
   "execution_count": null,
   "outputs": []
  },
  {
   "cell_type": "markdown",
   "metadata": {},
   "source": [
    "`zip()`\n",
    "\n"
   ]
  },
  {
   "cell_type": "code",
   "execution_count": null,
   "metadata": {},
   "outputs": [],
   "source": [
    "def add_two_vectors_zip(a, b):\n",
    "\n",
    "    result = []\n",
    "\n",
    "    for ai, bi in zip(a, b):\n",
    "        print(f\"zip : ai={ai}, bi={bi}\")\n",
    "        result.append(ai + bi)\n",
    "\n",
    "    return result\n",
    "\n"
   ]
  },
  {
   "cell_type": "markdown",
   "metadata": {},
   "source": [
    "`map()`\n",
    "\n"
   ]
  },
  {
   "cell_type": "code",
   "execution_count": null,
   "metadata": {},
   "outputs": [],
   "source": [
    "def add_two_vectors_map(a, b):\n",
    "    return list(\n",
    "        map(\n",
    "            lambda ai_bi: sum(ai_bi),\n",
    "            zip(a, b)\n",
    "        )\n",
    "    )\n",
    "\n"
   ]
  },
  {
   "cell_type": "markdown",
   "metadata": {},
   "source": [
    "리스트 줄여쓰기<br>List comprehension\n",
    "\n"
   ]
  },
  {
   "cell_type": "code",
   "execution_count": null,
   "metadata": {},
   "outputs": [],
   "source": [
    "def add_two_vectors_list_comprehension(a, b):\n",
    "    return [(ai + bi) for ai, bi in zip(a, b)]\n",
    "\n"
   ]
  },
  {
   "cell_type": "markdown",
   "metadata": {},
   "source": [
    "결과는 모두 같다.<br>All three methods give same results.\n",
    "\n"
   ]
  },
  {
   "cell_type": "code",
   "execution_count": null,
   "metadata": {
    "scrolled": true
   },
   "outputs": [],
   "source": [
    "x = [1, 2, 3]\n",
    "y = [0.1, 0.2, 0.3]\n",
    "\n",
    "print('result =', add_two_vectors(x, y))\n",
    "print('result (index) =', add_two_vectors_index(x, y))\n",
    "print('result (copy) =', add_two_vectors_copy(x, y))\n",
    "print('result (zip) =', add_two_vectors_zip(x, y))\n",
    "print('result (map) =', add_two_vectors_map(x, y))\n",
    "print('result (list comprehension) =', add_two_vectors_list_comprehension(x, y))\n",
    "\n"
   ]
  },
  {
   "cell_type": "markdown",
   "metadata": {},
   "source": [
    "## `assert`\n",
    "\n"
   ]
  },
  {
   "cell_type": "markdown",
   "metadata": {},
   "source": [
    "`assert` 명령은 프로그램이 예상했던 대로 작동하는지 확인할 수 있는 방법이다.<br>\n",
    "`assert` is one of ways to check if program is working as expected.\n",
    "\n"
   ]
  },
  {
   "cell_type": "markdown",
   "metadata": {},
   "source": [
    "```\n",
    "assert <logic>, <message>\n",
    "```\n"
   ]
  },
  {
   "cell_type": "markdown",
   "metadata": {},
   "source": [
    "위 셀에서 `<logic>` 위치의 논리식이 거짓이면 `AssertionError` 예외를 발생시킨다.<br>\n",
    "In the cell above, when the logical expression of `<logic>` is False, it would raise an exception of `AssertionError`.\n",
    "\n"
   ]
  },
  {
   "cell_type": "markdown",
   "source": [
    "### In C<br>C언어 예\n",
    "\n"
   ],
   "metadata": {}
  },
  {
   "cell_type": "code",
   "source": [
    "%%writefile add_vec.c\n",
    "#include <malloc.h>\n",
    "#include <stdio.h>\n",
    "\n",
    "\n",
    "double * new_vec(const int n);\n",
    "void add_vec(\n",
    "  const double * a, const double * b, double * result,\n",
    "  const int n\n",
    ");\n",
    "void print_vec(const double * vec, const int n);\n",
    "\n",
    "\n",
    "int main() {\n",
    "  const int n = 2;\n",
    "  const double a[2] = {6, -2};\n",
    "  const double b[2] = {-4, 4};\n",
    "\n",
    "  // prepare a list to store the vector sum\n",
    "  // 벡터 합을 담을 list 를 준비\n",
    "  double * result = new_vec(n);\n",
    "  add_vec(a, b, result, n);\n",
    "\n",
    "  printf(\"a = \");\n",
    "  print_vec(a, n);\n",
    "\n",
    "  printf(\"b = \");\n",
    "  print_vec(b, n);\n",
    "\n",
    "  printf(\"result = \");\n",
    "  print_vec(result, n);\n",
    "\n",
    "  free(result);\n",
    "\n",
    "  return 0;\n",
    "}\n",
    "\n",
    "\n",
    "double * new_vec(const int n){\n",
    "  return malloc(sizeof(double) * n);\n",
    "}\n",
    "\n",
    "\n",
    "void add_vec(\n",
    "    const double * a, const double * b, double * result,\n",
    "    const int n\n",
    "  ) {\n",
    "\n",
    "  // for loop over the indies of the list\n",
    "  // list의 인덱스를 훑는 for 문\n",
    "  for (int i = 0; i < n ; i ++) {\n",
    "    printf(\n",
    "      \"a[%d] = %f, b[%d] = %f\\n\",\n",
    "        i, a[i], i, b[i]\n",
    "    );\n",
    "\n",
    "    // i 번째 원소의 합\n",
    "    // sum of the i'th elements\n",
    "    result[i] = a[i] + b[i];\n",
    "  }\n",
    "  // for 반복문의 끝\n",
    "  // end of the for loop\n",
    "}\n",
    "\n",
    "\n",
    "void print_vec(const double * vec, const int n){\n",
    "  printf(\"[\");\n",
    "\n",
    "  // for loop over the indies of the list\n",
    "  // list의 인덱스를 훑는 for 문\n",
    "  for (int i = 0; i < n; i ++) {\n",
    "    printf(\"%f\", vec[i]);\n",
    "    if (i < (n-1)) {\n",
    "      printf(\", \");\n",
    "    }\n",
    "  }\n",
    "  // for 반복문의 끝\n",
    "  // end of the for loop\n",
    "  puts(\"]\");\n",
    "}\n",
    "\n"
   ],
   "metadata": {},
   "execution_count": null,
   "outputs": []
  },
  {
   "cell_type": "code",
   "source": [
    "!gcc add_vec.c\n",
    "\n"
   ],
   "metadata": {},
   "execution_count": null,
   "outputs": []
  },
  {
   "cell_type": "code",
   "source": [
    "!./a.out\n",
    "\n"
   ],
   "metadata": {},
   "execution_count": null,
   "outputs": []
  },
  {
   "cell_type": "markdown",
   "source": [
    "Cleaning up<br>\n",
    "청소\n",
    "\n"
   ],
   "metadata": {}
  },
  {
   "cell_type": "code",
   "source": [
    "import pathlib\n",
    "\n",
    "\n",
    "add_vec = pathlib.Path('add_vec.c')\n",
    "if add_vec.exists():\n",
    "  add_vec.unlink()\n",
    "\n",
    "a_out = pathlib.Path('a.out')\n",
    "if a_out.exists():\n",
    "  a_out.unlink()\n",
    "\n"
   ],
   "metadata": {},
   "execution_count": null,
   "outputs": []
  },
  {
   "cell_type": "markdown",
   "metadata": {},
   "source": [
    "## 시험<br>Tests\n",
    "\n"
   ]
  },
  {
   "cell_type": "code",
   "execution_count": null,
   "metadata": {},
   "outputs": [],
   "source": [
    "import random\n",
    "\n",
    "test_alpha_scalar = random.random()*2 - 1\n",
    "\n",
    "test_x_vector = [random.random()*2 - 1, random.random()*2 - 1]\n",
    "\n",
    "expected = [(test_x_vector[0] * test_alpha_scalar), (test_x_vector[1] * test_alpha_scalar)]\n",
    "\n",
    "result = scalar_mul(test_alpha_scalar, test_x_vector)\n",
    "\n",
    "assert expected == result, (\n",
    "    f\"\\nscalar = {test_alpha_scalar}\\n\"\n",
    "    f\"input vector = {test_x_vector}\\n\"\n",
    "    f\"expected = {expected}\\n\"\n",
    "    f\"result = {result}\\n\"\n",
    ")\n",
    "\n"
   ]
  },
  {
   "cell_type": "markdown",
   "metadata": {},
   "source": [
    "## Final Bell<br>마지막 종\n",
    "\n"
   ]
  },
  {
   "cell_type": "code",
   "execution_count": null,
   "metadata": {},
   "outputs": [],
   "source": [
    "# stackoverfow.com/a/24634221\n",
    "import os\n",
    "os.system(\"printf '\\a'\");\n",
    "\n"
   ]
  },
  {
   "cell_type": "code",
   "execution_count": null,
   "metadata": {},
   "outputs": [],
   "source": []
  }
 ],
 "metadata": {
  "kernelspec": {
   "display_name": "Python 3",
   "language": "python",
   "name": "python3"
  },
  "language_info": {
   "codemirror_mode": {
    "name": "ipython",
    "version": 3
   },
   "file_extension": ".py",
   "mimetype": "text/x-python",
   "name": "python",
   "nbconvert_exporter": "python",
   "pygments_lexer": "ipython3",
   "version": "3.7.3"
  },
  "colab": {
   "provenance": [],
   "include_colab_link": true
  }
 },
 "nbformat": 4,
 "nbformat_minor": 0
}