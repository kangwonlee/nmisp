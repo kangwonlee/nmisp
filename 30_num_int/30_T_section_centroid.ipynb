{
 "cells": [
  {
   "cell_type": "markdown",
   "metadata": {
    "id": "view-in-github",
    "colab_type": "text"
   },
   "source": [
    "<a href=\"https://colab.research.google.com/github/kangwonlee/nmisp/blob/lecture-idea/30_num_int/30_T_section_centroid.ipynb\" target=\"_parent\"><img src=\"https://colab.research.google.com/assets/colab-badge.svg\" alt=\"Open In Colab\"/></a>\n"
   ]
  },
  {
   "cell_type": "markdown",
   "metadata": {},
   "source": [
    "# T자 모양 단면의 도심<br>Centroid of a T shaped Section\n",
    "\n"
   ]
  },
  {
   "cell_type": "code",
   "execution_count": null,
   "metadata": {},
   "outputs": [],
   "source": [
    "# 그래프, 수학 기능 추가\n",
    "# Add graph and math features\n",
    "import pylab as py\n",
    "import numpy as np\n",
    "import numpy.linalg as nl\n",
    "\n"
   ]
  },
  {
   "cell_type": "markdown",
   "metadata": {},
   "source": [
    "참고문헌 : 예제 5.2, Pytel 외 저, 이주성 외 역, 재료역학, 2판, 한티미디어, 2013.<br>Ref: Example 5.2, Pytel, Kiusalaas, Sharma, Mechanics of Materials, 2nd Ed., Cengage Learning, 2013.\n",
    "\n"
   ]
  },
  {
   "cell_type": "markdown",
   "metadata": {},
   "source": [
    "다음과 같은 T자 모양 단면의 도심을 구해 보자.<br>\n",
    "Let's try to find the centroid of the following T shaped section.\n",
    "\n"
   ]
  },
  {
   "cell_type": "markdown",
   "metadata": {},
   "source": [
    "윗 변의 폭 $w=150mm$<br>Width of the upper side $w=150mm$\n",
    "\n"
   ]
  },
  {
   "cell_type": "code",
   "execution_count": null,
   "metadata": {},
   "outputs": [],
   "source": [
    "w_mm = 150\n",
    "\n"
   ]
  },
  {
   "cell_type": "markdown",
   "metadata": {},
   "source": [
    "아랫변의 높이 $h=200mm$<br>Height of the lower side $h=200mm$\n",
    "\n"
   ]
  },
  {
   "cell_type": "code",
   "execution_count": null,
   "metadata": {},
   "outputs": [],
   "source": [
    "h_mm = 200\n",
    "\n"
   ]
  },
  {
   "cell_type": "markdown",
   "metadata": {},
   "source": [
    "두께 $t=20mm$<br>Thickness $t=20mm$\n",
    "\n"
   ]
  },
  {
   "cell_type": "code",
   "execution_count": null,
   "metadata": {},
   "outputs": [],
   "source": [
    "t_mm = 20\n",
    "\n"
   ]
  },
  {
   "cell_type": "markdown",
   "metadata": {},
   "source": [
    "## 도심의 정의<br>Definition of a Centroid\n",
    "\n"
   ]
  },
  {
   "cell_type": "markdown",
   "metadata": {},
   "source": [
    "$$\n",
    "C_y=\\frac{\\int yS_x(y) dy}{A}=\\frac{\\int yS_x(y) dy}{\\int S_x(y) dy}\n",
    "$$\n",
    "\n"
   ]
  },
  {
   "cell_type": "markdown",
   "metadata": {},
   "source": [
    "ref : https://en.wikipedia.org/wiki/Centroid\n",
    "\n"
   ]
  },
  {
   "cell_type": "markdown",
   "metadata": {},
   "source": [
    "여기서 $S_x(y)$는 다음과 같다. (T 단면의 아래 끝에서 $y=0$)<br>\n",
    "Here, $S_x(y)$ is as follows. ($y=0$ at the lower end of T section)\n",
    "\n"
   ]
  },
  {
   "cell_type": "markdown",
   "metadata": {},
   "source": [
    "$$\n",
    "S_x(y) = \n",
    "\\begin{cases}\n",
    "t, & 0 \\leq y < h \\\\\n",
    "w, & h \\leq y \\leq h + t \\\\\n",
    "0, & otherwise\n",
    "\\end{cases}\n",
    "$$\n",
    "\n"
   ]
  },
  {
   "cell_type": "markdown",
   "metadata": {},
   "source": [
    "Python 언어로는 다음과 같이 구현할 수 있다.<br>We can implement in python as follows.\n",
    "\n"
   ]
  },
  {
   "cell_type": "code",
   "execution_count": null,
   "metadata": {},
   "outputs": [],
   "source": [
    "def sx(y_mm):\n",
    "    if 0 <= y_mm < h_mm :\n",
    "        result = t_mm\n",
    "    elif h_mm <= y_mm <= (h_mm + t_mm):\n",
    "        result = w_mm\n",
    "    else:\n",
    "        result = 0\n",
    "\n",
    "    return result\n",
    "\n"
   ]
  },
  {
   "cell_type": "markdown",
   "metadata": {},
   "source": [
    "이 함수의 그래프를 그려 보자<br>Let's plot this.\n",
    "\n"
   ]
  },
  {
   "cell_type": "code",
   "execution_count": null,
   "metadata": {},
   "outputs": [],
   "source": [
    "y_mm_array = py.arange(0, h_mm + t_mm + 0.5, 1)\n",
    "sx_mm_array = py.array([sx(y_mm) for y_mm in y_mm_array])\n",
    "\n",
    "py.fill_betweenx(\n",
    "    y=y_mm_array,\n",
    "    x1=sx_mm_array * 0.5, x2=sx_mm_array * (-0.5),\n",
    ")\n",
    "\n",
    "py.axis('equal')\n",
    "\n",
    "py.xlabel('x(mm)')\n",
    "py.ylabel('y(mm)')\n",
    "\n",
    "py.grid(True)\n",
    "py.show()\n",
    "\n"
   ]
  },
  {
   "cell_type": "markdown",
   "metadata": {},
   "source": [
    "## 정적분 계산<br>Numerical Integration\n",
    "\n"
   ]
  },
  {
   "cell_type": "markdown",
   "metadata": {},
   "source": [
    "0차 적분 함수를 이용해 보자<br>Let's use 0'th order numerical integration function.\n",
    "\n"
   ]
  },
  {
   "cell_type": "code",
   "execution_count": null,
   "metadata": {},
   "outputs": [],
   "source": [
    "def get_delta_x(xi, xe, n):\n",
    "    return (xe - xi) / n\n",
    "\n"
   ]
  },
  {
   "cell_type": "code",
   "execution_count": null,
   "metadata": {},
   "outputs": [],
   "source": [
    "def num_int_0(f, xi, xe, n, b_verbose=False):\n",
    "    x_array = py.linspace(xi, xe, n+1)\n",
    "\n",
    "    delta_x = x_array[1] - x_array[0]\n",
    "\n",
    "    assert 1e-3 > (abs(delta_x - get_delta_x(xi, xe, n)) / get_delta_x(xi, xe, n)), f\"delta_x = {delta_x}\"\n",
    "\n",
    "    integration_result = 0.0\n",
    "\n",
    "    for k in range(n):\n",
    "        x_k = x_array[k]\n",
    "        F_k = f(x_k) * delta_x\n",
    "\n",
    "        if b_verbose: \n",
    "            print('k = %2d, F_k = %g' % (k, F_k))\n",
    "\n",
    "        integration_result += F_k\n",
    "\n",
    "    return integration_result\n",
    "\n"
   ]
  },
  {
   "cell_type": "markdown",
   "metadata": {},
   "source": [
    "### 단면적<br>Area of the section\n",
    "\n"
   ]
  },
  {
   "cell_type": "code",
   "execution_count": null,
   "metadata": {},
   "outputs": [],
   "source": [
    "A_mm2 = num_int_0(sx, 0, h_mm + t_mm, h_mm + t_mm)\n",
    "\n"
   ]
  },
  {
   "cell_type": "code",
   "execution_count": null,
   "metadata": {},
   "outputs": [],
   "source": [
    "A_mm2\n",
    "\n"
   ]
  },
  {
   "cell_type": "markdown",
   "metadata": {},
   "source": [
    "확인해 보자.<br>Let's verify.\n",
    "\n"
   ]
  },
  {
   "cell_type": "code",
   "execution_count": null,
   "metadata": {},
   "outputs": [],
   "source": [
    "h_mm * t_mm + w_mm * t_mm\n",
    "\n"
   ]
  },
  {
   "cell_type": "markdown",
   "metadata": {},
   "source": [
    "아래와 같이 지정해 두면 T 자 단면적 결과가 맞는지 확인할 수 있다.<br>\n",
    "We can designate as follows to assert T shape section area.\n",
    "\n"
   ]
  },
  {
   "cell_type": "code",
   "execution_count": null,
   "metadata": {},
   "outputs": [],
   "source": [
    "import math\n",
    "\n",
    "assert math.isclose((h_mm * t_mm + w_mm * t_mm), A_mm2)\n",
    "\n"
   ]
  },
  {
   "cell_type": "markdown",
   "metadata": {},
   "source": [
    "### 도심<br>Centroid\n",
    "\n"
   ]
  },
  {
   "cell_type": "code",
   "execution_count": null,
   "metadata": {},
   "outputs": [],
   "source": [
    "def ySx(y_mm):\n",
    "    return y_mm * sx(y_mm)\n",
    "\n"
   ]
  },
  {
   "cell_type": "code",
   "execution_count": null,
   "metadata": {},
   "outputs": [],
   "source": [
    "numerator_mm3 = num_int_0(ySx, 0, h_mm + t_mm, h_mm + t_mm)\n",
    "\n"
   ]
  },
  {
   "cell_type": "code",
   "execution_count": null,
   "metadata": {},
   "outputs": [],
   "source": [
    "cy_mm = numerator_mm3 / A_mm2\n",
    "\n"
   ]
  },
  {
   "cell_type": "code",
   "execution_count": null,
   "metadata": {},
   "outputs": [],
   "source": [
    "cy_mm\n",
    "\n"
   ]
  },
  {
   "cell_type": "markdown",
   "metadata": {},
   "source": [
    "역시 확인해 보자.<br>Again, let's verify.\n",
    "\n"
   ]
  },
  {
   "cell_type": "code",
   "execution_count": null,
   "metadata": {},
   "outputs": [],
   "source": [
    "cy_exact_mm = ((h_mm * t_mm) * (h_mm * 0.5) + (w_mm * t_mm) * (h_mm + 0.5 * t_mm)) / (h_mm * t_mm + w_mm * t_mm)\n",
    "\n"
   ]
  },
  {
   "cell_type": "code",
   "execution_count": null,
   "metadata": {},
   "outputs": [],
   "source": [
    "cy_exact_mm\n",
    "\n"
   ]
  },
  {
   "cell_type": "code",
   "execution_count": null,
   "metadata": {},
   "outputs": [],
   "source": [
    "cy_mm - cy_exact_mm\n",
    "\n"
   ]
  },
  {
   "cell_type": "markdown",
   "metadata": {},
   "source": [
    "어떻게 하면 위 오차를 줄일 수 있을 것인가?<br>How can we make the error above smaller?\n",
    "\n"
   ]
  },
  {
   "cell_type": "code",
   "execution_count": null,
   "metadata": {},
   "outputs": [],
   "source": [
    "try : \n",
    "    assert math.isclose(cy_mm, cy_exact_mm), \"Error too large\"\n",
    "except AssertionError as e:\n",
    "    print(e)\n",
    "\n"
   ]
  },
  {
   "cell_type": "code",
   "source": [
    "y_mm_array = py.arange(0, h_mm + t_mm + 0.5, 1)\n",
    "sx_mm_array = py.array([sx(y_mm) for y_mm in y_mm_array])\n",
    "\n",
    "py.fill_betweenx(\n",
    "    y=y_mm_array,\n",
    "    x1=sx_mm_array * 0.5, x2=sx_mm_array * (-0.5),\n",
    ")\n",
    "\n",
    "py.axis('equal')\n",
    "\n",
    "py.xlabel('x(mm)')\n",
    "py.ylabel('y(mm)')\n",
    "\n",
    "py.grid(True)\n",
    "\n",
    "# indicate the centroid\n",
    "py.axhline(cy_exact_mm, color='r', label='exact')\n",
    "py.axhline(cy_mm, color='g', label='num int')\n",
    "\n",
    "py.legend(loc=0);\n",
    "\n",
    "py.show()\n",
    "\n"
   ],
   "metadata": {},
   "execution_count": null,
   "outputs": []
  },
  {
   "cell_type": "markdown",
   "metadata": {},
   "source": [
    "## Final Bell<br>마지막 종\n",
    "\n"
   ]
  },
  {
   "cell_type": "code",
   "execution_count": null,
   "metadata": {},
   "outputs": [],
   "source": [
    "# stackoverfow.com/a/24634221\n",
    "import os\n",
    "os.system(\"printf '\\a'\");\n",
    "\n"
   ]
  },
  {
   "cell_type": "code",
   "execution_count": null,
   "metadata": {},
   "outputs": [],
   "source": []
  }
 ],
 "metadata": {
  "kernelspec": {
   "display_name": "Python 3",
   "language": "python",
   "name": "python3"
  },
  "language_info": {
   "codemirror_mode": {
    "name": "ipython",
    "version": 3
   },
   "file_extension": ".py",
   "mimetype": "text/x-python",
   "name": "python",
   "nbconvert_exporter": "python",
   "pygments_lexer": "ipython3",
   "version": "3.7.3"
  },
  "colab": {
   "provenance": [],
   "include_colab_link": true
  }
 },
 "nbformat": 4,
 "nbformat_minor": 0
}