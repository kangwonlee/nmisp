{
 "cells": [
  {
   "cell_type": "markdown",
   "metadata": {
    "id": "view-in-github",
    "colab_type": "text"
   },
   "source": [
    "<a href=\"https://colab.research.google.com/github/kangwonlee/nmisp/blob/main/30_num_int/00_zeroth_order.ipynb\" target=\"_parent\"><img src=\"https://colab.research.google.com/assets/colab-badge.svg\" alt=\"Open In Colab\"/></a>\n"
   ]
  },
  {
   "cell_type": "code",
   "execution_count": null,
   "metadata": {},
   "outputs": [],
   "source": [
    "# 그래프, 수학 기능 추가\n",
    "# Add graph and math features\n",
    "import pylab as py\n",
    "\n"
   ]
  },
  {
   "cell_type": "markdown",
   "metadata": {},
   "source": [
    "# 수치 적분<br>Numerical Integration\n",
    "\n"
   ]
  },
  {
   "cell_type": "markdown",
   "metadata": {},
   "source": [
    "여기서는 정적분의 근사값을 수열의 합으로 계산할 것이다.<br>\n",
    "Here, we would approximate the definite integral by a sum of a sequence.\n",
    "\n"
   ]
  },
  {
   "cell_type": "markdown",
   "metadata": {},
   "source": [
    "$$\n",
    "\\int_{x=a}^{x=b}f(x)dx \\approx \\sum_{k=0}^{n-1}F_k\n",
    "$$\n"
   ]
  },
  {
   "cell_type": "markdown",
   "metadata": {},
   "source": [
    "* 경우에 따라, $f(x)$의 부정적분을 구하는 것이 곤란할 수 있다.<br>Sometimes, it is not easy to find the indefinite integral of $f(x)$.\n",
    "* $f(x)$ 함수는 알지 못하고 함수의 값만 주어지는 경우도 있다.<br>Also sometimes, we do not know $f(x)$; only some data points of $f(x)$ are available.\n",
    "\n"
   ]
  },
  {
   "cell_type": "markdown",
   "metadata": {},
   "source": [
    "면적이 2인 원의 반지름을 구해 보자.<br>Let's find the radius of a circle with area of 2.\n",
    "\n"
   ]
  },
  {
   "cell_type": "markdown",
   "metadata": {},
   "source": [
    "$$\n",
    "\\begin{align}\n",
    "    \\pi r^2 &= 2 \\\\\n",
    "    r^2 &= \\frac{2}{\\pi} \\\\\n",
    "    r &= \\sqrt{\\frac{2}{\\pi}}\n",
    "\\end{align}\n",
    "$$\n",
    "\n"
   ]
  },
  {
   "cell_type": "code",
   "execution_count": null,
   "metadata": {},
   "outputs": [],
   "source": [
    "r = py.sqrt(2.0 / py.pi)\n",
    "\n"
   ]
  },
  {
   "cell_type": "code",
   "execution_count": null,
   "metadata": {},
   "outputs": [],
   "source": [
    "r\n",
    "\n"
   ]
  },
  {
   "cell_type": "markdown",
   "metadata": {},
   "source": [
    "이러한 원의 중심이 원점에 위치하고 있다고 생각해 보자.<br>Let's assume that a circle of such radius has its center at the origin.\n",
    "\n"
   ]
  },
  {
   "cell_type": "markdown",
   "metadata": {},
   "source": [
    "$$\n",
    "x^2 + y^2 = r^2 \\\\\n",
    "y^2 = r^2 - x^2 \\\\\n",
    "y = \\pm \\sqrt{r^2 - x^2} \\\\\n",
    "y_{plus} = + \\sqrt{r^2 - x^2} \\\\\n",
    "y_{minus} = - \\sqrt{r^2 - x^2}\n",
    "$$\n",
    "\n"
   ]
  },
  {
   "cell_type": "code",
   "execution_count": null,
   "metadata": {},
   "outputs": [],
   "source": [
    "x_array = py.linspace(-r, r, 64)\n",
    "y_plus = py.sqrt(r**2 - x_array ** 2)\n",
    "py.plot(x_array, y_plus, '.-')\n",
    "\n",
    "x_array2 = r * py.cos(py.deg2rad(py.linspace(180, 0, 16)))\n",
    "y_minus = -py.sqrt(r**2 - x_array2 ** 2)\n",
    "py.plot(x_array2, y_minus, '.-')\n",
    "\n",
    "py.axis('equal')\n",
    "py.grid(True)\n",
    "\n"
   ]
  },
  {
   "cell_type": "markdown",
   "metadata": {},
   "source": [
    "$+$ 부분만 생각하기로 하자.<br>Let's just think about the $+$ side only.\n",
    "\n"
   ]
  },
  {
   "cell_type": "markdown",
   "metadata": {},
   "source": [
    "$$\n",
    "y = \\sqrt{r^2 - x^2}\n",
    "$$\n",
    "\n"
   ]
  },
  {
   "cell_type": "code",
   "execution_count": null,
   "metadata": {
    "scrolled": false
   },
   "outputs": [],
   "source": [
    "x_array = py.sort(r * py.cos(py.deg2rad(range(0, 180))))\n",
    "y_plus = py.sqrt(r**2 - x_array ** 2)\n",
    "\n",
    "py.fill_between(x_array, y_plus)\n",
    "\n",
    "py.axis('equal')\n",
    "py.grid(True)\n",
    "\n"
   ]
  },
  {
   "cell_type": "markdown",
   "metadata": {},
   "source": [
    "이 반원의 면적을 수치적으로 구해보기로 하자.  (반원의 정확한 값은 얼마이겠는가?)<br>\n",
    "Let's try to numerically find the area of this half-circle. (What would be the exact value?)\n",
    "\n"
   ]
  },
  {
   "cell_type": "markdown",
   "metadata": {},
   "source": [
    "## 0차 적분<br>0th Order Integration\n",
    "\n"
   ]
  },
  {
   "cell_type": "markdown",
   "metadata": {},
   "source": [
    "우선 $x$를 일정 간격으로 나누어 보자.<br>Let's divide the $x$ coordinates in a constant interval.\n",
    "\n"
   ]
  },
  {
   "cell_type": "code",
   "execution_count": null,
   "metadata": {
    "scrolled": true
   },
   "outputs": [],
   "source": [
    "d = r * 2.0\n",
    "\n",
    "n = 10\n",
    "\n",
    "x_array_bar = py.linspace(-r, r, n+1)\n",
    "y_array_bar = py.sqrt(abs(r**2 - x_array_bar ** 2))\n",
    "delta_x = x_array_bar[1]-x_array_bar[0]\n",
    "\n",
    "py.fill_between(x_array, y_plus)\n",
    "# TODO : 막대그래프 직사각형 안을 칠하지 않으려면 어떻게 하면 좋겠는가?\n",
    "# TODO : How can we remove the color inside the rectangle?\n",
    "py.bar(x_array_bar, y_array_bar, width=delta_x, alpha=0.5, align='edge', edgecolor='k')\n",
    "\n",
    "py.axis('equal')\n",
    "py.grid(True)\n",
    "\n"
   ]
  },
  {
   "cell_type": "markdown",
   "metadata": {},
   "source": [
    "아래 셀은 `x_array` 간격을 확인한다.<br>\n",
    "Following cell verifies increment of `x_array`.\n",
    "\n"
   ]
  },
  {
   "cell_type": "code",
   "execution_count": null,
   "metadata": {},
   "outputs": [],
   "source": [
    "assert 1e-3 > abs(delta_x - (d/n)), (delta_x, d/n)\n",
    "\n"
   ]
  },
  {
   "cell_type": "markdown",
   "metadata": {},
   "source": [
    "직사각형의 모양과 반원의 모양이 정확히 일치하지는 않는다는 점을 기억하자.<br>\n",
    "Let's remember that the areas of the rectangles and the half circle are not exactly the same.\n",
    "\n"
   ]
  },
  {
   "cell_type": "markdown",
   "metadata": {},
   "source": [
    "각 직사각형의 면적을 구해서 더해 보자<br>Let's find the area of each rectangle and sum up.\n",
    "\n"
   ]
  },
  {
   "cell_type": "markdown",
   "metadata": {},
   "source": [
    "$$\n",
    "    Area = \\sum_{k=0}^{n-1} F_k\n",
    "$$\n",
    "\n"
   ]
  },
  {
   "cell_type": "markdown",
   "metadata": {},
   "source": [
    "$$\n",
    "    F_k = f(x_k)\\cdot \\Delta x\n",
    "$$\n",
    "\n"
   ]
  },
  {
   "cell_type": "markdown",
   "metadata": {},
   "source": [
    "$$\n",
    "    Area = \\sum_{k=0}^{n-1} f(x_k)\\cdot \\Delta x\n",
    "$$\n",
    "\n"
   ]
  },
  {
   "cell_type": "code",
   "execution_count": null,
   "metadata": {},
   "outputs": [],
   "source": [
    "summation = 0\n",
    "\n",
    "for k in range(n):\n",
    "    F_k = y_array_bar[k] * delta_x\n",
    "    print('k = %2d, F_k = %g' % (k, F_k))\n",
    "    summation += F_k\n",
    "\n",
    "print('summation =', summation)\n",
    "\n"
   ]
  },
  {
   "cell_type": "markdown",
   "metadata": {},
   "source": [
    "예상한 값 1에 더 비슷한 값을 얻기 위해 더 잘게 나누어 보자<br>To obtain the result closer to the expected value of 1, let's divide with a narrower interval.\n",
    "\n"
   ]
  },
  {
   "cell_type": "code",
   "execution_count": null,
   "metadata": {},
   "outputs": [],
   "source": [
    "n = 100\n",
    "\n",
    "x_array_bar = py.linspace(-r, r, n+1)\n",
    "\n",
    "y_array_bar = py.sqrt(r**2 - x_array_bar ** 2)\n",
    "delta_x = x_array_bar[1]-x_array_bar[0]\n",
    "\n",
    "py.fill_between(x_array, y_plus)\n",
    "py.bar(x_array_bar, y_array_bar, width=delta_x, alpha=0.5, align='edge', edgecolor='k')\n",
    "\n",
    "py.axis('equal')\n",
    "py.grid(True)\n",
    "\n"
   ]
  },
  {
   "cell_type": "code",
   "execution_count": null,
   "metadata": {
    "scrolled": false
   },
   "outputs": [],
   "source": [
    "summation = 0\n",
    "\n",
    "for k in range(n):\n",
    "    summation += delta_x * y_array_bar[k]\n",
    "\n",
    "print('summation =', summation)\n",
    "\n"
   ]
  },
  {
   "cell_type": "markdown",
   "metadata": {},
   "source": [
    "더 잘게 나눈 결과에 대한 의견은 어떠한가?<br>\n",
    "What is your opinion about using the narrower partitions?\n",
    "\n"
   ]
  },
  {
   "cell_type": "markdown",
   "metadata": {},
   "source": [
    "### 함수로 구현<br>Implement in a Function\n",
    "\n"
   ]
  },
  {
   "cell_type": "markdown",
   "metadata": {},
   "source": [
    "다양한 경우에 더 편리하게 적용하기 위해 함수 형태로 만들어 보자.<br>To make it more convenient to apply to various cases, let's implement in a function\n",
    "\n"
   ]
  },
  {
   "cell_type": "code",
   "execution_count": null,
   "metadata": {},
   "outputs": [],
   "source": [
    "def half_circle(x):\n",
    "    return py.sqrt(r**2 - x ** 2)\n",
    "\n"
   ]
  },
  {
   "cell_type": "code",
   "execution_count": null,
   "metadata": {},
   "outputs": [],
   "source": [
    "def get_delta_x(xi, xe, n):\n",
    "    return (xe - xi) / n\n",
    "\n"
   ]
  },
  {
   "cell_type": "code",
   "execution_count": null,
   "metadata": {},
   "outputs": [],
   "source": [
    "def num_int_0(f, xi, xe, n, b_verbose=False):\n",
    "    x_array = py.linspace(xi, xe, n+1)\n",
    "\n",
    "    delta_x = x_array[1] - x_array[0]\n",
    "\n",
    "    assert 1e-3 > (abs(delta_x - get_delta_x(xi, xe, n)) / get_delta_x(xi, xe, n)), f\"delta_x = {delta_x}\"\n",
    "    \n",
    "    integration_result = 0.0\n",
    "    \n",
    "    for k in range(n):\n",
    "        x_k = x_array[k]\n",
    "        F_k = f(x_k) * delta_x\n",
    "\n",
    "        if b_verbose: \n",
    "            print('k = %2d, F_k = %g' % (k, F_k))\n",
    "\n",
    "        integration_result += F_k\n",
    "    \n",
    "    return integration_result\n",
    "\n"
   ]
  },
  {
   "cell_type": "code",
   "execution_count": null,
   "metadata": {},
   "outputs": [],
   "source": [
    "n = 100\n",
    "result = num_int_0(half_circle, -r, r, n)\n",
    "print('result =', result)\n",
    "\n"
   ]
  },
  {
   "cell_type": "code",
   "execution_count": null,
   "metadata": {},
   "outputs": [],
   "source": [
    "%timeit -n 100 result = num_int_0(half_circle, -r, r, n)\n",
    "\n"
   ]
  },
  {
   "cell_type": "markdown",
   "metadata": {},
   "source": [
    "### $cos \\theta$의 반 주기<br>Half period of $cos \\theta$\n",
    "\n"
   ]
  },
  {
   "cell_type": "markdown",
   "metadata": {},
   "source": [
    "$$\n",
    "\\begin{align}\n",
    "I &= \\int_{\\theta=0}^{\\theta=\\pi}cos(\\theta)d\\theta \\\\\n",
    "  &= \\left[sin(\\theta) \\right]_{\\theta=0}^{\\theta=\\pi} \\\\\n",
    "  &= 0\n",
    "\\end{align}\n",
    "$$\n",
    "\n"
   ]
  },
  {
   "cell_type": "code",
   "execution_count": null,
   "metadata": {},
   "outputs": [],
   "source": [
    "theta_deg = py.arange(180+1)\n",
    "theta_rad = py.deg2rad(theta_deg)\n",
    "s = py.sin(theta_rad)\n",
    "c = py.cos(theta_rad)\n",
    "\n",
    "py.fill_between(theta_deg, c, color=\"C1\", label=\"cos\")\n",
    "\n",
    "x_array_bar = py.linspace(0, 180, 10+1)\n",
    "y_array_bar = py.cos(py.deg2rad(x_array_bar))\n",
    "py.bar(x_array_bar[:-1], y_array_bar[:-1], width=x_array_bar[1] - x_array_bar[0], alpha=0.5, align='edge', edgecolor='k')\n",
    "\n",
    "py.xticks(x_array_bar)\n",
    "\n",
    "py.plot(theta_deg, s, color=\"C0\", label=\"sin\")\n",
    "\n",
    "py.xlabel(r\"$\\theta(deg)$\")\n",
    "\n",
    "py.grid(True)\n",
    "py.legend(loc=0);\n",
    "\n"
   ]
  },
  {
   "cell_type": "code",
   "execution_count": null,
   "metadata": {},
   "outputs": [],
   "source": [
    "n = 10\n",
    "result_cos = num_int_0(py.cos, 0, py.pi, n, b_verbose=True)\n",
    "print('result =', result_cos)\n",
    "\n"
   ]
  },
  {
   "cell_type": "code",
   "source": [
    "theta_deg = py.arange(180+1)\n",
    "theta_rad = py.deg2rad(theta_deg)\n",
    "s = py.sin(theta_rad)\n",
    "c = py.cos(theta_rad)\n",
    "\n",
    "py.fill_between(theta_deg, c, color=\"C1\", label=\"cos\")\n",
    "\n",
    "x_array_bar = py.linspace(0, 180, 11+1)\n",
    "y_array_bar = py.cos(py.deg2rad(x_array_bar))\n",
    "py.bar(x_array_bar[:-1], y_array_bar[:-1], width=x_array_bar[1] - x_array_bar[0], alpha=0.5, align='edge', edgecolor='k')\n",
    "\n",
    "py.xticks(x_array_bar)\n",
    "\n",
    "py.xlabel(r\"$\\theta(deg)$\")\n",
    "\n",
    "py.grid(True)\n",
    "py.legend(loc=0);\n",
    "\n"
   ],
   "metadata": {},
   "execution_count": null,
   "outputs": []
  },
  {
   "cell_type": "code",
   "execution_count": null,
   "metadata": {},
   "outputs": [],
   "source": [
    "n = 11\n",
    "result_cos = num_int_0(py.cos, 0, py.pi, n, b_verbose=True)\n",
    "print('result =', result_cos)\n",
    "\n"
   ]
  },
  {
   "cell_type": "code",
   "source": [
    "theta_deg = py.arange(180+1)\n",
    "theta_rad = py.deg2rad(theta_deg)\n",
    "s = py.sin(theta_rad)\n",
    "c = py.cos(theta_rad)\n",
    "\n",
    "py.fill_between(theta_deg, c, color=\"C1\", label=\"cos\")\n",
    "\n",
    "x_array_bar = py.linspace(0, 180, 100+1)\n",
    "y_array_bar = py.cos(py.deg2rad(x_array_bar))\n",
    "py.bar(x_array_bar[:-1], y_array_bar[:-1], width=x_array_bar[1] - x_array_bar[0], alpha=0.5, align='edge', edgecolor='k')\n",
    "\n",
    "py.xticks(x_array_bar[::10])\n",
    "\n",
    "py.xlabel(r\"$\\theta(deg)$\")\n",
    "\n",
    "py.grid(True)\n",
    "py.legend(loc=0);\n",
    "\n"
   ],
   "metadata": {},
   "execution_count": null,
   "outputs": []
  },
  {
   "cell_type": "code",
   "execution_count": null,
   "metadata": {},
   "outputs": [],
   "source": [
    "n = 100\n",
    "result_cos = num_int_0(py.cos, 0, py.pi, n)\n",
    "print('result =', result_cos)\n",
    "\n"
   ]
  },
  {
   "cell_type": "markdown",
   "metadata": {},
   "source": [
    "What do you think about the differences between the exact and numerical solutions?<br>엄밀해와 수치해의 차이에 대한 의견은?\n",
    "\n"
   ]
  },
  {
   "cell_type": "markdown",
   "metadata": {},
   "source": [
    "### 1/4 원<br>A quarter circle\n",
    "\n"
   ]
  },
  {
   "cell_type": "code",
   "execution_count": null,
   "metadata": {},
   "outputs": [],
   "source": [
    "n = 10\n",
    "result_quarter = num_int_0(half_circle, -r, 0, n, b_verbose=True)\n",
    "print('result =', result_quarter)\n",
    "\n"
   ]
  },
  {
   "cell_type": "code",
   "execution_count": null,
   "metadata": {},
   "outputs": [],
   "source": [
    "n = 10\n",
    "result_quarter = num_int_0(half_circle, 0, r, n, b_verbose=True)\n",
    "print('result =', result_quarter)\n",
    "\n"
   ]
  },
  {
   "cell_type": "code",
   "execution_count": null,
   "metadata": {},
   "outputs": [],
   "source": [
    "n = 100\n",
    "result_quarter = num_int_0(half_circle, -r, 0, n)\n",
    "print('result =', result_quarter)\n",
    "\n"
   ]
  },
  {
   "cell_type": "markdown",
   "metadata": {},
   "source": [
    "## 연습 문제<br>Exercises\n",
    "\n"
   ]
  },
  {
   "cell_type": "markdown",
   "metadata": {},
   "source": [
    "도전 과제 1: $e^ x$ 를 $0 \\le x \\le 1$ 구간에서 0차 적분으로 적분하시오.  이론적 엄밀해와 비교하시오.<br>Try this 1: Integrate  $e^ x$ over $0 \\le x \\le 1$ interval using the 0th order integration.  Compare with the exact solution.<br>\n",
    "\n"
   ]
  },
  {
   "cell_type": "code",
   "execution_count": null,
   "metadata": {},
   "outputs": [],
   "source": []
  },
  {
   "cell_type": "markdown",
   "metadata": {},
   "source": [
    "도전 과제 2: $sin \\left( cos x \\right)$ 를 $0 \\le x \\le 1$ 구간에서 적분하시오.<br>\n",
    "Try this 2: Integrate $sin \\left( cos x \\right)$ over $0 \\le x \\le 1$ interval. <br>\n",
    "(ref : [Examples for\n",
    "Numerical Integration](https://www.wolframalpha.com/examples/mathematics/applied-mathematics/numerical-analysis/numerical-integration/), Wolfram Alpha, Accessed Aug 28 2018)\n",
    "\n"
   ]
  },
  {
   "cell_type": "code",
   "execution_count": null,
   "metadata": {},
   "outputs": [],
   "source": []
  },
  {
   "cell_type": "markdown",
   "metadata": {},
   "source": [
    "도전 과제 3: 이미 다루었던 이분법 함수와 0차 적분을 이용하여 면적이 2인 원의 반지름을 구하는 프로그램을 작성하고 실행해 보시오.<br>\n",
    "Try this 3: Using the bisection method function and 0th roder intergration, write a program finding radius of a circle with area of two, and run it.\n",
    "\n"
   ]
  },
  {
   "cell_type": "code",
   "execution_count": null,
   "metadata": {},
   "outputs": [],
   "source": []
  },
  {
   "cell_type": "markdown",
   "metadata": {},
   "source": [
    "## 리만 합<br>Riemann Sum\n",
    "\n"
   ]
  },
  {
   "cell_type": "markdown",
   "metadata": {},
   "source": [
    "이렇게 어떤 함수의 정적분을 유한한 합으로 바꾸어 계산하는 것을 리만 합이라고 부른다.<br>\n",
    "Riemanm Sum is a type of approximation of an integral by a finite sum. [[wikipedia](https://en.wikipedia.org/wiki/Riemann_sum)]\n",
    "\n"
   ]
  },
  {
   "cell_type": "markdown",
   "metadata": {},
   "source": [
    "## `pylab.linspace()`\n",
    "\n"
   ]
  },
  {
   "cell_type": "markdown",
   "metadata": {},
   "source": [
    "일정 간격의 배열을 생성한다.<br>\n",
    "This would generate an array of a constant interval.\n",
    "\n"
   ]
  },
  {
   "cell_type": "code",
   "execution_count": null,
   "metadata": {},
   "outputs": [],
   "source": [
    "py.linspace(0, 10, 5)\n",
    "\n"
   ]
  },
  {
   "cell_type": "markdown",
   "metadata": {},
   "source": [
    "아래 셀의 결과를 비교해 보시오.<br>\n",
    "Compare the results of the following cells.\n",
    "\n"
   ]
  },
  {
   "cell_type": "code",
   "execution_count": null,
   "metadata": {},
   "outputs": [],
   "source": [
    "py.arange(0, 10+1, 1)\n",
    "\n"
   ]
  },
  {
   "cell_type": "code",
   "execution_count": null,
   "metadata": {},
   "outputs": [],
   "source": [
    "py.linspace(0, 10, 10+1)\n",
    "\n"
   ]
  },
  {
   "cell_type": "markdown",
   "metadata": {},
   "source": [
    "## 함수형 프로그래밍<br>Functional programming\n",
    "\n"
   ]
  },
  {
   "cell_type": "markdown",
   "metadata": {},
   "source": [
    "간격이 일정하다면 면적의 근사값을 다음과 같이 바꾸어 쓸 수 있다.<br>\n",
    "If the interval $\\Delta x$ is constant, we may rewrite the approximation of the area as follows.\n",
    "\n"
   ]
  },
  {
   "cell_type": "markdown",
   "metadata": {},
   "source": [
    "$$\n",
    "    Area = \\sum_{k=0}^{n-1} f(x_k)\\cdot \\Delta x= \\Delta x \\sum_{k=0}^{n-1} f(x_k) \n",
    "$$\n",
    "\n"
   ]
  },
  {
   "cell_type": "markdown",
   "metadata": {},
   "source": [
    "할당문 없이 `sum()` 과 `map()` 함수로 구현해 보자.<br>\n",
    "Instead of assignments, let's implement using `sum()` and `map()` functions.\n",
    "\n"
   ]
  },
  {
   "cell_type": "code",
   "execution_count": null,
   "metadata": {},
   "outputs": [],
   "source": [
    "def num_int_0_functional(f, xi, xe, n):\n",
    "    return (\n",
    "        get_delta_x(xi, xe, n) * sum(\n",
    "            map(\n",
    "                f,\n",
    "                py.linspace(xi, xe, n+1)[:-1],\n",
    "            )\n",
    "        )\n",
    "    )\n",
    "\n"
   ]
  },
  {
   "cell_type": "code",
   "execution_count": null,
   "metadata": {},
   "outputs": [],
   "source": [
    "n = 100\n",
    "result_func = num_int_0_functional(half_circle, -r, r, n)\n",
    "print('result_func =', result_func)\n",
    "\n"
   ]
  },
  {
   "cell_type": "code",
   "execution_count": null,
   "metadata": {},
   "outputs": [],
   "source": [
    "assert 1e-3 > abs(result - result_func), f\"result = {result}, result_func = {result_func}\"\n",
    "\n"
   ]
  },
  {
   "cell_type": "code",
   "execution_count": null,
   "metadata": {},
   "outputs": [],
   "source": [
    "%timeit -n 100 result_func = num_int_0_functional(half_circle, -r, r, n)\n",
    "\n"
   ]
  },
  {
   "cell_type": "markdown",
   "metadata": {},
   "source": [
    "이와 같이 할당문과 부가적 효과 없이 함수로만 구현하는 형태를 *함수형 프로그래밍* 이라고 한다.<br>\n",
    "*Functional programming* is to implement with functions only without assignments and side effects. [[Sahota](https://dev.to/navi/why-functional-programming-matters-2o95)]\n",
    "\n"
   ]
  },
  {
   "cell_type": "markdown",
   "metadata": {},
   "source": [
    "## NumPy 벡터화<br>Vectorization of NumPy\n",
    "\n"
   ]
  },
  {
   "cell_type": "code",
   "execution_count": null,
   "metadata": {},
   "outputs": [],
   "source": [
    "import pylab as py\n",
    "\n"
   ]
  },
  {
   "cell_type": "code",
   "execution_count": null,
   "metadata": {},
   "outputs": [],
   "source": [
    "def num_int_0_vector(f, xi, xe, n):\n",
    "    return f(\n",
    "        py.linspace(xi, xe-get_delta_x(xi, xe, n), n)\n",
    "    ).sum() * get_delta_x(xi, xe, n)\n",
    "\n"
   ]
  },
  {
   "cell_type": "code",
   "execution_count": null,
   "metadata": {},
   "outputs": [],
   "source": [
    "n = 100\n",
    "result_vect = num_int_0_vector(half_circle, -r, r, n)\n",
    "print('result_vect =', result_vect)\n",
    "\n"
   ]
  },
  {
   "cell_type": "code",
   "execution_count": null,
   "metadata": {},
   "outputs": [],
   "source": [
    "assert 1e-3 > abs(result - result_vect), f\"result = {result}, result_vect = {result_vect}\"\n",
    "\n"
   ]
  },
  {
   "cell_type": "code",
   "execution_count": null,
   "metadata": {},
   "outputs": [],
   "source": [
    "%timeit -n 100 result_vect = num_int_0_vector(half_circle, -r, r, n)\n",
    "\n"
   ]
  },
  {
   "cell_type": "markdown",
   "metadata": {},
   "source": [
    "## 시험<br>Test\n",
    "\n"
   ]
  },
  {
   "cell_type": "markdown",
   "metadata": {},
   "source": [
    "아래는 함수가 맞게 작동하는지 확인함<br>\n",
    "Following cells verify whether the functions work correctly.\n",
    "\n"
   ]
  },
  {
   "cell_type": "code",
   "execution_count": null,
   "metadata": {},
   "outputs": [],
   "source": [
    "import pylab as py\n",
    "r = py.sqrt(1.0 / py.pi)\n",
    "n = 10\n",
    "\n",
    "\n",
    "def half_circle(x):\n",
    "    return py.sqrt(r**2 - x ** 2)\n",
    "\n",
    "\n",
    "assert 0.25 > num_int_0(half_circle, -r, 0, n), num_int_0(half_circle, -r, 0, n)\n",
    "assert 0.25 < num_int_0(half_circle, 0, r, n), num_int_0(half_circle, 0, r, n)\n",
    "assert 0.25 > num_int_0_functional(half_circle, -r, 0, n), num_int_0_functional(half_circle, -r, 0, n)\n",
    "assert 0.25 < num_int_0_functional(half_circle, 0, r, n), num_int_0_functional(half_circle, 0, r, n)\n",
    "assert 0.25 > num_int_0_vector(half_circle, -r, 0, n), num_int_0_vector(half_circle, -r, 0, n)\n",
    "assert 0.25 < num_int_0_vector(half_circle, 0, r, n), num_int_0_vector(half_circle, 0, r, n)\n",
    "\n"
   ]
  },
  {
   "cell_type": "code",
   "execution_count": null,
   "metadata": {},
   "outputs": [],
   "source": [
    "import math\n",
    "\n",
    "epsilon = 0.1\n",
    "\n",
    "assert math.isclose(4.0 * num_int_0(half_circle, -r, 0, n)           , 1.0, abs_tol=epsilon)\n",
    "assert math.isclose(4.0 * num_int_0(half_circle, 0, r, n)            , 1.0, abs_tol=epsilon)\n",
    "assert math.isclose(4.0 * num_int_0_functional(half_circle, -r, 0, n), 1.0, abs_tol=epsilon)\n",
    "assert math.isclose(4.0 * num_int_0_functional(half_circle, 0, r, n) , 1.0, abs_tol=epsilon)\n",
    "assert math.isclose(4.0 * num_int_0_vector(half_circle, -r, 0, n)    , 1.0, abs_tol=epsilon)\n",
    "assert math.isclose(4.0 * num_int_0_vector(half_circle, 0, r, n)     , 1.0, abs_tol=epsilon)\n",
    "\n"
   ]
  },
  {
   "cell_type": "markdown",
   "metadata": {},
   "source": [
    "## Final Bell<br>마지막 종\n",
    "\n"
   ]
  },
  {
   "cell_type": "code",
   "execution_count": null,
   "metadata": {},
   "outputs": [],
   "source": [
    "# stackoverfow.com/a/24634221\n",
    "import os\n",
    "os.system(\"printf '\\a'\");\n",
    "\n"
   ]
  },
  {
   "cell_type": "code",
   "execution_count": null,
   "metadata": {},
   "outputs": [],
   "source": []
  }
 ],
 "metadata": {
  "kernelspec": {
   "display_name": "Python 3",
   "language": "python",
   "name": "python3"
  },
  "language_info": {
   "codemirror_mode": {
    "name": "ipython",
    "version": 3
   },
   "file_extension": ".py",
   "mimetype": "text/x-python",
   "name": "python",
   "nbconvert_exporter": "python",
   "pygments_lexer": "ipython3",
   "version": "3.8.8"
  },
  "colab": {
   "provenance": [],
   "include_colab_link": true
  }
 },
 "nbformat": 4,
 "nbformat_minor": 0
}