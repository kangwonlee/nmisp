{
 "cells": [
  {
   "cell_type": "markdown",
   "metadata": {
    "id": "view-in-github",
    "colab_type": "text"
   },
   "source": [
    "<a href=\"https://colab.research.google.com/github/kangwonlee/nmisp/blob/complex-eigenvalues/30_num_int/50_exp_cos.ipynb\" target=\"_parent\"><img src=\"https://colab.research.google.com/assets/colab-badge.svg\" alt=\"Open In Colab\"/></a>\n"
   ]
  },
  {
   "cell_type": "markdown",
   "metadata": {},
   "source": [
    "# Numerical Integration of a Bessel Function\n",
    "\n",
    "$$\\int_0^\\pi{e^{cos{\\theta}}}d\\theta = \\pi I_0(1)$$\n",
    "\n"
   ]
  },
  {
   "cell_type": "markdown",
   "metadata": {},
   "source": [
    "* Let's think about the definite integral above.<br>위 정적분을 생각해 보자.\n",
    "* Can you find its indefinite integral?<br>해당 부정적분을 구할 수 있는가?\n",
    "\n"
   ]
  },
  {
   "cell_type": "markdown",
   "metadata": {},
   "source": [
    "* This integral is  closely related to a special type of function called a modified Bessel function of the first kind.<br>이 적분은 수정 제1종 베셀 함수라는 특별한 함수와 밀접히 관련되어 있다고 한다.\n",
    "\n",
    "$$\n",
    "\\begin{align}\n",
    "I_n(z)&=\\frac{1}{\\pi}\\int_0^\\pi{e^{z cos\\theta}cos(n\\theta)d\\theta} \\\\\n",
    "I_0(1)&=\\frac{1}{\\pi}\\int_0^\\pi{e^{cos\\theta}d\\theta}\n",
    "\\end{align}\n",
    "$$\n",
    "\n",
    "* Bessel functions are important in physics and engineering due to their ability to describe phenomena with cylindrial or spherical symmetry.<br>베셀함수는 물리학과 공학에서 중요한데, 원통 또는 구면 대칭인 현상을 표현할 수 있기 때문이다.\n",
    "* It lacks a closed-form solution, requiring exploration of numerical integration techniques.<br>닫힌 해가 없으므로, 수치적인 적분으로 찾아볼 수 밖에 없을 것이다.\n",
    "\n"
   ]
  },
  {
   "cell_type": "code",
   "execution_count": null,
   "metadata": {},
   "outputs": [],
   "source": [
    "import matplotlib.pyplot as plt\n",
    "import numpy as np\n",
    "import numpy.testing as nt\n",
    "import scipy.integrate as si\n",
    "\n"
   ]
  },
  {
   "cell_type": "markdown",
   "metadata": {},
   "source": [
    "* Integrand<br>적분 대상 함수\n",
    "\n"
   ]
  },
  {
   "cell_type": "code",
   "execution_count": null,
   "metadata": {},
   "outputs": [],
   "source": [
    "def f(x):\n",
    "    return np.exp(np.cos(x))\n",
    "\n"
   ]
  },
  {
   "cell_type": "markdown",
   "metadata": {},
   "source": [
    "* Let's plot<br>그려보자\n",
    "\n",
    "\n"
   ]
  },
  {
   "cell_type": "code",
   "execution_count": null,
   "metadata": {},
   "outputs": [],
   "source": [
    "theta_3_rad = np.linspace(-3 * np.pi, 3 * np.pi, (360*3) + 1)\n",
    "theta_1_rad = np.linspace(0, np.pi, 180 + 1)\n",
    "y1 = f(theta_1_rad)\n",
    "y3 = f(theta_3_rad)\n",
    "\n"
   ]
  },
  {
   "cell_type": "code",
   "execution_count": null,
   "metadata": {},
   "outputs": [],
   "source": [
    "plt.plot(theta_3_rad, y3)\n",
    "plt.fill_between(theta_1_rad, y1)\n",
    "plt.xlabel(r'$\\theta$')\n",
    "plt.title(r'$e^{cos{\\theta}}$')\n",
    "plt.grid(True)\n",
    "\n"
   ]
  },
  {
   "cell_type": "markdown",
   "metadata": {},
   "source": [
    "* Trapezoid integration<br>사다리꼴 적분\n",
    "\n"
   ]
  },
  {
   "cell_type": "code",
   "execution_count": null,
   "metadata": {},
   "outputs": [],
   "source": [
    "i_trapz = si.trapezoid(y1, theta_1_rad)\n",
    "i_trapz\n",
    "\n"
   ]
  },
  {
   "cell_type": "code",
   "execution_count": null,
   "metadata": {},
   "outputs": [],
   "source": [
    "i_simpson = si.simpson(y1, theta_1_rad)\n",
    "i_simpson\n",
    "\n"
   ]
  },
  {
   "cell_type": "markdown",
   "metadata": {},
   "source": [
    "* Two results almost equal?<br>두 결과는 거의 같은가?\n",
    "\n"
   ]
  },
  {
   "cell_type": "code",
   "execution_count": null,
   "metadata": {},
   "outputs": [],
   "source": [
    "nt.assert_almost_equal(i_trapz, i_simpson)\n",
    "\n"
   ]
  },
  {
   "cell_type": "code",
   "execution_count": null,
   "metadata": {},
   "outputs": [],
   "source": []
  }
 ],
 "metadata": {
  "kernelspec": {
   "display_name": "Python 3 (ipykernel)",
   "language": "python",
   "name": "python3"
  },
  "language_info": {
   "codemirror_mode": {
    "name": "ipython",
    "version": 3
   },
   "file_extension": ".py",
   "mimetype": "text/x-python",
   "name": "python",
   "nbconvert_exporter": "python",
   "pygments_lexer": "ipython3",
   "version": "3.10.0"
  }
 },
 "nbformat": 4,
 "nbformat_minor": 5
}