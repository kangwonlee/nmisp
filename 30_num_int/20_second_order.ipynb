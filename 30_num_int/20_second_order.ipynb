{
 "cells": [
  {
   "cell_type": "markdown",
   "metadata": {
    "id": "view-in-github",
    "colab_type": "text"
   },
   "source": [
    "<a href=\"https://colab.research.google.com/github/kangwonlee/nmisp/blob/main/30_num_int/20_second_order.ipynb\" target=\"_parent\"><img src=\"https://colab.research.google.com/assets/colab-badge.svg\" alt=\"Open In Colab\"/></a>\n"
   ]
  },
  {
   "cell_type": "code",
   "execution_count": null,
   "metadata": {},
   "outputs": [],
   "source": [
    "# This cell is for the Google Colaboratory\n",
    "# https://stackoverflow.com/a/63519730\n",
    "if 'google.colab' in str(get_ipython()):\n",
    "  path_py = '/content/nmisp_py'\n",
    "\n",
    "  import os\n",
    "  if not os.path.exists(path_py):\n",
    "    import subprocess\n",
    "    subprocess.run(\n",
    "        ('git', 'clone', 'https://github.com/kangwonlee/nmisp_py')\n",
    "    )\n",
    "  assert os.path.exists(path_py)\n",
    "\n",
    "  import sys\n",
    "  sys.path.insert(0, path_py)\n",
    "\n"
   ]
  },
  {
   "cell_type": "code",
   "execution_count": null,
   "metadata": {},
   "outputs": [],
   "source": [
    "# 그래프, 수학 기능 추가\n",
    "# Add graph and math features\n",
    "import pylab as py\n",
    "import numpy as np\n",
    "import numpy.linalg as nl\n",
    "# 기호 연산 기능 추가\n",
    "# Add symbolic operation capability\n",
    "import sympy as sym\n",
    "\n"
   ]
  },
  {
   "cell_type": "code",
   "execution_count": null,
   "metadata": {},
   "outputs": [],
   "source": [
    "sym.init_printing()\n",
    "\n"
   ]
  },
  {
   "cell_type": "markdown",
   "metadata": {},
   "source": [
    "# 2차 적분<br>Second Order Numerical Integral\n",
    "\n"
   ]
  },
  {
   "cell_type": "markdown",
   "metadata": {},
   "source": [
    "다시 면적 1인 반원을 생각해 보자.<br>\n",
    "Again, let's think about a half circle with area of 1.\n",
    "\n"
   ]
  },
  {
   "cell_type": "code",
   "execution_count": null,
   "metadata": {},
   "outputs": [],
   "source": [
    "import plot_num_int as pi\n",
    "\n"
   ]
  },
  {
   "cell_type": "code",
   "execution_count": null,
   "metadata": {},
   "outputs": [],
   "source": [
    "r = pi.radius_of_half_circle_area(1)\n",
    "\n"
   ]
  },
  {
   "cell_type": "code",
   "execution_count": null,
   "metadata": {
    "scrolled": false
   },
   "outputs": [],
   "source": [
    "pi.plot_a_half_circle_of_area(1)\n",
    "pi.axis_equal_grid_True()\n",
    "\n"
   ]
  },
  {
   "cell_type": "markdown",
   "metadata": {},
   "source": [
    "이번에는 3 지점에서의 함수값을 이용하는 심슨규칙을 이용해서 구해 보기로 하자.<br>\n",
    "This time, let's integrate by the Simpson's rule using function values at three points.\n",
    "\n"
   ]
  },
  {
   "cell_type": "markdown",
   "metadata": {},
   "source": [
    "## 심슨 규칙<br>Simpson's Rule\n",
    "\n"
   ]
  },
  {
   "cell_type": "markdown",
   "metadata": {},
   "source": [
    "마찬가지로 일정 간격으로 $x$ 좌표를 나누어 보자.<br>\n",
    "Same as before, let's divide $x$ coordinates in a constant interval.\n",
    "\n"
   ]
  },
  {
   "cell_type": "code",
   "execution_count": null,
   "metadata": {
    "scrolled": true
   },
   "outputs": [],
   "source": [
    "n = 10\n",
    "\n",
    "pi.plot_half_circle_with_stems(n, 1)\n",
    "\n"
   ]
  },
  {
   "cell_type": "markdown",
   "metadata": {},
   "source": [
    "마지막 두 구간을 생각해 보기로 하자.<br>\n",
    "Let's just think about the last two segments.\n",
    "\n"
   ]
  },
  {
   "cell_type": "code",
   "execution_count": null,
   "metadata": {},
   "outputs": [],
   "source": [
    "n = 10\n",
    "\n",
    "pi.plot_half_circle_with_stems(n, 1)\n",
    "x_array, y_plus = pi.get_half_circle_xy_theta_space(1)\n",
    "x_array_bar, y_array_bar = pi.get_half_circle_xy_linspace(n, 1)\n",
    "\n",
    "# 마지막 두 구간에 해당하는 x y 값을 선택\n",
    "# Choose x y values of the last two intervals\n",
    "x_last_two_array = x_array[x_array_bar[-3] < x_array]\n",
    "y_last_two_array = y_plus[x_array_bar[-3] < x_array]\n",
    "\n",
    "py.fill_between(x_last_two_array, y_last_two_array, color='orange')\n",
    "\n",
    "py.axis('equal')\n",
    "py.grid(True)\n",
    "\n"
   ]
  },
  {
   "cell_type": "markdown",
   "metadata": {},
   "source": [
    "해당 넓이를 구하기 위해, 이 세 점을 지나는 2차 다항식을 찾아서 적분할 수 있을 것이다<br>\n",
    "To get the area, we would be able to find a second order polynomal passing through these three points and integrate.\n",
    "\n"
   ]
  },
  {
   "cell_type": "markdown",
   "metadata": {},
   "source": [
    "문제를 좀 더 쉽게 만들기 위해 해당 면적을 원점 주위로 평행 이동 시켜 보자.<br>\n",
    "To make the problem simpler, let's translate the area around the origin.\n",
    "\n"
   ]
  },
  {
   "cell_type": "code",
   "execution_count": null,
   "metadata": {},
   "outputs": [],
   "source": [
    "delta_x = x_array_bar[1]-x_array_bar[0]\n",
    "\n",
    "py.plot(x_array, y_plus, alpha=0.0)\n",
    "py.plot(x_array_bar[-3:], y_array_bar[-3:], '.')\n",
    "\n",
    "# 마지막 두 구간을 표시\n",
    "# Indicate last two intervals\n",
    "py.fill_between(x_last_two_array, y_last_two_array, color='orange')\n",
    "\n",
    "# x 좌표 표시\n",
    "# Indicate x coordinates\n",
    "py.text(x_last_two_array[0], -0.1, '$x_{n-2}$', horizontalalignment='center')\n",
    "py.text(x_last_two_array[-1], -0.1, '$x_{n}$', horizontalalignment='center')\n",
    "\n",
    "# y 좌표 표시\n",
    "# Indicate x coordinates\n",
    "py.text(x_array_bar[-3], y_array_bar[-3], '$f(x_{n-2})$', horizontalalignment='center', verticalalignment='bottom')\n",
    "py.text(x_array_bar[-2], y_array_bar[-2], '$f(x_{n-1})$', horizontalalignment='center', verticalalignment='bottom')\n",
    "py.text(x_array_bar[-1], y_array_bar[-1], '$f(x_{n})$', horizontalalignment='center', verticalalignment='bottom')\n",
    "\n",
    "\n",
    "# 평행이동한 면적\n",
    "# Translated Area\n",
    "py.plot(x_array_bar[-3:]-x_array_bar[-2], y_array_bar[-3:], '.')\n",
    "py.fill_between(x_last_two_array-x_array_bar[-2], y_last_two_array, color=\"purple\")\n",
    "\n",
    "# x 좌표 표시\n",
    "# Indicate x coordinates\n",
    "py.text(-delta_x, -0.1, '$-\\Delta x$', horizontalalignment='center')\n",
    "py.text(delta_x, -0.1, '$+\\Delta x$', horizontalalignment='center')\n",
    "\n",
    "# y 좌표 표시\n",
    "# Indicate x coordinates\n",
    "py.text(-delta_x, y_array_bar[-3], '$y_0$', horizontalalignment='center', verticalalignment='bottom')\n",
    "py.text(          0, y_array_bar[-2], '$y_1$', horizontalalignment='center', verticalalignment='bottom')\n",
    "py.text(+delta_x, y_array_bar[-1], '$y_2$', horizontalalignment='center', verticalalignment='bottom')\n",
    "\n",
    "py.axis('equal')\n",
    "py.grid(True)\n",
    "\n"
   ]
  },
  {
   "cell_type": "markdown",
   "metadata": {},
   "source": [
    "$$\n",
    "y=a_0 x^2 + a_1 x + a_2\n",
    "$$\n",
    "\n"
   ]
  },
  {
   "cell_type": "markdown",
   "metadata": {},
   "source": [
    "원래 위치의 면적과 평행이동한 면적은 같다.<br>The translate area and the original area are equivalent.\n",
    "\n"
   ]
  },
  {
   "cell_type": "markdown",
   "metadata": {},
   "source": [
    "평행이동한 면적의 세 점을 살펴 보자.<br>Let's take a look at the three points of the translated area.\n",
    "\n"
   ]
  },
  {
   "cell_type": "markdown",
   "metadata": {},
   "source": [
    "$$\n",
    "\\begin{align}\n",
    "    p_0&=\\left(-\\Delta x, y_0\\right) \\\\\n",
    "    p_1&=\\left(0, y_1\\right) \\\\\n",
    "    p_2&=\\left(\\Delta x, y_2\\right)\n",
    "\\end{align}\n",
    "$$\n",
    "\n"
   ]
  },
  {
   "cell_type": "code",
   "execution_count": null,
   "metadata": {},
   "outputs": [],
   "source": [
    "delta_x, y_m, y_0, y_p = sym.symbols('Delta_x, y_0, y_1, y_2', real=True)\n",
    "\n"
   ]
  },
  {
   "cell_type": "code",
   "execution_count": null,
   "metadata": {},
   "outputs": [],
   "source": [
    "points = (-delta_x, y_m), (0, y_0), (delta_x, y_p)\n",
    "\n"
   ]
  },
  {
   "cell_type": "code",
   "execution_count": null,
   "metadata": {},
   "outputs": [],
   "source": [
    "points\n",
    "\n"
   ]
  },
  {
   "cell_type": "markdown",
   "metadata": {},
   "source": [
    "2차 다항식은 다음과 같은 형태를 가진다.<br>\n",
    "A second order polynomial would take following form.\n",
    "\n"
   ]
  },
  {
   "cell_type": "code",
   "execution_count": null,
   "metadata": {},
   "outputs": [],
   "source": [
    "a0, a1, a2, x = sym.symbols('a0, a1, a2, x', real=True)\n",
    "f = a0 * x**2 + a1 * x + a2\n",
    "\n"
   ]
  },
  {
   "cell_type": "code",
   "execution_count": null,
   "metadata": {},
   "outputs": [],
   "source": [
    "f\n",
    "\n"
   ]
  },
  {
   "cell_type": "markdown",
   "metadata": {},
   "source": [
    "위 세 점을 모두 지나는 2차 곡선을 생각해 보자.<br>Let's think about a second order polynomal passing all three points above.\n",
    "\n"
   ]
  },
  {
   "cell_type": "markdown",
   "metadata": {},
   "source": [
    "$$\n",
    "\\begin{align}\n",
    "    y_0&=a_0 \\left(-\\Delta x\\right)^2 + a_1 \\left(-\\Delta x\\right) + a_2 \\\\\n",
    "    y_1&=a_2 \\\\\n",
    "    y_2&=a_0 \\left(\\Delta x\\right)^2 + a_1 \\left(\\Delta x\\right) + a_2\n",
    "\\end{align}\n",
    "$$\n",
    "\n"
   ]
  },
  {
   "cell_type": "code",
   "execution_count": null,
   "metadata": {},
   "outputs": [],
   "source": [
    "eq_points = [sym.Eq(p[-1], f.subs(x, p[0])) for p in points]\n",
    "\n"
   ]
  },
  {
   "cell_type": "code",
   "execution_count": null,
   "metadata": {},
   "outputs": [],
   "source": [
    "eq_points\n",
    "\n"
   ]
  },
  {
   "cell_type": "markdown",
   "metadata": {},
   "source": [
    "계수 $a_i$에 관하여 풀어 보자.<br>Let's try to solve for the coefficients $a_i$.\n",
    "\n"
   ]
  },
  {
   "cell_type": "code",
   "execution_count": null,
   "metadata": {},
   "outputs": [],
   "source": [
    "a_sol = sym.solve(eq_points, (a0, a1, a2))\n",
    "\n"
   ]
  },
  {
   "cell_type": "code",
   "execution_count": null,
   "metadata": {
    "scrolled": true
   },
   "outputs": [],
   "source": [
    "a_sol\n",
    "\n"
   ]
  },
  {
   "cell_type": "markdown",
   "metadata": {},
   "source": [
    "## 2차 다항식의 정적분<br>Definite Integral of a Second Order Polynomial\n",
    "\n"
   ]
  },
  {
   "cell_type": "markdown",
   "metadata": {},
   "source": [
    "이제 $f(x)$를 $x$에 관하여 $-\\Delta x$ 부터 $\\Delta x$까지 적분해 보자.<br>Now let's integrate $f(x)$ about $x$ from $-\\Delta x$ to $\\Delta x$.\n",
    "\n"
   ]
  },
  {
   "cell_type": "code",
   "execution_count": null,
   "metadata": {},
   "outputs": [],
   "source": [
    "integral = sym.integrate(f, (x, -delta_x, delta_x))\n",
    "\n"
   ]
  },
  {
   "cell_type": "code",
   "execution_count": null,
   "metadata": {},
   "outputs": [],
   "source": [
    "integral\n",
    "\n"
   ]
  },
  {
   "cell_type": "markdown",
   "metadata": {},
   "source": [
    "계수를 대입하고 정리해 보자.<br>Let's substitute the coefficients and simplfy.\n",
    "\n"
   ]
  },
  {
   "cell_type": "code",
   "execution_count": null,
   "metadata": {},
   "outputs": [],
   "source": [
    "simpson = sym.simplify(integral.subs(a_sol))\n",
    "\n"
   ]
  },
  {
   "cell_type": "code",
   "execution_count": null,
   "metadata": {},
   "outputs": [],
   "source": [
    "simpson\n",
    "\n"
   ]
  },
  {
   "cell_type": "markdown",
   "metadata": {},
   "source": [
    "예를 들어 C 언어 코드로는 다음과 같이 가능하다<br>For example, in C programming language, following expression would be possible.\n",
    "\n"
   ]
  },
  {
   "cell_type": "code",
   "execution_count": null,
   "metadata": {},
   "outputs": [],
   "source": [
    "sym.ccode(simpson)\n",
    "\n"
   ]
  },
  {
   "cell_type": "markdown",
   "metadata": {},
   "source": [
    "## 심슨 규칙 구현<br>Implementing Simpson's Rule\n",
    "\n"
   ]
  },
  {
   "cell_type": "markdown",
   "metadata": {},
   "source": [
    "한번에 두 구간의 면적을 계산한다.<br>\n",
    "In one iteration, calculate the area of two intervals.\n",
    "\n"
   ]
  },
  {
   "cell_type": "markdown",
   "metadata": {},
   "source": [
    "$$\n",
    "    Area = F_0 + F_2 + \\ldots + F_{n-2}\n",
    "$$\n",
    "\n"
   ]
  },
  {
   "cell_type": "markdown",
   "metadata": {},
   "source": [
    "$$\n",
    "    F_k = \\frac{\\Delta x}{3}\\left[f(x_k)+4 \\cdot f(x_{k+1}) + f(x_{k+2})\\right]\n",
    "$$\n",
    "\n"
   ]
  },
  {
   "cell_type": "code",
   "execution_count": null,
   "metadata": {},
   "outputs": [],
   "source": [
    "def get_delta_x(xi, xe, n):\n",
    "    return (xe - xi)/n\n",
    "\n"
   ]
  },
  {
   "cell_type": "code",
   "execution_count": null,
   "metadata": {},
   "outputs": [],
   "source": [
    "def num_int_2(f, xi, xe, n_partition, b_verbose=False):\n",
    "    \"\"\"\n",
    "    f : function to indegrate f(x)\n",
    "    xi : start of integration\n",
    "    xe : end of integration\n",
    "    n_partition : number of partitions within the interval\n",
    "    \"\"\"\n",
    "    # 구간의 갯수를 항상 짝수로 한다.\n",
    "    # Always use even number of intervals\n",
    "\n",
    "    if n_partition % 2:\n",
    "        n_partition += 1\n",
    "\n",
    "    delta_x = get_delta_x(xi, xe, n_partition)\n",
    "    assert py.isclose((xi + delta_x*n_partition), xe), ((xi + delta_x*n_partition), xe)\n",
    "\n",
    "    # delta_x 값이 너무 작은 경우\n",
    "    # if delta_x is too small\n",
    "    if 1e-7 > abs(delta_x):\n",
    "        raise ValueError(f'delta_x(delta_x:g) too small')\n",
    "\n",
    "    x_array = py.linspace(xi, xe, n_partition+1)\n",
    "\n",
    "    assert np.isclose(abs(x_array[1] - x_array[0]), delta_x), (\n",
    "        f\"\\ndelta_x = {delta_x} \"\n",
    "        f\"\\nx_array[1] - x_array[0] = {x_array[1] - x_array[0]}\"\n",
    "    )\n",
    "\n",
    "    delta_x_third = delta_x / 3.0\n",
    "\n",
    "    integration_result = 0.0\n",
    "    xp = x_array[0]\n",
    "    y0 = f(xp)\n",
    "\n",
    "    for i in range(1, n_partition, 2):\n",
    "        x1 = x_array[i]\n",
    "        x2 = x_array[i+1]\n",
    "\n",
    "        y1 = f(x1)\n",
    "        y2 = f(x2)\n",
    "\n",
    "        area_i = delta_x_third * (y0 + 4*y1 + y2)\n",
    "\n",
    "        if b_verbose:\n",
    "          print(f'x[{i-1}] = {xp}, x[{i}] = {x1}, x[{i+1}] = {x2}, area_i = {area_i}')\n",
    "\n",
    "        xp, y0 = x2, y2\n",
    "        integration_result += area_i\n",
    "\n",
    "    return integration_result\n",
    "\n"
   ]
  },
  {
   "cell_type": "code",
   "execution_count": null,
   "metadata": {},
   "outputs": [],
   "source": [
    "n = 10\n",
    "result = num_int_2(pi.half_circle, -r, r, n, b_verbose=True)\n",
    "print('result =', result)\n",
    "\n"
   ]
  },
  {
   "cell_type": "code",
   "execution_count": null,
   "metadata": {},
   "outputs": [],
   "source": [
    "n = 100\n",
    "result = num_int_2(pi.half_circle, -r, r, n)\n",
    "print('result =', result)\n",
    "\n"
   ]
  },
  {
   "cell_type": "code",
   "execution_count": null,
   "metadata": {},
   "outputs": [],
   "source": [
    "%timeit -n 100 result = num_int_2(pi.half_circle, -r, r, n)\n",
    "\n"
   ]
  },
  {
   "cell_type": "code",
   "execution_count": null,
   "metadata": {},
   "outputs": [],
   "source": [
    "n = 2**8\n",
    "result_256 = num_int_2(pi.half_circle, -r, r, n)\n",
    "print('result =', result_256)\n",
    "\n"
   ]
  },
  {
   "cell_type": "code",
   "execution_count": null,
   "metadata": {},
   "outputs": [],
   "source": [
    "%timeit -n 100 result = num_int_2(pi.half_circle, -r, r, n)\n",
    "\n"
   ]
  },
  {
   "cell_type": "markdown",
   "metadata": {},
   "source": [
    "### $cos \\theta$의 반 주기<br>Half period of $cos \\theta$\n",
    "\n"
   ]
  },
  {
   "cell_type": "code",
   "source": [
    "import numpy as np\n",
    "def get_poly(x_list, y_list):\n",
    "  # https://numpy.org/doc/stable/reference/routines.polynomials.html\n",
    "  return np.polynomial.Polynomial.fit(x_list, y_list, deg=2)\n",
    "\n"
   ],
   "metadata": {},
   "execution_count": null,
   "outputs": []
  },
  {
   "cell_type": "code",
   "source": [
    "def calc_poly(x_list, y_list):\n",
    "  x_array = py.linspace(x_list[0], x_list[2])\n",
    "  return x_array, get_poly(x_list, y_list)(x_array)\n",
    "\n"
   ],
   "metadata": {},
   "execution_count": null,
   "outputs": []
  },
  {
   "cell_type": "code",
   "source": [
    "theta_deg = py.arange(180+1)\n",
    "theta_rad = py.deg2rad(theta_deg)\n",
    "\n",
    "s = py.sin(theta_rad)\n",
    "c = py.cos(theta_rad)\n",
    "\n",
    "# total area\n",
    "# 전체 면적\n",
    "py.fill_between(theta_deg, c, color=\"C1\", label=\"cos\")\n",
    "\n",
    "x_array_bar = py.linspace(0, 180, 10+1)\n",
    "y_array_bar = py.cos(py.deg2rad(x_array_bar))\n",
    "\n",
    "py.xticks(x_array_bar)\n",
    "\n",
    "x_gen = zip(\n",
    "  x_array_bar[:-2:2],\n",
    "  x_array_bar[1:-1:2],\n",
    "  x_array_bar[2::2],\n",
    ")\n",
    "y_gen = zip(\n",
    "  y_array_bar[:-2:2],\n",
    "  y_array_bar[1:-1:2],\n",
    "  y_array_bar[2::2],\n",
    ")\n",
    "\n",
    "# 2구간씩의 면적\n",
    "for x_list, y_list in zip(x_gen, y_gen):\n",
    "  py.fill_between(*calc_poly(x_list, y_list), alpha=0.5)\n",
    "\n",
    "py.xlabel(r\"$\\theta(deg)$\")\n",
    "py.grid(True)\n",
    "\n"
   ],
   "metadata": {},
   "execution_count": null,
   "outputs": []
  },
  {
   "cell_type": "code",
   "execution_count": null,
   "metadata": {},
   "outputs": [],
   "source": [
    "n = 10\n",
    "result_cos = num_int_2(py.cos, 0, py.pi, n, b_verbose=True)\n",
    "print('result =', result_cos)\n",
    "\n"
   ]
  },
  {
   "cell_type": "code",
   "source": [
    "theta_deg = py.arange(180+1)\n",
    "theta_rad = py.deg2rad(theta_deg)\n",
    "\n",
    "s = py.sin(theta_rad)\n",
    "c = py.cos(theta_rad)\n",
    "\n",
    "# total area\n",
    "# 전체 면적\n",
    "py.fill_between(theta_deg, c, color=\"C1\", label=\"cos\")\n",
    "\n",
    "x_array_bar = py.linspace(0, 180, 100+1)\n",
    "y_array_bar = py.cos(py.deg2rad(x_array_bar))\n",
    "\n",
    "py.vlines(x_array_bar, 0, y_array_bar)\n",
    "py.xticks(x_array_bar[::10])\n",
    "\n",
    "x_gen = zip(\n",
    "  x_array_bar[:-2:2],\n",
    "  x_array_bar[1:-1:2],\n",
    "  x_array_bar[2::2],\n",
    ")\n",
    "y_gen = zip(\n",
    "  y_array_bar[:-2:2],\n",
    "  y_array_bar[1:-1:2],\n",
    "  y_array_bar[2::2],\n",
    ")\n",
    "\n",
    "# areas of two intervals\n",
    "# 2구간씩의 면적\n",
    "for x_list, y_list in zip(x_gen, y_gen):\n",
    "  py.fill_between(*calc_poly(x_list, y_list), alpha=0.5)\n",
    "\n",
    "py.xlabel(r\"$\\theta(deg)$\")\n",
    "py.grid(True)\n",
    "\n"
   ],
   "metadata": {},
   "execution_count": null,
   "outputs": []
  },
  {
   "cell_type": "markdown",
   "source": [],
   "metadata": {}
  },
  {
   "cell_type": "code",
   "execution_count": null,
   "metadata": {},
   "outputs": [],
   "source": [
    "n = 100\n",
    "result_cos = num_int_2(py.cos, 0, py.pi, n)\n",
    "print('result =', result_cos)\n",
    "\n"
   ]
  },
  {
   "cell_type": "markdown",
   "metadata": {},
   "source": [
    "### 1/4 원<br>A quarter circle\n",
    "\n"
   ]
  },
  {
   "cell_type": "code",
   "execution_count": null,
   "metadata": {},
   "outputs": [],
   "source": [
    "n = 10\n",
    "result_quarter = num_int_2(pi.half_circle, -r, 0, n, b_verbose=True)\n",
    "print('result =', result_quarter)\n",
    "\n"
   ]
  },
  {
   "cell_type": "code",
   "source": [
    "n = 10\n",
    "result_quarter = num_int_2(pi.half_circle, 0, r, n, b_verbose=True)\n",
    "print('result =', result_quarter)\n",
    "\n"
   ],
   "metadata": {},
   "execution_count": null,
   "outputs": []
  },
  {
   "cell_type": "markdown",
   "source": [
    "Again, let's compare with 0th order result.<br>\n",
    "마찬가지로, 0차 적분 결과와 비교해 보자.\n",
    "\n"
   ],
   "metadata": {}
  },
  {
   "cell_type": "code",
   "execution_count": null,
   "metadata": {},
   "outputs": [],
   "source": [
    "n = 100\n",
    "result_quarter = num_int_2(pi.half_circle, -r, 0, n)\n",
    "print('result =', result_quarter)\n",
    "\n"
   ]
  },
  {
   "cell_type": "markdown",
   "source": [
    "### $\\int_{x=0}^{x=1}exp(x)dx$\n",
    "\n"
   ],
   "metadata": {}
  },
  {
   "cell_type": "code",
   "source": [
    "n = 10\n",
    "x_start = 0.0\n",
    "x_end = 1.0\n",
    "\n",
    "result_exp = num_int_2(np.exp, x_start, x_end, n)\n",
    "print('result =', result_exp)\n",
    "exact_exp = py.exp(1) - py.exp(0)\n",
    "print('exact =', exact_exp)\n",
    "\n"
   ],
   "metadata": {},
   "execution_count": null,
   "outputs": []
  },
  {
   "cell_type": "markdown",
   "metadata": {},
   "source": [
    "## 연습 문제<br>Exercises\n",
    "\n"
   ]
  },
  {
   "cell_type": "markdown",
   "metadata": {},
   "source": [
    "도전 과제 1 : 넓이 1인 반원의 예로 0차, 1차 적분과의 오차를 비교하시오.<br>Using the example of half circle with area 1, compare errors with zeroth and first order integrations.\n",
    "\n"
   ]
  },
  {
   "cell_type": "code",
   "execution_count": null,
   "metadata": {},
   "outputs": [],
   "source": []
  },
  {
   "cell_type": "markdown",
   "metadata": {},
   "source": [
    "도전 과제 2 : 긴 지름 4, 짧은 지름 2인 타원의 면적의 절반을 심슨법으로 계산하시오. [[위키피디아](https://ko.wikipedia.org/wiki/%ED%83%80%EC%9B%90)]<br>Try this 2 : Calculate the half of area of an ellipse with long diameter 4 and short diameter 2 using the Simpson's rule. [[wikipedia](https://en.wikipedia.org/wiki/Ellipse)]\n",
    "\n"
   ]
  },
  {
   "cell_type": "markdown",
   "metadata": {},
   "source": [
    "$$\n",
    "    \\frac{x^2}{4^2} + \\frac{y^2}{2^2} = 1\n",
    "$$\n",
    "\n"
   ]
  },
  {
   "cell_type": "code",
   "execution_count": null,
   "metadata": {},
   "outputs": [],
   "source": []
  },
  {
   "cell_type": "markdown",
   "metadata": {},
   "source": [
    "## 함수형 프로그래밍<br>Functional programming\n",
    "\n"
   ]
  },
  {
   "cell_type": "markdown",
   "metadata": {},
   "source": [
    "$n$ 개의 간격에 대해 심슨 규칙 적용을 생각해 보자.<br>\n",
    "Let's think about applying Simpson's rule over $n$ intervals.\n",
    "\n"
   ]
  },
  {
   "cell_type": "markdown",
   "metadata": {},
   "source": [
    "$$\n",
    "    Area = F_0 + F_2 + \\ldots + F_{n-2}\n",
    "$$\n",
    "\n"
   ]
  },
  {
   "cell_type": "markdown",
   "metadata": {},
   "source": [
    "$$\n",
    "    F_k = \\frac{\\Delta x}{3}\\left[f(x_k)+4 \\cdot f(x_{k+1}) + f(x_{k+2})\\right]\n",
    "$$\n",
    "\n"
   ]
  },
  {
   "cell_type": "markdown",
   "metadata": {},
   "source": [
    "$$\n",
    "\\begin{align}\n",
    "    Area &= \\frac{\\Delta x}{3}\\left[f(x_0)+4 \\cdot f(x_{1}) + f(x_{2})\\right] \\\\\n",
    "        &+ \\frac{\\Delta x}{3}\\left[f(x_2)+4 \\cdot f(x_{3}) + f(x_{4})\\right] \\\\\n",
    "        &+ \\frac{\\Delta x}{3}\\left[f(x_4)+4 \\cdot f(x_{5}) + f(x_{6})\\right] \\\\\n",
    "        & \\ldots \\\\\n",
    "        &+ \\frac{\\Delta x}{3}\\left[f(x_{n-4})+4 \\cdot f(x_{n-3}) + f(x_{n-2})\\right] \\\\\n",
    "        &+ \\frac{\\Delta x}{3}\\left[f(x_{n-2})+4 \\cdot f(x_{n-1}) + f(x_{n})\\right] \\\\\n",
    "\\end{align}\n",
    "$$\n",
    "\n"
   ]
  },
  {
   "cell_type": "markdown",
   "metadata": {},
   "source": [
    "$$\n",
    "\\begin{align}\n",
    "    Area &= \\frac{\\Delta x}{3}\\left[f(x_0)+f(x_{n})\\right] \\\\\n",
    "        &+ \\frac{4}{3}\\Delta x \\left[f(x_{1}) + f(x_{3}) + f(x_{5}) + \\ldots + f(x_{n-3}) + f(x_{n-1})\\right] \\\\\n",
    "        &+ \\frac{2}{3}\\Delta x \\left[f(x_{2}) + f(x_{4}) + f(x_{6}) + \\ldots + f(x_{n-4}) + f(x_{n-2})\\right] \\\\\n",
    "\\end{align}\n",
    "$$\n",
    "\n"
   ]
  },
  {
   "cell_type": "code",
   "execution_count": null,
   "metadata": {},
   "outputs": [],
   "source": [
    "def even_sum_func(f, xi, xe, delta_x):\n",
    "    return sum(\n",
    "        map(\n",
    "            f,\n",
    "            py.arange(xi+delta_x, xe-delta_x*0.5, delta_x*2),\n",
    "        )\n",
    "    )\n",
    "\n"
   ]
  },
  {
   "cell_type": "code",
   "execution_count": null,
   "metadata": {},
   "outputs": [],
   "source": [
    "def odd_sum_func(f, xi, xe, delta_x):\n",
    "    return sum(\n",
    "        map(\n",
    "            f,\n",
    "            py.arange(xi+(delta_x*2) , xe-delta_x*0.5, delta_x*2),\n",
    "        )\n",
    "    )\n",
    "\n"
   ]
  },
  {
   "cell_type": "code",
   "execution_count": null,
   "metadata": {},
   "outputs": [],
   "source": [
    "def num_int_2_functional(f, xi, xe, n):\n",
    "    return (\n",
    "        (get_delta_x(xi, xe, n) * (1.0/3)) * (\n",
    "            f(xi) + f(xe)\n",
    "            + 4 * even_sum_func(f, xi, xe, get_delta_x(xi, xe, n))\n",
    "            + 2 * odd_sum_func(f, xi, xe, get_delta_x(xi, xe, n))\n",
    "        )\n",
    "    )\n",
    "\n"
   ]
  },
  {
   "cell_type": "code",
   "execution_count": null,
   "metadata": {},
   "outputs": [],
   "source": [
    "n = 100\n",
    "result_func = num_int_2_functional(pi.half_circle, -r, r, n)\n",
    "print('result_func =', result_func)\n",
    "\n"
   ]
  },
  {
   "cell_type": "code",
   "execution_count": null,
   "metadata": {},
   "outputs": [],
   "source": [
    "assert 1e-7 > abs(result - result_func), f\"result = {result}, result_func = {result_func}\"\n",
    "\n"
   ]
  },
  {
   "cell_type": "code",
   "execution_count": null,
   "metadata": {},
   "outputs": [],
   "source": [
    "%timeit -n 100 result_func = num_int_2_functional(pi.half_circle, -r, r, n)\n",
    "\n"
   ]
  },
  {
   "cell_type": "markdown",
   "metadata": {},
   "source": [
    "## 시험<br>Test\n",
    "\n"
   ]
  },
  {
   "cell_type": "markdown",
   "metadata": {},
   "source": [
    "아래는 함수가 맞게 작동하는지 확인함<br>\n",
    "Following cells verify whether the functions work correctly.\n",
    "\n"
   ]
  },
  {
   "cell_type": "code",
   "execution_count": null,
   "metadata": {},
   "outputs": [],
   "source": [
    "import pylab as py\n",
    "r = py.sqrt(1.0 / py.pi)\n",
    "n = 10\n",
    "delta_x = r/n\n",
    "\n",
    "\n",
    "def half_circle(x):\n",
    "    return py.sqrt(r**2 - x ** 2)\n",
    "\n",
    "\n",
    "assert 0.25 > num_int_2(half_circle, -r, 0, n)\n",
    "assert 0.25 > num_int_2(half_circle, 0, r, n)\n",
    "assert 0.25 > num_int_2_functional(half_circle, -r, 0, n)\n",
    "assert 0.25 > num_int_2_functional(half_circle, 0, r, n)\n",
    "\n"
   ]
  },
  {
   "cell_type": "code",
   "execution_count": null,
   "metadata": {
    "scrolled": true
   },
   "outputs": [],
   "source": [
    "import math\n",
    "\n",
    "epsilon = 0.005\n",
    "\n",
    "assert math.isclose(4.0 * num_int_2(half_circle, -r, 0, n),            1.0, abs_tol=epsilon), (4.0 * num_int_2(half_circle, -r, 0, n))\n",
    "assert math.isclose(4.0 * num_int_2(half_circle, 0, r, n),             1.0, abs_tol=epsilon), (4.0 * num_int_2(half_circle, 0, r, n))\n",
    "assert math.isclose(4.0 * num_int_2_functional(half_circle, -r, 0, n), 1.0, abs_tol=epsilon), (4.0 * num_int_2_functional(half_circle, -r, 0, n))\n",
    "assert math.isclose(4.0 * num_int_2_functional(half_circle, 0, r, n),  1.0, abs_tol=epsilon), (4.0 * num_int_2_functional(half_circle, 0, r, n))\n",
    "\n"
   ]
  },
  {
   "cell_type": "markdown",
   "metadata": {},
   "source": [
    "## Final Bell<br>마지막 종\n",
    "\n"
   ]
  },
  {
   "cell_type": "code",
   "execution_count": null,
   "metadata": {},
   "outputs": [],
   "source": [
    "# stackoverfow.com/a/24634221\n",
    "import os\n",
    "os.system(\"printf '\\a'\");\n",
    "\n"
   ]
  },
  {
   "cell_type": "code",
   "execution_count": null,
   "metadata": {},
   "outputs": [],
   "source": []
  }
 ],
 "metadata": {
  "kernelspec": {
   "display_name": "Python 3",
   "language": "python",
   "name": "python3"
  },
  "language_info": {
   "codemirror_mode": {
    "name": "ipython",
    "version": 3
   },
   "file_extension": ".py",
   "mimetype": "text/x-python",
   "name": "python",
   "nbconvert_exporter": "python",
   "pygments_lexer": "ipython3",
   "version": "3.8.8"
  },
  "colab": {
   "provenance": [],
   "include_colab_link": true
  }
 },
 "nbformat": 4,
 "nbformat_minor": 0
}