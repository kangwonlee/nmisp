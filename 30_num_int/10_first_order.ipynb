{
 "cells": [
  {
   "cell_type": "markdown",
   "metadata": {
    "id": "view-in-github",
    "colab_type": "text"
   },
   "source": [
    "<a href=\"https://colab.research.google.com/github/kangwonlee/nmisp/blob/dependabot/pip/tests/requests-2.31.0/30_num_int/10_first_order.ipynb\" target=\"_parent\"><img src=\"https://colab.research.google.com/assets/colab-badge.svg\" alt=\"Open In Colab\"/></a>\n"
   ]
  },
  {
   "cell_type": "code",
   "execution_count": null,
   "metadata": {},
   "outputs": [],
   "source": [
    "# This cell is for the Google Colaboratory\n",
    "# https://stackoverflow.com/a/63519730\n",
    "if 'google.colab' in str(get_ipython()):\n",
    "  path_py = '/content/nmisp_py'\n",
    "\n",
    "  import os\n",
    "  if not os.path.exists(path_py):\n",
    "    import subprocess\n",
    "    subprocess.run(\n",
    "        ('git', 'clone', 'https://github.com/kangwonlee/nmisp_py')\n",
    "    )\n",
    "  assert os.path.exists(path_py)\n",
    "\n",
    "  import sys\n",
    "  sys.path.insert(0, path_py)\n",
    "\n"
   ]
  },
  {
   "cell_type": "code",
   "execution_count": null,
   "metadata": {},
   "outputs": [],
   "source": [
    "# 그래프, 수학 기능 추가\n",
    "# Add graph and math features\n",
    "import pylab as py\n",
    "import numpy as np\n",
    "\n"
   ]
  },
  {
   "cell_type": "markdown",
   "metadata": {},
   "source": [
    "# 1차 적분<br>First Order Numerical Integration\n",
    "\n"
   ]
  },
  {
   "cell_type": "markdown",
   "metadata": {},
   "source": [
    "[![Trapezoidal sums | Accumulation and Riemann sums | AP Calculus AB | Khan Academy](https://i.ytimg.com/vi/1p0NHR5w0Lc/hqdefault.jpg)](https://www.youtube.com/watch?v=1p0NHR5w0Lc)\n",
    "\n"
   ]
  },
  {
   "cell_type": "markdown",
   "metadata": {},
   "source": [
    "다시 면적이 1인 반원을 생각해 보자.<br>Again, let's think about the half circle with area of 1.\n",
    "\n"
   ]
  },
  {
   "cell_type": "markdown",
   "metadata": {},
   "source": [
    "$$\n",
    "\\begin{align}\n",
    "    \\pi r^2 &= 2 \\\\\n",
    "    r^2 &= \\frac{2}{\\pi} \\\\\n",
    "    r &= \\sqrt{\\frac{2}{\\pi}}\n",
    "\\end{align}\n",
    "$$\n",
    "\n"
   ]
  },
  {
   "cell_type": "code",
   "execution_count": null,
   "metadata": {},
   "outputs": [],
   "source": [
    "r = py.sqrt(2.0 / py.pi)\n",
    "\n"
   ]
  },
  {
   "cell_type": "code",
   "execution_count": null,
   "metadata": {},
   "outputs": [],
   "source": [
    "def half_circle(x):\n",
    "    return py.sqrt(r**2 - x**2)\n",
    "\n"
   ]
  },
  {
   "cell_type": "markdown",
   "metadata": {},
   "source": [
    "$$\n",
    "y = \\sqrt{r^2 - x^2}\n",
    "$$\n",
    "\n"
   ]
  },
  {
   "cell_type": "code",
   "execution_count": null,
   "metadata": {},
   "outputs": [],
   "source": [
    "import plot_num_int as pi\n",
    "\n"
   ]
  },
  {
   "cell_type": "code",
   "execution_count": null,
   "metadata": {
    "scrolled": false
   },
   "outputs": [],
   "source": [
    "pi.plot_a_half_circle_of_area(1)\n",
    "pi.axis_equal_grid_True()\n",
    "\n"
   ]
  },
  {
   "cell_type": "markdown",
   "metadata": {},
   "source": [
    "이번에는 사다리꼴 규칙을 이용해서 구해 보기로 하자.<br>\n",
    "This time, let's use the trapezoid rule to find its area.\n",
    "\n"
   ]
  },
  {
   "cell_type": "markdown",
   "metadata": {},
   "source": [
    "## 사다리꼴 규칙<br>Trapezoid Rule\n",
    "\n"
   ]
  },
  {
   "cell_type": "markdown",
   "metadata": {},
   "source": [
    "다음과 같은 사다리꼴을 생각해 보자.<br>Let's think about a trapezoid as follows.\n",
    "\n"
   ]
  },
  {
   "cell_type": "code",
   "execution_count": null,
   "metadata": {},
   "outputs": [],
   "source": [
    "x_array = (0, 1)\n",
    "y_array = (1, 2)\n",
    "\n",
    "py.fill_between(x_array, y_array)\n",
    "py.axis('equal')\n",
    "py.axis('off')\n",
    "\n",
    "py.text(-0.25, 0.5, '$y_i$')\n",
    "py.text(1.15, 1, '$y_{i+1}$')\n",
    "py.text(0.5, -0.3, '$\\Delta x$');\n",
    "\n"
   ]
  },
  {
   "cell_type": "markdown",
   "metadata": {},
   "source": [
    "사다리꼴의 면적은 다음과 같다.<br>\n",
    "Area of a trapezoid is as follows.\n",
    "\n"
   ]
  },
  {
   "cell_type": "markdown",
   "metadata": {},
   "source": [
    "$$\n",
    "a_i=\\frac{1}{2} \\left( y_i + y_{i+1} \\right) \\Delta x\n",
    "$$\n",
    "\n"
   ]
  },
  {
   "cell_type": "markdown",
   "metadata": {},
   "source": [
    "## 1차 적분<br>First order numerical integration\n",
    "\n"
   ]
  },
  {
   "cell_type": "markdown",
   "metadata": {},
   "source": [
    "마찬가지로 일정 간격으로 $x$ 좌표를 나누어 보자.<br>\n",
    "Same as before, let's divide $x$ coordinates in a constant interval.\n",
    "\n"
   ]
  },
  {
   "cell_type": "code",
   "execution_count": null,
   "metadata": {},
   "outputs": [],
   "source": [
    "n = 10\n",
    "\n",
    "pi.plot_half_circle_with_stems(n, 1)\n",
    "\n",
    "# 사다리꼴의 좌표를 나눔 Find coordinates for the trapezoids\n",
    "x_array_bar = py.linspace(-r, r, n+1)\n",
    "y_array_bar = half_circle(x_array_bar)\n",
    "\n",
    "# 각 사다리꼴의 폭 Width of each trapezoid\n",
    "delta_x = x_array_bar[1] - x_array_bar[0]\n",
    "\n",
    "# 일련의 사다리꼴을 그림 Plot a series of the trapezoids\n",
    "xp, yp = x_array_bar[0], y_array_bar[0]\n",
    "for x, y in zip(x_array_bar[1:], y_array_bar[1:]):\n",
    "    py.fill_between((xp, x), (yp, y), alpha=0.5, color=py.random((1, 3)))\n",
    "    xp, yp = x, y\n",
    "\n",
    "py.axis('equal')\n",
    "py.grid(True)\n",
    "\n"
   ]
  },
  {
   "cell_type": "markdown",
   "metadata": {},
   "source": [
    "사다리꼴의 면적을 하나씩 구해서 더해보자.<br>Let's accumulate the area of trapezoids.\n",
    "\n"
   ]
  },
  {
   "cell_type": "markdown",
   "metadata": {},
   "source": [
    "$$\n",
    "    Area = \\sum_{k=0}^{n-1} F_k\n",
    "$$\n",
    "\n"
   ]
  },
  {
   "cell_type": "markdown",
   "metadata": {},
   "source": [
    "$$\n",
    "    F_k = \\frac{\\Delta x}{2}\\left[f(x_k)+f(x_{k+1})\\right]\n",
    "$$\n",
    "\n"
   ]
  },
  {
   "cell_type": "markdown",
   "metadata": {},
   "source": [
    "$$\n",
    "    Area = \\sum_{k=0}^{n-1}  \\frac{1}{2}\\left[f(x_k)+f(x_{k+1})\\right] \\Delta x\n",
    "$$\n",
    "\n"
   ]
  },
  {
   "cell_type": "code",
   "execution_count": null,
   "metadata": {},
   "outputs": [],
   "source": [
    "def get_delta_x(xi, xe, n):\n",
    "    return (xe - xi) / n\n",
    "\n"
   ]
  },
  {
   "cell_type": "code",
   "execution_count": null,
   "metadata": {},
   "outputs": [],
   "source": [
    "def num_int_1(f, xi, xe, n, b_verbose=False):\n",
    "    # x coordinates of each interval\n",
    "    x_array = py.linspace(xi, xe, n+1)\n",
    "\n",
    "    # initialize result\n",
    "    integration_result = 0.0\n",
    "\n",
    "    x_k = x_array[0]\n",
    "    # first height\n",
    "    y_k = f(x_k)\n",
    "\n",
    "    for k, x_k_plus_1 in enumerate(x_array[1:]):\n",
    "\n",
    "        # second height of k-th step\n",
    "        y_k_plus_1 = f(x_k_plus_1)\n",
    "\n",
    "        # area of k-th trapezoid\n",
    "        F_k = 0.5 * (y_k + y_k_plus_1) * (x_k_plus_1 - x_k)\n",
    "\n",
    "        if b_verbose: print('k = %2d, F_k = %g' % (k, F_k))\n",
    "\n",
    "        # accumulation\n",
    "        integration_result += F_k\n",
    "\n",
    "        # first height of next step\n",
    "        x_k, y_k = x_k_plus_1, y_k_plus_1\n",
    "\n",
    "    return integration_result\n",
    "\n"
   ]
  },
  {
   "cell_type": "code",
   "execution_count": null,
   "metadata": {},
   "outputs": [],
   "source": [
    "n = 10\n",
    "result = num_int_1(half_circle, -r, r, n, b_verbose=True)\n",
    "print('result =', result)\n",
    "\n"
   ]
  },
  {
   "cell_type": "markdown",
   "metadata": {},
   "source": [
    "예상한 값 1에 더 비슷한 값을 얻기 위해 더 잘게 나누어 보자<br>\n",
    "To obtain the result closer to the expected value of 1, let's divide with a narrower interval.\n",
    "\n"
   ]
  },
  {
   "cell_type": "code",
   "execution_count": null,
   "metadata": {},
   "outputs": [],
   "source": [
    "n = 100\n",
    "result = num_int_1(half_circle, -r, r, n)\n",
    "print('result =', result)\n",
    "\n"
   ]
  },
  {
   "cell_type": "code",
   "execution_count": null,
   "metadata": {},
   "outputs": [],
   "source": [
    "%timeit -n 100 result = num_int_1(half_circle, -r, r, n)\n",
    "\n"
   ]
  },
  {
   "cell_type": "markdown",
   "metadata": {},
   "source": [
    "### $cos \\theta$의 반 주기<br>Half period of $cos \\theta$\n",
    "\n"
   ]
  },
  {
   "cell_type": "code",
   "source": [
    "theta_deg = py.arange(180+1)\n",
    "theta_rad = py.deg2rad(theta_deg)\n",
    "s = py.sin(theta_rad)\n",
    "c = py.cos(theta_rad)\n",
    "\n",
    "py.fill_between(theta_deg, c, color=\"C1\", label=\"cos\", alpha=0.5)\n",
    "\n",
    "x_array_bar = py.linspace(0, 180, 10+1)\n",
    "y_array_bar = py.cos(py.deg2rad(x_array_bar))\n",
    "\n",
    "# 일련의 사다리꼴을 그림 Plot a series of the trapezoids\n",
    "xp, yp = x_array_bar[0], y_array_bar[0]\n",
    "\n",
    "for x, y in zip(x_array_bar[1:], y_array_bar[1:]):\n",
    "    py.fill_between((xp, x), (yp, y), alpha=0.5, color=py.random((1, 3)))\n",
    "    xp, yp = x, y\n",
    "\n",
    "py.xticks(x_array_bar)\n",
    "\n",
    "py.xlabel(r\"$\\theta(deg)$\")\n",
    "\n",
    "py.grid(True)\n",
    "\n"
   ],
   "metadata": {},
   "execution_count": null,
   "outputs": []
  },
  {
   "cell_type": "code",
   "execution_count": null,
   "metadata": {},
   "outputs": [],
   "source": [
    "n = 10\n",
    "result_cos = num_int_1(py.cos, 0, py.pi, n, b_verbose=True)\n",
    "print('result =', result_cos)\n",
    "\n"
   ]
  },
  {
   "cell_type": "code",
   "source": [
    "theta_deg = py.arange(180+1)\n",
    "theta_rad = py.deg2rad(theta_deg)\n",
    "s = py.sin(theta_rad)\n",
    "c = py.cos(theta_rad)\n",
    "\n",
    "py.fill_between(theta_deg, c, color=\"C1\", label=\"cos\", alpha=0.5)\n",
    "\n",
    "x_array_bar = py.linspace(0, 180, 100+1)\n",
    "y_array_bar = py.cos(py.deg2rad(x_array_bar))\n",
    "\n",
    "# 일련의 사다리꼴을 그림 Plot a series of the trapezoids\n",
    "xp, yp = x_array_bar[0], y_array_bar[0]\n",
    "\n",
    "for x, y in zip(x_array_bar[1:], y_array_bar[1:]):\n",
    "    py.fill_between((xp, x), (yp, y), alpha=0.5, color=py.random((1, 3)))\n",
    "    xp, yp = x, y\n",
    "\n",
    "py.xticks(x_array_bar[::10])\n",
    "\n",
    "py.xlabel(r\"$\\theta(deg)$\")\n",
    "\n",
    "py.grid(True)\n",
    "\n"
   ],
   "metadata": {},
   "execution_count": null,
   "outputs": []
  },
  {
   "cell_type": "code",
   "execution_count": null,
   "metadata": {},
   "outputs": [],
   "source": [
    "n = 100\n",
    "result_cos = num_int_1(py.cos, 0, py.pi, n)\n",
    "print('result =', result_cos)\n",
    "\n"
   ]
  },
  {
   "cell_type": "markdown",
   "metadata": {},
   "source": [
    "### 1/4 원<br>A quarter circle\n",
    "\n"
   ]
  },
  {
   "cell_type": "code",
   "execution_count": null,
   "metadata": {},
   "outputs": [],
   "source": [
    "n = 10\n",
    "result_quarter = num_int_1(half_circle, -r, 0, n, b_verbose=True)\n",
    "print('result =', result_quarter)\n",
    "\n"
   ]
  },
  {
   "cell_type": "code",
   "source": [
    "n = 10\n",
    "result_quarter = num_int_1(half_circle, 0, r, n, b_verbose=True)\n",
    "print('result =', result_quarter)\n",
    "\n"
   ],
   "metadata": {},
   "execution_count": null,
   "outputs": []
  },
  {
   "cell_type": "markdown",
   "source": [
    "Let's compare with 0th order integration.<br>\n",
    "0차 적분 결과와 비교해 보자.\n",
    "\n"
   ],
   "metadata": {}
  },
  {
   "cell_type": "code",
   "execution_count": null,
   "metadata": {},
   "outputs": [],
   "source": [
    "n = 100\n",
    "result_quarter = num_int_1(half_circle, -r, 0, n)\n",
    "print('result =', result_quarter)\n",
    "\n"
   ]
  },
  {
   "cell_type": "markdown",
   "metadata": {},
   "source": [
    "## 연습 문제<br>Exercises\n",
    "\n"
   ]
  },
  {
   "cell_type": "markdown",
   "metadata": {},
   "source": [
    "도전 과제 1 : 다른 조건이 같을 때 0차 적분과 사다리꼴 적분의 오차를 비교해 보시오. 필요하면 해당 파이썬 함수를 복사하시오.<br>Try this 1 : Compare the errors of the zeroth and first order integrations of the half circle example above using the same conditions. Duplicate the python function if necessary.\n",
    "\n"
   ]
  },
  {
   "cell_type": "code",
   "execution_count": null,
   "metadata": {},
   "outputs": [],
   "source": []
  },
  {
   "cell_type": "markdown",
   "metadata": {},
   "source": [
    "도전 과제 2 : 길이 $L=3[m]$ 인 외팔보가 분포 하중 $\\omega=50sin\\left(\\frac{1}{2L}\\pi x\\right)[N/m]$을 받고 있을 때 전단력과 굽힘모멘트 선도를 구하시오.<br>\n",
    "Try this 2 : Plot diagrams of shear force and bending moment of a cantilever with length $L=3m$ under distributed load $\\omega=50sin\\left(\\frac{1}{2L}\\pi x\\right)[N/m]$. <br>\n",
    "(ref : C 4.4, Pytel, Kiusalaas & Sharma, Mechanics of Materials, 2nd Ed, SI, Cengage Learning, 2011.)\n",
    "\n"
   ]
  },
  {
   "cell_type": "code",
   "execution_count": null,
   "metadata": {},
   "outputs": [],
   "source": []
  },
  {
   "cell_type": "markdown",
   "metadata": {},
   "source": [
    "## 함수형 프로그래밍<br>Functional programming\n",
    "\n"
   ]
  },
  {
   "cell_type": "markdown",
   "metadata": {},
   "source": [
    "간격이 일정하다면 면적의 근사값을 다음과 같이 바꾸어 쓸 수 있다.<br>\n",
    "If the interval $\\Delta x$ is constant, we may rewrite the approximation of the area as follows.\n",
    "\n"
   ]
  },
  {
   "cell_type": "markdown",
   "metadata": {},
   "source": [
    "$$\n",
    "\\begin{align}\n",
    "    Area &= \\sum_{k=0}^{n-1}  \\frac{1}{2}\\left[f(x_k)+f(x_{k+1})\\right] \\Delta x \\\\\n",
    "   &= \\Delta x \\sum_{k=0}^{n-1}  \\frac{1}{2}\\left[f(x_k)+f(x_{k+1})\\right] \n",
    "\\end{align}\n",
    "$$\n",
    "\n"
   ]
  },
  {
   "cell_type": "markdown",
   "metadata": {},
   "source": [
    "$$\n",
    "\\begin{align}\n",
    "   \\sum_{k=0}^{n-1}  \\frac{1}{2}\\left[f(x_k)+f(x_{k+1})\\right] &= \\frac{1}{2}\\left[f(x_0)+f(x_1)\\right] \\\\\n",
    "   &+ \\frac{1}{2}\\left[f(x_1)+f(x_2)\\right] \\\\\n",
    "   &+ \\frac{1}{2}\\left[f(x_2)+f(x_3)\\right] \\\\\n",
    "   & \\ldots \\\\\n",
    "   &+ \\frac{1}{2}\\left[f(x_{n-2})+f(x_{n-1})\\right] \\\\\n",
    "   &+ \\frac{1}{2}\\left[f(x_{n-1})+f(x_{n})\\right] \\\\\n",
    "   &= \\frac{1}{2}f(x_0) + \\sum_{k=1}^{n-1}  f(x_k) + \\frac{1}{2}f(x_{n}) \\\\\n",
    "   &= \\frac{1}{2}\\left[f(x_0) + f(x_{n})\\right] + \\sum_{k=1}^{n-1}  f(x_k)\n",
    "\\end{align}\n",
    "$$\n",
    "\n"
   ]
  },
  {
   "cell_type": "markdown",
   "metadata": {},
   "source": [
    "$$\n",
    "\\begin{align}\n",
    "    Area &= \\Delta x \\sum_{k=0}^{n-1}  \\frac{1}{2}\\left[f(x_k)+f(x_{k+1})\\right] \\\\\n",
    "    &= \\Delta x \\left[\\frac{1}{2}\\left[f(x_0) + f(x_{n})\\right] + \\sum_{k=1}^{n-1}  f(x_k)\\right]\n",
    "\\end{align}\n",
    "$$\n",
    "\n"
   ]
  },
  {
   "cell_type": "markdown",
   "metadata": {},
   "source": [
    "할당문 없이 `sum()` 과 `map()` 함수로 구현해 보자.<br>\n",
    "Instead of assignments, let's implement using `sum()` and `map()` functions.\n",
    "\n"
   ]
  },
  {
   "cell_type": "code",
   "execution_count": null,
   "metadata": {},
   "outputs": [],
   "source": [
    "def num_int_1_functional(f, xi, xe, n):\n",
    "    # get_delta_x() 함수 호출 횟수를 줄이기 위해 함수 안의 함수를 사용\n",
    "    # To reduce the number of calling function get_delta_x(), define inner functions\n",
    "    def with_delta_x(f, xi, n, delta_x=get_delta_x(xi, xe, n)):\n",
    "\n",
    "        return delta_x * (\n",
    "            0.5 * (f(xi) + f(xe))\n",
    "            + sum(\n",
    "                map(\n",
    "                    f,\n",
    "                    py.arange(xi + delta_x, xe - delta_x*0.1, delta_x),\n",
    "                )\n",
    "            )\n",
    "        )\n",
    "\n",
    "    return with_delta_x(f, xi, n)\n",
    "\n"
   ]
  },
  {
   "cell_type": "code",
   "execution_count": null,
   "metadata": {},
   "outputs": [],
   "source": [
    "n = 100\n",
    "result_func = num_int_1_functional(half_circle, -r, r, n)\n",
    "print('result_func =', result_func)\n",
    "\n"
   ]
  },
  {
   "cell_type": "code",
   "execution_count": null,
   "metadata": {},
   "outputs": [],
   "source": [
    "import math\n",
    "assert math.isclose(result, result_func), f\"result = {result}, result_func = {result_func}\"\n",
    "\n"
   ]
  },
  {
   "cell_type": "code",
   "execution_count": null,
   "metadata": {},
   "outputs": [],
   "source": [
    "%timeit -n 100 result_func = num_int_1_functional(half_circle, -r, r, n)\n",
    "\n"
   ]
  },
  {
   "cell_type": "markdown",
   "metadata": {},
   "source": [
    "## NumPy 벡터화<br>Vectorization of NumPy\n",
    "\n"
   ]
  },
  {
   "cell_type": "code",
   "execution_count": null,
   "metadata": {},
   "outputs": [],
   "source": [
    "import pylab as py\n",
    "\n"
   ]
  },
  {
   "cell_type": "code",
   "execution_count": null,
   "metadata": {},
   "outputs": [],
   "source": [
    "def num_int_1_vector_with_delta_x(f, xi, xe, n, delta_x):\n",
    "    return delta_x * (\n",
    "        f(py.arange(xi+delta_x, xe-delta_x*0.5, get_delta_x(xi, xe, n))).sum()\n",
    "        + 0.5 * f(py.array((xi, xe))).sum()\n",
    "    )\n",
    "\n",
    "\n",
    "def num_int_1_vector(f, xi, xe, n):\n",
    "    \n",
    "    return num_int_1_vector_with_delta_x(f, xi, xe, n, get_delta_x(xi, xe, n))\n",
    "\n"
   ]
  },
  {
   "cell_type": "code",
   "execution_count": null,
   "metadata": {},
   "outputs": [],
   "source": [
    "n = 100\n",
    "result_vect = num_int_1_vector(half_circle, -r, r, n)\n",
    "print('result_vect =', result_vect)\n",
    "\n"
   ]
  },
  {
   "cell_type": "code",
   "execution_count": null,
   "metadata": {},
   "outputs": [],
   "source": [
    "assert 1e-7 > abs(result - result_vect), f\"result = {result}, result_vect = {result_vect}\"\n",
    "\n"
   ]
  },
  {
   "cell_type": "code",
   "execution_count": null,
   "metadata": {},
   "outputs": [],
   "source": [
    "%timeit -n 100 result_func = num_int_1_vector(half_circle, -r, r, n)\n",
    "\n"
   ]
  },
  {
   "cell_type": "markdown",
   "metadata": {},
   "source": [
    "## 시험<br>Test\n",
    "\n"
   ]
  },
  {
   "cell_type": "markdown",
   "metadata": {},
   "source": [
    "아래는 함수가 맞게 작동하는지 확인함<br>\n",
    "Following cells verify whether the functions work correctly.\n",
    "\n"
   ]
  },
  {
   "cell_type": "code",
   "execution_count": null,
   "metadata": {},
   "outputs": [],
   "source": [
    "import pylab as py\n",
    "r = py.sqrt(1.0 / py.pi)\n",
    "n = 10\n",
    "delta_x = r/n\n",
    "\n",
    "\n",
    "def half_circle(x):\n",
    "    return py.sqrt(r**2 - x ** 2)\n",
    "\n",
    "\n",
    "assert 0.25 > num_int_1(half_circle, -r, 0, n)\n",
    "assert 0.25 > num_int_1(half_circle, 0, r, n)\n",
    "assert 0.25 > num_int_1_functional(half_circle, -r, 0, n)\n",
    "assert 0.25 > num_int_1_functional(half_circle, 0, r, n)\n",
    "assert 0.25 > num_int_1_vector(half_circle, -r, 0, n)\n",
    "assert 0.25 > num_int_1_vector(half_circle, 0, r, n)\n",
    "\n"
   ]
  },
  {
   "cell_type": "code",
   "execution_count": null,
   "metadata": {},
   "outputs": [],
   "source": [
    "import math\n",
    "\n",
    "epsilon = 0.02\n",
    "\n",
    "assert math.isclose(4.0 * num_int_1(half_circle, -r, 0, n)           , 1.0, abs_tol=epsilon), 4.0 * num_int_1(half_circle, -r, 0, n)\n",
    "assert math.isclose(4.0 * num_int_1(half_circle, 0, r, n)            , 1.0, abs_tol=epsilon), 4.0 * num_int_1(half_circle, 0, r, n)\n",
    "assert math.isclose(4.0 * num_int_1_functional(half_circle, -r, 0, n), 1.0, abs_tol=epsilon), 4.0 * num_int_1_functional(half_circle, -r, 0, n)\n",
    "assert math.isclose(4.0 * num_int_1_functional(half_circle, 0, r, n) , 1.0, abs_tol=epsilon), 4.0 * num_int_1_functional(half_circle, 0, r, n)\n",
    "assert math.isclose(4.0 * num_int_1_vector(half_circle, -r, 0, n)    , 1.0, abs_tol=epsilon), 4.0 * num_int_1_vector(half_circle, -r, 0, n)\n",
    "assert math.isclose(4.0 * num_int_1_vector(half_circle, 0, r, n)     , 1.0, abs_tol=epsilon), 4.0 * num_int_1_vector(half_circle, 0, r, n)\n",
    "\n"
   ]
  },
  {
   "cell_type": "markdown",
   "metadata": {},
   "source": [
    "## Final Bell<br>마지막 종\n",
    "\n"
   ]
  },
  {
   "cell_type": "code",
   "execution_count": null,
   "metadata": {},
   "outputs": [],
   "source": [
    "# stackoverfow.com/a/24634221\n",
    "import os\n",
    "os.system(\"printf '\\a'\");\n",
    "\n"
   ]
  },
  {
   "cell_type": "code",
   "execution_count": null,
   "metadata": {},
   "outputs": [],
   "source": []
  }
 ],
 "metadata": {
  "kernelspec": {
   "display_name": "Python 3",
   "language": "python",
   "name": "python3"
  },
  "language_info": {
   "codemirror_mode": {
    "name": "ipython",
    "version": 3
   },
   "file_extension": ".py",
   "mimetype": "text/x-python",
   "name": "python",
   "nbconvert_exporter": "python",
   "pygments_lexer": "ipython3",
   "version": "3.8.8"
  },
  "colab": {
   "provenance": [],
   "include_colab_link": true
  }
 },
 "nbformat": 4,
 "nbformat_minor": 0
}