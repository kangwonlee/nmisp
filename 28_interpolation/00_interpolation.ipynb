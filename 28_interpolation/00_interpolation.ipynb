{
 "cells": [
  {
   "cell_type": "markdown",
   "metadata": {
    "id": "view-in-github",
    "colab_type": "text"
   },
   "source": [
    "<a href=\"https://colab.research.google.com/github/kangwonlee/nmisp/blob/lecture-idea/28_interpolation/00_interpolation.ipynb\" target=\"_parent\"><img src=\"https://colab.research.google.com/assets/colab-badge.svg\" alt=\"Open In Colab\"/></a>\n"
   ]
  },
  {
   "cell_type": "markdown",
   "metadata": {},
   "source": [
    "# Interpolation<br>내삽법\n",
    "\n"
   ]
  },
  {
   "cell_type": "markdown",
   "metadata": {},
   "source": [
    "For instance, to guess values between two measurements, we may try interpolation.<br>예를 들어 실험을 통해 얻은 두 측정값 사이의 값을 추정하고 싶을 경우, 내삽법을 시도해 볼 수 있다.\n",
    "\n"
   ]
  },
  {
   "cell_type": "markdown",
   "metadata": {},
   "source": [
    "Let's take a look at the following table.<br>아래의 표를 살펴보자.\n",
    "\n"
   ]
  },
  {
   "cell_type": "code",
   "execution_count": null,
   "metadata": {},
   "outputs": [],
   "source": [
    "# Import pandas for tables\n",
    "import pandas as pd\n",
    "# Import NumPy and matplotlib\n",
    "import pylab as py\n",
    "\n"
   ]
  },
  {
   "cell_type": "code",
   "execution_count": null,
   "metadata": {},
   "outputs": [],
   "source": [
    "# What is this?\n",
    "py.seed()\n",
    "\n",
    "# Parameters\n",
    "a = 0.5\n",
    "b = 1.5\n",
    "\n",
    "# x array\n",
    "x_array = py.arange(5+0.5)\n",
    "\n",
    "# True values of y\n",
    "y_true = a * x_array + b\n",
    "\n",
    "# contamination\n",
    "noise = py.random(x_array.shape) - 0.5\n",
    "\n",
    "# Measurement values\n",
    "y_measurement = y_true + noise\n",
    "\n",
    "# Organize data in table form\n",
    "# https://stackoverflow.com/questions35160256\n",
    "df = pd.DataFrame(\n",
    "    {\n",
    "        'x':x_array,\n",
    "        \"y_measurement\":y_measurement\n",
    "    },\n",
    "    columns=['x', \"y_measurement\"],\n",
    ")\n",
    "\n",
    "# Plot data points\n",
    "ax = df.plot.scatter(x='x', y=\"y_measurement\", label=\"y_measurement\")\n",
    "\n",
    "py.show()\n",
    "\n"
   ]
  },
  {
   "cell_type": "code",
   "execution_count": null,
   "metadata": {},
   "outputs": [],
   "source": [
    "# Present the table\n",
    "df\n",
    "\n"
   ]
  },
  {
   "cell_type": "markdown",
   "metadata": {},
   "source": [
    "Let's try to figure out $y$ values in the $0 \\le x \\le 1$ interval.<br>여기서 $0 \\le x \\le 1$ 구간의 $y$ 값을 알아보자.\n",
    "\n"
   ]
  },
  {
   "cell_type": "markdown",
   "metadata": {},
   "source": [
    "## Linear interpolation<br>선형 내삽\n",
    "\n"
   ]
  },
  {
   "cell_type": "markdown",
   "metadata": {},
   "source": [
    "### Formulation<br>수식화\n",
    "\n"
   ]
  },
  {
   "cell_type": "markdown",
   "metadata": {},
   "source": [
    "We can formulate the straight line passing two points of $(x_1, y_1)$ and $(x_2, y_2)$.<br>두 점 $(x_1, y_1)$, $(x_2, y_2)$ 을 지나는 직선의 방정식을 구할 수 있다.\n",
    "\n"
   ]
  },
  {
   "cell_type": "code",
   "execution_count": null,
   "metadata": {},
   "outputs": [],
   "source": [
    "# Import symbolic processor module\n",
    "import sympy as sym\n",
    "\n",
    "# Initialize printing equations\n",
    "sym.init_printing()\n",
    "\n"
   ]
  },
  {
   "cell_type": "code",
   "execution_count": null,
   "metadata": {},
   "outputs": [],
   "source": [
    "# Declare symbols\n",
    "x = sym.symbols('x')\n",
    "\n",
    "# Multiple symbols using `:`\n",
    "x1, x2 = sym.symbols('x1:3')\n",
    "y1, y2 = sym.symbols('y1:3')\n",
    "\n",
    "# Define slope\n",
    "slope = (y2 - y1) / (x2 - x1)\n",
    "\n",
    "# Define the straight line\n",
    "y_interp = slope * (x - x1) + y1\n",
    "\n",
    "# Present the equation\n",
    "y_interp\n",
    "\n"
   ]
  },
  {
   "cell_type": "markdown",
   "metadata": {},
   "source": [
    "Or we may rewrite as follows.<br>$x$에 관해 정리하면 다음과 같을 것이다.\n",
    "\n"
   ]
  },
  {
   "cell_type": "code",
   "execution_count": null,
   "metadata": {},
   "outputs": [],
   "source": [
    "sym.collect(sym.expand(y_interp), x, sym.factor)\n",
    "\n"
   ]
  },
  {
   "attachments": {},
   "cell_type": "markdown",
   "metadata": {},
   "source": [
    "We can find $y_i$ for an arbitrary $x_i$ (within $0 \\le x \\le 1$ interval) as follows.<br>\n",
    "($0 \\le x \\le 1$ 구간에서) 임의의 $x_i$ 에 대응되는 $y_i$ 는 다음과 같이 구할 수 있다.\n",
    "\n"
   ]
  },
  {
   "cell_type": "code",
   "execution_count": null,
   "metadata": {
    "scrolled": false
   },
   "outputs": [],
   "source": [
    "# Declared x_i as a SymPy symbol\n",
    "x_i = sym.symbols('x_i')\n",
    "\n",
    "# Prepared a dictionary containing substitution pairs\n",
    "substitution_dict = {\n",
    "    # \"substitute x with x_i\"\n",
    "    x: x_i,\n",
    "    x1: x_array[0],\n",
    "    x2: x_array[1],\n",
    "    y1: y_measurement[0],\n",
    "    y2: y_measurement[1],\n",
    "}\n",
    "\n",
    "# Substitution\n",
    "y_i_sy = y_interp.subs(substitution_dict)\n",
    "\n",
    "# Result of substitution\n",
    "y_i_sy\n",
    "\n"
   ]
  },
  {
   "cell_type": "markdown",
   "metadata": {},
   "source": [
    "SymPy may generate expressions in programming languages.<br>프로그래밍 언어 구문을 생성하는 것도 가능하다.\n",
    "\n"
   ]
  },
  {
   "cell_type": "code",
   "execution_count": null,
   "metadata": {
    "scrolled": true
   },
   "outputs": [],
   "source": [
    "python_code = sym.python(y_interp)\n",
    "print(python_code)\n",
    "\n"
   ]
  },
  {
   "cell_type": "code",
   "execution_count": null,
   "metadata": {},
   "outputs": [],
   "source": [
    "c_code = sym.ccode(y_interp)\n",
    "print(c_code)\n",
    "\n"
   ]
  },
  {
   "cell_type": "code",
   "execution_count": null,
   "metadata": {},
   "outputs": [],
   "source": [
    "fortran_code = sym.fcode(y_interp)\n",
    "print(fortran_code)\n",
    "\n"
   ]
  },
  {
   "attachments": {},
   "cell_type": "markdown",
   "metadata": {},
   "source": [
    "### Practice<br>적용사례\n",
    "\n"
   ]
  },
  {
   "cell_type": "markdown",
   "metadata": {},
   "source": [
    "Usually we call `interp()` function.<br>보통 `interp()` 함수를 이용한다.\n",
    "\n"
   ]
  },
  {
   "cell_type": "code",
   "execution_count": null,
   "metadata": {},
   "outputs": [],
   "source": [
    "# x values to interpolate\n",
    "x_i = py.linspace(x_array[0], x_array[-1], 50+1)\n",
    "\n",
    "# Interpolate\n",
    "y_i = py.interp(x_i, x_array, y_measurement)\n",
    "\n"
   ]
  },
  {
   "cell_type": "code",
   "execution_count": null,
   "metadata": {},
   "outputs": [],
   "source": [
    "# Plot data points\n",
    "ax = df.plot.scatter(x='x', y=\"y_measurement\", label=\"y_measurement\")\n",
    "\n",
    "# Plot interpolation\n",
    "ax.plot(x_i, y_i, '.', label='$y_{interp}$')\n",
    "\n",
    "# Show legend table\n",
    "py.legend(loc=0)\n",
    "\n",
    "py.show()\n",
    "\n"
   ]
  },
  {
   "cell_type": "markdown",
   "metadata": {},
   "source": [
    "### `pandas`\n",
    "\n"
   ]
  },
  {
   "cell_type": "markdown",
   "metadata": {},
   "source": [
    "`DataFrame` of `pandas` also has simple interpolation features.<br>판다스의 데이터프레임도 간단한 내삽 기능이 있다.\n",
    "\n"
   ]
  },
  {
   "cell_type": "code",
   "execution_count": null,
   "metadata": {},
   "outputs": [],
   "source": [
    "df_interp_nan = df.reindex(x_i)\n",
    "\n"
   ]
  },
  {
   "cell_type": "code",
   "execution_count": null,
   "metadata": {},
   "outputs": [],
   "source": [
    "# http://pandas.pydata.org/pandas-docs/stable/generated/pandas.DataFrame.interpolate.html\n",
    "df_interp = df_interp_nan.interpolate(method='linear')\n",
    "\n"
   ]
  },
  {
   "cell_type": "code",
   "execution_count": null,
   "metadata": {},
   "outputs": [],
   "source": [
    "# Plot interpolation\n",
    "ax = df_interp.plot.scatter(x='x', y=\"y_measurement\", label='$y_{interp}$', c='orange')\n",
    "df.plot.scatter(x='x', y=\"y_measurement\", ax=ax, label=\"y_measurement\")\n",
    "\n",
    "# Show legend table\n",
    "py.legend(loc=0)\n",
    "\n",
    "py.show()\n",
    "\n"
   ]
  },
  {
   "cell_type": "markdown",
   "metadata": {},
   "source": [
    "## Cubic spline curve<br>3차 스플라인 곡선\n",
    "\n"
   ]
  },
  {
   "cell_type": "markdown",
   "metadata": {},
   "source": [
    "A [spline](https://en.wiktionary.org/wiki/spline) is a ruler made of a piece of thin and long rectangular wood.  Drafters used it draw a smooth curve.<br>\n",
    "[스플라인](https://en.wiktionary.org/wiki/spline)은 얇고 긴 나무자를 말한다. 부드러운 곡선을 그리기 위해 사용했었다.\n",
    "\n"
   ]
  },
  {
   "cell_type": "markdown",
   "metadata": {},
   "source": [
    "<a href=\"https://en.wikipedia.org/wiki/Flat_spline\">\n",
    "    <img src=\"https://upload.wikimedia.org/wikipedia/commons/thumb/f/fd/Spline_(PSF).png/1200px-Spline_(PSF).png\" alt=\"Spline\" width=\"200\"/>\n",
    "</a>\n",
    "\n"
   ]
  },
  {
   "cell_type": "markdown",
   "metadata": {},
   "source": [
    "\"Cubic\" here means that we would interpolate using a 3rd order polynomial.<br>\n",
    "여기서 \"3차\"는 내삽할 때 3차 다항식을 사용한다는 의미이다.\n",
    "\n"
   ]
  },
  {
   "cell_type": "markdown",
   "metadata": {},
   "source": [
    "$$\n",
    "y = a_0 x^3 + a_1 x^2 + a_2 x + a_3\n",
    "$$\n",
    "\n"
   ]
  },
  {
   "cell_type": "markdown",
   "metadata": {},
   "source": [
    "### SciPy\n",
    "\n"
   ]
  },
  {
   "cell_type": "markdown",
   "metadata": {},
   "source": [
    "The following cell first instantiate a cubic interpolator `cubic_interp` and use it.<br>\n",
    "아래 셀에서는 3차 다항식을 이용하는 내삽기 `cubic_interp` 를 만들어서 사용한다.\n",
    "\n"
   ]
  },
  {
   "cell_type": "code",
   "execution_count": null,
   "metadata": {},
   "outputs": [],
   "source": [
    "# https://www.scipy-lectures.org/intro/scipy.html#interpolation-scipy-interpolate\n",
    "\n",
    "# Import interpolation subpackage\n",
    "import scipy.interpolate as sn\n",
    "\n",
    "cubic_interp = sn.interp1d(x_array, y_measurement, kind='cubic')\n",
    "y_cubic = cubic_interp(x_i)\n",
    "\n"
   ]
  },
  {
   "cell_type": "code",
   "execution_count": null,
   "metadata": {},
   "outputs": [],
   "source": [
    "# Plot data points\n",
    "ax = df.plot.scatter(x='x', y=\"y_measurement\", label=\"y_measurement\")\n",
    "\n",
    "# Plot linear interpolation\n",
    "ax.plot(x_i, y_i, '.', label='$y_{linear}$')\n",
    "\n",
    "# Plot cubic spline curve\n",
    "ax.plot(x_i, y_cubic, 'x', label='$y_{cubic}$')\n",
    "\n",
    "# Show legend table\n",
    "py.legend(loc=0)\n",
    "\n",
    "py.show()\n",
    "\n"
   ]
  },
  {
   "cell_type": "markdown",
   "metadata": {},
   "source": [
    "### pandas\n",
    "\n"
   ]
  },
  {
   "cell_type": "code",
   "execution_count": null,
   "metadata": {},
   "outputs": [],
   "source": [
    "# http://pandas.pydata.org/pandas-docs/stable/generated/pandas.DataFrame.interpolate.html\n",
    "df_interp = df_interp_nan.interpolate(method='cubic')\n",
    "\n"
   ]
  },
  {
   "cell_type": "code",
   "execution_count": null,
   "metadata": {},
   "outputs": [],
   "source": [
    "# Plot interpolation\n",
    "ax = df_interp.plot.scatter(x='x', y=\"y_measurement\", label='$y_{interp}$', c='orange')\n",
    "df.plot.scatter(x='x', y=\"y_measurement\", ax=ax, label=\"y_measurement\")\n",
    "\n",
    "# Show legend table\n",
    "py.legend(loc=0)\n",
    "\n",
    "py.show()\n",
    "\n"
   ]
  },
  {
   "cell_type": "markdown",
   "metadata": {},
   "source": [
    "Output formatting<br>출력 양식 설정\n",
    " \n",
    "\n"
   ]
  },
  {
   "cell_type": "code",
   "execution_count": null,
   "metadata": {},
   "outputs": [],
   "source": [
    "pd.set_option('display.float_format', '{:.2g}'.format)\n",
    "\n"
   ]
  },
  {
   "cell_type": "markdown",
   "metadata": {},
   "source": [
    "Number of output lines<br>\n",
    "출력 행 수 설정\n",
    "\n"
   ]
  },
  {
   "cell_type": "code",
   "execution_count": null,
   "metadata": {},
   "outputs": [],
   "source": [
    "pd.options.display.max_rows = 700\n",
    "\n"
   ]
  },
  {
   "cell_type": "markdown",
   "metadata": {},
   "source": [
    "## Exercises<br>연습 문제\n",
    "\n"
   ]
  },
  {
   "cell_type": "markdown",
   "metadata": {},
   "source": [
    "Try this 1 : Make a table of $sin \\theta^\\circ$ within $0(^\\circ)$ ~ $360(^\\circ)$ with interval of 10 degrees. Also plot it.<br>\n",
    "도전 과제 1 : $0(^\\circ)$ ~ $360(^\\circ)$ 구간에서 10도 간격으로 $sin \\theta^\\circ $ 값의 표를 만드시오. 그래프로도 표시해보시오.\n",
    "\n"
   ]
  },
  {
   "cell_type": "code",
   "execution_count": null,
   "metadata": {},
   "outputs": [],
   "source": []
  },
  {
   "cell_type": "markdown",
   "metadata": {},
   "source": [
    "Try this 2 : Estimate  $sin \\theta^\\circ$ values with interval of 1 degree using the values of the table above.  Compare with the result of `py.sin()` on a plot.<br>\n",
    "도전 과제 2 : 위 표의 값을 이용하여 1도 간격으로 $sin \\theta^\\circ$ 값을 추정하시오.  `py.sin()` 결과와 그래프로 비교해 보시오.\n",
    "\n"
   ]
  },
  {
   "cell_type": "code",
   "execution_count": null,
   "metadata": {},
   "outputs": [],
   "source": []
  },
  {
   "cell_type": "markdown",
   "metadata": {},
   "source": [
    "## 참고문헌<br>References\n",
    "\n"
   ]
  },
  {
   "cell_type": "markdown",
   "metadata": {},
   "source": [
    "* 맥키니 저, 김영근 역, 파이썬 라이브러리를 활용한 데이터 분석, 2판, 한빛미디어, 2019, ISBN 979-11-6224-190-5 ([코드와 데이터](https://github.com/wesm/pydata-book/)) <br>Wes McKinney, Python for Data Analysis, 2nd Ed., O'Reilly, 2017. ([Code and data](https://github.com/wesm/pydata-book/))\n",
    "\n"
   ]
  },
  {
   "cell_type": "markdown",
   "metadata": {},
   "source": [
    "## Final Bell<br>마지막 종\n",
    "\n"
   ]
  },
  {
   "cell_type": "code",
   "execution_count": null,
   "metadata": {},
   "outputs": [],
   "source": [
    "# stackoverfow.com/a/24634221\n",
    "import os\n",
    "os.system(\"printf '\\a'\");\n",
    "\n"
   ]
  },
  {
   "cell_type": "code",
   "execution_count": null,
   "metadata": {},
   "outputs": [],
   "source": []
  }
 ],
 "metadata": {
  "kernelspec": {
   "display_name": "Python 3",
   "language": "python",
   "name": "python3"
  },
  "language_info": {
   "codemirror_mode": {
    "name": "ipython",
    "version": 3
   },
   "file_extension": ".py",
   "mimetype": "text/x-python",
   "name": "python",
   "nbconvert_exporter": "python",
   "pygments_lexer": "ipython3",
   "version": "3.8.8"
  }
 },
 "nbformat": 4,
 "nbformat_minor": 2
}