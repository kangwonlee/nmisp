{
 "cells": [
  {
   "cell_type": "markdown",
   "metadata": {
    "id": "view-in-github",
    "colab_type": "text"
   },
   "source": [
    "<a href=\"https://colab.research.google.com/github/kangwonlee/nmisp/blob/lecture-idea/10_root_finding/42_examples_beams.ipynb\" target=\"_parent\"><img src=\"https://colab.research.google.com/assets/colab-badge.svg\" alt=\"Open In Colab\"/></a>\n"
   ]
  },
  {
   "cell_type": "markdown",
   "metadata": {},
   "source": [
    "# Examples on deflections of the beams<br>보의 처짐에 응용한 사례\n",
    "\n"
   ]
  },
  {
   "cell_type": "markdown",
   "metadata": {},
   "source": [
    "ref : Pytel et. al, Mechanics of Materials, 2nd Ed, SI, Ex. 6.9 and Tables 6.2 & 6.3, Cengage Learning, 2011.\n",
    "\n"
   ]
  },
  {
   "cell_type": "code",
   "execution_count": null,
   "metadata": {},
   "outputs": [],
   "source": [
    "import pylab as py\n",
    "import scipy.optimize as so\n",
    "import sympy as sym\n",
    "import sympy.utilities as su\n",
    "\n"
   ]
  },
  {
   "cell_type": "code",
   "execution_count": null,
   "metadata": {},
   "outputs": [],
   "source": [
    "sym.init_printing()\n",
    "\n"
   ]
  },
  {
   "cell_type": "markdown",
   "metadata": {},
   "source": [
    "## Constants for the material & the section<br>재료와 단면에 관한 상수\n",
    "\n"
   ]
  },
  {
   "cell_type": "markdown",
   "metadata": {},
   "source": [
    "$$\n",
    "\\begin{align}\n",
    "    EI&=20.48\\times 10^3 N \\cdot m^2 \\\\ \n",
    "    w_o&=100N/m \\\\ \n",
    "    L&=1m\n",
    "\\end{align}\n",
    "$$\n",
    "\n"
   ]
  },
  {
   "cell_type": "markdown",
   "metadata": {},
   "source": [
    "## 분포하중 외팔보 <br>Distributed load cantilever\n",
    "\n"
   ]
  },
  {
   "cell_type": "markdown",
   "metadata": {},
   "source": [
    "### 질문<br>Question\n",
    "\n"
   ]
  },
  {
   "cell_type": "markdown",
   "metadata": {},
   "source": [
    "The deflection of a uniform distributed load cantilver is as follows.<br>\n",
    "균일 분포하중 외팔보의 처짐은 다음과 같다.\n",
    "\n"
   ]
  },
  {
   "cell_type": "markdown",
   "metadata": {},
   "source": [
    "$$\n",
    "\\begin{align}\n",
    "\\delta(x) &= \\frac{w_o x^2}{24EI}\\left(6L^2 - 4Lx + x^2 \\right) \\\\\n",
    "\\delta(L) &= \\frac{w_o L^4}{8EI}\n",
    "\\end{align}\n",
    "$$\n",
    "\n"
   ]
  },
  {
   "cell_type": "markdown",
   "metadata": {},
   "source": [
    "Using following parameters, find $x$ such that its deflection $\\delta(x)$ is the half of the deflection at $x=L$.<br>\n",
    "다음 매개변수들을 사용하여 처짐이 $x=L$ 에서의 최대 처짐의 절반인 $x$(m)를 구하시오.\n",
    "\n"
   ]
  },
  {
   "cell_type": "markdown",
   "metadata": {},
   "source": [
    "### 풀이 예<br>One possible answer\n",
    "\n"
   ]
  },
  {
   "cell_type": "markdown",
   "metadata": {},
   "source": [
    "$$\n",
    "\\begin{align}\n",
    "\\delta(x) &= \\frac{1}{2}\\delta(L) \\\\\n",
    "\\frac{w_o x^2}{24EI}\\left(6L^2 - 4Lx + x^2 \\right) &= \\frac{1}{2}\\frac{w_o L^4}{8EI} \\\\\n",
    "\\frac{x^2}{3}\\left(6L^2 - 4Lx + x^2 \\right) &= \\frac{1}{2}L^4\n",
    "\\end{align}\n",
    "$$\n",
    "\n"
   ]
  },
  {
   "cell_type": "markdown",
   "metadata": {},
   "source": [
    "$$\n",
    "\\frac{x^2}{3}\\left(6L^2 - 4Lx + x^2 \\right) - \\frac{1}{2}L^4 = 0\n",
    "$$\n",
    "\n"
   ]
  },
  {
   "cell_type": "code",
   "execution_count": null,
   "metadata": {},
   "outputs": [],
   "source": [
    "L_m = 1\n",
    "\n"
   ]
  },
  {
   "cell_type": "markdown",
   "metadata": {},
   "source": [
    "$g(x)=0 $\n",
    "\n"
   ]
  },
  {
   "cell_type": "code",
   "execution_count": null,
   "metadata": {},
   "outputs": [],
   "source": [
    "def g(x_m):\n",
    "    return (x_m ** 2) * (6 * L_m * L_m - 4 * L_m * x_m + x_m ** 2) / 3. - 0.5 * L_m ** 4\n",
    "\n"
   ]
  },
  {
   "cell_type": "markdown",
   "metadata": {},
   "source": [
    "이분법<br>\n",
    "Bisection Method\n",
    "\n"
   ]
  },
  {
   "cell_type": "code",
   "execution_count": null,
   "metadata": {},
   "outputs": [],
   "source": [
    "%%time \n",
    "x_bis_m = so.bisect(g, a=0, b=L_m, xtol=1e-3)\n",
    "print(x_bis_m)\n",
    "\n"
   ]
  },
  {
   "cell_type": "markdown",
   "metadata": {},
   "source": [
    "뉴튼랩슨법<br>\n",
    "Newotn Raphson Method\n",
    "\n"
   ]
  },
  {
   "cell_type": "markdown",
   "metadata": {},
   "source": [
    "$$\n",
    "\\begin{align}\n",
    "g(x) &= \\frac{x^2}{3}\\left(6L^2 - 4Lx + x^2 \\right) - \\frac{1}{2}L^4 \\\\\n",
    "&= \\left(6L^2\\frac{x^2}{3} - 4Lx\\frac{x^2}{3} + x^2\\frac{x^2}{3} \\right) - \\frac{1}{2}L^4 \\\\\n",
    "&= \\frac{1}{3}x^4 - \\frac{4L}{3}x^3 + 2L^2x^2 - \\frac{1}{2}L^4 \\\\\n",
    "\\frac{d}{dx}g(x) &= \\frac{4}{3}x^3 - 4Lx^2 + 4L^2x\n",
    "\\end{align}\n",
    "$$\n",
    "\n"
   ]
  },
  {
   "cell_type": "code",
   "execution_count": null,
   "metadata": {},
   "outputs": [],
   "source": [
    "def dg(x_m):\n",
    "    return 4./3 * x_m ** 3 - 4 * L_m * x_m ** 2 + 4 * L_m ** 2 * x_m\n",
    "\n"
   ]
  },
  {
   "cell_type": "code",
   "execution_count": null,
   "metadata": {},
   "outputs": [],
   "source": [
    "%%time\n",
    "x_nr_m = so.newton(g, .1, fprime=dg, tol=1e-3)\n",
    "print(x_nr_m)\n",
    "\n"
   ]
  },
  {
   "cell_type": "markdown",
   "metadata": {},
   "source": [
    "## Simply supported beam under a concentrated load at its center<br>중점에 집중하중을 받는 단순지지보\n",
    "\n"
   ]
  },
  {
   "cell_type": "markdown",
   "metadata": {},
   "source": [
    "### 질문<br>Question\n",
    "\n"
   ]
  },
  {
   "cell_type": "markdown",
   "metadata": {},
   "source": [
    "Find $x$(m) such that its deflection $\\delta(x)$ is the half of the maximum deflection at $x=\\frac{L}{2}$.<br>\n",
    "처짐 $\\delta(x)$ 가 $x=\\frac{L}{2}$ 에서의 최대 처짐의 절반인 $x$(m)를 구하시오.\n",
    "\n"
   ]
  },
  {
   "cell_type": "markdown",
   "metadata": {},
   "source": [
    "### 풀이 예<br>One possible answer\n",
    "\n"
   ]
  },
  {
   "cell_type": "markdown",
   "metadata": {},
   "source": [
    "Prepare symbols to use<br>사용할 기호를 준비\n",
    "\n"
   ]
  },
  {
   "cell_type": "code",
   "execution_count": null,
   "metadata": {},
   "outputs": [],
   "source": [
    "P, x, EI, L = sym.symbols(\"P x EI L\", real=True, nonnegative=True)\n",
    "\n"
   ]
  },
  {
   "cell_type": "markdown",
   "metadata": {},
   "source": [
    "Deflection $\\delta(x)$ within the interval $ 0 \\le x \\le \\frac{L}{2}$<br>$ 0 \\le x \\le \\frac{L}{2}$ 구간에서의 처짐 $\\delta(x)$\n",
    "\n"
   ]
  },
  {
   "cell_type": "code",
   "execution_count": null,
   "metadata": {},
   "outputs": [],
   "source": [
    "delta = (P * x)  * (3 * L * L  - 4 * x * x) / (48 * EI)\n",
    "delta\n",
    "\n"
   ]
  },
  {
   "cell_type": "markdown",
   "metadata": {},
   "source": [
    "Maximum deflection at the center $\\delta\\left( \\frac{L}{2} \\right)$<br>\n",
    "가운데 지점에서의 최대 처짐$\\delta\\left( \\frac{L}{2} \\right)$\n",
    "\n"
   ]
  },
  {
   "cell_type": "code",
   "execution_count": null,
   "metadata": {},
   "outputs": [],
   "source": [
    "delta_max = delta.subs({x: L/2})\n",
    "delta_max\n",
    "\n"
   ]
  },
  {
   "cell_type": "markdown",
   "metadata": {},
   "source": [
    "Equation to solve<br>풀고자 하는 방정식\n",
    "\n"
   ]
  },
  {
   "cell_type": "code",
   "execution_count": null,
   "metadata": {},
   "outputs": [],
   "source": [
    "eq_p = sym.Eq(delta, delta_max / 2)\n",
    "eq_p\n",
    "\n"
   ]
  },
  {
   "cell_type": "markdown",
   "metadata": {},
   "source": [
    "Cancellation<br>약분\n",
    "\n"
   ]
  },
  {
   "cell_type": "code",
   "execution_count": null,
   "metadata": {},
   "outputs": [],
   "source": [
    "factor = 48 * 2 * EI / P\n",
    "eq_p = sym.Eq(eq_p.lhs * factor, eq_p.rhs * factor)\n",
    "eq_p\n",
    "\n"
   ]
  },
  {
   "cell_type": "markdown",
   "metadata": {},
   "source": [
    "Transposition<br>이항\n",
    "\n"
   ]
  },
  {
   "cell_type": "code",
   "execution_count": null,
   "metadata": {},
   "outputs": [],
   "source": [
    "h_x = eq_p.lhs - eq_p.rhs\n",
    "h_x\n",
    "\n"
   ]
  },
  {
   "cell_type": "markdown",
   "metadata": {},
   "source": [
    "Substituting $L=1$, generating a python function<br>$L=1$을 대입하면서 파이썬 함수 생성\n",
    "\n"
   ]
  },
  {
   "cell_type": "code",
   "execution_count": null,
   "metadata": {},
   "outputs": [],
   "source": [
    "h = sym.lambdify(x, h_x.subs({L:1}))\n",
    "\n"
   ]
  },
  {
   "cell_type": "markdown",
   "metadata": {},
   "source": [
    "#### Bisection Method<br>이분법\n",
    "\n"
   ]
  },
  {
   "cell_type": "code",
   "execution_count": null,
   "metadata": {},
   "outputs": [],
   "source": [
    "%%time \n",
    "x_bis_m = so.bisect(h, a=0, b=L_m*0.5, xtol=1e-3)\n",
    "print(x_bis_m)\n",
    "\n"
   ]
  },
  {
   "cell_type": "markdown",
   "metadata": {},
   "source": [
    "#### Newotn Raphson Method<br>뉴튼 랩슨법\n",
    "\n"
   ]
  },
  {
   "cell_type": "markdown",
   "metadata": {},
   "source": [
    "Differentiate over $x$<br>$x$에 대해 미분\n",
    "\n"
   ]
  },
  {
   "cell_type": "code",
   "execution_count": null,
   "metadata": {},
   "outputs": [],
   "source": [
    "dh_dx = h_x.diff(x)\n",
    "dh_dx\n",
    "\n"
   ]
  },
  {
   "cell_type": "markdown",
   "metadata": {},
   "source": [
    "Substituting $L=1$, generating a python function<br>$L=1$을 대입하면서 파이썬 함수 생성\n",
    "\n"
   ]
  },
  {
   "cell_type": "code",
   "execution_count": null,
   "metadata": {},
   "outputs": [],
   "source": [
    "dh = sym.lambdify(x, dh_dx.subs({L:1}))\n",
    "\n"
   ]
  },
  {
   "cell_type": "code",
   "execution_count": null,
   "metadata": {},
   "outputs": [],
   "source": [
    "%%time\n",
    "x_nr_m = so.newton(h, .01, fprime=dh, tol=1e-3)\n",
    "print(x_nr_m)\n",
    "\n"
   ]
  },
  {
   "cell_type": "markdown",
   "metadata": {},
   "source": [
    "## Final Bell<br>마지막 종\n",
    "\n"
   ]
  },
  {
   "cell_type": "code",
   "execution_count": null,
   "metadata": {},
   "outputs": [],
   "source": [
    "# stackoverfow.com/a/24634221\n",
    "import os\n",
    "os.system(\"printf '\\a'\");\n",
    "\n"
   ]
  },
  {
   "cell_type": "code",
   "execution_count": null,
   "metadata": {},
   "outputs": [],
   "source": []
  }
 ],
 "metadata": {
  "kernelspec": {
   "display_name": "Python 3",
   "language": "python",
   "name": "python3"
  },
  "language_info": {
   "codemirror_mode": {
    "name": "ipython",
    "version": 3
   },
   "file_extension": ".py",
   "mimetype": "text/x-python",
   "name": "python",
   "nbconvert_exporter": "python",
   "pygments_lexer": "ipython3",
   "version": "3.8.8"
  }
 },
 "nbformat": 4,
 "nbformat_minor": 2
}