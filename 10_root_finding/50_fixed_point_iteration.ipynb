{
 "cells": [
  {
   "cell_type": "markdown",
   "metadata": {
    "id": "view-in-github",
    "colab_type": "text"
   },
   "source": [
    "<a href=\"https://colab.research.google.com/github/kangwonlee/nmisp/blob/fixed-point-iteration/10_root_finding/50_fixed_point_iteration.ipynb\" target=\"_parent\"><img src=\"https://colab.research.google.com/assets/colab-badge.svg\" alt=\"Open In Colab\"/></a>\n"
   ]
  },
  {
   "cell_type": "markdown",
   "metadata": {},
   "source": [
    "# Fixed-Point Iteration Method\n",
    "\n",
    "## Background\n",
    "\n",
    "The fixed-point iteration method is a numerical technique to find roots of equations by reformulating them into the form $ x = g(x) $. A value $ x $ that satisfies this equation is called a **fixed point** of the function $ g(x) $. If we can find such an $ x $, it may also be a solution to the original equation $ f(x) = 0 $, provided we define $ g(x) = x - f(x) $ or another suitable transformation.\n",
    "\n",
    "Let’s consider finding the square root of 10, similar to previous examples. We start with the equation:\n",
    "\n",
    "$$\n",
    "f(x) = x^2 - 10 = 0\n",
    "$$\n",
    "\n",
    "We can reformulate this into a fixed-point form by rearranging:\n",
    "\n",
    "$$\n",
    "x^2 = 10\n",
    "$$\n",
    "\n",
    "$$\n",
    "x = \\frac{10}{x}\n",
    "$$\n",
    "\n",
    "Thus, we define:\n",
    "\n",
    "$$\n",
    "g(x) = \\frac{10}{x}\n",
    "$$\n",
    "\n",
    "If $ x = g(x) $, then $ x $ is a fixed point, and potentially a solution to $ f(x) = 0 $. Note that another possible form could be $ g(x) = x - f(x) $, but we’ll explore $ g(x) = \\frac{10}{x} $ here and discuss convergence considerations later.\n",
    "\n",
    "## Visualization\n",
    "\n",
    "Let’s visualize the function $ f(x) = x^2 - 10 $ and the fixed-point form $ x = g(x) $.\n"
   ]
  },
  {
   "cell_type": "code",
   "execution_count": null,
   "metadata": {},
   "outputs": [],
   "source": [
    "# Import necessary libraries\n",
    "import pylab as py\n",
    "\n",
    "\n",
    "# Define the function f(x) whose root we seek\n",
    "def f(x):\n",
    "    return x ** 2 - 10\n",
    "\n",
    "\n",
    "# Define the fixed-point function g(x)\n",
    "def g(x):\n",
    "    return 10 / x\n",
    "\n",
    "\n",
    "# Plot parameters\n",
    "x_start = 0.1  # Avoid x=0 to prevent division by zero\n",
    "x_end = 6\n",
    "x_interval = 0.1\n",
    "\n",
    "# Generate x values\n",
    "x = py.arange(x_start, x_end + x_interval, x_interval)\n",
    "\n",
    "# Plot f(x) and the line y = 0\n",
    "py.figure(figsize=(8, 6))\n",
    "py.plot(x, f(x), 'k-', label='$f(x) = x^2 - 10$')\n",
    "py.plot(x, py.zeros_like(x), 'r--', label='$y = 0$')\n",
    "py.grid()\n",
    "py.xlabel('x')\n",
    "py.ylabel('f(x)')\n",
    "py.legend()\n",
    "py.title('$f(x) = x^2 - 10$')\n",
    "\n",
    "# Plot x and g(x) to find fixed points\n",
    "py.figure(figsize=(8, 6))\n",
    "py.plot(x, x, 'k--', label='$y = x$')\n",
    "py.plot(x, g(x), 'b-', label='$g(x) = 10/x$')\n",
    "py.grid()\n",
    "py.xlabel('x')\n",
    "py.ylabel('y')\n",
    "py.legend()\n",
    "py.title('Fixed-Point Iteration: x = g(x)')\n",
    "py.show()\n",
    "\n"
   ]
  },
  {
   "cell_type": "markdown",
   "metadata": {},
   "source": [
    "The first plot shows $ f(x) = x^2 - 10 $, where we seek $ f(x) = 0 $. The second plot shows $ y = x $ and $ y = g(x) $. The points where $ y = x $ intersects $ y = g(x) $ are the fixed points, which correspond to solutions of $ x^2 = 10 $, i.e., $ x = \\sqrt{10} $ and $ x = -\\sqrt{10} $.\n",
    "\n",
    "## Fixed-Point Iteration Method\n",
    "\n",
    "The fixed-point iteration method starts with an initial guess $ x_0 $. We then iteratively apply:\n",
    "\n",
    "$$\n",
    "x_{i+1} = g(x_i)\n",
    "$$\n",
    "\n",
    "We continue this process until $ |x_{i+1} - x_i| < \\epsilon $, where $ \\epsilon $ is a small tolerance, indicating the value has stabilized, or until $ |f(x_i)| < \\epsilon $, indicating we’ve approximated a root of the original equation.\n",
    "\n",
    "### Convergence Consideration\n",
    "\n",
    "For the iteration to converge to a fixed point, the function $ g(x) $ must be chosen such that the derivative $ |g'(x)| < 1 $ near the fixed point. For our example, $ g(x) = \\frac{10}{x} $:\n",
    "\n",
    "$$\n",
    "g'(x) = -\\frac{10}{x^2}\n",
    "$$\n",
    "\n",
    "Near $ x = \\sqrt{10} \\approx 3.162 $, we compute:\n",
    "\n",
    "$$\n",
    "g'(\\sqrt{10}) = -\\frac{10}{(\\sqrt{10})^2} = -\\frac{10}{10} = -1\n",
    "$$\n",
    "\n",
    "Since $ |g'(\\sqrt{10})| = 1 $, convergence may be slow or unstable with this form of $ g(x) $. Let’s try another form:\n",
    "\n",
    "$$\n",
    "x = x - f(x)\n",
    "$$\n",
    "\n",
    "$$\n",
    "g(x) = x - f(x) = x - (x^2 - 10) = -x^2 + x + 10\n",
    "$$\n",
    "\n",
    "Now the derivative is:\n",
    "\n",
    "$$\n",
    "g'(x) = -2x + 1\n",
    "$$\n",
    "\n",
    "At $ x = \\sqrt{10} $:\n",
    "\n",
    "$$\n",
    "g'(\\sqrt{10}) = -2\\sqrt{10} + 1 \\approx -2 \\cdot 3.162 + 1 \\approx -5.324\n",
    "$$\n",
    "\n",
    "Here, $ |g'(\\sqrt{10})| > 1 $, so this form also may not converge reliably. For demonstration, we’ll proceed with $ g(x) = \\frac{10}{x} $, but note that careful selection of $ g(x) $ is critical for convergence.\n",
    "\n",
    "## Implementing Fixed-Point Iteration\n",
    "\n",
    "Below is a Python implementation to find $ \\sqrt{10} $ using fixed-point iteration.\n",
    "\n",
    "### Problem Definition\n",
    "\n"
   ]
  },
  {
   "cell_type": "code",
   "execution_count": null,
   "metadata": {},
   "outputs": [],
   "source": [
    "# Function f(x) whose root we seek\n",
    "def f(x):\n",
    "    return x ** 2 - 10\n",
    "\n",
    "\n",
    "# Fixed-point function g(x)\n",
    "def g(x):\n",
    "    return 10 / x\n",
    "\n"
   ]
  },
  {
   "cell_type": "markdown",
   "metadata": {},
   "source": [
    "### Parameters\n",
    "\n"
   ]
  },
  {
   "cell_type": "code",
   "execution_count": null,
   "metadata": {},
   "outputs": [],
   "source": [
    "# Tolerance: if |x_{i+1} - x_i| < epsilon, consider the solution converged\n",
    "epsilon = 1e-3\n",
    "\n",
    "# Initial guess for x\n",
    "x_initial = 3.0  # Start near expected root, avoid x=0\n",
    "\n"
   ]
  },
  {
   "cell_type": "markdown",
   "metadata": {},
   "source": [
    "### Fixed-Point Iteration Function\n",
    "\n"
   ]
  },
  {
   "cell_type": "code",
   "execution_count": null,
   "metadata": {},
   "outputs": [],
   "source": [
    "def fixed_point_iteration(g, x_initial, epsilon, max_iterations=1000):\n",
    "    \"\"\"\n",
    "    Fixed-Point Iteration Method\n",
    "\n",
    "    g : Fixed-point function where x = g(x)\n",
    "    x_initial : Initial guess for x\n",
    "    epsilon : Desired precision of the solution\n",
    "    max_iterations : Maximum number of iterations to prevent infinite loops\n",
    "    \"\"\"\n",
    "\n",
    "    counter = 0\n",
    "    x_i = x_initial\n",
    "\n",
    "    # Iterate until the change is smaller than epsilon or max iterations reached\n",
    "    while counter < max_iterations:\n",
    "        x_next = g(x_i)  # Compute next value\n",
    "        counter += 1\n",
    "\n",
    "        # Check if the change is small enough\n",
    "        if abs(x_next - x_i) < epsilon:\n",
    "            print('counter =', counter)\n",
    "            return x_next\n",
    "\n",
    "        x_i = x_next  # Update x_i for the next iteration\n",
    "\n",
    "    print('counter =', counter)\n",
    "    raise ValueError(f\"Fixed-point iteration did not converge within {max_iterations} iterations\")\n",
    "\n"
   ]
  },
  {
   "cell_type": "markdown",
   "metadata": {},
   "source": [
    "### Application\n",
    "\n"
   ]
  },
  {
   "cell_type": "code",
   "execution_count": null,
   "metadata": {},
   "outputs": [],
   "source": [
    "# Measure computation time\n",
    "%time sqrt_10 = fixed_point_iteration(g, x_initial, epsilon)\n",
    "\n"
   ]
  },
  {
   "cell_type": "code",
   "execution_count": null,
   "id": "a69e584c",
   "metadata": {},
   "outputs": [],
   "source": [
    "sqrt_10 = fixed_point_iteration(g, x_initial, epsilon)\n",
    "\n",
    "# Result: Square root of 10 found using fixed-point iteration\n",
    "print('sqrt_10 =', sqrt_10)\n",
    "\n",
    "# Verify: Is the result close to zero when substituted back?\n",
    "print('f(sqrt_10) =', f(sqrt_10))\n",
    "\n"
   ]
  },
  {
   "cell_type": "markdown",
   "metadata": {},
   "source": [
    "## Convergence Check\n",
    "\n",
    "Let’s verify the result and consider convergence:\n",
    "\n"
   ]
  },
  {
   "cell_type": "code",
   "execution_count": null,
   "metadata": {},
   "outputs": [],
   "source": [
    "import math\n",
    "\n",
    "# Check if f(x) is close to zero within tolerance\n",
    "assert math.isclose(f(sqrt_10), 0, abs_tol=epsilon), f\"f({sqrt_10}) = {f(sqrt_10)}\"\n",
    "print('Verification: f(x) is approximately zero within tolerance')\n",
    "\n"
   ]
  },
  {
   "cell_type": "markdown",
   "metadata": {},
   "source": [
    "**Note**: If the method does not converge, try a different $ g(x) $, such as $ g(x) = \\frac{x + \\frac{10}{x}}{2} $, which is known to converge for square roots (this is actually a form of Newton’s method, which we’ll explore separately). For this $ g(x) $:\n",
    "\n",
    "$$\n",
    "g(x) = \\frac{x + \\frac{10}{x}}{2}\n",
    "$$\n",
    "\n",
    "$$\n",
    "g'(x) = \\frac{1}{2} - \\frac{10}{2x^2}\n",
    "$$\n",
    "\n",
    "At $ x = \\sqrt{10} $:\n",
    "\n",
    "$$\n",
    "g'(\\sqrt{10}) = \\frac{1}{2} - \\frac{10}{2 \\cdot 10} = \\frac{1}{2} - \\frac{1}{2} = 0\n",
    "$$\n",
    "\n",
    "Since $ |g'(\\sqrt{10})| = 0 < 1 $, this form converges reliably. Try implementing this as an exercise!\n",
    "\n",
    "## Exercises\n",
    "\n",
    "**Try this 1**: Modify the parameter values (e.g., `epsilon`, `x_initial`) one at a time and observe the influence on the number of iterations and the result. Record your observations in a table:\n",
    "\n",
    "| Parameter   | Current Value | New Value | Influence                             |\n",
    "|:-----------:|:-------------:|:---------:|:-------------------------------------:|\n",
    "| `epsilon`   | `1e-3`        | ?         | ?                                     |\n",
    "| `x_initial` | `3.0`         | ?         | ?                                     |\n",
    "\n"
   ]
  },
  {
   "cell_type": "code",
   "execution_count": null,
   "metadata": {},
   "outputs": [],
   "source": []
  },
  {
   "cell_type": "markdown",
   "metadata": {},
   "source": [
    "**Try this 2**: Reformulate $ \\sin^2(\\theta) = 0.5 $ into a fixed-point form $ \\theta = g(\\theta) $ and find $ \\theta $ (in degrees) within $ 0^\\circ \\leq \\theta \\leq 90^\\circ $ using the fixed-point iteration method.\n",
    "\n"
   ]
  },
  {
   "cell_type": "code",
   "execution_count": null,
   "metadata": {},
   "outputs": [],
   "source": []
  },
  {
   "cell_type": "markdown",
   "metadata": {},
   "source": [
    "**Try this 3**: Choose an $ f(x) = 0 $ problem of interest, reformulate it into $ x = g(x) $, and find a root using the fixed-point iteration method. Ensure $ |g'(x)| < 1 $ near the root for convergence.\n",
    "\n"
   ]
  },
  {
   "cell_type": "code",
   "execution_count": null,
   "metadata": {},
   "outputs": [],
   "source": []
  },
  {
   "cell_type": "markdown",
   "metadata": {},
   "source": [
    "## Final Bell\n",
    "\n"
   ]
  },
  {
   "cell_type": "code",
   "execution_count": null,
   "metadata": {},
   "outputs": [],
   "source": [
    "# stackoverflow.com/a/24634221\n",
    "import os\n",
    "os.system(\"printf '\\a'\")\n",
    "\n"
   ]
  },
  {
   "cell_type": "markdown",
   "metadata": {},
   "source": [
    "# Reference\n",
    "\n",
    "* \"Fixed-point iteration.\" Wikipedia, The Free Encyclopedia. Wikimedia Foundation, Inc. Last edited 4 June 2025. https://en.wikipedia.org/wiki/Fixed-point_iteration\n",
    "\n",
    "# Acknowledgments\n",
    "\n",
    "This work was supported by assistance from Grok 3, created by xAI.\n",
    "\n"
   ]
  },
  {
   "cell_type": "code",
   "execution_count": null,
   "metadata": {},
   "outputs": [],
   "source": []
  }
 ],
 "metadata": {
  "kernelspec": {
   "display_name": "Python 3 (ipykernel)",
   "language": "python",
   "name": "python3"
  },
  "language_info": {
   "codemirror_mode": {
    "name": "ipython",
    "version": 3
   },
   "file_extension": ".py",
   "mimetype": "text/x-python",
   "name": "python",
   "nbconvert_exporter": "python",
   "pygments_lexer": "ipython3",
   "version": "3.10.9"
  }
 },
 "nbformat": 4,
 "nbformat_minor": 5
}