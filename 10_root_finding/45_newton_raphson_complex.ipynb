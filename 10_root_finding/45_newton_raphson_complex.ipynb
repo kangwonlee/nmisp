{
 "cells": [
  {
   "cell_type": "markdown",
   "metadata": {
    "id": "view-in-github",
    "colab_type": "text"
   },
   "source": [
    "<a href=\"https://colab.research.google.com/github/kangwonlee/nmisp/blob/dependabot/pip/tests/requests-2.31.0/10_root_finding/45_newton_raphson_complex.ipynb\" target=\"_parent\"><img src=\"https://colab.research.google.com/assets/colab-badge.svg\" alt=\"Open In Colab\"/></a>\n"
   ]
  },
  {
   "cell_type": "code",
   "execution_count": null,
   "metadata": {},
   "outputs": [],
   "source": [
    "# Add graph and math features\n",
    "# 그래프, 수학 기능 추가\n",
    "import pylab as py\n",
    "\n",
    "# scipy.optimize.newton()\n",
    "import scipy.optimize as so\n",
    "\n"
   ]
  },
  {
   "cell_type": "code",
   "execution_count": null,
   "metadata": {},
   "outputs": [],
   "source": [
    "# symbolic processor\n",
    "# 기호처리기\n",
    "import sympy as sym\n",
    "import sympy.utilities as su\n",
    "sym.init_printing()\n",
    "\n"
   ]
  },
  {
   "cell_type": "markdown",
   "metadata": {},
   "source": [
    "# 복소근과 뉴튼 랩슨법<br>Newton Rapson Method and Complex Roots\n",
    "\n"
   ]
  },
  {
   "cell_type": "markdown",
   "metadata": {},
   "source": [
    "## A polynomial with complex roots<br>복소근을 갖는 다항식 예\n",
    "\n"
   ]
  },
  {
   "cell_type": "markdown",
   "metadata": {},
   "source": [
    "The following video is about applying Newton Raphson method to find complex roots. (26m05s)<br>\n",
    "아래 비디오는 뉴튼 랩슨법으로 복소근을 찾는 경우에 관한 것이다. (26m05s)\n",
    "\n"
   ]
  },
  {
   "cell_type": "markdown",
   "metadata": {},
   "source": [
    "[![Newton's Fractal(which Newton know nothing about)](https://i.ytimg.com/vi/-RdOwhmqP5s/hqdefault.jpg)](https://youtu.be/-RdOwhmqP5s)\n",
    "\n"
   ]
  },
  {
   "cell_type": "code",
   "execution_count": null,
   "metadata": {},
   "outputs": [],
   "source": [
    "z = sym.symbols('z', complex=True)\n",
    "\n"
   ]
  },
  {
   "cell_type": "markdown",
   "metadata": {},
   "source": [
    "From the video, let's think about the following polynomial.<br>\n",
    "영상의 여러 다항식 가운데 다음을 생각해 보자.\n",
    "\n"
   ]
  },
  {
   "cell_type": "code",
   "execution_count": null,
   "metadata": {},
   "outputs": [],
   "source": [
    "P_z = z ** 5 + z ** 2 - z + 1\n",
    "P_z\n",
    "\n"
   ]
  },
  {
   "cell_type": "markdown",
   "metadata": {},
   "source": [
    "Its derivative would be as follows.<br>\n",
    "그 미분은 다음과 같을 것이다.\n",
    "\n"
   ]
  },
  {
   "cell_type": "code",
   "execution_count": null,
   "metadata": {},
   "outputs": [],
   "source": [
    "dP_dz = P_z.diff(z)\n",
    "dP_dz\n",
    "\n"
   ]
  },
  {
   "cell_type": "markdown",
   "metadata": {},
   "source": [
    "Let's make python functions.<br>파이썬 함수를 생성해 보자.\n",
    "\n"
   ]
  },
  {
   "cell_type": "code",
   "execution_count": null,
   "metadata": {},
   "outputs": [],
   "source": [
    "p = su.lambdify(z, P_z)\n",
    "\n"
   ]
  },
  {
   "cell_type": "code",
   "execution_count": null,
   "metadata": {},
   "outputs": [],
   "source": [
    "assert p(-1) == P_z.subs({z:-1})\n",
    "\n"
   ]
  },
  {
   "cell_type": "code",
   "execution_count": null,
   "metadata": {},
   "outputs": [],
   "source": [
    "dp_dz = su.lambdify(z, dP_dz)\n",
    "\n"
   ]
  },
  {
   "cell_type": "code",
   "execution_count": null,
   "metadata": {},
   "outputs": [],
   "source": [
    "assert dp_dz(-1) == dP_dz.subs({z:-1})\n",
    "\n"
   ]
  },
  {
   "cell_type": "markdown",
   "metadata": {},
   "source": [
    "Let's visualize the complex function `p(z)`.<br>\n",
    "해당 복소 함수 `p(z)` 를 시각화 해 보자.\n",
    "\n"
   ]
  },
  {
   "cell_type": "code",
   "execution_count": null,
   "metadata": {},
   "outputs": [],
   "source": [
    "x = py.linspace(-3, 3, 150+1)\n",
    "y = py.linspace(-2, 2, 100+1)\n",
    "X, Y = py.meshgrid(x, y)\n",
    "Z = X + Y * 1.0j\n",
    "P = p(Z)\n",
    "\n"
   ]
  },
  {
   "cell_type": "code",
   "execution_count": null,
   "metadata": {},
   "outputs": [],
   "source": [
    "cmap = \"viridis\"\n",
    "levels = 32\n",
    "\n"
   ]
  },
  {
   "cell_type": "markdown",
   "metadata": {},
   "source": [
    "Let's take a look at the real and imaginary parts of $P(z)$.<br>$P(z)$ 의 실수부와 허수부를 살펴보자.\n",
    "\n"
   ]
  },
  {
   "cell_type": "code",
   "execution_count": null,
   "metadata": {},
   "outputs": [],
   "source": [
    "fig, ax = py.subplots(1, 2, figsize=(20, 5))\n",
    "c0 = ax[0].pcolor(X, Y, P.real, cmap=cmap)\n",
    "py.colorbar(c0, ax=ax[0])\n",
    "ax[0].contour(X, Y, P.real, cmap=\"jet\", levels=levels)\n",
    "ax[0].axis(\"equal\")\n",
    "py.xlabel(\"$real(z)$\")\n",
    "py.ylabel(\"$imag(z)$\")\n",
    "py.title(r\"$ real\\left( P(z) \\right) $\");\n",
    "\n",
    "\n",
    "c1 = ax[1].pcolor(X, Y, P.imag, cmap=cmap)\n",
    "py.colorbar(c1, ax=ax[1])\n",
    "ax[1].contour(X, Y, P.imag, cmap=\"jet\", levels=levels)\n",
    "ax[1].axis(\"equal\");\n",
    "py.xlabel(\"$real(z)$\")\n",
    "py.ylabel(\"$imag(z)$\")\n",
    "py.title(r\"$ imag\\left( P(z) \\right) $\");\n",
    "\n"
   ]
  },
  {
   "cell_type": "markdown",
   "metadata": {},
   "source": [
    "What about the absolute values of $P(z)$?<br>$P(z)$ 의 절대값은 어떤가?\n",
    "\n"
   ]
  },
  {
   "cell_type": "code",
   "execution_count": null,
   "metadata": {},
   "outputs": [],
   "source": [
    "log_abs_P = py.log(abs(P))\n",
    "\n"
   ]
  },
  {
   "cell_type": "code",
   "execution_count": null,
   "metadata": {},
   "outputs": [],
   "source": [
    "fig, ax = py.subplots(figsize=(18, 10))\n",
    "\n",
    "c_abs = ax.pcolor(X, Y, log_abs_P, cmap=cmap)\n",
    "py.colorbar(c_abs, ax=ax)\n",
    "ax.contour(X, Y, log_abs_P, cmap=\"jet\", levels=levels)\n",
    "ax.axis(\"equal\");\n",
    "py.xlabel(\"$real(z)$\")\n",
    "py.ylabel(\"$imag(z)$\")\n",
    "py.title(r\"$ \\left| P(z) \\right| $\");\n",
    "\n"
   ]
  },
  {
   "cell_type": "markdown",
   "metadata": {},
   "source": [
    "## Finding complex roots using Newton-Raphson method<br>복소근을 뉴튼랩슨법으로 찾기\n",
    "\n"
   ]
  },
  {
   "cell_type": "code",
   "execution_count": null,
   "metadata": {},
   "outputs": [],
   "source": [
    "class LogAttempts():\n",
    "    def __init__(self):\n",
    "        self.z_dict = {}\n",
    "        self.z_list = []\n",
    "    def init(self, z0:complex):\n",
    "        self.z_dict[z0] = []\n",
    "        self.z_list = self.z_dict[z0] = []\n",
    "    def f(self, z:complex) -> complex:\n",
    "        self.z_list.append(z)\n",
    "        return p(z)\n",
    "\n"
   ]
  },
  {
   "cell_type": "code",
   "execution_count": null,
   "metadata": {},
   "outputs": [],
   "source": [
    "logger = LogAttempts()\n",
    "\n"
   ]
  },
  {
   "cell_type": "markdown",
   "metadata": {},
   "source": [
    "### Various initial conditions<br>다양한 초기 조건\n",
    "\n"
   ]
  },
  {
   "cell_type": "code",
   "execution_count": null,
   "metadata": {},
   "outputs": [],
   "source": [
    "for z_initial in (-2.0 + 1.0j, -1.0 + 1.0j, 2.0j, 2.0 + 1.0j):\n",
    "\n",
    "    logger.init(z_initial)\n",
    "    f_z = logger.f\n",
    "\n",
    "    root = so.newton(f_z, z_initial, fprime=dp_dz)\n",
    "\n"
   ]
  },
  {
   "cell_type": "code",
   "execution_count": null,
   "metadata": {},
   "outputs": [],
   "source": [
    "fig, ax = py.subplots(figsize=(18, 10))\n",
    "\n",
    "c_abs = ax.pcolor(X, Y, log_abs_P, cmap=cmap, alpha=0.75)\n",
    "py.colorbar(c_abs, ax=ax)\n",
    "ax.contour(X, Y, log_abs_P, cmap=\"jet\", levels=levels)\n",
    "\n",
    "for z_initial in logger.z_dict:\n",
    "    z_array = py.array(logger.z_dict[z_initial])\n",
    "    z_real = z_array.real\n",
    "    z_imag = z_array.imag\n",
    "\n",
    "    ax.plot(z_real, z_imag, '.-', label=f\"{z_initial}\")\n",
    "\n",
    "ax.axis(\"equal\");\n",
    "ax.legend(loc=0)\n",
    "py.xlabel(\"$real(z)$\")\n",
    "py.ylabel(\"$imag(z)$\")\n",
    "py.title(r\"$ \\left| P(z) \\right| $\");\n",
    "\n"
   ]
  },
  {
   "cell_type": "markdown",
   "metadata": {},
   "source": [
    "## Another Example<br>다른 예\n",
    "\n"
   ]
  },
  {
   "cell_type": "code",
   "execution_count": null,
   "metadata": {},
   "outputs": [],
   "source": [
    "r = 10.0\n",
    "\n"
   ]
  },
  {
   "cell_type": "code",
   "execution_count": null,
   "metadata": {},
   "outputs": [],
   "source": [
    "Q_z = - (r * r - z * z) ** 0.5 + r * 0.5\n",
    "Q_z\n",
    "\n"
   ]
  },
  {
   "cell_type": "markdown",
   "metadata": {},
   "source": [
    "Its derivative would be as follows.<br>\n",
    "그 미분은 다음과 같을 것이다.\n",
    "\n"
   ]
  },
  {
   "cell_type": "code",
   "execution_count": null,
   "metadata": {},
   "outputs": [],
   "source": [
    "dQ_dz = Q_z.diff(z)\n",
    "dQ_dz\n",
    "\n"
   ]
  },
  {
   "cell_type": "code",
   "execution_count": null,
   "metadata": {},
   "outputs": [],
   "source": [
    "q = su.lambdify(z, Q_z)\n",
    "\n"
   ]
  },
  {
   "cell_type": "code",
   "execution_count": null,
   "metadata": {},
   "outputs": [],
   "source": [
    "dq_dz = su.lambdify(z, dQ_dz)\n",
    "\n"
   ]
  },
  {
   "cell_type": "code",
   "execution_count": null,
   "metadata": {},
   "outputs": [],
   "source": [
    "x = py.linspace(-r*2, r*2, 100+1)\n",
    "y = py.linspace(-r, r, 100+1)\n",
    "X, Y = py.meshgrid(x, y)\n",
    "Z = X + Y * 1.0j\n",
    "Q = q(Z)\n",
    "\n"
   ]
  },
  {
   "cell_type": "code",
   "execution_count": null,
   "metadata": {},
   "outputs": [],
   "source": [
    "log_abs_Q = py.log(abs(Q))\n",
    "\n"
   ]
  },
  {
   "cell_type": "code",
   "execution_count": null,
   "metadata": {},
   "outputs": [],
   "source": [
    "fig, ax = py.subplots(figsize=(18, 8))\n",
    "\n",
    "c_abs = ax.pcolor(X, Y, log_abs_Q, cmap=cmap)\n",
    "py.colorbar(c_abs, ax=ax)\n",
    "ax.contour(X, Y, log_abs_Q, cmap=\"jet\", levels=levels)\n",
    "ax.axis(\"equal\");\n",
    "py.xlabel(\"$real(z)$\")\n",
    "py.ylabel(\"$imag(z)$\")\n",
    "py.title(r\"$ \\left| Q(z) \\right| $\");\n",
    "\n"
   ]
  },
  {
   "cell_type": "code",
   "execution_count": null,
   "metadata": {},
   "outputs": [],
   "source": [
    "class LogAttemptsQ(LogAttempts):\n",
    "    def __init__(self):\n",
    "        # Understanding Python super() with __init__() methods, https://stackoverflow.com/questions/576169\n",
    "        super(LogAttemptsQ, self).__init__()\n",
    "\n",
    "    def f(self, z:complex) -> complex:\n",
    "        self.z_list.append(z)\n",
    "        result = q(z)\n",
    "        assert 100 > abs(result), f\"abs(result) = {abs(result)}\"\n",
    "        return result\n",
    "\n"
   ]
  },
  {
   "cell_type": "code",
   "execution_count": null,
   "metadata": {},
   "outputs": [],
   "source": [
    "logger_q = LogAttemptsQ()\n",
    "\n"
   ]
  },
  {
   "cell_type": "code",
   "execution_count": null,
   "metadata": {},
   "outputs": [],
   "source": [
    "for z_initial in (-1.5 * r + 0.01j, -0.5 * r + 1.0j, 0.5 * r + 1.0j):\n",
    "\n",
    "    logger_q.init(z_initial)\n",
    "    f_z = logger_q.f\n",
    "\n",
    "    try:\n",
    "        root = so.newton(f_z, z_initial, fprime=dq_dz)\n",
    "    except RuntimeError as e:\n",
    "        print(e)\n",
    "\n"
   ]
  },
  {
   "cell_type": "code",
   "execution_count": null,
   "metadata": {},
   "outputs": [],
   "source": [
    "fig, ax = py.subplots(figsize=(18, 8))\n",
    "\n",
    "c_abs = ax.pcolor(X, Y, log_abs_Q, cmap=cmap, alpha=0.75)\n",
    "py.colorbar(c_abs, ax=ax)\n",
    "ax.contour(X, Y, log_abs_Q, cmap=\"jet\", levels=levels)\n",
    "\n",
    "for z_initial in logger_q.z_dict:\n",
    "    z_array = py.array(logger_q.z_dict[z_initial])\n",
    "    z_real = z_array.real\n",
    "    z_imag = z_array.imag\n",
    "\n",
    "    ax.plot(z_real, z_imag, '.-', label=f\"{z_initial}\")\n",
    "\n",
    "ax.axis(\"equal\");\n",
    "ax.legend(loc=0)\n",
    "py.xlabel(\"$real(z)$\")\n",
    "py.ylabel(\"$imag(z)$\")\n",
    "py.title(r\"$ \\left| Q(z) \\right| $\");\n",
    "\n"
   ]
  },
  {
   "cell_type": "markdown",
   "metadata": {},
   "source": [
    "## Final Bell<br>마지막 종\n",
    "\n"
   ]
  },
  {
   "cell_type": "code",
   "execution_count": null,
   "metadata": {},
   "outputs": [],
   "source": [
    "# stackoverfow.com/a/24634221\n",
    "import os\n",
    "os.system(\"printf '\\a'\");\n",
    "\n"
   ]
  },
  {
   "cell_type": "code",
   "execution_count": null,
   "metadata": {},
   "outputs": [],
   "source": []
  }
 ],
 "metadata": {
  "kernelspec": {
   "display_name": "Python 3",
   "language": "python",
   "name": "python3"
  },
  "language_info": {
   "codemirror_mode": {
    "name": "ipython",
    "version": 3
   },
   "file_extension": ".py",
   "mimetype": "text/x-python",
   "name": "python",
   "nbconvert_exporter": "python",
   "pygments_lexer": "ipython3",
   "version": "3.8.8"
  }
 },
 "nbformat": 4,
 "nbformat_minor": 0
}