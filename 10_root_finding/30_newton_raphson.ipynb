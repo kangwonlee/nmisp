{
 "cells": [
  {
   "cell_type": "markdown",
   "metadata": {
    "id": "view-in-github",
    "colab_type": "text"
   },
   "source": [
    "<a href=\"https://colab.research.google.com/github/kangwonlee/nmisp/blob/dependabot/pip/tests/requests-2.31.0/10_root_finding/30_newton_raphson.ipynb\" target=\"_parent\"><img src=\"https://colab.research.google.com/assets/colab-badge.svg\" alt=\"Open In Colab\"/></a>\n"
   ]
  },
  {
   "cell_type": "code",
   "execution_count": null,
   "metadata": {},
   "outputs": [],
   "source": [
    "# This cell is for the Google Colaboratory\n",
    "# https://stackoverflow.com/a/63519730\n",
    "if 'google.colab' in str(get_ipython()):\n",
    "  path_py = '/content/nmisp_py'\n",
    "\n",
    "  import os\n",
    "  if not os.path.exists(path_py):\n",
    "    import subprocess\n",
    "    subprocess.run(\n",
    "        ('git', 'clone', 'https://github.com/kangwonlee/nmisp_py')\n",
    "    )\n",
    "  assert os.path.exists(path_py)\n",
    "\n",
    "  import sys\n",
    "  sys.path.insert(0, path_py)\n",
    "\n"
   ]
  },
  {
   "cell_type": "code",
   "execution_count": null,
   "metadata": {},
   "outputs": [],
   "source": [
    "# 그래프, 수학 기능 추가\n",
    "# Add graph and math features\n",
    "import pylab as py\n",
    "\n"
   ]
  },
  {
   "cell_type": "markdown",
   "metadata": {},
   "source": [
    "# 뉴튼 랩슨법<br>Newton Rapson Method\n",
    "\n"
   ]
  },
  {
   "cell_type": "markdown",
   "metadata": {},
   "source": [
    "10의 제곱근을 구하기 위해 사용했던 함수를 생각해 보자.<br>Let's think about the function that we used to find the square root of 10.\n",
    "\n"
   ]
  },
  {
   "cell_type": "markdown",
   "metadata": {},
   "source": [
    "$$\n",
    "f(x)=x^2-10\n",
    "$$\n",
    "\n"
   ]
  },
  {
   "cell_type": "code",
   "execution_count": null,
   "metadata": {},
   "outputs": [],
   "source": [
    "# 이 함수를 0으로 만드는 x 를 찾고자 함\n",
    "# Intend to find x making the function below zero\n",
    "def f(x):\n",
    "    return x ** 2 - 10\n",
    "\n"
   ]
  },
  {
   "cell_type": "markdown",
   "metadata": {},
   "source": [
    "이 함수는 연속이고 미분 가능하다.<br>This function is continuous and differentiable.\n",
    "\n"
   ]
  },
  {
   "cell_type": "markdown",
   "metadata": {},
   "source": [
    "$$\n",
    "\\frac{d}{dx}f\\left(x\\right)=2x\n",
    "$$\n",
    "\n"
   ]
  },
  {
   "cell_type": "code",
   "execution_count": null,
   "metadata": {},
   "outputs": [],
   "source": [
    "# 위 함수의 x에 대한 미분\n",
    "# x-Derivative of the function above\n",
    "def df_dx(x):\n",
    "    return 2 * x\n",
    "\n"
   ]
  },
  {
   "cell_type": "markdown",
   "metadata": {},
   "source": [
    "그림의 매개변수는 다음과 같이 정하자.<br>\n",
    "Let's assume plot parameters as follows.\n",
    "\n"
   ]
  },
  {
   "cell_type": "code",
   "execution_count": null,
   "metadata": {},
   "outputs": [],
   "source": [
    "# x 의 범위와 간격을 지정 \n",
    "# Specify range and interval of x\n",
    "x_start = -1\n",
    "x_end = 5\n",
    "x_interval = 0.5\n",
    "\n"
   ]
  },
  {
   "cell_type": "markdown",
   "metadata": {},
   "source": [
    "함수와 기울기를 한번 표시해 보자.<br>Let's visualize the function and the slope.\n",
    "\n"
   ]
  },
  {
   "cell_type": "code",
   "execution_count": null,
   "metadata": {
    "scrolled": false
   },
   "outputs": [],
   "source": [
    "# 그림 관련 확장 기능 준비\n",
    "# Prepare extension module for plot\n",
    "import plot_root_finding\n",
    "\n",
    "# 그림의 크기를 지정\n",
    "# Specifiy size of the plot\n",
    "py.figure(figsize=(5, 10))\n",
    "\n",
    "py.subplot(2, 1, 1)\n",
    "# 위 명령으로 2행 1열로 그래프를 준비하고 이후의 명령은 첫번째 그래프에 적용\n",
    "# The command above prepares for sub-plots of two rows and one column and apply following commands to the first graph\n",
    "x_array = plot_root_finding.plot(f, x_start, x_end, x_interval)\n",
    "\n",
    "py.subplot(2, 1, 2)\n",
    "# 이번에는 2행 1열로 그래프 가운데 두번째 그래프에 이후의 명령을 적용\n",
    "# This time, apply following commands to the second sub-plot of two rows and one column\n",
    "plot_root_finding.plot_derivative(df_dx, x_array)\n",
    "py.xlabel('x')\n",
    "py.ylabel(r'$\\frac{df}{dx}$')\n",
    "py.grid(True)\n",
    "\n"
   ]
  },
  {
   "cell_type": "markdown",
   "metadata": {},
   "source": [
    "이를 이용하여, 원하는 위치 $\\left(x_i, f(x_i)\\right)$ 에서의 접선을 그릴 수 있다.<br>Using this, we can plot tangents at desirable locations of $\\left(x_i, f(x_i)\\right)$.\n",
    "\n"
   ]
  },
  {
   "cell_type": "markdown",
   "metadata": {},
   "source": [
    "$$\n",
    "y_{tangent}=\\left[\\frac{d}{dx}f\\left(x_i\\right)\\right] \\left(x-x_i \\right) + f\\left(x_i\\right)\n",
    "$$\n",
    "\n"
   ]
  },
  {
   "cell_type": "markdown",
   "metadata": {},
   "source": [
    "위 그림 각 점에서의 접선을 그려 보자.<br>Let's visualize the tangent at each point of the plot above.\n",
    "\n"
   ]
  },
  {
   "cell_type": "code",
   "execution_count": null,
   "metadata": {},
   "outputs": [],
   "source": [
    "x = plot_root_finding.plot(f, x_start, x_end, x_interval)\n",
    "\n",
    "plot_root_finding.plot_many_tangents(f, df_dx, x)\n",
    "\n"
   ]
  },
  {
   "cell_type": "markdown",
   "metadata": {},
   "source": [
    "기울기가 0이 아니라면, 접선은 $x$축과 만날 것이다. 그 교점의 $x$ 좌표를 $x_j$라 하자.<br>If the slope is not zero, the tangent would intersect with $x$ axis. Let $x_j$ be the $x$ coordinate of the intersection.\n",
    "\n"
   ]
  },
  {
   "cell_type": "markdown",
   "metadata": {},
   "source": [
    "$$\n",
    "\\begin{align}\n",
    "\\left[\\frac{d}{dx}f\\left(x_i\\right)\\right] \\left(x_j-x_i \\right) + f\\left(x_i\\right)=0 \\\\\n",
    "\\left[\\frac{d}{dx}f\\left(x_i\\right)\\right] \\left(x_j-x_i \\right)=-f\\left(x_i\\right) \\\\\n",
    "\\left(x_j-x_i \\right)=-\\frac{f\\left(x_i\\right)}{\\left[\\frac{d}{dx}f\\left(x_i\\right)\\right]} \\\\\n",
    "x_j=x_i-\\frac{f\\left(x_i\\right)}{\\left[\\frac{d}{dx}f\\left(x_i\\right)\\right]} \\\\\n",
    "\\end{align}\n",
    "$$\n",
    "\n"
   ]
  },
  {
   "cell_type": "markdown",
   "metadata": {},
   "source": [
    "기울기가 0이라면?<br>What if the slope is zero?\n",
    "\n"
   ]
  },
  {
   "cell_type": "markdown",
   "metadata": {},
   "source": [
    "$x_i=5$ 지점에서의 접선을 그려 보자.<br>Let's plot tanget at $x_i=5$.\n",
    "\n"
   ]
  },
  {
   "cell_type": "code",
   "execution_count": null,
   "metadata": {},
   "outputs": [],
   "source": [
    "x = plot_root_finding.plot(f, x_start, x_end, x_interval)\n",
    "x_i = 5\n",
    "plot_root_finding.plot_one_tangent(f, df_dx, x_i, 0.8)\n",
    "\n"
   ]
  },
  {
   "cell_type": "markdown",
   "metadata": {},
   "source": [
    "$x_j$를 한번 계산해 보자.<br>Let's calculate $x_j$, too.\n",
    "\n"
   ]
  },
  {
   "cell_type": "code",
   "execution_count": null,
   "metadata": {},
   "outputs": [],
   "source": [
    "x_j = x_i - f(x_i) / (2 * x_i)\n",
    "\n"
   ]
  },
  {
   "cell_type": "code",
   "execution_count": null,
   "metadata": {
    "scrolled": true
   },
   "outputs": [],
   "source": [
    "x_j\n",
    "\n"
   ]
  },
  {
   "cell_type": "markdown",
   "metadata": {},
   "source": [
    "여기 $x=x_j$ 에서의 $f(x)$의 값인 $\\left. f(x) \\right|_{x=x_j}$ 를 계산해 보자.<br>Let's calculate $\\left. f(x) \\right|_{x=x_j}$, $f(x)$ at $x=x_j$ here.\n",
    "\n"
   ]
  },
  {
   "cell_type": "code",
   "execution_count": null,
   "metadata": {},
   "outputs": [],
   "source": [
    "f(x_j)\n",
    "\n"
   ]
  },
  {
   "cell_type": "markdown",
   "metadata": {},
   "source": [
    "$x_j$ 값은 10의 제곱근에 $x_i$ 보다 가까와졌다.<br> $x_j$ is closer to $\\sqrt{10}$ than $x_i$.\n",
    "\n"
   ]
  },
  {
   "cell_type": "markdown",
   "metadata": {},
   "source": [
    "$x_i$값을 $x_j$ 값으로 덮어쓰고 한번 더 반복해 보자.<br>Let's iterate once more with $x_j$ as new $x_i$.\n",
    "\n"
   ]
  },
  {
   "cell_type": "code",
   "execution_count": null,
   "metadata": {},
   "outputs": [],
   "source": [
    "previous_x_i = x_i\n",
    "x_i = x_j\n",
    "\n"
   ]
  },
  {
   "cell_type": "markdown",
   "metadata": {},
   "source": [
    "$x_i$ 에서의 접선을 그려 보자.<br>Let's plot tanget at $x_i$.\n",
    "\n"
   ]
  },
  {
   "cell_type": "code",
   "execution_count": null,
   "metadata": {},
   "outputs": [],
   "source": [
    "x = plot_root_finding.plot(f, x_start, x_end, x_interval)\n",
    "plot_root_finding.plot_one_tangent(f, df_dx, previous_x_i, 0.8)\n",
    "plot_root_finding.plot_one_tangent(f, df_dx, x_i, 0.8)\n",
    "\n"
   ]
  },
  {
   "cell_type": "code",
   "execution_count": null,
   "metadata": {},
   "outputs": [],
   "source": [
    "x_j = x_i - f(x_i) / (2 * x_i)\n",
    "\n"
   ]
  },
  {
   "cell_type": "markdown",
   "metadata": {},
   "source": [
    "새로운 $x_j$ :<br>New $x_j$ :\n",
    "\n"
   ]
  },
  {
   "cell_type": "code",
   "execution_count": null,
   "metadata": {},
   "outputs": [],
   "source": [
    "x_j\n",
    "\n"
   ]
  },
  {
   "cell_type": "markdown",
   "metadata": {},
   "source": [
    "새로운 $\\left. f(x) \\right|_{x=x_j}$ :<br>New $\\left. f(x) \\right|_{x=x_j}$ :\n",
    "\n"
   ]
  },
  {
   "cell_type": "code",
   "execution_count": null,
   "metadata": {},
   "outputs": [],
   "source": [
    "f(x_j)\n",
    "\n"
   ]
  },
  {
   "cell_type": "markdown",
   "metadata": {},
   "source": [
    "새로운 $x_j$ 값은 10의 제곱근에 더 가까와졌다.<br>New $x_j$ is even closer to the square root of 10.\n",
    "\n"
   ]
  },
  {
   "cell_type": "markdown",
   "metadata": {},
   "source": [
    "## 뉴튼 랩슨법 구현<br>Implementing Newton Raphson Method\n",
    "\n"
   ]
  },
  {
   "cell_type": "markdown",
   "metadata": {},
   "source": [
    "매개변수는 다음과 같이 정하자.<br>\n",
    "Let's set the parameter as follows.\n",
    "\n"
   ]
  },
  {
   "cell_type": "code",
   "execution_count": null,
   "metadata": {},
   "outputs": [],
   "source": [
    "epsilon = 1e-3\n",
    "\n"
   ]
  },
  {
   "cell_type": "markdown",
   "metadata": {},
   "source": [
    "$x$ 의 초기값을 지정하자.<br>\n",
    "Let's specify the initial value of x as follows.\n",
    "\n"
   ]
  },
  {
   "cell_type": "code",
   "execution_count": null,
   "metadata": {},
   "outputs": [],
   "source": [
    "x_initial = 5.0\n",
    "\n"
   ]
  },
  {
   "cell_type": "markdown",
   "metadata": {},
   "source": [
    "이 $f(x)$ 값을 0으로 만드는 $x$의 값을 찾고자 하는 것이다.<br>\n",
    "We want to find the value of $x$ making following $f(x)$ zero.\n",
    "\n"
   ]
  },
  {
   "cell_type": "code",
   "execution_count": null,
   "metadata": {},
   "outputs": [],
   "source": [
    "def f(x):\n",
    "    return x ** 2 - 10\n",
    "\n"
   ]
  },
  {
   "cell_type": "markdown",
   "metadata": {},
   "source": [
    "다시한번, 위 함수를 한번 $x$에 대해 미분하면 다음과 같다.<br>\n",
    "Again, the first derivative of the function above is as follows.\n",
    "\n"
   ]
  },
  {
   "cell_type": "code",
   "execution_count": null,
   "metadata": {},
   "outputs": [],
   "source": [
    "def df_dx(x):\n",
    "    return 2 * x\n",
    "\n"
   ]
  },
  {
   "cell_type": "markdown",
   "metadata": {},
   "source": [
    "위 반복 계산을 함수로 구현하면 다음과 같다.<br>\n",
    "Following is an implementation of the iteration steps above.\n",
    "\n"
   ]
  },
  {
   "cell_type": "code",
   "execution_count": null,
   "metadata": {},
   "outputs": [],
   "source": [
    "def newton_raphson(f, df_dx, x_initial, epsilon):\n",
    "    \"\"\"\n",
    "    뉴튼 랩슨 법\n",
    "    Newton Raphson Method\n",
    "    \n",
    "    f : f(x) = 0 을 만족하는 x 를 찾고자 하는 함수 Function that we want to find x satisfying f(x) = 0\n",
    "    df_dx : f(x) 함수의 x 에 대한 미분 x-derivative of the function above\n",
    "    x_initial : x의 초기값 Initial value of x\n",
    "    epsilon : 희망하는 근의 정밀도 Desirable precision of the root\n",
    "    \"\"\"\n",
    "    counter = 0\n",
    "    \n",
    "    # 변수 x_i 를 초기화\n",
    "    # Initialize variable x_i\n",
    "    x_i = x_initial\n",
    "\n",
    "    # f(x_i) 의 절대값이 epsilon 보다 더 크다면 계속 반복\n",
    "    # Iterate while the absolute value of f(x) is larger than epsilon\n",
    "    while abs(f(x_i)) > epsilon:\n",
    "        # x_i 지점에서의 접선의 기울기\n",
    "        # Slope of the tangent at x_i\n",
    "        slope = df_dx(x_i)\n",
    "        \n",
    "        assert abs(slope) > epsilon\n",
    "\n",
    "        # 접선과 x축의 교점\n",
    "        # Intersection of the tangent and the x axis\n",
    "        x_i += - f(x_i) / slope\n",
    "\n",
    "        counter += 1\n",
    "    \n",
    "    print('counter =', counter)\n",
    "        \n",
    "    return x_i\n",
    "\n"
   ]
  },
  {
   "cell_type": "markdown",
   "metadata": {},
   "source": [
    "10의 제곱근을 찾아보자. 계산 시간도 측정해 보자.<br>\n",
    "Let's find the square root of 10 while measuring the computation time.\n",
    "\n"
   ]
  },
  {
   "cell_type": "code",
   "execution_count": null,
   "metadata": {},
   "outputs": [],
   "source": [
    "%time sqrt_10 = newton_raphson(f, df_dx, x_initial, epsilon)\n",
    "\n"
   ]
  },
  {
   "cell_type": "markdown",
   "metadata": {},
   "source": [
    "뉴튼 랩슨법으로 찾은 10의 제곱근<br>\n",
    "Square root of 10 that we just found using the Newton Raphson method :\n",
    "\n"
   ]
  },
  {
   "cell_type": "code",
   "execution_count": null,
   "metadata": {},
   "outputs": [],
   "source": [
    "print('sqrt_10 =', sqrt_10)\n",
    "\n"
   ]
  },
  {
   "cell_type": "markdown",
   "metadata": {},
   "source": [
    "아래 연산의 결과는 0인가?<br>\n",
    "Is the result of the following calculation zero?\n",
    "\n"
   ]
  },
  {
   "cell_type": "code",
   "execution_count": null,
   "metadata": {},
   "outputs": [],
   "source": [
    "print('sqrt_10 ** 2 - 10 =', sqrt_10 ** 2 - 10)\n",
    "\n"
   ]
  },
  {
   "cell_type": "markdown",
   "metadata": {},
   "source": [
    "## 연습 문제<br>Exercises\n",
    "\n"
   ]
  },
  {
   "cell_type": "markdown",
   "metadata": {},
   "source": [
    "도전과제 1 : $sin^2(\\theta^{\\circ})+\\frac{1}{90}\\pi\\theta^{\\circ}=0.5$ 를 풀기 위한 python 함수 `f1(theta_deg)` 를 구현하고 적당한 $\\theta^{\\circ}$ 구간에 그 그래프를 그려보시오.<br>\n",
    "Try this 1 : Implement a python function `f1(theta_deg)` to solve $sin^2(\\theta^{\\circ})+\\frac{1}{90}\\pi\\theta^{\\circ}=0.5$ and plot it over an appropriate interval of $\\theta^{\\circ}$.\n",
    "\n"
   ]
  },
  {
   "cell_type": "markdown",
   "metadata": {},
   "source": [
    "도전과제 2 : 위 `f1(theta_deg)` 함수의 $\\theta$에 대한 미분을 python 함수 `df1(theta_deg)` 로 구현하고 그 그래프를 그려 보시오. 위 `f1(theta_deg)` 함수의 기울기가 0인 점에서 `df1(theta_deg)` 함수값이 0인지 확인하시오.<br>\n",
    "Try this 2 : Implement another python function `df1(theta_deg)` that is a derivative of the function `f1(theta_deg)` over $\\theta$ and plot it. Verify whether the value of `df1(theta_deg)` is zero if the slope of the `f1(theta_deg)` is zero.\n",
    "\n"
   ]
  },
  {
   "cell_type": "markdown",
   "metadata": {},
   "source": [
    "도전 과제 3 : $sin^2(\\theta^{\\circ})+\\frac{1}{90}\\pi\\theta^{\\circ}=0.5$ 인 $\\theta^{\\circ}$를 뉴튼 랩슨법으로 구해 보시오.<br>\n",
    "Try this 3 : Find $\\theta^{\\circ}$ satisfying $sin^2(\\theta^{\\circ})+\\frac{1}{90}\\pi\\theta^{\\circ}=0.5$ using the Newton's method.\n",
    "\n"
   ]
  },
  {
   "cell_type": "markdown",
   "metadata": {},
   "source": [
    "도전 과제 4 : 초기 $\\theta$ 값을 정할 때 주의해야 하는 까닭은?<br>\n",
    "Try this 4 : Why do we have to be careful when choosing initial $\\theta$?\n",
    "\n"
   ]
  },
  {
   "cell_type": "markdown",
   "metadata": {},
   "source": [
    "도전 과제 5: 관심 있는 $f(x)=0$ 문제를 정하여 뉴튼-랩슨법으로 근을 구해 보시오.<br>\n",
    "Try this 5: Find a root of a $f(x)=0$ problem of your choice using the Newton-Raphson method.\n",
    "\n"
   ]
  },
  {
   "cell_type": "markdown",
   "metadata": {},
   "source": [
    "## 사이파이 구현<br>Implementation in SciPy\n",
    "\n"
   ]
  },
  {
   "cell_type": "markdown",
   "metadata": {},
   "source": [
    "사이파이 모듈에도 [`newton`](https://docs.scipy.org/doc/scipy/reference/generated/scipy.optimize.newton.html) 함수가 있다.<br>\n",
    "The SciPy module also has the [`newton`](https://docs.scipy.org/doc/scipy/reference/generated/scipy.optimize.newton.html) function.\n",
    "\n"
   ]
  },
  {
   "cell_type": "code",
   "execution_count": null,
   "metadata": {},
   "outputs": [],
   "source": [
    "import scipy.optimize as so\n",
    "\n"
   ]
  },
  {
   "cell_type": "code",
   "execution_count": null,
   "metadata": {},
   "outputs": [],
   "source": [
    "%time sqrt_10_scipy = so.newton(f, x_initial, fprime=df_dx, tol=epsilon)\n",
    "\n"
   ]
  },
  {
   "cell_type": "code",
   "execution_count": null,
   "metadata": {},
   "outputs": [],
   "source": [
    "sqrt_10_scipy\n",
    "\n"
   ]
  },
  {
   "cell_type": "markdown",
   "metadata": {},
   "source": [
    "앞에서 구한 값과 비교해 보자.<br>Let's compare with the previous value.\n",
    "\n"
   ]
  },
  {
   "cell_type": "code",
   "execution_count": null,
   "metadata": {},
   "outputs": [],
   "source": [
    "sqrt_10\n",
    "\n"
   ]
  },
  {
   "cell_type": "markdown",
   "metadata": {},
   "source": [
    "결과 확인<br>Check result\n",
    "\n"
   ]
  },
  {
   "cell_type": "code",
   "execution_count": null,
   "metadata": {},
   "outputs": [],
   "source": [
    "import math\n",
    "assert math.isclose((sqrt_10_scipy ** 2), 10.0, abs_tol=epsilon), (sqrt_10_scipy ** 2)\n",
    "\n"
   ]
  },
  {
   "cell_type": "markdown",
   "metadata": {},
   "source": [
    "## Final Bell<br>마지막 종\n",
    "\n"
   ]
  },
  {
   "cell_type": "code",
   "execution_count": null,
   "metadata": {},
   "outputs": [],
   "source": [
    "# stackoverfow.com/a/24634221\n",
    "import os\n",
    "os.system(\"printf '\\a'\");\n",
    "\n"
   ]
  },
  {
   "cell_type": "code",
   "execution_count": null,
   "metadata": {},
   "outputs": [],
   "source": []
  }
 ],
 "metadata": {
  "kernelspec": {
   "display_name": "Python 3",
   "language": "python",
   "name": "python3"
  },
  "language_info": {
   "codemirror_mode": {
    "name": "ipython",
    "version": 3
   },
   "file_extension": ".py",
   "mimetype": "text/x-python",
   "name": "python",
   "nbconvert_exporter": "python",
   "pygments_lexer": "ipython3",
   "version": "3.7.3"
  }
 },
 "nbformat": 4,
 "nbformat_minor": 4
}