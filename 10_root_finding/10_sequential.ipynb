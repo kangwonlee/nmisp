{
 "cells": [
  {
   "cell_type": "markdown",
   "metadata": {
    "id": "view-in-github",
    "colab_type": "text"
   },
   "source": [
    "<a href=\"https://colab.research.google.com/github/kangwonlee/nmisp/blob/lecture-idea/10_root_finding/10_sequential.ipynb\" target=\"_parent\"><img src=\"https://colab.research.google.com/assets/colab-badge.svg\" alt=\"Open In Colab\"/></a>\n"
   ]
  },
  {
   "cell_type": "code",
   "execution_count": null,
   "metadata": {},
   "outputs": [],
   "source": [
    "# This cell is for the Google Colaboratory\n",
    "# https://stackoverflow.com/a/63519730\n",
    "if 'google.colab' in str(get_ipython()):\n",
    "  path_py = '/content/nmisp_py'\n",
    "\n",
    "  import os\n",
    "  if not os.path.exists(path_py):\n",
    "    import subprocess\n",
    "    subprocess.run(\n",
    "        ('git', 'clone', 'https://github.com/kangwonlee/nmisp_py')\n",
    "    )\n",
    "  assert os.path.exists(path_py)\n",
    "\n",
    "  import sys\n",
    "  sys.path.insert(0, path_py)\n",
    "\n"
   ]
  },
  {
   "cell_type": "code",
   "execution_count": null,
   "metadata": {},
   "outputs": [],
   "source": [
    "# 그래프, 수학 기능 추가\n",
    "# Add graph and math features\n",
    "import pylab as py\n",
    "\n"
   ]
  },
  {
   "cell_type": "markdown",
   "metadata": {},
   "source": [
    "# 순차법<br>Sequential Method\n",
    "\n"
   ]
  },
  {
   "cell_type": "markdown",
   "metadata": {},
   "source": [
    "10의 제곱근을 구한다고 생각해 보자.<br>Let's try to find the square root of 10.\n",
    "\n"
   ]
  },
  {
   "cell_type": "markdown",
   "metadata": {},
   "source": [
    "$$\n",
    "x=\\sqrt{10} = 10 ^ \\frac{1}{2} = 10 ^ {0.5}\n",
    "$$\n",
    "\n"
   ]
  },
  {
   "cell_type": "markdown",
   "metadata": {},
   "source": [
    "계산기라면 이런 식으로 구할 수 있을 것이다.<br>With a calcuator, an engineer can find it as follows.\n",
    "\n"
   ]
  },
  {
   "cell_type": "code",
   "execution_count": null,
   "metadata": {},
   "outputs": [],
   "source": [
    "print('sqrt(10) =', 10 ** 0.5)\n",
    "\n"
   ]
  },
  {
   "cell_type": "markdown",
   "metadata": {},
   "source": [
    "조금 다른 방식으로 해 보자.<br>Let's try a different way.\n",
    "\n"
   ]
  },
  {
   "cell_type": "markdown",
   "metadata": {},
   "source": [
    "양변을 제곱해 보자.<br>Let's square both sides.\n",
    "\n"
   ]
  },
  {
   "cell_type": "markdown",
   "metadata": {},
   "source": [
    "$$\n",
    "\\begin{align}\n",
    "x &= 10 ^ {0.5} \\\\\n",
    "x^2 &= \\left(10 ^ {0.5}\\right)^2 \\\\\n",
    "x^2 &= 10\n",
    "\\end{align}\n",
    "$$\n",
    "\n"
   ]
  },
  {
   "cell_type": "markdown",
   "metadata": {},
   "source": [
    "이 관계를 그래프로 표현해 보면 다음과 같을 것이다.<br>An engineer can visualize this relationship as follows.\n",
    "\n"
   ]
  },
  {
   "cell_type": "code",
   "execution_count": null,
   "metadata": {},
   "outputs": [],
   "source": [
    "# x 의 범위와 간격을 지정 \n",
    "# Specify range and interval of x\n",
    "x = py.arange(-5, 5+0.1, 0.2)\n",
    "\n"
   ]
  },
  {
   "cell_type": "markdown",
   "metadata": {},
   "source": [
    "위 `py.arange(-5, 5+0.1, 0.2)`은 -5 부터 5까지의 배열을 0.2 간격으로 생성한다.<br>\n",
    "The `py.arange(-5, 5+0.1, 0.2)` above would generate an array starting from -5 to 5 with interval of 0.2.\n",
    "\n"
   ]
  },
  {
   "cell_type": "markdown",
   "metadata": {},
   "source": [
    "`x`의 행과 열의 갯수:<br>\n",
    "Number of rows and columns of `x`:\n",
    "\n"
   ]
  },
  {
   "cell_type": "code",
   "execution_count": null,
   "metadata": {},
   "outputs": [],
   "source": [
    "x.shape\n",
    "\n"
   ]
  },
  {
   "cell_type": "markdown",
   "metadata": {},
   "source": [
    "`(51,)` 이라면 1차원 배열이고 길이는 51 이다.<br>\n",
    "`(51,)` means it is a 1-D array with length of 51.\n",
    "\n"
   ]
  },
  {
   "cell_type": "markdown",
   "metadata": {},
   "source": [
    "`x`의 첫 항목<br>The first item of the `x`\n",
    "\n"
   ]
  },
  {
   "cell_type": "code",
   "execution_count": null,
   "metadata": {},
   "outputs": [],
   "source": [
    "x[0]\n",
    "\n"
   ]
  },
  {
   "cell_type": "markdown",
   "metadata": {},
   "source": [
    "처음 다섯 항목<br>\n",
    "First five items of `x`\n",
    "\n"
   ]
  },
  {
   "cell_type": "code",
   "execution_count": null,
   "metadata": {},
   "outputs": [],
   "source": [
    "x[:5]\n",
    "\n"
   ]
  },
  {
   "cell_type": "markdown",
   "metadata": {},
   "source": [
    "마지막 다섯 항목<br>\n",
    "Last five items of `x`\n",
    "\n"
   ]
  },
  {
   "cell_type": "code",
   "execution_count": null,
   "metadata": {},
   "outputs": [],
   "source": [
    "x[-5:]\n",
    "\n"
   ]
  },
  {
   "cell_type": "markdown",
   "metadata": {},
   "source": [
    "마지막 항목<br>\n",
    "Last item\n",
    "\n"
   ]
  },
  {
   "cell_type": "code",
   "execution_count": null,
   "metadata": {},
   "outputs": [],
   "source": [
    "x[-1]\n",
    "\n"
   ]
  },
  {
   "cell_type": "markdown",
   "metadata": {},
   "source": [
    "위 각 `x` 점에 대해 위 등식을 표시해 보자.<br>\n",
    "Let's represent the equation above for each point of `x`.\n",
    "\n"
   ]
  },
  {
   "cell_type": "code",
   "execution_count": null,
   "metadata": {},
   "outputs": [],
   "source": [
    "# y = x^2\n",
    "py.plot(x, x**2, 'k.')\n",
    "# y = 10\n",
    "py.plot(x, 10*py.ones_like(x), 'r.')\n",
    "# 모눈 표시\n",
    "# Indicate grid\n",
    "py.grid()\n",
    "\n"
   ]
  },
  {
   "cell_type": "markdown",
   "metadata": {},
   "source": [
    "`py.ones_like(x)` 는 `x`와 행, 열의 크기가 같은 배열을 만들고 1로 채운다.<br>\n",
    "`py.ones_like(x)` would create an array with same number of rows and columns and fill it with ones.\n",
    "\n"
   ]
  },
  {
   "cell_type": "markdown",
   "metadata": {},
   "source": [
    "한번 해당 함수를 사용해 보자.<br>\n",
    "Let's try using the function.\n",
    "\n"
   ]
  },
  {
   "cell_type": "code",
   "execution_count": null,
   "metadata": {},
   "outputs": [],
   "source": [
    "x.shape\n",
    "\n"
   ]
  },
  {
   "cell_type": "code",
   "execution_count": null,
   "metadata": {},
   "outputs": [],
   "source": [
    "n = py.ones_like(x)\n",
    "n.shape\n",
    "\n"
   ]
  },
  {
   "cell_type": "markdown",
   "metadata": {},
   "source": [
    "첫번째 그리고 마지막 5 항목<br>\n",
    "First and last items\n",
    "\n"
   ]
  },
  {
   "cell_type": "code",
   "execution_count": null,
   "metadata": {},
   "outputs": [],
   "source": [
    "n[:5], n[-5:]\n",
    "\n"
   ]
  },
  {
   "cell_type": "markdown",
   "metadata": {},
   "source": [
    "최소값과 최대값<br>\n",
    "Minimum and maximum values\n",
    "\n"
   ]
  },
  {
   "cell_type": "code",
   "execution_count": null,
   "metadata": {},
   "outputs": [],
   "source": [
    "n.min(), n.max()\n",
    "\n"
   ]
  },
  {
   "cell_type": "markdown",
   "metadata": {},
   "source": [
    "`py.zeros_like(x)` 는 `x`와 행, 열의 크기가 같은 배열을 만들고 0으로 채운다.<br>\n",
    "`py.zeros_like(x)` would create an array with same number of rows and columns and fill it with zeros.\n",
    "\n"
   ]
  },
  {
   "cell_type": "code",
   "execution_count": null,
   "metadata": {},
   "outputs": [],
   "source": [
    "z = py.zeros_like(x)\n",
    "z.shape\n",
    "\n"
   ]
  },
  {
   "cell_type": "code",
   "execution_count": null,
   "metadata": {},
   "outputs": [],
   "source": [
    "z[:5], z[-5:]\n",
    "\n"
   ]
  },
  {
   "cell_type": "markdown",
   "metadata": {},
   "source": [
    "이제 양변에서 10을 빼 보자.<br>\n",
    "Now let's subtract 10 from both sides.\n",
    "\n"
   ]
  },
  {
   "cell_type": "markdown",
   "metadata": {},
   "source": [
    "$$\n",
    "\\begin{align}\n",
    "x^2-10 &= 10-10\\\\\n",
    "x^2-10 &= 0\n",
    "\\end{align}\n",
    "$$\n",
    "\n"
   ]
  },
  {
   "cell_type": "markdown",
   "metadata": {},
   "source": [
    "이 관계도 그려보자.<br>Let's plot this, too.\n",
    "\n"
   ]
  },
  {
   "cell_type": "code",
   "execution_count": null,
   "metadata": {},
   "outputs": [],
   "source": [
    "# x 의 범위와 간격을 지정 \n",
    "# Specify range and interval of x\n",
    "x = py.arange(-5, 5, 0.2)\n",
    "# y = x^2\n",
    "py.plot(x, x**2 - 10, 'k.')\n",
    "# y = 0\n",
    "py.plot(x, py.zeros_like(x), 'r.')\n",
    "# 모눈 표시\n",
    "# Indicate grid\n",
    "py.grid()\n",
    "\n"
   ]
  },
  {
   "cell_type": "markdown",
   "metadata": {},
   "source": [
    "위 방정식을 만족하는 $x$ 는 10의 제곱근일 것이다.<br>$x$ satisfying the equation above would be the square root of 10.\n",
    "\n"
   ]
  },
  {
   "cell_type": "markdown",
   "metadata": {},
   "source": [
    "이러한 $x$를 위 방정식의 **근** 이라고 부른다.<br>We call such $x$ a **root** of the equation above.\n",
    "\n"
   ]
  },
  {
   "cell_type": "markdown",
   "metadata": {},
   "source": [
    "그리고 그러한 x는 아래와 같은 함수를 0으로 만들 것이다.<br>And such $x$ would make following function zero.\n",
    "\n"
   ]
  },
  {
   "cell_type": "markdown",
   "metadata": {},
   "source": [
    "$$\n",
    "f(x) = x^2 - 10=0\n",
    "$$\n",
    "\n"
   ]
  },
  {
   "cell_type": "code",
   "execution_count": null,
   "metadata": {},
   "outputs": [],
   "source": [
    "# 이 함수를 0으로 만드는 x 를 찾고자 함\n",
    "# Intend to find x making the function below zero\n",
    "def f(x):\n",
    "    return x ** 2 - 10\n",
    "\n"
   ]
  },
  {
   "cell_type": "markdown",
   "metadata": {},
   "source": [
    "컴퓨터의 연산능력을 이용하여 근을 찾아 보도록 하자.<br>Let's try to find the root using the computer's computation capability.\n",
    "\n"
   ]
  },
  {
   "cell_type": "markdown",
   "metadata": {},
   "source": [
    "여러 가능한 방법 가운데 하나는 $x$를 어떤 *초기값*으로부터 시작하여 일정 *간격* 으로 증가시키면서 $f(x)=x^2-10$을 계산해 보는 것이다.<br>\n",
    "One of the possible ways is to evaluate $f(x)=x^2-10$ starting from an *initial value* of $x$, increasing by a constant *interval*.\n",
    "\n"
   ]
  },
  {
   "cell_type": "markdown",
   "metadata": {},
   "source": [
    "그렇게 반복하다가 $\\left|f(x)\\right|=\\left|x^2-10\\right|$ 이 어떤 *만족스러운 수준* 이하가 되면, 그 때의 $x$ 값이 $\\sqrt{10}$의 *근사값*이 될 것이다.<br>\n",
    "During the iteration, the $x$ making $\\left|f(x)\\right|=\\left|x^2-10\\right|$ below a certain *satisfactory level* would be the *approximation* of $\\sqrt{10}.$\n",
    "\n"
   ]
  },
  {
   "cell_type": "markdown",
   "metadata": {},
   "source": [
    "$$\n",
    "\\left(\\left|x^2-10\\right|<\\epsilon \\right) \\equiv \\left(\\left|x^2-10\\right|\\approx 0 \\right) \n",
    "$$\n",
    "\n"
   ]
  },
  {
   "cell_type": "markdown",
   "metadata": {},
   "source": [
    "$$\n",
    "\\left(\\left|f(x)\\right|<\\epsilon \\right) \\equiv \\left(\\left|f(x)\\right|\\approx 0 \\right) \n",
    "$$\n",
    "\n"
   ]
  },
  {
   "cell_type": "markdown",
   "metadata": {},
   "source": [
    "여기서 $\\epsilon$ 값의 의미는, 예를 들어 $\\left|y\\right| < \\epsilon$ 이면 $y \\approx 0$ 이라고 보는 것이다.<br>\n",
    "Here, $\\epsilon$ means that if $\\left|y\\right| < \\epsilon$ then $y \\approx 0$.\n",
    "\n"
   ]
  },
  {
   "cell_type": "markdown",
   "metadata": {},
   "source": [
    "## 왜 $\\epsilon$ 이 필요한가?<br>Why do we need $\\epsilon$?\n",
    "\n"
   ]
  },
  {
   "cell_type": "markdown",
   "metadata": {},
   "source": [
    "위의 그래프의 일부를 확대해보자.<br>Let's zoom into the plot above. \n",
    "\n"
   ]
  },
  {
   "cell_type": "code",
   "execution_count": null,
   "metadata": {},
   "outputs": [],
   "source": [
    "# x 의 범위와 간격을 지정 \n",
    "# Specify range and interval of x\n",
    "x = py.arange(2.8, 3.5, 0.2)\n",
    "\n",
    "# y = f(x) = x * x - 10\n",
    "py.plot(x, f(x), 'ko')\n",
    "\n",
    "# y = 0\n",
    "py.plot(x, py.zeros_like(x), 'ro')\n",
    "\n",
    "# x 축 이름표\n",
    "py.xlabel('x')\n",
    "\n",
    "# 모눈 표시\n",
    "# Indicate grid\n",
    "py.grid()\n",
    "\n"
   ]
  },
  {
   "cell_type": "markdown",
   "metadata": {},
   "source": [
    "위 그림에서 $|x^2-10|$이 $x=3.0$과 $x=3.2$ 사이 어딘가에서 0이 될 것임을 짐작할 수 있다.<br>\n",
    "We can see that $|x^2-10|$ will be zero somewhere between $x=3.0$ and $x=3.2$.\n",
    "\n"
   ]
  },
  {
   "cell_type": "markdown",
   "metadata": {},
   "source": [
    "그 값을 더 정확히 알고 싶다면 점을 그리는 간격을 줄이면 될 것이다.<br>\n",
    "To find more precise value, we can reduce the interval of the dots.\n",
    "\n"
   ]
  },
  {
   "cell_type": "code",
   "execution_count": null,
   "metadata": {},
   "outputs": [],
   "source": [
    "# x 의 범위와 간격을 지정 \n",
    "# Specify range and interval of x\n",
    "x = py.arange(2.8, 3.5, 0.05)\n",
    "# y = f(x) = x * x - 10\n",
    "py.plot(x, f(x), 'ko')\n",
    "# y = 0\n",
    "py.plot(x, py.zeros_like(x), 'ro')\n",
    "# x 축 이름표\n",
    "# x axis label\n",
    "py.xlabel('x')\n",
    "# 모눈 표시\n",
    "# Indicate grid\n",
    "py.grid()\n",
    "\n"
   ]
  },
  {
   "cell_type": "markdown",
   "metadata": {},
   "source": [
    "사람의 경우는 그 간격을 무한히 줄여서 점이 **연속적**이 되는 것을 생각할 수 있지만, 컴퓨터는 **이산적**인 그래프까지만 그릴 수 있다.<br>\n",
    "A person may think infinitely small interval so that the dots become **continuous**, however, computer plots can only be **discrete**.\n",
    "\n"
   ]
  },
  {
   "cell_type": "markdown",
   "metadata": {},
   "source": [
    "컴퓨터는 **정밀도**라는 어떤 수준 이하로 점을 그리는 간격을 줄일 수 없기 때문이다.<br>Because computers are unable to make the interval of the dots smaller than a certain level called **precision**.\n",
    "\n"
   ]
  },
  {
   "cell_type": "markdown",
   "metadata": {},
   "source": [
    "사람은 $x^2-10$ 을 0으로 만들 수 있는 $x$ 를 생각할 수 있지만, 컴퓨터가 찾아 낼 수 있는 최선의 $\\sqrt{10}$의 근사값으로도 $x^2-10$ 이 정확히 0이 되지 않을 수 있는 것이다.<br>\n",
    "While a person may think about $x$ making $x^2-10$ exact zero, even computer's best approximation of $\\sqrt{10}$ may not exactly make $x^2-10$ zero.\n",
    "\n"
   ]
  },
  {
   "cell_type": "markdown",
   "metadata": {},
   "source": [
    "그래서 컴퓨터의 계산 결과 절대값이 **$\\epsilon$** 값보다 작으면, 그 결과는 0과 같은 것으로 생각할 것이다.<br>\n",
    "Hence, if a computation result has absolute value smaller then **$\\epsilon$**, we would regard that the result is the same as zero.\n",
    "\n"
   ]
  },
  {
   "cell_type": "code",
   "execution_count": null,
   "metadata": {},
   "outputs": [],
   "source": [
    "import plot_root_finding\n",
    "\n",
    "\n",
    "x_start = 2.8\n",
    "x_end = 3.5\n",
    "x_interval = 0.05\n",
    "\n",
    "plot_root_finding.plot(f, x_start, x_end, x_interval);\n",
    "\n"
   ]
  },
  {
   "cell_type": "markdown",
   "metadata": {},
   "source": [
    "## 순차법 구현<br>Implementing Sequantial Method\n",
    "\n"
   ]
  },
  {
   "cell_type": "markdown",
   "metadata": {},
   "source": [
    "아래 python 프로그램은 순차법으로 $\\sqrt{10}$을 계산한다<br>Following python script calculates $\\sqrt{10}$ using sequential method.\n",
    "\n"
   ]
  },
  {
   "cell_type": "markdown",
   "metadata": {},
   "source": [
    "### 실행을 위한 준비<br>Prepare to run\n",
    "\n"
   ]
  },
  {
   "cell_type": "markdown",
   "metadata": {},
   "source": [
    "입실론 값 : `y_i` 의 절대값이 이 값 보다 작으면 `y_i == 0`인 것으로 봄<br>\n",
    "epsilon : if absolute value of `y_i` is smaller than this, we would think that `y_i == 0`.\n",
    "\n"
   ]
  },
  {
   "cell_type": "code",
   "execution_count": null,
   "metadata": {},
   "outputs": [],
   "source": [
    "epsilon = 1e-3\n",
    "\n"
   ]
  },
  {
   "cell_type": "markdown",
   "metadata": {},
   "source": [
    "`sqrt_10` 의 초기값<br>Initial value for `sqrt_10`\n",
    "\n"
   ]
  },
  {
   "cell_type": "code",
   "execution_count": null,
   "metadata": {},
   "outputs": [],
   "source": [
    "sqrt_10 = 'Not Found'\n",
    "\n"
   ]
  },
  {
   "cell_type": "markdown",
   "metadata": {},
   "source": [
    "`x_i` 의 초기값<br>Initial value of `x_i`\n",
    "\n"
   ]
  },
  {
   "cell_type": "code",
   "execution_count": null,
   "metadata": {},
   "outputs": [],
   "source": [
    "x_init = 0\n",
    "\n"
   ]
  },
  {
   "cell_type": "markdown",
   "metadata": {},
   "source": [
    "`x_i` 의 마지막 값<br>Final value of `x_i`\n",
    "\n"
   ]
  },
  {
   "cell_type": "code",
   "execution_count": null,
   "metadata": {},
   "outputs": [],
   "source": [
    "x_final = 4\n",
    "\n"
   ]
  },
  {
   "cell_type": "markdown",
   "metadata": {},
   "source": [
    "`i` 번째 `x` 값과 `i+1` 번째 `x` 값 사이의 간격<br>The interval between `i`'th and `(i+1)`'st `x`s\n",
    "\n"
   ]
  },
  {
   "cell_type": "code",
   "execution_count": null,
   "metadata": {},
   "outputs": [],
   "source": [
    "x_interval = 1e-5\n",
    "\n"
   ]
  },
  {
   "cell_type": "markdown",
   "metadata": {},
   "source": [
    "일련의 `x_i` 값을 미리 준비<br>Prepare a sequence of `x_i` values in advance\n",
    "\n"
   ]
  },
  {
   "cell_type": "code",
   "execution_count": null,
   "metadata": {},
   "outputs": [],
   "source": [
    "x_array = py.arange(x_init, x_final+x_interval*0.5, x_interval)\n",
    "\n"
   ]
  },
  {
   "cell_type": "markdown",
   "metadata": {},
   "source": [
    "몇 번 반복했는지 측정하는 변수 선언<br>\n",
    "Let's declare a variable to count the number of iterations\n",
    "\n"
   ]
  },
  {
   "cell_type": "code",
   "execution_count": null,
   "metadata": {},
   "outputs": [],
   "source": [
    "counter = 0\n",
    "\n"
   ]
  },
  {
   "cell_type": "markdown",
   "metadata": {},
   "source": [
    "### 순차법을 위한 `for` 반복문<br>The `for` loop for the sequential method\n",
    "\n"
   ]
  },
  {
   "cell_type": "code",
   "execution_count": null,
   "metadata": {},
   "outputs": [],
   "source": [
    "# x_i 에 관한 반복문\n",
    "# x_i loop\n",
    "for x_i in x_array:\n",
    "\n",
    "    # 근을 찾고자 하는 함수를 계산\n",
    "    # Evaluate the function whose root we are looking for\n",
    "\n",
    "    y_i = x_i ** 2 - 10\n",
    "\n",
    "    # 한번 반복할 때 마다 1씩 증가\n",
    "    # Increase counter variable by one\n",
    "    counter += 1\n",
    "\n",
    "    # 절대값이 입실론 값 보다 작은지 확인\n",
    "    # Check if absolute value is smaller than epsilon\n",
    "\n",
    "    if abs(y_i) < epsilon:\n",
    "\n",
    "        # 위 조건문이 참이면 근을 찾은 것임\n",
    "        # if true, we found the root\n",
    "\n",
    "        sqrt_10 = x_i\n",
    "        break\n",
    "\n"
   ]
  },
  {
   "cell_type": "markdown",
   "metadata": {},
   "source": [
    "아래 셀은 `isinstance(sqrt_10, float)` 함수의 결과값이 참인지 확인한다.  거짓이라면 `sqrt_10` 값을 화면에 표시하고 실행을 중단시킬 것이다.<br>\n",
    "Following cell tests whether the returned result of `isinstance(sqrt_10, float)` is `True`.  If not, it will present the value of `sqrt_10` and stop execution by raising an exception.\n",
    "\n"
   ]
  },
  {
   "cell_type": "code",
   "execution_count": null,
   "metadata": {},
   "outputs": [],
   "source": [
    "assert isinstance(sqrt_10, float), sqrt_10\n",
    "\n"
   ]
  },
  {
   "cell_type": "markdown",
   "metadata": {},
   "source": [
    "### 후처리<br>Postprocessing\n",
    "\n"
   ]
  },
  {
   "cell_type": "markdown",
   "metadata": {},
   "source": [
    "순차법으로 찾은 10의 제곱근<br>The square root of 10 that we just found using the sequential method\n",
    "\n"
   ]
  },
  {
   "cell_type": "code",
   "execution_count": null,
   "metadata": {},
   "outputs": [],
   "source": [
    "print('sqrt_10 =', sqrt_10)\n",
    "\n"
   ]
  },
  {
   "cell_type": "markdown",
   "metadata": {},
   "source": [
    "위 결과를 제곱해보자<br>What is the square of the value above?\n",
    "\n"
   ]
  },
  {
   "cell_type": "code",
   "execution_count": null,
   "metadata": {},
   "outputs": [],
   "source": [
    "print('sqrt_10**2 =', sqrt_10**2)\n",
    "\n"
   ]
  },
  {
   "cell_type": "markdown",
   "metadata": {},
   "source": [
    "아래 연산의 결과는 0인가?<br>Is the result of the following calculation zero?\n",
    "\n"
   ]
  },
  {
   "cell_type": "code",
   "execution_count": null,
   "metadata": {},
   "outputs": [],
   "source": [
    "print('sqrt_10 ** 2 - 10 =', sqrt_10 ** 2 - 10)\n",
    "\n"
   ]
  },
  {
   "cell_type": "markdown",
   "metadata": {},
   "source": [
    "위 결과의 의미는 무엇인가?<br>What would be the result above?\n",
    "\n"
   ]
  },
  {
   "cell_type": "markdown",
   "metadata": {},
   "source": [
    "반복 횟수는 몇 번이었는가?<br>Number of iterations?\n",
    "\n"
   ]
  },
  {
   "cell_type": "code",
   "execution_count": null,
   "metadata": {},
   "outputs": [],
   "source": [
    "print('counter =', counter)\n",
    "\n"
   ]
  },
  {
   "cell_type": "markdown",
   "metadata": {},
   "source": [
    "`epsilon`, `x_init`, `x_interval` 등 매개 변수를 바꾸어 보면서 결과가 어떻게 달라지는지 확인 해 보라.<br>\n",
    "See how the results change as you change parameters such as `epsilon`, `x_init`, and `x_interval`.\n",
    "\n"
   ]
  },
  {
   "cell_type": "markdown",
   "metadata": {},
   "source": [
    "## 순차법을 함수로 구현<br>Implementing Sequantial Method in a Function\n",
    "\n"
   ]
  },
  {
   "cell_type": "markdown",
   "metadata": {},
   "source": [
    "위 프로그램으로 어떤 수의 제곱근을 구할 수 있었다. 다른 함수의 근을 구하기에 더 편리한 형태로 바꾸면 더 좋을 것이다.<br>\n",
    "We could the sqare root of a number.  It would be even better modify so that we can easily find roots of other functions.\n",
    "\n"
   ]
  },
  {
   "cell_type": "code",
   "execution_count": null,
   "metadata": {},
   "outputs": [],
   "source": [
    "def sequential(f, x_init, x_interval, epsilon, x_final, b_print_counter=True):\n",
    "    # result 의 초기값\n",
    "    # Initial value for sqrt_10\n",
    "    result = 'Not Found'\n",
    "\n",
    "    # 일련의 x_i 값을 미리 준비한다\n",
    "    # Prepare a series of x_i values in advance\n",
    "    x_array = py.arange(x_init, x_final+x_interval*0.5, x_interval)\n",
    "\n",
    "    # 몇번 반복했는지 측정하는 변수를 선언\n",
    "    # Declare a variable to count the number of iterations\n",
    "    counter = 0\n",
    "\n",
    "    # x_i 에 관한 반복문\n",
    "    # x_i loop\n",
    "    for x_i in x_array:\n",
    "        # x = x_i 에서의 함수 f(x)값을 계산하여 y_i에 저장\n",
    "        # Evaluate the function f(x) at x = x_i and store in y_i\n",
    "        y_i = f(x_i)\n",
    "\n",
    "        # counter 변수 1 증가\n",
    "        # Increase the counter by one\n",
    "        counter += 1\n",
    "\n",
    "        # y_i 의 절대값이 epsilon 보다 작은지 확인\n",
    "        # Check if absolute value is smaller than epsilon\n",
    "        if abs(y_i) < epsilon:\n",
    "            # y_i의 절대값이 epsilon 보다 작다면 근을 찾은 것임\n",
    "            # if the absolute value of y_i is smaller than epsilon\n",
    "            # we found the root\n",
    "            result = x_i\n",
    "\n",
    "            # 근을 찾았으므로 for 반복문을 중단함\n",
    "            # As we found a root, break out of the for loop\n",
    "            break\n",
    "\n",
    "    # 반복 횟수\n",
    "    # Number of iterations\n",
    "    if b_print_counter:\n",
    "        print('counter =', counter)\n",
    "\n",
    "    # f(x)의 절대값을 epsilon 보다 작게 만드는 결과값을 반환\n",
    "    # return the result that would make \n",
    "    # the absolute value of f(x) smaller than epsilon\n",
    "    return result\n",
    "\n"
   ]
  },
  {
   "cell_type": "markdown",
   "metadata": {},
   "source": [
    "### 적용사례<br>Application example\n",
    "\n"
   ]
  },
  {
   "cell_type": "markdown",
   "metadata": {},
   "source": [
    "#### 10의 제곱근<br>square root of 10\n",
    "\n"
   ]
  },
  {
   "cell_type": "markdown",
   "metadata": {},
   "source": [
    "우리는 아래 함수를 0으로 만드는 $x$를 찾고자 한다.<br>We want to find $x$ that makes the following function zero.\n",
    "\n"
   ]
  },
  {
   "cell_type": "code",
   "execution_count": null,
   "metadata": {},
   "outputs": [],
   "source": [
    "def x_sq_minus_ten(x):\n",
    "    return (x ** 2) - 10\n",
    "\n"
   ]
  },
  {
   "cell_type": "code",
   "execution_count": null,
   "metadata": {},
   "outputs": [],
   "source": [
    "sqrt_10_function = sequential(x_sq_minus_ten, x_init, x_interval, epsilon, x_final)\n",
    "\n"
   ]
  },
  {
   "cell_type": "markdown",
   "metadata": {},
   "source": [
    "결과값<br>Result\n",
    "\n"
   ]
  },
  {
   "cell_type": "code",
   "execution_count": null,
   "metadata": {},
   "outputs": [],
   "source": [
    "sqrt_10_function\n",
    "\n"
   ]
  },
  {
   "cell_type": "markdown",
   "metadata": {},
   "source": [
    "아래 셀은 함수로 구한 결과와 이전에 구한 결과를 비교<br>Following cell compares results from function with the previous one.\n",
    "\n"
   ]
  },
  {
   "cell_type": "code",
   "execution_count": null,
   "metadata": {},
   "outputs": [],
   "source": [
    "assert abs(sqrt_10_function - sqrt_10) < epsilon, f\"previous = {sqrt_10}, new = {sqrt_10_function}\"\n",
    "\n"
   ]
  },
  {
   "cell_type": "markdown",
   "metadata": {},
   "source": [
    "We can also use `math.isclose()`.<br>\n",
    "`math.isclose()`도 사용할 수 있다.\n",
    "\n"
   ]
  },
  {
   "cell_type": "code",
   "execution_count": null,
   "metadata": {},
   "outputs": [],
   "source": [
    "import math\n",
    "assert math.isclose(sqrt_10_function, sqrt_10), f\"previous = {sqrt_10}, new = {sqrt_10_function}\"\n",
    "\n"
   ]
  },
  {
   "cell_type": "markdown",
   "metadata": {},
   "source": [
    "계산 시간:<br>Computation time.\n",
    "\n"
   ]
  },
  {
   "cell_type": "code",
   "execution_count": null,
   "metadata": {},
   "outputs": [],
   "source": [
    "%timeit sqrt_10_function = sequential(x_sq_minus_ten, x_init, x_interval, epsilon, x_final, b_print_counter=False)\n",
    "\n"
   ]
  },
  {
   "cell_type": "markdown",
   "metadata": {},
   "source": [
    "#### 5의 제곱근<br>square root of 5\n",
    "\n"
   ]
  },
  {
   "cell_type": "markdown",
   "metadata": {},
   "source": [
    "우리는 아래 함수를 0으로 만드는 $x$를 찾고자 한다.<br>We want to find $x$ that makes the following function zero.\n",
    "\n"
   ]
  },
  {
   "cell_type": "code",
   "execution_count": null,
   "metadata": {},
   "outputs": [],
   "source": [
    "def x_sq_minus_five(x):\n",
    "    return (x ** 2) - 5\n",
    "\n"
   ]
  },
  {
   "cell_type": "markdown",
   "metadata": {},
   "source": [
    "매개변수는 다음과 같다.<br>\n",
    "Parameters are as follows.\n",
    "\n"
   ]
  },
  {
   "cell_type": "code",
   "execution_count": null,
   "metadata": {},
   "outputs": [],
   "source": [
    "# y_i 의 절대값이 이 값 보다 작으면 y_i = 0으로 본다\n",
    "# If absolute value of y_i is smaller than this, we would think y_i = 0.\n",
    "epsilon = 1e-3\n",
    "\n",
    "# 순차법의 매개변수\n",
    "# Parameters of the Sequantial Method\n",
    "\n",
    "# x_i 의 초기값\n",
    "# Initial value of x_i\n",
    "x_init = 0\n",
    "\n",
    "# x_i 의 마지막 값\n",
    "# Final value of x_i\n",
    "x_final = 4\n",
    "\n",
    "# i 번째 x 값과 i+1 번째 x 값 사이의 간격\n",
    "# The interval between i'th and (i+1)'th x's\n",
    "x_interval = 1.0 / (2**12)\n",
    "\n"
   ]
  },
  {
   "cell_type": "markdown",
   "metadata": {},
   "source": [
    "제곱근을 구하기 위해 순차법 함수는 다음과 같이 호출할 수 있다.<br>To find the square root of five, we can call the function of the sequential method as follows.\n",
    "\n"
   ]
  },
  {
   "cell_type": "code",
   "execution_count": null,
   "metadata": {},
   "outputs": [],
   "source": [
    "sqrt_5 = sequential(x_sq_minus_five, x_init, x_interval, epsilon, x_final)\n",
    "\n"
   ]
  },
  {
   "cell_type": "markdown",
   "metadata": {},
   "source": [
    "순차법으로 찾은 5의 제곱근<br>\n",
    "Square root of 5 that we just found using the sequential method\n",
    "\n"
   ]
  },
  {
   "cell_type": "code",
   "execution_count": null,
   "metadata": {},
   "outputs": [],
   "source": [
    "print('sqrt_5 =', sqrt_5)\n",
    "\n"
   ]
  },
  {
   "cell_type": "markdown",
   "metadata": {},
   "source": [
    "아래 연산의 결과는 0인가?<br>\n",
    "Is the result of the following calculation zero?\n",
    "\n"
   ]
  },
  {
   "cell_type": "code",
   "execution_count": null,
   "metadata": {},
   "outputs": [],
   "source": [
    "print('sqrt_5 ** 2 - 5 =', x_sq_minus_five(sqrt_5))\n",
    "\n"
   ]
  },
  {
   "cell_type": "markdown",
   "metadata": {},
   "source": [
    "$\\epsilon$ 값과 비교<br>Check with the $\\epsilon$\n",
    "\n"
   ]
  },
  {
   "cell_type": "code",
   "execution_count": null,
   "metadata": {},
   "outputs": [],
   "source": [
    "assert math.isclose(x_sq_minus_five(sqrt_5), 0, abs_tol=epsilon), x_sq_minus_five(sqrt_5)\n",
    "\n"
   ]
  },
  {
   "cell_type": "markdown",
   "metadata": {},
   "source": [
    "계산 시간<br>Computatin time\n",
    "\n"
   ]
  },
  {
   "cell_type": "code",
   "execution_count": null,
   "metadata": {},
   "outputs": [],
   "source": [
    "%timeit sqrt_5 = sequential(x_sq_minus_five, x_init, x_interval, epsilon, x_final, b_print_counter=False)\n",
    "\n"
   ]
  },
  {
   "cell_type": "markdown",
   "metadata": {},
   "source": [
    "## 연습 문제<br>Exercises\n",
    "\n"
   ]
  },
  {
   "cell_type": "markdown",
   "metadata": {},
   "source": [
    "도전 과제 1: 다음 매개 변수값을 하나씩 바꾸어 보고 그 영향에 대한 의견을 적으시오.<br>Try this 1: Change one parameter value at a time and write down your opinion on its influence.\n",
    "\n"
   ]
  },
  {
   "cell_type": "markdown",
   "metadata": {},
   "source": [
    "|매개변수<br>Parameter | 현재값<br>Current value | 바꾸어 본 값<br>New value | 영향<br>Influence |\n",
    "|:------:|:------:|:----------:|:----------:|\n",
    "|`epsilon` | `1e-3` |   ?   |   ?   |\n",
    "|`x_init` | `0` |   ?   |   ?   |\n",
    "|`x_interval` | `1.0 / (2**12)` |   ?   |   ?   |\n",
    "\n"
   ]
  },
  {
   "cell_type": "markdown",
   "metadata": {},
   "source": [
    "도전 과제 2: $sin^2(\\theta)=0.5$ 인 $\\theta$(도)를 순차법으로 구해 보시오.<br>Try this 2: Find $\\theta$(degree) satisfying $sin^2(\\theta)=0.5$ using the sequential method.\n",
    "\n"
   ]
  },
  {
   "cell_type": "markdown",
   "metadata": {},
   "source": [
    "도전 과제 3: 관심 있는 $f(x)=0$ 문제를 정하여 그 근을 순차법으로 구해 보시오.<br>Try this 3: Find a root of a $f(x)=0$ problem of your choice using the sequential method.\n",
    "\n"
   ]
  },
  {
   "cell_type": "markdown",
   "metadata": {},
   "source": [
    "## Final Bell<br>마지막 종\n",
    "\n"
   ]
  },
  {
   "cell_type": "markdown",
   "metadata": {},
   "source": [
    "메뉴의 Cell/Run All 명령을 실행시켰을 때 문서의 모든 셀이 실행되었으면 종소리를 냄<br>When all cells executed by Cell/Run All command of the menu, generate the bell sound.\n",
    "\n"
   ]
  },
  {
   "cell_type": "code",
   "execution_count": null,
   "metadata": {},
   "outputs": [],
   "source": [
    "# stackoverfow.com/a/24634221\n",
    "import os\n",
    "os.system(\"printf '\\a'\");\n",
    "\n"
   ]
  },
  {
   "cell_type": "code",
   "execution_count": null,
   "metadata": {},
   "outputs": [],
   "source": []
  }
 ],
 "metadata": {
  "kernelspec": {
   "display_name": "Python 3",
   "language": "python",
   "name": "python3"
  },
  "language_info": {
   "codemirror_mode": {
    "name": "ipython",
    "version": 3
   },
   "file_extension": ".py",
   "mimetype": "text/x-python",
   "name": "python",
   "nbconvert_exporter": "python",
   "pygments_lexer": "ipython3",
   "version": "3.7.3"
  }
 },
 "nbformat": 4,
 "nbformat_minor": 0
}