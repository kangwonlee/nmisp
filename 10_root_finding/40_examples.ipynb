{
 "cells": [
  {
   "cell_type": "markdown",
   "metadata": {
    "id": "view-in-github",
    "colab_type": "text"
   },
   "source": [
    "<a href=\"https://colab.research.google.com/github/kangwonlee/nmisp/blob/main/10_root_finding/40_examples.ipynb\" target=\"_parent\"><img src=\"https://colab.research.google.com/assets/colab-badge.svg\" alt=\"Open In Colab\"/></a>\n"
   ]
  },
  {
   "cell_type": "code",
   "execution_count": null,
   "metadata": {},
   "outputs": [],
   "source": [
    "# This cell is for the Google Colaboratory\n",
    "# https://stackoverflow.com/a/63519730\n",
    "if 'google.colab' in str(get_ipython()):\n",
    "  path_py = '/content/nmisp_py'\n",
    "\n",
    "  import os\n",
    "  if not os.path.exists(path_py):\n",
    "    import subprocess\n",
    "    subprocess.run(\n",
    "        ('git', 'clone', 'https://github.com/kangwonlee/nmisp_py')\n",
    "    )\n",
    "  assert os.path.exists(path_py)\n",
    "\n",
    "  import sys\n",
    "  sys.path.insert(0, path_py)\n",
    "\n"
   ]
  },
  {
   "cell_type": "markdown",
   "metadata": {},
   "source": [
    "# 적용 사례<br>Examples\n",
    "\n"
   ]
  },
  {
   "cell_type": "code",
   "execution_count": null,
   "metadata": {},
   "outputs": [],
   "source": [
    "import pylab as py\n",
    "\n"
   ]
  },
  {
   "cell_type": "markdown",
   "metadata": {},
   "source": [
    "## 경사 곡선로의 자동차<br>A car on a banked curve\n",
    "\n"
   ]
  },
  {
   "cell_type": "markdown",
   "metadata": {},
   "source": [
    "ref : \n",
    "* Beer et. al., Vector Mechanics for Engineers, 8th Ed in SI, Dynamics, Sample problem 12.6, McGraw-Hill, 2007.\n",
    "* http://www.gdecarli.it/php/circuit.php?var1=794&var2=2\n",
    "\n"
   ]
  },
  {
   "cell_type": "markdown",
   "metadata": {},
   "source": [
    "[![NASCAR Racing](https://i.ytimg.com/vi/AYvdS73abgI/hqdefault.jpg)](https://youtu.be/AYvdS73abgI)\n"
   ]
  },
  {
   "cell_type": "markdown",
   "metadata": {},
   "source": [
    "### 질문<br>Question\n",
    "\n"
   ]
  },
  {
   "cell_type": "markdown",
   "metadata": {},
   "source": [
    "On a curved road with radius $\\rho=315m$ and bank angle $\\theta=31^\\circ$, what is the speed $v$(m/s) such that no lateral friction forces would exert on the vehicle?<br>\n",
    "반경 $\\rho=315m$, 횡경사각 $\\theta=31^\\circ$ 인 곡선로에서 횡방향 마찰력 없이 차량이 달릴 수 있는 속도 $v$(m/s) 는?\n",
    "\n"
   ]
  },
  {
   "cell_type": "markdown",
   "metadata": {},
   "source": [
    "### 풀이 예<br>One possible answer\n",
    "\n"
   ]
  },
  {
   "cell_type": "markdown",
   "metadata": {},
   "source": [
    "지면에 수직한 중력 가속도 성분<br>\n",
    "Component of the gravitational acceleration normal to the ground surface\n",
    "\n"
   ]
  },
  {
   "cell_type": "markdown",
   "metadata": {},
   "source": [
    "$$\n",
    "    g_n = g \\cdot cos\\theta\n",
    "$$\n",
    "\n"
   ]
  },
  {
   "cell_type": "markdown",
   "metadata": {},
   "source": [
    "지면에 평행한 중력 가속도 성분<br>\n",
    "Component of the gravitational acceleration parallel to the ground surface\n",
    "\n"
   ]
  },
  {
   "cell_type": "markdown",
   "metadata": {},
   "source": [
    "$$\n",
    "    g_p = g \\cdot sin\\theta\n",
    "$$\n",
    "\n"
   ]
  },
  {
   "cell_type": "markdown",
   "metadata": {},
   "source": [
    "원심가속도<br>\n",
    "Centrifugal Acceleration\n",
    "\n"
   ]
  },
  {
   "cell_type": "markdown",
   "metadata": {},
   "source": [
    "$$\n",
    "    a_c = \\frac{v^2}{\\rho}\n",
    "$$\n",
    "\n"
   ]
  },
  {
   "cell_type": "markdown",
   "metadata": {},
   "source": [
    "지면에 평행한 원심 가속도 성분<br>\n",
    "Component of the centrifugal Acceleration normal to the ground surface\n",
    "\n"
   ]
  },
  {
   "cell_type": "markdown",
   "metadata": {},
   "source": [
    "$$\n",
    "    a_{cp} = a_c \\cdot cos\\theta\n",
    "$$\n",
    "\n"
   ]
  },
  {
   "cell_type": "markdown",
   "metadata": {},
   "source": [
    "지면에 수직인 원심 가속도 성분<br>\n",
    "Component of the centrifugal acceleration parallel to the ground surface\n",
    "\n"
   ]
  },
  {
   "cell_type": "markdown",
   "metadata": {},
   "source": [
    "$$\n",
    "    a_{cn} = a_c \\cdot sin\\theta\n",
    "$$\n",
    "\n"
   ]
  },
  {
   "cell_type": "markdown",
   "metadata": {},
   "source": [
    "두 가속도의 지면에 평행한 성분들끼리 같으면 횡가속도는 0이 될 것이다.<br>\n",
    "If two components of accelerations parallel to the ground are the same, the lateral acceleration would be zero.\n",
    "\n"
   ]
  },
  {
   "cell_type": "markdown",
   "metadata": {},
   "source": [
    "$$\n",
    "\\begin{align}\n",
    "g_p & = a_{cp} \\\\\n",
    "gsin\\theta & = \\frac{v^2}{\\rho}cos\\theta \\\\\n",
    "gsin\\theta & - \\frac{v^2}{\\rho}cos\\theta = 0\n",
    "\\end{align}\n",
    "$$\n",
    "\n"
   ]
  },
  {
   "cell_type": "markdown",
   "metadata": {},
   "source": [
    "매개변수<br>\n",
    "Parameters\n",
    "\n"
   ]
  },
  {
   "cell_type": "code",
   "execution_count": null,
   "metadata": {},
   "outputs": [],
   "source": [
    "g_mps2 = 9.8\n",
    "theta_deg = 31\n",
    "theta_rad = py.deg2rad(theta_deg)\n",
    "rho_m = 315\n",
    "\n"
   ]
  },
  {
   "cell_type": "markdown",
   "metadata": {},
   "source": [
    "$ f(v)=0 $\n",
    "\n"
   ]
  },
  {
   "cell_type": "code",
   "execution_count": null,
   "metadata": {},
   "outputs": [],
   "source": [
    "def f(v_mps):\n",
    "    return g_mps2 * py.sin(theta_rad) - v_mps * v_mps * py.cos(theta_rad) / rho_m\n",
    "\n"
   ]
  },
  {
   "cell_type": "markdown",
   "metadata": {},
   "source": [
    "1변수 방정식 해법 함수를 불러들임\n",
    "\n"
   ]
  },
  {
   "cell_type": "code",
   "execution_count": null,
   "metadata": {},
   "outputs": [],
   "source": [
    "import root_finding as rf\n",
    "\n"
   ]
  },
  {
   "cell_type": "markdown",
   "metadata": {},
   "source": [
    "순차법<br>\n",
    "Sequential Method\n",
    "\n"
   ]
  },
  {
   "cell_type": "code",
   "execution_count": null,
   "metadata": {},
   "outputs": [],
   "source": [
    "%time v_seq_mps = rf.sequential(f, 0, 1/2**12, 1e-3, 20)\n",
    "v_seq_mps\n",
    "\n"
   ]
  },
  {
   "cell_type": "markdown",
   "metadata": {},
   "source": [
    "이분법<br>\n",
    "Bisection Method\n",
    "\n"
   ]
  },
  {
   "cell_type": "code",
   "execution_count": null,
   "metadata": {},
   "outputs": [],
   "source": [
    "%time v_bis_mps = rf.bisection(f, 0, 100, 1e-3)\n",
    "v_bis_mps\n",
    "\n"
   ]
  },
  {
   "cell_type": "markdown",
   "metadata": {},
   "source": [
    "뉴튼랩슨법<br>\n",
    "Newotn Raphson Method\n",
    "\n"
   ]
  },
  {
   "cell_type": "markdown",
   "metadata": {},
   "source": [
    "$$\n",
    "\\begin{align}\n",
    "f(v) &= gsin\\theta - \\frac{v^2}{\\rho}cos\\theta \\\\\n",
    "\\frac{d}{dv}f(v) &= - 2\\frac{v}{\\rho}cos\\theta\n",
    "\\end{align}\n",
    "$$\n",
    "\n"
   ]
  },
  {
   "cell_type": "code",
   "execution_count": null,
   "metadata": {},
   "outputs": [],
   "source": [
    "def df(v_mps):\n",
    "    return - 2 * v_mps * py.cos(theta_rad) / rho_m\n",
    "\n"
   ]
  },
  {
   "cell_type": "code",
   "execution_count": null,
   "metadata": {},
   "outputs": [],
   "source": [
    "%time v_nr_mps = rf.newton_raphson(f, df, 1, 1e-3)\n",
    "v_nr_mps\n",
    "\n"
   ]
  },
  {
   "cell_type": "markdown",
   "metadata": {},
   "source": [
    "## 여러 구간으로 나누어진 연속 함수<br>A piecewise continuous function\n",
    "\n"
   ]
  },
  {
   "cell_type": "markdown",
   "metadata": {},
   "source": [
    "$$\n",
    "h(x) = p(x) - \\sqrt{2}\n",
    "$$\n",
    "\n"
   ]
  },
  {
   "cell_type": "markdown",
   "metadata": {},
   "source": [
    "$$\n",
    "p(x) = \n",
    "\\begin{cases}\n",
    "x & x < -1 \\\\\n",
    "sin \\frac{\\pi}{2} x & -1 \\leq x < 1 \\\\\n",
    "x & 1 < x\n",
    "\\end{cases}\n",
    "$$\n",
    "\n"
   ]
  },
  {
   "cell_type": "markdown",
   "metadata": {},
   "source": [
    "아래 함수는 float 형 매개변수를 받아들일 것이다<br>\n",
    "    Ths function below expects a float argument<br>\n",
    "반환형은 float형 일 것이다.<br>\n",
    "    Also expected to return a float variable.\n",
    "\n"
   ]
  },
  {
   "cell_type": "code",
   "execution_count": null,
   "metadata": {},
   "outputs": [],
   "source": [
    "def h(x: float) -> float:\n",
    "    return p(x) - 2 ** (-0.5)\n",
    "\n"
   ]
  },
  {
   "cell_type": "markdown",
   "metadata": {},
   "source": [
    "이 경우 `p(x)` 함수는 `h(x)` 함수를 호출 하기 전에 정의되면 된다.<br>\n",
    "In this case, we need to define the `p(x)` function before calling `h(x).\n",
    "\n"
   ]
  },
  {
   "cell_type": "code",
   "execution_count": null,
   "metadata": {},
   "outputs": [],
   "source": [
    "def p(x: float) -> float:\n",
    "    if (-1 > x) or (1 < x):\n",
    "        result = x\n",
    "    else :\n",
    "        result = py.sin(py.pi * x * 0.5)\n",
    "\n",
    "    return result\n",
    "\n"
   ]
  },
  {
   "cell_type": "code",
   "execution_count": null,
   "metadata": {},
   "outputs": [],
   "source": [
    "x = py.linspace(-2, 2)\n",
    "y = py.array([h(xi) for xi in x])\n",
    "\n",
    "py.plot(x, y, '.')\n",
    "py.grid(True)\n",
    "py.xlabel('x')\n",
    "py.ylabel('h(x)')\n",
    "\n"
   ]
  },
  {
   "cell_type": "markdown",
   "metadata": {},
   "source": [
    "순차법<br>\n",
    "Sequential Method\n",
    "\n"
   ]
  },
  {
   "cell_type": "code",
   "execution_count": null,
   "metadata": {},
   "outputs": [],
   "source": [
    "%time x_seq = rf.sequential(h, 0, 1/2**12, 1e-3, 1)\n",
    "x_seq\n",
    "\n"
   ]
  },
  {
   "cell_type": "markdown",
   "metadata": {},
   "source": [
    "이분법<br>\n",
    "Bisection Method\n",
    "\n"
   ]
  },
  {
   "cell_type": "code",
   "execution_count": null,
   "metadata": {
    "scrolled": true
   },
   "outputs": [],
   "source": [
    "%time x_bis = rf.bisection(h, 0, 3, 1e-3)\n",
    "x_bis\n",
    "\n"
   ]
  },
  {
   "cell_type": "markdown",
   "metadata": {},
   "source": [
    "뉴튼법<br>\n",
    "Newton-Raphson Method\n",
    "\n"
   ]
  },
  {
   "cell_type": "markdown",
   "metadata": {},
   "source": [
    "함수 $h(x)$ 는 $x=\\pm 1$ 에서 기울기가 불연속이다.<br>\n",
    "The slope of the function $h(x)$ is not continuous at $x=\\pm 1$.\n",
    "\n"
   ]
  },
  {
   "cell_type": "markdown",
   "metadata": {},
   "source": [
    "기울기를 구하기 위해 아래 함수를 사용해 보자.<br>\n",
    "To find the slopes, let's use following function.\n",
    "\n"
   ]
  },
  {
   "cell_type": "markdown",
   "metadata": {},
   "source": [
    "$$\n",
    "q(x) = \n",
    "\\begin{cases}\n",
    "1 & x < -1 \\\\\n",
    "\\frac{\\pi}{2} cos \\frac{\\pi}{2} x & -1 \\leq x < 1 \\\\\n",
    "1 & 1 < x\n",
    "\\end{cases}\n",
    "$$\n",
    "\n"
   ]
  },
  {
   "cell_type": "code",
   "execution_count": null,
   "metadata": {},
   "outputs": [],
   "source": [
    "def q(x: float) -> float:\n",
    "    if (-1 > x) or (1 < x):\n",
    "        result = 1\n",
    "    else :\n",
    "        result = (py.pi * 0.5) * py.sin(py.pi * x * 0.5)\n",
    "\n",
    "    return result\n",
    "\n"
   ]
  },
  {
   "cell_type": "code",
   "execution_count": null,
   "metadata": {
    "scrolled": true
   },
   "outputs": [],
   "source": [
    "%time x_nr = rf.newton_raphson(h, q, .1, 1e-3)\n",
    "x_nr\n",
    "\n"
   ]
  },
  {
   "cell_type": "markdown",
   "metadata": {},
   "source": [
    "## 유한한 구간에만 정의된 함수<br>A function defined within a finite interval\n",
    "\n"
   ]
  },
  {
   "cell_type": "markdown",
   "metadata": {},
   "source": [
    "$$\n",
    "r(x) = 2\\sqrt{1-\\frac{x^2}{4^2}} - \\frac{1}{2}\n",
    "$$\n",
    "\n"
   ]
  },
  {
   "cell_type": "markdown",
   "metadata": {},
   "source": [
    "함수 $r(x)$ 는 아래 구간에서만 정의된다.<br>\n",
    "Function $r(x)$ is defined within the following interval only.\n",
    "\n"
   ]
  },
  {
   "cell_type": "markdown",
   "metadata": {},
   "source": [
    "$$ -4 \\leq x \\leq 4 $$\n",
    "\n"
   ]
  },
  {
   "cell_type": "code",
   "execution_count": null,
   "metadata": {},
   "outputs": [],
   "source": [
    "def r(x: float) -> float:\n",
    "    return 2 * (1 - (x**2)/16) ** 0.5 - 0.5\n",
    "\n"
   ]
  },
  {
   "cell_type": "code",
   "execution_count": null,
   "metadata": {},
   "outputs": [],
   "source": [
    "x = 4 * py.cos(py.deg2rad(py.arange(180, 0-1, -1)))\n",
    "\n",
    "py.plot(x, r(x), '.')\n",
    "py.grid(True)\n",
    "py.xlabel('x')\n",
    "py.ylabel('r(x)')\n",
    "py.axis('equal');\n",
    "\n"
   ]
  },
  {
   "cell_type": "markdown",
   "metadata": {},
   "source": [
    "순차법<br>\n",
    "Sequential Method\n",
    "\n"
   ]
  },
  {
   "cell_type": "code",
   "execution_count": null,
   "metadata": {},
   "outputs": [],
   "source": [
    "%time x_seq_interval = rf.sequential(r, 0, 1/2**12, 1e-3, 3.9)\n",
    "x_seq_interval\n",
    "\n"
   ]
  },
  {
   "cell_type": "markdown",
   "metadata": {},
   "source": [
    "이분법<br>\n",
    "Bisection Method\n",
    "\n"
   ]
  },
  {
   "cell_type": "code",
   "execution_count": null,
   "metadata": {
    "scrolled": true
   },
   "outputs": [],
   "source": [
    "%time x_bis_interval = rf.bisection(r, 0, 3.9, 1e-3)\n",
    "x_bis_interval\n",
    "\n"
   ]
  },
  {
   "cell_type": "markdown",
   "metadata": {},
   "source": [
    "뉴튼법을 위한 $r(x)$ 함수의 미분<br>\n",
    "Derivative of $r(x)$ for the Newton Raphson method\n",
    "\n"
   ]
  },
  {
   "cell_type": "code",
   "execution_count": null,
   "metadata": {},
   "outputs": [],
   "source": [
    "import sympy as sym\n",
    "\n",
    "x = sym.symbols('x', real=True)\n",
    "r_sym = 2 * sym.sqrt(1 - (x/4)**2) -  1 / 2\n",
    "\n"
   ]
  },
  {
   "cell_type": "code",
   "execution_count": null,
   "metadata": {},
   "outputs": [],
   "source": [
    "r_sym.diff(x)\n",
    "\n"
   ]
  },
  {
   "cell_type": "code",
   "execution_count": null,
   "metadata": {},
   "outputs": [],
   "source": [
    "print(sym.python(r_sym.diff(x)))\n",
    "\n"
   ]
  },
  {
   "cell_type": "code",
   "execution_count": null,
   "metadata": {},
   "outputs": [],
   "source": [
    "def drdx(x:float) -> float:\n",
    "    return float((-x / 8) * (1 - (x**2)/16) ** (-0.5))\n",
    "\n"
   ]
  },
  {
   "cell_type": "markdown",
   "metadata": {},
   "source": [
    "그러나, 함수 `drdx()` 는 $\\left| x \\right| > 4$ 일 경우 예외 Exception 을 발생시킬 것이다.<br>However, function `drdx()` would raise an Exception if  $\\left| x \\right| > 4$.\n",
    "\n"
   ]
  },
  {
   "cell_type": "code",
   "execution_count": null,
   "metadata": {},
   "outputs": [],
   "source": [
    "# try:\n",
    "#     %time x_nr_interval = rf.newton_raphson(r, drdx, .1, 1e-3)\n",
    "#     x_nr_interval\n",
    "# except TypeError as te:\n",
    "#     print(te)\n",
    "# except NameError as ne:\n",
    "#     print(ne)\n",
    "\n"
   ]
  },
  {
   "cell_type": "markdown",
   "metadata": {},
   "source": [
    "## 여러 구간으로 나누어진 불연속 함수<br>A piecewise discontinuous function\n",
    "\n"
   ]
  },
  {
   "cell_type": "markdown",
   "metadata": {},
   "source": [
    "$$\n",
    "s(x) = t(x) - \\sqrt{2}\n",
    "$$\n",
    "\n"
   ]
  },
  {
   "cell_type": "markdown",
   "metadata": {},
   "source": [
    "$$\n",
    "t(x) = \n",
    "\\begin{cases}\n",
    "x & x < -1 \\\\\n",
    "sin \\pi x & -1 \\leq x < 1 \\\\\n",
    "x & 1 < x\n",
    "\\end{cases}\n",
    "$$\n",
    "\n"
   ]
  },
  {
   "cell_type": "code",
   "execution_count": null,
   "metadata": {},
   "outputs": [],
   "source": [
    "def s(x: float) -> float:\n",
    "    return t(x) - 2 ** (-0.5)\n",
    "\n"
   ]
  },
  {
   "cell_type": "code",
   "execution_count": null,
   "metadata": {},
   "outputs": [],
   "source": [
    "def t(x: float) -> float:\n",
    "    if (-1 > x) or (1 < x):\n",
    "        result = x\n",
    "    else :\n",
    "        result = py.sin(py.pi * x)\n",
    "\n",
    "    return result\n",
    "\n"
   ]
  },
  {
   "cell_type": "code",
   "execution_count": null,
   "metadata": {},
   "outputs": [],
   "source": [
    "x = py.linspace(-2, 2)\n",
    "y = py.array([s(xi) for xi in x])\n",
    "\n",
    "py.plot(x, y, '.')\n",
    "py.grid(True)\n",
    "py.xlabel('x')\n",
    "py.ylabel('s(x)')\n",
    "\n"
   ]
  },
  {
   "cell_type": "markdown",
   "metadata": {},
   "source": [
    "순차법<br>\n",
    "Sequential Method\n",
    "\n"
   ]
  },
  {
   "cell_type": "code",
   "execution_count": null,
   "metadata": {},
   "outputs": [],
   "source": [
    "%time x_seq = rf.sequential(s, 0, 1/2**12, 1e-3, 1)\n",
    "x_seq\n",
    "\n"
   ]
  },
  {
   "cell_type": "markdown",
   "metadata": {},
   "source": [
    "이분법<br>\n",
    "Bisection Method\n",
    "\n"
   ]
  },
  {
   "cell_type": "code",
   "execution_count": null,
   "metadata": {
    "scrolled": true
   },
   "outputs": [],
   "source": [
    "%time x_bis = rf.bisection(s, 0, 0.51, 1e-3)\n",
    "x_bis\n",
    "\n"
   ]
  },
  {
   "cell_type": "markdown",
   "metadata": {},
   "source": [
    "뉴튼법<br>\n",
    "Newton-Raphson Method\n",
    "\n"
   ]
  },
  {
   "cell_type": "markdown",
   "metadata": {},
   "source": [
    "함수 $h(x)$ 는 $x=\\pm 1$ 에서 기울기가 불연속이다.<br>\n",
    "The slope of the function $h(x)$ is not continuous at $x=\\pm 1$.\n",
    "\n"
   ]
  },
  {
   "cell_type": "markdown",
   "metadata": {},
   "source": [
    "기울기를 구하기 위해 아래 함수를 사용해 보자.<br>\n",
    "To find the slopes, let's use following function.\n",
    "\n"
   ]
  },
  {
   "cell_type": "markdown",
   "metadata": {},
   "source": [
    "$$\n",
    "q(x) = \n",
    "\\begin{cases}\n",
    "1 & x < -1 \\\\\n",
    "\\pi cos \\pi x & -1 \\leq x < 1 \\\\\n",
    "1 & 1 < x\n",
    "\\end{cases}\n",
    "$$\n",
    "\n"
   ]
  },
  {
   "cell_type": "code",
   "execution_count": null,
   "metadata": {},
   "outputs": [],
   "source": [
    "def u(x: float) -> float:\n",
    "    if (-1 > x) or (1 < x):\n",
    "        result = 1\n",
    "    else :\n",
    "        result = py.pi * py.sin(py.pi * x)\n",
    "\n",
    "    return result\n",
    "\n"
   ]
  },
  {
   "cell_type": "code",
   "execution_count": null,
   "metadata": {
    "scrolled": true
   },
   "outputs": [],
   "source": [
    "%time x_nr = rf.newton_raphson(s, u, .1, 1e-3)\n",
    "x_nr\n",
    "\n"
   ]
  },
  {
   "cell_type": "code",
   "execution_count": null,
   "metadata": {
    "scrolled": true
   },
   "outputs": [],
   "source": [
    "%time x_nr = rf.newton_raphson(s, u, .9, 1e-3)\n",
    "x_nr\n",
    "\n"
   ]
  },
  {
   "cell_type": "markdown",
   "metadata": {},
   "source": [
    "## 연습 문제<br>Exercises\n",
    "\n"
   ]
  },
  {
   "cell_type": "markdown",
   "metadata": {},
   "source": [
    "도전과제 1 : 반지름이 다음과 같을 때, 시속 160 km의 차량이 횡방향 마찰력 없이 주행할 수 있는 경사각($^\\circ$)은?<br>\n",
    "Try this 1 : With following radius, what would be the bank angle ($^\\circ$) such that a vehicle of 160km/hr can travel without lateral friction force?\n",
    "\n"
   ]
  },
  {
   "cell_type": "markdown",
   "metadata": {},
   "source": [
    "$$\n",
    "\\rho = 200(m)\n",
    "$$\n",
    "\n"
   ]
  },
  {
   "cell_type": "code",
   "execution_count": null,
   "metadata": {},
   "outputs": [],
   "source": []
  },
  {
   "cell_type": "markdown",
   "metadata": {},
   "source": [
    "## Final Bell<br>마지막 종\n",
    "\n"
   ]
  },
  {
   "cell_type": "code",
   "execution_count": null,
   "metadata": {},
   "outputs": [],
   "source": [
    "# stackoverfow.com/a/24634221\n",
    "import os\n",
    "os.system(\"printf '\\a'\");\n",
    "\n"
   ]
  },
  {
   "cell_type": "code",
   "execution_count": null,
   "metadata": {},
   "outputs": [],
   "source": []
  }
 ],
 "metadata": {
  "kernelspec": {
   "display_name": "Python 3",
   "language": "python",
   "name": "python3"
  },
  "language_info": {
   "codemirror_mode": {
    "name": "ipython",
    "version": 3
   },
   "file_extension": ".py",
   "mimetype": "text/x-python",
   "name": "python",
   "nbconvert_exporter": "python",
   "pygments_lexer": "ipython3",
   "version": "3.8.8"
  }
 },
 "nbformat": 4,
 "nbformat_minor": 2
}