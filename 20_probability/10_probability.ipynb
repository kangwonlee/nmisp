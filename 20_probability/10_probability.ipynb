{
 "cells": [
  {
   "cell_type": "markdown",
   "metadata": {
    "id": "view-in-github",
    "colab_type": "text"
   },
   "source": [
    "<a href=\"https://colab.research.google.com/github/kangwonlee/nmisp/blob/dependabot/pip/tests/requests-2.31.0/20_probability/10_probability.ipynb\" target=\"_parent\"><img src=\"https://colab.research.google.com/assets/colab-badge.svg\" alt=\"Open In Colab\"/></a>\n"
   ]
  },
  {
   "cell_type": "markdown",
   "metadata": {},
   "source": [
    "# 우직한 방식의 확률 계산<br>Brute Force Probability\n",
    "\n"
   ]
  },
  {
   "cell_type": "markdown",
   "metadata": {},
   "source": [
    "What if we mobilize computers' massive processing power and memory capacity to compute probabilities by, let's say, generate all possible cases?<br>\n",
    "컴퓨터의 방대한 처리 능력과 기역 용량을 확률 계산에 사용하기 위해, 이를테면, 모든 경우를 발생시켜본다면 어떨까?\n",
    "\n"
   ]
  },
  {
   "cell_type": "markdown",
   "metadata": {},
   "source": [
    "##  주사위 확률 예<br>An example of die roll probability\n",
    "\n"
   ]
  },
  {
   "cell_type": "markdown",
   "metadata": {},
   "source": [
    "* 다음 비디오 에서는 주사위를 세 번 굴릴 때 세 번 짝수가 나올 확률을 계산한다.<br>Following video shows the probability of getting three even numbers when rolling a dice three times.\n",
    "\n"
   ]
  },
  {
   "cell_type": "markdown",
   "metadata": {},
   "source": [
    "[![Die rolling probability with independent events | Precalculus | Khan Academy](https://i.ytimg.com/vi/2MYA8Ba2PvM/hqdefault.jpg)](https://www.youtube.com/watch?v=2MYA8Ba2PvM&list=PLSQl0a2vh4HB1V0qq5TxqnbIlyi_AZ-3_)\n",
    "\n"
   ]
  },
  {
   "cell_type": "markdown",
   "metadata": {},
   "source": [
    "* 확인해보자.<br>Let's see if that would be correct.\n",
    "\n"
   ]
  },
  {
   "cell_type": "markdown",
   "metadata": {},
   "source": [
    "* 우선 모든 경우를 발생시켜 보자.<br>First, let's generate all possible cases.\n",
    "\n"
   ]
  },
  {
   "cell_type": "code",
   "execution_count": null,
   "metadata": {},
   "outputs": [],
   "source": [
    "all_list = []\n",
    "\n",
    "for d1 in range(1, 6+1):\n",
    "    for d2 in range(1, 6+1):\n",
    "        for d3 in range(1, 6+1):\n",
    "            all_list.append((d1, d2, d3))\n",
    "\n",
    "print(f'len(all_list) = {len(all_list)}')\n",
    "all_list[:10]\n",
    "\n"
   ]
  },
  {
   "cell_type": "markdown",
   "metadata": {},
   "source": [
    "* 모든 경우를 발생시키는 함수를 만들어 보자.<br>Let's make a function generating all cases.\n",
    "\n"
   ]
  },
  {
   "cell_type": "code",
   "execution_count": null,
   "metadata": {},
   "outputs": [],
   "source": [
    "def all_cases():\n",
    "    all_list = []\n",
    "    for d1 in range(1, 6+1):\n",
    "        for d2 in range(1, 6+1):\n",
    "            for d3 in range(1, 6+1):\n",
    "                all_list.append((d1, d2, d3))\n",
    "\n",
    "    return tuple(all_list)\n",
    "\n"
   ]
  },
  {
   "cell_type": "markdown",
   "metadata": {},
   "source": [
    "* 이번에는 모두 짝수인 경우만 세는 기능을 추가해 보자.<br>This time, let's add lines counting all even number cases.\n",
    "\n"
   ]
  },
  {
   "cell_type": "code",
   "execution_count": null,
   "metadata": {},
   "outputs": [],
   "source": [
    "all_list = all_cases()\n",
    "all_even_list = []\n",
    "\n",
    "for throws in all_list:\n",
    "    if all(map(lambda dice: not(dice % 2), throws)):\n",
    "        all_even_list.append(throws)\n",
    "\n",
    "print(f'len(all_even_list) = {len(all_even_list)}')\n",
    "all_even_list[:10]\n",
    "\n"
   ]
  },
  {
   "cell_type": "markdown",
   "metadata": {},
   "source": [
    "* 모두 짝수인 경우를 세는 기능도 함수로 만들어 보자.<br>Let's make function that will filter all even number cases.\n",
    "\n"
   ]
  },
  {
   "cell_type": "code",
   "execution_count": null,
   "metadata": {},
   "outputs": [],
   "source": [
    "def filter_all_even(all_list):\n",
    "    result = []\n",
    "\n",
    "    for throws in all_list:\n",
    "        if all(map(lambda dice: not(dice % 2), throws)):\n",
    "            result.append(throws)\n",
    "\n",
    "    return tuple(result)\n",
    "\n"
   ]
  },
  {
   "cell_type": "markdown",
   "metadata": {},
   "source": [
    "* 확률을 계산해 보자.<br>Let's calculate the probability.\n",
    "\n"
   ]
  },
  {
   "cell_type": "code",
   "execution_count": null,
   "metadata": {},
   "outputs": [],
   "source": [
    "all_list = all_cases()\n",
    "all_even_list = filter_all_even(all_list)\n",
    "\n",
    "print(f'probability = {len(all_even_list) / len(all_list)}')\n",
    "\n"
   ]
  },
  {
   "cell_type": "markdown",
   "metadata": {},
   "source": [
    "* 동영상에서 처럼 확률을 분수로 표시해 보자.<br>Like in video, let's indicate the probability in fraction.\n",
    "\n"
   ]
  },
  {
   "cell_type": "code",
   "execution_count": null,
   "metadata": {},
   "outputs": [],
   "source": [
    "all_list = all_cases()\n",
    "all_even_list = filter_all_even(all_list)\n",
    "\n",
    "import fractions as fr\n",
    "probability = fr.Fraction(len(all_even_list), len(all_list))\n",
    "\n",
    "print(f'probability = {probability}')\n",
    "\n"
   ]
  },
  {
   "cell_type": "markdown",
   "metadata": {},
   "source": [
    "What if the number of trials change?<br>\n",
    "시도 횟수가 달라진다면 어떤가?\n",
    "\n"
   ]
  },
  {
   "cell_type": "markdown",
   "metadata": {},
   "source": [
    "##  카드 놀이 확률 예<br>An example of playing card probability\n",
    "\n"
   ]
  },
  {
   "cell_type": "markdown",
   "metadata": {},
   "source": [
    "* 다음 비디오 에서는 카드를 한장 뽑을 때 하트 또는 J 가 나올 확률을 계산한다.<br>Following video calculates the probability of getting a heard or a jack when picking up one card.\n",
    "\n"
   ]
  },
  {
   "cell_type": "markdown",
   "metadata": {},
   "source": [
    "[![Probability with playing cards and Venn diagrams | Probability and Statistics | Khan Academy](https://i.ytimg.com/vi/obZzOq_wSCg/hqdefault.jpg)](https://www.youtube.com/watch?v=obZzOq_wSCg&index=2&list=PLC58778F28211FA19)\n",
    "\n"
   ]
  },
  {
   "cell_type": "markdown",
   "metadata": {},
   "source": [
    "* 아래와 같이 모든 카드를 준비할 수 있다.<br>We may prepare for all cards as follows.\n",
    "\n"
   ]
  },
  {
   "cell_type": "code",
   "execution_count": null,
   "metadata": {},
   "outputs": [],
   "source": [
    "def gen_all_cards():\n",
    "    all_cards_set = set()\n",
    "\n",
    "    for suit in '♠♣♥♦':\n",
    "        for rank in list('A23456789')+['10']+list('JQK'):\n",
    "            all_cards_set.add(suit+rank)\n",
    "\n",
    "    return all_cards_set\n",
    "\n",
    "all_cards_set = gen_all_cards()\n",
    "print(f'len(all_cards_set) = {len(all_cards_set)}')\n",
    "\n",
    "# pretty print\n",
    "# 화면 표시를 좀 더 보기 좋게 만들어주는 모듈\n",
    "import pprint\n",
    "a_long_string = ', '.join(all_cards_set)\n",
    "pprint.pprint(a_long_string)\n",
    "\n"
   ]
  },
  {
   "cell_type": "markdown",
   "metadata": {},
   "source": [
    "[`itertools.product()`](https://docs.python.org/3/library/itertools.html#itertools.product) can generate cartesian products.<br>\n",
    "[`itertools.product()`](https://docs.python.org/3/library/itertools.html#itertools.product)는 카테시안 곱을 발생시킬 수 있다.\n",
    "\n"
   ]
  },
  {
   "cell_type": "markdown",
   "metadata": {},
   "source": [
    "We can rewrite the `gen_all_cards()` function as follows.<br>\n",
    "다음과 같이 `gen_all_cards()` 함수를 고쳐 써 볼 수 있다.\n",
    "\n"
   ]
  },
  {
   "cell_type": "code",
   "execution_count": null,
   "metadata": {},
   "outputs": [],
   "source": [
    "import itertools\n",
    "\n",
    "def gen_all_cards_itertools():\n",
    "    suits = \"♠♣♥♦\"\n",
    "    ranks = list('A23456789')+['10']+list('JQK')\n",
    "\n",
    "    return list(\n",
    "        map(\n",
    "          lambda t: ''.join(t),\n",
    "          itertools.product(suits, ranks)\n",
    "        )\n",
    "    )\n",
    "\n",
    "pprint.pprint(\", \".join(gen_all_cards_itertools()), width=57)\n",
    "\n"
   ]
  },
  {
   "cell_type": "markdown",
   "metadata": {},
   "source": [
    "If tests of the following cell pass, we can say that the two functions generate equivalent results<br>\n",
    "아래 셀의 테스트를 통과한다면, 두 함수의 결과는 동등하다고 말할 수 있을 것이다.\n",
    "\n"
   ]
  },
  {
   "cell_type": "code",
   "execution_count": null,
   "metadata": {},
   "outputs": [],
   "source": [
    "assert len(gen_all_cards()) == len(gen_all_cards_itertools())\n",
    "assert set(gen_all_cards()) == set(gen_all_cards_itertools())\n",
    "\n"
   ]
  },
  {
   "cell_type": "markdown",
   "metadata": {},
   "source": [
    "* 조건을 만족하는 카드만 세어 보기로 하자.<br>Let's count cards that satisfy the condition.\n",
    "\n"
   ]
  },
  {
   "cell_type": "code",
   "execution_count": null,
   "metadata": {},
   "outputs": [],
   "source": [
    "def count_heart_j(card_set):\n",
    "    heart_or_j_set = set()\n",
    "    \n",
    "    for card in card_set:\n",
    "        if card.startswith('♥'):\n",
    "            heart_or_j_set.add(card)\n",
    "        elif card.endswith('J'):\n",
    "            heart_or_j_set.add(card)\n",
    "\n",
    "    return heart_or_j_set\n",
    "\n",
    "heart_or_j_set = count_heart_j(all_cards_set)\n",
    "\n",
    "print(f'len(heart_or_j_set) = {len(heart_or_j_set)}')\n",
    "print(f'len(all_cards_set) = {len(all_cards_set)}')\n",
    "\n",
    "probability = fr.Fraction(len(heart_or_j_set), len(all_cards_set))\n",
    "\n",
    "print(f'probability = {probability}')\n",
    "\n"
   ]
  },
  {
   "cell_type": "markdown",
   "metadata": {},
   "source": [
    "* Joker 카드가 있는 경우는 어떨까?<br>What if we also have a Joker card?\n",
    "\n"
   ]
  },
  {
   "cell_type": "code",
   "execution_count": null,
   "metadata": {},
   "outputs": [],
   "source": [
    "all_cards_set = gen_all_cards()\n",
    "all_cards_set.add('Joker')\n",
    "\n",
    "def count_heart_j_joker(card_set):\n",
    "    heart_or_j_set = set()\n",
    "    \n",
    "    for card in card_set:\n",
    "        if card.startswith('♥'):\n",
    "            heart_or_j_set.add(card)\n",
    "        elif card.endswith('J'):\n",
    "            heart_or_j_set.add(card)\n",
    "        elif 'joker' == card.lower():\n",
    "            heart_or_j_set.add(card)\n",
    "\n",
    "    return heart_or_j_set\n",
    "\n",
    "heart_or_j_set = count_heart_j_joker(all_cards_set)\n",
    "\n",
    "print(f'len(heart_or_j_set) = {len(heart_or_j_set)}')\n",
    "print(f'len(all_cards_set) = {len(all_cards_set)}')\n",
    "\n",
    "probability = fr.Fraction(len(heart_or_j_set), len(all_cards_set))\n",
    "\n",
    "print(f'probability = {probability} = {float(probability):g}')\n",
    "\n"
   ]
  },
  {
   "cell_type": "markdown",
   "metadata": {},
   "source": [
    "##  An arbitrary triangle on a circle and the center of the circle <br>원주 위의 세 점으로 만들어지는 삼각형과 원의 중심\n",
    "\n"
   ]
  },
  {
   "cell_type": "markdown",
   "metadata": {},
   "source": [
    "3Blue3Brown, The hardest problem on the hardest test, s. 111 ~ 262, Dec 09 2017, YouTube.\n",
    "\n"
   ]
  },
  {
   "cell_type": "markdown",
   "metadata": {},
   "source": [
    "[![The hardest problem on the hardest test | 3Blue1Brown](https://i.ytimg.com/vi/OkmNXy7er84/hqdefault.jpg)](https://www.youtube.com/watch?v=OkmNXy7er84&start=111&end=262)\n",
    "\n"
   ]
  },
  {
   "cell_type": "markdown",
   "metadata": {},
   "source": [
    "Let's consider a circle as follows.<br>\n",
    "다음과 같은 원을 생각해 보자.\n",
    "\n"
   ]
  },
  {
   "cell_type": "code",
   "execution_count": null,
   "metadata": {},
   "outputs": [],
   "source": [
    "import matplotlib.pyplot as plt\n",
    "import numpy as np\n",
    "import numpy.random as nr\n",
    "\n",
    "\n",
    "def get_xy(theta_deg, r=1.0):\n",
    "    theta_rad = np.deg2rad(theta_deg)\n",
    "    x = r * np.cos(theta_rad)\n",
    "    y = r * np.sin(theta_rad)\n",
    "\n",
    "    return x, y\n",
    "\n",
    "\n",
    "def get_ax(ax=None):\n",
    "    if ax is None:\n",
    "        ax = plt.gca()\n",
    "    return ax\n",
    "\n",
    "\n",
    "def plot_c(theta_o_deg, r=1.0, ax=None):\n",
    "    ax = get_ax(ax=None)\n",
    "\n",
    "    theta_deg = np.concatenate((theta_o_deg, np.array([theta_o_deg[0]])))\n",
    "    x, y = get_xy(theta_deg, r=r)\n",
    "    ax.plot(x, y)\n",
    "    plt.axis(\"equal\")\n",
    "\n",
    "    ax.grid(True)\n",
    "\n",
    "    return ax\n",
    "\n",
    "\n",
    "def draw_a_circle(r=1.0, ax=None):\n",
    "    theta_o_deg = np.arange(0, 360)\n",
    "    return plot_c(theta_o_deg, r=r, ax=ax)\n",
    "\n",
    "\n",
    "ax = draw_a_circle()\n",
    "\n"
   ]
  },
  {
   "cell_type": "markdown",
   "metadata": {},
   "source": [
    "It may have an inscribed triangle as follows.<br>\n",
    "아래와 같이 내접하는 삼각형도 가능할 것이다.\n",
    "\n"
   ]
  },
  {
   "cell_type": "code",
   "execution_count": null,
   "metadata": {
    "scrolled": true
   },
   "outputs": [],
   "source": [
    "angles_deg = nr.randint(low=0, high=359, size=(3,))\n",
    "\n",
    "\n",
    "def draw_polygon(angles_deg:np.ndarray, ax=None):\n",
    "    plot_c(np.array(angles_deg), ax=ax)\n",
    "\n",
    "\n",
    "def draw_spokes(angles_deg:np.ndarray, ax=None, alpha=0.3):\n",
    "    ax = get_ax(ax=None)\n",
    "    x, y = get_xy(angles_deg)\n",
    "    X = np.concatenate([np.zeros_like(x), x]).reshape((2, len(x)))\n",
    "    Y = np.concatenate([np.zeros_like(y), y]).reshape((2, len(y)))\n",
    "\n",
    "    for x_spoke, y_spoke in zip(X.T.tolist(), Y.T.tolist()):\n",
    "        ax.plot(x_spoke, y_spoke, alpha=alpha)\n",
    "\n",
    "ax = draw_a_circle()\n",
    "draw_polygon(angles_deg)\n",
    "draw_spokes(angles_deg)\n",
    "\n"
   ]
  },
  {
   "cell_type": "markdown",
   "metadata": {},
   "source": [
    "Let's say that if the maximum central angle is less than or equal to 180 degrees, the center of the circle would be inside of the triangle.<br>\n",
    "최대 중심각이 180도 이하이면 원의 중심이 삼각형의 내부에 있는 것으로 하자.\n",
    "\n"
   ]
  },
  {
   "cell_type": "code",
   "execution_count": null,
   "metadata": {},
   "outputs": [],
   "source": [
    "def is_center_inside(angles_deg) -> bool:\n",
    "    \"\"\"\n",
    "    max of center angle <= 180\n",
    "    \"\"\"\n",
    "\n",
    "    if 180 > max(angles_deg):\n",
    "        result = False\n",
    "    elif 180 < min(angles_deg):\n",
    "        result = False\n",
    "    else:\n",
    "        angles_list = list(angles_deg)\n",
    "        angles_list.sort()\n",
    "\n",
    "        angle_0_1 = angles_list[1] - angles_list[0]\n",
    "        angle_1_2 = angles_list[2] - angles_list[1]\n",
    "        alges_2_0 = (360 - angles_list[2]) + angles_list[0]\n",
    "        \n",
    "        result = (max((angle_0_1, angle_1_2, alges_2_0)) <= 180)\n",
    "    return result\n",
    "\n"
   ]
  },
  {
   "cell_type": "code",
   "execution_count": null,
   "metadata": {
    "scrolled": true
   },
   "outputs": [],
   "source": [
    "a_triangle_deg = (0, 60, 180)\n",
    "ax = draw_a_circle()\n",
    "draw_polygon(a_triangle_deg)\n",
    "draw_spokes(a_triangle_deg)\n",
    "plt.plot((0,), (0,), '.')\n",
    "print(\"Is center inside?\", is_center_inside(a_triangle_deg))\n",
    "\n"
   ]
  },
  {
   "cell_type": "markdown",
   "metadata": {},
   "source": [
    "Let's generate all (or many) possible inscribed triangles in the circle.<br>\n",
    "해당 원에 내접하는 모든 (또는 다수의) 삼각형을 생성해 보자.\n",
    "\n"
   ]
  },
  {
   "cell_type": "markdown",
   "metadata": {},
   "source": [
    "Let's recall that [`itertools.product()`](https://docs.python.org/3/library/itertools.html#itertools.product) could generate cartesian products.<br>\n",
    "[`itertools.product()`](https://docs.python.org/3/library/itertools.html#itertools.product)는 카테시안 곱을 발생시킬 수 있었음을 기억하자.\n",
    "\n"
   ]
  },
  {
   "cell_type": "code",
   "execution_count": null,
   "metadata": {},
   "outputs": [],
   "source": [
    "def gen_angles():\n",
    "    for angles_deg in itertools.product(range(0, 359+1), repeat=3):\n",
    "        if not any((\n",
    "            angles_deg[0] == angles_deg[1],\n",
    "            angles_deg[0] == angles_deg[2],\n",
    "            angles_deg[1] == angles_deg[2],\n",
    "        )):\n",
    "            yield angles_deg\n",
    "\n"
   ]
  },
  {
   "cell_type": "markdown",
   "metadata": {},
   "source": [
    "What would be probability? (How long does it take?  How can we find it faster?)<br>\n",
    "확률은 얼마가 될 것인가? (시간은 얼마 정도 걸리는가?  어떻게 단축할 수 있겠는가?)\n",
    "\n"
   ]
  },
  {
   "cell_type": "code",
   "execution_count": null,
   "metadata": {},
   "outputs": [],
   "source": [
    "%%time\n",
    "\n",
    "all_cases = []\n",
    "inside = []\n",
    "\n",
    "for angles_deg in gen_angles():\n",
    "    all_cases.append(angles_deg)\n",
    "    if is_center_inside(angles_deg):\n",
    "        inside.append(angles_deg)\n",
    "\n",
    "print(f\"num = {len(inside)}\")\n",
    "print(f\"den = {len(all_cases)}\")\n",
    "\n",
    "probability = fr.Fraction(len(inside), len(all_cases))\n",
    "print(f\"probabiliyt = {probability} = {float(probability)}\")\n",
    "\n"
   ]
  },
  {
   "cell_type": "markdown",
   "metadata": {},
   "source": [
    "## 연습 문제<br>Exercises\n",
    "\n"
   ]
  },
  {
   "cell_type": "markdown",
   "metadata": {},
   "source": [
    "도전 과제 1: 동전 5개를 던졌을 때, 3개가 앞면이 나올 확률을 구해 보시오.<br>\n",
    "Try this 1: Calculate probability of getting three heads out of five flips.\n",
    "\n"
   ]
  },
  {
   "cell_type": "code",
   "execution_count": null,
   "metadata": {},
   "outputs": [],
   "source": []
  },
  {
   "cell_type": "markdown",
   "metadata": {},
   "source": [
    "도전 과제 2: 어떤 주머니 안에 빨간 구슬이 3개, 파란 구슬이 5개, 흰 구슬이 2개 들어있다. 임의로 2개를 꺼낼 때 빨간 구슬, 흰 구슬이 각각 하나씩일 확률은?<br>\n",
    "Try this 2: A bag has three red beads, five blue beads, and two white bead. When taking out two beads randomly, what would be the probability of picking one red and one white beads?\n",
    "\n"
   ]
  },
  {
   "cell_type": "code",
   "execution_count": null,
   "metadata": {},
   "outputs": [],
   "source": []
  },
  {
   "cell_type": "markdown",
   "metadata": {},
   "source": [
    "도전 과제 3: 한 개의 주사위를 두번 던질 때, 두 눈의 합이 8 이상일 확률은?<br>\n",
    "Try this 3: When throwing a dice twice, what is the probability that the sum would be larger than 8?\n",
    "\n"
   ]
  },
  {
   "cell_type": "code",
   "execution_count": null,
   "metadata": {},
   "outputs": [],
   "source": []
  },
  {
   "cell_type": "markdown",
   "metadata": {},
   "source": [
    "도전 과제 4: 세 개의 주사위를 동시에 던질 때, 한 주사위의 값이 나머지 둘의 곱일 확률은?<br>\n",
    "Try this 4: When throwing a dice twice, what is the probability that one die's value is the product of the other two?\n",
    "\n"
   ]
  },
  {
   "cell_type": "code",
   "execution_count": null,
   "metadata": {},
   "outputs": [],
   "source": []
  },
  {
   "cell_type": "markdown",
   "metadata": {},
   "source": [
    "도전 과제 5: 52장의 카드에서 두장을 무작위로 뽑을 때, 무늬가 같을 확률은?<br>\n",
    "Try this 5: When randomly choosing two cards out of a deck of 52 cards without a Joker, what would be the probability of the same suites?\n",
    "\n"
   ]
  },
  {
   "cell_type": "code",
   "execution_count": null,
   "metadata": {},
   "outputs": [],
   "source": []
  },
  {
   "cell_type": "markdown",
   "metadata": {},
   "source": [
    "도전 과제 6: 이러한 우직한 확률 계산 방식의 장단점은?<br>\n",
    "Try this 6: What do you think about the pros and cons of this Brute Force Probability?\n",
    "\n"
   ]
  },
  {
   "cell_type": "markdown",
   "metadata": {},
   "source": [
    "## Functional Programming<br>함수형 프로그래밍\n"
   ]
  },
  {
   "cell_type": "markdown",
   "metadata": {},
   "source": [
    "## `all(map(lambda dice: not(dice % 2), (d1, d2, d3)))`\n",
    "\n"
   ]
  },
  {
   "cell_type": "markdown",
   "metadata": {},
   "source": [
    "위 행은 아래 함수와 같은 작용을 한다.<br>\n",
    "Following function is equivalent to the above line.\n",
    "\n"
   ]
  },
  {
   "cell_type": "code",
   "execution_count": null,
   "metadata": {},
   "outputs": [],
   "source": [
    "def all_even(d1, d2, d3):\n",
    "    if (d1 % 2):\n",
    "        result = False\n",
    "    elif (d2 % 2):\n",
    "        result = False\n",
    "    elif (d3 % 2):\n",
    "        result = False\n",
    "    else:\n",
    "        result = True\n",
    "    return True\n",
    "\n"
   ]
  },
  {
   "cell_type": "markdown",
   "metadata": {},
   "source": [
    "### `lambda`\n",
    "\n"
   ]
  },
  {
   "cell_type": "markdown",
   "metadata": {},
   "source": [
    "`lambda` 는 이름 없는 함수를 만들어 준다.<br>`lambda` makes an anonymous function.\n",
    "\n"
   ]
  },
  {
   "cell_type": "code",
   "execution_count": null,
   "metadata": {},
   "outputs": [],
   "source": [
    "lambda_function = lambda x : x * 2\n",
    "\n"
   ]
  },
  {
   "cell_type": "markdown",
   "metadata": {},
   "source": [
    "(In practice, it is not recommended to assign a `lambda` function to a named variable.)<br>\n",
    "(`lambda` 함수를 변수에 할당하는 것은 권장되지는 않는다.)\n",
    "\n"
   ]
  },
  {
   "cell_type": "code",
   "execution_count": null,
   "metadata": {},
   "outputs": [],
   "source": [
    "lambda_function(7)\n",
    "\n"
   ]
  },
  {
   "cell_type": "code",
   "execution_count": null,
   "metadata": {},
   "outputs": [],
   "source": [
    "lambda_function('a')\n",
    "\n"
   ]
  },
  {
   "cell_type": "markdown",
   "metadata": {},
   "source": [
    "### `map()`\n",
    "\n"
   ]
  },
  {
   "cell_type": "markdown",
   "metadata": {},
   "source": [
    "`map()` 은 임의의 함수를 리스트 `list` 나 `set` 등의 각 요소를 매개 변수로 어떤 주어진 함수를 호출한다.<br>\n",
    "`map()` calls the given function using members of `list` or `set`.\n",
    "\n"
   ]
  },
  {
   "cell_type": "code",
   "execution_count": null,
   "metadata": {},
   "outputs": [],
   "source": [
    "map(lambda_function, (1, 2, 3))\n",
    "\n"
   ]
  },
  {
   "cell_type": "code",
   "execution_count": null,
   "metadata": {},
   "outputs": [],
   "source": [
    "for i in map(lambda x : x * 3, 'abcd'):\n",
    "    print(i)\n",
    "\n"
   ]
  },
  {
   "cell_type": "code",
   "execution_count": null,
   "metadata": {},
   "outputs": [],
   "source": [
    "list(map(lambda x : x % 2, [1, 2, 3, 4, 5]))\n",
    "\n"
   ]
  },
  {
   "cell_type": "markdown",
   "metadata": {},
   "source": [
    "### `all()` & `any()`\n",
    "\n"
   ]
  },
  {
   "cell_type": "markdown",
   "metadata": {},
   "source": [
    "각각 `and` 와 `or` 연산을 실행한다.<br>Respectively would carry out `and` & `or` operations.\n",
    "\n"
   ]
  },
  {
   "cell_type": "code",
   "execution_count": null,
   "metadata": {},
   "outputs": [],
   "source": [
    "all([True, True, True]), any([1, 1, 1])\n",
    "\n"
   ]
  },
  {
   "cell_type": "code",
   "execution_count": null,
   "metadata": {},
   "outputs": [],
   "source": [
    "all([True, False, True]), any(['1', '', 'a'])\n",
    "\n"
   ]
  },
  {
   "cell_type": "code",
   "execution_count": null,
   "metadata": {},
   "outputs": [],
   "source": [
    "all([False, False, False]), any([[], '', {}])\n",
    "\n"
   ]
  },
  {
   "cell_type": "markdown",
   "metadata": {},
   "source": [
    "## `list('abc')`\n",
    "\n"
   ]
  },
  {
   "cell_type": "code",
   "execution_count": null,
   "metadata": {},
   "outputs": [],
   "source": [
    "list('abc')\n",
    "\n"
   ]
  },
  {
   "cell_type": "code",
   "execution_count": null,
   "metadata": {
    "scrolled": true
   },
   "outputs": [],
   "source": [
    "list('abc') + ['zzz']\n",
    "\n"
   ]
  },
  {
   "cell_type": "markdown",
   "metadata": {},
   "source": [
    "## `itertools.product()`\n",
    "\n"
   ]
  },
  {
   "cell_type": "markdown",
   "metadata": {},
   "source": [
    "The module [`itertools`](https://docs.python.org/3/library/itertools.html) has combinatoric iterators.<br>[`itertools`](https://docs.python.org/3/library/itertools.html) 모듈은 여러 방식으로 목록을 조합 생성할 수 있는 기능이 있다.\n",
    "\n"
   ]
  },
  {
   "cell_type": "markdown",
   "metadata": {},
   "source": [
    "[`itertools.product()`](https://docs.python.org/3/library/itertools.html#itertools.product) can generate cartesian products.<br>\n",
    "[`itertools.product()`](https://docs.python.org/3/library/itertools.html#itertools.product)는 카테시안 곱을 발생시킬 수 있다.\n",
    "\n"
   ]
  },
  {
   "cell_type": "code",
   "execution_count": null,
   "metadata": {},
   "outputs": [],
   "source": [
    "import itertools\n",
    "\n",
    "print(list(itertools.product(\"ABC\", \"12\")))\n",
    "print(list(itertools.product(\"01\", repeat=3)))\n",
    "\n"
   ]
  },
  {
   "cell_type": "markdown",
   "metadata": {},
   "source": [
    "## 참고문헌<br>References\n",
    "\n"
   ]
  },
  {
   "cell_type": "markdown",
   "metadata": {},
   "source": [
    "[\n",
    "  [ref0](http://proi.edupia.com/contents/proicontents/proi/proi/middle/SchoolBook/seb/jd_seb1_content.asp?nTerm=2&nYear=8&nConID=653&nCatID=242&nDaeNumber=3)\n",
    ", [ref1](https://mathpool.tistory.com/entry/%ED%99%95%EB%A5%A0%EA%B3%BC-%ED%86%B5%EA%B3%84-%EC%A0%84%EB%8B%A8%EC%9B%90-%EC%97%B0%EC%8A%B5%EB%AC%B8%EC%A0%9C-%EB%AA%A8%EC%9D%8C-%EC%9E%90%EB%A3%8C)\n",
    "]\n",
    "\n"
   ]
  },
  {
   "cell_type": "markdown",
   "metadata": {},
   "source": [
    "## Final Bell<br>마지막 종\n",
    "\n"
   ]
  },
  {
   "cell_type": "code",
   "execution_count": null,
   "metadata": {},
   "outputs": [],
   "source": [
    "# stackoverfow.com/a/24634221\n",
    "import os\n",
    "os.system(\"printf '\\a'\");\n",
    "\n"
   ]
  },
  {
   "cell_type": "code",
   "execution_count": null,
   "metadata": {},
   "outputs": [],
   "source": []
  }
 ],
 "metadata": {
  "kernelspec": {
   "display_name": "Python 3",
   "language": "python",
   "name": "python3"
  },
  "language_info": {
   "codemirror_mode": {
    "name": "ipython",
    "version": 3
   },
   "file_extension": ".py",
   "mimetype": "text/x-python",
   "name": "python",
   "nbconvert_exporter": "python",
   "pygments_lexer": "ipython3",
   "version": "3.8.8"
  }
 },
 "nbformat": 4,
 "nbformat_minor": 2
}