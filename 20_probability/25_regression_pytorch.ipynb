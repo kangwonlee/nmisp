{
 "cells": [
  {
   "cell_type": "markdown",
   "metadata": {
    "id": "view-in-github",
    "colab_type": "text"
   },
   "source": [
    "<a href=\"https://colab.research.google.com/github/kangwonlee/nmisp/blob/pytorch/20_probability/25_regression_pytorch.ipynb\" target=\"_parent\"><img src=\"https://colab.research.google.com/assets/colab-badge.svg\" alt=\"Open In Colab\"/></a>\n"
   ]
  },
  {
   "cell_type": "markdown",
   "metadata": {},
   "source": [
    "# Example : Linear Regression using PyTorch<br>사례 : PyTorch를 이용한 선형회귀\n",
    "\n",
    "PyTorch is a library specialized in (computational) machine learning originally developed by Meta AI<br>PyTorch 는 Meta AI에서 기원한 (전산) 기계 학습에 특화된 라이브러리\n"
   ]
  },
  {
   "cell_type": "code",
   "execution_count": null,
   "metadata": {},
   "outputs": [],
   "source": [
    "import torch\n",
    "import torch.nn\n",
    "\n"
   ]
  },
  {
   "cell_type": "markdown",
   "source": [
    "* Prepare data<br>데이터를 준비\n",
    "\n"
   ],
   "metadata": {}
  },
  {
   "cell_type": "code",
   "execution_count": null,
   "metadata": {},
   "outputs": [],
   "source": [
    "import pylab as py\n",
    "import numpy.random as nr\n",
    "\n",
    "\n",
    "nr.seed()\n",
    "\n",
    "\n",
    "a = 0.5\n",
    "b = 2.0\n",
    "\n",
    "x_array = py.linspace(0, 5, 20 + 1)\n",
    "y_true = a * x_array + b\n",
    "\n",
    "w_array = nr.normal(0, 0.25, size=x_array.shape)\n",
    "y_measurement = y_true + w_array\n",
    "\n"
   ]
  },
  {
   "cell_type": "markdown",
   "source": [
    "* Let's plot the data<br>데이터를 한번 그려보자\n",
    "\n"
   ],
   "metadata": {}
  },
  {
   "cell_type": "code",
   "source": [
    "import matplotlib.pyplot as plt\n",
    "\n",
    "\n",
    "plt.plot(x_array, y_true, label='true')\n",
    "plt.plot(x_array, y_measurement, '.', label='measurement')\n",
    "plt.legend(loc=0)\n",
    "plt.grid(True)\n",
    "\n"
   ],
   "metadata": {},
   "execution_count": null,
   "outputs": []
  },
  {
   "cell_type": "markdown",
   "source": [
    "* Declare the linear model<br>선형 모델을 선언\n",
    "\n"
   ],
   "metadata": {}
  },
  {
   "cell_type": "code",
   "source": [
    "class LinearRegression(torch.nn.Module):\n",
    "  def __init__(self, in_size=1, out_size=1):\n",
    "    super(LinearRegression, self).__init__()\n",
    "    self.linear = torch.nn.Linear(in_size, out_size)\n",
    "\n",
    "  def forward(self, x):\n",
    "    return self.linear(x)\n",
    "\n"
   ],
   "metadata": {},
   "execution_count": null,
   "outputs": []
  },
  {
   "cell_type": "markdown",
   "source": [
    "* Instantiate the linear model<br>메모리에 선형 모델의 인스턴스를 만듦\n",
    "* Its weight and bias will be random.<br>가중치와 편향은 무작위로 결정됨\n",
    "\n"
   ],
   "metadata": {}
  },
  {
   "cell_type": "code",
   "source": [
    "custom_model = LinearRegression()\n",
    "\n"
   ],
   "metadata": {},
   "execution_count": null,
   "outputs": []
  },
  {
   "cell_type": "markdown",
   "source": [
    "* Convert `numpy.array` to `float64` `torch.Tensor`<br>`numpy.array` 를 `torch.Tensor`로 변환 (각 원소는 `float64`)\n",
    "\n"
   ],
   "metadata": {}
  },
  {
   "cell_type": "code",
   "source": [
    "x_tensor_float64 = torch.from_numpy(x_array)\n",
    "x_tensor_float64\n",
    "\n"
   ],
   "metadata": {},
   "execution_count": null,
   "outputs": []
  },
  {
   "cell_type": "markdown",
   "source": [
    "* Convert `float64` to `float32`<br>`float64` 를 `float32`로 변환\n",
    "\n"
   ],
   "metadata": {}
  },
  {
   "cell_type": "code",
   "source": [
    "x_tensor_float32 = x_tensor_float64.float()\n",
    "x_tensor_float32\n",
    "\n"
   ],
   "metadata": {},
   "execution_count": null,
   "outputs": []
  },
  {
   "cell_type": "markdown",
   "source": [
    "* Convert to $n \\times 1$ tensor to match model weight dimension<br>모델 가중치의 차원과 맞추기 위해 $n \\times 1$ 텐서로 변환\n",
    "\n"
   ],
   "metadata": {}
  },
  {
   "cell_type": "code",
   "source": [
    "x_tensor = x_tensor_float32.view(-1, 1)\n",
    "x_tensor.shape\n",
    "\n"
   ],
   "metadata": {},
   "execution_count": null,
   "outputs": []
  },
  {
   "cell_type": "markdown",
   "source": [
    "* Make prediction (using random weight and bias)<br>(무작위 기울기와 절편으로) 예측을 시도해 보자.\n",
    "\n"
   ],
   "metadata": {}
  },
  {
   "cell_type": "code",
   "source": [
    "y_hat_tensor = custom_model(x_tensor)\n",
    "\n"
   ],
   "metadata": {},
   "execution_count": null,
   "outputs": []
  },
  {
   "cell_type": "code",
   "source": [
    "plt.plot(x_array, y_true, label='true')\n",
    "plt.plot(x_array, y_measurement, '.', label='measurement')\n",
    "plt.plot(x_array, y_hat_tensor.detach().numpy(), '.', label='initial prediction')\n",
    "plt.legend(loc=0)\n",
    "plt.grid(True)\n",
    "\n"
   ],
   "metadata": {},
   "execution_count": null,
   "outputs": []
  },
  {
   "cell_type": "markdown",
   "metadata": {},
   "source": [
    "## Final Bell<br>마지막 종\n",
    "\n"
   ]
  },
  {
   "cell_type": "code",
   "execution_count": null,
   "metadata": {},
   "outputs": [],
   "source": [
    "# stackoverfow.com/a/24634221\n",
    "import os\n",
    "os.system(\"printf '\\a'\");\n",
    "\n"
   ]
  },
  {
   "cell_type": "code",
   "execution_count": null,
   "metadata": {},
   "outputs": [],
   "source": []
  }
 ],
 "metadata": {
  "anaconda-cloud": {},
  "colab": {
   "provenance": [],
   "include_colab_link": true
  },
  "kernelspec": {
   "display_name": "Python 3",
   "language": "python",
   "name": "python3"
  },
  "language_info": {
   "codemirror_mode": {
    "name": "ipython",
    "version": 3
   },
   "file_extension": ".py",
   "mimetype": "text/x-python",
   "name": "python",
   "nbconvert_exporter": "python",
   "pygments_lexer": "ipython3",
   "version": "3.10.0"
  }
 },
 "nbformat": 4,
 "nbformat_minor": 0
}