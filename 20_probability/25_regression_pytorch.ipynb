{
 "cells": [
  {
   "cell_type": "markdown",
   "metadata": {
    "id": "view-in-github",
    "colab_type": "text"
   },
   "source": [
    "<a href=\"https://colab.research.google.com/github/kangwonlee/nmisp/blob/pytorch/20_probability/25_regression_pytorch.ipynb\" target=\"_parent\"><img src=\"https://colab.research.google.com/assets/colab-badge.svg\" alt=\"Open In Colab\"/></a>\n"
   ]
  },
  {
   "cell_type": "markdown",
   "metadata": {},
   "source": [
    "# Example : Linear Regression using PyTorch<br>사례 : PyTorch를 이용한 선형회귀\n",
    "\n",
    "PyTorch is a library specialized in (computational) machine learning originally developed by Meta AI<br>PyTorch 는 Meta AI에서 기원한 (전산) 기계 학습에 특화된 라이브러리\n"
   ]
  },
  {
   "cell_type": "code",
   "execution_count": null,
   "metadata": {},
   "outputs": [],
   "source": [
    "import os\n",
    "\n",
    "import torch\n",
    "import torch.nn\n",
    "\n"
   ]
  },
  {
   "cell_type": "markdown",
   "source": [
    "* Prepare data<br>데이터를 준비\n",
    "\n"
   ],
   "metadata": {}
  },
  {
   "cell_type": "code",
   "execution_count": null,
   "metadata": {},
   "outputs": [],
   "source": [
    "import pylab as py\n",
    "import numpy.random as nr\n",
    "\n",
    "\n",
    "nr.seed()\n",
    "\n",
    "\n",
    "a = 0.5\n",
    "b = 2.0\n",
    "\n",
    "x_array = py.linspace(0, 5, 20 + 1)\n",
    "y_true = a * x_array + b\n",
    "\n",
    "w_array = nr.normal(0, 0.25, size=x_array.shape)\n",
    "y_measurement = y_true + w_array\n",
    "\n"
   ]
  },
  {
   "cell_type": "markdown",
   "source": [
    "* Let's plot the data<br>데이터를 한번 그려보자\n",
    "\n"
   ],
   "metadata": {}
  },
  {
   "cell_type": "code",
   "source": [
    "import matplotlib.pyplot as plt\n",
    "\n",
    "\n",
    "plt.plot(x_array, y_true, label='true')\n",
    "plt.plot(x_array, y_measurement, '.', label='measurement')\n",
    "plt.legend(loc=0)\n",
    "plt.grid(True)\n",
    "\n"
   ],
   "metadata": {},
   "execution_count": null,
   "outputs": []
  },
  {
   "cell_type": "markdown",
   "source": [
    "* Declare the linear model<br>선형 모델을 선언\n",
    "\n"
   ],
   "metadata": {}
  },
  {
   "cell_type": "code",
   "source": [
    "class LinearRegression(torch.nn.Module):\n",
    "  def __init__(self, in_size=1, out_size=1):\n",
    "    super(LinearRegression, self).__init__()\n",
    "    self.linear = torch.nn.Linear(in_size, out_size)\n",
    "\n",
    "  def forward(self, x):\n",
    "    return self.linear(x)\n",
    "\n"
   ],
   "metadata": {},
   "execution_count": null,
   "outputs": []
  },
  {
   "cell_type": "markdown",
   "source": [
    "* Instantiate the linear model<br>메모리에 선형 모델의 인스턴스를 만듦\n",
    "\n"
   ],
   "metadata": {}
  },
  {
   "cell_type": "code",
   "source": [
    "custom_model = LinearRegression()\n",
    "\n"
   ],
   "metadata": {},
   "execution_count": null,
   "outputs": []
  },
  {
   "cell_type": "markdown",
   "source": [
    "* It randomly initializes the weight and bias.<br>가중치와 편향은 무작위로 초기화됨\n",
    "\n"
   ],
   "metadata": {}
  },
  {
   "cell_type": "code",
   "source": [
    "w, b = list(custom_model.parameters())\n",
    "w.item(), b.item()\n",
    "\n"
   ],
   "metadata": {},
   "execution_count": null,
   "outputs": []
  },
  {
   "cell_type": "markdown",
   "source": [
    "* Convert `numpy.array` to `float64` `torch.Tensor`<br>`numpy.array` 를 `torch.Tensor`로 변환 (각 원소는 `float64`)\n",
    "\n"
   ],
   "metadata": {}
  },
  {
   "cell_type": "code",
   "source": [
    "x_tensor_float64 = torch.from_numpy(x_array)\n",
    "y_tensor_float64 = torch.from_numpy(y_measurement)\n",
    "\n",
    "x_tensor_float64\n",
    "\n"
   ],
   "metadata": {},
   "execution_count": null,
   "outputs": []
  },
  {
   "cell_type": "markdown",
   "source": [
    "* Convert `float64` to `float32`<br>`float64` 를 `float32`로 변환\n",
    "\n"
   ],
   "metadata": {}
  },
  {
   "cell_type": "code",
   "source": [
    "x_tensor_float32 = x_tensor_float64.float()\n",
    "y_tensor_float32 = y_tensor_float64.float()\n",
    "x_tensor_float32\n",
    "\n"
   ],
   "metadata": {},
   "execution_count": null,
   "outputs": []
  },
  {
   "cell_type": "markdown",
   "source": [
    "* Convert to $n \\times 1$ tensor to match model weight dimension<br>모델 가중치의 차원과 맞추기 위해 $n \\times 1$ 텐서로 변환\n",
    "\n"
   ],
   "metadata": {}
  },
  {
   "cell_type": "code",
   "source": [
    "x_tensor = x_tensor_float32.view(-1, 1)\n",
    "y_tensor = y_tensor_float32.view(-1, 1)\n",
    "x_tensor.shape\n",
    "\n"
   ],
   "metadata": {},
   "execution_count": null,
   "outputs": []
  },
  {
   "cell_type": "markdown",
   "source": [
    "* Make prediction (using random weight and bias)<br>(무작위 기울기와 절편으로) 예측을 시도해 보자.\n",
    "\n"
   ],
   "metadata": {}
  },
  {
   "cell_type": "code",
   "source": [
    "y_hat_tensor = custom_model(x_tensor)\n",
    "\n"
   ],
   "metadata": {},
   "execution_count": null,
   "outputs": []
  },
  {
   "cell_type": "code",
   "source": [
    "def plot(x_array, y_true, y_measurement, y_hat_tensor, y_hat_label):\n",
    "  plt.plot(x_array, y_true, label='true')\n",
    "  plt.plot(x_array, y_measurement, '.', label='measurement')\n",
    "  plt.plot(\n",
    "      x_array, y_hat_tensor.detach().numpy(), '.',\n",
    "      label=y_hat_label\n",
    "  )\n",
    "  plt.legend(loc=0)\n",
    "  plt.grid(True)\n",
    "\n"
   ],
   "metadata": {},
   "execution_count": null,
   "outputs": []
  },
  {
   "cell_type": "code",
   "source": [
    "plot(x_array, y_true, y_measurement, y_hat_tensor, 'initial prediction')\n",
    "\n"
   ],
   "metadata": {},
   "execution_count": null,
   "outputs": []
  },
  {
   "cell_type": "markdown",
   "source": [
    "* Let's use (Stochastic) Gradient Descent for the optimizer<br>최적화 방안으로 (확률적) 경사 하강법을 선택 해 보자.\n",
    "\n"
   ],
   "metadata": {}
  },
  {
   "cell_type": "code",
   "source": [
    "optimizer = torch.optim.SGD(custom_model.parameters(), lr=0.1)\n",
    "\n"
   ],
   "metadata": {},
   "execution_count": null,
   "outputs": []
  },
  {
   "cell_type": "markdown",
   "source": [
    "* Mean Square Error will be our loss function.<br>손실 함수로 평균 제곱 오차 (MSE) 를 사용하자.\n",
    "\n"
   ],
   "metadata": {}
  },
  {
   "cell_type": "code",
   "source": [
    "criterion = torch.nn.MSELoss()\n",
    "\n"
   ],
   "metadata": {},
   "execution_count": null,
   "outputs": []
  },
  {
   "cell_type": "markdown",
   "source": [
    "* Let's train the model<br>모델을 학습시켜 보자.\n",
    "\n"
   ],
   "metadata": {}
  },
  {
   "cell_type": "code",
   "source": [
    "def train(y_tensor, x_tensor, model, optimizer, criterion, n_epoch=1000):\n",
    "  cost = []\n",
    "\n",
    "  if os.getenv('CI', False):\n",
    "    n_epoch = 1\n",
    "\n",
    "  for epoch in range(n_epoch):\n",
    "    optimizer.zero_grad()\n",
    "    yhat = model(x_tensor)\n",
    "    loss = criterion(yhat, y_tensor)\n",
    "    optimizer.zero_grad()\n",
    "    loss.backward()\n",
    "\n",
    "    optimizer.step()\n",
    "\n",
    "    cost.append(loss.item())\n",
    "  # end epoch loop\n",
    "\n",
    "  return cost\n",
    "\n"
   ],
   "metadata": {},
   "execution_count": null,
   "outputs": []
  },
  {
   "cell_type": "code",
   "source": [
    "%%time\n",
    "cost_list = train(\n",
    "    y_tensor, x_tensor,\n",
    "    custom_model, optimizer, criterion\n",
    ")\n",
    "\n"
   ],
   "metadata": {},
   "execution_count": null,
   "outputs": []
  },
  {
   "cell_type": "code",
   "source": [
    "plt.plot(cost_list, '.')\n",
    "plt.xlabel('epoch')\n",
    "plt.ylabel('loss')\n",
    "plt.grid(True)\n",
    "\n"
   ],
   "metadata": {},
   "execution_count": null,
   "outputs": []
  },
  {
   "cell_type": "code",
   "source": [
    "y_hat_trained_tensor = custom_model(x_tensor)\n",
    "plot(x_array, y_true, y_measurement, y_hat_trained_tensor, 'after training')\n",
    "\n"
   ],
   "metadata": {},
   "execution_count": null,
   "outputs": []
  },
  {
   "cell_type": "markdown",
   "metadata": {},
   "source": [
    "## Final Bell<br>마지막 종\n",
    "\n"
   ]
  },
  {
   "cell_type": "code",
   "execution_count": null,
   "metadata": {},
   "outputs": [],
   "source": [
    "# stackoverfow.com/a/24634221\n",
    "import os\n",
    "os.system(\"printf '\\a'\");\n",
    "\n"
   ]
  },
  {
   "cell_type": "code",
   "execution_count": null,
   "metadata": {},
   "outputs": [],
   "source": []
  }
 ],
 "metadata": {
  "anaconda-cloud": {},
  "colab": {
   "provenance": [],
   "include_colab_link": true
  },
  "kernelspec": {
   "display_name": "Python 3",
   "language": "python",
   "name": "python3"
  },
  "language_info": {
   "codemirror_mode": {
    "name": "ipython",
    "version": 3
   },
   "file_extension": ".py",
   "mimetype": "text/x-python",
   "name": "python",
   "nbconvert_exporter": "python",
   "pygments_lexer": "ipython3",
   "version": "3.10.0"
  }
 },
 "nbformat": 4,
 "nbformat_minor": 0
}