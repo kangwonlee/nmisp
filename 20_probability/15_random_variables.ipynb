{
 "cells": [
  {
   "cell_type": "markdown",
   "metadata": {
    "id": "view-in-github",
    "colab_type": "text"
   },
   "source": [
    "<a href=\"https://colab.research.google.com/github/kangwonlee/nmisp/blob/uv/20_probability/15_random_variables.ipynb\" target=\"_parent\"><img src=\"https://colab.research.google.com/assets/colab-badge.svg\" alt=\"Open In Colab\"/></a>\n"
   ]
  },
  {
   "cell_type": "code",
   "execution_count": null,
   "metadata": {},
   "outputs": [],
   "source": [
    "import random\n",
    "\n",
    "import matplotlib.pyplot as plt\n",
    "import numpy as np\n",
    "import numpy.random as nr\n",
    "import scipy.stats\n",
    "\n"
   ]
  },
  {
   "cell_type": "code",
   "execution_count": null,
   "metadata": {},
   "outputs": [],
   "source": [
    "random.seed()\n",
    "\n"
   ]
  },
  {
   "cell_type": "code",
   "execution_count": null,
   "metadata": {},
   "outputs": [],
   "source": [
    "def bar(bins, result_0):\n",
    "    width_list = [b1 - b0 for b0, b1 in zip(bins[:-1], bins[1:])]\n",
    "    return plt.bar(bins[:-1], result_0, width=width_list, align='edge')\n",
    "\n"
   ]
  },
  {
   "cell_type": "markdown",
   "metadata": {},
   "source": [
    "# Random Variables and Probability Distributions<br>확률변수와 확률분포\n",
    "\n"
   ]
  },
  {
   "cell_type": "markdown",
   "metadata": {},
   "source": [
    "* A random variable is a number that represents the uncertain outcome of an event.<br>확률변수란 어떤 사건의 확정적이지 않은 결과를 나타내는 어떤 변수를 말한다.\n",
    "\n"
   ]
  },
  {
   "cell_type": "markdown",
   "metadata": {},
   "source": [
    "## Random Variables<br>확률변수\n",
    "\n"
   ]
  },
  {
   "cell_type": "markdown",
   "metadata": {},
   "source": [
    "### Discrete and continuous random variables<br>이산 확률변수와 연속 확률변수\n",
    "\n"
   ]
  },
  {
   "cell_type": "markdown",
   "metadata": {},
   "source": [
    "* Examples of discrete random variables<br>이산확률변수의 예\n",
    "    * Number of heads in 3 coin flips<br>동전을 세번 던졌을 때 앞면이 나올 확률\n",
    "    * Roll of a dice<br>주사위 던지기\n",
    "* Examples of continous random variables<br>연속확률변수의 예\n",
    "    * Height of a person<br>사람들의 키\n",
    "    * Time it takes for a component to fail<br>부품 수명\n"
   ]
  },
  {
   "cell_type": "markdown",
   "metadata": {},
   "source": [
    "|  | discrete<br>이산 | continuous<br>연속\n",
    ":-----:|:-----:|:-----:\n",
    "value range<br>값의 범위 | finite, countable set of values<br>유한하고 셀 수 있는 값 | uncountable set of values within a range<br>어떤 범위 안의 셀 수 없는 값\n",
    "probability distribution<br>확률분포| probability mass functions (PMF)<br>확률질량함수 | probability density functions (PDF)<br>확률밀도함수\n",
    "cumulative probability<br>누적확률| cumulative distrubtion functions<br>누적분포함수 | cumulative distrubtion functions<br>누적분포함수\n",
    "examples of probability distributions<br>확률분포 사례 | Bernoulli, Binormal<br>베르누이분포, 이항분포 | Normal, uniform, exponential<br>정규분포, 균등군포, 지수분포\n",
    "\n"
   ]
  },
  {
   "cell_type": "markdown",
   "metadata": {},
   "source": [
    "### Representing Probability Distributions<br>확률분포의 표현\n",
    "\n"
   ]
  },
  {
   "cell_type": "markdown",
   "metadata": {},
   "source": [
    "#### Probability Mass Functions<br>확률질량함수\n",
    "\n"
   ]
  },
  {
   "cell_type": "markdown",
   "metadata": {},
   "source": [
    "* The probability mass function (PMF) assigns a probability to each possible discrete outcome of a random variable.<br>확률질량함수는 어떤 확률변수의 개별적으로 떨어져 있는 각각의 가능한 결과의 확률을 나타낸다.\n"
   ]
  },
  {
   "cell_type": "markdown",
   "metadata": {},
   "source": [
    "##### Bernoulli distribution<br>베르누이 분포\n",
    "* The Bernoulli distribution models the probability of a single experiment with two possible outcomes (success or failure), where the probability of success remains constant.<br>베르누이분포는 가능한 결과가 성공과 실패 두가지 있고, 성공 확률이 정해져 있을 경우, 한번의 실험의 결과의 확률을 보여 준다.\n",
    "\n"
   ]
  },
  {
   "cell_type": "code",
   "execution_count": null,
   "metadata": {},
   "outputs": [],
   "source": [
    "# Define the success probability for our Bernoulli trial\n",
    "p = 0.7\n",
    "\n",
    "# Possible outcomes of a Bernoulli trial (success = 1, failure = 0)\n",
    "outcomes = [0, 1]\n",
    "\n",
    "# Calculate probabilities for each outcome using the Bernoulli PMF\n",
    "pmf_values = [1 - p, p]\n",
    "\n",
    "# Create a bar plot visualization of the PMF\n",
    "plt.stem(outcomes, pmf_values)\n",
    "plt.xlabel('Outcome (0 = failure, 1 = success)')\n",
    "plt.ylabel('Probability')\n",
    "plt.title('Probability Mass Function (PMF) of Bernoulli Distribution (p = 0.7)')\n",
    "\n"
   ]
  },
  {
   "cell_type": "markdown",
   "metadata": {},
   "source": [
    "#### Probability Density Functions<br>확률밀도함수\n",
    "\n"
   ]
  },
  {
   "cell_type": "markdown",
   "metadata": {},
   "source": [
    "* The probability density function (PDF) describes the relative likelihood of a continuous random variable taking on a particular value within a certain range.<br>확률밀도함수는 연속적인 확률변수가 어떤 범위 안에서 특정 값을 가질 상대적인 가능성을 나타낸다.\n"
   ]
  },
  {
   "cell_type": "markdown",
   "metadata": {},
   "source": [
    "##### Normal distribution<br>정규분포\n",
    "\n",
    "\n"
   ]
  },
  {
   "cell_type": "code",
   "execution_count": null,
   "metadata": {},
   "outputs": [],
   "source": [
    "average = 0.0\n",
    "std_dev = 1.0\n",
    "\n",
    "x = np.linspace(average + (- 4.0) * std_dev, average + (+ 4.0) * std_dev)\n",
    "pdf_values = scipy.stats.norm.pdf(x, average, std_dev)\n",
    "plt.plot(x, pdf_values)\n",
    "plt.xlabel('Value')\n",
    "plt.ylabel('Probability Density')\n",
    "plt.title('Normal Distribution (Mean = 0, Standard Deviation = 1)')\n",
    "plt.grid(True)\n",
    "\n"
   ]
  },
  {
   "cell_type": "markdown",
   "metadata": {},
   "source": [
    "#### Cumulative Distribution Functions<br>누적분포함수\n",
    "\n"
   ]
  },
  {
   "cell_type": "markdown",
   "metadata": {},
   "source": [
    "* The cumulative distribution function (CDF) of a random variable gives the probability that the random variable will take on a value less than or equal to a specified value.<br>어떤 확률변수의 누적분포함수는 해당 확률변수가 어떤 값 이하일 확률 또는 해당 값을 가질 확률을 나타낸다.\n",
    "\n"
   ]
  },
  {
   "cell_type": "code",
   "execution_count": null,
   "metadata": {},
   "outputs": [],
   "source": [
    "# Discrete (Binomial)\n",
    "n_trials = 10\n",
    "p_success = 0.3\n",
    "\n",
    "# Continuous (Normal)\n",
    "mean = 0\n",
    "std_dev = 1\n",
    "\n",
    "# Discrete\n",
    "outcomes = np.arange(0, n_trials + 1)\n",
    "pmf_values = scipy.stats.binom.pmf(outcomes, n_trials, p_success)\n",
    "cdf_discrete = scipy.stats.binom.cdf(outcomes, n_trials, p_success)\n",
    "\n",
    "# Continuous\n",
    "x_vals = np.linspace(-4, 4, 200)\n",
    "pdf_values = scipy.stats.norm.pdf(x_vals, mean, std_dev)\n",
    "cdf_continuous = scipy.stats.norm.cdf(x_vals, mean, std_dev)\n",
    "\n",
    "fig, axes = plt.subplots(2, 2, figsize=(8, 6))\n",
    "\n",
    "# PMF\n",
    "axes[0, 0].stem(outcomes, pmf_values)\n",
    "axes[0, 0].set_xlabel('Outcome')\n",
    "axes[0, 0].set_ylabel('Probability')\n",
    "axes[0, 0].set_title(f'PMF (Binomial, n = {n_trials})')\n",
    "axes[0, 0].grid(True)\n",
    "\n",
    "# PDF\n",
    "axes[0, 1].plot(x_vals, pdf_values)\n",
    "axes[0, 1].set_xlabel('Value')\n",
    "axes[0, 1].set_ylabel('Probability Density')\n",
    "axes[0, 1].set_title('PDF (Normal)')\n",
    "axes[0, 1].grid(True)\n",
    "\n",
    "# CDF (Discrete)\n",
    "axes[1, 0].plot(outcomes, cdf_discrete, marker='o', linestyle='none')\n",
    "axes[1, 0].set_xlabel('Outcome')\n",
    "axes[1, 0].set_ylabel('Cumulative Probability')\n",
    "axes[1, 0].set_title(f'CDF (Binomial, n = {n_trials})')\n",
    "axes[1, 0].grid(True)\n",
    "\n",
    "# CDF (Continuous)\n",
    "axes[1, 1].plot(x_vals, cdf_continuous)\n",
    "axes[1, 1].set_xlabel('Value')\n",
    "axes[1, 1].set_ylabel('Cumulative Probability')\n",
    "axes[1, 1].set_title('CDF (Normal)')\n",
    "axes[1, 1].grid(True)\n",
    "\n",
    "fig.tight_layout()\n",
    "\n"
   ]
  },
  {
   "cell_type": "markdown",
   "metadata": {},
   "source": [
    "### Common Distributions<br>자주 사용되는 확률분포\n",
    "\n"
   ]
  },
  {
   "cell_type": "markdown",
   "metadata": {},
   "source": [
    "#### Uniform distribution<br>균일분포\n",
    "\n"
   ]
  },
  {
   "cell_type": "markdown",
   "metadata": {},
   "source": [
    "* The uniform distribution is a probability distribution where all outcomes within a specified range have an equal chance of occurring.<br>균일분포는 어떤 특정 범위 안 모든 결과가 일어날 확률이 같은 확률분포이다.\n",
    "\n"
   ]
  },
  {
   "cell_type": "code",
   "execution_count": null,
   "metadata": {},
   "outputs": [],
   "source": [
    "# Set parameters for the distribution\n",
    "lower_bound = 0\n",
    "upper_bound = 10\n",
    "x_array = np.linspace(lower_bound, upper_bound, 21)\n",
    "\n",
    "# Generate random samples from the uniform distribution\n",
    "uniform_pdf = scipy.stats.uniform.pdf(x_array, loc=lower_bound, scale=upper_bound-lower_bound)\n",
    "\n",
    "# Plot the distribution (histogram)\n",
    "plt.plot(x_array, uniform_pdf)\n",
    "plt.xlabel('Value')\n",
    "plt.ylabel('Frequency')\n",
    "\n",
    "plt.ylim(bottom=0)\n",
    "plt.title('Uniform Distribution')\n",
    "plt.grid(True)\n",
    "\n"
   ]
  },
  {
   "cell_type": "markdown",
   "metadata": {},
   "source": [
    "#### Normal distribution<br>정규 분포\n",
    "\n"
   ]
  },
  {
   "cell_type": "markdown",
   "metadata": {},
   "source": [
    "* The normal distribution (also known as the Gaussian distribution) is a bell-shaped probability distribution that is symmetrical around its mean, with most values clustering around the center and decreasing in frequency as they move away from the mean.<br>가우스 분포라고도 알려진 정규분포는 평균을 중심으로 좌우대칭인 종모양의 확률분포로, 대부분의 값은 가운데에 모여 있고 평균으로부터 멀어질수록 빈도가 줄어든다.\n",
    "* Many physical properties and measurement results follow a normal distribution (e.g., material strength, dimensional variations due to many small, random factors).<br>다수의 물리적 특성값과 측정 결과가 정규분포를 따른다.\n",
    "\n"
   ]
  },
  {
   "cell_type": "code",
   "execution_count": null,
   "metadata": {},
   "outputs": [],
   "source": [
    "# Set parameters for the distribution\n",
    "mean = 0\n",
    "std_dev = 1\n",
    "x_array = np.linspace(-3.0, 3.0, 21)\n",
    "\n",
    "# Generate random samples\n",
    "norm_pdf = scipy.stats.norm.pdf(x_array, loc=mean, scale=std_dev)\n",
    "\n",
    "# Plot the distribution (histogram)\n",
    "plt.plot(x_array, norm_pdf)\n",
    "plt.xlabel('Value')\n",
    "plt.ylabel('Frequency')\n",
    "\n",
    "plt.title('Normal (Gaussian) Distribution')\n",
    "plt.grid(True)\n",
    "\n"
   ]
  },
  {
   "cell_type": "markdown",
   "metadata": {},
   "source": [
    "#### Binomial distribution<br>이항분포\n",
    "\n"
   ]
  },
  {
   "cell_type": "markdown",
   "metadata": {},
   "source": [
    "* The binomial distribution models the probability of getting a certain number of successes in a fixed number of independent trials, each with a constant probability of success.<br>이항분표는 성공 확률이 같은 일정 횟수의 독립 시행에서 성공 횟수의 확률을 수학적으로 묘사한다.\n",
    "    * Probability of a component failing within a certain number of cycles.<br>어떤 부품이 특정 횟수의 작동 사이클 안에 고장날 확률.\n",
    "\n"
   ]
  },
  {
   "cell_type": "code",
   "execution_count": null,
   "metadata": {},
   "outputs": [],
   "source": [
    "# Parameters\n",
    "n_trials = 10      # Number of trials\n",
    "p_success = 0.3     # Probability of success on each trial\n",
    "\n",
    "# Possible outcomes (number of successes)\n",
    "outcomes = np.arange(0, n_trials + 1)\n",
    "\n",
    "# Calculate probabilities for each outcome\n",
    "pmf_values = scipy.stats.binom.pmf(outcomes, n_trials, p_success)\n",
    "\n",
    "# Plot the distribution (bar chart)\n",
    "plt.stem(outcomes, pmf_values)\n",
    "plt.xlabel('Number of Successes')\n",
    "plt.ylabel('Probability')\n",
    "plt.title(f'Binomial Distribution (n = 10, p = {p_success})')\n",
    "plt.grid(True)\n",
    "\n"
   ]
  },
  {
   "cell_type": "markdown",
   "metadata": {},
   "source": [
    "#### Poisson distribution<br>푸아송 분포\n",
    "\n"
   ]
  },
  {
   "cell_type": "markdown",
   "metadata": {},
   "source": [
    "* The Poisson distribution models the probability of a given number of events occurring within a fixed interval of time or space, given an average rate of occurrence.<br>푸아송 분포는 어떤 사건의 평균 발생률이 주어졌을 때, 고정된 시간 또는 공간의 구간 내에서, 해당 사건이 주어진 횟수 만큼 발생할 확률을 수학적으로 묘사한다.\n",
    "    * The number of guests visiting a bank's branch<br>은행의 지점을 방문하는 손님의 수\n",
    "\n"
   ]
  },
  {
   "cell_type": "code",
   "execution_count": null,
   "metadata": {},
   "outputs": [],
   "source": [
    "# Parameter\n",
    "average_rate = 3  # ex : Average number of guests in one hour\n",
    "\n",
    "# Possible outcomes (number of events)\n",
    "outcomes = np.arange(0, 15)\n",
    "\n",
    "# Calculate probabilities for each outcome\n",
    "pmf_values = scipy.stats.poisson.pmf(outcomes, average_rate)\n",
    "\n",
    "# Plot the distribution (bar chart)\n",
    "plt.stem(outcomes, pmf_values)\n",
    "plt.xlabel('Number of Events')\n",
    "plt.ylabel('Probability')\n",
    "plt.title(f'Poisson Distribution (average rate = {average_rate})')\n",
    "plt.grid(True)\n",
    "\n"
   ]
  },
  {
   "cell_type": "markdown",
   "metadata": {},
   "source": [
    "#### Exponential distribution<br>지수 분포\n",
    "\n"
   ]
  },
  {
   "cell_type": "markdown",
   "metadata": {},
   "source": [
    "* The exponential distribution models the amount of time until a specific event occurs in a continuous process where events occur randomly and independently at a constant average rate.<br>지수 분포는 사건이 무작위로 독립적으로 일정한 평균 비율로 일어날 때 특정 사건이 일어날 때 까지의 시간의 확률이다.\n",
    "    * The waiting times between arrivals of customers<br>손님 방문 간격\n",
    "\n"
   ]
  },
  {
   "cell_type": "code",
   "execution_count": null,
   "metadata": {},
   "outputs": [],
   "source": [
    "# Parameter\n",
    "rate = 2.0  # ex : Average number of guests in one hour\n",
    "average_hr = 1 / rate  # Calculate the mean waiting time\n",
    "x_array = np.linspace(0, 3.0, 41)\n",
    "\n",
    "# Generate random samples\n",
    "expo_pdf = scipy.stats.expon.pdf(x_array, scale=average_hr)\n",
    "expo_cdf = scipy.stats.expon.cdf(x_array, scale=average_hr)\n",
    "\n",
    "_, axs = plt.subplots(2, 1,)\n",
    "\n",
    "# Plot the distribution\n",
    "axs[0].plot(x_array, expo_pdf)\n",
    "axs[0].set_ylabel('Frequency')\n",
    "axs[0].set_title(f'Exponential Distribution (ave wait time = {average_hr} hr)')\n",
    "axs[0].grid(True)\n",
    "\n",
    "\n",
    "# Plot the distribution\n",
    "axs[1].plot(x_array, expo_cdf)\n",
    "axs[1].set_xlabel('Time until event(hours)')\n",
    "axs[1].set_ylabel('Probability')\n",
    "axs[1].grid(True)\n",
    "\n"
   ]
  },
  {
   "cell_type": "markdown",
   "metadata": {},
   "source": [
    "#### Weibull distribution<br>Weibull 분포\n",
    "\n"
   ]
  },
  {
   "cell_type": "markdown",
   "metadata": {},
   "source": [
    "* The Weibull distribution is a versatile probability distribution used to model the time-to-failure of components or systems, where the failure rate can change over time.<br>Weibull 분포는 부품 또는 시스템의 고장 확률이 시간에 따라 변화할 때 해당 고장이 발생할 때 까지의 시간을 모델링하는데 매우 널리 사용된다.\n",
    "\n"
   ]
  },
  {
   "cell_type": "code",
   "execution_count": null,
   "metadata": {},
   "outputs": [],
   "source": [
    "# Parameters (shape and scale)\n",
    "# shape < 1 : The rate would decrease over time\n",
    "# shape = 1 : The rate would stay constant over time\n",
    "# shape > 1 : The rate would increase over time\n",
    "# scale : for example, hour of operation until ~ 63% failures\n",
    "\n",
    "_, axs = plt.subplots(2, 1)\n",
    "\n",
    "for shape in (0.5, 1.0, 2.0):\n",
    "    scale = 1000\n",
    "    x_array = np.linspace(0, 2500, 21)\n",
    "\n",
    "    # Generate random samples\n",
    "    weibull_pdf = scipy.stats.weibull_min.pdf(x_array, shape, scale=scale)\n",
    "    weibull_cdf = scipy.stats.weibull_min.cdf(x_array, shape, scale=scale)\n",
    "\n",
    "    # Plot the distribution\n",
    "    axs[0].plot(x_array, weibull_pdf, label=f'shape={shape}')\n",
    "    axs[0].set_ylabel('Frequency')\n",
    "    axs[0].set_title(f'Weibull Distribution (shape = {shape}, scale = {scale})')\n",
    "    axs[0].legend(loc=0)\n",
    "    axs[0].grid(True)\n",
    "\n",
    "    axs[1].plot(x_array, weibull_cdf, label=f'shape={shape}')\n",
    "    axs[1].set_xlabel('Time to event')\n",
    "    axs[1].set_ylabel('Probability')\n",
    "    axs[1].legend(loc=0)\n",
    "    axs[1].grid(True)\n",
    "\n"
   ]
  },
  {
   "cell_type": "markdown",
   "metadata": {},
   "source": [
    "## Generating Random Numbers in Python<br>파이썬에서의 확률변수 생성\n",
    "\n"
   ]
  },
  {
   "cell_type": "markdown",
   "metadata": {},
   "source": [
    "### Pseudorandom Number Generators<br>의사(유사)난수 생성기\n"
   ]
  },
  {
   "cell_type": "markdown",
   "metadata": {},
   "source": [
    "Functions such as `py.random()` are pseudorandom number generators.<br>`py.random()` 등은 유사 난수 발생기이다.\n",
    "\n"
   ]
  },
  {
   "cell_type": "markdown",
   "metadata": {},
   "source": [
    "<br>It would generate a sequence of numbers showing similar characteristics of random numbers, they are not truely random.[[wikipedia](https://en.wikipedia.org/wiki/Pseudorandom_number_generator)]<br>난수, 임의의 숫자와 비슷한 특징을 보이는 일련의 숫자열을 발생시키지만 정말로 무작위인 것은 아니다.\n",
    "\n"
   ]
  },
  {
   "cell_type": "markdown",
   "metadata": {},
   "source": [
    "`seed`로 난수 발생을 통제할 수 있다.<br>We can control random number generation using `seed`.\n",
    "\n"
   ]
  },
  {
   "cell_type": "code",
   "execution_count": null,
   "metadata": {},
   "outputs": [],
   "source": [
    "import pylab as py\n",
    "\n"
   ]
  },
  {
   "cell_type": "markdown",
   "metadata": {},
   "source": [
    "다음 두 셀의 결과는 다를 것이다.<br>Following two cells would show different results.\n",
    "\n"
   ]
  },
  {
   "cell_type": "code",
   "execution_count": null,
   "metadata": {},
   "outputs": [],
   "source": [
    "py.seed()\n",
    "py.random([5,])\n",
    "\n"
   ]
  },
  {
   "cell_type": "code",
   "execution_count": null,
   "metadata": {
    "scrolled": true
   },
   "outputs": [],
   "source": [
    "py.seed()\n",
    "py.random([5,])\n",
    "\n"
   ]
  },
  {
   "cell_type": "markdown",
   "metadata": {},
   "source": [
    "다음 두 셀의 결과는 같을 것이다.<br>Following two cells would show the same results.\n",
    "\n"
   ]
  },
  {
   "cell_type": "code",
   "execution_count": null,
   "metadata": {},
   "outputs": [],
   "source": [
    "seed = 2038011903\n",
    "py.seed(seed)\n",
    "py.random([5,])\n",
    "\n"
   ]
  },
  {
   "cell_type": "code",
   "execution_count": null,
   "metadata": {},
   "outputs": [],
   "source": [
    "py.seed(seed)\n",
    "py.random([5,])\n",
    "\n"
   ]
  },
  {
   "cell_type": "markdown",
   "metadata": {},
   "source": [
    "### Standard Library<br>표준 라이브러리\n",
    "\n"
   ]
  },
  {
   "cell_type": "markdown",
   "metadata": {},
   "source": [
    "#### Uniform distribution<br>균일분포\n",
    "\n"
   ]
  },
  {
   "cell_type": "markdown",
   "metadata": {},
   "source": [
    "$n$개의 난수를 0 과 1 사이에서 균일 분포에 따라 발생시켜 보자.<br>Let's generate $n$ random numbers between zero and one following the uniform distribution.\n",
    "\n"
   ]
  },
  {
   "cell_type": "code",
   "execution_count": null,
   "metadata": {},
   "outputs": [],
   "source": [
    "n = 10000\n",
    "x_min = 0.0\n",
    "x_max = 1.0\n",
    "\n"
   ]
  },
  {
   "cell_type": "markdown",
   "metadata": {},
   "source": [
    "파이썬 표준 라이브러리 가운데서는 `random` 모듈을 사용할 수 있다.<br>One can use `random` of the python standard libraries.\n",
    "\n"
   ]
  },
  {
   "cell_type": "code",
   "execution_count": null,
   "metadata": {},
   "outputs": [],
   "source": [
    "import random\n",
    "\n"
   ]
  },
  {
   "cell_type": "markdown",
   "metadata": {},
   "source": [
    "`random` 모듈을 사용하기 전 반드시 `seed()` 함수로 초기화 하도록 하자.<br>\n",
    "Let's always initialize by calling `seed()` function before using `random` module.\n",
    "\n"
   ]
  },
  {
   "cell_type": "code",
   "execution_count": null,
   "metadata": {},
   "outputs": [],
   "source": [
    "random.seed(1)\n",
    "\n"
   ]
  },
  {
   "cell_type": "markdown",
   "metadata": {},
   "source": [
    "`random.uniform()` 함수는 균일분포를 따르는 임의의 `float` 실수를 생성할 수 있다.<br>\n",
    "`random.uniform()` can generate random `float`s following the uniform distribution.\n",
    "\n"
   ]
  },
  {
   "cell_type": "code",
   "execution_count": null,
   "metadata": {},
   "outputs": [],
   "source": [
    "uniform_random_numbers_list = []\n",
    "\n",
    "for i in range(n):\n",
    "    uniform_random_numbers_list.append(random.uniform(x_min, x_max))\n",
    "\n"
   ]
  },
  {
   "cell_type": "markdown",
   "metadata": {},
   "source": [
    "0.1 간격으로 칸의 경계를 준비하자.<br>Let's prepare edges of bins with 0.1 interval.\n",
    "\n"
   ]
  },
  {
   "cell_type": "code",
   "execution_count": null,
   "metadata": {},
   "outputs": [],
   "source": [
    "bin_interval = 0.1\n",
    "bins_array = np.arange(x_min, x_max+0.5*bin_interval, bin_interval)\n",
    "bins_array\n",
    "\n"
   ]
  },
  {
   "cell_type": "markdown",
   "metadata": {},
   "source": [
    "히스토그램을 그려 보자.<br>Let's plot the histogram.\n",
    "\n"
   ]
  },
  {
   "cell_type": "code",
   "execution_count": null,
   "metadata": {},
   "outputs": [],
   "source": [
    "hist_uniform = np.histogram(uniform_random_numbers_list, bins=bins_array)\n",
    "\n"
   ]
  },
  {
   "cell_type": "code",
   "execution_count": null,
   "metadata": {},
   "outputs": [],
   "source": [
    "bar(bins_array, hist_uniform[0])\n",
    "plt.grid(True)\n",
    "plt.title('Histogram, Uniform distribution : Standard library')\n",
    "plt.xlabel('value')\n",
    "plt.ylabel('frequency');\n",
    "\n"
   ]
  },
  {
   "cell_type": "markdown",
   "metadata": {},
   "source": [
    "확률을 계산해 보자.<br>Let's calculate the probabilities.\n",
    "\n"
   ]
  },
  {
   "cell_type": "code",
   "execution_count": null,
   "metadata": {},
   "outputs": [],
   "source": [
    "probaility_uniform = hist_uniform[0] / n\n",
    "\n"
   ]
  },
  {
   "cell_type": "code",
   "execution_count": null,
   "metadata": {},
   "outputs": [],
   "source": [
    "bar(bins_array, probaility_uniform)\n",
    "plt.grid(True)\n",
    "plt.title('Probability, Uniform distribution : Standard library')\n",
    "plt.xlabel('value')\n",
    "plt.ylabel('probability');\n",
    "\n"
   ]
  },
  {
   "cell_type": "markdown",
   "metadata": {},
   "source": [
    "#### Normal distribution<br>정규분포\n",
    "\n"
   ]
  },
  {
   "cell_type": "markdown",
   "metadata": {},
   "source": [
    "이번에는 $n$개의 난수를 평균은 0, 표준편차는 1인 정규 분포를 따르도록 발생시켜 보자.<br>Now, let's generate $n$ random numbers following a normal distribution with average and standard deviation of zero and one respectively.\n",
    "\n"
   ]
  },
  {
   "cell_type": "code",
   "execution_count": null,
   "metadata": {},
   "outputs": [],
   "source": [
    "n = 10000\n",
    "x_ave = 0.0\n",
    "x_std = 1.0\n",
    "\n"
   ]
  },
  {
   "cell_type": "markdown",
   "metadata": {},
   "source": [
    "`random.normalvariate()` 또는 `random.gauss()` 함수를 사용할 수 있다.<br>\n",
    "`random.normalvariate()` or `random.gauss()` functions are available.\n",
    "\n"
   ]
  },
  {
   "cell_type": "code",
   "execution_count": null,
   "metadata": {},
   "outputs": [],
   "source": [
    "normal_random_numbers_list = [random.normalvariate(x_ave, x_std) for i in range(n)]\n",
    "\n"
   ]
  },
  {
   "cell_type": "markdown",
   "metadata": {},
   "source": [
    "히스토그램을 그려 보자.<br>Let's plot the histogram.\n",
    "\n"
   ]
  },
  {
   "cell_type": "code",
   "execution_count": null,
   "metadata": {},
   "outputs": [],
   "source": [
    "bin_interval = 0.1\n",
    "bins_array = np.arange(x_ave + (-3)*x_std, x_ave + (+3)*x_std + 0.5*bin_interval, bin_interval)\n",
    "\n"
   ]
  },
  {
   "cell_type": "code",
   "execution_count": null,
   "metadata": {},
   "outputs": [],
   "source": [
    "hist_normal = np.histogram(normal_random_numbers_list, bins=bins_array)\n",
    "\n"
   ]
  },
  {
   "cell_type": "code",
   "execution_count": null,
   "metadata": {},
   "outputs": [],
   "source": [
    "bar(bins_array, hist_normal[0])\n",
    "plt.grid(True)\n",
    "plt.title('Normal distribution : Standard library')\n",
    "plt.xlabel('value')\n",
    "plt.ylabel('frequency');\n",
    "\n"
   ]
  },
  {
   "cell_type": "markdown",
   "metadata": {},
   "source": [
    "확률:<br>Probabilities:\n",
    "\n"
   ]
  },
  {
   "cell_type": "code",
   "execution_count": null,
   "metadata": {},
   "outputs": [],
   "source": [
    "probaility_normal = hist_normal[0] / n\n",
    "\n"
   ]
  },
  {
   "cell_type": "code",
   "execution_count": null,
   "metadata": {},
   "outputs": [],
   "source": [
    "bar(bins_array, probaility_normal)\n",
    "plt.grid(True)\n",
    "plt.title('Probability, Normal distribution : Standard library')\n",
    "plt.xlabel('value')\n",
    "plt.ylabel('probability');\n",
    "\n"
   ]
  },
  {
   "cell_type": "markdown",
   "metadata": {},
   "source": [
    "### `numpy.random`\n",
    "\n"
   ]
  },
  {
   "cell_type": "markdown",
   "metadata": {},
   "source": [
    "#### Uniform distribution<br>균일분포\n",
    "\n"
   ]
  },
  {
   "cell_type": "markdown",
   "metadata": {},
   "source": [
    "`numpy`의 부 모듈 가운데 `numpy.random` 모듈을 이용할 수도 있다.<br>\n",
    "One can also use `numpy.random`, a submodule of the `numpy`.\n",
    "\n"
   ]
  },
  {
   "cell_type": "code",
   "execution_count": null,
   "metadata": {},
   "outputs": [],
   "source": [
    "import numpy.random as nr\n",
    "\n"
   ]
  },
  {
   "cell_type": "markdown",
   "metadata": {},
   "source": [
    "`numpy.random.uniform()` 함수는 균일분포를 따르는 임의의 `float` 실수를 생성할 수 있다.<br>\n",
    "`numpy.random.uniform()` can generate random `float`s following the uniform distribution.\n",
    "\n"
   ]
  },
  {
   "cell_type": "code",
   "execution_count": null,
   "metadata": {},
   "outputs": [],
   "source": [
    "uniform_random_numbers_array = nr.uniform(x_min, x_max, n)\n",
    "\n"
   ]
  },
  {
   "cell_type": "markdown",
   "metadata": {},
   "source": [
    "히스토그램을 그려 보자.  칸의 경계는 재사용하자.<br>\n",
    "Let's plot the histogram reusing the edges of the bins.\n",
    "\n"
   ]
  },
  {
   "cell_type": "code",
   "execution_count": null,
   "metadata": {},
   "outputs": [],
   "source": [
    "hist_uniform_nr = np.histogram(uniform_random_numbers_array, bins=bins_array)\n",
    "\n"
   ]
  },
  {
   "cell_type": "code",
   "execution_count": null,
   "metadata": {},
   "outputs": [],
   "source": [
    "bar(bins_array, hist_uniform_nr[0])\n",
    "plt.grid(True)\n",
    "plt.title('Histogram, Uniform distribution : numpy.random')\n",
    "plt.xlabel('value')\n",
    "plt.ylabel('frequency');\n",
    "\n"
   ]
  },
  {
   "cell_type": "markdown",
   "metadata": {},
   "source": [
    "확률도 계산해 보자.<br>Let's calculate the probabilities, too.\n",
    "\n"
   ]
  },
  {
   "cell_type": "code",
   "execution_count": null,
   "metadata": {},
   "outputs": [],
   "source": [
    "probaility_uniform = hist_uniform_nr[0] / n\n",
    "\n"
   ]
  },
  {
   "cell_type": "code",
   "execution_count": null,
   "metadata": {},
   "outputs": [],
   "source": [
    "bar(bins_array, probaility_uniform)\n",
    "plt.grid(True)\n",
    "plt.title('Probability, Uniform distribution : numpy.random')\n",
    "plt.xlabel('value')\n",
    "plt.ylabel('probability');\n",
    "\n"
   ]
  },
  {
   "cell_type": "markdown",
   "metadata": {},
   "source": [
    "#### Normal distribution<br>정규분포\n",
    "\n"
   ]
  },
  {
   "cell_type": "markdown",
   "metadata": {},
   "source": [
    "`numpy.random.normal()` 함수를 쓸 수 있다.<br>\n",
    "One can use the `numpy.random.normal()` function.\n",
    "\n"
   ]
  },
  {
   "cell_type": "code",
   "execution_count": null,
   "metadata": {},
   "outputs": [],
   "source": [
    "normal_random_numbers_nr = nr.normal(x_min, x_max, n)\n",
    "\n"
   ]
  },
  {
   "cell_type": "markdown",
   "metadata": {},
   "source": [
    "히스토그램을 그려 보자.<br>Let's plot the histogram.\n",
    "\n"
   ]
  },
  {
   "cell_type": "code",
   "execution_count": null,
   "metadata": {},
   "outputs": [],
   "source": [
    "hist_normal_nr = np.histogram(normal_random_numbers_nr, bins=bins_array)\n",
    "\n"
   ]
  },
  {
   "cell_type": "code",
   "execution_count": null,
   "metadata": {},
   "outputs": [],
   "source": [
    "bar(bins_array, hist_normal_nr[0])\n",
    "plt.grid(True)\n",
    "plt.title('Normal distribution : numpy.random')\n",
    "plt.xlabel('value')\n",
    "plt.ylabel('frequency');\n",
    "\n"
   ]
  },
  {
   "cell_type": "markdown",
   "metadata": {},
   "source": [
    "확률:<br>Probabilities:\n",
    "\n"
   ]
  },
  {
   "cell_type": "code",
   "execution_count": null,
   "metadata": {},
   "outputs": [],
   "source": [
    "probaility_normal_nr = hist_normal_nr[0] / n\n",
    "\n"
   ]
  },
  {
   "cell_type": "code",
   "execution_count": null,
   "metadata": {},
   "outputs": [],
   "source": [
    "bar(bins_array, probaility_normal_nr)\n",
    "plt.grid(True)\n",
    "plt.title('Probability, Normal distribution : numpy.random')\n",
    "plt.xlabel('value')\n",
    "plt.ylabel('probability');\n",
    "\n"
   ]
  },
  {
   "cell_type": "markdown",
   "metadata": {},
   "source": [
    "누적확률:<br>Cumulative probability\n",
    "\n"
   ]
  },
  {
   "cell_type": "code",
   "execution_count": null,
   "metadata": {},
   "outputs": [],
   "source": [
    "norm_cp = np.cumsum(probaility_normal_nr)\n",
    "bar(bins_array, norm_cp)\n",
    "plt.grid(True)\n",
    "plt.title('Cumulative probability, Normal distribution : numpy.random')\n",
    "plt.xlabel('value')\n",
    "plt.ylabel('probability');\n",
    "\n"
   ]
  },
  {
   "cell_type": "markdown",
   "metadata": {},
   "source": [
    "누적 분포 함수와의 비교<br>Comparing with the cumulative distribution function (cdf)\n",
    "\n"
   ]
  },
  {
   "cell_type": "code",
   "execution_count": null,
   "metadata": {},
   "outputs": [],
   "source": [
    "norm_cdf = scipy.stats.norm.cdf(bins_array)\n",
    "\n",
    "bar(bins_array, norm_cp)\n",
    "plt.plot(bins_array, norm_cdf, 'r-')\n",
    "plt.grid(True)\n",
    "plt.title('Cumulative probability, Normal distribution : numpy.random')\n",
    "plt.xlabel('value')\n",
    "plt.ylabel('probability');\n",
    "\n"
   ]
  },
  {
   "cell_type": "markdown",
   "metadata": {},
   "source": [
    "누적분포 함수의 역함수:<br>Inverse of cumulative distribution function\n",
    "\n"
   ]
  },
  {
   "cell_type": "code",
   "execution_count": null,
   "metadata": {},
   "outputs": [],
   "source": [
    "normal_random_varaible = scipy.stats.norm()\n",
    "ppf = normal_random_varaible.ppf\n"
   ]
  },
  {
   "cell_type": "markdown",
   "metadata": {},
   "source": [
    "균일 분포로 발생시켰던 난수로 누적분포함수의 역함수를 호출해 보자.<br>Let's call the inverse of the cumulative distribution function with the instances of the uniform random number as the argument.\n"
   ]
  },
  {
   "cell_type": "code",
   "execution_count": null,
   "metadata": {},
   "outputs": [],
   "source": [
    "ppf_uniform = ppf(uniform_random_numbers_array)\n",
    "\n"
   ]
  },
  {
   "cell_type": "markdown",
   "metadata": {},
   "source": [
    "그 히스토그램은 해당 cdf와 관련되어 있을 것이다.<br>The histogram would be related to the cdf.\n",
    "\n"
   ]
  },
  {
   "cell_type": "code",
   "execution_count": null,
   "metadata": {},
   "outputs": [],
   "source": [
    "hist_normal_inv_cdf = np.histogram(ppf_uniform, bins=bins_array)\n",
    "\n",
    "bar(bins_array, hist_normal_inv_cdf[0])\n",
    "plt.grid(True)\n",
    "plt.title('Probability, uniform distribution through inverse of cdf')\n",
    "plt.xlabel('value')\n",
    "plt.ylabel('probability');\n",
    "\n"
   ]
  },
  {
   "cell_type": "markdown",
   "metadata": {},
   "source": [
    "## 히스토그램 그리기<br>Plotting a Histogram\n",
    "\n"
   ]
  },
  {
   "cell_type": "markdown",
   "metadata": {},
   "source": [
    "다음 비디오는 히스토그램을 그리는 예를 보여준다.<br>Following video shows an example of plotting a histogram.\n",
    "\n"
   ]
  },
  {
   "cell_type": "markdown",
   "metadata": {},
   "source": [
    "[![How to create a histogram | Data and statistics | Khan Academy](https://i.ytimg.com/vi/gSEYtAjuZ-Y/hqdefault.jpg)](https://www.youtube.com/watch?v=gSEYtAjuZ-Y)\n",
    "\n"
   ]
  },
  {
   "cell_type": "markdown",
   "metadata": {},
   "source": [
    "파이썬으로 한번 그려보자.<br>Let's plot it with python.\n",
    "\n"
   ]
  },
  {
   "cell_type": "markdown",
   "metadata": {},
   "source": [
    "다음 데이터를 생각해 보자.<br>Let's think about following data\n",
    "\n"
   ]
  },
  {
   "cell_type": "code",
   "execution_count": null,
   "metadata": {},
   "outputs": [],
   "source": [
    "data = [1, 3, 27, 32, 5, 63, 26, 25, 18, 16,\n",
    "        4, 45, 29, 19, 22, 51, 58, 9, 42, 6]\n",
    "\n"
   ]
  },
  {
   "cell_type": "markdown",
   "metadata": {},
   "source": [
    "0 부터 70 까지 히스토그램 칸의 경계를 준비해 보자.<br>Let's prepare for a list of edges between bins of the histogram.\n",
    "\n"
   ]
  },
  {
   "cell_type": "code",
   "execution_count": null,
   "metadata": {},
   "outputs": [],
   "source": [
    "bins_list = list(range(0, 70+1, 10))\n",
    "bins_list\n",
    "\n"
   ]
  },
  {
   "cell_type": "markdown",
   "metadata": {},
   "source": [
    "`numpy`에는 히스토그램을 계산하는 함수가 있다.<br>`numpy` has a function calculating the histogram.\n",
    "\n"
   ]
  },
  {
   "cell_type": "code",
   "execution_count": null,
   "metadata": {
    "scrolled": true
   },
   "outputs": [],
   "source": [
    "hist_result = np.histogram(data, bins=bins_list)\n",
    "hist_result\n",
    "\n"
   ]
  },
  {
   "cell_type": "markdown",
   "metadata": {},
   "source": [
    "`matplotlib`에는 히스토그램을 그려주는 함수도 있다.<br>`matplotlib` has a function plotting the histogram.\n",
    "\n"
   ]
  },
  {
   "cell_type": "code",
   "execution_count": null,
   "metadata": {},
   "outputs": [],
   "source": [
    "plt.hist(data, bins=bins_list)\n",
    "plt.grid(True)\n",
    "plt.title('Histogram')\n",
    "plt.xlabel('value')\n",
    "plt.ylabel('frequency');\n",
    "\n"
   ]
  },
  {
   "cell_type": "markdown",
   "metadata": {},
   "source": [
    "칸 경계는 자동으로 정할 수도 있다.<br>One may let the function choose the bins.\n",
    "\n"
   ]
  },
  {
   "cell_type": "code",
   "execution_count": null,
   "metadata": {},
   "outputs": [],
   "source": [
    "plt.hist(data, bins='auto');\n",
    "plt.grid(True)\n",
    "plt.title('Histogram')\n",
    "plt.xlabel('value')\n",
    "plt.ylabel('frequency')\n",
    "\n"
   ]
  },
  {
   "cell_type": "markdown",
   "metadata": {},
   "source": [
    "`matplotlib`의 `bar()` 함수로 그릴 수도 있다.<br>`bar()` function of `matplotlib` may plot too.\n",
    "\n"
   ]
  },
  {
   "cell_type": "code",
   "execution_count": null,
   "metadata": {},
   "outputs": [],
   "source": [
    "def bar(bins, result_0):\n",
    "    width_list = [b1 - b0 for b0, b1 in zip(bins[:-1], bins[1:])]\n",
    "    return plt.bar(bins[:-1], result_0, width=width_list, align='edge')\n",
    "\n"
   ]
  },
  {
   "cell_type": "code",
   "execution_count": null,
   "metadata": {},
   "outputs": [],
   "source": [
    "bar(bins_list, hist_result[0])\n",
    "plt.grid(True)\n",
    "\n",
    "plt.title('Histogram')\n",
    "plt.xlabel('value')\n",
    "plt.ylabel('frequency');\n",
    "\n"
   ]
  },
  {
   "cell_type": "markdown",
   "metadata": {},
   "source": [
    "## 참고문헌<br>References\n",
    "\n"
   ]
  },
  {
   "cell_type": "markdown",
   "metadata": {},
   "source": [
    "[[ref0](https://docs.python.org/3/library/random.html)]\n",
    "[[ref1](https://numpy.org/doc/stable/reference/generated/numpy.histogram.html)]\n",
    "[[ref2](https://stackoverflow.com/a/33372888)]\n",
    "[[ref3](https://numpy.org/doc/stable/reference/random/index.html)]\n",
    "\n"
   ]
  },
  {
   "cell_type": "markdown",
   "metadata": {},
   "source": [
    "## Final Bell<br>마지막 종\n",
    "\n"
   ]
  },
  {
   "cell_type": "code",
   "execution_count": null,
   "metadata": {},
   "outputs": [],
   "source": [
    "# stackoverfow.com/a/24634221\n",
    "import os\n",
    "os.system(\"printf '\\a'\");\n",
    "\n"
   ]
  },
  {
   "cell_type": "code",
   "execution_count": null,
   "metadata": {},
   "outputs": [],
   "source": []
  }
 ],
 "metadata": {
  "colab": {
   "include_colab_link": true,
   "provenance": []
  },
  "kernelspec": {
   "display_name": "Python 3 (ipykernel)",
   "language": "python",
   "name": "python3"
  },
  "language_info": {
   "codemirror_mode": {
    "name": "ipython",
    "version": 3
   },
   "file_extension": ".py",
   "mimetype": "text/x-python",
   "name": "python",
   "nbconvert_exporter": "python",
   "pygments_lexer": "ipython3",
   "version": "3.10.0"
  }
 },
 "nbformat": 4,
 "nbformat_minor": 4
}