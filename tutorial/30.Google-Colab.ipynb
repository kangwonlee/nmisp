{
 "cells": [
  {
   "cell_type": "markdown",
   "metadata": {
    "id": "view-in-github",
    "colab_type": "text"
   },
   "source": [
    "<a href=\"https://colab.research.google.com/github/kangwonlee/nmisp/blob/main/tutorial/30.Google-Colab.ipynb\" target=\"_parent\"><img src=\"https://colab.research.google.com/assets/colab-badge.svg\" alt=\"Open In Colab\"/></a>\n"
   ]
  },
  {
   "cell_type": "markdown",
   "metadata": {},
   "source": [
    "# 구글 코랩에서 Github 의 ipynb 읽는 법<br>How to read an ipynb from Github on the Google Colab\n",
    "\n",
    "## 미리 준비할 사항<br>Prerequisites\n",
    "1. Google 계정<br>Google account\n",
    "1. 깃헙 액세스 토큰<br>Github access token\n",
    "1. 자신의 저장소 주소<br>Web address to your repository\n",
    "\n",
    "## 절차<br>Procedure :\n",
    "1. Google Drive 로 로그인<br>Login to drive.google.com\n",
    "1. `Colab Notebooks` 폴더가 없으면 생성<br>Make `Colab Notebooks` folder if not visible\n",
    "1. https://colab.research.google.com/ 로 이동<br>Go to https://colab.research.google.com/\n",
    "1. **new notebook** 선택<br>Select **new notebook**\n",
    "1. 코드 셀에 아래 코드를 입력하고 <kbd>Shift</kbd><kbd>Enter</kbd><br>Enter following code and then press <kbd>Shift</kbd><kbd>Enter</kbd>\n",
    "\n"
   ]
  },
  {
   "cell_type": "code",
   "execution_count": null,
   "metadata": {},
   "outputs": [],
   "source": [
    "# This cell is for the Google Colaboratory\n",
    "# https://stackoverflow.com/a/63519730\n",
    "if 'google.colab' in str(get_ipython()):\n",
    "    import google.colab.drive as gcdrive\n",
    "    gcdrive.mount(\"/content/drive/\")\n",
    "\n"
   ]
  },
  {
   "cell_type": "markdown",
   "metadata": {},
   "source": [
    "6. 코랩에서 다른 주소에 가서 인증코드를 받아 오라고 하면 <kbd>Ctrl</kbd><kbd>Click</kbd><br>The Colab will ask you to visit a link for an authorization code.  <kbd>Ctrl</kbd><kbd>Click</kbd>on the link\n",
    "1. 자신의 계정을 선택<br>Choose your account\n",
    "1. **로그인** 선택<br>Select **Login**\n",
    "1. 아이콘을 선택하여 인증코드를 복사<br>Copy the authorization code by clicking on the icon\n",
    "1. 코랩 페이지로 복귀<br>Go back to your Colab page\n",
    "1. 인증코드를 붙여넣고 <kbd>Enter</kbd><br>Paste the authorization code & press <kbd>Enter</kbd>\n",
    "1. 코드 셀을 하나 더 만들어서 아래 코드를 입력하고 <kbd>Shift</kbd><kbd>Enter</kbd><br>Enter following code and then press <kbd>Shift</kbd><kbd>Enter</kbd>\n",
    "\n"
   ]
  },
  {
   "cell_type": "code",
   "execution_count": null,
   "metadata": {},
   "outputs": [],
   "source": [
    "# This cell is for the Google Colaboratory\n",
    "# https://stackoverflow.com/a/63519730\n",
    "if 'google.colab' in str(get_ipython()):\n",
    "    %cd \"/content/drive/My Drive/Colab Notebooks/\"\n",
    "    !pwd\n",
    "\n"
   ]
  },
  {
   "cell_type": "markdown",
   "metadata": {},
   "source": [
    "`Colab Notebooks`가 새로운 작업 폴더가 될 것임<br>\n",
    "`Colab Notebooks` will be the new working directory\n",
    "\n",
    "13. 아래 코드를 입력 (후 <kbd>Shift</kbd><kbd>Enter</kbd>)<br>Enter following code (and <kbd>Shift</kbd><kbd>Enter</kbd>)\n",
    "\n"
   ]
  },
  {
   "cell_type": "markdown",
   "metadata": {},
   "source": [
    "example:\n",
    "\n",
    "| 항목 item | 값 value |\n",
    "|:-----:|:-----:|\n",
    "| Github access token | 1122aa33 |\n",
    "| Github id (or org) | abcd  |\n",
    "| repositoy name | efg123 |\n",
    "\n",
    "```\n",
    "!git clone https://1122aa33@github.com/abcd/efg123\n",
    "```\n",
    "\n"
   ]
  },
  {
   "cell_type": "code",
   "execution_count": null,
   "metadata": {},
   "outputs": [],
   "source": [
    "# This cell is for the Google Colaboratory\n",
    "# https://stackoverflow.com/a/63519730\n",
    "if 'google.colab' in str(get_ipython()):\n",
    "    !git clone https://[github access token]@github.com/<your github id or org>/<your repo>\n",
    "\n",
    "    \n"
   ]
  },
  {
   "cell_type": "markdown",
   "metadata": {},
   "source": [
    "14. https://drive.google.com/ 로 이동 <br> Go to https://drive.google.com/\n",
    "1. `Colab Notebooks` 로 이동 <br> Go to `Colab Notebooks`\n",
    "1. 폴더들 가운데 하나를 선택 <br> Double click on one of the folders\n",
    "1. `.ipynb` 파일들 가운데 하나를 선택 <br> Double click on one of the `.ipynb` files\n",
    "1. 메뉴에서 Runtime/Run All<br>Choose Runtime/Run All of Menu<br>\n",
    "    인증코드를 다시 받아와야할 수도 있음\n",
    "    Might need to visit another link for another authorization code\n",
    "1. 어떤 결과는 접혀 있으므로 왼쪽의 작은 검은 삼각형을 선택하여 펼쳐야 할 수도 있음<br>To see some of the results, you may need to unfold by clicking on small black triangle on the left\n",
    "\n"
   ]
  },
  {
   "cell_type": "code",
   "execution_count": null,
   "metadata": {},
   "outputs": [],
   "source": []
  }
 ],
 "metadata": {
  "kernelspec": {
   "display_name": "Python 3 (ipykernel)",
   "language": "python",
   "name": "python3"
  },
  "language_info": {
   "codemirror_mode": {
    "name": "ipython",
    "version": 3
   },
   "file_extension": ".py",
   "mimetype": "text/x-python",
   "name": "python",
   "nbconvert_exporter": "python",
   "pygments_lexer": "ipython3",
   "version": "3.8.8"
  }
 },
 "nbformat": 4,
 "nbformat_minor": 5
}