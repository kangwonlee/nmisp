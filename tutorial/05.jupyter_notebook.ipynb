{
 "cells": [
  {
   "cell_type": "markdown",
   "metadata": {
    "id": "view-in-github",
    "colab_type": "text"
   },
   "source": [
    "<a href=\"https://colab.research.google.com/github/kangwonlee/nmisp/blob/dependabot/pip/tests/requests-2.31.0/tutorial/05.jupyter_notebook.ipynb\" target=\"_parent\"><img src=\"https://colab.research.google.com/assets/colab-badge.svg\" alt=\"Open In Colab\"/></a>\n"
   ]
  },
  {
   "cell_type": "markdown",
   "metadata": {},
   "source": [
    "# Jupyter Notebook\n",
    "\n"
   ]
  },
  {
   "cell_type": "markdown",
   "metadata": {},
   "source": [
    "* ref : [[0](https://jupyter.readthedocs.io/en/latest/content-quickstart.html)], [[1](https://github.com/ipython/ipython-in-depth)], [[2](https://github.com/ipython/ipython-in-depth/tree/old-in-depth)]\n",
    "\n"
   ]
  },
  {
   "cell_type": "markdown",
   "metadata": {},
   "source": [
    "## Introduction<br>소개\n",
    "\n"
   ]
  },
  {
   "cell_type": "markdown",
   "metadata": {},
   "source": [
    "* Jupyter Notebook is a web environment capable of running python (or some other programming language's) code.<br>Jupyter Notebook 은 웹페이지 형태로 파이썬 (또는 몇몇 다른 프로그래밍) 언어의 코드를 실행시켜볼 수 있는 환경임.\n",
    "\n",
    "\n"
   ]
  },
  {
   "cell_type": "markdown",
   "metadata": {},
   "source": [
    "* [The *Notebook* interface](https://en.wikipedia.org/wiki/Notebook_interface) itself first appeared when [Dr. Stephan Wolfram](https://en.wikipedia.org/wiki/Stephen_Wolfram) introduced the [Mathematica](https://en.wikipedia.org/wiki/Wolfram_Mathematica) in 1988.<br>[*노트북* 인터페이스](https://ko.wikipedia.org/wiki/매스매티카#인터페이스)가 처음으로 나타났던 것은 1988년 [Dr. Stephan Wolfram](https://en.wikipedia.org/wiki/Stephen_Wolfram) 이 [Mathematica](https://ko.wikipedia.org/wiki/매스매티카)를 소개하면서였음.\n",
    "\n"
   ]
  },
  {
   "cell_type": "markdown",
   "metadata": {},
   "source": [
    "* Composed of **cell**s<br>**셀** 단위로 이루어져 있음.\n",
    "* Mostly use code or markdown cells<br>대체로 코드 셀 또는 마크다운 셀을 사용.\n",
    "* To run some lines of code, enter the code in a code cell and press <kbd>Shift</kbd>+<kbd>Enter</kbd><br>코드를 실행하기 위해서는 코드 셀에 코드를 입력하고 <kbd>Shift</kbd>+<kbd>Enter</kbd>를 입력.\n",
    "\n"
   ]
  },
  {
   "cell_type": "code",
   "execution_count": null,
   "metadata": {},
   "outputs": [],
   "source": [
    "# Click on this cell with your mouse and press Shift+Enter\n",
    "# 이 셀을 마우스로 선택한 후 Shift+Enter\n",
    "\n",
    "print(\"Hello Jupyter Notebook\")\n",
    "\n"
   ]
  },
  {
   "cell_type": "markdown",
   "metadata": {},
   "source": [
    "* The execution result shows up below the input area of the cell.<br>실행 결과는 셀의 입력 영역 아래에 나타남.\n",
    "\n"
   ]
  },
  {
   "cell_type": "markdown",
   "metadata": {},
   "source": [
    "* Also, as it takes a form of a web page, it can present various medias such as figures and moving pictures.<br>또한 웹페이지 형태이므로 그림 동영상 등 다양한 매체를 표시할 수 있음.\n",
    "\n"
   ]
  },
  {
   "cell_type": "markdown",
   "metadata": {},
   "source": [
    "![Jupyter Logo](https://jupyter.readthedocs.io/en/latest/_static/_images/jupyter.svg)\n",
    "\n"
   ]
  },
  {
   "cell_type": "markdown",
   "metadata": {},
   "source": [
    "[![Ray Dalio, Principles for Dealing with the Changing World Order](https://img.youtube.com/vi/xguam0TKMw8/hqdefault.jpg)](https://youtu.be/xguam0TKMw8)\n",
    "\n"
   ]
  },
  {
   "cell_type": "markdown",
   "metadata": {},
   "source": [
    "## Starting<br>시작\n",
    "\n"
   ]
  },
  {
   "cell_type": "markdown",
   "metadata": {},
   "source": [
    "### Unix, Linux, OSX or Windows\n",
    "\n"
   ]
  },
  {
   "cell_type": "markdown",
   "metadata": {},
   "source": [
    "* In a bash shell window, go to a folder containing `.ipynb` files of interest.<br>\n",
    "    배쉬 셸 창 안에서 대상 `.ipynb` 파일을 담고 있는 폴더로 이동.\n",
    "\n"
   ]
  },
  {
   "cell_type": "markdown",
   "metadata": {},
   "source": [
    "* Enter command: `jupyter notebook &`<br>`jupyter notebook &` 명령 입력.\n",
    "\n"
   ]
  },
  {
   "cell_type": "markdown",
   "metadata": {},
   "source": [
    "* After this, please do not close this bash window to keep jupyter notebook running.<br>이후 해당 창을 열어 두어야 jupyter notebook 이 계속 실행 가능.\n",
    "\n"
   ]
  },
  {
   "cell_type": "markdown",
   "metadata": {},
   "source": [
    "* Your computer's default web browser would start at the current folder.<br>컴퓨터의 기본 웹 브라우저가 실행되며 현 폴더를 보여 줄 것임.\n",
    "\n"
   ]
  },
  {
   "cell_type": "markdown",
   "metadata": {},
   "source": [
    "* Also, URLs similar to followings would be available within the output messages.<br>또한 아래와 유사한 URL이 출력 메시지에 포함.\n",
    "\n"
   ]
  },
  {
   "cell_type": "markdown",
   "metadata": {},
   "source": [
    "```\n",
    "[I 12:19:34.031 NotebookApp] The Jupyter Notebook is running at:\n",
    "[I 12:19:34.032 NotebookApp] http://localhost:8888/?token=abcdefghijklmnopqrstuvwxyz0123456789\n",
    "[I 12:19:34.032 NotebookApp]  or http://127.0.0.1:8888/?token=abcdefghijklmnopqrstuvwxyz0123456789\n",
    "```\n",
    "\n"
   ]
  },
  {
   "cell_type": "markdown",
   "metadata": {},
   "source": [
    "* One can open a new web browser, copy one of the URLs, and paste it to the address bar to see the same page.<br>\n",
    "    새로 웹 브라우저를 열고 위 URL 중 하나를 복사하여 주소난에 붙여 넣어도 같은 화면을 볼 수 있음.\n",
    "\n"
   ]
  },
  {
   "cell_type": "markdown",
   "metadata": {},
   "source": [
    "* `ps` command would show the *Process ID* number.<br>`ps` 명령으로 *프로세스 아이디* (PID) 번호를 확인 가능.\n",
    "\n"
   ]
  },
  {
   "cell_type": "markdown",
   "metadata": {},
   "source": [
    "```\n",
    "      PID    PPID    PGID     WINPID   TTY         UID    STIME COMMAND\n",
    "      604       1     604       9124  ?         197610 13:26:11 /usr/bin/ps\n",
    "      600     580     600       8493  cons0     197610 12:19:31 /.../Anaconda3/Scripts/jupyter\n",
    "      580       1     580       3644  cons0     197610 12:19:29 /usr/bin/bash\n",
    "```\n",
    "\n"
   ]
  },
  {
   "cell_type": "markdown",
   "metadata": {},
   "source": [
    "* From the example above, it is 600 of the second row.<br>위 예의 경우는 2번째 행의 600.\n",
    "\n"
   ]
  },
  {
   "cell_type": "markdown",
   "metadata": {},
   "source": [
    "### repl.it\n",
    "\n"
   ]
  },
  {
   "cell_type": "markdown",
   "metadata": {},
   "source": [
    "* ref : [[0]](https://repl.it/talk/ask/jupyter-notebook/5151)\n",
    "\n"
   ]
  },
  {
   "cell_type": "markdown",
   "metadata": {},
   "source": [
    "* Open the shell pane<br>Shell 칸을 엶.\n",
    "* `jupyter --version`<br>If `jupyter` is missing see **Installing notebook in repl**<br>`jupyter`가 없으면 **repl 에 notebook 설치** 참조.\n",
    "* `jupyter notebook password`<br>Choose a simple password<br>간단한 암호를 선택.\n",
    "* Select <kbd>Run</kbd><br><kbd>Run</kbd> 선택.\n",
    "* Open following url on a web browser<br>웹 브라우저에서 아래 주소를 엶.<br>`https://<repl_name_here>.<my_repl_id_here>.repl.co`\n",
    "* Enter password above<br>위에서 선택한 암호 입력.\n",
    "\n"
   ]
  },
  {
   "cell_type": "markdown",
   "metadata": {},
   "source": [
    "#### Installing noebook in repl.it<br>repl.it 에 notebook 설치\n",
    "\n"
   ]
  },
  {
   "cell_type": "markdown",
   "metadata": {},
   "source": [
    "* Modify a line in the `.replit` file as follows<br>`.replit` 파일의 한 행을 아래와 같이 변경<br>\n",
    "    `run = \"jupyter notebook --ip=0.0.0.0 --port=3000\"`\n",
    "* `pip list`<br>List of python packages<br>파이썬 패키지 목록\n",
    "* `pip install --upgrade pip`<br>Update `pip` to the latest<br>`pip` 최신판 설치\n",
    "* `pip install notebook`\n",
    "* `jupyter notebook --generate-config`\n",
    "\n"
   ]
  },
  {
   "cell_type": "markdown",
   "metadata": {},
   "source": [
    "## Ending<br>마치기\n",
    "\n"
   ]
  },
  {
   "cell_type": "markdown",
   "metadata": {},
   "source": [
    "* Before finishing, please make sure all files are saved.<br>마치기 전에 모두 저장되었는지 먼저 확인함.\n",
    "\n"
   ]
  },
  {
   "cell_type": "markdown",
   "metadata": {},
   "source": [
    "* There are several ways as follows.<br>아래와 같이 몇가지 방법이 있음.\n",
    "\n"
   ]
  },
  {
   "cell_type": "markdown",
   "metadata": {},
   "source": [
    "* At the upper right corner of the starting page, a <kbd>Quit</kbd> button is avaiable.<br>\n",
    "    시작 페이지 오른쪽 위 구석에 <kbd>Quit</kbd> 버튼이 있음.\n",
    "\n"
   ]
  },
  {
   "cell_type": "markdown",
   "metadata": {},
   "source": [
    "* If started `jupyter notebook &` on a Linux machine, enter `fg` to bring the `jupyter notebook` to the foreground and then press <kbd>Ctrl</kbd>+<kbd>C</kbd> twice.<br>\n",
    "    리눅스 상에서 `jupyter notebook &` 명령으로 실행했을 경우, `fg` 로 전환 후 <kbd>Ctrl</kbd>+<kbd>C</kbd>을 두번 누름.\n",
    "\n"
   ]
  },
  {
   "cell_type": "markdown",
   "metadata": {},
   "source": [
    "* `kill <PID>` command is also available.<br>`kill <PID>` 명령으로도 가능.\n",
    "\n"
   ]
  },
  {
   "cell_type": "markdown",
   "metadata": {},
   "source": [
    "* Or closing the shell window where `jupyter notebook &` command started.<br>또는 `jupyter notebook &` 명령이 실행된 셸 창을 닫음.\n",
    "\n"
   ]
  },
  {
   "cell_type": "markdown",
   "metadata": {},
   "source": [
    "## Editing Cells<br>셀 편집\n",
    "\n"
   ]
  },
  {
   "cell_type": "markdown",
   "metadata": {},
   "source": [
    "### Modes<br>모드\n",
    "\n"
   ]
  },
  {
   "cell_type": "markdown",
   "metadata": {},
   "source": [
    "* There are command and edit modes<br>명령 모드와 편집 모드가 있음.\n",
    "* Clicking on the inside (darker) or outside (brighter) of the input area selects edit or command mode, respectively<br>마우스로 입력 영역 안 (진한 색) 또는 밖 (흰 색) 을 클릭하면 각각 편집 또는 명령 모드로 선택.\n",
    "* The border of the cell is blue (green) if command (edit) mode.<br>셀 테두리가 명령 모드이면 파란색, 편집 모드로 바뀌면 초록색.\n",
    "* In the edit (command) mode, pressing <kbd>ESC</kbd> (<kbd>Enter</kbd>) would switch to command (edit) mode.<br>편집 모드에서 <kbd>ESC</kbd>를 누르면 명령 모드로, 명령 모드에서 <kbd>Enter</kbd>를 누르면 편집 모드로 변경.\n",
    "\n"
   ]
  },
  {
   "cell_type": "markdown",
   "metadata": {},
   "source": [
    "### 명령모드<br>Command Mode\n",
    "\n"
   ]
  },
  {
   "cell_type": "markdown",
   "metadata": {},
   "source": [
    "* ref : [[0](https://github.com/ipython/ipython-in-depth/blob/old-in-depth/examples/Notebook/Notebook%20Basics.ipynb#Keyboard-Navigation)], [[1](https://www.dataquest.io/blog/jupyter-notebook-tips-tricks-shortcuts)], [[2](https://stackoverflow.com/a/43229537)]\n",
    "\n"
   ]
  },
  {
   "cell_type": "markdown",
   "metadata": {},
   "source": [
    "| command | expected behavior |\n",
    "|:-----:|:-----:|\n",
    "| <kbd>h</kbd> | show keyboard shortcut help dialog<br>단축키 도움말 표시 |\n",
    "| <kbd>Ctrl</kbd>+<kbd>Shift</kbd>+<kbd>p</kbd><br><kbd>Cmd</kbd>+<kbd>Shift</kbd>+<kbd>p</kbd> | open command palette<br>명령 팔레트 열기 |\n",
    "| <kbd>L</kbd> | toggle line numbers<br>행 번호 표시 여부 전환 |\n",
    "| <kbd>Enter</kbd> | Edit mode<br>편집 모드 |\n",
    "| <kbd>Shift</kbd>+<kbd>Enter</kbd> | run cell, select below<br>실행 후 다음 선택 |\n",
    "| <kbd>Ctrl</kbd>+<kbd>Enter</kbd> | run cell<br>실행 |\n",
    "| <kbd>Alt</kbd>+<kbd>Enter</kbd> | run cell, insert below<br>실행 후 다음 셀 입력 |\n",
    "| <kbd>o</kbd> | toggle output<br>출력 표시 여부 전환 |\n",
    "| <kbd>Shift</kbd>+<kbd>o</kbd> | toggle output scroll<br>출력 표시 스크롤 여부 전환 |\n",
    "| <kbd>y</kbd> | to code<br>코드 셀로 |\n",
    "| <kbd>m</kbd> | to markdown<br>마크다운 셀로 |\n",
    "| <kbd>r</kbd> | to raw<br>raw 셀로 |\n",
    "| <kbd>1</kbd>~<kbd>6</kbd> | to heading level 1\\~6 <br> 1\\~6단계 제목으로 |\n",
    "| <kbd>k</kbd>(<kbd>j</kbd>)<br><kbd>&uarr;</kbd>(<kbd>&darr;</kbd>) | select cell above<br>위(아래) 셀 선택 |\n",
    "| <kbd>Shift</kbd>+<kbd>k</kbd>(<kbd>j</kbd>)<br><kbd>Shift</kbd>+<kbd>&uarr;</kbd>(<kbd>&darr;</kbd>) | extend selection above<br>위(아래) 셀로 선택 확장 |\n",
    "| <kbd>Shift</kbd>+<kbd>m</kbd> | merge selected cells<br>선택한 셀 병합 |\n",
    "| <kbd>a</kbd>(<kbd>b</kbd>) | insert cell above(below)<br>위(아래)에 셀 추가 |\n",
    "| <kbd>s</kbd><br><kbd>Ctrl</kbd>+<kbd>s</kbd> | Save and Checkpoint<br>저장 |\n",
    "| (<kbd>Shift</kbd>+)<kbd>Space</kbd> | scroll down(up)<br>한 페이지 아래(위)로 |\n",
    "| <kbd>x</kbd> | cut selected cell<br>선택 셀 자르기 |\n",
    "| <kbd>c</kbd> | copy selected cell<br>선택 셀 복사 |\n",
    "| (<kbd>Shift</kbd>+)<kbd>v</kbd> | paste cell below<br>선택 셀 아래(위)에 붙여넣기 |\n",
    "| <kbd>d</kbd><kbd>d</kbd><br><kbd>Delete</kbd> | delete selected cell<br>선택 셀 삭제 |\n",
    "| <kbd>z</kbd> | undo last cell deletion<br>마지막 셀 삭제 취소 |\n",
    "| <kbd>i</kbd><kbd>i</kbd> | interrupt kernel<br>커널 중단 |\n",
    "| <kbd>0</kbd><kbd>0</kbd> | restart kernel<br>커널 재시작 |\n",
    "| <kbd>Ctrl</kbd>+<kbd>c</kbd><br><kbd>Ctrl</kbd>+<kbd>v</kbd> | copy & paste across notebook files<br>복사 후 다른 노트북 파일에 붙여넣기 |\n",
    "\n"
   ]
  },
  {
   "cell_type": "markdown",
   "metadata": {},
   "source": [
    "### 편집모드<br>Edit Mode\n",
    "\n"
   ]
  },
  {
   "cell_type": "markdown",
   "metadata": {},
   "source": [
    "* ref : [[0](https://github.com/ipython/ipython-in-depth/blob/old-in-depth/examples/Notebook/Notebook%20Basics.ipynb#Keyboard-Navigation)], [[1](https://www.dataquest.io/blog/jupyter-notebook-tips-tricks-shortcuts)]\n",
    "\n"
   ]
  },
  {
   "cell_type": "markdown",
   "metadata": {},
   "source": [
    "| command | expected behavior |\n",
    "|:-----:|:-----:|\n",
    "| <kbd>Tab</kbd> | code completion or indent<br>코드 완성 또는 들여쓰기 |\n",
    "| <kbd>Ctrl</kbd>+<kbd>Shift</kbd>+<kbd>p</kbd><br><kbd>Cmd</kbd>+<kbd>Shift</kbd>+<kbd>p</kbd> | open command palette<br>명령 팔레트 열기 |\n",
    "| <kbd>Shift</kbd>+<kbd>Tab</kbd> | tooltip<br>짧은 도움말 |\n",
    "| <kbd>Esc</kbd><br><kbd>Ctrl</kbd>+<kbd>m</kbd> | command mode<br>명령 모드 |\n",
    "| <kbd>Shift</kbd>+<kbd>Enter</kbd> | run cell, select below<br>실행 후 다음 선택 |\n",
    "| <kbd>Ctrl</kbd>+<kbd>Enter</kbd> | run cell<br>실행 |\n",
    "| <kbd>Alt</kbd>+<kbd>Enter</kbd> | run cell, insert below<br>실행 후 다음 셀 입력 |\n",
    "| <kbd>Ctrl</kbd>+<kbd>Shift</kbd>+<kbd>-</kbd> | split cell<br>셀 나누기 |\n",
    "| <kbd>Ctrl</kbd>+<kbd>s</kbd> | Save and Checkpoint<br>저장 |\n",
    "| <kbd>Ctrl</kbd>+<kbd>]</kbd> | indent<br>들여쓰기 |\n",
    "| <kbd>Ctrl</kbd>+<kbd>[</kbd> | dedent<br>내어쓰기 |\n",
    "| <kbd>Ctrl</kbd>+<kbd>a</kbd> | select all<br>모두 선택 |\n",
    "| <kbd>Ctrl</kbd>+<kbd>z</kbd> | undo<br>취소 |\n",
    "| <kbd>Ctrl</kbd>+<kbd>Strl</kbd>+<kbd>z</kbd><br><kbd>Ctrl</kbd>+<kbd>y</kbd> | redo<br>취소 취소 |\n",
    "| <kbd>Ctrl</kbd>+<kbd>Home</kbd><br><kbd>Ctrl</kbd>+<kbd>&uarr;</kbd> | go to cell start<br>셀 처음으로 |\n",
    "| <kbd>Ctrl</kbd>+<kbd>End</kbd><br><kbd>Ctrl</kbd>+<kbd>&darr;</kbd> | go to cell end<br>셀 끝으로 |\n",
    "| <kbd>Ctrl</kbd>+<kbd>&rarr;</kbd>(<kbd>&larr;</kbd>) | go one word right(left)<br>한 단어 오른쪽(왼쪽) |\n",
    "| <kbd>Ctrl</kbd>+<kbd>Backspace</kbd>(<kbd>Delete</kbd>) | delete one word before(after)<br>앞(뒤) 한 단어 삭제 |\n",
    "| <kbd>Ctrl</kbd>+Click | add entry points<br>입력 커서 추가 |\n",
    "\n"
   ]
  },
  {
   "cell_type": "markdown",
   "metadata": {},
   "source": [
    "## Magic Commands<br>매직 커맨드\n",
    "\n"
   ]
  },
  {
   "cell_type": "markdown",
   "metadata": {},
   "source": [
    "* ref : [[0](https://ipython.readthedocs.io/en/latest/interactive/magics.html)], [[1](https://www.dataquest.io/blog/jupyter-notebook-tips-tricks-shortcuts)]\n",
    "\n"
   ]
  },
  {
   "cell_type": "markdown",
   "metadata": {},
   "source": [
    "iPython, running the Jupyter notebook, has a number of features to help users.<br>\n",
    "Jupyter notebook 을 위해 실행하고 있는 iPython 은 사용자 편의를 위한 몇가지 기능이 있음.\n",
    "\n"
   ]
  },
  {
   "cell_type": "markdown",
   "metadata": {},
   "source": [
    "A line (cell) magic command starts with `%` (`%%`)<br>\n",
    "각각 행 또는 셀 단위로 작용하는 행, 셀 매직 커맨드는 `%` 또는 `%%`으로 시작.\n",
    "\n"
   ]
  },
  {
   "cell_type": "markdown",
   "metadata": {},
   "source": [
    "### Help & Info<br>도움말과 정보\n",
    "\n"
   ]
  },
  {
   "cell_type": "markdown",
   "metadata": {},
   "source": [
    "`?` will show a help document.<br>`?` 는 도움말을 보여줌.\n",
    "\n"
   ]
  },
  {
   "cell_type": "code",
   "execution_count": null,
   "metadata": {},
   "outputs": [],
   "source": [
    "?print\n",
    "\n"
   ]
  },
  {
   "cell_type": "markdown",
   "metadata": {},
   "source": [
    "Let's take a look at the documentation of magic command `lsmagic`.<br>\n",
    "아래는 `lsmagic`라는 매직 커맨드의 문서를 보여줌.\n",
    "\n"
   ]
  },
  {
   "cell_type": "code",
   "execution_count": null,
   "metadata": {},
   "outputs": [],
   "source": [
    "?lsmagic\n",
    "\n"
   ]
  },
  {
   "cell_type": "markdown",
   "metadata": {},
   "source": [
    "Let's run the `%lsmagic` and check the result.<br>\n",
    "`%lsmagic`명령의 결과 확인.\n",
    "\n"
   ]
  },
  {
   "cell_type": "code",
   "execution_count": null,
   "metadata": {},
   "outputs": [],
   "source": [
    "%lsmagic\n",
    "\n"
   ]
  },
  {
   "cell_type": "markdown",
   "metadata": {},
   "source": [
    "If you want to know the names of the variables, ask `%who`.<br>\n",
    "변수의 이름을 알고 싶은 경우 `%who` 실행.\n",
    "\n"
   ]
  },
  {
   "cell_type": "code",
   "execution_count": null,
   "metadata": {
    "scrolled": true
   },
   "outputs": [],
   "source": [
    "%who\n",
    "\n"
   ]
  },
  {
   "cell_type": "code",
   "execution_count": null,
   "metadata": {},
   "outputs": [],
   "source": [
    "a, b = 1, 2\n",
    "%who\n",
    "\n"
   ]
  },
  {
   "cell_type": "markdown",
   "metadata": {},
   "source": [
    "### File<br>파일\n",
    "\n"
   ]
  },
  {
   "cell_type": "markdown",
   "metadata": {},
   "source": [
    "Write a file<br>파일 생성\n",
    "\n"
   ]
  },
  {
   "cell_type": "code",
   "execution_count": null,
   "metadata": {},
   "outputs": [],
   "source": [
    "%%writefile run_this.py\n",
    "\n",
    "a_run_this = 1\n",
    "b_run_this = 2\n",
    "print(\"a =\", a_run_this, \"b =\", b_run_this)\n",
    "\n"
   ]
  },
  {
   "cell_type": "markdown",
   "metadata": {},
   "source": [
    "Is the file created?<br>\n",
    "해당 파일이 생성되었는가?\n",
    "\n"
   ]
  },
  {
   "cell_type": "code",
   "execution_count": null,
   "metadata": {},
   "outputs": [],
   "source": [
    "%ls\n",
    "\n"
   ]
  },
  {
   "cell_type": "markdown",
   "metadata": {},
   "source": [
    "More information on files<br>\n",
    "파일에 관해 더 알아 보자.\n",
    "\n"
   ]
  },
  {
   "cell_type": "code",
   "execution_count": null,
   "metadata": {},
   "outputs": [],
   "source": [
    "%ls -l\n",
    "\n"
   ]
  },
  {
   "cell_type": "markdown",
   "metadata": {},
   "source": [
    "Show the content of a file<br>\n",
    "파일 내용 표시\n",
    "\n"
   ]
  },
  {
   "cell_type": "code",
   "execution_count": null,
   "metadata": {},
   "outputs": [],
   "source": [
    "%pycat run_this.py\n",
    "\n"
   ]
  },
  {
   "cell_type": "markdown",
   "metadata": {},
   "source": [
    "To run a separate python file `%run`<br>\n",
    "별도의 파이썬 파일을 실행시키고 싶을 때는 `%run`\n",
    "\n"
   ]
  },
  {
   "cell_type": "code",
   "execution_count": null,
   "metadata": {
    "scrolled": true
   },
   "outputs": [],
   "source": [
    "%run run_this\n",
    "\n"
   ]
  },
  {
   "cell_type": "markdown",
   "metadata": {},
   "source": [
    "The list of variables after running the file<br>프로그램을 실행한 후 변수 목록\n",
    "\n"
   ]
  },
  {
   "cell_type": "code",
   "execution_count": null,
   "metadata": {},
   "outputs": [],
   "source": [
    "%who\n",
    "\n"
   ]
  },
  {
   "cell_type": "markdown",
   "metadata": {},
   "source": [
    "### 실행 시간 측정<br>Measuring execution tme\n",
    "\n"
   ]
  },
  {
   "cell_type": "code",
   "execution_count": null,
   "metadata": {},
   "outputs": [],
   "source": [
    "n = 10_000_000\n",
    "n\n",
    "\n"
   ]
  },
  {
   "cell_type": "markdown",
   "metadata": {},
   "source": [
    "Cell execution time<br>셀 실행 시간\n",
    "\n"
   ]
  },
  {
   "cell_type": "code",
   "execution_count": null,
   "metadata": {},
   "outputs": [],
   "source": [
    "%%time\n",
    "\n",
    "s = 0\n",
    "\n",
    "for k in range(1, n+1):\n",
    "    s += k\n",
    "\n"
   ]
  },
  {
   "cell_type": "markdown",
   "metadata": {},
   "source": [
    "CPU time vs Wall(clock) time\n",
    "\n"
   ]
  },
  {
   "cell_type": "code",
   "execution_count": null,
   "metadata": {},
   "outputs": [],
   "source": [
    "import requests\n",
    "import bs4\n",
    "\n"
   ]
  },
  {
   "cell_type": "code",
   "execution_count": null,
   "metadata": {},
   "outputs": [],
   "source": [
    "%%time\n",
    "\n",
    "r = requests.get(\"https://unsplash.com/\")\n",
    "soup = bs4.BeautifulSoup(r.text)\n",
    "\n"
   ]
  },
  {
   "cell_type": "markdown",
   "metadata": {},
   "source": [
    "Line execution time<br>행 실행 시간\n",
    "\n"
   ]
  },
  {
   "cell_type": "code",
   "execution_count": null,
   "metadata": {},
   "outputs": [],
   "source": [
    "%time sum(range(1, n+1))\n",
    "\n"
   ]
  },
  {
   "cell_type": "markdown",
   "metadata": {},
   "source": [
    "Line execution time with iterations<br>행 실행 시간 반복\n",
    "\n"
   ]
  },
  {
   "cell_type": "code",
   "execution_count": null,
   "metadata": {},
   "outputs": [],
   "source": [
    "%timeit sum(range(1, n+1))\n",
    "\n"
   ]
  },
  {
   "cell_type": "markdown",
   "metadata": {},
   "source": [
    "Profiling<br>세부 실행 시간\n",
    "\n"
   ]
  },
  {
   "cell_type": "code",
   "execution_count": null,
   "metadata": {},
   "outputs": [],
   "source": [
    "%%prun\n",
    "r = requests.get(\"https://unsplash.com/\")\n",
    "soup = bs4.BeautifulSoup(r.text)\n",
    "\n"
   ]
  },
  {
   "cell_type": "code",
   "execution_count": null,
   "metadata": {},
   "outputs": [],
   "source": [
    "import numpy as np\n",
    "import numpy.linalg as nl\n",
    "import numpy.random as nr\n",
    "\n",
    "n = 40\n",
    "A = nr.random((n, n)) + np.identity(n)\n",
    "\n"
   ]
  },
  {
   "cell_type": "code",
   "execution_count": null,
   "metadata": {},
   "outputs": [],
   "source": [
    "%prun nl.eig(A)\n",
    "\n"
   ]
  },
  {
   "cell_type": "markdown",
   "metadata": {},
   "source": [
    "### Shell commands<br>셸 명령\n",
    "\n"
   ]
  },
  {
   "cell_type": "markdown",
   "metadata": {},
   "source": [
    "Starting with `!`, a cell can run a shell command.<br>\n",
    "`!`로 시작하여 셸 명령 실행\n",
    "\n"
   ]
  },
  {
   "cell_type": "code",
   "execution_count": null,
   "metadata": {},
   "outputs": [],
   "source": [
    "!ls\n",
    "\n"
   ]
  },
  {
   "cell_type": "code",
   "execution_count": null,
   "metadata": {},
   "outputs": [],
   "source": [
    "!ls -l\n",
    "\n"
   ]
  },
  {
   "cell_type": "markdown",
   "metadata": {},
   "source": [
    "Assign the result to use later.<br>\n",
    "나중에 사용하기 위해 결과를 변수로 저장\n",
    "\n"
   ]
  },
  {
   "cell_type": "code",
   "execution_count": null,
   "metadata": {},
   "outputs": [],
   "source": [
    "ls_result = !ls -l\n",
    "\n"
   ]
  },
  {
   "cell_type": "code",
   "execution_count": null,
   "metadata": {},
   "outputs": [],
   "source": [
    "print(repr(ls_result[0]))\n",
    "print(repr(ls_result[1]))\n",
    "\n"
   ]
  },
  {
   "cell_type": "markdown",
   "metadata": {},
   "source": [
    "`%%bash` cell magic command also runs the content of the cell<br>\n",
    "`%%bash` 셀 매직 커맨드로 셀의 내용을 실행\n",
    "\n"
   ]
  },
  {
   "cell_type": "code",
   "execution_count": null,
   "metadata": {},
   "outputs": [],
   "source": [
    "%%bash\n",
    "git log -3\n",
    "echo '===================================='\n",
    "ls\n",
    "\n"
   ]
  },
  {
   "cell_type": "markdown",
   "metadata": {},
   "source": [
    "`%%bash` cell magic command can capture the output<br>\n",
    "`%%bash` 셀 매직 커맨드도 실행 결과를 저장 가능\n",
    "\n"
   ]
  },
  {
   "cell_type": "code",
   "execution_count": null,
   "metadata": {},
   "outputs": [],
   "source": [
    "%%bash --out stdout\n",
    "git log -3\n",
    "echo '===================================='\n",
    "ls\n",
    "\n"
   ]
  },
  {
   "cell_type": "code",
   "execution_count": null,
   "metadata": {},
   "outputs": [],
   "source": [
    "print(stdout)\n",
    "\n"
   ]
  },
  {
   "cell_type": "markdown",
   "metadata": {},
   "source": [
    "## LaTeX formula<br>LaTeX (래이텍) 수식\n",
    "\n"
   ]
  },
  {
   "cell_type": "markdown",
   "metadata": {},
   "source": [
    "Wrap LaTeX equations by wrapping `$` or `$$`.<br>\n",
    "한 행 수식은 `$`로, 여러행 수식은 `$$`로 둘러싸서 표시\n",
    "\n"
   ]
  },
  {
   "cell_type": "markdown",
   "metadata": {},
   "source": [
    "``` LaTex\n",
    "$$\n",
    "\\int_a^b {f(x)}dx=F(b)-F(a)\n",
    "$$\n",
    "```\n",
    "\n"
   ]
  },
  {
   "cell_type": "markdown",
   "metadata": {},
   "source": [
    "$$\n",
    "\\int_a^b {f(x)}dx=F(b)-F(a)\n",
    "$$\n",
    "\n"
   ]
  },
  {
   "cell_type": "markdown",
   "metadata": {},
   "source": [
    "We may also use `sympy`.<br>`sympy` 도 사용할 수 있다.\n",
    "\n"
   ]
  },
  {
   "cell_type": "code",
   "execution_count": null,
   "metadata": {},
   "outputs": [],
   "source": [
    "import sympy as sym\n",
    "\n",
    "sym.init_printing()\n",
    "\n"
   ]
  },
  {
   "cell_type": "code",
   "execution_count": null,
   "metadata": {},
   "outputs": [],
   "source": [
    "sym.pi\n",
    "\n"
   ]
  },
  {
   "cell_type": "code",
   "execution_count": null,
   "metadata": {},
   "outputs": [],
   "source": [
    "f = sym.Function('f')\n",
    "x = sym.symbols('x')\n",
    "f(x)\n",
    "\n"
   ]
  },
  {
   "cell_type": "code",
   "execution_count": null,
   "metadata": {},
   "outputs": [],
   "source": [
    "sym.integrate(f(x), x)\n",
    "\n"
   ]
  },
  {
   "cell_type": "markdown",
   "metadata": {},
   "source": [
    "## Clean up<br>정리\n",
    "\n"
   ]
  },
  {
   "cell_type": "markdown",
   "metadata": {},
   "source": [
    "* Delete `load_this.py`<br>`load_this.py` 삭제\n",
    "\n"
   ]
  },
  {
   "cell_type": "code",
   "execution_count": null,
   "metadata": {},
   "outputs": [],
   "source": [
    "import os\n",
    "\n",
    "if os.path.exists(\"run_this.py\"):\n",
    "  os.remove('run_this.py')\n",
    "\n",
    "assert not os.path.exists('run_this.py')\n",
    "\n"
   ]
  },
  {
   "cell_type": "markdown",
   "metadata": {},
   "source": [
    "### Final Bell\n",
    "\n"
   ]
  },
  {
   "cell_type": "code",
   "execution_count": null,
   "metadata": {},
   "outputs": [],
   "source": [
    "import os\n",
    "os.system(\"printf '\\a'\")\n",
    "\n"
   ]
  },
  {
   "cell_type": "code",
   "execution_count": null,
   "metadata": {},
   "outputs": [],
   "source": []
  }
 ],
 "metadata": {
  "colab": {
   "include_colab_link": true,
   "provenance": []
  },
  "kernelspec": {
   "display_name": "Python 3",
   "language": "python",
   "name": "python3"
  },
  "language_info": {
   "codemirror_mode": {
    "name": "ipython",
    "version": 3
   },
   "file_extension": ".py",
   "mimetype": "text/x-python",
   "name": "python",
   "nbconvert_exporter": "python",
   "pygments_lexer": "ipython3",
   "version": "3.8.8"
  }
 },
 "nbformat": 4,
 "nbformat_minor": 1
}