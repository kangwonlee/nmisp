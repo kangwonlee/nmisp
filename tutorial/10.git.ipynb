{
 "cells": [
  {
   "cell_type": "markdown",
   "metadata": {
    "id": "view-in-github",
    "colab_type": "text"
   },
   "source": [
    "<a href=\"https://colab.research.google.com/github/kangwonlee/nmisp/blob/lecture-idea/tutorial/10.git.ipynb\" target=\"_parent\"><img src=\"https://colab.research.google.com/assets/colab-badge.svg\" alt=\"Open In Colab\"/></a>\n"
   ]
  },
  {
   "cell_type": "markdown",
   "metadata": {},
   "source": [
    "# Introducing `git` version control system<br>`git` 개정 이력 관리 시스템 소개\n",
    "\n"
   ]
  },
  {
   "cell_type": "markdown",
   "metadata": {},
   "source": [
    "* A [version control](https://en.wikipedia.org/wiki/Version_control) system helps keeping track of changes in software source code.<br>개정 이력 관리 시스템은 소프트웨어 소스코드의 어느 부분이 언제 어떻게 변경되었는지 추적하는 것을 도와줌.\n",
    "* With a version control system, trying and testing possibly risky attempts can be easier.<br>개정 이력 관리 시스템을 사용하면, 큰 혜택이 예상되나 위험성이 있는 시도의 부담을 줄여줌.\n",
    "* Currently in the late 2010s, [`git`](https://en.wikipedia.org/wiki/List_of_version_control_software) is one of the [available version control softwares](https://en.wikipedia.org/wiki/List_of_version_control_software).<br> 2010년대 말 현재, 여러 버전 관리 소프트웨어가 있으며 그 중 하나가 `git`.\n",
    "* Linus Torvalds created `git` in 2005 to maintain the source code of the Linux kernel.<br>`git`는 2005년 리누스 토발즈가 리눅스 커널의 소스코드를 관리하기 위해 개발.\n",
    "* `git` is an [open source](https://github.com/git/git) distributed version control system. A repository may have remote versions and local versions that are (practically) equivalent.<br>`git`는 그 원본 [소스코드](https://github.com/git/git)가 공개되어 있는 분산 버전 관리 시스템.  저장소를 원격 서버에 둘 수도 있고, 작업용 PC에 지역 저장소로 받을 수도 있음. 지역 저장소와 원격 저장소는 사실상 동일.\n",
    "\n"
   ]
  },
  {
   "cell_type": "markdown",
   "metadata": {},
   "source": [
    "[![Git Data Transport Commands](https://images.osteele.com/2008/git-transport.png)](https://blog.osteele.com/2008/05/my-git-workflow/)\n",
    "\n"
   ]
  },
  {
   "cell_type": "markdown",
   "metadata": {},
   "source": [
    "[[ref0](https://git-scm.com/book/en/v2), [ref1](https://github.com/progit)]\n",
    "\n"
   ]
  },
  {
   "cell_type": "markdown",
   "metadata": {},
   "source": [
    "| command<br>명령 | expected behavior<br>예상 거동 | example<br>예 |\n",
    "|:-------:|:-----------------:|:-------:|\n",
    "| `init` | initialize a git repository<br>git 저장소 초기화 | `git init` |\n",
    "| `clone` | clone a git repository<br>원격 저장소로부터 지역저장소를 복제 | `git clone <repo url>`<br>`git clone file://<path>` |\n",
    "| `log` | list the commit history<br>지금까지의 commit 목록 | `git log`<br>`git log --help`<br>`git log --stat`<br>`git log --oneline --graph --all` |\n",
    "| `status` | current status of the working tree<br>작업 트리의 현재 상태 | `git status` |\n",
    "| `diff` | visualize changes after last commit and/or staging<br>commit 또는 staging 이후 변경 사항 표시 | `git diff`<br>`git diff HEAD`<br>`git diff HEAD^` |\n",
    "| `config` | list or adjust configuration<br>설정 표시 또는 변경 | `git config --list`<br>`git config --global --unset credential.helper` |\n",
    "| `config user.name` | specify the user's name<br>사용자 이름 설정  | `git config user.name <your name>` |\n",
    "| `config user.email` | specify the user's email address<br>사용자 email 설정  | `git config user.email <your email>` |\n",
    "| `remote` | manage remote repository settings<br>원격 저장소 지정 설정 | `git remote add origin <remote repo>`<br>`git remote -v` |\n",
    "| `add` | stage some changes to commit<br>변경 사항을 commit 하기 위해 준비 | `git add <path to a changed file>`<br>`git add -p` |\n",
    "| `commit` | create an entry of change<br>변경 사항 등록 | `git commit`<br>`git commit -m <message>` |\n",
    "| `push` | upload the changes to a remote repository<br>원격 저장소에 변경 사항을 반영 | `git push`<br>`git push -u origin <branch name>` |\n",
    "| `checkout ` | switch workspace to a certain commit<br>작업 공간을 특정 commit 당시로 되돌림  | `git checkout <commit hash>`<br>`git checkout -`<br>`git checkout -b <new branch>`<br>`git checkout -- <file to undo>` |\n",
    "| [`branch`](https://git-scm.com/docs/git-branch) | manage branches<br>분기 관리 | `git branch`<br>`git branch -r`<br>`git branch -a` |\n",
    "| `blame` | relates each line of code with commits<br>각 행 관련 commit 표시 | `git blame <file path>`|\n",
    "| [`rebase`](https://git-scm.com/docs/git-rebase) | move current branch on top of another branch<br>현 branch를 다른 branch 위로 옮김 | `git rebase <branch>`<br>`git rebase -i <commit>` |\n",
    "| [`merge`](https://git-scm.com/book/en/v2/Git-Branching-Basic-Branching-and-Merging) | merge another branch to the current branch<br>다른 branch를 현 branch 로 병합 | `git merge --no-ff <other branch>`|\n",
    "| [`switch`](https://github.blog/2019-08-16-highlights-from-git-2-23) | **git 2.23**<br>switch to another branch<br>다른 branch로 현 branch 로 변경 | `git switch <other branch>`<br>`git switch -c <new branch name>`<br>`git switch -`<br>`git switch -guess <remote branch reference>` |\n",
    "| [`restore`](https://github.blog/2019-08-16-highlights-from-git-2-23) | **git 2.23**<br>roll back changes in a file to the index<br>파일의 변경 사항을 commit 또는 add 된 상태로 되돌림 | `git restore <edited file>`<br>`git restore --source <commit> <file>` |\n",
    "| `--version` | Check `git` version<br>`git` 버전을 확인  | `git --version` |\n",
    "\n"
   ]
  },
  {
   "cell_type": "markdown",
   "metadata": {},
   "source": [
    "# Practice<br>실습\n",
    "\n"
   ]
  },
  {
   "cell_type": "markdown",
   "metadata": {},
   "source": [
    "* Go to the [github website](https://www.github.com) and log in. (Please see next section if you don't have an account yet)<br>\n",
    "[github 웹사이트](https://www.github.com)에 로그인 (아직 계정이 없는 경우 다음 참조)\n",
    "* Go to one of the repositories of your interest.<br>\n",
    "Example : Wes McKinney's **Python for Data Analysis** https://github.com/wesm/pydata-book<br>\n",
    "관심 있는 저장소로 이동<br>\n",
    "예 : 웨스 매키니의 **Python for Data Analysis** https://github.com/wesm/pydata-book\n",
    "* Using `tutorial` to save time.<br>시간을 절약하기 위해 아래에서는 `tutorial` 사용\n",
    "\n",
    "\n"
   ]
  },
  {
   "cell_type": "markdown",
   "metadata": {},
   "source": [
    "### `git clone`\n",
    "\n"
   ]
  },
  {
   "cell_type": "markdown",
   "metadata": {},
   "source": [
    "* Change current folder to a temporary folder<br>\n",
    "    현재 작업 공간을 임시 폴더로 변경.\n",
    "\n"
   ]
  },
  {
   "cell_type": "code",
   "execution_count": null,
   "metadata": {},
   "outputs": [],
   "source": [
    "%%script bash\n",
    "mkdir -p ~/__temp_tutorial_01__\n",
    "cd ~/__temp_tutorial_01__\n",
    "pwd\n",
    "\n"
   ]
  },
  {
   "cell_type": "code",
   "execution_count": null,
   "metadata": {},
   "outputs": [],
   "source": [
    "import os\n",
    "\n",
    "\n",
    "# location of the starting folder\n",
    "# 시작 폴더 위치\n",
    "start_folder = os.getcwd()\n",
    "\n",
    "\n",
    "# location of the destination folder\n",
    "# 목적지 폴더 위치\n",
    "destination_repo_root = os.path.expanduser(os.path.join('~', '__temp_tutorial_01__'))\n",
    "\n",
    "\n",
    "# see if the destination folder exists\n",
    "# 목적지 폴더가 있는지 확인\n",
    "assert os.path.exists(destination_repo_root), f\"Unable to find the folder : {destination_repo_root}\"\n",
    "\n",
    "\n",
    "# to move current working directory of Jupyter notebook\n",
    "# Jupyter notebook의 현 작업 폴더를 이동\n",
    "os.chdir(destination_repo_root)\n",
    "\n"
   ]
  },
  {
   "cell_type": "code",
   "execution_count": null,
   "metadata": {},
   "outputs": [],
   "source": [
    "!pwd\n",
    "\n"
   ]
  },
  {
   "cell_type": "markdown",
   "metadata": {},
   "source": [
    "* Let's try cloning the repository. (This may take some time)<br>원격 저장소를 지역 저장소로 복제 (시간이 좀 걸릴 수 있음)<br>\n",
    "`git clone https://github.com/kangwonlee/tutorial`<br>\n",
    "\n"
   ]
  },
  {
   "cell_type": "code",
   "execution_count": null,
   "metadata": {},
   "outputs": [],
   "source": [
    "%%script bash\n",
    "# check if tutorial local repository exists\n",
    "# tutorial 지역 저장소가 있는지 확인\n",
    "if [[ -d tutorial/.git ]]; then\n",
    "    # if yes present a message\n",
    "    # 있다면 메시지를 표시\n",
    "    echo \"Already finished cloning tutorial\";\n",
    "else\n",
    "    # if no, clone from the remote repository at github\n",
    "    # 없다면 github의 원격저장소로부터 복제\n",
    "    time git clone https://github.com/kangwonlee/tutorial;\n",
    "fi\n",
    "\n"
   ]
  },
  {
   "cell_type": "markdown",
   "metadata": {},
   "source": [
    "* Now change directory to  `tutorial` and `ls -a` commands.\n",
    "<br>Note if the `.git` folder is visible.<br>\n",
    "`tutorial`로 이동하여 `ls -a` 명령 실행<br>`.git` 폴더가 보이는지 확인.\n",
    "\n"
   ]
  },
  {
   "cell_type": "code",
   "execution_count": null,
   "metadata": {
    "scrolled": false
   },
   "outputs": [],
   "source": [
    "%%script bash\n",
    "cd tutorial\n",
    "ls -al\n",
    "\n"
   ]
  },
  {
   "cell_type": "code",
   "execution_count": null,
   "metadata": {},
   "outputs": [],
   "source": [
    "# to move current working directory of Jupyter notebook\n",
    "# Jupyter notebook의 현 작업 폴더를 이동\n",
    "\n",
    "import os\n",
    "\n",
    "destination_local_repo = os.path.expanduser(os.path.join('~', '__temp_tutorial_01__', 'tutorial'))\n",
    "\n",
    "assert os.path.exists(destination_local_repo)\n",
    "\n",
    "os.chdir(destination_local_repo)\n",
    "\n",
    "print(os.getcwd())\n",
    "\n"
   ]
  },
  {
   "cell_type": "markdown",
   "metadata": {},
   "source": [
    "* `git remote` would list available remote repository names.<br>`git remote` 명령으로 현재 설정되어 있는 원격 저장소 이름 목록 확인\n",
    "\n"
   ]
  },
  {
   "cell_type": "code",
   "execution_count": null,
   "metadata": {},
   "outputs": [],
   "source": [
    "!git remote\n",
    "\n"
   ]
  },
  {
   "cell_type": "markdown",
   "metadata": {},
   "source": [
    "* `git remote get-url origin` would show the link to the `origin` repository.<br>`git remote get-url origin` 명령으로 `origin` 으로 설정된 원격 저장소 주소 확인<br>If developers contribute to the [Python for Data Analysis](https://github.com/kangwonlee/tutorial), you would be able to update this repository using `git pull origin`.<br>이후에 개발자들이 해당 저장소의 코드를 개정하면 `git pull origin` 명령으로 받아볼 수 있음.\n",
    "\n"
   ]
  },
  {
   "cell_type": "code",
   "execution_count": null,
   "metadata": {},
   "outputs": [],
   "source": [
    "!git remote get-url origin\n",
    "\n"
   ]
  },
  {
   "cell_type": "code",
   "execution_count": null,
   "metadata": {},
   "outputs": [],
   "source": [
    "!git remote -v\n",
    "\n"
   ]
  },
  {
   "cell_type": "markdown",
   "metadata": {},
   "source": [
    "* If your name and email address are \"ABC\" and abc@naver.com respectively, enter following commands.<br>이름과 email 주소가 각각 \"ABC\"와 \"abc@naver.com\"이라면 다음 명령을 입력.<br>`git config user.name ABC`<br>`git config user.email abc@naver.com`\n",
    "* `git config --list` would show configurations of this repository.<br>`git config --list` 명령으로 현 저장소 설정 확인.\n",
    "\n"
   ]
  },
  {
   "cell_type": "code",
   "execution_count": null,
   "metadata": {},
   "outputs": [],
   "source": [
    "%%bash\n",
    "git config user.name ABC\n",
    "git config user.email abc@naver.com\n",
    "\n"
   ]
  },
  {
   "cell_type": "code",
   "execution_count": null,
   "metadata": {},
   "outputs": [],
   "source": [
    "!git config --list\n",
    "\n"
   ]
  },
  {
   "cell_type": "markdown",
   "metadata": {},
   "source": [
    "### `git add`\n",
    "\n"
   ]
  },
  {
   "cell_type": "markdown",
   "metadata": {},
   "source": [
    "* Try following command to create a sample text file.<br>다음 명령으로 예제 text 파일 생성<br>`echo \"test\" > test.txt`\n",
    "\n"
   ]
  },
  {
   "cell_type": "code",
   "execution_count": null,
   "metadata": {},
   "outputs": [],
   "source": [
    "!echo \"test\" > test.txt\n",
    "\n"
   ]
  },
  {
   "cell_type": "code",
   "execution_count": null,
   "metadata": {
    "scrolled": true
   },
   "outputs": [],
   "source": [
    "!git status\n",
    "\n"
   ]
  },
  {
   "cell_type": "markdown",
   "metadata": {},
   "source": [
    "* For now `git status` would show:\n",
    "<br>The current branch\n",
    "<br>Whether the current branch is in sync with the counter part of the remote repository\n",
    "<br>One file that `git` is not trcking<br>이 상태에서 `git status` 명령으로 다음 내용을 살펴볼 수 있을 것임<br>현재 branch<br>현재 branch 가 원격 저장소의 연계 branch 와 동기화 되어 있는지 여부<br>`git`가 추적하고 있지 않은 파일 이름\n",
    "\n"
   ]
  },
  {
   "cell_type": "markdown",
   "metadata": {},
   "source": [
    "* Enter following command:<br>다음 명령 입력:<br>`git add test.txt`\n",
    "\n"
   ]
  },
  {
   "cell_type": "code",
   "execution_count": null,
   "metadata": {},
   "outputs": [],
   "source": [
    "!git add test.txt\n",
    "\n"
   ]
  },
  {
   "cell_type": "code",
   "execution_count": null,
   "metadata": {},
   "outputs": [],
   "source": [
    "!git status\n",
    "\n"
   ]
  },
  {
   "cell_type": "markdown",
   "metadata": {},
   "source": [
    "* Now the response from the `git status` would include:\n",
    "<br>Branch and sync information would not change\n",
    "<br>One file added to the stage (or index) to be committed<br>\n",
    "다시 `git status` 명령의 응답에 포함되는 내용:\n",
    "<br>branch 와 동기 여부는 변화가 없을 것임\n",
    "<br>파일 하나가 commit 될 예정으로 stage 되었음\n",
    "\n"
   ]
  },
  {
   "cell_type": "markdown",
   "metadata": {},
   "source": [
    "### `git commit`\n",
    "\n"
   ]
  },
  {
   "cell_type": "markdown",
   "metadata": {},
   "source": [
    "* Enter following command:<br>다음 명령 입력:<br>`git commit -m \"Added test.txt\"`<br>\n",
    "`git` would show messages regarding the new commit.<br>`git` 가 새 commit 에 관한 메시지를 표시할 것임.\n",
    "\n"
   ]
  },
  {
   "cell_type": "code",
   "execution_count": null,
   "metadata": {},
   "outputs": [],
   "source": [
    "!git commit -m \"Added test.txt\"\n",
    "\n"
   ]
  },
  {
   "cell_type": "code",
   "execution_count": null,
   "metadata": {},
   "outputs": [],
   "source": [
    "!git status\n",
    "\n"
   ]
  },
  {
   "cell_type": "markdown",
   "metadata": {},
   "source": [
    "* Now `git log --stat` would show the hash value, date & time, your name & email, commit message, and the file change of the commits.<br>이제 `git log --stat` 명령을 실행하면 hash 값, 날짜와 시간, 이름과 email, commit message, 변경된 파일의 내역 요약을 보여 줌.\n",
    "\n"
   ]
  },
  {
   "cell_type": "code",
   "execution_count": null,
   "metadata": {},
   "outputs": [],
   "source": [
    "!git log --stat -5\n",
    "\n"
   ]
  },
  {
   "cell_type": "markdown",
   "metadata": {},
   "source": [
    "* Add one more line to the file.<br>한 행을 더 추가.\n",
    "\n"
   ]
  },
  {
   "cell_type": "code",
   "execution_count": null,
   "metadata": {},
   "outputs": [],
   "source": [
    "! echo another >> test.txt\n",
    "\n"
   ]
  },
  {
   "cell_type": "code",
   "execution_count": null,
   "metadata": {
    "scrolled": true
   },
   "outputs": [],
   "source": [
    "!git status\n",
    "\n"
   ]
  },
  {
   "cell_type": "markdown",
   "metadata": {},
   "source": [
    "* `git status` would show one file is changed.<br>`git status` 는 파일 하나가 변경되었음을 보여 줄 것임.\n",
    "\n"
   ]
  },
  {
   "cell_type": "code",
   "execution_count": null,
   "metadata": {},
   "outputs": [],
   "source": [
    "!git diff\n",
    "\n"
   ]
  },
  {
   "cell_type": "markdown",
   "metadata": {},
   "source": [
    "* `git diff` would show the changes in the files.<br>`git diff` 는 해당 파일의 변경 사항을 보여 줄 것임.\n",
    "\n"
   ]
  },
  {
   "cell_type": "markdown",
   "metadata": {},
   "source": [
    "* Following commands would commit the file.<br>아래 명령을 실행하면 해당 파일이 commit될 것임<br>`git add test.txt`<br>`git commit -m \"Changed test.txt\"`\n",
    "\n"
   ]
  },
  {
   "cell_type": "code",
   "execution_count": null,
   "metadata": {},
   "outputs": [],
   "source": [
    "%%script bash\n",
    "git add test.txt\n",
    "git commit -m \"Changed test.txt\"\n",
    "\n"
   ]
  },
  {
   "cell_type": "markdown",
   "metadata": {},
   "source": [
    "* Check responses of the following commands:<br>다음 명령의 응답을 확인.<br>`git status`<br>`git log --stat`.\n",
    "\n"
   ]
  },
  {
   "cell_type": "code",
   "execution_count": null,
   "metadata": {},
   "outputs": [],
   "source": [
    "!git status\n",
    "\n"
   ]
  },
  {
   "cell_type": "code",
   "execution_count": null,
   "metadata": {},
   "outputs": [],
   "source": [
    "!git log --stat -7\n",
    "\n"
   ]
  },
  {
   "cell_type": "markdown",
   "metadata": {},
   "source": [
    "* Following command would show the commit tree.<br>다음 명령으로는 commit의 tree 구조를 살펴볼 수 있음.<br>`git log --oneline --graph --all`\n",
    "\n"
   ]
  },
  {
   "cell_type": "code",
   "execution_count": null,
   "metadata": {},
   "outputs": [],
   "source": [
    "!git log --oneline --graph --all -10\n",
    "\n"
   ]
  },
  {
   "cell_type": "markdown",
   "metadata": {},
   "source": [
    "### `git branch`\n",
    "\n"
   ]
  },
  {
   "cell_type": "markdown",
   "metadata": {},
   "source": [
    "* `git branch` would list local branch names.<br>`git branch` 는 지역 저장소의 branch 목록을 보여줌.\n",
    "\n"
   ]
  },
  {
   "cell_type": "code",
   "execution_count": null,
   "metadata": {},
   "outputs": [],
   "source": [
    "!git branch\n",
    "\n"
   ]
  },
  {
   "cell_type": "markdown",
   "metadata": {},
   "source": [
    "* `git branch --all` would show both local and remote branches.<br>Other repositories may have different rules for branch names.<br>`git branch --all`는 지역 저장소, 원격 저장소의 branch를 모두 보여 줌.<br>다양한 규칙으로 branch 이름을 정할 수 있음.\n",
    "\n"
   ]
  },
  {
   "cell_type": "code",
   "execution_count": null,
   "metadata": {},
   "outputs": [],
   "source": [
    "!git branch --all\n",
    "\n"
   ]
  },
  {
   "cell_type": "code",
   "execution_count": null,
   "metadata": {
    "scrolled": true
   },
   "outputs": [],
   "source": [
    "!ls\n",
    "\n"
   ]
  },
  {
   "cell_type": "markdown",
   "metadata": {},
   "source": [
    "### `git checkout <remote branch>`<br>`git switch <remote branch>` (`git` >= 2.23)\n",
    "\n"
   ]
  },
  {
   "cell_type": "markdown",
   "metadata": {},
   "source": [
    "* Following command will 'activate' on of remote branches<br>If it was not one of the local branches, `git` will create a new local branch.<br>다음 명령으로 원격 branch 가운데 하나를 활성화 할 것임<br>지역 branch 가운데 해당 원격 branch와 연계된 것이 없었다면 `git`가 새로 하나 만들 것임<br>`git checkout develop`\n",
    "\n"
   ]
  },
  {
   "cell_type": "code",
   "execution_count": null,
   "metadata": {},
   "outputs": [],
   "source": [
    "%%script bash --out stdout --err stderr\n",
    "git checkout develop\n",
    "\n"
   ]
  },
  {
   "cell_type": "code",
   "execution_count": null,
   "metadata": {},
   "outputs": [],
   "source": [
    "print(stdout)\n",
    "\n"
   ]
  },
  {
   "cell_type": "code",
   "execution_count": null,
   "metadata": {},
   "outputs": [],
   "source": [
    "print(stderr)\n",
    "\n"
   ]
  },
  {
   "cell_type": "markdown",
   "metadata": {},
   "source": [
    "* `ls` again and compare the content of the folder.<br>다시 `ls` 명령으로 폴더의 내용을 비교\n",
    "\n"
   ]
  },
  {
   "cell_type": "code",
   "execution_count": null,
   "metadata": {},
   "outputs": [],
   "source": [
    "!ls\n",
    "\n"
   ]
  },
  {
   "cell_type": "markdown",
   "metadata": {},
   "source": [
    "* Following command will switch to a new branch and check with `ls`.<br>\n",
    "다음 명령으로 새로운 branch 로 변경 후 `ls`로 확인.<br>\n",
    "`git checkout master`\n",
    "`git switch master` # git >= 2.23\n",
    "\n"
   ]
  },
  {
   "cell_type": "code",
   "execution_count": null,
   "metadata": {},
   "outputs": [],
   "source": [
    "%%bash --out stdout --err stderr\n",
    "git checkout master\n",
    "\n"
   ]
  },
  {
   "cell_type": "code",
   "execution_count": null,
   "metadata": {},
   "outputs": [],
   "source": [
    "print(stdout)\n",
    "\n"
   ]
  },
  {
   "cell_type": "code",
   "execution_count": null,
   "metadata": {},
   "outputs": [],
   "source": [
    "print(stderr)\n",
    "\n"
   ]
  },
  {
   "cell_type": "markdown",
   "metadata": {},
   "source": [
    "### `git clone <local repo>`\n",
    "\n"
   ]
  },
  {
   "cell_type": "markdown",
   "metadata": {},
   "source": [
    "* Following command will change the working directory to one level higher.<br>다음 명령으로 한 단계 상위 폴더로 현재 폴더를 변경<br>`cd ..`\n",
    "\n"
   ]
  },
  {
   "cell_type": "code",
   "execution_count": null,
   "metadata": {},
   "outputs": [],
   "source": [
    "%%script bash\n",
    "pwd\n",
    "cd ~/__temp_tutorial_01__\n",
    "pwd\n",
    "\n"
   ]
  },
  {
   "cell_type": "code",
   "execution_count": null,
   "metadata": {},
   "outputs": [],
   "source": [
    "# to move current working directory of Jupyter notebook\n",
    "# Jupyter notebook의 현 작업 폴더를 이동\n",
    "\n",
    "import os\n",
    "os.chdir(destination_repo_root)\n",
    "\n"
   ]
  },
  {
   "cell_type": "markdown",
   "metadata": {},
   "source": [
    "* Following command will clone another repository to a specified folder.<br>다음 명령으로 새로운 복제 폴더를 생성.<br>`git clone /home/user/Documents/tutorial temp`.\n",
    "\n"
   ]
  },
  {
   "cell_type": "code",
   "execution_count": null,
   "metadata": {},
   "outputs": [],
   "source": [
    "%%bash --out stdout --err stderr\n",
    "git clone tutorial temp\n",
    "\n"
   ]
  },
  {
   "cell_type": "code",
   "execution_count": null,
   "metadata": {},
   "outputs": [],
   "source": [
    "print(stdout)\n",
    "\n"
   ]
  },
  {
   "cell_type": "code",
   "execution_count": null,
   "metadata": {},
   "outputs": [],
   "source": [
    "print(stderr)\n",
    "\n"
   ]
  },
  {
   "cell_type": "markdown",
   "metadata": {},
   "source": [
    "* `cd temp`<br>`git log`\n",
    "\n"
   ]
  },
  {
   "cell_type": "code",
   "execution_count": null,
   "metadata": {},
   "outputs": [],
   "source": [
    "%%script bash\n",
    "pwd\n",
    "cd temp\n",
    "git log -10\n",
    "\n"
   ]
  },
  {
   "cell_type": "code",
   "execution_count": null,
   "metadata": {},
   "outputs": [],
   "source": [
    "# to move current working directory of Jupyter notebook\n",
    "# Jupyter notebook의 현 작업 폴더를 이동\n",
    "\n",
    "import os\n",
    "\n",
    "destination_local_temp = os.path.expanduser(os.path.join('~', '__temp_tutorial_01__', 'temp'))\n",
    "\n",
    "assert os.path.exists(destination_local_temp)\n",
    "\n",
    "os.chdir(destination_local_temp)\n",
    "\n"
   ]
  },
  {
   "cell_type": "code",
   "execution_count": null,
   "metadata": {},
   "outputs": [],
   "source": [
    "!git remote -v\n",
    "\n"
   ]
  },
  {
   "cell_type": "code",
   "execution_count": null,
   "metadata": {},
   "outputs": [],
   "source": [
    "!git config --list\n",
    "\n"
   ]
  },
  {
   "cell_type": "markdown",
   "metadata": {},
   "source": [
    "### `git remote add upstream <url>`\n",
    "\n"
   ]
  },
  {
   "cell_type": "code",
   "execution_count": null,
   "metadata": {},
   "outputs": [],
   "source": [
    "!git remote add upstream https://github.com/kangwonlee/tutorial\n",
    "\n"
   ]
  },
  {
   "cell_type": "code",
   "execution_count": null,
   "metadata": {},
   "outputs": [],
   "source": [
    "!git remote -v\n",
    "\n"
   ]
  },
  {
   "cell_type": "markdown",
   "metadata": {},
   "source": [
    "* Following command would download updates from the remote repository.<br>다음 명령으로 원격 저장소의 변경 내용을 받아올 수 있다.<br>`git pull upstream` \n",
    "\n"
   ]
  },
  {
   "cell_type": "markdown",
   "metadata": {},
   "source": [
    "## Creating a `github` account<br>`github` 계정 생성\n",
    "\n"
   ]
  },
  {
   "cell_type": "markdown",
   "metadata": {},
   "source": [
    "[![github](https://avatars1.githubusercontent.com/u/9919?s=200&v=4)](https://www.github.com)\n",
    "\n"
   ]
  },
  {
   "cell_type": "markdown",
   "metadata": {},
   "source": [
    "* [`github`](https://www.github.com) is one of `git` remote [repository hosting services](https://en.wikipedia.org/wiki/Comparison_of_source_code_hosting_facilities#Version_control_systems).<br>github은 `git` 저장소를 보관해 주는 웹 서비스 가운데 하나라고 생각할 수 있음.\n",
    "* [`dev.naver.com`](https://developers.naver.com) used to provide such service until recent years.<br>`dev.naver.com`에서도 비슷한 서비스를 제공했었음.\n",
    "* `github` also has an [education](https://education.github.com) service.<br>`github` 에는 교육 관련 서비스도 제공하고 있음.\n",
    "* May require to verify email address.<br>email 주소 확인을 요구할 수 있음.\n",
    "\n"
   ]
  },
  {
   "cell_type": "markdown",
   "metadata": {},
   "source": [
    "* A free user account can generate indefinite number of Public repositories.  After purchase by Microsoft, private repositories are available, too.<br>무료 사용자 계정으로 무제한의 공개 저장소를 개설할 수 있음.  마이크로소프트 인수 후에는 비공개 저장소도 가능함.\n",
    "* Usually a github repository address has following form:<br>보통 github의 저장소 주소는 다음과 같은 형태를 띔<br>`https://github.com/<github id>/<repository name>(.git)`<br>\n",
    "ex : [`https://github.com/tensorflow/tensorflow.git`](https://github.com/tensorflow/tensorflow)\n",
    "* A user can **fork** a public repository.<br>공개 저장소는 **분기**하여 자신만의 저장소를 만들 수 있음.<br>ex : `https://github.com/<github id>/tensorflow.git`<br>This is equivalent to having a clone with a link.<br>마치 git clone 하는 것과 유사하나 원본과 연계가 남아 있음.\n",
    "* If planning to use only one user account for a specific remote repository, following command is possible.<br>어떤 원격 저장소에 사용할 github id 를 결정했다면 다음과 같이 지정할 수 있음.<br>`git remote add <remote name> https://<github id>@github.com/<github id>/<repository name>(.git)`\n",
    "\n",
    "* With an academic email address and a school ID card image, an instructor (or a [student](https://education.github.com/pack)) may upgrade to an education account.<br>교육 기관 email 주소를 가지고 있고 적절한 신분증이 있는 강사는 (또는 학생은) 계정을 교육용으로 승급시킬 수 있음.\n",
    "* Depending on the situation, one can create an *organization* on the github; then an associated repository have an address of the following form :<br>상황에 따라 github에 *organization* 을 생성할 수 있는데, 그 소속 저장소 주소는 다음과 같은 형태를 가진다.<br>`https://(<github id>@)github.com/<organization id>/<repository name>(.git)`\n",
    "\n"
   ]
  },
  {
   "cell_type": "markdown",
   "metadata": {},
   "source": [
    "### Authentication<br>인증\n",
    "\n"
   ]
  },
  {
   "cell_type": "markdown",
   "metadata": {},
   "source": [
    "* To avoid unauthorized source code change, a remote repository may require id+password authentication.<br>인증되지 않은 코드 변경을 방지하기 위해, 원격 저장소에서 id 와 암호로 인증을 요구할 수 있음.\n",
    "* To save time during frequent pushes (updating source code of remote repository), `git` may utilize a *credential helper*.<br>자주 push (원격 저장소에 변경 내용을 반영) 할 경우 시간을 절약하기 위해, *credential helper* 를 사용할 수 있음.\n",
    "* A credential helper is a software storing the authentication information (possibly after encryption).<br>credentail helper는 소프트웨어로서 인증 정보를 (암호화하여) 저장함.\n",
    "* Following command shows current (global) credential helper:<br>다음 명령으로 현재의 credential helper 설정을 표시할 수 있음:<br>`git config (--global) credential.helper`\n",
    "\n"
   ]
  },
  {
   "cell_type": "code",
   "execution_count": null,
   "metadata": {},
   "outputs": [],
   "source": [
    "!git config credential.helper\n",
    "\n"
   ]
  },
  {
   "cell_type": "markdown",
   "metadata": {},
   "source": [
    "* However, credential information might be sensitive so please use with caution.<br>때로 민감할 수도 있으므로 사용상 주의를 바람\n",
    "* On PCs of a computer lab running Windows that multiple students share, git default credential helper may cause confusion; so please do not select during the install for now.<br>여러 학생이 사용하는 실습실 Windows PC의 경우, git 의 기본 credential helper 는 혼란을 일으킬 가능성이 있으므로 일단 설치시에 선택하지 말기 바람.\n",
    "\n"
   ]
  },
  {
   "cell_type": "markdown",
   "metadata": {},
   "source": [
    "## Creating branches and switching between them<br>분기 생성과 전환\n",
    "\n"
   ]
  },
  {
   "cell_type": "markdown",
   "metadata": {},
   "source": [
    "* Assume you want to test a *radical* new feature; if successful, it would be great new addition.<br>무언가 *독특한* 새 기능을 시도하고 싶다고 가정해 보자. 성공한다면 큰 도움이 될 수도 있는.\n",
    "* However, you want the existing code base intact until confirming that the new feature is successful and can be integrated smoothly.<br>그러나, 새 기능이 성공적으로 구현되고 원만히 통합될 수 있다는 것을 확인하기 전 까지는 기존의 코드에 그 때문에 영향을 주고 싶지는 않을 것이다.\n",
    "* Then you can start a new branch. Please recall : What happens in Las Vegas stays in Las Vegas.<br>이런 경우에 새로운 branch를 시작한다. 라스베가스에서 생긴 일은 라스베가스에만 머문다는 말을 기억해 보자.\n",
    "\n"
   ]
  },
  {
   "cell_type": "markdown",
   "metadata": {},
   "source": [
    "[![git branch](https://git-scm.com/book/en/v2/images/advance-master.png)](https://git-scm.com/book/en/v2/Git-Branching-Branches-in-a-Nutshell)\n",
    "\n"
   ]
  },
  {
   "cell_type": "markdown",
   "metadata": {},
   "source": [
    "### `git branch`\n",
    "\n"
   ]
  },
  {
   "cell_type": "markdown",
   "metadata": {},
   "source": [
    "* `git branch (--list)`<br>\n",
    "Would list branches of the local repository.<br>\n",
    "지역 저장소의 branch 목록을 표시함.\n",
    "\n"
   ]
  },
  {
   "cell_type": "code",
   "execution_count": null,
   "metadata": {},
   "outputs": [],
   "source": [
    "!git branch\n",
    "\n"
   ]
  },
  {
   "cell_type": "code",
   "execution_count": null,
   "metadata": {},
   "outputs": [],
   "source": [
    "!git branch --list\n",
    "\n"
   ]
  },
  {
   "cell_type": "markdown",
   "metadata": {},
   "source": [
    "* `git branch -r`<br>\n",
    "List remote branches.<br>\n",
    "원격 저장소 branch 목록을 표시함.\n",
    "\n"
   ]
  },
  {
   "cell_type": "code",
   "execution_count": null,
   "metadata": {},
   "outputs": [],
   "source": [
    "!git branch -r\n",
    "\n"
   ]
  },
  {
   "cell_type": "markdown",
   "metadata": {},
   "source": [
    "* `git branch <new branch name>`<br>\n",
    "Start a new branch.<br>\n",
    "새 branch를 시작.<br>\n",
    "\n"
   ]
  },
  {
   "cell_type": "code",
   "execution_count": null,
   "metadata": {},
   "outputs": [],
   "source": [
    "%%bash --out stdout --err stderr\n",
    "git branch new_branch_00\n",
    "\n"
   ]
  },
  {
   "cell_type": "code",
   "execution_count": null,
   "metadata": {},
   "outputs": [],
   "source": [
    "print(stdout)\n",
    "\n"
   ]
  },
  {
   "cell_type": "code",
   "execution_count": null,
   "metadata": {},
   "outputs": [],
   "source": [
    "print(stderr)\n",
    "\n"
   ]
  },
  {
   "cell_type": "code",
   "execution_count": null,
   "metadata": {},
   "outputs": [],
   "source": [
    "!git branch\n",
    "\n"
   ]
  },
  {
   "cell_type": "code",
   "execution_count": null,
   "metadata": {},
   "outputs": [],
   "source": [
    "!git status\n",
    "\n"
   ]
  },
  {
   "cell_type": "markdown",
   "metadata": {},
   "source": [
    "### `git checkout`<br>`git switch` (`git` >= 2.23)\n",
    "\n"
   ]
  },
  {
   "cell_type": "markdown",
   "metadata": {},
   "source": [
    "* `git checkout <new branch name>`<br>\n",
    "Switch to the new branch.<br>\n",
    "새 branch 로 변경.\n",
    "\n"
   ]
  },
  {
   "cell_type": "code",
   "execution_count": null,
   "metadata": {},
   "outputs": [],
   "source": [
    "%%bash --out stdout --err stderr\n",
    "git checkout new_branch_00\n",
    "# git switch new_branch_00 # git >= 2.23\n",
    "\n"
   ]
  },
  {
   "cell_type": "code",
   "execution_count": null,
   "metadata": {},
   "outputs": [],
   "source": [
    "print(stdout)\n",
    "\n"
   ]
  },
  {
   "cell_type": "code",
   "execution_count": null,
   "metadata": {},
   "outputs": [],
   "source": [
    "print(stderr)\n",
    "\n"
   ]
  },
  {
   "cell_type": "code",
   "execution_count": null,
   "metadata": {
    "scrolled": true
   },
   "outputs": [],
   "source": [
    "!git branch\n",
    "\n"
   ]
  },
  {
   "cell_type": "code",
   "execution_count": null,
   "metadata": {},
   "outputs": [],
   "source": [
    "!git status\n",
    "\n"
   ]
  },
  {
   "cell_type": "markdown",
   "metadata": {},
   "source": [
    "#### `git switch` (`git` >= 2.23)\n",
    "\n"
   ]
  },
  {
   "cell_type": "markdown",
   "metadata": {},
   "source": [
    "* Check `git` version<br>\n",
    "`git` 버전 확인\n",
    "\n"
   ]
  },
  {
   "cell_type": "code",
   "execution_count": null,
   "metadata": {},
   "outputs": [],
   "source": [
    "!git --version\n",
    "\n"
   ]
  },
  {
   "cell_type": "markdown",
   "metadata": {},
   "source": [
    "* `git` 2.23 or later can use following command.<br>\n",
    "`git` 2.23 이후라면 아래로도 가능.<br>\n",
    "`git switch <new branch name>`\n",
    "\n"
   ]
  },
  {
   "cell_type": "code",
   "execution_count": null,
   "metadata": {},
   "outputs": [],
   "source": [
    "%%bash --out stdout --err stderr\n",
    "# git switch new_branch_00 # git >= 2.23\n",
    "\n"
   ]
  },
  {
   "cell_type": "code",
   "execution_count": null,
   "metadata": {},
   "outputs": [],
   "source": [
    "print(stdout)\n",
    "\n"
   ]
  },
  {
   "cell_type": "code",
   "execution_count": null,
   "metadata": {},
   "outputs": [],
   "source": [
    "print(stderr)\n",
    "\n"
   ]
  },
  {
   "cell_type": "code",
   "execution_count": null,
   "metadata": {},
   "outputs": [],
   "source": [
    "!git branch\n",
    "\n"
   ]
  },
  {
   "cell_type": "code",
   "execution_count": null,
   "metadata": {},
   "outputs": [],
   "source": [
    "!git status\n",
    "\n"
   ]
  },
  {
   "cell_type": "markdown",
   "metadata": {},
   "source": [
    "### `git checkout -b`<br>`git switch -c` (`git` >= 2.23)\n",
    "\n"
   ]
  },
  {
   "cell_type": "markdown",
   "metadata": {},
   "source": [
    "* Follwing command would both create a branch ans switch to it.<br>\n",
    "다음 명령은 분기를 생성하고 전환도 할 것임.<br>\n",
    "`git checkout -b <new branch name>`<br>\n",
    "`git switch -c <new branch name>` (`git` >= 2.23)\n",
    "\n"
   ]
  },
  {
   "cell_type": "code",
   "execution_count": null,
   "metadata": {},
   "outputs": [],
   "source": [
    "%%bash --out stdout --err stderr\n",
    "git checkout -b new_branch_10\n",
    "# git switch -c new_branch_10 # git >= 2.23\n",
    "\n"
   ]
  },
  {
   "cell_type": "code",
   "execution_count": null,
   "metadata": {},
   "outputs": [],
   "source": [
    "print(stdout)\n",
    "\n"
   ]
  },
  {
   "cell_type": "code",
   "execution_count": null,
   "metadata": {},
   "outputs": [],
   "source": [
    "print(stderr)\n",
    "\n"
   ]
  },
  {
   "cell_type": "code",
   "execution_count": null,
   "metadata": {},
   "outputs": [],
   "source": [
    "!git branch\n",
    "\n"
   ]
  },
  {
   "cell_type": "code",
   "execution_count": null,
   "metadata": {},
   "outputs": [],
   "source": [
    "!git status\n",
    "\n"
   ]
  },
  {
   "cell_type": "markdown",
   "metadata": {},
   "source": [
    "* After checkout, the new branch would accumulate commits.<br>checkout 이후 새 branch 에 commit 이 쌓임.\n",
    "\n"
   ]
  },
  {
   "cell_type": "code",
   "execution_count": null,
   "metadata": {},
   "outputs": [],
   "source": [
    "%%bash\n",
    "git config user.name ABC\n",
    "git config user.email abc@naver.com\n",
    "\n"
   ]
  },
  {
   "cell_type": "code",
   "execution_count": null,
   "metadata": {},
   "outputs": [],
   "source": [
    "%%bash\n",
    "echo test new branch 00 >> test_new_branch.txt\n",
    "git add test_new_branch.txt\n",
    "git commit -m \"test new branch 00\"\n",
    "\n",
    "echo test new branch 10 >> test_new_branch.txt\n",
    "git add test_new_branch.txt\n",
    "git commit -m \"test new branch 10\"\n",
    "\n",
    "echo test new branch 20 >> test_new_branch.txt\n",
    "git add test_new_branch.txt\n",
    "git commit -m \"test new branch 20\"\n",
    "\n"
   ]
  },
  {
   "cell_type": "code",
   "execution_count": null,
   "metadata": {},
   "outputs": [],
   "source": [
    "!git log -5\n",
    "\n"
   ]
  },
  {
   "cell_type": "markdown",
   "metadata": {},
   "source": [
    "* After a few commits, when `git status` shows no uncommitted changes, try `git checkout -` (or `git switch -` for `git` >= 2.23).<br>\n",
    "몇 commit 후 `git status` 에 변경 사항이 보이지 않을 때 `git checkout -` (또는 `git` 2.23 이후일 경우 `git switch -`) 명령을 입력.\n",
    "\n"
   ]
  },
  {
   "cell_type": "markdown",
   "metadata": {},
   "source": [
    "* Then check the files that you changed after the new branch.<br>\n",
    "그 후 새 branch 이후에 변경했던 파일을을 확인.\n",
    "\n"
   ]
  },
  {
   "cell_type": "code",
   "execution_count": null,
   "metadata": {},
   "outputs": [],
   "source": [
    "!git status\n",
    "\n"
   ]
  },
  {
   "cell_type": "code",
   "execution_count": null,
   "metadata": {},
   "outputs": [],
   "source": [
    "%%bash --out stdout --err stderr\n",
    "git checkout -\n",
    "# !git switch - # git >= 2.23\n",
    "\n"
   ]
  },
  {
   "cell_type": "code",
   "execution_count": null,
   "metadata": {},
   "outputs": [],
   "source": [
    "print(stdout)\n",
    "\n"
   ]
  },
  {
   "cell_type": "code",
   "execution_count": null,
   "metadata": {},
   "outputs": [],
   "source": [
    "print(stderr)\n",
    "\n"
   ]
  },
  {
   "cell_type": "code",
   "execution_count": null,
   "metadata": {},
   "outputs": [],
   "source": [
    "!git status\n",
    "\n"
   ]
  },
  {
   "cell_type": "code",
   "execution_count": null,
   "metadata": {},
   "outputs": [],
   "source": [
    "!git log -5\n",
    "\n"
   ]
  },
  {
   "cell_type": "markdown",
   "metadata": {},
   "source": [
    "## Synchronizing after fork or distribution<br>Fork 또는 배포 이후의 동기화\n",
    "\n"
   ]
  },
  {
   "cell_type": "markdown",
   "metadata": {},
   "source": [
    "* Click following to start a video tutorial. (1:18)<br>아래 그림을 클릭하면 비디오 안내가 시작. (1:18)\n",
    "\n"
   ]
  },
  {
   "cell_type": "markdown",
   "metadata": {},
   "source": [
    "[![sync upstream playlist](https://i.ytimg.com/vi/P39pzSQx5rY/hqdefault.jpg)](https://www.youtube.com/watch?v=P39pzSQx5rY&list=PLA6B0Lmr9oJNDafh3ndnmbXv0I9wddv63)\n",
    "\n"
   ]
  },
  {
   "cell_type": "markdown",
   "metadata": {},
   "source": [
    "* When you click on the `fork` button of a github repository, you can duplicate it so that you can make changes independently.<br>Github 저장소의 `fork` 버튼을 클릭하면 자신만의 사본이 생겨 독립적으로 수정할 수 있게 됨.\n",
    "* However, the developers may continue revising the source code of the original (or *upstream*) repository: bug fixes and more features.<br>그러나, 그 이후 개발자들이 원래 (*upstream*) 저장소의 소스 코드를 개정할 수 있음: 버그 수정 또는 새로운 기능. \n",
    "* At some point of time, you may want your duplicate repository to keep up with the original repository.<br>어떤 싯점에선가 원래 저장소에 개정된 내용을 자신의 저장소에 반영하고 싶을 수 있다.\n",
    "* [Github](https://help.github.com/articles/syncing-a-fork/) described the procedure to synchronize a fork repository with the upstream repository.<br>Github 에서도 이러한 경우의 절차에 대해 서술하고 있다.\n",
    "\n"
   ]
  },
  {
   "cell_type": "markdown",
   "metadata": {},
   "source": [
    "* If not done yet, clone your remote fork repository to a local repository.<br>아직 하지 않았다면, fork 하여 만든 자신의 저장소를 clone.\n",
    "\n"
   ]
  },
  {
   "cell_type": "markdown",
   "metadata": {},
   "source": [
    "* `git remote -v` will list names of remote repositories. Let's assume `origin` points to your fork repository.<br>`git remote -v` 로 원격 저장소 주소 확인. `origin`이 fork 로 만든 자신의 저장소를 가리킨다고 가정.\n",
    "\n"
   ]
  },
  {
   "cell_type": "code",
   "execution_count": null,
   "metadata": {},
   "outputs": [],
   "source": [
    "!git remote -v\n",
    "\n"
   ]
  },
  {
   "cell_type": "markdown",
   "metadata": {},
   "source": [
    "* Add the *upstream* repository address as `upstream`.<br>*upstream* 저장소를 `upstream` 으로 지정<br>`git remote add upstream <upstream repository url>`\n",
    "\n"
   ]
  },
  {
   "cell_type": "markdown",
   "metadata": {},
   "source": [
    "* `git fetch upstream`<br>This would download updates from the upstream repository. However, this alone would not change your workspace yet.<br>이 명령으로 upstream 저장소로부터 개정 내용을 받아옴. 그러나 이 명령만으로는 작업 공간에 변경이 반영되지 않음.\n",
    "\n"
   ]
  },
  {
   "cell_type": "code",
   "execution_count": null,
   "metadata": {},
   "outputs": [],
   "source": [
    "!git fetch upstream\n",
    "\n"
   ]
  },
  {
   "cell_type": "markdown",
   "metadata": {},
   "source": [
    "* `git log --oneline --graph --all`<br>This would show you all the histories of local and remote branches.<br>이 명령으로 지역과 원격 저장소의 모든 commit 내역을 확인해 볼 수 있음.\n",
    "\n"
   ]
  },
  {
   "cell_type": "code",
   "execution_count": null,
   "metadata": {
    "scrolled": true
   },
   "outputs": [],
   "source": [
    "!git log --oneline --graph --all --decorate -20\n",
    "\n"
   ]
  },
  {
   "cell_type": "markdown",
   "metadata": {},
   "source": [
    "* Identify one of the local branches that is behind upstream. (Let's assume its name is `first_branch`)<br>Upstream 에 새로운 commit 이 있는 지역 branch를 확인. (일단 그 이름이 `first_branch` 라고 가정)\n",
    "\n"
   ]
  },
  {
   "cell_type": "markdown",
   "metadata": {},
   "source": [
    "* `git checkout first_branch`\n",
    "\n"
   ]
  },
  {
   "cell_type": "markdown",
   "metadata": {},
   "source": [
    "* `git rebase first_branch upstream/first_branch`<br>This would apply new commits in `upstream/first_branch` to your local branch.<br>Depending on the situation, **conflict** may occur; then we should manually [resolve](https://git-scm.com/book/en/v2/Git-Tools-Advanced-Merging) the conflict.<br>이 명령으로 `upstream/first_branch`의 새 commit을 지역 branch에 반영.<br>상황에 따라 **충돌**이 발생할 수 있음; 이 경우 수동으로 해소해 주어야 함.\n",
    "\n"
   ]
  },
  {
   "cell_type": "markdown",
   "metadata": {},
   "source": [
    "* `git push origin first_branch`<br>Now this would apply the new commits to the remote fork repository.<br>이제 이 명령으로 새 commit을 fork 한 원격 저장소에 반영.\n",
    "\n"
   ]
  },
  {
   "cell_type": "markdown",
   "metadata": {},
   "source": [
    "* Repeat from `git log --oneline --graph -all` for all branches of interest.<br>`git log --oneline --graph -all` 이후의 단계를 모든 관심 branch 에 반복.\n",
    "\n"
   ]
  },
  {
   "cell_type": "markdown",
   "metadata": {},
   "source": [
    "## Continuous Integration<br>지속적 통합\n",
    "\n"
   ]
  },
  {
   "cell_type": "markdown",
   "metadata": {},
   "source": [
    "* In short, [the common practice of **Continuous Integration**](https://en.wikipedia.org/wiki/Continuous_integration#Common_practices) builds and tests the software under development several times a day.<br>간단히 말해 지속적 통합이란 개발중인 소프트웨어를 매일 여러번 build 하고 시험하는 것임.\n",
    "* Such activities would be automated and the test results would be available to all participants.<br>Build 와 시험은 자동화, 시험 결과는 참여자들 사이에 공유됨. \n",
    "* There are several [CI services](https://github.com/marketplace/category/continuous-integration) available for github.<br>Github과 연계 가능한 여러 CI 서비스가 있음.\n",
    "\n"
   ]
  },
  {
   "cell_type": "markdown",
   "metadata": {},
   "source": [
    "## Exercises\n",
    "\n"
   ]
  },
  {
   "cell_type": "markdown",
   "metadata": {},
   "source": [
    "### 00 : Your first commit\n",
    "\n"
   ]
  },
  {
   "cell_type": "markdown",
   "metadata": {},
   "source": [
    "1. Clone your repository to your PC\n",
    "1. Configure your name and email address\n",
    "1. Make a new text file with a plain text\n",
    "<br>What would you want to write to the file?\n",
    "1. Add the new file\n",
    "1. Commit the changes to your local repository with an appropriate message\n",
    "1. Push your changes to your repository\n",
    "\n"
   ]
  },
  {
   "cell_type": "markdown",
   "metadata": {},
   "source": [
    "### 01 : Sync with upstream\n",
    "\n"
   ]
  },
  {
   "cell_type": "markdown",
   "metadata": {},
   "source": [
    "1. Clone your repository to your PC\n",
    "1. Add the upstream repository url as remote\n",
    "1. Fetch from the upstream repository\n",
    "<br>Try `git log --oneline --all --graph`\n",
    "1. Merge with the upstream branch\n",
    "<br>How can we use `git merge` command?\n",
    "<br>Did you see a message of \"CONFLICT\"?\n",
    "1. Push your changes to your repository\n",
    "\n"
   ]
  },
  {
   "cell_type": "markdown",
   "metadata": {},
   "source": [
    "### 02* : ipynb\n",
    "\n"
   ]
  },
  {
   "cell_type": "markdown",
   "metadata": {},
   "source": [
    "* This is an optional assignment\n",
    "* Please use a separate file : .txt, .ipynb, or .md\n",
    "\n"
   ]
  },
  {
   "cell_type": "markdown",
   "metadata": {},
   "source": [
    "1. Propose a possible procedure to version-control .ipynb files\n",
    "1. Propose a possible procedure to resolve conflict of an .ipynb file\n",
    "\n"
   ]
  },
  {
   "cell_type": "markdown",
   "metadata": {},
   "source": [
    "## `git` and `github` on Harvard CS50 Twitch<br>`git`과 `github`에 관한 하버드 CS50 트위치\n",
    "\n"
   ]
  },
  {
   "cell_type": "markdown",
   "metadata": {},
   "source": [
    "* Following is a video tutorial (2hr) on `git` and `github` by [Harvard CS50](https://www.youtube.com/channel/UCcabW7890RKJzL968QWEykA) 2018.<br>아래는 `git` 과 `github`의 기본에 관해 설명하는 비디오로 하버드 대 [CS50](https://www.youtube.com/channel/UCcabW7890RKJzL968QWEykA) 강의에서 2018년 제작. (2시간)\n",
    "\n"
   ]
  },
  {
   "cell_type": "markdown",
   "metadata": {},
   "source": [
    "[![CS50 on Twitch - EP. 4 - git and GitHub](https://i.ytimg.com/vi/dAHgwd2U0Jg/hqdefault.jpg)](https://www.youtube.com/watch?v=dAHgwd2U0Jg)\n",
    "\n"
   ]
  },
  {
   "cell_type": "markdown",
   "metadata": {},
   "source": [
    "### Cleaning up<br>정리\n",
    "\n"
   ]
  },
  {
   "cell_type": "markdown",
   "metadata": {},
   "source": [
    "* Removing folders for `git` practice <br>위 `git` 실습을 위해 만들었던 폴더를 삭제\n",
    "\n"
   ]
  },
  {
   "cell_type": "code",
   "execution_count": null,
   "metadata": {},
   "outputs": [],
   "source": [
    "# Return to the original location\n",
    "# 원래 경로로 복귀\n",
    "os.chdir(start_folder)\n",
    "\n",
    "# Path to the practice folder\n",
    "# 실습 폴더 경로\n",
    "tmp_folder = os.path.expanduser(os.path.join('~', '__temp_tutorial_01__'))\n",
    "\n",
    "# See if the practice folder still exists\n",
    "# 실습 폴더가 아직 있는지 확인\n",
    "assert os.path.exists(tmp_folder)\n",
    "\n",
    "# Remove practice folder tree (Please be careful using this command)\n",
    "# 실습 폴더 트리 삭제 (아래 명령은 사용시 주의를 요함)\n",
    "os.system('rm -rf ~/__temp_tutorial_01__')\n",
    "\n",
    "# See if practice folder is now removed\n",
    "# 실습 폴더 삭제 확인\n",
    "assert not os.path.exists(tmp_folder)\n",
    "\n"
   ]
  },
  {
   "cell_type": "markdown",
   "metadata": {},
   "source": [
    "### Final Bell\n",
    "\n"
   ]
  },
  {
   "cell_type": "code",
   "execution_count": null,
   "metadata": {},
   "outputs": [],
   "source": [
    "import os\n",
    "os.system('printf \\a');\n",
    "\n"
   ]
  },
  {
   "cell_type": "code",
   "execution_count": null,
   "metadata": {},
   "outputs": [],
   "source": []
  }
 ],
 "metadata": {
  "colab": {
   "include_colab_link": true,
   "provenance": []
  },
  "kernelspec": {
   "display_name": "Python 3",
   "language": "python",
   "name": "python3"
  },
  "language_info": {
   "codemirror_mode": {
    "name": "ipython",
    "version": 3
   },
   "file_extension": ".py",
   "mimetype": "text/x-python",
   "name": "python",
   "nbconvert_exporter": "python",
   "pygments_lexer": "ipython3",
   "version": "3.7.3"
  }
 },
 "nbformat": 4,
 "nbformat_minor": 0
}