{
 "cells": [
  {
   "cell_type": "markdown",
   "metadata": {
    "id": "view-in-github",
    "colab_type": "text"
   },
   "source": [
    "<a href=\"https://colab.research.google.com/github/kangwonlee/nmisp/blob/dependabot/pip/tests/requests-2.31.0/tutorial/07.pdb.ipynb\" target=\"_parent\"><img src=\"https://colab.research.google.com/assets/colab-badge.svg\" alt=\"Open In Colab\"/></a>\n"
   ]
  },
  {
   "cell_type": "markdown",
   "metadata": {},
   "source": [
    "# `pdb` Python debugger<br>`pdb` 파이썬 디버거\n",
    "\n"
   ]
  },
  {
   "cell_type": "markdown",
   "metadata": {},
   "source": [
    "Python Debugging With Pdb, RealPython [link](https://realpython.com/python-debugging-pdb/)\n",
    "\n"
   ]
  },
  {
   "cell_type": "markdown",
   "metadata": {},
   "source": [
    "Official documentation [link](https://docs.python.org/3/library/pdb.html)\n",
    "\n"
   ]
  },
  {
   "cell_type": "markdown",
   "metadata": {},
   "source": [
    "| command | name | 설명 |\n",
    "|:-------:|:----:|:----:|\n",
    "| `q` | `q`uit | 디버거 마침 |\n",
    "| `h` | `h`elp | 도움말 |\n",
    "| `p` | `p`rint | 표시 |\n",
    "| `pp` | `p`retty `p`rint | 보기 좋게 표시 |\n",
    "| `l` | `l`ist | 코드 보이기 |\n",
    "| `n` | `n`ext | 한 행 실행 (함수 호출 건너뛰면서) |\n",
    "| `s` | `s`tep | 한 행 실행 (함수 호출 안으로 들어가면서) |\n",
    "| `unt` | `unt`il | 다음행 (또는 주어진 행) 까지 계속 실행 |\n",
    "| `r` | `r`eturn | 현재 함수 반환 까지 실행 |\n",
    "| `c` | `c`ontinue | breakpoint 정지점 까지 계속 실행 |\n",
    "| `j` | `j`ump | 다음에 실행할 행 번호를 변경 |\n",
    "| `w` | `w`here | call stack 함수 호출 스택 표시 |\n",
    "| `d` | `d`own | (함수 호출 스택에서) 한 단계 내림 |\n",
    "| `u` | `u`p | (함수 호출 스택에서) 한 단계 올림 |\n",
    "| `b` | `b`reak | brakpoint 정지점 설정 |\n",
    "| `tbreak` | `t`emporary `break` | 임시 breakpoint 정지점 설정 |\n",
    "| `cl` | `cl`ear | brakpoint 정지점 해제 |\n",
    "| `disable` | disable | brakpoint 정지점 비활성화 |\n",
    "| `enable` | enable | brakpoint 정지점 활성화 |\n",
    "| `ignore` | ignore | brakpoint 정지점을 주어진 횟수 만큼 무시 |\n",
    "| `condition` | condition | brakpoint 정지점 조건 설정 |\n",
    "| `commands` | commands | 특정 brakpoint 정지점에서 실행할 명령 설정 |\n",
    "\n"
   ]
  },
  {
   "cell_type": "markdown",
   "metadata": {},
   "source": [
    "* To show line numbers in the Google Colab<br>구글 코랩에서 셀 행번호 표시.\n",
    "* Tools &rarr; Settings &rarr; Editor &rarr; Show line numbers<br>도구 &rarr; 설정 &rarr; 편집기 &rarr; 행번호 표시\n"
   ]
  },
  {
   "cell_type": "markdown",
   "metadata": {},
   "source": [
    "## `fact_while()`\n",
    "\n"
   ]
  },
  {
   "cell_type": "code",
   "execution_count": null,
   "metadata": {},
   "outputs": [],
   "source": [
    "def fact_while(n):\n",
    "  result = 1\n",
    "  i = 2\n",
    "  while i <= n:\n",
    "    result *= i\n",
    "    i += 1\n",
    "\n",
    "  return result\n",
    "\n"
   ]
  },
  {
   "cell_type": "markdown",
   "metadata": {},
   "source": [
    "| command<br>명령 |             description              |                     설명                     |\n",
    "|:---------------:|:------------------------------------:|:--------------------------------------------:|\n",
    "|                 | Run the cell above                   | 위 셀을 실행                                 |\n",
    "|                 | Run the cell below                   | 아래 셀을 실행                               |\n",
    "| `s`             | `s`tep into the function `fact_while()`   | 한 행을 실행하며 함수 `fact_while()` 안으로 들어감|\n",
    "| `b   6`           | set a `b`reakpoint at line `6`<br>need a space between `b` and `6`      | 6행에 정지점 설정<br>`b` 와 `6` 사이에 공백 필요                            |\n",
    "| `b   8`           | set a `b`reakpoint at line `8`      | 8행에 정지점 설정                            |\n",
    "| `b   4`           | set a `b`reakpoint at line `4`      | 4행에 정지점 설정                            |\n",
    "| `l`             | `l`ist the source code               | 소스코드를 보여줌                          |\n",
    "| `s`             | `s`tep                               | 한 행 실행                                   |\n",
    "| `c`             | `c`ontinue to the next breakpoint        | 다음 정지점 까지 계속 실행                        |\n",
    "| `p i`           | `p`rint `i`                          | `i` 값 표시                                  |\n",
    "| `i`             | `p`rint `i`                          | `i` 값 표시                                  |\n",
    "| `p result`      | `p`rint `result`                     | `result` 값 표시                             |\n",
    "| `result`        | `p`rint `result`                     | `result` 값 표시                             |\n",
    "| `p (i <= n)`      | `p`rint `i <= n`                     | `i <= n` 값 표시                             |\n",
    "| `s`             | `s`tep                               | 한 행 실행                                   |\n",
    "| `p i, result`   | `p`rint `i` and `result`             | `i`값과 `result` 값 표시                     |\n",
    "| `c`             | Again, `c`ontinue to the next breakpoint | 다음 정지점 까지 계속 실행                        |\n",
    "| `commands 1`<br>`p i, result`<br>`end` | set commands to run at breakpoint 1 | 정지점 1에서 실행할 명령 설정 |\n",
    "| `commands 3`<br>`p i, n, (i<=n)`<br>`end` | set commands to run at breakpoint 3 | 정지점 3에서 실행할 명령 설정 |\n",
    "| `c`             | `c`ontinue to the next breakpoint | 다음 정지점 까지 계속 실행                        |\n",
    "| ...             | continue trying debugger commands    | 디버거 명령 실습 계속                        |\n",
    "| `q`             | `q`uit the debugger                  | 디버거 중지                                  |\n",
    "\n"
   ]
  },
  {
   "cell_type": "code",
   "execution_count": null,
   "metadata": {},
   "outputs": [],
   "source": [
    "%debug fact_while(5)\n",
    "\n"
   ]
  },
  {
   "cell_type": "markdown",
   "metadata": {},
   "source": [
    "## `fact_for()`\n",
    "\n"
   ]
  },
  {
   "cell_type": "code",
   "execution_count": null,
   "metadata": {},
   "outputs": [],
   "source": [
    "def fact_for(n):\n",
    "  result = 1\n",
    "\n",
    "  for i in range(2, n+1):\n",
    "    result *= i\n",
    "\n",
    "  return result\n",
    "\n"
   ]
  },
  {
   "cell_type": "markdown",
   "metadata": {},
   "source": [
    "| command<br>명령 |             description              |                     설명                     |\n",
    "|:---------------:|:------------------------------------:|:--------------------------------------------:|\n",
    "|                 | Run the cell above                   | 위 셀을 실행                                 |\n",
    "|                 | Run the cell below                   | 아래 셀을 실행                               |\n",
    "| `s`             | `s`tep into the function `fact_for()`   | 한 행을 실행하며 함수 `fact_for()` 안으로 들어감|\n",
    "| `unt   4`           | continue `unt`il line `4`      | 4행 까지 계속 실행                            |\n",
    "| `b   4`           | set a `b`reakpoint at line `4`      | 4행에 정지점 설정                            |\n",
    "| `b   7`           | set a `b`reakpoint at line `7`      | 7행에 정지점 설정                            |\n",
    "| `l`             | `l`ist the source code               | 소스코드를 보여줌                          |\n",
    "| `s`             | `s`tep                               | 한 행 실행                                   |\n",
    "| `ignore 1 1`             | `i`gnore breakpoint 1 once        | 정지점 1을 한번 무시 |\n",
    "| `c`             | `c`ontinue to the breakpoint        | 정지점 까지 계속 실행                        |\n",
    "| `p i`           | `p`rint `i`                          | `i` 값 표시                                  |\n",
    "| `i`             | `p`rint `i`                          | `i` 값 표시                                  |\n",
    "| `p result`      | `p`rint `result`                     | `result` 값 표시                             |\n",
    "| `result`        | `p`rint `result`                     | `result` 값 표시                             |\n",
    "| `s`             | `s`tep                               | 한 행 실행                                   |\n",
    "| `p i, result`   | `p`rint `i` and `result`             | `i`값과 `result` 값 표시                     |\n",
    "| `c`             | Again, `c`ontinue to the breakpoint | 정지점 까지 계속 실행                        |\n",
    "| `commands 1`<br>`p i, result`<br>`end`   | set commands to run at the breakpoint 1 | 정지점 1에서 실행할 명령 설정 |\n",
    "| `c`             | `c`ontinue to the next breakpoint | 다음 정지점 까지 계속 실행                        |\n",
    "| ...             | continue trying debugger commands    | 디버거 명령 실습 계속                        |\n",
    "| `q`             | `q`uit the debugger                  | 디버거 중지                                  |\n",
    "\n"
   ]
  },
  {
   "cell_type": "code",
   "execution_count": null,
   "metadata": {},
   "outputs": [],
   "source": [
    "%debug fact_for(5)\n",
    "\n"
   ]
  },
  {
   "cell_type": "markdown",
   "metadata": {},
   "source": [
    "## `fact_r()`\n",
    "\n"
   ]
  },
  {
   "cell_type": "code",
   "execution_count": null,
   "metadata": {},
   "outputs": [],
   "source": [
    "def fact_r(n):\n",
    "  if n < 2:\n",
    "    result = 1\n",
    "  else:\n",
    "    result = n * fact_r(n-1)\n",
    "\n",
    "  return result\n",
    "\n"
   ]
  },
  {
   "cell_type": "markdown",
   "metadata": {},
   "source": [
    "| command<br>명령 |             description              |                     설명                     |\n",
    "|:---------------:|:------------------------------------:|:--------------------------------------------:|\n",
    "|                 | Run the cell above                   | 위 셀을 실행                                 |\n",
    "|                 | Run the cell below                   | 아래 셀을 실행                               |\n",
    "| `s`             | `s`tep into the function `fact_r()`   | 한 행을 실행하며 함수 `fact_r()` 안으로 들어감|\n",
    "| `b   5`           | set a `b`reakpoint at line `5`      | 5행에 breakpoint 정지점 설정                 |\n",
    "| `c`             | continue                             | 다음 정지점까지 계속                         |\n",
    "| `w`             | `w`here in call stack                | 함수 호출 스택에서의 위치 표시               |\n",
    "| `p n`           | `p`rint variable `n`                 | 변수 `n` 표시                                |\n",
    "| `c`             | continue                             | 다음 정지점까지 계속                         |\n",
    "| `p n`           | `p`rint variable `n`                 | 변수 `n` 표시                                |\n",
    "| `commands 1`<br>`w`<br>`p n`<br>`end` | set commands for breakpoint 1 | 정지점 1 에서 실행할 명령 설정 |\n",
    "| `c`             | continue                             | 다음 정지점까지 계속                         |\n",
    "| `b   3`           | set a `b`reakpoint at line `3`      | 3행에 breakpoint 정지점 설정                 |\n",
    "| `c`             | continue                             | 다음 정지점까지 계속                         |\n",
    "| ...             | continue trying debugger commands    | 디버거 명령 실습 계속                        |\n",
    "| `q`             | `q`uit the debugger                  | 디버거 중지                                  |\n",
    "\n"
   ]
  },
  {
   "cell_type": "code",
   "execution_count": null,
   "metadata": {},
   "outputs": [],
   "source": [
    "%debug fact_r(5)\n",
    "\n"
   ]
  },
  {
   "cell_type": "code",
   "execution_count": null,
   "metadata": {},
   "outputs": [],
   "source": []
  }
 ],
 "metadata": {
  "colab": {
   "collapsed_sections": [],
   "include_colab_link": true,
   "provenance": []
  },
  "kernelspec": {
   "display_name": "Python 3",
   "language": "python",
   "name": "python3"
  },
  "language_info": {
   "codemirror_mode": {
    "name": "ipython",
    "version": 3
   },
   "file_extension": ".py",
   "mimetype": "text/x-python",
   "name": "python",
   "nbconvert_exporter": "python",
   "pygments_lexer": "ipython3",
   "version": "3.8.8"
  }
 },
 "nbformat": 4,
 "nbformat_minor": 0
}