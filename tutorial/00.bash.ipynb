{
 "cells": [
  {
   "cell_type": "markdown",
   "metadata": {
    "id": "view-in-github",
    "colab_type": "text"
   },
   "source": [
    "<a href=\"https://colab.research.google.com/github/kangwonlee/nmisp/blob/lecture-idea/tutorial/00.bash.ipynb\" target=\"_parent\"><img src=\"https://colab.research.google.com/assets/colab-badge.svg\" alt=\"Open In Colab\"/></a>\n"
   ]
  },
  {
   "cell_type": "markdown",
   "metadata": {},
   "source": [
    "# Introducing Linux `bash`<br>리눅스 `bash` 소개\n",
    "\n"
   ]
  },
  {
   "cell_type": "markdown",
   "metadata": {},
   "source": [
    "* [Linux](https://en.wikipedia.org/wiki/Linux) is one of open source versions of the [**Unix**](https://en.wikipedia.org/wiki/Unix) operating system.<br>[리눅스](https://en.wikipedia.org/wiki/Linux)는 [**유닉스**](https://en.wikipedia.org/wiki/Unix) 운영체제의 오픈소스판 가운데 하나임\n",
    "* Unix supports multitasking and multiuser.  A group at the [Bell Labs](https://en.wikipedia.org/wiki/Bell_Labs), including [Ken Thompson](https://en.wikipedia.org/wiki/Ken_Thompson), [Dennis Ritchie](https://en.wikipedia.org/wiki/Dennis_Ritchie) and others started developing it in early 1970s.<br>유닉스는 다중 작업과 다중 사용자를 지원함. [벨 연구소](https://en.wikipedia.org/wiki/Bell_Labs)의 [켄 톰슨](https://en.wikipedia.org/wiki/Ken_Thompson), [데니스 리치](https://en.wikipedia.org/wiki/Dennis_Ritchie) 등이 1970년 무렵 개발을 시작하였음.\n",
    "* In [August 1991](https://groups.google.com/forum/#!original/comp.os.minix/dlNtH7RRrGA/SwRavCzVE7gJ), [Linus Torvalds](https://en.wikipedia.org/wiki/Linus_Torvalds), then a computer science student of the University of Helsinki, after completing his mandatory military service in the summer of 1990, released the first prototype. Version 1.0 came out in 1994 and his Master's degree thesis, dated 1997, had title \"[Linux: a portable operating system](https://www.cs.helsinki.fi/u/kutvonen/index_files/linus.pdf)\".<br>당시 헬싱키대 전산과 학생이었던 [리누스 토발즈](https://en.wikipedia.org/wiki/Linus_Torvalds)가 1990년 여름 의무 병역을 마치고 1991년 8월 시험판을 배포하였음. 1.0판은 1994년에 발표되었고 1997년 [리눅스: 이식 가능한 운영체제](https://www.cs.helsinki.fi/u/kutvonen/index_files/linus.pdf) 라는 제목으로 석사학위 논문을 제출하였음.\n",
    "\n"
   ]
  },
  {
   "cell_type": "markdown",
   "metadata": {},
   "source": [
    "* **bash** shell is a program that accept user commands through keyboard and tries to make approprite software to run.<br>\n",
    "**bash** 셸 이란, 사용자의 명령을 키보드로 받아들여 적절한 소프트웨어를 작동시켜주는 프로그램임.\n",
    "\n"
   ]
  },
  {
   "cell_type": "markdown",
   "metadata": {},
   "source": [
    "* 참고문헌 : 윌리엄 샤츠 주니어 저, 이종우 정영신 역, 리눅스 커맨드라인 완벽입문서, 2013, BJ 퍼블릭.<br>\n",
    "Ref : William Shotts, Jr., The Linux Command Line, 2012, No starch press [Online] Available : [LinuxCommand.org](http://LinuxCommand.org).\n",
    "\n"
   ]
  },
  {
   "cell_type": "markdown",
   "metadata": {},
   "source": [
    "* Hundreds of explaining is not like running it once. So please try followings. [[ref0](https://linuxcommand.org), [ref1](https://appuals.com/how-to-use-ctrl-r-in-linux/)] `repl.it` 환경에 대해서는 폴더 내 해당 문서 참고.<br>\n",
    "百聞이 不如一Run 이라는 말이 있음. 아래 명령을 실제로 적용해 보기 바람.[[ref0](https://linuxcommand.org), [ref1](https://appuals.com/how-to-use-ctrl-r-in-linux/)] For `repl.it` environment, refer to the document in the folder.\n",
    "\n"
   ]
  },
  {
   "cell_type": "markdown",
   "metadata": {},
   "source": [
    "| command<br>명령 | expected behavior<br>예상 거동 | example<br>명령 예 |\n",
    "|:-------:|:-----------------:|:-------:|\n",
    "| <kbd>Ctrl</kbd>+<kbd>Alt</kbd>+<kbd>t</kbd> | Open a new `bash` shell at `~` folder<br>Linux GUI 에서 새 `bash` 창을 엶 (시작 폴더 `~`) | <kbd>Ctrl</kbd>+<kbd>Alt</kbd>+<kbd>t</kbd> |\n",
    "| <kbd>Ctrl</kbd>+<kbd>&larr;</kbd><br><kbd>Ctrl</kbd>+<kbd>&rarr;</kbd>  | Skip one word left or right | `man ls`<kbd>Ctrl</kbd>+<kbd>&larr;</kbd> <kbd>Ctrl</kbd>+<kbd>&rarr;</kbd> |\n",
    "| <kbd>Ctrl</kbd>+<kbd>w</kbd> | delete a word backward<br>커서 위치 마지막 단어 삭제 | ls -rl<kbd>Ctrl</kbd>+<kbd>w</kbd> |\n",
    "| <kbd>Ctrl</kbd>+<kbd>a</kbd><br><kbd>Home</kbd> | beginning of the line<br>행의 처음[[ref](https://twitter.com/jbrancha/status/1141001914840166401)] | ls -rl<kbd>Ctrl</kbd>+<kbd>a</kbd> |\n",
    "| <kbd>Ctrl</kbd>+<kbd>e</kbd><br><kbd>End</kbd> | end of the line<br>행의 마지막 | ls -rl<kbd>Home</kbd><kbd>Ctrl</kbd>+<kbd>e</kbd> |\n",
    "| <kbd>Ctrl</kbd>+<kbd>u</kbd> | clear the line from the curser<br>커서 위치로 부터 행 나머지 삭제 | ls -rl<kbd>Home</kbd><kbd>Ctrl</kbd>+<kbd>u</kbd> |\n",
    "|  `man`  | online help<br>도움말                       | `man ls`<br>`man -k gcc`<br>`man --help` |\n",
    "|  `pwd`  | print current *working directory*<br>현재 *작업폴더* 표시 | `pwd`<br>`pwd --help` |\n",
    "|  `ls`   | list files of current working director<br>현재 작업폴더 내용 목록 | `ls`<br><code>ls -al ~/.* &#124; less</code><br><kbd>q</kbd> |\n",
    "| `mkdir` | make a directory<br>새 폴더 생성 | `mkdir ~/temp` | \n",
    "| `cd` | change working directory to a specified folder<br>현재 작업 폴더 변경 | `cd ~/tem`<kbd>Tab</kbd><br>`cd ..`<br>`cd -` | \n",
    "| `rmdir` | remove a directory<br>빈 폴더 삭제 | `rmdir ~/temp` | \n",
    "| `which` | full *path* of a given command<br>특정 명령의 전체 *경로* | `which apt-get` |\n",
    "| `cat` | list content of a text file<br>파일 내용 표시<br>concatenate contents of multiple files<br>여러 파일 내용 합치기 | `cat ~/.bashrc`<br>`cat [file1] [file2] > [file3]` |\n",
    "| `cp` | copy a file<br>파일 복사  | `cp <source> <destination>` |\n",
    "| `mv` | move a file<br>파일 이동 (또는 이름 변경)  | `mv <source> <destination>` |\n",
    "| `rm` | remove a file<br>파일 삭제 | `rm <path>` |\n",
    "| `vi` | start `vim` (ubiquitous) text editor<br>`vim` 편집기 시작 | `vi ~/.bashrc`<br><kbd>i</kbd><br>`export path=\"<path to anaconda>/bin:$PATH\"`<br><kbd>Esc</kbd><br>`:wq` |\n",
    "| `source`<br>`.` | run a shell script (in the current shell)<br>셸 스크립트 파일 실행 | `source ~/.bashrc`<br>`. ~/.bashrc` |\n",
    "| `env` | list *environment variables*<br>*환경변수* 목록<br>run a program in a modified environment<br>변경된 환경에서 프로그램실행 | <code>env &#124; grep DISPLAY</code><br>`env DISPLAY=foo.bar:1.0 xcalc` |\n",
    "| `&` | start a command as a background process<br>백그라운드 프로세스로 명령 실행 | (after installing Anaconda)<br>`jupyter notebook &` |\n",
    "| `;`<br>`&&` | run a series of commands in sequence<br>여러 명령을 순차적으로 실행 | `pwd; ls`<br>`git commit -m \"<msg>\" && git push` |\n",
    "| `alias` | list or define aliases<br>명령어 별칭 목록 표시 또는 정의 | `alias --help` |\n",
    "| `sudo` | run a command as a different user<br>다른 사용자로서 명령을 실행 | `sudo apt-get install g++` |\n",
    "| `su` | change user ID or become superuser<br>사용자 ID 변경 또는 super user가 됨 | `su root` |\n",
    "| `apt-get` | Advanced Package Tool (originaly from Debian)<br>패키지 관리 도구 (데비안 계열) |   |\n",
    "| [`wget`](https://en.wikipedia.org/wiki/Wget) | download web content ([recursively](https://stackoverflow.com/questions/273743/using-wget-to-recursively-fetch-a-directory-with-arbitrary-files-in-it))<br>웹사이트 내용을 받아옴 | `wget --recursive --no-parent <url>`<br>`wget --spider ` |\n",
    "| `lsusb` | list USB devices<br>USB 장치 목록 | `lsusb` |\n",
    "| `ps` | process status<br>프로세스 상태 | `ps` |\n",
    "| `top` | periodically list processes<br>주기적으로 리스트 목록 | `top`<br><kbd>q</kbd> |\n",
    "| `view` | `vi` editor in read only mode<br>`vi` 편집기를 읽기 전용으로 엶 | `view ~/.bash_profile`<br>`:q` |\n",
    "| `chmod` | change permission mode<br>파일 읽기 쓰기 실행 상태 변경 | `chmod u+x name.sh` |\n",
    "| <kbd>Ctrl</kbd>+<kbd>r</kbd> | search through command history<br>명령 재실행 | <kbd>Ctrl</kbd>+<kbd>r</kbd>`l`<kbd>End</kbd><kbd>Enter</kbd><br><kbd>Ctrl</kbd>+<kbd>r</kbd>`c`<kbd>End</kbd> |\n",
    "| `history` | list recent command history<br>최근 명령 목록 | <code>history &#124; less</code><br><code>history &#124; grep cd</code> |\n",
    "| <code>!<i>n</i></code> | rerun <code><i>n</i></code>th recent command history<br>최근 명령 목록 <code><i>n</i></code>번째 재실행 | `!88` |\n",
    "| <code>!<i>string</i></code> | rerun recent command starting with <code><i>string</i></code><br><code><i>string</i></code>으로 시작하는 최근 명령 재실행 | `!ls` |\n",
    "| <code>!?<i>string</i></code> | rerun recent command containing <code><i>string</i></code><br><code><i>string</i></code>을 포함하는 최근 명령 재실행 | `!?history` |\n",
    "| `time` | measure time<br>시간 측정 | `time ls -lr` |\n",
    "\n"
   ]
  },
  {
   "cell_type": "markdown",
   "metadata": {},
   "source": [
    "## Practice Followings<br>실습 예\n",
    "\n"
   ]
  },
  {
   "cell_type": "markdown",
   "metadata": {},
   "source": [
    "### Opening a `bash` window on Linux GUI\n",
    "\n"
   ]
  },
  {
   "cell_type": "markdown",
   "metadata": {},
   "source": [
    "1. Start a linux machine<br>리눅스 시작\n",
    "1. Log in using your id<br>필요시 id로 log in\n",
    "1. Press <kbd>Ctrl</kbd>+<kbd>Alt</kbd>+<kbd>t</kbd> key to open a `bash` terminal<br><kbd>Ctrl</kbd>+<kbd>Alt</kbd>+<kbd>t</kbd> 키를 눌러 `bash` 창을 엶\n",
    "\n"
   ]
  },
  {
   "cell_type": "markdown",
   "metadata": {},
   "source": [
    "### Opening a `git-bash` window on Windows\n",
    "\n"
   ]
  },
  {
   "cell_type": "markdown",
   "metadata": {},
   "source": [
    "1. Open a window of the folder of interest<br>작업 대상 폴더 창을 엶\n",
    "1. Open right mouse click menu on a space instead of selecting a file<br>파일을 선택하지 말고 여백 위에 오른쪽 마우스 메뉴를 엶\n",
    "1. Select **Git Bash Here** command<br>**Git Bash Here** 명령 선택\n",
    "\n"
   ]
  },
  {
   "cell_type": "markdown",
   "metadata": {},
   "source": [
    "### Opening a `bash` pane in a `repl`\n",
    "\n"
   ]
  },
  {
   "cell_type": "markdown",
   "metadata": {},
   "source": [
    "1. Click on the edit pane<br>편집 칸 선택\n",
    "1. Press <kbd>F1</kbd><br><kbd>F1</kbd> 키를 누름\n",
    "1. Select `Open Shell`<br>`Open Shell` 선택\n",
    "\n"
   ]
  },
  {
   "cell_type": "markdown",
   "metadata": {},
   "source": [
    "### After opening a `bash` window<br>`bash` 창을 연 후\n",
    "\n"
   ]
  },
  {
   "cell_type": "markdown",
   "metadata": {},
   "source": [
    "1. Enter `pwd` to check the current working directory<br>`pwd`로 현재 작업 폴더 확인\n",
    "\n"
   ]
  },
  {
   "cell_type": "code",
   "execution_count": null,
   "metadata": {
    "scrolled": true
   },
   "outputs": [],
   "source": [
    "# To test pwd command, select this cell and press Shift + Enter\n",
    "# pwd 명령을 시험하려면 이 셀을 선택하고 Shift + Enter 키 입력\n",
    "!pwd\n",
    "\n"
   ]
  },
  {
   "cell_type": "markdown",
   "metadata": {},
   "source": [
    "2. Try `ls` to check the content of the current folder<br>`ls`로 현재 폴더 내용 확인\n",
    "\n"
   ]
  },
  {
   "cell_type": "code",
   "execution_count": null,
   "metadata": {},
   "outputs": [],
   "source": [
    "!ls\n",
    "\n"
   ]
  },
  {
   "cell_type": "markdown",
   "metadata": {},
   "source": [
    "3. `mkdir temp` would create a folder whose name is `temp`<br>`mkdir temp`로 하위 폴더 생성 (이름은 `temp`)\n",
    "1. To move into the new folder, enter `cd temp`<br>`cd temp`로 하위 폴더 `temp`로 이동\n",
    "1. Now let's try `which python` to see the location of the `python` command<br>`which python`으로 `python` 명령의 전체 경로 확인\n",
    "\n"
   ]
  },
  {
   "cell_type": "code",
   "execution_count": null,
   "metadata": {},
   "outputs": [],
   "source": [
    "!which python\n",
    "\n"
   ]
  },
  {
   "cell_type": "markdown",
   "metadata": {},
   "source": [
    "## Shell scripts<br>셸 스크립트\n",
    "\n"
   ]
  },
  {
   "cell_type": "markdown",
   "metadata": {},
   "source": [
    "* If you create a text file containing shell commands, we can call it a shell script file and run on a shell such as bash.<br>\n",
    "셸 명령을 모은 파일을 셸 스크립트라고 부르고 실행시켜볼 수 있다.\n",
    "\n"
   ]
  },
  {
   "cell_type": "markdown",
   "metadata": {},
   "source": [
    "### `vi` editor\n",
    "\n"
   ]
  },
  {
   "cell_type": "markdown",
   "metadata": {},
   "source": [
    "* About `vi` editor commants, see below<br>`vi` 편집기 명령에 대해서는 아래 참조\n",
    "* `cd <to an appropriate folder>`<br>`cd <적당한 폴더>`\n",
    "* `vi name.sh`\n",
    "* <kbd>i</kbd>\n",
    "* Enter following code<br>아래 코드를 입력\n",
    "\n"
   ]
  },
  {
   "cell_type": "markdown",
   "metadata": {},
   "source": [
    "``` bash\n",
    "#!/bin/bash\n",
    "\n",
    "# example of using arguments to a script\n",
    "# 스크립트에 명령행 매개변수를 사용하는 예\n",
    "echo \"My first name is $1\"\n",
    "echo \"My surname is $2\"\n",
    "echo \"Total number of arguments is $#\" \n",
    "\n",
    "```\n",
    "\n"
   ]
  },
  {
   "cell_type": "markdown",
   "metadata": {},
   "source": [
    "* <kbd>Esc</kbd><br>`:wq`<kbd>Enter</kbd>\n",
    "\n"
   ]
  },
  {
   "cell_type": "markdown",
   "metadata": {},
   "source": [
    "* The cell below can write the file instead of an editor.<br>아래 cell은 편집기 대신 파일을 작성할 수 있음.\n",
    "\n"
   ]
  },
  {
   "cell_type": "code",
   "execution_count": null,
   "metadata": {},
   "outputs": [],
   "source": [
    "%%writefile name.sh\n",
    "#!/bin/bash\n",
    "\n",
    "# example of using arguments to a script\n",
    "# 스크립트에 명령행 매개변수를 사용하는 예\n",
    "echo \"My first name is $1\"\n",
    "echo \"My surname is $2\"\n",
    "echo \"Total number of arguments is $#\"\n",
    "\n"
   ]
  },
  {
   "cell_type": "markdown",
   "metadata": {},
   "source": [
    "* `source name.sh firstname surname`<br>Or / 또는<br>`. name.sh firstname surname`\n",
    "\n"
   ]
  },
  {
   "cell_type": "code",
   "execution_count": null,
   "metadata": {
    "scrolled": true
   },
   "outputs": [],
   "source": [
    "# source name.sh abc xyz\n",
    "# The following code would give the same result as the command above in bash shell\n",
    "# 다음 코드의 결과는 bash 셸 안에서 위 명령을 실행한 경우와 같음\n",
    "\n",
    "# Import a module to expand features of python\n",
    "# python 기능 확장을 위해 모듈을 불러들임\n",
    "import subprocess\n",
    "import os\n",
    "\n",
    "# see if the file exists\n",
    "# 파일이 있는지 확인\n",
    "assert os.path.exists('name.sh')\n",
    "\n",
    "# run the command\n",
    "# 명령 실행\n",
    "print(subprocess.check_output(['sh', 'name.sh', 'abc', 'xyz'], encoding='utf-8'))\n",
    "\n"
   ]
  },
  {
   "cell_type": "markdown",
   "metadata": {},
   "source": [
    "## `vi` editor commands<br>`vi` 편집기 명령\n",
    "\n"
   ]
  },
  {
   "cell_type": "markdown",
   "metadata": {},
   "source": [
    "* `vi` or `vim` are text editors widely used in Unix/Linux world.<br>`vi` 또는 `vim` 편집기는 Unix/Linux 세계에서 널리 사용되는 편집기임.\n",
    "\n"
   ]
  },
  {
   "cell_type": "markdown",
   "metadata": {},
   "source": [
    "* It has **command** and **edit** modes.<br>**명령** 과 **편집** 모드가 있음.\n",
    "\n"
   ]
  },
  {
   "cell_type": "markdown",
   "metadata": {},
   "source": [
    "* `emacs` is also a widely used editor.<br>`emacs` 도 널리 사용되는 에디터임.\n",
    "\n"
   ]
  },
  {
   "cell_type": "markdown",
   "metadata": {},
   "source": [
    "* Following table has a few of the `vi` editor commands.<br>아래는 `vi` 편집기 명령의 일부임.\n",
    "\n"
   ]
  },
  {
   "cell_type": "markdown",
   "metadata": {},
   "source": [
    " \n",
    "| command<br>명령 | feature<br>기능 |\n",
    "|:-------:|:-------:|\n",
    "| `:h`<br>`:help` | show documentation<br>도움말 표시 |\n",
    "| `:e test.txt`<br>`:e LIC`<kbd>Tab</kbd>| start editing a file of given name<br>주어진 이름의 파일 편집 시작 |\n",
    "| <kbd>h</kbd><kbd>j</kbd><kbd>k</kbd><kbd>l</kbd> | <kbd>&larr;</kbd>, <kbd>&darr;</kbd>, <kbd>&uarr;</kbd>, <kbd>&rarr;</kbd> |\n",
    "| <kbd>0</kbd><kbd>^</kbd><kbd>Home</kbd> | Move to the beginning of the line<br>행의 처음으로 이동 | \n",
    "| <kbd>H</kbd>     | go to top of the screen<br>현재 화면의 가장 위로 이동 |\n",
    "| <kbd>L</kbd>     | go to bottom of the screen<br>현재 화면의 가장 아래로 이동 |\n",
    "| `:0`<kbd>Enter</kbd> | go to the beginning of the file<br>파일의 처음으로 이동 |\n",
    "| `:$` | go to the end of the file<br>파일의 맨 뒤로 이동 |\n",
    "| `:19` | go to the line # 19<br>19행 으로 이동 |\n",
    "| <kbd>Ctrl</kbd>+<kbd>f</kbd> | page up<br>한 페이지 위로 이동 |\n",
    "| <kbd>Ctrl</kbd>+<kbd>b</kbd> | page down<br>한 페이지 아래로 이동 |\n",
    "| <kbd>$</kbd> <kbd>End</kbd> | Move to the end of the line<br>행의 맨 끝으로 이동 | \n",
    "| <kbd>i</kbd> | Switch to insert mode and insert<br>삽입 모드로 변경 후 삽입 | \n",
    "| <kbd>a</kbd> | Switch to insert mode and append<br>삽입 모드로 변경 후 덧붙이기 | \n",
    "| <kbd>c</kbd> | Switch to replace mode<br>대체 모드 | \n",
    "| <kbd>Esc</kbd><br><kbd>Ctrl</kbd>+<kbd>[</kbd> | Switch from insert mode to command mode<br>명령 모드로 변경 | \n",
    "| <kbd>x</kbd><br><kbd>d</kbd> | delete one character<br>한 글자 삭제 |\n",
    "| 16d | delete 16 characters of current line<br>16글자 삭제 |\n",
    "|   dw    | cut one word<br>한 단어 cut |\n",
    "|   2dw    | cut two words<br>두 단어 cut |\n",
    "| <kbd>D</kbd><br>d\\$ | cut until the last of the line<br>행 나머지 cut |\n",
    "|   dd    | cut one line<br>한 행 cut |\n",
    "|   4dd    | cut four lines<br>4 행 cut |\n",
    "| <kbd>u</kbd> | undo<br>변경 취소 |\n",
    "| yw | copy word<br>한 단어 복사 |\n",
    "| yy | copy line<br>한 행 복사 |\n",
    "| <kbd>p</kbd> | Paste<br>붙여넣기 | \n",
    "| `/wordd` | search `wordd`<br>검색 |\n",
    "| `/w..d` | search `wood` or `wind` or ...<br>w와 d 사이에 두 글자가 있는 패턴 검색 |\n",
    "| n | find next<br>다음 검색 |\n",
    "| N | find previous<br>이전 검색 |\n",
    "| !<shell command\\> | run shell command<br>셸 명령 실행 |\n",
    "| <kbd>Ctrl</kbd>+<kbd>p</kbd> | (edit mode) autocompletion<br>(편집모드에서) 자동 완성 |\n",
    "| (command mode)`:q`| quit editor<br>(명령모드에서)편집기 마치기 |\n",
    "| `:w`| write file<br>편집 내용 쓰기 |\n",
    "| `:w new.txt`| write to file `new.txt`<br>주어진 이름으로 편집 내용 쓰기 |\n",
    "| `:wq` | write file and quit<br>편집 내용을 쓰고 나가기 |\n",
    "| `:q!` | quit without saving<br>편집 내용을 쓰지 않고 나가기 |\n",
    "| <kbd>Ctrl</kbd>+<kbd>q</kbd> | make `vi` [working again](https://unix.stackexchange.com/questions/12107/how-to-unfreeze-after-accidentally-pressing-ctrl-s-in-a-terminal) after <kbd>Ctrl</kbd>+<kbd>s</kbd><br><kbd>Ctrl</kbd>+<kbd>s</kbd>이후 잠긴 `vi`를 다시 작동하게 만들기 |\n",
    "| `/quick` | search pattern `quick`<br>`quick` 같은 형태의 문자열 찾기 |\n",
    "| `:s/spam/ham/` | replace first pattern of `spam` with `ham`<br>`spam` 같은 형태의 첫번째 문자열을 찾아 `ham`으로 덮어 쓰기 |\n",
    "| `:s/spam/ham/g` | in this line, replace all patterns of `spam` with `ham`<br>현재 행 안에서 `spam` 같은 형태의 문자열을 모두 찾아 `ham`으로 덮어 쓰기 |\n",
    "| `:%s/spam/ham/g` | in this file, replace all patterns of `spam` with `ham`<br>현재 파일 안에서 `spam` 같은 형태의 문자열을 모두 찾아 `ham`으로 덮어 쓰기 |\n",
    "| <kbd>Ctrl</kbd>+<kbd>]</kbd> | follow link within help<br>도움말 안에서 링크 따라가기 |\n",
    "| <kbd>Ctrl</kbd>+<kbd>T</kbd> | return within help<br>도움말 안에서 돌아가기 |\n",
    "| <kbd>Ctrl</kbd>+<kbd>w</kbd>,<kbd>s</kbd><br>`:sp <filename>` | split horizontally<br>수평 창 나누기 |\n",
    "| <kbd>Ctrl</kbd>+<kbd>w</kbd>,<kbd>v</kbd><br>`:vsp <filename>`<br>`:vs <filename>` | split vertically<br>수직 창 나누기 |\n",
    "| <kbd>Ctrl</kbd>+<kbd>w</kbd>,<kbd>q</kbd><br>`:q` | close a window<br>창 닫기 |\n",
    "| <kbd>Ctrl</kbd>+<kbd>w</kbd>,<kbd>w</kbd> | switch between windows<br>창 전환 |\n",
    "| <kbd>Ctrl</kbd>+<kbd>w</kbd>,<kbd>j</kbd> | switch to upper windows<br>위 창 전환 |\n",
    "| <kbd>Ctrl</kbd>+<kbd>w</kbd>,<kbd>k</kbd> | switch to lower windows<br>아래 창 전환 |\n",
    "| <kbd>Ctrl</kbd>+<kbd>w</kbd>,<kbd>L</kbd> | switch to right windows<br>오른쪽 창 전환 |\n",
    "| <kbd>Ctrl</kbd>+<kbd>w</kbd>,<kbd>h</kbd> | switch to left windows<br>왼쪽 창 전환 |\n",
    "\n"
   ]
  },
  {
   "cell_type": "markdown",
   "metadata": {},
   "source": [
    "* Following is a key map for the command (or normal) mode.<br>\n",
    "아래는 명령 (또는 노멀) 모드의 명령 키 모음임.\n",
    "\n"
   ]
  },
  {
   "cell_type": "markdown",
   "metadata": {},
   "source": [
    "[![vi key map](http://www.viemu.com/vi-vim-cheat-sheet.gif)](http://www.viemu.com/a_vi_vim_graphical_cheat_sheet_tutorial.html)\n",
    "\n"
   ]
  },
  {
   "cell_type": "markdown",
   "metadata": {},
   "source": [
    "### `~/.vimrc`\n",
    "\n"
   ]
  },
  {
   "cell_type": "markdown",
   "metadata": {},
   "source": [
    "#### `set nocompatible`\n",
    "\n"
   ]
  },
  {
   "cell_type": "markdown",
   "metadata": {},
   "source": [
    "* In the `insert mode`, sometimes direction arrow keys add characters.<br>삽입 모드에서 때로 방향 화살표 키를 누르면 이동 대신 글자가 입력되는 경우가 있음.\n",
    "* To avoid this, create a `~/.vimrc` and write `set nocompatible`.<br>이 경우, `~/.vimrc` 파일을 만들고 `set nocompatible` 이라는 행을 추가함.\n",
    "\n"
   ]
  },
  {
   "cell_type": "markdown",
   "metadata": {},
   "source": [
    "#### `set number`\n",
    "\n"
   ]
  },
  {
   "cell_type": "markdown",
   "metadata": {},
   "source": [
    "* Show line numbers.\n",
    "* 행 번호 표시.\n",
    "\n"
   ]
  },
  {
   "cell_type": "markdown",
   "metadata": {},
   "source": [
    "#### `syntax on`\n",
    "\n"
   ]
  },
  {
   "cell_type": "markdown",
   "metadata": {},
   "source": [
    "* You can enable grammar coloring in the `vi` editor.<br>`vi`편집기에서 구문을 색으로 표시하는 것이 가능함.\n",
    "* Add a line of `syntax on` to the `~/.vimrc` file.<br>`syntax on`이라는 행을 `~/.vimrc` 파일에 추가함.\n",
    "* If the line above does not work, try [following](https://askubuntu.com/questions/284957/vi-getting-multiple-sorry-the-command-is-not-available-in-this-version-af) commands:<br>\n",
    "위 명령이 잘 작동하지 않는 경우, 아래 명령을 시도하기 바람.<br>\n",
    "`sudo apt-get install vim-gui-common`<br>\n",
    "`sudo apt-get install vim-runtime`<br>\n",
    "\n"
   ]
  },
  {
   "cell_type": "markdown",
   "metadata": {},
   "source": [
    "## Permission<br>권한\n",
    "\n"
   ]
  },
  {
   "cell_type": "markdown",
   "metadata": {},
   "source": [
    "* Unix or Linux files have **permission** attributes about who can do what about them.<br>유닉스 또는 리눅스 파일에는 **권한**에 따라 누가 어떤 조치를 취할 수 있는지 결정됨.\n",
    "\n"
   ]
  },
  {
   "cell_type": "markdown",
   "metadata": {},
   "source": [
    "* Each file's permission status we can check using `ls -l`.<br>각 파일의 권한 상태는 `ls -l`로 확인할 수 있음\n",
    "\n"
   ]
  },
  {
   "cell_type": "code",
   "execution_count": null,
   "metadata": {
    "scrolled": false
   },
   "outputs": [],
   "source": [
    "!ls -l\n",
    "\n"
   ]
  },
  {
   "cell_type": "markdown",
   "metadata": {},
   "source": [
    "* For now, let's take a look at the following example output from `ls -l`.<br>이하는 아래의 `ls -l` 출력 예를 참고.\n",
    "\n"
   ]
  },
  {
   "cell_type": "markdown",
   "metadata": {},
   "source": [
    "```\n",
    "-rw-r--r-- 1 author beachgoer 10815 Oct 31 06:17 00.ipynb\n",
    "-rw-r--r-- 1 author beachgoer  7137 Sep 30 06:27 01.ipynb\n",
    "-rw-r--r-- 1 author beachgoer 15170 Sep 30 06:27 02.ipynb\n",
    "-rw-r--r-- 1 author beachgoer  1511 Oct  9 16:10 LICENSE\n",
    "drwxr-xr-x 3 author beachgoer  4096 Oct 29 10:09 tests\n",
    "\n",
    "```\n",
    "\n"
   ]
  },
  {
   "cell_type": "markdown",
   "metadata": {},
   "source": [
    "* Here, `beachegoer` and `author` are the owner and the owner's user group.<br>여기서 `beachegoer` 와 `author`는 소유자와 소유자의 소속 그룹임.\n",
    "\n"
   ]
  },
  {
   "cell_type": "markdown",
   "metadata": {},
   "source": [
    "* Let's look at the left 10 characters.<br>왼쪽 첫 10글자를 살펴보기 바람.\n",
    "\n"
   ]
  },
  {
   "cell_type": "markdown",
   "metadata": {},
   "source": [
    "* First character is `d` if it is a director. `-` means it is a file.<br>첫 글자가 `d` 이면 폴더이고 `-`이면 파일임.\n",
    "\n"
   ]
  },
  {
   "cell_type": "markdown",
   "metadata": {},
   "source": [
    "* Follorwing three characters are file owner's permissions.<br>그 다음 세 자는 파일 소유자의 권한임.\n",
    "* `r` for read, `w` for write, and `x` for execution.<br>`r`은 읽기, `w`는 쓰기, `x`는 실행을 뜻함.\n",
    "* If these characters are `rw-`, the owner can read or modify but cannot execute the file.<br>`rw-` 라면, 소유자는 읽고 고칠 수 있으나 실행할 수는 없음.\n",
    "\n"
   ]
  },
  {
   "cell_type": "markdown",
   "metadata": {},
   "source": [
    "* The next three characters are permissions for the members of file owner's group.<br>그 다음 세 자는 소유자의 그룹의 일원의 권한임.\n",
    "* `r`, `w`, and `x` mean the same as before.<br>`r`, `w`, `x`의 의미는 위와 같음.\n",
    "* If these characters are `r--`, the group members can read but cannot modify or execute the file.<br>`r--`라면 읽기만 가능함.\n",
    "\n"
   ]
  },
  {
   "cell_type": "markdown",
   "metadata": {},
   "source": [
    "* The last three characters are for others.<br>다음 세 자는 다른 사용자들의 권한임.\n",
    "\n"
   ]
  },
  {
   "cell_type": "markdown",
   "metadata": {},
   "source": [
    "* For directories, permissions mean what users can do with the files in the folder.<br>폴더의 권한은, 어떤 사용자가 폴더 안 파일에 무엇을 할 수 있는가에 관한 것임.\n",
    "\n"
   ]
  },
  {
   "cell_type": "markdown",
   "metadata": {},
   "source": [
    "### How to change permissions<br>권한을 변경하는 방법\n",
    "\n"
   ]
  },
  {
   "cell_type": "markdown",
   "metadata": {},
   "source": [
    "* Following exercises may not run as expected in Windows.<br>\n",
    "다음 예제는 Windows 에서는 다소 예상과 다르게 작동할 수 있음.\n",
    "\n"
   ]
  },
  {
   "cell_type": "markdown",
   "metadata": {},
   "source": [
    "* We can use `chmod` to change permissions.<br>`chmod`로 권한을 변경할 수 있음.\n",
    "\n"
   ]
  },
  {
   "cell_type": "markdown",
   "metadata": {},
   "source": [
    "* The following command would allow the owner to execute the `name.sh` file.<br>아래 명령으로 소유자가 `name.sh` 파일을 실행시킬 수 있게 됨.\n",
    "\n",
    "```sh\n",
    "chmod u+x name.sh\n",
    "```\n",
    "\n"
   ]
  },
  {
   "cell_type": "code",
   "execution_count": null,
   "metadata": {},
   "outputs": [],
   "source": [
    "!ls -l name.sh\n",
    "\n"
   ]
  },
  {
   "cell_type": "code",
   "execution_count": null,
   "metadata": {},
   "outputs": [],
   "source": [
    "!chmod u+x name.sh\n",
    "\n"
   ]
  },
  {
   "cell_type": "code",
   "execution_count": null,
   "metadata": {},
   "outputs": [],
   "source": [
    "!ls -l name.sh\n",
    "\n"
   ]
  },
  {
   "cell_type": "markdown",
   "metadata": {},
   "source": [
    "* The following line would allow the group members to modify the `name.sh` file.<br>아래 명령으로 그룹 멤버가 파일을 수정할 수 있게 됨.\n",
    "\n",
    "\n",
    "```sh\n",
    "chmod g+w name.sh\n",
    "```\n",
    "\n"
   ]
  },
  {
   "cell_type": "code",
   "execution_count": null,
   "metadata": {},
   "outputs": [],
   "source": [
    "!chmod g+w name.sh\n",
    "\n"
   ]
  },
  {
   "cell_type": "code",
   "execution_count": null,
   "metadata": {},
   "outputs": [],
   "source": [
    "!ls -l name.sh\n",
    "\n"
   ]
  },
  {
   "cell_type": "markdown",
   "metadata": {},
   "source": [
    "* The following command would others unable to read the `name.sh` file.<br>다른 사용자들은 파일을 읽을 수 없게 됨.\n",
    "\n",
    "\n",
    "```sh\n",
    "chmod o-r name.sh\n",
    "```\n",
    "\n"
   ]
  },
  {
   "cell_type": "code",
   "execution_count": null,
   "metadata": {},
   "outputs": [],
   "source": [
    "!chmod o-r name.sh\n",
    "\n"
   ]
  },
  {
   "cell_type": "code",
   "execution_count": null,
   "metadata": {},
   "outputs": [],
   "source": [
    "!ls -l name.sh\n",
    "\n"
   ]
  },
  {
   "cell_type": "markdown",
   "metadata": {},
   "source": [
    "### Clean up<br>정리\n",
    "\n"
   ]
  },
  {
   "cell_type": "code",
   "execution_count": null,
   "metadata": {},
   "outputs": [],
   "source": [
    "# Remove practice files\n",
    "# 실습 파일 제거\n",
    "os.remove('name.sh')\n",
    "\n",
    "# see if the file does not exist\n",
    "# 파일이 없는지 확인\n",
    "assert not os.path.exists('name.sh')\n",
    "\n"
   ]
  },
  {
   "cell_type": "markdown",
   "metadata": {},
   "source": [
    "### Final Bell\n",
    "\n"
   ]
  },
  {
   "cell_type": "code",
   "execution_count": null,
   "metadata": {},
   "outputs": [],
   "source": [
    "import os\n",
    "os.system('printf \\a');\n",
    "\n"
   ]
  },
  {
   "cell_type": "code",
   "execution_count": null,
   "metadata": {},
   "outputs": [],
   "source": []
  }
 ],
 "metadata": {
  "colab": {
   "include_colab_link": true,
   "provenance": []
  },
  "kernelspec": {
   "display_name": "Python 3",
   "language": "python",
   "name": "python3"
  },
  "language_info": {
   "codemirror_mode": {
    "name": "ipython",
    "version": 3
   },
   "file_extension": ".py",
   "mimetype": "text/x-python",
   "name": "python",
   "nbconvert_exporter": "python",
   "pygments_lexer": "ipython3",
   "version": "3.7.3"
  }
 },
 "nbformat": 4,
 "nbformat_minor": 0
}