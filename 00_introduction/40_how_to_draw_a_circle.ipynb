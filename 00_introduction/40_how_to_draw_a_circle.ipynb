{
 "cells": [
  {
   "cell_type": "markdown",
   "metadata": {
    "id": "view-in-github",
    "colab_type": "text"
   },
   "source": [
    "<a href=\"https://colab.research.google.com/github/kangwonlee/nmisp/blob/main/00_introduction/40_how_to_draw_a_circle.ipynb\" target=\"_parent\"><img src=\"https://colab.research.google.com/assets/colab-badge.svg\" alt=\"Open In Colab\"/></a>\n"
   ]
  },
  {
   "cell_type": "code",
   "execution_count": null,
   "metadata": {},
   "outputs": [],
   "source": [
    "import numpy as np\n",
    "import matplotlib.pyplot as plt\n",
    "import sympy as sym\n",
    "\n"
   ]
  },
  {
   "cell_type": "markdown",
   "metadata": {},
   "source": [
    "### 원의 방정식<br>Equation of a circle\n",
    "\n"
   ]
  },
  {
   "cell_type": "markdown",
   "metadata": {},
   "source": [
    "원의 방정식을 `sympy`를 써서 나타내 보자.<br>Let's represent a circle in `sympy`.\n",
    "\n"
   ]
  },
  {
   "cell_type": "markdown",
   "metadata": {},
   "source": [
    "먼저 사용할 기호를 준비한다.<br>First, let's prepare symbols to use as follows.\n",
    "\n"
   ]
  },
  {
   "cell_type": "code",
   "execution_count": null,
   "metadata": {},
   "outputs": [],
   "source": [
    "x, y, r = sym.symbols(\"x y r\", real=True)\n",
    "x, y, r\n",
    "\n"
   ]
  },
  {
   "cell_type": "markdown",
   "metadata": {},
   "source": [
    "`sympy.Eq()`는 방정식의 두 변을 매개변수로 받아들인다.<br>`sympy.Eq()` takes both sides of the equation as arguments.\n",
    "\n"
   ]
  },
  {
   "cell_type": "code",
   "execution_count": null,
   "metadata": {},
   "outputs": [],
   "source": [
    "circle = sym.Eq((x * x) + (y * y), (r * r))\n",
    "circle\n",
    "\n"
   ]
  },
  {
   "cell_type": "markdown",
   "metadata": {},
   "source": [
    "위 방정식을 $y$에 대해 풀어보자.<br>Let's solve the equation above about $y$.\n",
    "\n"
   ]
  },
  {
   "cell_type": "code",
   "execution_count": null,
   "metadata": {},
   "outputs": [],
   "source": [
    "sol = sym.solve(circle, y)\n",
    "\n"
   ]
  },
  {
   "cell_type": "code",
   "execution_count": null,
   "metadata": {},
   "outputs": [],
   "source": [
    "sol[0]\n",
    "\n"
   ]
  },
  {
   "cell_type": "code",
   "execution_count": null,
   "metadata": {},
   "outputs": [],
   "source": [
    "sol[1]\n",
    "\n"
   ]
  },
  {
   "cell_type": "markdown",
   "metadata": {},
   "source": [
    "### 닫힌 형태<br>Closed form\n",
    "\n"
   ]
  },
  {
   "cell_type": "markdown",
   "metadata": {},
   "source": [
    "위 두 닫힌 형태의 양함수를 그려보자.<br>\n",
    "Let's plot two closed form functions.\n",
    "\n"
   ]
  },
  {
   "cell_type": "code",
   "execution_count": null,
   "metadata": {},
   "outputs": [],
   "source": [
    "r = 10\n",
    "num = 51\n",
    "fig, ax = plt.subplots(figsize=(10, 10))\n",
    "x_array = np.linspace(-r, r, num)\n",
    "y1_array = np.sqrt(r**2 - x_array**2)\n",
    "y2_array = - np.sqrt(r**2 - x_array**2)\n",
    "\n",
    "plt.plot(x_array, y1_array)\n",
    "plt.plot(x_array, y2_array)\n",
    "plt.grid(True);\n",
    "\n"
   ]
  },
  {
   "cell_type": "markdown",
   "metadata": {},
   "source": [
    "### 열린 형태<br>Open form\n",
    "\n"
   ]
  },
  {
   "cell_type": "code",
   "execution_count": null,
   "metadata": {},
   "outputs": [],
   "source": [
    "circle\n",
    "\n"
   ]
  },
  {
   "cell_type": "markdown",
   "metadata": {},
   "source": [
    "$(x, y)$ 좌표 평면의 점들 가운데, 위 조건을 만족하는 점들을 모으면 원이 될 것이다.<br>\n",
    "Among the points of $(x, y)$ coordinates, set of all points satisfying the equation above would be the circle.\n",
    "\n"
   ]
  },
  {
   "cell_type": "markdown",
   "metadata": {},
   "source": [
    "유한개의 $(x, y)$ 점이 위 조건에 얼마나 가까운지 한번 표시해 보자.<br>Let's plot a finite number of $(x, y)$ points; how close are these from satisfying the condition above?\n",
    "\n"
   ]
  },
  {
   "cell_type": "code",
   "execution_count": null,
   "metadata": {
    "scrolled": false
   },
   "outputs": [],
   "source": [
    "fig, ax = plt.subplots(figsize=(10, 10))\n",
    "\n",
    "x = np.linspace(-15, 15, 61)\n",
    "y = np.linspace(-15, 15, 61)\n",
    "\n",
    "X, Y = np.meshgrid(x, y)\n",
    "\n",
    "Z = -np.abs(10**2 - (X**2 + Y**2))\n",
    "\n",
    "plt.pcolor(X, Y, Z, shading=\"auto\")\n",
    "plt.colorbar()\n",
    "plt.axis(\"equal\");\n",
    "\n",
    "# plt.savefig(\"ㅇ.png\", dpi=300)\n"
   ]
  },
  {
   "cell_type": "markdown",
   "metadata": {},
   "source": [
    "### 매개변수 형태<br>Parametric form\n",
    "\n"
   ]
  },
  {
   "cell_type": "markdown",
   "metadata": {},
   "source": [
    "$\\theta$를 독립 변수로 사용하여 $(x, y)$ 를 표시해 보자.<br>Let's plot $(x, y)$ using $\\theta$ as an independent variable.\n",
    "\n"
   ]
  },
  {
   "cell_type": "markdown",
   "metadata": {},
   "source": [
    "$$\n",
    "x(\\theta) = r cos \\theta \\\\\n",
    "y(\\theta) = r sin \\theta\n",
    "$$\n"
   ]
  },
  {
   "cell_type": "code",
   "execution_count": null,
   "metadata": {},
   "outputs": [],
   "source": [
    "theta_deg = np.linspace(0, 360)\n",
    "# num = 얼마가 좋겠습니까?\n",
    "r = 10\n",
    "\n",
    "x_array = 10 * np.cos(theta_deg)\n",
    "y_array = 10 * np.sin(theta_deg)\n",
    "\n"
   ]
  },
  {
   "cell_type": "code",
   "execution_count": null,
   "metadata": {},
   "outputs": [],
   "source": [
    "len(theta_deg)\n",
    "\n"
   ]
  },
  {
   "cell_type": "code",
   "execution_count": null,
   "metadata": {},
   "outputs": [],
   "source": [
    "fig, ax = plt.subplots(figsize=(12, 12))\n",
    "plt.plot(x_array, y_array, \".-\")\n",
    "plt.axis(\"equal\")\n",
    "plt.grid(True)\n",
    "\n"
   ]
  },
  {
   "cell_type": "markdown",
   "metadata": {},
   "source": [
    "위 그림을 고쳐 보시오<br>Fix the figure above.\n",
    "\n"
   ]
  },
  {
   "cell_type": "markdown",
   "metadata": {},
   "source": [
    "각각 몇개의 점을 계산하였는가<br>\n",
    "How many calculations each?\n",
    "\n"
   ]
  },
  {
   "cell_type": "code",
   "execution_count": null,
   "metadata": {},
   "outputs": [],
   "source": []
  }
 ],
 "metadata": {
  "kernelspec": {
   "display_name": "Python 3",
   "language": "python",
   "name": "python3"
  },
  "language_info": {
   "codemirror_mode": {
    "name": "ipython",
    "version": 3
   },
   "file_extension": ".py",
   "mimetype": "text/x-python",
   "name": "python",
   "nbconvert_exporter": "python",
   "pygments_lexer": "ipython3",
   "version": "3.8.8"
  }
 },
 "nbformat": 4,
 "nbformat_minor": 1
}