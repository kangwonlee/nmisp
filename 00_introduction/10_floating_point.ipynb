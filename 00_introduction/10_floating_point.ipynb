{
 "cells": [
  {
   "cell_type": "markdown",
   "metadata": {
    "id": "view-in-github",
    "colab_type": "text"
   },
   "source": [
    "<a href=\"https://colab.research.google.com/github/kangwonlee/nmisp/blob/main/00_introduction/10_floating_point.ipynb\" target=\"_parent\"><img src=\"https://colab.research.google.com/assets/colab-badge.svg\" alt=\"Open In Colab\"/></a>\n"
   ]
  },
  {
   "cell_type": "markdown",
   "metadata": {},
   "source": [
    "# 컴퓨터는 실수를 어떻게 다루는가?<br>How computers handle real numbers?\n",
    "\n"
   ]
  },
  {
   "cell_type": "markdown",
   "metadata": {},
   "source": [
    "Check the following result.<br>다음 결과를 확인해 보자.\n",
    "\n"
   ]
  },
  {
   "cell_type": "code",
   "execution_count": null,
   "metadata": {},
   "outputs": [],
   "source": [
    "addition = 0.1 + 0.2\n",
    "addition == 0.3\n",
    "\n"
   ]
  },
  {
   "cell_type": "markdown",
   "metadata": {},
   "source": [
    "It is related to how computers handle real numbers.<br>이는 컴퓨터가 실수를 다루는 방식과 관련이 있다.\n",
    "\n"
   ]
  },
  {
   "cell_type": "markdown",
   "metadata": {},
   "source": [
    "자연수, 음의 정수, 실수의 순서 대로 알아 보자.<br>Let's take a look at natural numbers, negative integers, and real numbers.\n",
    "\n"
   ]
  },
  {
   "cell_type": "markdown",
   "metadata": {},
   "source": [
    "## 컴퓨터는 자연수를 어떻게 다루는가?<br>How computers handle natural numbers?\n",
    "\n"
   ]
  },
  {
   "cell_type": "markdown",
   "metadata": {},
   "source": [
    "* 컴퓨터는 기본적으로 0 또는 1만 다룰 수 있음.<br>Basically, computers can handle 0 or 1 only.\n",
    "\n"
   ]
  },
  {
   "cell_type": "markdown",
   "metadata": {},
   "source": [
    "* 여기서 **다룰 수 있다**는 것은 기억장치에 저장, 연산, 출력 등을 뜻함.<br>Here, to **handle** means to store in memory, to operate, and to output.\n",
    "\n"
   ]
  },
  {
   "cell_type": "markdown",
   "metadata": {},
   "source": [
    "* 0 또는 1 을 다루는 최소 단위는 **비트**라고 함.<br>We call the smallest unit that can handle 0 or 1 a **bit**.\n",
    "\n"
   ]
  },
  {
   "cell_type": "markdown",
   "metadata": {},
   "source": [
    "* 어떤 컴퓨터가 예를 들어 32 비트, 64 비트 라고 할 때 이를 기억하기 바람.<br>When we hear about a personal computer is for example 32 bit or 64 bit, please recall this.\n",
    "\n"
   ]
  },
  {
   "cell_type": "markdown",
   "metadata": {},
   "source": [
    "* 해당 컴퓨터가 한번에 처리할 수 있는 비트의 수를 뜻함.<br>It means the number of bits that the computer can process at once.\n",
    "\n"
   ]
  },
  {
   "cell_type": "markdown",
   "metadata": {},
   "source": [
    "* 더 큰 (자연)수를 다루려면 비트 수가 커야 함.<br>To handle larger (natural) numbers, we need more number of bits.\n",
    "\n"
   ]
  },
  {
   "cell_type": "markdown",
   "metadata": {},
   "source": [
    "* 다음 표는 10진수를 2진수와 16진수 형태로 보임.<br>Following table shows decimal numbers in binary and hexadecimal format.\n",
    "\n"
   ]
  },
  {
   "cell_type": "code",
   "execution_count": null,
   "metadata": {},
   "outputs": [],
   "source": [
    "import numpy as np\n",
    "import pandas as pd\n",
    "\n",
    "\n",
    "# make a table of deciman, binary, and hexademcial numbers\n",
    "# 2진수, 16진수 표를 준비함\n",
    "\n",
    "# decimal 10진수\n",
    "decimal = pd.Series(\n",
    "    list(range(0,20+1)) +\n",
    "    [\n",
    "      2**7-1, 2**7, 2**8-1, 2**8,\n",
    "      2**15-1, 2**15, 2**16-1, 2**16,\n",
    "      2**32-1, 2**32,\n",
    "      2**63-1, 2**63, 2**64-1, 2**64,\n",
    "    ], name=\"Decimal\"\n",
    ")\n",
    "\n",
    "# hexadecimal 16진수\n",
    "hexadecimal = decimal.apply(hex)\n",
    "\n",
    "# number of Bytes Byte 수\n",
    "n_bytes = np.ceil((hexadecimal.str.len() - 2).div(2)).astype(int)\n",
    "\n",
    "# binary 2진수\n",
    "binary = decimal.apply(bin)\n",
    "\n",
    "# number of bits bit 수\n",
    "n_bits = (binary.str.len() - 2).astype(int)\n",
    "\n",
    "# if binary number too long, set \"...\"\n",
    "# 2진수 표시가 너무 길면 \"...\" 으로 변경\n",
    "binary[n_bits.index[n_bits>20]] = \"...\"\n",
    "\n",
    "# Make a Pandas DataFrame table\n",
    "# Pandas DataFrame 표로 만듦\n",
    "df_dec_bin_hex = pd.DataFrame(\n",
    "    {\n",
    "        \"Decimal\":decimal,\n",
    "        \"Binary\":binary,\n",
    "        \"no. bits\":n_bits,\n",
    "        \"no. bytes\":n_bytes,\n",
    "        \"Hexadecimal\":hexadecimal\n",
    "     },\n",
    ")\n",
    "\n",
    "df_dec_bin_hex.set_index(\"Decimal\", inplace=True)\n",
    "\n",
    "# present the table\n",
    "# 위에서 만든 표를 표시함\n",
    "df_dec_bin_hex\n",
    "\n"
   ]
  },
  {
   "cell_type": "markdown",
   "metadata": {},
   "source": [
    "* 위 표가 너무 길다고 생각되면 위 셀 왼쪽 여백을 선택한 후 <kbd>Shift</kbd>+<kbd>O</kbd> 또는 <kbd>O</kbd>를 눌러 봄<br>\n",
    "    If the table above seems too long, select left margin of the cell above and try pressing <kbd>Shift</kbd>+<kbd>o</kbd> or <kbd>o</kbd>\n",
    "\n"
   ]
  },
  {
   "cell_type": "markdown",
   "metadata": {},
   "source": [
    "* 위에서 이진수 4자리가 16진수 한자리에 해당됨을 알 수 있음<br>We can see that one hexadecimal digit represents four binary digits.\n",
    "\n"
   ]
  },
  {
   "cell_type": "markdown",
   "metadata": {},
   "source": [
    "* 이러한 이유로 흔히 이진수를 예를 들어 `1101 0101`과 같이 4자리씩 표시함.<br>Because of this, frequently we group four digits of a binary number; for example `1101 0101`.\n",
    "\n"
   ]
  },
  {
   "cell_type": "markdown",
   "metadata": {},
   "source": [
    "* 이러한 비트를 8개씩 모은 것을 **바이트**라고 함.<br>We call a collection of 8 bits a **byte**.\n",
    "\n"
   ]
  },
  {
   "cell_type": "markdown",
   "metadata": {},
   "source": [
    "## 컴퓨터는 음의 정수를 어떻게 다루는가?<br>How computers handle negative integers?\n",
    "\n"
   ]
  },
  {
   "cell_type": "markdown",
   "metadata": {},
   "source": [
    "* 기본적으로 컴퓨터는 0과 양의 정수를 다루도록 만들어져 있음.<br>Basically computers are designed to handle 0 and positive integers.\n",
    "\n"
   ]
  },
  {
   "cell_type": "markdown",
   "metadata": {},
   "source": [
    "* 음의 정수를 표현하고 다루기 위해 컴퓨터는 음의 정수를 **2의 보수**로 변환함.<br>To represent and handle negative integers, computers convert a negative integer to **2's complement**.\n",
    "\n"
   ]
  },
  {
   "cell_type": "markdown",
   "metadata": {},
   "source": [
    "* 두 수 $a$와 $b$가 있을 때, $a+b=2$ 이면 $b$ 는 $a$의 **2의 보수**임.<br>If there are two numbers of $a$ and $b$, and $a+b=2$, $b$ is **2's complement** of $a$.\n",
    "\n"
   ]
  },
  {
   "cell_type": "markdown",
   "metadata": {},
   "source": [
    "### 8 비트 예<br>8 bit example\n",
    "\n"
   ]
  },
  {
   "cell_type": "markdown",
   "metadata": {},
   "source": [
    "* 설명을 간단히 하기 위해 8bit 의 경우를 살펴 보겠음.<br>To simplify, we will look at the 8bit case.\n",
    "\n"
   ]
  },
  {
   "cell_type": "markdown",
   "metadata": {},
   "source": [
    "* 양의 정수 7은 8bit 이진수로 00000111 로 표시할 수 있음.<br>Positive integer 7 is 00000111 in an 8 bit binary number.\n",
    "\n"
   ]
  },
  {
   "cell_type": "markdown",
   "metadata": {},
   "source": [
    "* 2진수 00000111의 2의 보수를 구하기 위해 우선 0을 1로 바꾼 후 1을 더함.<br>To find 2's complement of binary number 00000111, change 0's to 1's and add 1.\n",
    "\n"
   ]
  },
  {
   "cell_type": "markdown",
   "metadata": {},
   "source": [
    "* 2진수 00000111 의 2 의 보수는 11111001 이 될 것임.<br>2's complement of binary number 00000111 would be 11111001.\n",
    "\n"
   ]
  },
  {
   "cell_type": "markdown",
   "metadata": {},
   "source": [
    "* 두 수를 더하면 다음과 같음.<br>Adding these two numbers would be follows.\n",
    "\n"
   ]
  },
  {
   "cell_type": "code",
   "execution_count": null,
   "metadata": {},
   "outputs": [],
   "source": [
    "# convert strings to integers. \n",
    "# regard the base is two == binary numbers\n",
    "a = int('00000111', base=2)\n",
    "b = int('11111001', base=2)\n",
    "\n",
    "# see help(int) for more information\n",
    "\n",
    "# add two integers above\n",
    "c = a+b\n",
    "\n",
    "# print the sum c as a binary number\n",
    "print(f'c = {c:b}(binary)')\n",
    "\n",
    "# as a decimal number\n",
    "print(f'c = {c:d}(decimal)')\n",
    "\n",
    "# as a hexadecimal number\n",
    "print(f'c = {c:x}(hexadecimal)')\n",
    "\n"
   ]
  },
  {
   "cell_type": "markdown",
   "metadata": {},
   "source": [
    "* 위 결과는 10진수로는 256 이지만 2진수로는 `1 0000 0000` 으로, 아래 8 비트는 모두 0임. 8비트 연산의 경우, 이 덧셈의 결과는 0으로 간주함.<br>The result above is 256 in decimal, however, in binary `1 0000 0000` whose lower 8 bits are all zeros. In case of the 8 bit operation, we regard this result as zero.\n",
    "\n"
   ]
  },
  {
   "cell_type": "markdown",
   "metadata": {},
   "source": [
    "* 아래 표는 8자리 2진수의 양의 정수, 부호 있는 정수로서의 값을 비교함<br>Following table compares 8 digit bit patterns as positive integers and signed integers.\n",
    "\n"
   ]
  },
  {
   "cell_type": "code",
   "execution_count": null,
   "metadata": {},
   "outputs": [],
   "source": [
    "# number of binary digits\n",
    "# 이진수의 자릿수\n",
    "n = 8\n",
    "\n",
    "def bit_unit_sint_table(n:int):\n",
    "  # make a table of unsigned or signed integers\n",
    "  # 부호가 없는 또는 부호가 있는 이진수 표 생성\n",
    "  uint = [0, 1, 2,] + list(range(2**(n-1)-2, 2**(n-1)+3)) + [(2**n-2), (2**n-1)]\n",
    "\n",
    "  bit_key = f\"{n} bit bit pattern\"\n",
    "  uint_key = f\"unsigned int{n}_t\"\n",
    "  sint_key = f\"signed int{n}_t\"\n",
    "\n",
    "\n",
    "  df_bit = pd.DataFrame(\n",
    "    {\n",
    "      bit_key: list(map(lambda i: f\"{i:0{n}b}\", uint)),\n",
    "      uint_key: uint,\n",
    "      sint_key: list(map(lambda ui: ui if ui < 2**(n-1) else (ui - 2**n), uint)),\n",
    "    }\n",
    "  )\n",
    "\n",
    "  elipsis = pd.DataFrame({\n",
    "        bit_key: [\"...\"],\n",
    "        uint_key: [\"...\"],\n",
    "        sint_key: [\"...\"],\n",
    "      })\n",
    "\n",
    "  df_bit = pd.concat([\n",
    "      df_bit.loc[:2,:],\n",
    "      elipsis,\n",
    "      df_bit.loc[3:7,:],\n",
    "      elipsis,\n",
    "      df_bit.loc[8:,:],\n",
    "  ], axis=0)\n",
    "\n",
    "  df_bit.set_index(bit_key, inplace=True)\n",
    "  return df_bit\n",
    "\n",
    "# present the table\n",
    "# 표를 표시함\n",
    "bit_unit_sint_table(n)\n",
    "\n"
   ]
  },
  {
   "cell_type": "markdown",
   "metadata": {},
   "source": [
    "### 16 비트 예<br>16 bit example\n",
    "\n"
   ]
  },
  {
   "cell_type": "markdown",
   "metadata": {},
   "source": [
    "* 다음 예는 16비트의 경우를 보여줌<br>Following example shows a 16bit example.\n",
    "\n"
   ]
  },
  {
   "cell_type": "code",
   "execution_count": null,
   "metadata": {},
   "outputs": [],
   "source": [
    "a = int('0000''0000''0000''0111', base=2)\n",
    "b = int('1111''1111''1111''1001', base=2)\n",
    "\n",
    "c = a+b\n",
    "print(f'c = {c:b}(binary)')\n",
    "print(f'c = {c:d}(decimal)')\n",
    "print(f'c = {c:x}(hexadecimal)')\n",
    "\n"
   ]
  },
  {
   "cell_type": "markdown",
   "metadata": {},
   "source": [
    "* 위 결과는 10진수로는 65536 이지만 2진수로는 `1 0000 0000 0000 0000` 으로, 아래 16 비트는 모두 0임.<br>The result above is 65536 in decimal, however, in binary `1 0000 0000 0000 0000` whose lower 16 bits are all zeros.\n",
    "\n"
   ]
  },
  {
   "cell_type": "markdown",
   "metadata": {},
   "source": [
    "* 아래 표는 16자리 2진수의 양의 정수, 부호 있는 정수로서의 값을 비교함<br>Following table compares 16 digit bit patterns as positive integers and signed integers.\n",
    "\n"
   ]
  },
  {
   "cell_type": "code",
   "execution_count": null,
   "metadata": {},
   "outputs": [],
   "source": [
    "# 이진수의 자릿수\n",
    "# number of binary digits\n",
    "n = 16\n",
    "\n",
    "# make a table of unsigned or signed integers\n",
    "# 부호가 없는 또는 부호가 있는 이진수 표 생성\n",
    "\n",
    "# present the table\n",
    "# 표를 표시함\n",
    "bit_unit_sint_table(n)\n"
   ]
  },
  {
   "cell_type": "markdown",
   "metadata": {},
   "source": [
    "### 요약<br>Summary\n",
    "\n"
   ]
  },
  {
   "cell_type": "markdown",
   "metadata": {},
   "source": [
    "* 음의 정수는 컴퓨터에서 2의 보수로 다루며, 이는 해당 정수의 절대값의 2진수에서 0과 1을 바꾼 다음 1을 더하여 구함.<br>Computers handle negative intergers as 2's complementary, which we can find by exchanging 0's and 1's of the binary representation of the integer's absolute value and then adding one.\n",
    "\n"
   ]
  },
  {
   "cell_type": "markdown",
   "metadata": {},
   "source": [
    "## 컴퓨터는 실수를 어떻게 다루는가?<br>How computers handle real numbers?\n",
    "\n"
   ]
  },
  {
   "cell_type": "markdown",
   "metadata": {},
   "source": [
    "### 고정 소숫점<br>Fixed point\n",
    "\n"
   ]
  },
  {
   "cell_type": "markdown",
   "metadata": {},
   "source": [
    "* 정수로 표시한 후 일정 값을 곱함<br>We can represent a number in an integer and multiply a fixed number.\n",
    "\n"
   ]
  },
  {
   "cell_type": "markdown",
   "metadata": {},
   "source": [
    "* 예를 들어 길이를 모두 cm 단위로 표시한 후 m 단위 값을 구하려면 0.01 을 곱함.<br>For example, we can indicate all lengths in cm units and multipy 0.01 to find values in m units. \n",
    "\n"
   ]
  },
  {
   "cell_type": "markdown",
   "metadata": {},
   "source": [
    "* 그러나 위의 경우, mm 값을 표시하는 것이 곤란할 수 있음.<br>However, in this way, it may not be easy to indicate in mm units.\n",
    "\n"
   ]
  },
  {
   "cell_type": "markdown",
   "metadata": {},
   "source": [
    "### 부동 (떠다니는) 소숫점<br>Floating point\n",
    "\n"
   ]
  },
  {
   "cell_type": "markdown",
   "metadata": {},
   "source": [
    "* 간단히 말하면 실수는 유효숫자와 지수로 표시함.<br>In short, we can also represent a real number using significand and exponents.\n",
    "\n"
   ]
  },
  {
   "cell_type": "markdown",
   "metadata": {},
   "source": [
    "* 예를 들어 $2.3456 \\times 10^0$ m 는 cm 단위로는 $2.3456 \\times 10^2$, mm 단위로는 $2.3456 \\times 10^3$ 으로 표시될 것임.<br>For example, $2.3456 \\times 10^0$ m would be $2.3456 \\times 10^2$ in cm, and $2.3456 \\times 10^3$ in mm.\n",
    "\n"
   ]
  },
  {
   "cell_type": "markdown",
   "metadata": {},
   "source": [
    "* 공학용 계산기 가운데는 `2.3456E3` 으로 $2.3456 \\times 10^3$ 을 나타내는 것도 있음. 여기서 `2.3456` 은 유효숫자, `3`은 지수임.<br>An engineering calculator may indicate $2.3456 \\times 10^3$ as `2.3456E3`. Here, we can see that `2.3456` is the significand (also mantissa, coefficient, argument or fraction) and `3` is the exponent.\n",
    "\n"
   ]
  },
  {
   "cell_type": "markdown",
   "metadata": {},
   "source": [
    "* 유효숫자는 바뀌지 않더라도 지수 값이 바뀌면 소숫점의 위치가 바뀜.<br>Even if the sigtificand does not change, when the exponent changes, the location of the decimal point changes.\n",
    "\n"
   ]
  },
  {
   "cell_type": "markdown",
   "metadata": {},
   "source": [
    "* 반대로 $2.3456 \\times 10^0$ mm 는 cm 단위로는 $2.3456 \\times 10^{-1}$, m 단위로는 $2.3456 \\times 10^{-3}$ 으로 표시될 것임.<br>On the contrary, $2.3456 \\times 10^0$ mm would be $2.3456 \\times 10^{-1}$ in cm, and $2.3456 \\times 10^{-3}$ in m.\n",
    "\n"
   ]
  },
  {
   "cell_type": "markdown",
   "metadata": {},
   "source": [
    "* 컴퓨터는 2진수로 저장하며 자세한 내용은 [IEEE 754](https://ko.wikipedia.org/wiki/IEEE_754) 기술 표준을 참고하기 바람.<br>Computers store in binary numbers. For more informaiton, please refer to [IEEE 754, Wikipedia](https://en.wikipedia.org/wiki/IEEE_754).\n",
    "\n"
   ]
  },
  {
   "cell_type": "markdown",
   "metadata": {},
   "source": [
    "* 일반적으로 단정도 4바이트 (32비트) 또는 배정도 8바이트 (64비트)로 다루며 $\\pm$, 지수부, 유효숫자부로 나눔.<br>Usually we use 4Byte (32bit) single precision or 8Byte (64bit) double precision, which includes $\\pm$, exponent, and significand.\n",
    "\n"
   ]
  },
  {
   "cell_type": "markdown",
   "metadata": {},
   "source": [
    "* 단정도 32비트는 아래 표와 같이 구성됨.  여기서 `e`는 지수, `s`는 유효숫자를 뜻함.<br>Following table shows the breakout of 32 bits of single precision.  Here, `e` and `s` indicate exponent and sigdificand, respectively.\n",
    "\n"
   ]
  },
  {
   "cell_type": "code",
   "execution_count": null,
   "metadata": {},
   "outputs": [],
   "source": [
    "# number of bits\n",
    "n = 32\n",
    "ne = 8    # number of exponent bits\n",
    "\n",
    "pd.set_option(\"display.max_columns\", 36)\n",
    "\n",
    "def float_table(n:int, ne:int):\n",
    "    df_float = pd.DataFrame(\n",
    "        ['±'] + ['e'] * ne + ['s'] * (n-ne-1),\n",
    "        index=range(n-1, 0-1, -1)\n",
    "    ).T\n",
    "    df_float.set_index(31, inplace=True)\n",
    "\n",
    "    return df_float\n",
    "\n",
    "float_table(32, 8)\n",
    "\n"
   ]
  },
  {
   "cell_type": "markdown",
   "metadata": {},
   "source": [
    "* 지수부 값이 $0$이면 $2^{-127}$을, $2^{8}-1=255$이면  $2^{128}$을 뜻함.<br>Please note that the exponent value $0$ means $2^{-127}$ and $2^{8}-1=255$ means $2^{128}$.\n",
    "\n"
   ]
  },
  {
   "cell_type": "markdown",
   "metadata": {},
   "source": [
    "* 배정도 64비트는 아래 표와 같이 구성됨.<br>Following table shows the breakout of 64 bits of double precision.\n",
    "\n"
   ]
  },
  {
   "cell_type": "code",
   "execution_count": null,
   "metadata": {},
   "outputs": [],
   "source": [
    "# number of bits\n",
    "n = 64\n",
    "ne = 11\n",
    "\n",
    "float_table(64, 11)\n",
    "\n"
   ]
  },
  {
   "cell_type": "markdown",
   "metadata": {},
   "source": [
    "* 지수부 값이 $0$이면 $2^{-1023}$을, $2^{11}-1=2047$이면  $2^{1024}$를 뜻함.<br>Please note that the exponent value $0$ means $2^{-1023}$ and $2^{11}-1=2047$ means $2^{1024}$.\n",
    "\n"
   ]
  },
  {
   "cell_type": "markdown",
   "metadata": {},
   "source": [
    "## 부동소숫점 표시의 한계 사례<br>Examples of limits of floating point\n",
    "\n"
   ]
  },
  {
   "cell_type": "markdown",
   "metadata": {},
   "source": [
    "수학적으로 다음은 항상 참인가?<br>Mathematically, is following always true?\n",
    "\n"
   ]
  },
  {
   "cell_type": "markdown",
   "metadata": {},
   "source": [
    "$$\n",
    "2^{-n} > 0, n < \\infty\n",
    "$$\n",
    "\n"
   ]
  },
  {
   "cell_type": "markdown",
   "metadata": {},
   "source": [
    "다음 코드는 $n$ 이 1 부터 10000 까지인 경우 위 식을 확인한다.<br>Following code will check the inequality above when $n$ is from  1 to 10000.\n",
    "\n"
   ]
  },
  {
   "cell_type": "code",
   "execution_count": null,
   "metadata": {},
   "outputs": [],
   "source": [
    "a = 1.0\n",
    "\n",
    "for n in range(1, 10000+1):\n",
    "    a *= 0.5\n",
    "    print(f\"2**(-{n}) = {a}\")\n",
    "    if a <= 0 :\n",
    "        break\n",
    "\n"
   ]
  },
  {
   "cell_type": "markdown",
   "metadata": {},
   "source": [
    "다음도 항상 참인가?<br>Is following always true, too?\n",
    "\n"
   ]
  },
  {
   "cell_type": "markdown",
   "metadata": {},
   "source": [
    "$$\n",
    "100+2^{-n} > 100, n < \\infty\n",
    "$$\n",
    "\n"
   ]
  },
  {
   "cell_type": "markdown",
   "metadata": {},
   "source": [
    "마찬가지로, 다음 코드는 $n$ 이 1 부터 10000 까지인 경우 위 식을 확인한다.<br>Similary, following code will check the inequality above when $n$ is from  1 to 10000.\n",
    "\n"
   ]
  },
  {
   "cell_type": "code",
   "execution_count": null,
   "metadata": {},
   "outputs": [],
   "source": [
    "a = 1.0\n",
    "b = 100\n",
    "\n",
    "for n in range(1, 10000+1):\n",
    "    a *= 0.5\n",
    "    print(f\"{b} + 2**(-{n}) = {b+a}\")\n",
    "    if b+a <= b : \n",
    "        break\n",
    "\n"
   ]
  },
  {
   "cell_type": "markdown",
   "metadata": {},
   "source": [
    "## So now what?<br>그래서, 어떻게 하면 좋을까?\n",
    "\n"
   ]
  },
  {
   "cell_type": "markdown",
   "metadata": {},
   "source": [
    "Since python 3.5, to compare two `float` values, `math.isclose()` is available .<br>Python 3.5 이후, 두 `float` 값을 비교하기 위해 `math.isclose()` 를 사용할 수 있다.\n",
    "\n"
   ]
  },
  {
   "cell_type": "code",
   "execution_count": null,
   "metadata": {},
   "outputs": [],
   "source": [
    "addition = 0.1 + 0.2\n",
    "addition == 0.3\n",
    "\n"
   ]
  },
  {
   "cell_type": "code",
   "execution_count": null,
   "metadata": {},
   "outputs": [],
   "source": [
    "import math\n",
    "math.isclose(addition, 0.3)\n",
    "\n"
   ]
  },
  {
   "cell_type": "markdown",
   "metadata": {},
   "source": [
    "Also, since `numpy` 1.7.0, `numpy.close()` is available.<br>\n",
    "또한 `numpy` 1.7.0 이후 `numpy.close()` 도 사용 가능하다.\n",
    "\n"
   ]
  },
  {
   "cell_type": "code",
   "execution_count": null,
   "metadata": {},
   "outputs": [],
   "source": [
    "import numpy\n",
    "numpy.isclose(addition, 0.3)\n",
    "\n"
   ]
  },
  {
   "cell_type": "markdown",
   "metadata": {},
   "source": [
    "## 연습 문제<br>Exercises\n",
    "\n"
   ]
  },
  {
   "cell_type": "markdown",
   "metadata": {},
   "source": [
    "* 이진수 세자리는 몇진수 한자리에 해당되겠는가?<br>One digit of which base would represent three binary digits?\n",
    "\n"
   ]
  },
  {
   "cell_type": "markdown",
   "metadata": {},
   "source": [
    "* `2.3456E3` 이 $2.3456 \\times 10^3$ 라면, $2.3456 \\times 10^{-3}$ 은?<br>If `2.3456E3` is equivalent to $2.3456 \\times 10^3$, what about $2.3456 \\times 10^{-3}$?\n",
    "\n"
   ]
  },
  {
   "cell_type": "markdown",
   "metadata": {},
   "source": [
    "* 아래 부등식은 항상 참인지 여러분의 컴퓨터로 확인해 본 결과는? 그 까닭은?<br>What was the result of the following inequality in your computer? Why?\n",
    "\n"
   ]
  },
  {
   "cell_type": "markdown",
   "metadata": {},
   "source": [
    "$$\n",
    "2^{-n} > 0\n",
    "$$\n",
    "\n"
   ]
  },
  {
   "cell_type": "markdown",
   "metadata": {},
   "source": [
    "* 위 결과와 아래 부등식의 결과를 비교해 보시오.<br>Compare the result of the following inequality in your computer with the above one?\n",
    "\n"
   ]
  },
  {
   "cell_type": "markdown",
   "metadata": {},
   "source": [
    "$$\n",
    "100+2^{-n} > 100\n",
    "$$\n",
    "\n"
   ]
  },
  {
   "cell_type": "markdown",
   "metadata": {},
   "source": [
    "## 파이썬의 `for` 반복문<br>`for` iterations in python\n",
    "\n"
   ]
  },
  {
   "cell_type": "markdown",
   "metadata": {},
   "source": [
    "어떤 작업을 정해진 횟수 만큼 반복시키고 싶다면 `for` 문을 사용할 수 있다.<br>\n",
    "`for` loops for a fixed number of iterations.[[ref](https://stackoverflow.com/questions/27875966)]\n",
    "\n"
   ]
  },
  {
   "cell_type": "code",
   "execution_count": null,
   "metadata": {},
   "outputs": [],
   "source": [
    "a = 'iteration'\n",
    "\n",
    "for i in [0, 1, 2,]:\n",
    "    print(i, a)\n",
    "\n"
   ]
  },
  {
   "cell_type": "markdown",
   "metadata": {},
   "source": [
    "위 셀에서 변수 `i` 는 `in` 다음의 list `[0, 1, 2]` 안의 값을 하나씩 짚을 것이다.<br>In the cell above, the variable `i` will step over the values of the list `[0, 1, 2]` following `in`.\n",
    "\n"
   ]
  },
  {
   "cell_type": "markdown",
   "metadata": {},
   "source": [
    "`n` 번 반복시키려면 0 부터 `n-1` 까지 발생시키는 `range(n)` 을 사용할 수 있다.<br>\n",
    "To loop `n` iterations, we can use `range(n)` that will generate from 0 to `n-1`.\n",
    "\n"
   ]
  },
  {
   "cell_type": "code",
   "execution_count": null,
   "metadata": {},
   "outputs": [],
   "source": [
    "a = 'iteration'\n",
    "n = 10\n",
    "\n",
    "for i in range(n):\n",
    "    print(i, a)\n",
    "\n"
   ]
  },
  {
   "cell_type": "markdown",
   "metadata": {},
   "source": [
    "list 나 `range(n)` 대신 문자열을 사용할 수도 있다.<br>We may also replace the list or `range(n)` with a string.\n",
    "\n"
   ]
  },
  {
   "cell_type": "markdown",
   "metadata": {},
   "source": [
    "## Final Bell<br>마지막 종\n",
    "\n"
   ]
  },
  {
   "cell_type": "code",
   "execution_count": null,
   "metadata": {},
   "outputs": [],
   "source": [
    "# stackoverfow.com/a/24634221\n",
    "import os\n",
    "os.system(\"printf '\\a'\");\n",
    "\n"
   ]
  },
  {
   "cell_type": "code",
   "execution_count": null,
   "metadata": {},
   "outputs": [],
   "source": []
  }
 ],
 "metadata": {
  "colab": {
   "collapsed_sections": [
    "stz1x7fE2r-m",
    "2GTjHUn_2r-n",
    "BYWGuXLj2r-r",
    "3l5TRq5w2r-s",
    "zFAMbQQl2r-s",
    "Q_It2k3a2r-s",
    "aTThdqXj2r-t",
    "6ofz6JDf2r-v",
    "FvWz5BLh2r-w",
    "gEpjFBrd2r-1",
    "SG9yqt-e2r-2",
    "338RQ3Kk2r-3"
   ],
   "include_colab_link": true,
   "name": "10_floating_point.ipynb",
   "provenance": []
  },
  "kernelspec": {
   "display_name": "Python 3",
   "language": "python",
   "name": "python3"
  },
  "language_info": {
   "codemirror_mode": {
    "name": "ipython",
    "version": 3
   },
   "file_extension": ".py",
   "mimetype": "text/x-python",
   "name": "python",
   "nbconvert_exporter": "python",
   "pygments_lexer": "ipython3",
   "version": "3.8.8"
  }
 },
 "nbformat": 4,
 "nbformat_minor": 0
}