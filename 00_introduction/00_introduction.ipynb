{
 "cells": [
  {
   "cell_type": "markdown",
   "metadata": {
    "id": "view-in-github",
    "colab_type": "text"
   },
   "source": [
    "<a href=\"https://colab.research.google.com/github/kangwonlee/nmisp/blob/dependabot/pip/tests/requests-2.31.0/00_introduction/00_introduction.ipynb\" target=\"_parent\"><img src=\"https://colab.research.google.com/assets/colab-badge.svg\" alt=\"Open In Colab\"/></a>\n"
   ]
  },
  {
   "cell_type": "markdown",
   "metadata": {},
   "source": [
    "# 도입<br>Introduction\n",
    "\n"
   ]
  },
  {
   "cell_type": "markdown",
   "metadata": {},
   "source": [
    "##  왜 공학 문제 해결에 컴퓨터를 사용하려고 하는가?<br>Why do we want to use computers to solve engineering problems?\n",
    "\n"
   ]
  },
  {
   "cell_type": "markdown",
   "metadata": {},
   "source": [
    "* 많은 공학 문제는 종이와 연필로 해결할 수 있음.<br>We can solve many engineering problems with only a sheet of paper and a pencil.\n",
    "* 그러나 공학 문제는 때때로 복잡하여 많은 양의 계산을 필요로 함<br>However, occasionally engineering problems are complicated so that it requires a great deal of computation.\n",
    "* 오늘날의 (디지털) 컴퓨터는 대량의 계산을 64bit 또는 그 이상의 [정밀도](https://ko.wikipedia.org/wiki/%EB%B6%80%EB%8F%99%EC%86%8C%EC%88%98%EC%A0%90)로 처리할 수 있음<br>Modern (digital) computers can process relatively larger quantitiy of computations with [precisions](https://en.wikipedia.org/wiki/Floating-point_arithmetic) of 64bit or higher.\n",
    "\n"
   ]
  },
  {
   "cell_type": "markdown",
   "metadata": {},
   "source": [
    "## 파이썬 프로그래밍 언어 소개<br>Brief introduction to Python Programming Language\n",
    "\n"
   ]
  },
  {
   "cell_type": "markdown",
   "metadata": {},
   "source": [
    "* 여기서는 [**파이썬**](https://www.python.org/) 이라는 컴퓨터 프로그래밍 언어를 사용할 것임.<br>Here, we will use [**Python**](https://www.python.org/) programming language.\n",
    "* 파이썬은 [**귀도 반 로섬**](https://ko.wikipedia.org/wiki/%EA%B7%80%EB%8F%84_%EB%B0%98_%EB%A1%9C%EC%84%AC) 이라는 네덜란드 프로그래머가 1989년 만들었음.<br>[**Guido van Rossum**](https://en.wikipedia.org/wiki/Guido_van_Rossum), a Programmer of the Netherland created python in 1989.\n",
    "* [파이썬](https://ko.wikipedia.org/wiki/%ED%8C%8C%EC%9D%B4%EC%8D%AC)은 대화형 프로그래밍 언어로, 배우기 쉽고, 무료이며, 그 기능을 확장시켜 주는 **모듈**이라는 프로그램이 많이 갖추어져 있음.<br>[Python](https://en.wikipedia.org/wiki/Python_%28programming_language%29) is an interpreted high level language, easy to learn, free, and surrounded by many **modules** extending its functionalities.\n",
    "* 2010년대 후반, 파이썬은 과학기술 계산, 데이터 분석, 심층 신경망 전산 학습 등의 영역에서도 널리 사용되고 있음.<br>In late 2010s, python is widely used in areas such as, but not limited to, scientific computation, data analytics and deep neural network machine learning.\n",
    "\n"
   ]
  },
  {
   "cell_type": "markdown",
   "metadata": {},
   "source": [
    "## 아나콘다 배포판<br>Anaconda Distribution\n",
    "\n"
   ]
  },
  {
   "cell_type": "markdown",
   "metadata": {},
   "source": [
    "* 파이썬 언어로 프로그램을 개발하기 위해 필요한 소프트웨어는 여러 경로를 통해 배포되고 있음<br>We can obtain the software to develop programs in python through various distribution channels.\n",
    "* 그 가운데 여기서는 파이썬 3의 [아나콘다 배포판](https://www.anaconda.com/download/)을 추천함.<br>Among them, [Anaconda Distribution](https://www.anaconda.com/download/) with Python 3 is preferred here.\n",
    "* 해당 배포판은 과학기술계산용 *[사이파이 계열](http://www.hanbit.co.kr/store/books/look.php?p_code=B8736321868) 모듈* 을 포함하고 있으며, 확장 기능 관리에 `conda` 라는 *패키지 관리* 프로그램을 이용할 수 있음.<br>The distribution includes [*SciPy Stack*](https://www.scipy.org/index.html) for scientific computation and `conda` package management software.\n",
    "\n"
   ]
  },
  {
   "cell_type": "markdown",
   "metadata": {},
   "source": [
    "## `matplotlib` 그래프 소개<br>Introducing Plotting with `matplotlib`\n",
    "\n"
   ]
  },
  {
   "cell_type": "markdown",
   "metadata": {},
   "source": [
    "아래는 사이파이 계열 모듈 `matplotlib` 로 사인 그래프를 그리는 한 예를 보여 줌.<br>\n",
    "Following is an example plotting sine graph using `matplotlib` of SciPy stack.\n",
    "\n"
   ]
  },
  {
   "cell_type": "markdown",
   "metadata": {},
   "source": [
    "`pylab` 이라는 *모듈* (확장 기능) 을 불러들임<br>\n",
    "Import `pylab` module\n",
    "\n"
   ]
  },
  {
   "cell_type": "markdown",
   "metadata": {},
   "source": [
    "To run, press <kbd>Ctrl</kbd>+<kbd>Enter</kbd> or <kbd>Shift</kbd>+<kbd>Enter</kbd> or click on Play button on the left.<br>\n",
    "실행하려면 <kbd>Ctrl</kbd>+<kbd>Enter</kbd> 또는 <kbd>Shift</kbd>+<kbd>Enter</kbd> 을 누르거나 왼쪽의 Play 버튼 선택.\n",
    "\n"
   ]
  },
  {
   "cell_type": "code",
   "execution_count": null,
   "metadata": {},
   "outputs": [],
   "source": [
    "# Import NumPy and matplotlib of SciPy Stack\n",
    "import pylab as py\n",
    "\n"
   ]
  },
  {
   "cell_type": "markdown",
   "metadata": {},
   "source": [
    "이제 `py` 라는 이름으로 `pylab` 모듈의 벡터, 행렬 (실은 다차원 배열임) 관련 기능과 그래프 기능을 사용할 수 있음.<br>\n",
    "Now, using the name `py` we may call `pylab` functions related to vectors, matrices (in fact, multi dimensional arrays), and plots.\n"
   ]
  },
  {
   "cell_type": "code",
   "execution_count": null,
   "metadata": {},
   "outputs": [],
   "source": [
    "len(dir(py))\n",
    "\n"
   ]
  },
  {
   "cell_type": "markdown",
   "metadata": {},
   "source": [
    "`py` 라는 이름으로 사용할 수 있게 된 `pylab` 모듈에 *딸린 식구* (함수, 상수, ...) 의 수를 위와 같이 알 수 있음.<br>We may get the number of *members* (functions, constants, ...) of `pylab` module accessable under the name of `py`.\n",
    "\n"
   ]
  },
  {
   "cell_type": "markdown",
   "metadata": {},
   "source": [
    "예를 들어 다음과 같이 0도 부터 360도 까지 1도 간격으로 배열을 만들 수 있음<br>\n",
    "For example, we can make an array from 0 degree to 360 degree with 1 degree interval.\n"
   ]
  },
  {
   "cell_type": "code",
   "execution_count": null,
   "metadata": {},
   "outputs": [],
   "source": [
    "# 0, 1, 2, ..., 360\n",
    "theta_deg_array = py.arange(0, 360 + 0.5, 1)\n",
    "\n"
   ]
  },
  {
   "cell_type": "markdown",
   "metadata": {},
   "source": [
    "아래와 같이 방금 만든 `theta_deg_array` 배열의 내용을 살펴볼 수 있음.<br>\n",
    "Following cell shows the content of the `theta_deg_array` that we just created.\n",
    "\n"
   ]
  },
  {
   "cell_type": "markdown",
   "metadata": {},
   "source": [
    "(배열의 내용이 너무 길면 아래 셀 왼쪽 여백을 선택하고 알파벳 <kbd>o</kbd> 키를 누름.)<br>\n",
    "(If the content of the array is too long, select the left margin of the cell and press alphabet <kbd>o</kbd>)\n"
   ]
  },
  {
   "cell_type": "code",
   "execution_count": null,
   "metadata": {},
   "outputs": [],
   "source": [
    "theta_deg_array\n",
    "\n"
   ]
  },
  {
   "cell_type": "markdown",
   "metadata": {},
   "source": [
    "앞의 10개 값만 확인<br>\n",
    "Let's check first 10 values\n",
    "\n"
   ]
  },
  {
   "cell_type": "code",
   "execution_count": null,
   "metadata": {},
   "outputs": [],
   "source": [
    "theta_deg_array[:10]\n",
    "\n"
   ]
  },
  {
   "cell_type": "markdown",
   "metadata": {},
   "source": [
    "해당 배열에 포함된 숫자의 수를 알고 싶으면 다음과 같이 가능<br>\n",
    "We can check the number of elements in the array as follows.\n",
    "\n"
   ]
  },
  {
   "cell_type": "code",
   "execution_count": null,
   "metadata": {},
   "outputs": [],
   "source": [
    "len(theta_deg_array)\n",
    "\n"
   ]
  },
  {
   "cell_type": "code",
   "execution_count": null,
   "metadata": {},
   "outputs": [],
   "source": [
    "theta_deg_array.shape\n",
    "\n"
   ]
  },
  {
   "cell_type": "markdown",
   "metadata": {},
   "source": [
    "사인 함수 값을 계산하려면 각도의 단위를 radian 으로 변환해야 함<br>\n",
    "To calculate sine function, we need angles in radian.\n",
    "\n"
   ]
  },
  {
   "cell_type": "markdown",
   "metadata": {},
   "source": [
    "`pylab` 의 `deg2rad` 를 사용<br>\n",
    "Let's use `deg2rad` of `pylab`\n",
    "\n"
   ]
  },
  {
   "cell_type": "code",
   "execution_count": null,
   "metadata": {},
   "outputs": [],
   "source": [
    "theta_rad_array = py.deg2rad(theta_deg_array)\n",
    "\n"
   ]
  },
  {
   "cell_type": "markdown",
   "metadata": {},
   "source": [
    "앞의 10개 값만 확인<br>\n",
    "Let's check first 10 values\n",
    "\n"
   ]
  },
  {
   "cell_type": "code",
   "execution_count": null,
   "metadata": {},
   "outputs": [],
   "source": [
    "theta_rad_array[:10]\n",
    "\n"
   ]
  },
  {
   "cell_type": "markdown",
   "metadata": {},
   "source": [
    "변환후 크기 확인<br>\n",
    "Check size after conversion\n",
    "\n"
   ]
  },
  {
   "cell_type": "code",
   "execution_count": null,
   "metadata": {},
   "outputs": [],
   "source": [
    "len(theta_rad_array)\n",
    "\n"
   ]
  },
  {
   "cell_type": "code",
   "execution_count": null,
   "metadata": {},
   "outputs": [],
   "source": [
    "theta_rad_array.shape\n",
    "\n"
   ]
  },
  {
   "cell_type": "markdown",
   "metadata": {},
   "source": [
    "위 배열의 각각의 각도에 대해 사인 함수값을 계산<br>\n",
    "Sine value of each angle\n",
    "\n"
   ]
  },
  {
   "cell_type": "code",
   "execution_count": null,
   "metadata": {},
   "outputs": [],
   "source": [
    "sin_theta_array = py.sin(theta_rad_array)\n",
    "\n"
   ]
  },
  {
   "cell_type": "markdown",
   "metadata": {},
   "source": [
    "가로축은 각도, 세로축은 사인 값인 그래프<br>\n",
    "Let's plot using angle and sine as horizontal and vertical axis respectively.\n",
    "\n"
   ]
  },
  {
   "cell_type": "code",
   "execution_count": null,
   "metadata": {},
   "outputs": [],
   "source": [
    "py.plot(theta_deg_array, sin_theta_array, label=r'$sin\\theta$');\n",
    "\n"
   ]
  },
  {
   "cell_type": "markdown",
   "metadata": {},
   "source": [
    "모눈 추가<br>\n",
    "Add a grid\n",
    "\n"
   ]
  },
  {
   "cell_type": "code",
   "execution_count": null,
   "metadata": {},
   "outputs": [],
   "source": [
    "# Plot sine graph\n",
    "py.plot(theta_deg_array, sin_theta_array, label=r'$sin\\theta$')\n",
    "\n",
    "# Add grid\n",
    "py.grid(True)\n",
    "\n"
   ]
  },
  {
   "cell_type": "markdown",
   "metadata": {},
   "source": [
    "$x$, $y$ 축 제목<br>\n",
    "$x$, $y$ axis labels\n",
    "\n"
   ]
  },
  {
   "cell_type": "code",
   "execution_count": null,
   "metadata": {
    "scrolled": true
   },
   "outputs": [],
   "source": [
    "# Plot sine graph\n",
    "py.plot(theta_deg_array, sin_theta_array, label=r'$sin\\theta$')\n",
    "\n",
    "# Add grid\n",
    "py.grid(True)\n",
    "\n",
    "# Add axis labels\n",
    "py.xlabel(r'$\\theta(degree)$')\n",
    "py.ylabel(r'sin$\\theta$')\n",
    "\n"
   ]
  },
  {
   "cell_type": "markdown",
   "metadata": {},
   "source": [
    "범례<br>\n",
    "Legend\n",
    "\n"
   ]
  },
  {
   "cell_type": "code",
   "execution_count": null,
   "metadata": {
    "scrolled": true
   },
   "outputs": [],
   "source": [
    "# Plot sine graph\n",
    "py.plot(theta_deg_array, sin_theta_array, label=r'$sin\\theta$')\n",
    "\n",
    "# Add grid\n",
    "py.grid(True)\n",
    "\n",
    "# Add axis labels\n",
    "py.xlabel(r'$\\theta(degree)$')\n",
    "py.ylabel(r'sin$\\theta$')\n",
    "\n",
    "# Add legend table at an optimal location\n",
    "py.legend(loc=0)\n",
    "\n",
    "# Present plot\n",
    "py.show()\n",
    "\n"
   ]
  },
  {
   "cell_type": "markdown",
   "metadata": {},
   "source": [
    "도전 과제 1: `theta_deg_array` 배열의 간격을 지금의 10배로 바꾸어 보시오.<br>\n",
    "Try this 1: Set `theta_deg_array` array interval to 10 times of the current value.\n",
    "\n"
   ]
  },
  {
   "cell_type": "markdown",
   "metadata": {},
   "source": [
    "힌트 : `help(py.arange)`<br>Hint: `help(py.arange)`\n",
    "\n"
   ]
  },
  {
   "cell_type": "markdown",
   "metadata": {},
   "source": [
    "도전 과제 2: `theta_deg_array` 배열의 최대값을 지금의 2배로 바꾸어 보시오.<br>\n",
    "Try this 2: Set the maximum value of `theta_deg_array` array to twice of the current value.\n",
    "\n"
   ]
  },
  {
   "cell_type": "markdown",
   "metadata": {},
   "source": [
    "힌트 : `help(py.arange)`<br>Hint: `help(py.arange)`\n",
    "\n"
   ]
  },
  {
   "cell_type": "markdown",
   "metadata": {},
   "source": [
    "도전 과제 3: `theta_deg_array` 배열의 최소값을 지금보다 10도 더 적은 값으로 바꾸어 보시오.<br>\n",
    "Try this 3: Decrease the minimum value of `theta_deg_array` array by 10 degrees.\n",
    "\n"
   ]
  },
  {
   "cell_type": "markdown",
   "metadata": {},
   "source": [
    "힌트 : `help(py.arange)`<br>Hint: `help(py.arange)`\n",
    "\n"
   ]
  },
  {
   "cell_type": "markdown",
   "metadata": {},
   "source": [
    "도전 과제 4: 그래프의 선을 점선으로 바꾸어 보시오.<br>\n",
    "Try this 4: Change the style of the plot to a dotted line.\n",
    "\n"
   ]
  },
  {
   "cell_type": "markdown",
   "metadata": {},
   "source": [
    "힌트 : `help(py.plot)`<br>Hint: `help(py.plot)`\n",
    "\n"
   ]
  },
  {
   "cell_type": "markdown",
   "metadata": {},
   "source": [
    "도전 과제 5: $x$ 축 모눈 눈금을 45도 간격으로 설정 해 보시오.<br>\n",
    "Try this 5: Set $x$ axis grid interval to 45 degrees.\n",
    "\n"
   ]
  },
  {
   "cell_type": "markdown",
   "metadata": {},
   "source": [
    "힌트 : `help(py.xticks)`<br>Hint: `help(py.xticks)`\n",
    "\n"
   ]
  },
  {
   "cell_type": "markdown",
   "metadata": {},
   "source": [
    "도전 과제 6: $cos\\theta^\\circ$ 그래프를 그려 보시오.<br>\n",
    "Try this 6: Plot a $cos\\theta^\\circ$ graph.\n",
    "\n"
   ]
  },
  {
   "cell_type": "markdown",
   "metadata": {},
   "source": [
    "힌트 : `help(py.cos)`<br>Hint: `help(py.cos)`\n",
    "\n"
   ]
  },
  {
   "cell_type": "markdown",
   "metadata": {},
   "source": [
    "도전 과제 7: $(x-1)\\times(x-2)$ 그래프를 $0 \\le x \\le 4$ 범위에서 그려 보시오.<br>\n",
    "Try this 7: Plot $(x-1)\\times(x-2)$ over $0 \\le x \\le 4$ interval.\n",
    "\n"
   ]
  },
  {
   "cell_type": "code",
   "execution_count": null,
   "metadata": {},
   "outputs": [],
   "source": []
  }
 ],
 "metadata": {
  "kernelspec": {
   "display_name": "Python 3",
   "language": "python",
   "name": "python3"
  },
  "language_info": {
   "codemirror_mode": {
    "name": "ipython",
    "version": 3
   },
   "file_extension": ".py",
   "mimetype": "text/x-python",
   "name": "python",
   "nbconvert_exporter": "python",
   "pygments_lexer": "ipython3",
   "version": "3.8.8"
  }
 },
 "nbformat": 4,
 "nbformat_minor": 1
}