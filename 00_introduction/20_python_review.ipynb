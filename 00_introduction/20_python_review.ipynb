{
  "cells": [
    {
      "cell_type": "markdown",
      "metadata": {
        "id": "view-in-github",
        "colab_type": "text"
      },
      "source": [
        "<a href=\"https://colab.research.google.com/github/kangwonlee/nmisp/blob/main/00_introduction/20_python_review.ipynb\" target=\"_parent\"><img src=\"https://colab.research.google.com/assets/colab-badge.svg\" alt=\"Open In Colab\"/></a>"
      ]
    },
    {
      "cell_type": "markdown",
      "metadata": {
        "id": "3b9eykXeXzTh"
      },
      "source": [
        "# 파이썬 프로그래밍 언어<br>Python Programming Language\n",
        "\n"
      ]
    },
    {
      "cell_type": "markdown",
      "metadata": {
        "id": "kxfb_j32XzTj"
      },
      "source": [
        "## `print(\"abc\")`\n",
        "\n"
      ]
    },
    {
      "cell_type": "markdown",
      "metadata": {
        "id": "hVe0B755XzTk"
      },
      "source": [
        "* To print something on the screen, call function `print()`<br>`print()` 함수를 호출하여 화면에 표시\n",
        "* Arguments of the functions are between `(` and `)`<br>`(` 와 `)`의 사이는 함수의 매개변수\n",
        "* Arguments influence how the function behaves<br>매개변수는 함수의 거동에 영향을 미침\n",
        "* Recall function $f(x)=x^2$ of the math<br>수학의 함수 $f(x)=x^2$ 와 비슷\n",
        "\n"
      ]
    },
    {
      "cell_type": "code",
      "execution_count": null,
      "metadata": {
        "id": "LW7KEzntXzTk"
      },
      "outputs": [],
      "source": [
        "print(\"string literal\")\n",
        "\n"
      ]
    },
    {
      "cell_type": "code",
      "execution_count": null,
      "metadata": {
        "id": "wqxifr_SXzTl"
      },
      "outputs": [],
      "source": [
        "print(\"문자열 상수\")\n",
        "\n"
      ]
    },
    {
      "cell_type": "code",
      "execution_count": null,
      "metadata": {
        "id": "GmQh40QAXzTl"
      },
      "outputs": [],
      "source": [
        "print(1 + 2)\n",
        "\n"
      ]
    },
    {
      "cell_type": "markdown",
      "metadata": {
        "id": "85t3euywXzTl"
      },
      "source": [
        "What operation does `/` do ?<br>`/`연산자는 어떤 연산을 수행하는가?<br>What are the differences between `/` and `//` ?<br>`/` 와 `//` 연산자의 차이점은?\n"
      ]
    },
    {
      "cell_type": "code",
      "execution_count": null,
      "metadata": {
        "id": "djMjGr7MXzTm"
      },
      "outputs": [],
      "source": [
        "print(\"60 divide by 2 equals\", 60 / 2)\n",
        "60 // 2 # last result of this cell 이 셀의 마지막 결과\n",
        "# Comment 주석문\n",
        "# <- phrases after this symbol are for readers; python would ignore\n",
        "# <- 이 기호 뒤는 읽는 사람을 위한 것으로 파이썬은 무시\n",
        "\n"
      ]
    },
    {
      "cell_type": "code",
      "execution_count": null,
      "metadata": {
        "id": "nhWqyQVuXzTm"
      },
      "outputs": [],
      "source": [
        "print(48/2, 48//2)\n",
        "\n"
      ]
    },
    {
      "cell_type": "code",
      "execution_count": null,
      "metadata": {
        "id": "nTQ38MVsXzTm"
      },
      "outputs": [],
      "source": [
        "print(45//2, 45/2)\n",
        "\n"
      ]
    },
    {
      "cell_type": "code",
      "source": [],
      "metadata": {
        "id": "sHvjrtCSXzTm"
      },
      "execution_count": null,
      "outputs": []
    },
    {
      "cell_type": "code",
      "execution_count": null,
      "metadata": {
        "id": "e9rBDl_WXzTm"
      },
      "outputs": [],
      "source": [
        "print(33//4, 33/4)\n",
        "\n"
      ]
    },
    {
      "cell_type": "code",
      "execution_count": null,
      "metadata": {
        "id": "zslQMjLAXzTn"
      },
      "outputs": [],
      "source": [
        "print(10/3)\n",
        "# How many digits below decimal points?\n",
        "# 소숫점 아래 몇자리 까지?\n",
        "print(\"##123456789012345678901234567890\")\n",
        "\n"
      ]
    },
    {
      "cell_type": "code",
      "execution_count": null,
      "metadata": {
        "id": "bgcND6z6XzTn"
      },
      "outputs": [],
      "source": [
        "10//3\n",
        "\n"
      ]
    },
    {
      "cell_type": "markdown",
      "metadata": {
        "id": "ZqM4TfV5XzTn"
      },
      "source": [
        "What about `%` or `**` ?<br>`%` 나 `**` 는 어떠한가?\n",
        "\n"
      ]
    },
    {
      "cell_type": "code",
      "execution_count": null,
      "metadata": {
        "id": "jY10QJAGXzTn"
      },
      "outputs": [],
      "source": [
        "10 % 3, 11 % 3, 12 % 3\n",
        "\n"
      ]
    },
    {
      "cell_type": "code",
      "execution_count": null,
      "metadata": {
        "id": "AyLE-oqzXzTn"
      },
      "outputs": [],
      "source": [
        "10 % 4, 10 % 5, 10 % 6\n",
        "\n"
      ]
    },
    {
      "cell_type": "code",
      "execution_count": null,
      "metadata": {
        "id": "-x6HEW0PXzTo"
      },
      "outputs": [],
      "source": [
        "(10 // 3) * 3\n",
        "\n"
      ]
    },
    {
      "cell_type": "code",
      "execution_count": null,
      "metadata": {
        "id": "hl224qJHXzTo"
      },
      "outputs": [],
      "source": [
        "(10 // 3) * 3 + (10 % 3)\n",
        "\n"
      ]
    },
    {
      "cell_type": "code",
      "execution_count": null,
      "metadata": {
        "id": "5wqiyB6cXzTo"
      },
      "outputs": [],
      "source": [
        "10 // 3.6, 10 % 3.6\n",
        "\n"
      ]
    },
    {
      "cell_type": "code",
      "execution_count": null,
      "metadata": {
        "id": "SGB9XeCpXzTo"
      },
      "outputs": [],
      "source": [
        "2 ** 5 # Can you see the result of this operation? 이 연산의 결과를 볼 수 있는가?\n",
        "print(\"2 ** 6 =\", 2 ** 6)\n",
        "print(\"3 ** 3 =\", 3 ** 3)\n",
        "\n"
      ]
    },
    {
      "cell_type": "markdown",
      "metadata": {
        "id": "uqpsEUFiXzTo"
      },
      "source": [
        "Numeric literals with `_` for readability<br>가독성을 위해 숫자 상수 표시에 `_` 사용\n",
        "\n"
      ]
    },
    {
      "cell_type": "code",
      "execution_count": null,
      "metadata": {
        "id": "_wxurnTbXzTo"
      },
      "outputs": [],
      "source": [
        "10_000_000 * 2\n",
        "\n"
      ]
    },
    {
      "cell_type": "code",
      "execution_count": null,
      "metadata": {
        "id": "eWs4a7r-XzTp"
      },
      "outputs": [],
      "source": [
        "0.000_010 * 2\n",
        "\n"
      ]
    },
    {
      "cell_type": "markdown",
      "metadata": {
        "id": "Z42KZm0bXzTp"
      },
      "source": [
        "## 변수<br>Variables\n",
        "\n"
      ]
    },
    {
      "cell_type": "code",
      "execution_count": null,
      "metadata": {
        "id": "hz9EopUBXzTp"
      },
      "outputs": [],
      "source": [
        "_17\n"
      ]
    },
    {
      "cell_type": "markdown",
      "metadata": {
        "id": "xLqPwqRRXzTp"
      },
      "source": [
        "### Integers<br>정수\n",
        "\n"
      ]
    },
    {
      "cell_type": "code",
      "execution_count": null,
      "metadata": {
        "id": "QEeOPqj5XzTp"
      },
      "outputs": [],
      "source": [
        "a = 1\n",
        "\n"
      ]
    },
    {
      "cell_type": "markdown",
      "metadata": {
        "id": "wop-rLZFXzTp"
      },
      "source": [
        "여기서 `=` 을 *할당 연산자* 라고 한다.<br>Here, we call `=` an *assignment operator*.\n"
      ]
    },
    {
      "cell_type": "markdown",
      "metadata": {
        "id": "eRjqZiDMXzTp"
      },
      "source": [
        "The phrase `a = 1` directs python to prepare a storage, store an integer 1, and label the storage as `a`.<br>\n",
        "위 문장 `a = 1`의 의미는<br>파이썬에게 구두상자를 하나 준비해서 그 안에 정수 1을 넣고<br>구두상자에 `a`라는 이름표를 붙이라는 뜻<br>\n",
        "Now we have variable `a` containing integer `1`.<br>\n",
        "이렇게 해서 정수 `1`을 담은 변수 `a`가 생성\n"
      ]
    },
    {
      "cell_type": "markdown",
      "metadata": {
        "id": "Sr50qzXzXzTq"
      },
      "source": [
        "We can inspect the content of the variable `a` as follows.<br>\n",
        "변수 `a`의 내용을 살펴 보고 싶으면 아래와 같이 가능\n"
      ]
    },
    {
      "cell_type": "code",
      "execution_count": null,
      "metadata": {
        "id": "_NR5zSmEXzTq"
      },
      "outputs": [],
      "source": [
        "a\n",
        "\n"
      ]
    },
    {
      "cell_type": "code",
      "execution_count": null,
      "metadata": {
        "id": "emVUxA-NXzTq"
      },
      "outputs": [],
      "source": [
        "print(\"a 안에 들어 있는 것은\", a)\n",
        "\n"
      ]
    },
    {
      "cell_type": "markdown",
      "metadata": {
        "id": "uPTAFqr1XzTq"
      },
      "source": [
        "We can also make another variable `b` as follows.<br>또 다른 변수 `b`를 다음과 같이 생성할 수 있음\n"
      ]
    },
    {
      "cell_type": "code",
      "execution_count": null,
      "metadata": {
        "id": "7rTvTHu0XzTq"
      },
      "outputs": [],
      "source": [
        "b = 2\n",
        "\n"
      ]
    },
    {
      "cell_type": "code",
      "execution_count": null,
      "metadata": {
        "id": "Bl2AYPC_XzTr"
      },
      "outputs": [],
      "source": [
        "b\n",
        "\n"
      ]
    },
    {
      "cell_type": "markdown",
      "metadata": {
        "id": "HspnHG3BXzTr"
      },
      "source": [
        "We can add two variables, too.<br>\n",
        "이렇게 만든 두 변수의 값으로 연산도 할 수 있음\n"
      ]
    },
    {
      "cell_type": "code",
      "execution_count": null,
      "metadata": {
        "id": "2NURZD6JXzTr"
      },
      "outputs": [],
      "source": [
        "a + b\n",
        "\n"
      ]
    },
    {
      "cell_type": "markdown",
      "metadata": {
        "id": "TohblWewXzTr"
      },
      "source": [
        "### Strings<br>문자열\n",
        "\n"
      ]
    },
    {
      "cell_type": "code",
      "execution_count": null,
      "metadata": {
        "id": "lrIwgQ2dXzTs"
      },
      "outputs": [],
      "source": [
        "c = '11'\n",
        "print(\"c =\", c)\n",
        "d = \"22\"\n",
        "print(\"d =\", d)\n",
        "\n"
      ]
    },
    {
      "cell_type": "markdown",
      "metadata": {
        "id": "7vRJYfYVXzTs"
      },
      "source": [
        "What is the result of the following cell?<br>\n",
        "아래 행의 결과는?\n",
        "\n"
      ]
    },
    {
      "cell_type": "code",
      "execution_count": null,
      "metadata": {
        "id": "vvw56QByXzTs"
      },
      "outputs": [],
      "source": [
        "print(\"c + d =\", c+d)\n",
        "\n"
      ]
    },
    {
      "cell_type": "code",
      "execution_count": null,
      "metadata": {
        "id": "V3xyNKcXXzTt"
      },
      "outputs": [],
      "source": [
        "cc = 'abc'\n",
        "dd = '가나다'\n",
        "print(cc + dd)\n",
        "\n"
      ]
    },
    {
      "cell_type": "markdown",
      "metadata": {
        "id": "Tu8qRU8qXzTt"
      },
      "source": [
        "In Python, the results of integer `+` integer and string `+` string would be different.<br>파이썬에서는 + 연산의 대상이 정수 정수인지 아니면 문자열 문자열인지에 따라 결과가 달라짐.\n"
      ]
    },
    {
      "cell_type": "code",
      "execution_count": null,
      "metadata": {
        "id": "J5vuKPZeXzTt"
      },
      "outputs": [],
      "source": [
        "aaa = 123\n",
        "bbb = 4\n",
        "aaa * bbb\n",
        "\n"
      ]
    },
    {
      "cell_type": "code",
      "execution_count": null,
      "metadata": {
        "id": "RRX23640XzTu"
      },
      "outputs": [],
      "source": [
        "ccc = \"123\"\n",
        "ddd = 4\n",
        "ccc * ddd\n",
        "\n"
      ]
    },
    {
      "cell_type": "markdown",
      "metadata": {
        "id": "Ru-tyJCTXzTu"
      },
      "source": [
        "We can use `repr()` to check whether a variable contains a string or an integer<br>\n",
        "`repr()` 로 어떤 변수가 문자열을 담고 있는지 아니면 정수를 담고 있는지 알 수 있음.\n",
        "\n"
      ]
    },
    {
      "cell_type": "code",
      "execution_count": null,
      "metadata": {
        "id": "wKbP3TTgXzTu"
      },
      "outputs": [],
      "source": [
        "cc = \"11\"\n",
        "print(\"cc =\", str(cc))\n",
        "print(\"cc =\", repr(cc))\n",
        "\n",
        "dd = 22\n",
        "print(\"dd =\", str(dd))\n",
        "print(\"dd =\", repr(dd))\n",
        "\n"
      ]
    },
    {
      "cell_type": "markdown",
      "metadata": {
        "id": "LyUY3B2dXzTu"
      },
      "source": [
        "### Complex numbers<br>복소수\n",
        "\n"
      ]
    },
    {
      "cell_type": "code",
      "execution_count": null,
      "metadata": {
        "id": "hv9_RUHpXzTu"
      },
      "outputs": [],
      "source": [
        "a = (-1) ** (0.5)\n",
        "a\n",
        "\n"
      ]
    },
    {
      "cell_type": "markdown",
      "metadata": {
        "id": "gvuX_JS0XzTu"
      },
      "source": [
        "Real part 실수부\n",
        "\n"
      ]
    },
    {
      "cell_type": "code",
      "execution_count": null,
      "metadata": {
        "id": "uDrK9c0UXzTv"
      },
      "outputs": [],
      "source": [
        "a.real\n",
        "\n"
      ]
    },
    {
      "cell_type": "markdown",
      "metadata": {
        "id": "NmlN-8-aXzTv"
      },
      "source": [
        "Imaginary part 허수부\n",
        "\n"
      ]
    },
    {
      "cell_type": "code",
      "execution_count": null,
      "metadata": {
        "id": "61tr1vSfXzTv"
      },
      "outputs": [],
      "source": [
        "a.imag\n",
        "\n"
      ]
    },
    {
      "cell_type": "code",
      "execution_count": null,
      "metadata": {
        "id": "-_bc8QrAXzTv"
      },
      "outputs": [],
      "source": [
        "a = 2 + 3j\n",
        "b = 3\n",
        "c = a * b\n",
        "c\n",
        "\n"
      ]
    },
    {
      "cell_type": "code",
      "execution_count": null,
      "metadata": {
        "id": "CLBLzealXzTv"
      },
      "outputs": [],
      "source": [
        "# c의 실수부\n",
        "c.real\n",
        "\n"
      ]
    },
    {
      "cell_type": "code",
      "execution_count": null,
      "metadata": {
        "id": "GYlodoJRXzTv"
      },
      "outputs": [],
      "source": [
        "# c의 허수부\n",
        "c.imag\n",
        "\n"
      ]
    },
    {
      "cell_type": "markdown",
      "metadata": {
        "id": "v3NHCZXWXzTv"
      },
      "source": [
        "conjugate complex number 켤레복소수\n",
        "\n"
      ]
    },
    {
      "cell_type": "code",
      "execution_count": null,
      "metadata": {
        "id": "v2KzJ4OTXzTv"
      },
      "outputs": [],
      "source": [
        "a = 5 + 2j\n",
        "b = 5 - 2j\n",
        "a * b\n",
        "\n"
      ]
    },
    {
      "cell_type": "markdown",
      "metadata": {
        "id": "mZ-ln3DMXzTv"
      },
      "source": [
        "## 문자열 내삽<br>String interpolation\n",
        "\n"
      ]
    },
    {
      "cell_type": "markdown",
      "source": [
        "Sometimes it is necessary to indicate information in a specific format.<br>때로 정보를 특정 형식에 맞추어 표시할 필요가 있다.\n",
        "\n"
      ],
      "metadata": {
        "id": "4onKQfdBshlH"
      }
    },
    {
      "cell_type": "code",
      "source": [
        "print(\"result =\", 10/3, \"mm\")\n",
        "\n"
      ],
      "metadata": {
        "id": "hW62JKHns3cg"
      },
      "execution_count": null,
      "outputs": []
    },
    {
      "cell_type": "code",
      "source": [
        "print(f\"result = {10/3:.4f} mm\")\n",
        "\n"
      ],
      "metadata": {
        "id": "2WKE_sAStHwe"
      },
      "execution_count": null,
      "outputs": []
    },
    {
      "cell_type": "markdown",
      "metadata": {
        "id": "fTDQOuwyXzTw"
      },
      "source": [
        "### `%`\n",
        "\n"
      ]
    },
    {
      "cell_type": "code",
      "execution_count": null,
      "metadata": {
        "id": "l98qYa1aXzTw"
      },
      "outputs": [],
      "source": [
        "a = 1\n",
        "b = 2\n",
        "# 여기서 % 연산자의 역할은?\n",
        "print(\"%d + %d = %d\" % (a, b, a+b))\n",
        "\n"
      ]
    },
    {
      "cell_type": "code",
      "execution_count": null,
      "metadata": {
        "id": "RElO_Y-WXzTw"
      },
      "outputs": [],
      "source": [
        "\"%d + %d = %d\" % (a, b, a+b)\n",
        "\n"
      ]
    },
    {
      "cell_type": "markdown",
      "metadata": {
        "id": "93GzyNlBXzTw"
      },
      "source": [
        "What if `%` is missing?<br>`%`이 없다면?\n",
        "\n"
      ]
    },
    {
      "cell_type": "code",
      "execution_count": null,
      "metadata": {
        "id": "mgotMnFwXzTw"
      },
      "outputs": [],
      "source": [
        "a = 1\n",
        "b = 2\n",
        "print(\"%d + %d = %d\" , (a, b, a+b))\n",
        "\n"
      ]
    },
    {
      "cell_type": "markdown",
      "metadata": {
        "id": "JMHQ_bTnXzTw"
      },
      "source": [
        "C code example<br>\n",
        "C code 예제\n",
        "\n"
      ]
    },
    {
      "cell_type": "code",
      "execution_count": null,
      "metadata": {
        "id": "lDn3tREbXzTw"
      },
      "outputs": [],
      "source": [
        "%%writefile hello.c\n",
        "#include <stdio.h>\n",
        "\n",
        "void main()\n",
        "{\n",
        "\tint a = 1;\n",
        "\tconst int b = 2;\n",
        "\tprintf(\"%d + %d = %d\\n\", a, b, a+b);\n",
        "}\n",
        "\n"
      ]
    },
    {
      "cell_type": "code",
      "execution_count": null,
      "metadata": {
        "id": "9HfJg05fXzTw"
      },
      "outputs": [],
      "source": [
        "!hexdump -C hello.c\n"
      ]
    },
    {
      "cell_type": "markdown",
      "metadata": {
        "id": "YvB0YPPTXzTw"
      },
      "source": [
        "Complile : generate the machine code in binary numbers<br>\n",
        " 컴파일 : 이진수로 된 기계어 코드 생성\n",
        "\n"
      ]
    },
    {
      "cell_type": "code",
      "execution_count": null,
      "metadata": {
        "id": "eDSyfHFlXzTw"
      },
      "outputs": [],
      "source": [
        "!gcc hello.c\n",
        "\n"
      ]
    },
    {
      "cell_type": "markdown",
      "metadata": {
        "id": "rVibbK43XzTx"
      },
      "source": [
        "Running the binary code<br>이진 코드 실행\n",
        "\n"
      ]
    },
    {
      "cell_type": "code",
      "execution_count": null,
      "metadata": {
        "id": "tJ0L2CuNXzTx"
      },
      "outputs": [],
      "source": [
        "!./a.out\n",
        "\n"
      ]
    },
    {
      "cell_type": "code",
      "execution_count": null,
      "metadata": {
        "id": "bWNFj8llXzTx"
      },
      "outputs": [],
      "source": [
        "!hexdump -C a.out\n"
      ]
    },
    {
      "cell_type": "markdown",
      "metadata": {
        "id": "8rFCLkQiXzTx"
      },
      "source": [
        "Conversion specifiers<br>\n",
        "출력 형식\n",
        "\n"
      ]
    },
    {
      "cell_type": "code",
      "execution_count": null,
      "metadata": {
        "id": "Pda-bEJLXzTx"
      },
      "outputs": [],
      "source": [
        "a = 1\n",
        "b = 2\n",
        "print(\"%s + %s = %s\" % (a, b, a+b))\n"
      ]
    },
    {
      "cell_type": "code",
      "execution_count": null,
      "metadata": {
        "id": "CAYDUuUgXzTx"
      },
      "outputs": [],
      "source": [
        "a = 1.0\n",
        "b = 2\n",
        "print(\"%s + %s = %s\" % (a, b, a+b))\n"
      ]
    },
    {
      "cell_type": "code",
      "execution_count": null,
      "metadata": {
        "id": "E1NPpZYcXzTx"
      },
      "outputs": [],
      "source": [
        "a = 1.0\n",
        "b = 2\n",
        "print(\"%d + %d = %d\" % (a, b, a+b))\n"
      ]
    },
    {
      "cell_type": "code",
      "execution_count": null,
      "metadata": {
        "id": "LMG7be6AXzTx"
      },
      "outputs": [],
      "source": [
        "a = 1.0\n",
        "b = 2\n",
        "print(\"%f + %f = %f\" % (a, b, a+b))\n"
      ]
    },
    {
      "cell_type": "markdown",
      "source": [
        "In the example below, what do you think about the roles of numbers between `%` and `f`?<br>\n",
        "아래 예에서 `%` 와 `f` 사이의 숫자들의 역할에 대해 어떻게 생각하는가?\n",
        "\n"
      ],
      "metadata": {
        "id": "WhVALBEiuA8G"
      }
    },
    {
      "cell_type": "code",
      "source": [
        "a = 1.0\n",
        "b = 2\n",
        "print(\"%6f + %8.4f = %010.4f\" % (a, b, a+b))\n",
        "# text column ruler\n",
        "# 문자 위치 자\n",
        "print(\"1234567890\"*4)\n",
        "\n"
      ],
      "metadata": {
        "id": "l8btp0YItzha"
      },
      "execution_count": null,
      "outputs": []
    },
    {
      "cell_type": "code",
      "execution_count": null,
      "metadata": {
        "id": "4iq2btgwXzTx"
      },
      "outputs": [],
      "source": [
        "a = 1.0\n",
        "b = 23456000000000000000\n",
        "print(\"%e + %e = %e\" % (a, b, a+b))\n"
      ]
    },
    {
      "cell_type": "code",
      "execution_count": null,
      "metadata": {
        "id": "4eQziCIPXzTy"
      },
      "outputs": [],
      "source": [
        "a = -5.0\n",
        "b = 23456000000000000000\n",
        "print(\"%+g * %+g = %+g\" % (a, b, a*b))\n"
      ]
    },
    {
      "cell_type": "code",
      "execution_count": null,
      "metadata": {
        "id": "74ef9DjFXzTy"
      },
      "outputs": [],
      "source": [
        "a = 1.0\n",
        "b = 2\n",
        "c = a * b\n",
        "print(\"%s * %s = %s\" % (a, b, c))\n",
        "\n"
      ]
    },
    {
      "cell_type": "code",
      "execution_count": null,
      "metadata": {
        "id": "RuVnDBidXzTy"
      },
      "outputs": [],
      "source": [
        "aa = \"real 1.0\"\n",
        "bb = 3\n",
        "cc = aa * bb\n",
        "print(\"%s * %s = %s\" % (aa, bb, cc))\n",
        "\n"
      ]
    },
    {
      "cell_type": "markdown",
      "metadata": {
        "id": "Da7Ow-vqXzTy"
      },
      "source": [
        "`%r`\n"
      ]
    },
    {
      "cell_type": "code",
      "execution_count": null,
      "metadata": {
        "id": "3nWEEvsaXzTy"
      },
      "outputs": [],
      "source": [
        "aa = \"real 1.0\"\n",
        "bb = 3\n",
        "cc = aa * bb\n",
        "print(\"%r * %r = %r\" % (aa, bb, cc))\n",
        "\n"
      ]
    },
    {
      "cell_type": "code",
      "execution_count": null,
      "metadata": {
        "id": "BW9wWFJzXzTy"
      },
      "outputs": [],
      "source": [
        "aa = \"real 1.0\"\n",
        "bb = 3\n",
        "cc = aa * bb\n",
        "# 아래는 Try Except Block\n",
        "# \"예외 처리\"를 위함\n",
        "try:\n",
        "  # Error!\n",
        "  print(\"%f * %f = %f\" % (aa, bb, cc))\n",
        "except TypeError as e:\n",
        "  print(e)\n",
        "# Try Exception Block 끝\n"
      ]
    },
    {
      "cell_type": "markdown",
      "metadata": {
        "id": "WcOUcXvKXzTy"
      },
      "source": [
        "### `.format()`\n",
        "\n"
      ]
    },
    {
      "cell_type": "code",
      "execution_count": null,
      "metadata": {
        "id": "oHJBxd4oXzTy"
      },
      "outputs": [],
      "source": [
        "print(\"{} + {} = {}\".format(a, b, a+b))\n",
        "\n"
      ]
    },
    {
      "cell_type": "markdown",
      "metadata": {
        "id": "ltN-RIKmXzTy"
      },
      "source": [
        "### f-string\n",
        "\n"
      ]
    },
    {
      "cell_type": "markdown",
      "source": [
        "Since python 3.6, f-string is available. (Possibly the most popular)<br>\n",
        "python 3.6 이후 f 문자열을 사용할 수 있다. (아마도 가장 널리 사용)"
      ],
      "metadata": {
        "id": "5jMddz5evLc8"
      }
    },
    {
      "cell_type": "markdown",
      "source": [
        "Unlike the other methods above, f-string enables co-locating the values and their respective locations within the string itself.<br>이전의 방식들과는 달리, f-문자열은 문자열 안에서 값과 위치를 일치시킬 수 있다."
      ],
      "metadata": {
        "id": "z_iMYeQ6vn4X"
      }
    },
    {
      "cell_type": "code",
      "execution_count": null,
      "metadata": {
        "id": "QUeIXLklXzTy"
      },
      "outputs": [],
      "source": [
        "print(f\"{a} + {b} = {a+b}\")\n",
        "\n"
      ]
    },
    {
      "cell_type": "code",
      "source": [
        "print(f\"{a:f} + {b:16e} = {(a+b):010.2e}\")\n",
        "\n"
      ],
      "metadata": {
        "id": "27bCU2_exM40"
      },
      "execution_count": null,
      "outputs": []
    },
    {
      "cell_type": "markdown",
      "metadata": {
        "id": "z3arqCprXzTy"
      },
      "source": [
        "## 함수<br>Functions\n",
        "\n"
      ]
    },
    {
      "cell_type": "markdown",
      "metadata": {
        "id": "MB3v69jvXzTy"
      },
      "source": [
        "자주 반복되는 코드는 함수로 모아 두면 편리하다.<br>\n",
        "It is convenient to wrap a frequently used code block into a function.\n",
        "\n"
      ]
    },
    {
      "cell_type": "code",
      "execution_count": null,
      "metadata": {
        "id": "3JV1y5QsXzTz"
      },
      "outputs": [],
      "source": [
        "print(2 * 'abc')\n",
        "\n"
      ]
    },
    {
      "cell_type": "markdown",
      "metadata": {
        "id": "GlpEtAmVXzTz"
      },
      "source": [
        "파이썬 함수는 `def` 로 시작한다.<br>`def` keyword indicates the beginning of a function.\n",
        "\n"
      ]
    },
    {
      "cell_type": "markdown",
      "metadata": {
        "id": "FYVI4ejZXzTz"
      },
      "source": [
        "`def` 다음에는 함수의 이름이 자리한다.<br>Next to the `def` keyword is the name of the function.\n",
        "\n"
      ]
    },
    {
      "cell_type": "markdown",
      "metadata": {
        "id": "Us3TEldTXzTz"
      },
      "source": [
        "함수의 이름 뒤의 `(` `)` 안에는 매개변수가 들어간다.<br>The arguments are in the `(` `)` after the name.\n",
        "\n"
      ]
    },
    {
      "cell_type": "markdown",
      "metadata": {
        "id": "88DNXdU-XzTz"
      },
      "source": [
        "함수의 내용에 해당하는 행은 들여쓰기로 표시한다.<br>The lines belong to the function are indented.\n",
        "\n"
      ]
    },
    {
      "cell_type": "markdown",
      "metadata": {
        "id": "Ka-SPFUSXzTz"
      },
      "source": [
        "`return` 으로 결과를 반환한다.<br>Values after the `return` will be the results of the function.\n",
        "\n"
      ]
    },
    {
      "cell_type": "code",
      "execution_count": null,
      "metadata": {
        "id": "UN335eQNXzTz"
      },
      "outputs": [],
      "source": [
        "def twice(x):\n",
        "    return 2 * x\n",
        "# end of indentation indicates the end of the function\n",
        "# 들여쓰기가 끝나는 곳은 함수의 끝\n",
        "\n"
      ]
    },
    {
      "cell_type": "markdown",
      "metadata": {
        "id": "bZs2wngIXzTz"
      },
      "source": [
        "아래는 함수를 호출 한 예 이다.<br>\n",
        "   We can call a function as follows.\n",
        "\n"
      ]
    },
    {
      "cell_type": "markdown",
      "metadata": {
        "id": "mDaqR7SLXzTz"
      },
      "source": [
        "함수의 이름 뒤에 괄호 `(` `)` 를 열고 전달할 매개변수 값을 나열한 뒤 괄호를 닫는다.<br>\n",
        "   Between the parenthesis `(` `)` after the function name, list the parameter valuse.\n",
        "\n"
      ]
    },
    {
      "cell_type": "code",
      "execution_count": null,
      "metadata": {
        "id": "oX_t6aZEXzTz"
      },
      "outputs": [],
      "source": [
        "twice(12)\n",
        "\n"
      ]
    },
    {
      "cell_type": "code",
      "execution_count": null,
      "metadata": {
        "id": "5RA9PlXvXzTz"
      },
      "outputs": [],
      "source": [
        "twice('abc')\n",
        "\n"
      ]
    },
    {
      "cell_type": "markdown",
      "metadata": {
        "id": "BEYZgVXvXzT0"
      },
      "source": [
        "In iPython, `_` indicates the result from the previous cell.<br>iPython 에서 `_` 는 이전 셀의 결과를 가리킨다.\n",
        "\n"
      ]
    },
    {
      "cell_type": "code",
      "execution_count": null,
      "metadata": {
        "id": "5KQz-RS2XzT0"
      },
      "outputs": [],
      "source": [
        "_\n",
        "\n"
      ]
    },
    {
      "cell_type": "code",
      "execution_count": null,
      "metadata": {
        "id": "07hwCvTkXzT0"
      },
      "outputs": [],
      "source": [
        "twice(_)\n",
        "\n"
      ]
    },
    {
      "cell_type": "markdown",
      "metadata": {
        "id": "FYA4RYcNXzT0"
      },
      "source": [
        "여기서 함수 `twice()` 가 반환한 값은 변수 `b`에 저장된다.<br>Here, the returned value from the function `twice()` is stored in the variable `b`.\n",
        "\n"
      ]
    },
    {
      "cell_type": "code",
      "execution_count": null,
      "metadata": {
        "id": "4exnkFk1XzT0"
      },
      "outputs": [],
      "source": [
        "b = twice('a')\n",
        "print(b)\n",
        "\n"
      ]
    },
    {
      "cell_type": "code",
      "execution_count": null,
      "metadata": {
        "id": "jkV66hM6XzT0"
      },
      "outputs": [],
      "source": [
        "twice('zzz')\n"
      ]
    },
    {
      "cell_type": "markdown",
      "metadata": {
        "id": "HenkAm2MXzT0"
      },
      "source": [
        "### 변수의 유효범위<br>Scope of variables\n",
        "\n"
      ]
    },
    {
      "cell_type": "markdown",
      "metadata": {
        "id": "O8kCoVvzXzT0"
      },
      "source": [
        "함수 안에서는 함수 밖에 정의된 변수 값을 읽을 수 있다.<br>\n",
        "Within a function, the variables defined outside are available.\n",
        "\n"
      ]
    },
    {
      "cell_type": "code",
      "execution_count": null,
      "metadata": {
        "id": "a3RvkiqiXzT0"
      },
      "outputs": [],
      "source": [
        "a = 100\n",
        "\n"
      ]
    },
    {
      "cell_type": "code",
      "execution_count": null,
      "metadata": {
        "id": "cq0hBucSXzT0"
      },
      "outputs": [],
      "source": [
        "def can_this_use_a(x):\n",
        "    print(\"a =\", a)\n",
        "    print(\"x =\", x)\n",
        "    return a + x\n",
        "\n"
      ]
    },
    {
      "cell_type": "code",
      "execution_count": null,
      "metadata": {
        "id": "PJoOJnsQXzT0"
      },
      "outputs": [],
      "source": [
        "can_this_use_a(3)\n",
        "\n"
      ]
    },
    {
      "cell_type": "markdown",
      "metadata": {
        "id": "FjXcAoxpXzT1"
      },
      "source": [
        "함수 안에서 정의된 변수는 함수 밖에서 읽을 수 없다.<br>\n",
        "Outside of a function, the variables defined inside are not accessable.\n",
        "\n"
      ]
    },
    {
      "cell_type": "code",
      "execution_count": null,
      "metadata": {
        "id": "9M1hgOqCXzT1"
      },
      "outputs": [],
      "source": [
        "def can_you_read_b(x):\n",
        "    b_in_function = 2\n",
        "    print(\"b_in_function =\", b_in_function)\n",
        "    return b_in_function + x\n",
        "\n"
      ]
    },
    {
      "cell_type": "code",
      "execution_count": null,
      "metadata": {
        "id": "u98fikKaXzT1"
      },
      "outputs": [],
      "source": [
        "can_you_read_b(2)\n",
        "\n"
      ]
    },
    {
      "cell_type": "code",
      "execution_count": null,
      "metadata": {
        "id": "Nx7HNqiiXzT1"
      },
      "outputs": [],
      "source": [
        "can_you_read_b(10)\n",
        "\n"
      ]
    },
    {
      "cell_type": "code",
      "execution_count": null,
      "metadata": {
        "id": "iBkKzja2XzT1"
      },
      "outputs": [],
      "source": [
        "try:\n",
        "    # 아래 행은 오류를 발생시킬 것이다.\n",
        "    # Following line would cause an error\n",
        "    print(\"b_in_function =\", b_in_function)\n",
        "except NameError as e:\n",
        "    # 위 try: 와 except 사이에서 오류가 발생하면 아래 행이 실행\n",
        "    # In case of an error between try and except, following line runs\n",
        "    print(\"NameError:\",e)\n",
        "\n"
      ]
    },
    {
      "cell_type": "markdown",
      "metadata": {
        "id": "To1JsKzcXzT1"
      },
      "source": [
        "함수가 실행이 종료되면, 함수 안에서 정의된 변수는 사라진다.<br>\n",
        "When the function finishes running, the variable inside of the function disappears.\n",
        "\n"
      ]
    },
    {
      "cell_type": "markdown",
      "metadata": {
        "id": "x2jmIOx-XzT1"
      },
      "source": [
        "함수 안의 변수가 우선한다.<br>\n",
        "Variables inside of the function has higher priority.<br>\n",
        "함수 안에서 변수값을 할당해도 함수 밖 변수 값에 영향을 주지 않는다.<br>\n",
        "Assigining a variable within a function does not influence the variable outside of the function.\n",
        "\n"
      ]
    },
    {
      "cell_type": "code",
      "execution_count": null,
      "metadata": {
        "id": "PG3_K6Y1XzT1"
      },
      "outputs": [],
      "source": [
        "z = 1 # Global variable 전역변수\n",
        "\n",
        "def x_times_z(x):\n",
        "  z = 2 # Local variable 지역변수\n",
        "  print('z in the function =', z)\n",
        "  return x * z\n",
        "\n"
      ]
    },
    {
      "cell_type": "code",
      "execution_count": null,
      "metadata": {
        "id": "nRV6VLisXzT1"
      },
      "outputs": [],
      "source": [
        "print(x_times_z(z))\n",
        "print(\"z outside of the function =\", z)\n",
        "\n"
      ]
    },
    {
      "cell_type": "markdown",
      "metadata": {
        "id": "yYkm90lvXzT1"
      },
      "source": [
        "### 함수의 기본 매개변수<br>Default Arguments\n",
        "\n"
      ]
    },
    {
      "cell_type": "markdown",
      "metadata": {
        "id": "Vgx85zBrXzT1"
      },
      "source": [
        "파이썬 함수를 정의할 때 매개변수에 기본값을 정해놓을 수 있다.<br>\n",
        "One may designate a default value when defining a python function.\n",
        "\n"
      ]
    },
    {
      "cell_type": "code",
      "execution_count": null,
      "metadata": {
        "id": "O5DS7HIXXzT2"
      },
      "outputs": [],
      "source": [
        "def ax_plus_b(x, a=2, b=3):\n",
        "\n",
        "    print(f'x = {x}', end=', ')\n",
        "    print(f'a = {a}', end=', ')\n",
        "    print(f'b = {b}')\n",
        "\n",
        "    return a * x + b\n",
        "\n"
      ]
    },
    {
      "cell_type": "code",
      "execution_count": null,
      "metadata": {
        "id": "YoUcWNFMXzT2"
      },
      "outputs": [],
      "source": [
        "ax_plus_b(1, 4, 5)\n",
        "\n"
      ]
    },
    {
      "cell_type": "code",
      "execution_count": null,
      "metadata": {
        "id": "XioBwDa4XzT2"
      },
      "outputs": [],
      "source": [
        "ax_plus_b(1)\n",
        "\n"
      ]
    },
    {
      "cell_type": "code",
      "execution_count": null,
      "metadata": {
        "id": "swMrhSW0XzT2"
      },
      "outputs": [],
      "source": [
        "ax_plus_b(1, 1)\n",
        "\n"
      ]
    },
    {
      "cell_type": "code",
      "execution_count": null,
      "metadata": {
        "id": "GjsDLNAAXzT2"
      },
      "outputs": [],
      "source": [
        "ax_plus_b(1, b=1)\n",
        "\n"
      ]
    },
    {
      "cell_type": "markdown",
      "metadata": {
        "id": "LL1gu3vBXzT2"
      },
      "source": [
        "### Callback Function<br>콜백함수\n",
        "\n"
      ]
    },
    {
      "cell_type": "markdown",
      "source": [
        "A callback function is a function (let's call this `f()`) you provide as an input argument to another function (and call this `s()`).<br>콜백함수(`f()`함수라고 하자)는 다른 함수(`s()`라고 하자)에 입력 매개변수로 전달하는 함수이다.<br>The \"another\" function `s()` will call your function `f()` with specific information or results as it runs.<br>함수`s()`가 실행 중 특정 싯점에 함수`f()`를 호출할 것이다.\n",
        "\n"
      ],
      "metadata": {
        "id": "-y9KLLLfaF-J"
      }
    },
    {
      "cell_type": "markdown",
      "metadata": {
        "id": "0peQz9I8XzT2"
      },
      "source": [
        "아래 두 함수가 주어져 있다.<br>Following two functions are given.\n",
        "\n"
      ]
    },
    {
      "cell_type": "code",
      "execution_count": null,
      "metadata": {
        "id": "7nds6bq9XzT2"
      },
      "outputs": [],
      "source": [
        "def add(a, b):\n",
        "    print(f\"{a} + {b}\")\n",
        "    return a + b\n",
        "\n",
        "def mul(a, b):\n",
        "    print(f\"{a} * {b}\")\n",
        "    return a * b\n",
        "\n"
      ]
    },
    {
      "cell_type": "markdown",
      "metadata": {
        "id": "40aiewteXzT2"
      },
      "source": [
        "아래와 같은 함수를 생각해 보자.<br>Let's consider a function as follows.\n",
        "\n"
      ]
    },
    {
      "cell_type": "code",
      "execution_count": null,
      "metadata": {
        "id": "Aqd5Yth5XzT2"
      },
      "outputs": [],
      "source": [
        "def s(f, aa, bb):\n",
        "    return f(aa, bb)\n",
        "\n"
      ]
    },
    {
      "cell_type": "markdown",
      "metadata": {
        "id": "CWv2BFMZXzT2"
      },
      "source": [
        "Here, let's pass another function's name as the argument `f`.<br>여기서 매개변수 `f`로 다른 함수의 이름을 전달해 보자.\n",
        "\n"
      ]
    },
    {
      "cell_type": "code",
      "execution_count": null,
      "metadata": {
        "id": "LTpAJ1A8XzT2"
      },
      "outputs": [],
      "source": [
        "print(s(add, 1, 2))\n",
        "\n"
      ]
    },
    {
      "cell_type": "code",
      "execution_count": null,
      "metadata": {
        "id": "XG5o3fV8XzT2"
      },
      "outputs": [],
      "source": [
        "print(s(mul, 1, 2))\n",
        "\n"
      ]
    },
    {
      "cell_type": "markdown",
      "metadata": {
        "id": "O5-FpVjxXzT4"
      },
      "source": [
        "위 두 함수 호출의 결과에 대해 어떻게 생각하는가?<br>What do you think about the results of the two function calls above.\n",
        "\n"
      ]
    },
    {
      "cell_type": "markdown",
      "metadata": {
        "id": "AH1ZdLBbXzT4"
      },
      "source": [
        "What about `lambda`?<br>`lambda`는 어떠한가?\n",
        "\n"
      ]
    },
    {
      "cell_type": "code",
      "execution_count": null,
      "metadata": {
        "id": "PqYTJ_oXXzT4"
      },
      "outputs": [],
      "source": [
        "print(s(lambda x, y: x/y, 15, 2))\n",
        "\n"
      ]
    },
    {
      "cell_type": "markdown",
      "source": [
        "Also let's think about the following function.<br>또한 다음 함수를 생각해 보자.\n",
        "\n"
      ],
      "metadata": {
        "id": "2mCaciyLfLMN"
      }
    },
    {
      "cell_type": "code",
      "source": [
        "def call_twice(f, aa, bb, cc):\n",
        "    first_result = f(aa, bb)\n",
        "    second_result = f(first_result, cc)\n",
        "    return second_result\n",
        "\n"
      ],
      "metadata": {
        "id": "HUOPYlM9fK3j"
      },
      "execution_count": null,
      "outputs": []
    },
    {
      "cell_type": "code",
      "source": [
        "print(call_twice(add, 10, 20, 30))\n",
        "\n"
      ],
      "metadata": {
        "id": "SvmSC3H_ffSp"
      },
      "execution_count": null,
      "outputs": []
    },
    {
      "cell_type": "code",
      "source": [
        "print(call_twice(mul, 10, 20, 30))\n",
        "\n"
      ],
      "metadata": {
        "id": "rkWYnW9Cgzi3"
      },
      "execution_count": null,
      "outputs": []
    },
    {
      "cell_type": "markdown",
      "metadata": {
        "id": "AtzvrOHzXzT4"
      },
      "source": [
        "## 모음<br>Collection\n",
        "\n"
      ]
    },
    {
      "cell_type": "markdown",
      "metadata": {
        "id": "1v3Bl-N0XzT5"
      },
      "source": [
        "모음은 여러 데이터를 한 **이름** 아래 저장한 것이다.<br>\n",
        "Collection contains multiple data under one **name**.\n",
        "\n"
      ]
    },
    {
      "cell_type": "markdown",
      "metadata": {
        "id": "n4QWQOYNXzT5"
      },
      "source": [
        "Python 에서는 기본적으로 `list()`, `tuple()`, `dict()`, `set()` 과 같은 데이터 모음이 사용가능하다.<br>\n",
        "In python, data collections such as `list()`, `tuple()`, `dict()`, and `set()` are available built-in.\n",
        "\n"
      ]
    },
    {
      "cell_type": "markdown",
      "metadata": {
        "id": "zUEHkZu1XzT5"
      },
      "source": [
        "### 리스트<br>List\n",
        "\n"
      ]
    },
    {
      "cell_type": "markdown",
      "metadata": {
        "id": "X_8tKIdKXzT5"
      },
      "source": [
        "리스트는 순서 대로 몇개의 자료를 모은 것이다.<br>\n",
        "A `list()` is a collection of data in a sequnce.\n",
        "\n"
      ]
    },
    {
      "cell_type": "code",
      "execution_count": null,
      "metadata": {
        "id": "-70C8EGIXzT5"
      },
      "outputs": [],
      "source": [
        "x = list([1, 3, 5, 7, 9])\n",
        "x\n",
        "\n"
      ]
    },
    {
      "cell_type": "markdown",
      "metadata": {
        "id": "--i77D68XzT5"
      },
      "source": [
        "`len()` 함수를 이용하여 리스트의 항목 수를 알 수 있다.<br>\n",
        "Calling function `len()` one can find the number of items within a list.\n",
        "\n"
      ]
    },
    {
      "cell_type": "code",
      "execution_count": null,
      "metadata": {
        "id": "2EeyC5YPXzT5"
      },
      "outputs": [],
      "source": [
        "len(x)\n",
        "\n"
      ]
    },
    {
      "cell_type": "markdown",
      "metadata": {
        "id": "Os0GEhbUXzT5"
      },
      "source": [
        "항목을 `[` `]` 로 둘러 싸서 만들 수도 있다.<br>\n",
        "One can also make a list by wrapping items with `[` and `]`.\n",
        "\n"
      ]
    },
    {
      "cell_type": "code",
      "execution_count": null,
      "metadata": {
        "id": "pPyYY7_hXzT5"
      },
      "outputs": [],
      "source": [
        "y = [1, 2, ['other', 'list'], 'python']\n",
        "y\n",
        "\n"
      ]
    },
    {
      "cell_type": "code",
      "execution_count": null,
      "metadata": {
        "id": "GbgYzO6wXzT5"
      },
      "outputs": [],
      "source": [
        "len(y)\n",
        "\n"
      ]
    },
    {
      "cell_type": "markdown",
      "metadata": {
        "id": "e9S54RKaXzT5"
      },
      "source": [
        "문자열로부터 list를 만들 수도 있다.<br>\n",
        "A list can be made from a string.\n",
        "\n"
      ]
    },
    {
      "cell_type": "code",
      "execution_count": null,
      "metadata": {
        "id": "FRcp3562XzT6"
      },
      "outputs": [],
      "source": [
        "a_list = list('abc')\n",
        "a_list\n",
        "\n"
      ]
    },
    {
      "cell_type": "markdown",
      "metadata": {
        "id": "qT8okaqYXzT6"
      },
      "source": [
        "항목을 추가할 수 있다.<br>We may add more items.\n"
      ]
    },
    {
      "cell_type": "code",
      "execution_count": null,
      "metadata": {
        "id": "sxnz2yVcXzT6"
      },
      "outputs": [],
      "source": [
        "a_list.append('d')\n",
        "a_list\n",
        "\n"
      ]
    },
    {
      "cell_type": "markdown",
      "metadata": {
        "id": "D-DfybJ3XzT6"
      },
      "source": [
        "다른 list를 붙인 새로운 list를 만들 수도 있다.<br>We may make a new list by connecting multiple lists.\n"
      ]
    },
    {
      "cell_type": "code",
      "execution_count": null,
      "metadata": {
        "id": "ckftHVCLXzT6"
      },
      "outputs": [],
      "source": [
        "z_list = a_list + ['yy', 'zzz']\n",
        "z_list\n",
        "\n"
      ]
    },
    {
      "cell_type": "markdown",
      "metadata": {
        "id": "A_Gy5S2VXzT6"
      },
      "source": [
        "#### 항목 지정<br>Indexing an item (or items)\n",
        "\n"
      ]
    },
    {
      "cell_type": "markdown",
      "metadata": {
        "id": "s_SlsU6OXzT6"
      },
      "source": [
        "각 항목을 읽거나 쓰기 위해 인덱스로 순서를 지정한다.<br>\n",
        "To access each item, you can indicate by its index.\n",
        "\n"
      ]
    },
    {
      "cell_type": "markdown",
      "metadata": {
        "id": "4x_QZmU-XzT6"
      },
      "source": [
        "첫 항목의 인덱스는 0 이다.  이후는 1씩 증가한다.<br>\n",
        "Index 0 indicates the first item.  Afterward, it increases by one each.\n",
        "\n"
      ]
    },
    {
      "cell_type": "markdown",
      "metadata": {
        "id": "9-lPkzosXzT6"
      },
      "source": [
        "리스트 변수 이름 뒤 대괄호 `[` `]` 사이에 해당 인덱스 값을 넣는다.<br>\n",
        "The index places between the brakets `[` `]` after the name of the list variable.\n",
        "\n"
      ]
    },
    {
      "cell_type": "code",
      "execution_count": null,
      "metadata": {
        "id": "Tx01KcBsXzT6"
      },
      "outputs": [],
      "source": [
        "x\n"
      ]
    },
    {
      "cell_type": "code",
      "execution_count": null,
      "metadata": {
        "id": "F2Fa7P4FXzT6"
      },
      "outputs": [],
      "source": [
        "x[0]\n",
        "\n"
      ]
    },
    {
      "cell_type": "code",
      "execution_count": null,
      "metadata": {
        "id": "i89NOb-zXzT6"
      },
      "outputs": [],
      "source": [
        "x[1]\n",
        "\n"
      ]
    },
    {
      "cell_type": "code",
      "execution_count": null,
      "metadata": {
        "id": "BoP6xp0LXzT6"
      },
      "outputs": [],
      "source": [
        "try:\n",
        "  # Error!\n",
        "  x(0)\n",
        "except TypeError as e:\n",
        "  print(e)\n",
        "\n"
      ]
    },
    {
      "cell_type": "markdown",
      "metadata": {
        "id": "0ChXCcr9XzT7"
      },
      "source": [
        "`-1` 은 마지막 항목을 가리킨다.<br>\n",
        "`-` indicates the last item.\n",
        "\n"
      ]
    },
    {
      "cell_type": "code",
      "execution_count": null,
      "metadata": {
        "id": "8JCTSxsHXzT7"
      },
      "outputs": [],
      "source": [
        "x[-1]\n",
        "\n"
      ]
    },
    {
      "cell_type": "code",
      "execution_count": null,
      "metadata": {
        "id": "gu7vBFM7XzT7"
      },
      "outputs": [],
      "source": [
        "y[-1]\n",
        "\n"
      ]
    },
    {
      "cell_type": "markdown",
      "metadata": {
        "id": "Roue3DOmXzT7"
      },
      "source": [
        "`:` 로 여러 항목을 선택할 수도 있다. 이를 *슬라이싱* 이라고 한다.<br>\n",
        "`:` can indicate multiple items. It is called *slicing*.\n",
        "\n"
      ]
    },
    {
      "cell_type": "code",
      "execution_count": null,
      "metadata": {
        "id": "LW2WRz9zXzT7"
      },
      "outputs": [],
      "source": [
        "z = list(range(20+1))\n",
        "z\n",
        "\n"
      ]
    },
    {
      "cell_type": "code",
      "execution_count": null,
      "metadata": {
        "id": "Dmr8IeX_XzT7"
      },
      "outputs": [],
      "source": [
        "z[2]\n",
        "\n"
      ]
    },
    {
      "cell_type": "code",
      "execution_count": null,
      "metadata": {
        "id": "ghp3ZMETXzT7"
      },
      "outputs": [],
      "source": [
        "z[:2]\n",
        "\n"
      ]
    },
    {
      "cell_type": "markdown",
      "metadata": {
        "id": "8f6tN7QkXzT7"
      },
      "source": [
        "위 결과에 `z[2]` 가 포함되었는가?<br>\n",
        "Does the result above include `z[2]`?\n",
        "\n"
      ]
    },
    {
      "cell_type": "code",
      "execution_count": null,
      "metadata": {
        "id": "xUCZKZnaXzT7"
      },
      "outputs": [],
      "source": [
        "z[2:]\n",
        "\n"
      ]
    },
    {
      "cell_type": "markdown",
      "metadata": {
        "id": "YqG_KhNHXzT7"
      },
      "source": [
        "위 결과에 `z[2]` 가 포함되었는가?<br>\n",
        "Does the result above include `z[2]`?\n",
        "\n"
      ]
    },
    {
      "cell_type": "code",
      "execution_count": null,
      "metadata": {
        "id": "_Eh0muzZXzT7"
      },
      "outputs": [],
      "source": [
        "z[2:12]\n",
        "\n"
      ]
    },
    {
      "cell_type": "markdown",
      "metadata": {
        "id": "XQlvNxtEXzT7"
      },
      "source": [
        "이번에는 무엇이 달라졌는가?<br>\n",
        "What is different this time?\n",
        "\n"
      ]
    },
    {
      "cell_type": "code",
      "execution_count": null,
      "metadata": {
        "id": "lAsLjikRXzT7"
      },
      "outputs": [],
      "source": [
        "z[2:12:2]\n",
        "\n"
      ]
    },
    {
      "cell_type": "markdown",
      "metadata": {
        "id": "SQF7cnJ3XzT8"
      },
      "source": [
        "마지막 `:2`의 역할은 무엇인가?<br>\n",
        "What is the role of the `:2` at the end?\n",
        "\n"
      ]
    },
    {
      "cell_type": "code",
      "execution_count": null,
      "metadata": {
        "id": "GUbqfLffXzT8"
      },
      "outputs": [],
      "source": [
        "z[2:12:3]\n",
        "\n"
      ]
    },
    {
      "cell_type": "code",
      "execution_count": null,
      "metadata": {
        "id": "j0ktOqvOXzT8"
      },
      "outputs": [],
      "source": [
        "z[2:12:4]\n",
        "\n"
      ]
    },
    {
      "cell_type": "markdown",
      "metadata": {
        "id": "ViT7dcD9XzT8"
      },
      "source": [
        "`range()` 함수의 세 매개변수의 각각의 역할은 무엇인가?<br>\n",
        "What are the respective roles of the three arguments of the `range()` function ?\n",
        "\n"
      ]
    },
    {
      "cell_type": "markdown",
      "metadata": {
        "id": "XM4uBKy2XzT8"
      },
      "source": [
        "#### 소속 여부<br>Membership\n",
        "\n"
      ]
    },
    {
      "cell_type": "markdown",
      "metadata": {
        "id": "myj-13jIXzT8"
      },
      "source": [
        "`in` 연산자로 어떤 항목이 어떤 list 에 포함되어 있는지 알 수 있다.<br>\n",
        "`in` operater can tell us if a list has a certain item.\n",
        "\n"
      ]
    },
    {
      "cell_type": "code",
      "execution_count": null,
      "metadata": {
        "id": "6OZ-lI8lXzT8"
      },
      "outputs": [],
      "source": [
        "z_list\n",
        "\n"
      ]
    },
    {
      "cell_type": "code",
      "execution_count": null,
      "metadata": {
        "id": "NTuDkADfXzT8"
      },
      "outputs": [],
      "source": [
        "'a' in z_list\n",
        "\n"
      ]
    },
    {
      "cell_type": "code",
      "execution_count": null,
      "metadata": {
        "id": "XN1tEYVrXzT8"
      },
      "outputs": [],
      "source": [
        "\"b\" in z_list\n",
        "\n"
      ]
    },
    {
      "cell_type": "code",
      "execution_count": null,
      "metadata": {
        "id": "n8jTVQjgXzT8"
      },
      "outputs": [],
      "source": [
        "'z' in z_list\n",
        "\n"
      ]
    },
    {
      "cell_type": "code",
      "execution_count": null,
      "metadata": {
        "id": "YqrbwiDGXzUB"
      },
      "outputs": [],
      "source": [
        "'zzz' in z_list\n",
        "\n"
      ]
    },
    {
      "cell_type": "code",
      "execution_count": null,
      "metadata": {
        "id": "Lr0HICreXzUB"
      },
      "outputs": [],
      "source": [
        "'z' in \"zzz\"\n",
        "\n"
      ]
    },
    {
      "cell_type": "code",
      "execution_count": null,
      "metadata": {
        "id": "YjVGHiK_XzUC"
      },
      "outputs": [],
      "source": [
        "'zz' in \"zzz\"\n",
        "\n"
      ]
    },
    {
      "cell_type": "markdown",
      "metadata": {
        "id": "B_2nuKgKXzUC"
      },
      "source": [
        "### list & tuple\n",
        "\n"
      ]
    },
    {
      "cell_type": "markdown",
      "metadata": {
        "id": "eAoVlTQgXzUC"
      },
      "source": [
        "리스트 `list` 와 튜플 `tuple` 모두 여러 항목을 저장할 수 있다.<br>Both `list` and `tuple` can store multiple items.\n",
        "\n"
      ]
    },
    {
      "cell_type": "markdown",
      "metadata": {
        "id": "VLTjANhlXzUC"
      },
      "source": [
        "또한 각 항목을 순서로 구분한다.<br>Also, distinguish each item with the order.\n",
        "\n"
      ]
    },
    {
      "cell_type": "markdown",
      "metadata": {
        "id": "QbXp5588XzUC"
      },
      "source": [
        "리스트는 항목을 변경 추가 삭제할 수 있으나 (mutable) 튜플은 한번 만들어지면 변경할 수 없다 (immutable).<br>We may change, add, or remove items in lists (mutable) but we cannot with tuples (immutable).\n",
        "\n"
      ]
    },
    {
      "cell_type": "markdown",
      "metadata": {
        "id": "YBBco9ShXzUC"
      },
      "source": [
        "예를 들어 다음을 생각해 보자.<br>Let's check the followings.\n",
        "\n"
      ]
    },
    {
      "cell_type": "code",
      "execution_count": null,
      "metadata": {
        "id": "LC77CuN9XzUC"
      },
      "outputs": [],
      "source": [
        "x_list = [1, 2, 3]\n",
        "print(\"before :\", x_list)\n",
        "x_list[0] = '0'\n",
        "print(\"after :\", x_list)\n",
        "\n"
      ]
    },
    {
      "cell_type": "markdown",
      "metadata": {
        "id": "b2cDpStSXzUC"
      },
      "source": [
        "튜플 tuple 의 경우, 항목을 바꿀 수 없으므로 아래 예에서 예외 Exception 가 발생한다.<br>\n",
        "Because a tuple does not allow chaning one of its items, following example would raise an Exception.\n",
        "\n"
      ]
    },
    {
      "cell_type": "code",
      "execution_count": null,
      "metadata": {
        "id": "CYzndN9eXzUC"
      },
      "outputs": [],
      "source": [
        "try:\n",
        "    z_tuple = (4, 5, 6)\n",
        "    print(\"before :\", z_tuple)\n",
        "    # Error!\n",
        "    z_tuple[0] = '0'\n",
        "    print(\"after :\", z_tuple)\n",
        "except TypeError as e:\n",
        "    print(e)\n",
        "    print('cannot change an item in tuple')\n",
        "\n"
      ]
    },
    {
      "cell_type": "markdown",
      "metadata": {
        "id": "yRBvKxLFXzUD"
      },
      "source": [
        "### 딕셔너리<br>Dictionary\n",
        "\n"
      ]
    },
    {
      "cell_type": "markdown",
      "metadata": {
        "id": "GWGULboRXzUD"
      },
      "source": [
        "순서로 각 요소를 구분하는 list 나 tuple 과는 달리 `dict`는 key - value 쌍을 저장한다.<br>Unlike list or tuple distinguishing items by the sequence, `dict` stores key - value pairs.\n",
        "\n"
      ]
    },
    {
      "cell_type": "code",
      "execution_count": null,
      "metadata": {
        "id": "77Stn0BJXzUD"
      },
      "outputs": [],
      "source": [
        "a_dict = {\n",
        "    'one': 1,  # key : \"one\", value : 1\n",
        "    'two': 2,  # key : \"two\", value : 2\n",
        "}\n",
        "\n"
      ]
    },
    {
      "cell_type": "code",
      "execution_count": null,
      "metadata": {
        "id": "g4RO0te4XzUD"
      },
      "outputs": [],
      "source": [
        "a_dict\n",
        "\n"
      ]
    },
    {
      "cell_type": "code",
      "execution_count": null,
      "metadata": {
        "id": "J3kWZxUBXzUD"
      },
      "outputs": [],
      "source": [
        "a_dict[\"one\"]\n",
        "\n"
      ]
    },
    {
      "cell_type": "code",
      "execution_count": null,
      "metadata": {
        "id": "2PxpJZR9XzUD"
      },
      "outputs": [],
      "source": [
        "a_dict[\"two\"]\n",
        "\n"
      ]
    },
    {
      "cell_type": "markdown",
      "metadata": {
        "id": "pSl1hJB_XzUD"
      },
      "source": [
        "(하나 또는 여러개의) 새로운 key - value 쌍을 추가할 수도 있다.<br>One can add a new key - value pair(or pairs).\n",
        "\n"
      ]
    },
    {
      "cell_type": "code",
      "execution_count": null,
      "metadata": {
        "id": "H7aCMezxXzUD"
      },
      "outputs": [],
      "source": [
        "a_dict\n",
        "\n"
      ]
    },
    {
      "cell_type": "code",
      "execution_count": null,
      "metadata": {
        "id": "UixkOlgEXzUD"
      },
      "outputs": [],
      "source": [
        "a_dict[\"three\"] = 3\n",
        "\n"
      ]
    },
    {
      "cell_type": "code",
      "execution_count": null,
      "metadata": {
        "id": "CSLJ1_TEXzUD"
      },
      "outputs": [],
      "source": [
        "a_dict\n",
        "\n"
      ]
    },
    {
      "cell_type": "markdown",
      "metadata": {
        "id": "0AC_bVR3XzUD"
      },
      "source": [
        "`in`\n",
        "\n"
      ]
    },
    {
      "cell_type": "code",
      "execution_count": null,
      "metadata": {
        "id": "yYGZOZZVXzUD"
      },
      "outputs": [],
      "source": [
        "\"one\" in a_dict\n",
        "\n"
      ]
    },
    {
      "cell_type": "code",
      "execution_count": null,
      "metadata": {
        "id": "lVLEXvJsXzUD"
      },
      "outputs": [],
      "source": [
        "a_dict.keys()\n",
        "\n"
      ]
    },
    {
      "cell_type": "code",
      "execution_count": null,
      "metadata": {
        "id": "yeeu-vi3XzUD"
      },
      "outputs": [],
      "source": [
        "\"one\" in a_dict.keys()\n",
        "\n"
      ]
    },
    {
      "cell_type": "code",
      "execution_count": null,
      "metadata": {
        "id": "g8Kkq4gOXzUE"
      },
      "outputs": [],
      "source": [
        "1 in a_dict\n",
        "\n"
      ]
    },
    {
      "cell_type": "markdown",
      "metadata": {
        "id": "Pfq-l1uDXzUE"
      },
      "source": [
        "#### `.get()`\n",
        "\n"
      ]
    },
    {
      "cell_type": "code",
      "execution_count": null,
      "metadata": {
        "id": "94xyGHS4XzUE"
      },
      "outputs": [],
      "source": [
        "a_dict[\"one\"]\n",
        "\n"
      ]
    },
    {
      "cell_type": "code",
      "execution_count": null,
      "metadata": {
        "id": "ngVEq3feXzUE"
      },
      "outputs": [],
      "source": [
        "a_dict.get(\"one\")\n",
        "\n"
      ]
    },
    {
      "cell_type": "code",
      "execution_count": null,
      "metadata": {
        "id": "LU3HyoXwXzUE"
      },
      "outputs": [],
      "source": [
        "\"ten\" in a_dict\n",
        "\n"
      ]
    },
    {
      "cell_type": "code",
      "execution_count": null,
      "metadata": {
        "id": "V2FC8sPgXzUE"
      },
      "outputs": [],
      "source": [
        "try:\n",
        "    # Error!\n",
        "    a_dict[\"ten\"]\n",
        "except KeyError as e:\n",
        "    print(\"KeyError:\", e)\n",
        "\n"
      ]
    },
    {
      "cell_type": "code",
      "execution_count": null,
      "metadata": {
        "id": "m0itIRYeXzUE"
      },
      "outputs": [],
      "source": [
        "# No error\n",
        "a_dict.get(\"ten\")\n",
        "\n"
      ]
    },
    {
      "cell_type": "code",
      "execution_count": null,
      "metadata": {
        "id": "iwo4ZThVXzUE"
      },
      "outputs": [],
      "source": [
        "a_dict.get(\"ten\", '''Does not have \"ten\" yet.''')\n",
        "\n"
      ]
    },
    {
      "cell_type": "code",
      "execution_count": null,
      "metadata": {
        "id": "OQ4AJkepXzUE"
      },
      "outputs": [],
      "source": [
        "a_dict.get(\"two\", '''Does not have \"two\" yet.''')\n",
        "\n"
      ]
    },
    {
      "cell_type": "markdown",
      "metadata": {
        "id": "PBdNsKxYXzUE"
      },
      "source": [
        "#### `.update()`\n",
        "\n"
      ]
    },
    {
      "cell_type": "code",
      "execution_count": null,
      "metadata": {
        "id": "s5w6d8lJXzUE"
      },
      "outputs": [],
      "source": [
        "dict_b = {\"three\": \"###\", \"four\": \"$$$$\"}\n",
        "\n"
      ]
    },
    {
      "cell_type": "code",
      "execution_count": null,
      "metadata": {
        "id": "hnNf4912XzUE"
      },
      "outputs": [],
      "source": [
        "dict_b\n",
        "\n"
      ]
    },
    {
      "cell_type": "code",
      "execution_count": null,
      "metadata": {
        "id": "pNTHNI1FXzUE"
      },
      "outputs": [],
      "source": [
        "a_dict\n",
        "\n"
      ]
    },
    {
      "cell_type": "code",
      "execution_count": null,
      "metadata": {
        "id": "A6I_EvLYXzUE"
      },
      "outputs": [],
      "source": [
        "a_dict.update(dict_b)\n",
        "\n"
      ]
    },
    {
      "cell_type": "code",
      "execution_count": null,
      "metadata": {
        "id": "23uKogzvXzUF"
      },
      "outputs": [],
      "source": [
        "a_dict\n",
        "\n"
      ]
    },
    {
      "cell_type": "markdown",
      "source": [
        "## Conditional Execution and Iteration<br>조건문과 반복문\n",
        "\n"
      ],
      "metadata": {
        "id": "3bxjAvu3XzUF"
      }
    },
    {
      "cell_type": "markdown",
      "metadata": {
        "id": "fFZEpDAUXzUF"
      },
      "source": [
        "### `if` `elif` `else`\n",
        "\n"
      ]
    },
    {
      "cell_type": "markdown",
      "metadata": {
        "id": "k2UL7ChMXzUF"
      },
      "source": [
        "어떤 논리 연산의 결과에 따라 특정 코드를 실행시키도록 할 수 있다.<br>\n",
        "Depending on the result of a logical operation, we may activate a certain block of code to run.\n",
        "\n"
      ]
    },
    {
      "cell_type": "code",
      "execution_count": null,
      "metadata": {
        "id": "29Et9mloXzUF"
      },
      "outputs": [],
      "source": [
        "a = 1\n",
        "1 == a\n",
        "\n"
      ]
    },
    {
      "cell_type": "code",
      "execution_count": null,
      "metadata": {
        "id": "9myZUZPPXzUF"
      },
      "outputs": [],
      "source": [
        "if 1 == a:\n",
        "    print(\"Variable `a` contains one\")\n",
        "\n"
      ]
    },
    {
      "cell_type": "markdown",
      "metadata": {
        "id": "pQcuvA4CXzUF"
      },
      "source": [
        "결과에 따라 특정 코드를 대신 실행시키도록 할 수 있다.<br>\n",
        "Depending on the result, we may make a different block of code to run.\n",
        "\n"
      ]
    },
    {
      "cell_type": "code",
      "execution_count": null,
      "metadata": {
        "id": "ZdFDQfx7XzUF"
      },
      "outputs": [],
      "source": [
        "a = 1\n",
        "if 2 == a:\n",
        "    print(\"Variable `a` is equal to two\")\n",
        "else:\n",
        "    print(\"Variable `a` is not equal to two\")\n",
        "\n"
      ]
    },
    {
      "cell_type": "markdown",
      "metadata": {
        "id": "Vm7582yXXzUF"
      },
      "source": [
        "또한 여러 논리식을 순차적으로 검토하여 실행할 코드를 선택할 수도 있다.<br>\n",
        "Also, we may choose which code to run by evaluating a series of logical operations.\n",
        "\n"
      ]
    },
    {
      "cell_type": "code",
      "execution_count": null,
      "metadata": {
        "id": "S3UjDoHaXzUF"
      },
      "outputs": [],
      "source": [
        "a = 0\n",
        "if 0 < a:\n",
        "    print(\"Variable `a` is positive\")\n",
        "elif 0 > a:\n",
        "    print(\"Variable `a` contains a negative number\")\n",
        "elif 0 == a:\n",
        "    print(\"`a` is zero\")\n",
        "elif 0 >= a:\n",
        "    print(\"`a` is zero or negative\")\n",
        "else:\n",
        "    # 상정 이외의 경우에는 오류를 발생시켜야 할 수도 있다.\n",
        "    # On an exceptional case, we may need to raise one.\n",
        "    raise NotImplementedError\n",
        "\n"
      ]
    },
    {
      "cell_type": "markdown",
      "metadata": {
        "id": "XzIHRoVKXzUF"
      },
      "source": [
        "### `for` iterations<br>`for` 반복문\n",
        "\n"
      ]
    },
    {
      "cell_type": "markdown",
      "metadata": {
        "id": "q9ot5Ik0XzUF"
      },
      "source": [
        "어떤 작업을 정해진 횟수 만큼 반복시키고 싶다면 `for` 문을 사용할 수 있다.<br>\n",
        "`for` loops for a fixed number of iterations.\n",
        "\n"
      ]
    },
    {
      "cell_type": "code",
      "execution_count": null,
      "metadata": {
        "id": "ZMywRcj2XzUG"
      },
      "outputs": [],
      "source": [
        "for a in [1, 'a', 3, 'b', 5]:\n",
        "  print(a)\n",
        "  print(\"end of for block\")\n",
        "\n"
      ]
    },
    {
      "cell_type": "code",
      "execution_count": null,
      "metadata": {
        "id": "Zhp9GcoUXzUG"
      },
      "outputs": [],
      "source": [
        "for a in [1, 'a', 3, 'b', 5]:\n",
        "  print(a)\n",
        "print(\"end of for block\")\n",
        "\n"
      ]
    },
    {
      "cell_type": "code",
      "execution_count": null,
      "metadata": {
        "id": "uLU_spMUXzUG"
      },
      "outputs": [],
      "source": [
        "a = 'iteration'\n",
        "\n",
        "for i in [0, 'a', ['b', 2],]:\n",
        "  print(i, a)\n",
        "\n",
        "print(\"end of for block\")\n",
        "\n"
      ]
    },
    {
      "cell_type": "markdown",
      "metadata": {
        "id": "YvkKnuqpXzUG"
      },
      "source": [
        "위 셀에서 변수 `i` 는 `in` 다음의 list 안의 값을 하나씩 짚을 것이다.<br>In the cell above, the variable `i` will step over the values of the list following `in`.\n",
        "\n"
      ]
    },
    {
      "cell_type": "markdown",
      "metadata": {
        "id": "uX25ENPZXzUG"
      },
      "source": [
        "`n` 번 반복시키려면 0 부터 `n-1` 까지 발생시키는 `range(n)` 을 사용할 수 있다.<br>\n",
        "To loop `n` iterations, we can use `range(n)` that will generate from 0 to `n-1`.\n",
        "\n"
      ]
    },
    {
      "cell_type": "code",
      "execution_count": null,
      "metadata": {
        "id": "hCGTrSWpXzUG"
      },
      "outputs": [],
      "source": [
        "a = 'iteration'\n",
        "n = 5\n",
        "\n",
        "for i in range(n):\n",
        "    print(i, a)\n",
        "\n",
        "print(\"end of for block\")\n",
        "\n"
      ]
    },
    {
      "cell_type": "markdown",
      "metadata": {
        "id": "o2AXkHJIXzUG"
      },
      "source": [
        "`range()` 를 이용하여 새로운 list를 만들어 갈 수도 있다.<br>\n",
        "We may make a new list using the `range()`.\n",
        "\n"
      ]
    },
    {
      "cell_type": "code",
      "execution_count": null,
      "metadata": {
        "id": "hKq7-a_pXzUG"
      },
      "outputs": [],
      "source": [
        "square = []\n",
        "n = 10\n",
        "\n",
        "for i in range(n):\n",
        "    square.append(i * i)\n",
        "    print(\"i =\", i, \", square =\", square)\n",
        "\n",
        "print(square)\n",
        "\n"
      ]
    },
    {
      "cell_type": "markdown",
      "metadata": {
        "id": "CVsebJL9XzUG"
      },
      "source": [
        "Arguments of the `range()` function<br>\n",
        "`range()` 함수의 매개변수\n",
        "\n"
      ]
    },
    {
      "cell_type": "code",
      "execution_count": null,
      "metadata": {
        "id": "VrkBH9gRXzUG"
      },
      "outputs": [],
      "source": [
        "for i in range(1, 10+1, 2):\n",
        "  print(i, end=', ')\n",
        "\n"
      ]
    },
    {
      "cell_type": "markdown",
      "metadata": {
        "id": "knrPQbIVXzUG"
      },
      "source": [
        "### `while` iterations<br>`while` 반복문\n",
        "\n"
      ]
    },
    {
      "cell_type": "markdown",
      "metadata": {
        "id": "payTiLjxXzUG"
      },
      "source": [
        "Whenever possible, please use `for` loops.<br>가능하면 `for` 반복문을 사용하기 바람.\n",
        "\n"
      ]
    },
    {
      "cell_type": "code",
      "execution_count": null,
      "metadata": {
        "id": "ypIKisUGXzUG"
      },
      "outputs": [],
      "source": [
        "i = 0\n",
        "while (i < 3):\n",
        "  i = i + 1\n",
        "  # what if line above missing?\n",
        "  # infinite loop\n",
        "  print(\"Is i ==\", i, \"less than 3 ?\", i < 3)\n",
        "print(\"end of while loop\")\n",
        "\n"
      ]
    },
    {
      "cell_type": "markdown",
      "metadata": {
        "id": "kkGch7W1XzUG"
      },
      "source": [
        "## 파일 입출력<br>File I/O\n",
        "\n"
      ]
    },
    {
      "cell_type": "markdown",
      "metadata": {
        "id": "zsmp35zbXzUG"
      },
      "source": [
        "파이썬에서 파일을 읽고 쓸 때는 `open()` 함수를 호출한다.<br>\n",
        "To read from or write to a file in python, we can usually start with calling `open()`.\n",
        "\n"
      ]
    },
    {
      "cell_type": "code",
      "execution_count": null,
      "metadata": {
        "id": "LMFT9SjBXzUH"
      },
      "outputs": [],
      "source": [
        "%%writefile hello.txt\n",
        "Hello python!\n"
      ]
    },
    {
      "cell_type": "code",
      "execution_count": null,
      "metadata": {
        "id": "aWZJjlH3XzUH"
      },
      "outputs": [],
      "source": [
        "fi = open(\"hello.txt\", 'rt')\n",
        "print(fi.read())\n",
        "fi.close()\n",
        "\n"
      ]
    },
    {
      "cell_type": "markdown",
      "metadata": {
        "id": "rkZ9ppdhXzUH"
      },
      "source": [
        "* IPython magic command\n",
        "* https://ipython.readthedocs.io/en/stable/interactive/magics.html#cellmagic-writefile\n",
        "\n"
      ]
    },
    {
      "cell_type": "markdown",
      "metadata": {
        "id": "raRkUk13XzUH"
      },
      "source": [
        "File write mode 파일 쓰기 모드\n"
      ]
    },
    {
      "cell_type": "code",
      "execution_count": null,
      "metadata": {
        "id": "Xj8llqC6XzUH"
      },
      "outputs": [],
      "source": [
        "fo = open(\"sample.txt\", \"wt\")\n",
        "fo.write(\"Hello Python!\\n\")\n",
        "fo.close()\n",
        "\n"
      ]
    },
    {
      "cell_type": "markdown",
      "metadata": {
        "id": "Sbhyw3y4XzUH"
      },
      "source": [
        "`with`와 `as`, 들여쓰기로 파일이 열려 있는 구간을 표시하는 *Context Manager* 방식도 가능하다.<br>We may also use the *Context Manager*. It uses `with` and `as` keywords.  Indentation indicates that the file is open.\n",
        "\n"
      ]
    },
    {
      "cell_type": "code",
      "execution_count": null,
      "metadata": {
        "id": "cCAMDnaKXzUH"
      },
      "outputs": [],
      "source": [
        "with open(\"sample.txt\", \"rt\") as fi:\n",
        "    # file is open\n",
        "    txt = fi.read()\n",
        "# file is now closed\n",
        "print(txt)\n",
        "\n"
      ]
    },
    {
      "cell_type": "code",
      "execution_count": null,
      "metadata": {
        "id": "SJ1CjJxwXzUH"
      },
      "outputs": [],
      "source": [
        "!cat sample.txt\n",
        "\n"
      ]
    },
    {
      "cell_type": "markdown",
      "metadata": {
        "id": "piRiF_fDXzUH"
      },
      "source": [
        "## `import`\n",
        "\n"
      ]
    },
    {
      "cell_type": "markdown",
      "metadata": {
        "id": "eF5H2FHvXzUH"
      },
      "source": [
        "파이썬의 강점 가운데 하나는 새로운 기능을 확장하는 것이 쉽다는 것이다.<br>\n",
        "One of the strengths of the python is it can expand its capabilities easily.\n",
        "\n"
      ]
    },
    {
      "cell_type": "markdown",
      "metadata": {
        "id": "9GhdmOphXzUH"
      },
      "source": [
        "어떤 파이썬 소스 코드 파일이든 `import` 하여 그 안에 포함된 함수와 변수를 사용할 수 있다.<br>\n",
        "We can `import` just about any python source code file and use included functions and variables.\n",
        "\n"
      ]
    },
    {
      "cell_type": "code",
      "execution_count": null,
      "metadata": {
        "id": "Dcih5qabXzUH"
      },
      "outputs": [],
      "source": [
        "%%writefile import_this.py\n",
        "def three_times(x):\n",
        "  return 3 * x\n"
      ]
    },
    {
      "cell_type": "markdown",
      "metadata": {
        "id": "8CthupPbXzUH"
      },
      "source": [
        "Is the file created?<br>파일이 생성되었는가?\n",
        "\n"
      ]
    },
    {
      "cell_type": "code",
      "execution_count": null,
      "metadata": {
        "id": "BtND8ZBMXzUH"
      },
      "outputs": [],
      "source": [
        "%ls\n"
      ]
    },
    {
      "cell_type": "markdown",
      "metadata": {
        "id": "XU3gLCdZXzUH"
      },
      "source": [
        "What is the content of the file?<br>\n",
        "파일의 내용은?\n",
        "\n"
      ]
    },
    {
      "cell_type": "code",
      "execution_count": null,
      "metadata": {
        "id": "ReFd5y-mXzUH"
      },
      "outputs": [],
      "source": [
        "%pycat import_this.py\n"
      ]
    },
    {
      "cell_type": "markdown",
      "metadata": {
        "id": "x3u9CB4WXzUH"
      },
      "source": [
        "Let's `import` the file.  What happens after modifying the function?<br>파일을 `import` 해 보자.  함수를 수정한 후에는 어떻게 되는가?\n",
        "\n"
      ]
    },
    {
      "cell_type": "code",
      "execution_count": null,
      "metadata": {
        "id": "0uaRd3-mXzUH"
      },
      "outputs": [],
      "source": [
        "import import_this\n",
        "import imp\n",
        "imp.reload(import_this)\n",
        "\n",
        "print(import_this.three_times('a'))\n",
        "\n"
      ]
    },
    {
      "cell_type": "markdown",
      "metadata": {
        "id": "Gr5SHOXxXzUI"
      },
      "source": [
        "Any changes after first `import`?<br>처음 `import` 한 후 바뀐 것이 있는가?\n",
        "\n"
      ]
    },
    {
      "cell_type": "code",
      "execution_count": null,
      "metadata": {
        "id": "RULP7emxXzUI"
      },
      "outputs": [],
      "source": [
        "%ls\n"
      ]
    },
    {
      "cell_type": "markdown",
      "metadata": {
        "id": "Hylti_IiXzUI"
      },
      "source": [
        "What's in the `__pycache__` folder?<br>\n",
        "`__pycache__` 폴더의 내용은?\n",
        "\n"
      ]
    },
    {
      "cell_type": "code",
      "execution_count": null,
      "metadata": {
        "id": "_lTOFobbXzUI"
      },
      "outputs": [],
      "source": [
        "%ls __pycache__/\n",
        "\n"
      ]
    },
    {
      "cell_type": "markdown",
      "metadata": {
        "id": "MEOzHso3XzUI"
      },
      "source": [
        "다른 이름으로 불러올 수도 있다.<br>We may assign the name of the module to a different name.\n",
        "\n"
      ]
    },
    {
      "cell_type": "code",
      "execution_count": null,
      "metadata": {
        "id": "NCxnllWJXzUI"
      },
      "outputs": [],
      "source": [
        "import import_this as it\n",
        "\n",
        "print(it.three_times('a'))\n",
        "\n"
      ]
    },
    {
      "cell_type": "markdown",
      "metadata": {
        "id": "RK5lb7IbXzUI"
      },
      "source": [
        "`import` 하여 사용할 수 있는 다른사람들이 제공해 준 파일들도 많이 있다.<br>\n",
        "We may `import` numerous files by generous contributors.\n",
        "\n"
      ]
    },
    {
      "cell_type": "code",
      "execution_count": null,
      "metadata": {
        "id": "9kuGjdp9XzUI"
      },
      "outputs": [],
      "source": [
        "# 아래 os 모듈은 운영체제 관련 기능을 담고 있다.\n",
        "# Following os module includes many features related to operating systems\n",
        "import os\n",
        "\n",
        "# 예를 들어 현재 폴더에 포함된 파일의 목록은 다음과 같이 알 수 있다.\n",
        "# For example, we may obtain a list of files in the current folder\n",
        "os.listdir()\n",
        "\n"
      ]
    },
    {
      "cell_type": "markdown",
      "metadata": {
        "id": "DJhGDMQ4XzUI"
      },
      "source": [
        "현재 폴더에 `import_this.py` 파일이 포함되어 있는가?<br>\n",
        "Does the current folder have the `import_this.py` file?\n",
        "\n"
      ]
    },
    {
      "cell_type": "code",
      "execution_count": null,
      "metadata": {
        "id": "UEUz7aaqXzUI"
      },
      "outputs": [],
      "source": [
        "\"import_this.py\" in os.listdir()\n",
        "\n"
      ]
    },
    {
      "cell_type": "markdown",
      "metadata": {
        "id": "zRuiVtkXXzUI"
      },
      "source": [
        "어떤 파일을 삭제할 수도 있다.<br>\n",
        "We may delete an existing file.\n",
        "\n"
      ]
    },
    {
      "cell_type": "code",
      "execution_count": null,
      "metadata": {
        "id": "xRvHHuWhXzUI"
      },
      "outputs": [],
      "source": [
        "if \"import_this.py\" in os.listdir():\n",
        "    os.remove(\"import_this.py\")\n",
        "\n"
      ]
    },
    {
      "cell_type": "code",
      "execution_count": null,
      "metadata": {
        "id": "JJUHNIwYXzUI"
      },
      "outputs": [],
      "source": [
        "os.listdir()\n",
        "\n"
      ]
    },
    {
      "cell_type": "code",
      "execution_count": null,
      "metadata": {
        "id": "Pm2GJZh8XzUI"
      },
      "outputs": [],
      "source": [
        "\"import_this.py\" in os.listdir()\n",
        "\n"
      ]
    },
    {
      "cell_type": "code",
      "execution_count": null,
      "metadata": {
        "id": "NMr8mL9IXzUI"
      },
      "outputs": [],
      "source": [
        "\"sample.txt\" in os.listdir()\n",
        "\n"
      ]
    },
    {
      "cell_type": "code",
      "execution_count": null,
      "metadata": {
        "id": "MV3eKqwDXzUI"
      },
      "outputs": [],
      "source": [
        "if \"sample.txt\" in os.listdir():\n",
        "    os.remove(\"sample.txt\")\n",
        "\n"
      ]
    },
    {
      "cell_type": "code",
      "execution_count": null,
      "metadata": {
        "id": "cPILJoVCXzUJ"
      },
      "outputs": [],
      "source": [
        "os.listdir()\n",
        "\n"
      ]
    },
    {
      "cell_type": "code",
      "execution_count": null,
      "metadata": {
        "id": "29hbQOWIXzUJ"
      },
      "outputs": [],
      "source": [
        "\"sample.txt\" in os.listdir()\n",
        "\n"
      ]
    },
    {
      "cell_type": "markdown",
      "metadata": {
        "id": "X1y-QD25XzUJ"
      },
      "source": [
        "## 소프트웨어 시험 함수<br>Software Test Functions\n",
        "\n"
      ]
    },
    {
      "cell_type": "markdown",
      "metadata": {
        "id": "PVhJhX5jXzUJ"
      },
      "source": [
        "모든 소프트웨어는 예상 대로 작동하는지 확인해야 한다.<br>\n",
        "We must verify all code lines work as we expect.\n",
        "\n"
      ]
    },
    {
      "cell_type": "markdown",
      "metadata": {
        "id": "CN4WoA9vXzUJ"
      },
      "source": [
        "예를 들어 아래와 같은 함수를 생각해 보자.<br>\n",
        "Let's think about a function as follows.\n",
        "\n"
      ]
    },
    {
      "cell_type": "code",
      "execution_count": null,
      "metadata": {
        "id": "DDEKn4rsXzUJ"
      },
      "outputs": [],
      "source": [
        "def add(a, b):\n",
        "    return a + b\n",
        "\n"
      ]
    },
    {
      "cell_type": "markdown",
      "metadata": {
        "id": "uebzM4NYXzUJ"
      },
      "source": [
        "아래는 위 함수가 맞게 작성되었는지 확인한다.<br>Following is a test function.\n",
        "\n"
      ]
    },
    {
      "cell_type": "code",
      "execution_count": null,
      "metadata": {
        "id": "DU1QGQ49XzUJ"
      },
      "outputs": [],
      "source": [
        "def test_add():\n",
        "    # 논리식이 참이 아니면 assert 문은 AssertionError 오류를 발생시키며 ',' 뒤의 메시지를 보여 줄 것이다.\n",
        "    # If the logical operation is not true, assert will raise AssertionError with the message after ','\n",
        "    assert 3 == add(1, 2), f\"add(1, 2) = {add(1, 2)} != 3\"\n",
        "\n"
      ]
    },
    {
      "cell_type": "markdown",
      "metadata": {
        "id": "oh0hG4wjXzUJ"
      },
      "source": [
        "시험 함수를 호출해 보자.<br>\n",
        "Let's call the test function.\n",
        "\n"
      ]
    },
    {
      "cell_type": "code",
      "execution_count": null,
      "metadata": {
        "id": "j3LjD5W_XzUJ"
      },
      "outputs": [],
      "source": [
        "test_add()\n",
        "\n"
      ]
    },
    {
      "cell_type": "markdown",
      "metadata": {
        "id": "OxodKEYFXzUJ"
      },
      "source": [
        "오류가 발생하지 않았다면 해당 함수가 위 시험은 통과한 것이다.<br>\n",
        "If no error message, we can see that the function passed the particular test.\n",
        "\n"
      ]
    },
    {
      "cell_type": "markdown",
      "metadata": {
        "id": "dJms9rw-XzUJ"
      },
      "source": [
        "`add()` 함수의 내용을 고의로 바꾸어 보자.<br>Let's intentionally change the `add()` function.\n",
        "\n"
      ]
    },
    {
      "cell_type": "code",
      "execution_count": null,
      "metadata": {
        "id": "m_VMynFgXzUJ"
      },
      "outputs": [],
      "source": [
        "def add(a, b):\n",
        "    return a - b\n",
        "\n"
      ]
    },
    {
      "cell_type": "code",
      "execution_count": null,
      "metadata": {
        "id": "596mtt4NXzUJ"
      },
      "outputs": [],
      "source": [
        "try:\n",
        "  test_add()\n",
        "except AssertionError as e:\n",
        "  print(e)\n",
        "  print(\"add() did not pass this time\")\n",
        "\n"
      ]
    },
    {
      "cell_type": "markdown",
      "metadata": {
        "id": "F_qe9CjAXzUJ"
      },
      "source": [
        "## 변수형 표시<br>Type Hints\n",
        "\n"
      ]
    },
    {
      "cell_type": "markdown",
      "metadata": {
        "id": "2XV3BgRPXzUJ"
      },
      "source": [
        "어떤 변수는 어떤 형일지 표시해 주는 기능이 있다.<br>\n",
        "Using type hints, we can take a note of types of variable.\n",
        "\n"
      ]
    },
    {
      "cell_type": "code",
      "execution_count": null,
      "metadata": {
        "id": "giVsNvYlXzUK"
      },
      "outputs": [],
      "source": [
        "def twice(x):\n",
        "    return 2 * x\n",
        "\n"
      ]
    },
    {
      "cell_type": "markdown",
      "metadata": {
        "id": "l997Jw9sXzUK"
      },
      "source": [
        "위 함수에 아래와 같이 type hint 를 추가할 수 있다.<br>\n",
        "We may add type hints to the function above as follows.\n",
        "\n"
      ]
    },
    {
      "cell_type": "code",
      "execution_count": null,
      "metadata": {
        "id": "4u9B7BnYXzUK"
      },
      "outputs": [],
      "source": [
        "def twice(x:int) -> int:\n",
        "    return 2 * x\n",
        "\n"
      ]
    },
    {
      "cell_type": "markdown",
      "metadata": {
        "id": "Pzt0s-vQXzUK"
      },
      "source": [
        "여기서, `x:int` 는 `x` 가 아마도 정수형일 것으로 예상된다는 뜻이다.<br>\n",
        "Here, `x:int` means that `x` would probably be an integer.\n",
        "\n"
      ]
    },
    {
      "cell_type": "markdown",
      "metadata": {
        "id": "nxnIL5prXzUK"
      },
      "source": [
        "또한, `-> int:` 는 해당 함수가 아마도 정수형을 반환할 것으로 예상된다는 뜻이다.<br>\n",
        "Also, `-> int:` means that the function would probably return an integer.\n",
        "\n"
      ]
    },
    {
      "cell_type": "markdown",
      "metadata": {
        "id": "SQIOhd-jXzUK"
      },
      "source": [
        "실행시 `x`는 정수가 아닐 수도 있다. 함수 `f()` 도 정수형이 아닌 값을 반환할 수도 있다.<br>\n",
        "During the runtime, `x` may not be an integer. The function `f()` may return a value which is not an integer.\n",
        "\n"
      ]
    },
    {
      "cell_type": "markdown",
      "metadata": {
        "id": "kJinYvWTXzUK"
      },
      "source": [
        "현재 변수형을 표시하는 까닭은 개발자와 통합개발환경을 위해서이다.<br>For now, type hints are for the developers and integrated development environments.\n",
        "\n"
      ]
    },
    {
      "cell_type": "markdown",
      "metadata": {
        "id": "EvQIdOXPXzUK"
      },
      "source": [
        "변수형 표시 기능을 확장하기 위해 `typing` 모듈을 사용할 수 있다.<br>\n",
        "To extend type hints, we may import `typing` module.\n",
        "\n"
      ]
    },
    {
      "cell_type": "markdown",
      "metadata": {
        "id": "d0trBJBaXzUK"
      },
      "source": [
        "예를 들어, `typing` 으로부터 `List`, `Tuple`, `Union` 을 import 할 수 있다.<br>For example, we may import `List`, `Tuple`, and `Union` from `typing`.\n",
        "\n"
      ]
    },
    {
      "cell_type": "code",
      "execution_count": null,
      "metadata": {
        "id": "oHvLtWYhXzUK"
      },
      "outputs": [],
      "source": [
        "from typing import List, Tuple, Union\n",
        "\n"
      ]
    },
    {
      "cell_type": "markdown",
      "metadata": {
        "id": "YciWBuNwXzUK"
      },
      "source": [
        "예상되는 `x`의 변수형이 여러가지라면, `Union` 으로 표시할 수 있다.<br>If `x` may be one of multiple types, `Union` may indicate them.\n",
        "\n"
      ]
    },
    {
      "cell_type": "code",
      "execution_count": null,
      "metadata": {
        "id": "l3OAscWuXzUK"
      },
      "outputs": [],
      "source": [
        "def g(x:Union[int, float, str]) -> Union[int, float, str]:\n",
        "    return 2 * x\n",
        "\n"
      ]
    },
    {
      "cell_type": "markdown",
      "metadata": {
        "id": "t5RyN2igXzUK"
      },
      "source": [
        "`List` 와 `Tuple`로 list 또는 tuple 의 항목의 변수형을 표시할 수 있다.<br>`List` or `Tuple` may indicate the types of items within a list or tuple.\n",
        "\n"
      ]
    },
    {
      "cell_type": "code",
      "execution_count": null,
      "metadata": {
        "id": "Ky1yLKIxXzUK"
      },
      "outputs": [],
      "source": [
        "def h(x:List[int], y:List[float]) -> Tuple[float]:\n",
        "    return x + y\n",
        "\n"
      ]
    },
    {
      "cell_type": "markdown",
      "metadata": {
        "id": "fcYEmTl5XzUK"
      },
      "source": [
        "자주 사용하는 변수형을 지정하여 사용하는 것도 가능하다.<br>We may assign frequently used types.\n",
        "\n"
      ]
    },
    {
      "cell_type": "code",
      "execution_count": null,
      "metadata": {
        "id": "aYhRyESAXzUL"
      },
      "outputs": [],
      "source": [
        "Scalar = Union[int, float]\n",
        "Vector = Union[List[Scalar], Tuple[Scalar]]\n",
        "Matrix = Union[List[Vector], Tuple[Vector]]\n",
        "\n"
      ]
    },
    {
      "cell_type": "code",
      "execution_count": null,
      "metadata": {
        "id": "3uj-qYwdXzUL"
      },
      "outputs": [],
      "source": [
        "def mat_times_scalar(a:Scalar, X:Matrix) -> Matrix:\n",
        "    result = []\n",
        "    for row in X:\n",
        "        new_row = []\n",
        "        result.append(new_row)\n",
        "        for x_ij in row:\n",
        "            new_row.append(x_ij * a)\n",
        "    return result\n",
        "\n"
      ]
    },
    {
      "cell_type": "markdown",
      "metadata": {
        "id": "5swOmpt5XzUL"
      },
      "source": [
        "## Final Bell<br>마지막 종\n",
        "\n"
      ]
    },
    {
      "cell_type": "code",
      "execution_count": null,
      "metadata": {
        "id": "4qP0h7w9XzUL"
      },
      "outputs": [],
      "source": [
        "# stackoverfow.com/a/24634221\n",
        "import os\n",
        "os.system(\"printf '\\a'\");\n",
        "\n"
      ]
    },
    {
      "cell_type": "code",
      "execution_count": null,
      "metadata": {
        "id": "EN739_vWXzUL"
      },
      "outputs": [],
      "source": []
    }
  ],
  "metadata": {
    "colab": {
      "provenance": [],
      "include_colab_link": true
    },
    "kernelspec": {
      "display_name": "Python 3 (ipykernel)",
      "language": "python",
      "name": "python3"
    },
    "language_info": {
      "codemirror_mode": {
        "name": "ipython",
        "version": 3
      },
      "file_extension": ".py",
      "mimetype": "text/x-python",
      "name": "python",
      "nbconvert_exporter": "python",
      "pygments_lexer": "ipython3",
      "version": "3.10.10"
    }
  },
  "nbformat": 4,
  "nbformat_minor": 0
}