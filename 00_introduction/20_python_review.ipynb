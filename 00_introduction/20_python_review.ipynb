{
 "cells": [
  {
   "cell_type": "markdown",
   "metadata": {
    "id": "view-in-github",
    "colab_type": "text"
   },
   "source": [
    "<a href=\"https://colab.research.google.com/github/kangwonlee/nmisp/blob/main/00_introduction/20_python_review.ipynb\" target=\"_parent\"><img src=\"https://colab.research.google.com/assets/colab-badge.svg\" alt=\"Open In Colab\"/></a>\n"
   ]
  },
  {
   "cell_type": "markdown",
   "metadata": {},
   "source": [
    "# 파이썬 프로그래밍 언어<br>Python Programming Language\n",
    "\n"
   ]
  },
  {
   "cell_type": "markdown",
   "metadata": {},
   "source": [
    "## `print(\"abc\")`\n",
    "\n"
   ]
  },
  {
   "cell_type": "markdown",
   "metadata": {},
   "source": [
    "* To print something on the screen, call function `print()`<br>`print()` 함수를 호출하여 화면에 표시\n",
    "* Arguments of the functions are between `(` and `)`<br>`(` 와 `)`의 사이는 함수의 매개변수\n",
    "* Arguments influence how the function behaves<br>매개변수는 함수의 거동에 영향을 미침\n",
    "* Recall function $f(x)=x^2$ of the math<br>수학의 함수 $f(x)=x^2$ 와 비슷\n",
    "\n"
   ]
  },
  {
   "cell_type": "code",
   "execution_count": 1,
   "metadata": {
    "outputId": "3a0d6c5a-7a7a-4029-f949-f542a268ca81",
    "colab": {
     "base_uri": "https://localhost:8080/"
    }
   },
   "outputs": [
    {
     "output_type": "stream",
     "name": "stdout",
     "text": "string literal\n"
    }
   ],
   "source": [
    "print(\"string literal\")\n",
    "\n"
   ]
  },
  {
   "cell_type": "code",
   "execution_count": 2,
   "metadata": {
    "outputId": "ad7746e1-306c-49ac-aeff-6facb1349106",
    "colab": {
     "base_uri": "https://localhost:8080/"
    }
   },
   "outputs": [
    {
     "output_type": "stream",
     "name": "stdout",
     "text": "문자열 상수\n"
    }
   ],
   "source": [
    "print(\"문자열 상수\")\n",
    "\n"
   ]
  },
  {
   "cell_type": "code",
   "execution_count": 3,
   "metadata": {
    "outputId": "b1974938-d067-497b-fd9c-3a00114d268f",
    "colab": {
     "base_uri": "https://localhost:8080/"
    }
   },
   "outputs": [
    {
     "output_type": "stream",
     "name": "stdout",
     "text": "3\n"
    }
   ],
   "source": [
    "print(1 + 2)\n",
    "\n"
   ]
  },
  {
   "cell_type": "markdown",
   "metadata": {},
   "source": [
    "What operation does `/` do ?<br>`/`연산자는 어떤 연산을 수행하는가?<br>What are the differences between `/` and `//` ?<br>`/` 와 `//` 연산자의 차이점은?\n"
   ]
  },
  {
   "cell_type": "code",
   "execution_count": 4,
   "metadata": {
    "outputId": "c287f40b-6cec-4fb3-9c06-e27b6d660249",
    "colab": {
     "base_uri": "https://localhost:8080/"
    }
   },
   "outputs": [
    {
     "output_type": "stream",
     "name": "stdout",
     "text": "60 divide by 2 equals 30.0\n"
    },
    {
     "output_type": "execute_result",
     "data": {
      "text/plain": "30"
     },
     "metadata": {},
     "execution_count": 4
    }
   ],
   "source": [
    "print(\"60 divide by 2 equals\", 60 / 2)\n",
    "60 // 2 # last result of this cell 이 셀의 마지막 결과\n",
    "# Comment 주석문\n",
    "# <- phrases after this symbol are for readers; python would ignore\n",
    "# <- 이 기호 뒤는 읽는 사람을 위한 것으로 파이썬은 무시\n",
    "\n"
   ]
  },
  {
   "cell_type": "code",
   "execution_count": 5,
   "metadata": {
    "outputId": "7e42eb50-68fd-4929-c4cf-0ec4c742d279",
    "colab": {
     "base_uri": "https://localhost:8080/"
    }
   },
   "outputs": [
    {
     "output_type": "stream",
     "name": "stdout",
     "text": "24.0 24\n"
    }
   ],
   "source": [
    "print(48/2, 48//2)\n",
    "\n"
   ]
  },
  {
   "cell_type": "code",
   "execution_count": 6,
   "metadata": {
    "outputId": "f28645b0-6a17-4fc6-87fc-1a1428ea3cd9",
    "colab": {
     "base_uri": "https://localhost:8080/"
    }
   },
   "outputs": [
    {
     "output_type": "stream",
     "name": "stdout",
     "text": "22 22.5\n"
    }
   ],
   "source": [
    "print(45//2, 45/2)\n",
    "\n"
   ]
  },
  {
   "cell_type": "code",
   "source": [],
   "metadata": {},
   "execution_count": 6,
   "outputs": []
  },
  {
   "cell_type": "code",
   "execution_count": 7,
   "metadata": {
    "outputId": "714d3584-fb40-4127-df61-c6cd46c729b7",
    "colab": {
     "base_uri": "https://localhost:8080/"
    }
   },
   "outputs": [
    {
     "output_type": "stream",
     "name": "stdout",
     "text": "8 8.25\n"
    }
   ],
   "source": [
    "print(33//4, 33/4)\n",
    "\n"
   ]
  },
  {
   "cell_type": "code",
   "execution_count": 8,
   "metadata": {
    "outputId": "c7db010b-3cd8-4e65-be50-c7ef69218cfa",
    "colab": {
     "base_uri": "https://localhost:8080/"
    }
   },
   "outputs": [
    {
     "output_type": "stream",
     "name": "stdout",
     "text": "3.3333333333333335\n##123456789012345678901234567890\n"
    }
   ],
   "source": [
    "print(10/3)\n",
    "# How many digits below decimal points?\n",
    "# 소숫점 아래 몇자리 까지?\n",
    "print(\"##123456789012345678901234567890\")\n",
    "\n"
   ]
  },
  {
   "cell_type": "code",
   "execution_count": 9,
   "metadata": {
    "outputId": "45ead5de-a305-4c8d-8b04-47091f82eacd",
    "colab": {
     "base_uri": "https://localhost:8080/"
    }
   },
   "outputs": [
    {
     "output_type": "execute_result",
     "data": {
      "text/plain": "3"
     },
     "metadata": {},
     "execution_count": 9
    }
   ],
   "source": [
    "10//3\n",
    "\n"
   ]
  },
  {
   "cell_type": "markdown",
   "metadata": {},
   "source": [
    "What about `%` or `**` ?<br>`%` 나 `**` 는 어떠한가?\n",
    "\n"
   ]
  },
  {
   "cell_type": "code",
   "execution_count": 10,
   "metadata": {
    "outputId": "64fd19b5-80b9-4d20-b4f5-e6b9a8e5616c",
    "colab": {
     "base_uri": "https://localhost:8080/"
    }
   },
   "outputs": [
    {
     "output_type": "execute_result",
     "data": {
      "text/plain": "(1, 2, 0)"
     },
     "metadata": {},
     "execution_count": 10
    }
   ],
   "source": [
    "10 % 3, 11 % 3, 12 % 3\n",
    "\n"
   ]
  },
  {
   "cell_type": "code",
   "execution_count": 11,
   "metadata": {
    "outputId": "969abab3-798e-4db5-fc16-118042232dc5",
    "colab": {
     "base_uri": "https://localhost:8080/"
    }
   },
   "outputs": [
    {
     "output_type": "execute_result",
     "data": {
      "text/plain": "(2, 0, 4)"
     },
     "metadata": {},
     "execution_count": 11
    }
   ],
   "source": [
    "10 % 4, 10 % 5, 10 % 6\n",
    "\n"
   ]
  },
  {
   "cell_type": "code",
   "execution_count": 12,
   "metadata": {
    "outputId": "d0797924-7bb5-443d-d0d6-25538282365e",
    "colab": {
     "base_uri": "https://localhost:8080/"
    }
   },
   "outputs": [
    {
     "output_type": "execute_result",
     "data": {
      "text/plain": "9"
     },
     "metadata": {},
     "execution_count": 12
    }
   ],
   "source": [
    "(10 // 3) * 3\n",
    "\n"
   ]
  },
  {
   "cell_type": "code",
   "execution_count": 13,
   "metadata": {
    "outputId": "e3c08b81-1065-431a-a204-11de1f8da8cf",
    "colab": {
     "base_uri": "https://localhost:8080/"
    }
   },
   "outputs": [
    {
     "output_type": "execute_result",
     "data": {
      "text/plain": "10"
     },
     "metadata": {},
     "execution_count": 13
    }
   ],
   "source": [
    "(10 // 3) * 3 + (10 % 3)\n",
    "\n"
   ]
  },
  {
   "cell_type": "code",
   "execution_count": 14,
   "metadata": {
    "outputId": "c5a6474a-a1ea-47df-cfbb-c4f212cfb6fc",
    "colab": {
     "base_uri": "https://localhost:8080/"
    }
   },
   "outputs": [
    {
     "output_type": "execute_result",
     "data": {
      "text/plain": "(2.0, 2.8)"
     },
     "metadata": {},
     "execution_count": 14
    }
   ],
   "source": [
    "10 // 3.6, 10 % 3.6\n",
    "\n"
   ]
  },
  {
   "cell_type": "code",
   "execution_count": 15,
   "metadata": {
    "outputId": "7eaa59f1-3938-4237-eb90-c8a22b63f798",
    "colab": {
     "base_uri": "https://localhost:8080/"
    }
   },
   "outputs": [
    {
     "output_type": "stream",
     "name": "stdout",
     "text": "2 ** 6 = 64\n3 ** 3 = 27\n"
    }
   ],
   "source": [
    "2 ** 5 # Can you see the result of this operation? 이 연산의 결과를 볼 수 있는가?\n",
    "print(\"2 ** 6 =\", 2 ** 6)\n",
    "print(\"3 ** 3 =\", 3 ** 3)\n",
    "\n"
   ]
  },
  {
   "cell_type": "markdown",
   "source": [
    "For more operators of python, please see :<br>파이썬에서 사용되는 연산자 목록 :<br>https://docs.python.org/3/library/operator.html\n",
    "\n"
   ],
   "metadata": {}
  },
  {
   "cell_type": "markdown",
   "metadata": {},
   "source": [
    "Numeric literals with `_` for readability<br>가독성을 위해 숫자 상수 표시에 `_` 사용\n",
    "\n"
   ]
  },
  {
   "cell_type": "code",
   "execution_count": 16,
   "metadata": {
    "outputId": "850bee41-a681-426a-a22f-57ced9787ed6",
    "colab": {
     "base_uri": "https://localhost:8080/"
    }
   },
   "outputs": [
    {
     "output_type": "execute_result",
     "data": {
      "text/plain": "20000000"
     },
     "metadata": {},
     "execution_count": 16
    }
   ],
   "source": [
    "10_000_000 * 2\n",
    "\n"
   ]
  },
  {
   "cell_type": "code",
   "execution_count": 17,
   "metadata": {
    "outputId": "6efb224d-9471-4963-ee81-d4adf28d1385",
    "colab": {
     "base_uri": "https://localhost:8080/"
    }
   },
   "outputs": [
    {
     "output_type": "execute_result",
     "data": {
      "text/plain": "2e-05"
     },
     "metadata": {},
     "execution_count": 17
    }
   ],
   "source": [
    "0.000_010 * 2\n",
    "\n"
   ]
  },
  {
   "cell_type": "markdown",
   "metadata": {},
   "source": [
    "## 변수<br>Variables\n",
    "\n"
   ]
  },
  {
   "cell_type": "code",
   "execution_count": 18,
   "metadata": {
    "outputId": "01587300-4465-43e7-a922-5db137d6992e",
    "colab": {
     "base_uri": "https://localhost:8080/"
    }
   },
   "outputs": [
    {
     "output_type": "execute_result",
     "data": {
      "text/plain": "2e-05"
     },
     "metadata": {},
     "execution_count": 18
    }
   ],
   "source": [
    "_17\n"
   ]
  },
  {
   "cell_type": "markdown",
   "metadata": {},
   "source": [
    "### Integers<br>정수\n",
    "\n"
   ]
  },
  {
   "cell_type": "code",
   "execution_count": 19,
   "metadata": {},
   "outputs": [],
   "source": [
    "a = 1\n",
    "\n"
   ]
  },
  {
   "cell_type": "markdown",
   "metadata": {},
   "source": [
    "여기서 `=` 을 *할당 연산자* 라고 한다.<br>Here, we call `=` an *assignment operator*.\n"
   ]
  },
  {
   "cell_type": "markdown",
   "metadata": {},
   "source": [
    "The phrase `a = 1` directs python to prepare a storage, store an integer 1, and label the storage as `a`.<br>\n",
    "위 문장 `a = 1`의 의미는<br>파이썬에게 구두상자를 하나 준비해서 그 안에 정수 1을 넣고<br>구두상자에 `a`라는 이름표를 붙이라는 뜻<br>\n",
    "Now we have variable `a` containing integer `1`.<br>\n",
    "이렇게 해서 정수 `1`을 담은 변수 `a`가 생성\n"
   ]
  },
  {
   "cell_type": "markdown",
   "metadata": {},
   "source": [
    "We can inspect the content of the variable `a` as follows.<br>\n",
    "변수 `a`의 내용을 살펴 보고 싶으면 아래와 같이 가능\n"
   ]
  },
  {
   "cell_type": "code",
   "execution_count": 20,
   "metadata": {
    "outputId": "290a531c-a5dc-40ae-e026-fb57d24330ce",
    "colab": {
     "base_uri": "https://localhost:8080/"
    }
   },
   "outputs": [
    {
     "output_type": "execute_result",
     "data": {
      "text/plain": "1"
     },
     "metadata": {},
     "execution_count": 20
    }
   ],
   "source": [
    "a\n",
    "\n"
   ]
  },
  {
   "cell_type": "code",
   "execution_count": 21,
   "metadata": {
    "outputId": "e8d7c33c-7385-4e55-ebe2-6c99af12c8d0",
    "colab": {
     "base_uri": "https://localhost:8080/"
    }
   },
   "outputs": [
    {
     "output_type": "stream",
     "name": "stdout",
     "text": "a 안에 들어 있는 것은 1\n"
    }
   ],
   "source": [
    "print(\"a 안에 들어 있는 것은\", a)\n",
    "\n"
   ]
  },
  {
   "cell_type": "markdown",
   "metadata": {},
   "source": [
    "We can also make another variable `b` as follows.<br>또 다른 변수 `b`를 다음과 같이 생성할 수 있음\n"
   ]
  },
  {
   "cell_type": "code",
   "execution_count": 22,
   "metadata": {},
   "outputs": [],
   "source": [
    "b = 2\n",
    "\n"
   ]
  },
  {
   "cell_type": "code",
   "execution_count": 23,
   "metadata": {
    "outputId": "6230b6cc-68ef-4118-8c44-9a57336edfb1",
    "colab": {
     "base_uri": "https://localhost:8080/"
    }
   },
   "outputs": [
    {
     "output_type": "execute_result",
     "data": {
      "text/plain": "2"
     },
     "metadata": {},
     "execution_count": 23
    }
   ],
   "source": [
    "b\n",
    "\n"
   ]
  },
  {
   "cell_type": "markdown",
   "metadata": {},
   "source": [
    "We can add two variables, too.<br>\n",
    "이렇게 만든 두 변수의 값으로 연산도 할 수 있음\n"
   ]
  },
  {
   "cell_type": "code",
   "execution_count": 24,
   "metadata": {
    "outputId": "aa74b162-5cc7-40b9-fe3a-07df5f671a2e",
    "colab": {
     "base_uri": "https://localhost:8080/"
    }
   },
   "outputs": [
    {
     "output_type": "execute_result",
     "data": {
      "text/plain": "3"
     },
     "metadata": {},
     "execution_count": 24
    }
   ],
   "source": [
    "a + b\n",
    "\n"
   ]
  },
  {
   "cell_type": "markdown",
   "metadata": {},
   "source": [
    "### Strings<br>문자열\n",
    "\n"
   ]
  },
  {
   "cell_type": "code",
   "execution_count": 25,
   "metadata": {
    "outputId": "90b43836-5ce4-4734-ffd8-cf958e369cce",
    "colab": {
     "base_uri": "https://localhost:8080/"
    }
   },
   "outputs": [
    {
     "output_type": "stream",
     "name": "stdout",
     "text": "c = 11\nd = 22\n"
    }
   ],
   "source": [
    "c = '11'\n",
    "print(\"c =\", c)\n",
    "d = \"22\"\n",
    "print(\"d =\", d)\n",
    "\n"
   ]
  },
  {
   "cell_type": "markdown",
   "metadata": {},
   "source": [
    "What is the result of the following cell?<br>\n",
    "아래 행의 결과는?\n",
    "\n"
   ]
  },
  {
   "cell_type": "code",
   "execution_count": 26,
   "metadata": {
    "outputId": "979826a1-e2de-46f8-e223-3f55e89ade55",
    "colab": {
     "base_uri": "https://localhost:8080/"
    }
   },
   "outputs": [
    {
     "output_type": "stream",
     "name": "stdout",
     "text": "c + d = 1122\n"
    }
   ],
   "source": [
    "print(\"c + d =\", c+d)\n",
    "\n"
   ]
  },
  {
   "cell_type": "code",
   "execution_count": 27,
   "metadata": {
    "outputId": "34694eb8-36ae-4480-a2f3-06a6a606261b",
    "colab": {
     "base_uri": "https://localhost:8080/"
    }
   },
   "outputs": [
    {
     "output_type": "stream",
     "name": "stdout",
     "text": "abc가나다\n"
    }
   ],
   "source": [
    "cc = 'abc'\n",
    "dd = '가나다'\n",
    "print(cc + dd)\n",
    "\n"
   ]
  },
  {
   "cell_type": "markdown",
   "metadata": {},
   "source": [
    "In Python, the results of integer `+` integer and string `+` string would be different.<br>파이썬에서는 + 연산의 대상이 정수 정수인지 아니면 문자열 문자열인지에 따라 결과가 달라짐.\n"
   ]
  },
  {
   "cell_type": "code",
   "execution_count": 28,
   "metadata": {
    "outputId": "23060ba7-cb51-48d2-8242-d17bb80b9a0f",
    "colab": {
     "base_uri": "https://localhost:8080/"
    }
   },
   "outputs": [
    {
     "output_type": "execute_result",
     "data": {
      "text/plain": "492"
     },
     "metadata": {},
     "execution_count": 28
    }
   ],
   "source": [
    "aaa = 123\n",
    "bbb = 4\n",
    "aaa * bbb\n",
    "\n"
   ]
  },
  {
   "cell_type": "code",
   "execution_count": 29,
   "metadata": {
    "outputId": "55fa36cb-7d04-4a29-8929-cc3bf59501f4",
    "colab": {
     "base_uri": "https://localhost:8080/",
     "height": 35
    }
   },
   "outputs": [
    {
     "output_type": "execute_result",
     "data": {
      "text/plain": "'123123123123'",
      "application/vnd.google.colaboratory.intrinsic+json": {
       "type": "string"
      }
     },
     "metadata": {},
     "execution_count": 29
    }
   ],
   "source": [
    "ccc = \"123\"\n",
    "ddd = 4\n",
    "ccc * ddd\n",
    "\n"
   ]
  },
  {
   "cell_type": "markdown",
   "metadata": {},
   "source": [
    "We can use `repr()` to check whether a variable contains a string or an integer<br>\n",
    "`repr()` 로 어떤 변수가 문자열을 담고 있는지 아니면 정수를 담고 있는지 알 수 있음.\n",
    "\n"
   ]
  },
  {
   "cell_type": "code",
   "execution_count": 30,
   "metadata": {
    "outputId": "1111ab51-a38a-43c9-9d02-23dd45e253eb",
    "colab": {
     "base_uri": "https://localhost:8080/"
    }
   },
   "outputs": [
    {
     "output_type": "stream",
     "name": "stdout",
     "text": "cc = 11\ncc = '11'\ndd = 22\ndd = 22\n"
    }
   ],
   "source": [
    "cc = \"11\"\n",
    "print(\"cc =\", str(cc))\n",
    "print(\"cc =\", repr(cc))\n",
    "\n",
    "dd = 22\n",
    "print(\"dd =\", str(dd))\n",
    "print(\"dd =\", repr(dd))\n",
    "\n"
   ]
  },
  {
   "cell_type": "markdown",
   "metadata": {},
   "source": [
    "### Complex numbers<br>복소수\n",
    "\n"
   ]
  },
  {
   "cell_type": "code",
   "execution_count": 31,
   "metadata": {
    "outputId": "25551965-bbdf-4334-844b-ee9b7535f382",
    "colab": {
     "base_uri": "https://localhost:8080/"
    }
   },
   "outputs": [
    {
     "output_type": "execute_result",
     "data": {
      "text/plain": "(6.123233995736766e-17+1j)"
     },
     "metadata": {},
     "execution_count": 31
    }
   ],
   "source": [
    "a = (-1) ** (0.5)\n",
    "a\n",
    "\n"
   ]
  },
  {
   "cell_type": "markdown",
   "metadata": {},
   "source": [
    "Real part 실수부\n",
    "\n"
   ]
  },
  {
   "cell_type": "code",
   "execution_count": 32,
   "metadata": {
    "outputId": "2b4f9e23-7dca-4f7d-85a7-8562d00fdae0",
    "colab": {
     "base_uri": "https://localhost:8080/"
    }
   },
   "outputs": [
    {
     "output_type": "execute_result",
     "data": {
      "text/plain": "6.123233995736766e-17"
     },
     "metadata": {},
     "execution_count": 32
    }
   ],
   "source": [
    "a.real\n",
    "\n"
   ]
  },
  {
   "cell_type": "markdown",
   "metadata": {},
   "source": [
    "Imaginary part 허수부\n",
    "\n"
   ]
  },
  {
   "cell_type": "code",
   "execution_count": 33,
   "metadata": {
    "outputId": "2196d3e8-2513-4dc1-d2d9-b42c7704248a",
    "colab": {
     "base_uri": "https://localhost:8080/"
    }
   },
   "outputs": [
    {
     "output_type": "execute_result",
     "data": {
      "text/plain": "1.0"
     },
     "metadata": {},
     "execution_count": 33
    }
   ],
   "source": [
    "a.imag\n",
    "\n"
   ]
  },
  {
   "cell_type": "code",
   "execution_count": 34,
   "metadata": {
    "outputId": "688a49c9-7fee-4d76-f61d-6a0046e34bd9",
    "colab": {
     "base_uri": "https://localhost:8080/"
    }
   },
   "outputs": [
    {
     "output_type": "execute_result",
     "data": {
      "text/plain": "(6+9j)"
     },
     "metadata": {},
     "execution_count": 34
    }
   ],
   "source": [
    "a = 2 + 3j\n",
    "b = 3\n",
    "c = a * b\n",
    "c\n",
    "\n"
   ]
  },
  {
   "cell_type": "code",
   "execution_count": 35,
   "metadata": {
    "outputId": "b6d74ba1-3de7-465f-a925-4051cd587ccd",
    "colab": {
     "base_uri": "https://localhost:8080/"
    }
   },
   "outputs": [
    {
     "output_type": "execute_result",
     "data": {
      "text/plain": "6.0"
     },
     "metadata": {},
     "execution_count": 35
    }
   ],
   "source": [
    "# c의 실수부\n",
    "c.real\n",
    "\n"
   ]
  },
  {
   "cell_type": "code",
   "execution_count": 36,
   "metadata": {
    "outputId": "13ca75bd-1adc-4334-e671-22e5b01f32fc",
    "colab": {
     "base_uri": "https://localhost:8080/"
    }
   },
   "outputs": [
    {
     "output_type": "execute_result",
     "data": {
      "text/plain": "9.0"
     },
     "metadata": {},
     "execution_count": 36
    }
   ],
   "source": [
    "# c의 허수부\n",
    "c.imag\n",
    "\n"
   ]
  },
  {
   "cell_type": "markdown",
   "metadata": {},
   "source": [
    "conjugate complex number 켤레복소수\n",
    "\n"
   ]
  },
  {
   "cell_type": "code",
   "execution_count": 37,
   "metadata": {
    "outputId": "c2ad375c-62c7-4ca3-9663-90da25270d55",
    "colab": {
     "base_uri": "https://localhost:8080/"
    }
   },
   "outputs": [
    {
     "output_type": "execute_result",
     "data": {
      "text/plain": "(29+0j)"
     },
     "metadata": {},
     "execution_count": 37
    }
   ],
   "source": [
    "a = 5 + 2j\n",
    "b = 5 - 2j\n",
    "a * b\n",
    "\n"
   ]
  },
  {
   "cell_type": "markdown",
   "metadata": {},
   "source": [
    "## 문자열 내삽<br>String interpolation\n",
    "\n"
   ]
  },
  {
   "cell_type": "markdown",
   "source": [
    "Sometimes it is necessary to indicate information in a specific format.<br>때로 정보를 특정 형식에 맞추어 표시할 필요가 있다.\n",
    "\n"
   ],
   "metadata": {}
  },
  {
   "cell_type": "code",
   "source": [
    "print(\"result =\", 10/3, \"mm\")\n",
    "\n"
   ],
   "metadata": {
    "outputId": "07254055-c8e8-4d3a-ac51-10fbc981d633",
    "colab": {
     "base_uri": "https://localhost:8080/"
    }
   },
   "execution_count": 38,
   "outputs": [
    {
     "output_type": "stream",
     "name": "stdout",
     "text": "result = 3.3333333333333335 mm\n"
    }
   ]
  },
  {
   "cell_type": "code",
   "source": [
    "print(f\"result = {10/3:.4f} mm\")\n",
    "\n"
   ],
   "metadata": {
    "outputId": "189c8d8b-12db-4628-d8be-8b9793665047",
    "colab": {
     "base_uri": "https://localhost:8080/"
    }
   },
   "execution_count": 39,
   "outputs": [
    {
     "output_type": "stream",
     "name": "stdout",
     "text": "result = 3.3333 mm\n"
    }
   ]
  },
  {
   "cell_type": "markdown",
   "metadata": {},
   "source": [
    "### `%`\n",
    "\n"
   ]
  },
  {
   "cell_type": "code",
   "execution_count": 40,
   "metadata": {
    "outputId": "8a59f0f6-da4e-452c-c05b-a3f228e0955c",
    "colab": {
     "base_uri": "https://localhost:8080/"
    }
   },
   "outputs": [
    {
     "output_type": "stream",
     "name": "stdout",
     "text": "1 + 2 = 3\n"
    }
   ],
   "source": [
    "a = 1\n",
    "b = 2\n",
    "# 여기서 % 연산자의 역할은?\n",
    "print(\"%d + %d = %d\" % (a, b, a+b))\n",
    "\n"
   ]
  },
  {
   "cell_type": "code",
   "execution_count": 41,
   "metadata": {
    "outputId": "96593965-7a99-4b5a-e306-bce502c3c189",
    "colab": {
     "base_uri": "https://localhost:8080/",
     "height": 35
    }
   },
   "outputs": [
    {
     "output_type": "execute_result",
     "data": {
      "text/plain": "'1 + 2 = 3'",
      "application/vnd.google.colaboratory.intrinsic+json": {
       "type": "string"
      }
     },
     "metadata": {},
     "execution_count": 41
    }
   ],
   "source": [
    "\"%d + %d = %d\" % (a, b, a+b)\n",
    "\n"
   ]
  },
  {
   "cell_type": "markdown",
   "metadata": {},
   "source": [
    "What if `%` is missing?<br>`%`이 없다면?\n",
    "\n"
   ]
  },
  {
   "cell_type": "code",
   "execution_count": 42,
   "metadata": {
    "outputId": "412241a2-7641-4e65-bf47-e3e0e7c9c2a8",
    "colab": {
     "base_uri": "https://localhost:8080/"
    }
   },
   "outputs": [
    {
     "output_type": "stream",
     "name": "stdout",
     "text": "%d + %d = %d (1, 2, 3)\n"
    }
   ],
   "source": [
    "a = 1\n",
    "b = 2\n",
    "print(\"%d + %d = %d\" , (a, b, a+b))\n",
    "\n"
   ]
  },
  {
   "cell_type": "markdown",
   "metadata": {},
   "source": [
    "C code example<br>\n",
    "C code 예제\n",
    "\n"
   ]
  },
  {
   "cell_type": "code",
   "execution_count": 43,
   "metadata": {
    "outputId": "b027e2c0-79bc-425f-987c-28e9c8b5428d",
    "colab": {
     "base_uri": "https://localhost:8080/"
    }
   },
   "outputs": [
    {
     "output_type": "stream",
     "name": "stdout",
     "text": "Writing hello.c\n"
    }
   ],
   "source": [
    "%%writefile hello.c\n",
    "#include <stdio.h>\n",
    "\n",
    "void main()\n",
    "{\n",
    "\tint a = 1;\n",
    "\tconst int b = 2;\n",
    "\tprintf(\"%d + %d = %d\\n\", a, b, a+b);\n",
    "}\n",
    "\n"
   ]
  },
  {
   "cell_type": "code",
   "execution_count": 44,
   "metadata": {
    "outputId": "4ec6135d-c4ab-480e-8a8b-bb378d7b001f",
    "colab": {
     "base_uri": "https://localhost:8080/"
    }
   },
   "outputs": [
    {
     "output_type": "stream",
     "name": "stdout",
     "text": "00000000  23 69 6e 63 6c 75 64 65  20 3c 73 74 64 69 6f 2e  |#include <stdio.|\n00000010  68 3e 0a 0a 76 6f 69 64  20 6d 61 69 6e 28 29 0a  |h>..void main().|\n00000020  7b 0a 09 69 6e 74 20 61  20 3d 20 31 3b 0a 09 63  |{..int a = 1;..c|\n00000030  6f 6e 73 74 20 69 6e 74  20 62 20 3d 20 32 3b 0a  |onst int b = 2;.|\n00000040  09 70 72 69 6e 74 66 28  22 25 64 20 2b 20 25 64  |.printf(\"%d + %d|\n00000050  20 3d 20 25 64 5c 6e 22  2c 20 61 2c 20 62 2c 20  | = %d\\n\", a, b, |\n00000060  61 2b 62 29 3b 0a 7d 0a  0a                       |a+b);.}..|\n00000069\n"
    }
   ],
   "source": [
    "!hexdump -C hello.c\n"
   ]
  },
  {
   "cell_type": "markdown",
   "metadata": {},
   "source": [
    "Complile : generate the machine code in binary numbers<br>\n",
    " 컴파일 : 이진수로 된 기계어 코드 생성\n",
    "\n"
   ]
  },
  {
   "cell_type": "code",
   "execution_count": 45,
   "metadata": {},
   "outputs": [],
   "source": [
    "!gcc hello.c\n",
    "\n"
   ]
  },
  {
   "cell_type": "markdown",
   "metadata": {},
   "source": [
    "Running the binary code<br>이진 코드 실행\n",
    "\n"
   ]
  },
  {
   "cell_type": "code",
   "execution_count": 46,
   "metadata": {
    "outputId": "9fe71dcf-0dc5-49b9-978c-bbd2d4741240",
    "colab": {
     "base_uri": "https://localhost:8080/"
    }
   },
   "outputs": [
    {
     "output_type": "stream",
     "name": "stdout",
     "text": "1 + 2 = 3\n"
    }
   ],
   "source": [
    "!./a.out\n",
    "\n"
   ]
  },
  {
   "cell_type": "code",
   "execution_count": 47,
   "metadata": {
    "outputId": "095052c6-3c40-4920-8fd7-c60137d5a360",
    "colab": {
     "base_uri": "https://localhost:8080/"
    }
   },
   "outputs": [
    {
     "output_type": "stream",
     "name": "stdout",
     "text": "00000000  7f 45 4c 46 02 01 01 00  00 00 00 00 00 00 00 00  |.ELF............|\n00000010  03 00 3e 00 01 00 00 00  60 10 00 00 00 00 00 00  |..>.....`.......|\n00000020  40 00 00 00 00 00 00 00  98 36 00 00 00 00 00 00  |@........6......|\n00000030  00 00 00 00 40 00 38 00  0d 00 40 00 1f 00 1e 00  |....@.8...@.....|\n00000040  06 00 00 00 04 00 00 00  40 00 00 00 00 00 00 00  |........@.......|\n00000050  40 00 00 00 00 00 00 00  40 00 00 00 00 00 00 00  |@.......@.......|\n00000060  d8 02 00 00 00 00 00 00  d8 02 00 00 00 00 00 00  |................|\n00000070  08 00 00 00 00 00 00 00  03 00 00 00 04 00 00 00  |................|\n00000080  18 03 00 00 00 00 00 00  18 03 00 00 00 00 00 00  |................|\n00000090  18 03 00 00 00 00 00 00  1c 00 00 00 00 00 00 00  |................|\n000000a0  1c 00 00 00 00 00 00 00  01 00 00 00 00 00 00 00  |................|\n000000b0  01 00 00 00 04 00 00 00  00 00 00 00 00 00 00 00  |................|\n000000c0  00 00 00 00 00 00 00 00  00 00 00 00 00 00 00 00  |................|\n000000d0  28 06 00 00 00 00 00 00  28 06 00 00 00 00 00 00  |(.......(.......|\n000000e0  00 10 00 00 00 00 00 00  01 00 00 00 05 00 00 00  |................|\n000000f0  00 10 00 00 00 00 00 00  00 10 00 00 00 00 00 00  |................|\n00000100  00 10 00 00 00 00 00 00  99 01 00 00 00 00 00 00  |................|\n00000110  99 01 00 00 00 00 00 00  00 10 00 00 00 00 00 00  |................|\n00000120  01 00 00 00 04 00 00 00  00 20 00 00 00 00 00 00  |......... ......|\n00000130  00 20 00 00 00 00 00 00  00 20 00 00 00 00 00 00  |. ....... ......|\n00000140  f4 00 00 00 00 00 00 00  f4 00 00 00 00 00 00 00  |................|\n00000150  00 10 00 00 00 00 00 00  01 00 00 00 06 00 00 00  |................|\n00000160  b8 2d 00 00 00 00 00 00  b8 3d 00 00 00 00 00 00  |.-.......=......|\n00000170  b8 3d 00 00 00 00 00 00  58 02 00 00 00 00 00 00  |.=......X.......|\n00000180  60 02 00 00 00 00 00 00  00 10 00 00 00 00 00 00  |`...............|\n00000190  02 00 00 00 06 00 00 00  c8 2d 00 00 00 00 00 00  |.........-......|\n000001a0  c8 3d 00 00 00 00 00 00  c8 3d 00 00 00 00 00 00  |.=.......=......|\n000001b0  f0 01 00 00 00 00 00 00  f0 01 00 00 00 00 00 00  |................|\n000001c0  08 00 00 00 00 00 00 00  04 00 00 00 04 00 00 00  |................|\n000001d0  38 03 00 00 00 00 00 00  38 03 00 00 00 00 00 00  |8.......8.......|\n000001e0  38 03 00 00 00 00 00 00  30 00 00 00 00 00 00 00  |8.......0.......|\n000001f0  30 00 00 00 00 00 00 00  08 00 00 00 00 00 00 00  |0...............|\n00000200  04 00 00 00 04 00 00 00  68 03 00 00 00 00 00 00  |........h.......|\n00000210  68 03 00 00 00 00 00 00  68 03 00 00 00 00 00 00  |h.......h.......|\n00000220  44 00 00 00 00 00 00 00  44 00 00 00 00 00 00 00  |D.......D.......|\n00000230  04 00 00 00 00 00 00 00  53 e5 74 64 04 00 00 00  |........S.td....|\n00000240  38 03 00 00 00 00 00 00  38 03 00 00 00 00 00 00  |8.......8.......|\n00000250  38 03 00 00 00 00 00 00  30 00 00 00 00 00 00 00  |8.......0.......|\n00000260  30 00 00 00 00 00 00 00  08 00 00 00 00 00 00 00  |0...............|\n00000270  50 e5 74 64 04 00 00 00  14 20 00 00 00 00 00 00  |P.td..... ......|\n00000280  14 20 00 00 00 00 00 00  14 20 00 00 00 00 00 00  |. ....... ......|\n00000290  34 00 00 00 00 00 00 00  34 00 00 00 00 00 00 00  |4.......4.......|\n000002a0  04 00 00 00 00 00 00 00  51 e5 74 64 06 00 00 00  |........Q.td....|\n000002b0  00 00 00 00 00 00 00 00  00 00 00 00 00 00 00 00  |................|\n*\n000002d0  00 00 00 00 00 00 00 00  10 00 00 00 00 00 00 00  |................|\n000002e0  52 e5 74 64 04 00 00 00  b8 2d 00 00 00 00 00 00  |R.td.....-......|\n000002f0  b8 3d 00 00 00 00 00 00  b8 3d 00 00 00 00 00 00  |.=.......=......|\n00000300  48 02 00 00 00 00 00 00  48 02 00 00 00 00 00 00  |H.......H.......|\n00000310  01 00 00 00 00 00 00 00  2f 6c 69 62 36 34 2f 6c  |......../lib64/l|\n00000320  64 2d 6c 69 6e 75 78 2d  78 38 36 2d 36 34 2e 73  |d-linux-x86-64.s|\n00000330  6f 2e 32 00 00 00 00 00  04 00 00 00 20 00 00 00  |o.2......... ...|\n00000340  05 00 00 00 47 4e 55 00  02 00 00 c0 04 00 00 00  |....GNU.........|\n00000350  03 00 00 00 00 00 00 00  02 80 00 c0 04 00 00 00  |................|\n00000360  01 00 00 00 00 00 00 00  04 00 00 00 14 00 00 00  |................|\n00000370  03 00 00 00 47 4e 55 00  50 be c6 cb 79 4d e4 86  |....GNU.P...yM..|\n00000380  8b f4 0d 07 01 94 31 e2  3e 8c 23 ff 04 00 00 00  |......1.>.#.....|\n00000390  10 00 00 00 01 00 00 00  47 4e 55 00 00 00 00 00  |........GNU.....|\n000003a0  03 00 00 00 02 00 00 00  00 00 00 00 00 00 00 00  |................|\n000003b0  02 00 00 00 06 00 00 00  01 00 00 00 06 00 00 00  |................|\n000003c0  00 00 81 00 00 00 00 00  06 00 00 00 00 00 00 00  |................|\n000003d0  d1 65 ce 6d 00 00 00 00  00 00 00 00 00 00 00 00  |.e.m............|\n000003e0  00 00 00 00 00 00 00 00  00 00 00 00 00 00 00 00  |................|\n000003f0  10 00 00 00 12 00 00 00  00 00 00 00 00 00 00 00  |................|\n00000400  00 00 00 00 00 00 00 00  4a 00 00 00 20 00 00 00  |........J... ...|\n00000410  00 00 00 00 00 00 00 00  00 00 00 00 00 00 00 00  |................|\n00000420  22 00 00 00 12 00 00 00  00 00 00 00 00 00 00 00  |\"...............|\n00000430  00 00 00 00 00 00 00 00  66 00 00 00 20 00 00 00  |........f... ...|\n00000440  00 00 00 00 00 00 00 00  00 00 00 00 00 00 00 00  |................|\n00000450  75 00 00 00 20 00 00 00  00 00 00 00 00 00 00 00  |u... ...........|\n00000460  00 00 00 00 00 00 00 00  01 00 00 00 22 00 00 00  |............\"...|\n00000470  00 00 00 00 00 00 00 00  00 00 00 00 00 00 00 00  |................|\n00000480  00 5f 5f 63 78 61 5f 66  69 6e 61 6c 69 7a 65 00  |.__cxa_finalize.|\n00000490  5f 5f 6c 69 62 63 5f 73  74 61 72 74 5f 6d 61 69  |__libc_start_mai|\n000004a0  6e 00 70 72 69 6e 74 66  00 6c 69 62 63 2e 73 6f  |n.printf.libc.so|\n000004b0  2e 36 00 47 4c 49 42 43  5f 32 2e 32 2e 35 00 47  |.6.GLIBC_2.2.5.G|\n000004c0  4c 49 42 43 5f 32 2e 33  34 00 5f 49 54 4d 5f 64  |LIBC_2.34._ITM_d|\n000004d0  65 72 65 67 69 73 74 65  72 54 4d 43 6c 6f 6e 65  |eregisterTMClone|\n000004e0  54 61 62 6c 65 00 5f 5f  67 6d 6f 6e 5f 73 74 61  |Table.__gmon_sta|\n000004f0  72 74 5f 5f 00 5f 49 54  4d 5f 72 65 67 69 73 74  |rt__._ITM_regist|\n00000500  65 72 54 4d 43 6c 6f 6e  65 54 61 62 6c 65 00 00  |erTMCloneTable..|\n00000510  00 00 02 00 01 00 03 00  01 00 01 00 03 00 00 00  |................|\n00000520  01 00 02 00 29 00 00 00  10 00 00 00 00 00 00 00  |....)...........|\n00000530  75 1a 69 09 00 00 03 00  33 00 00 00 10 00 00 00  |u.i.....3.......|\n00000540  b4 91 96 06 00 00 02 00  3f 00 00 00 00 00 00 00  |........?.......|\n00000550  b8 3d 00 00 00 00 00 00  08 00 00 00 00 00 00 00  |.=..............|\n00000560  40 11 00 00 00 00 00 00  c0 3d 00 00 00 00 00 00  |@........=......|\n00000570  08 00 00 00 00 00 00 00  00 11 00 00 00 00 00 00  |................|\n00000580  08 40 00 00 00 00 00 00  08 00 00 00 00 00 00 00  |.@..............|\n00000590  08 40 00 00 00 00 00 00  d8 3f 00 00 00 00 00 00  |.@.......?......|\n000005a0  06 00 00 00 01 00 00 00  00 00 00 00 00 00 00 00  |................|\n000005b0  e0 3f 00 00 00 00 00 00  06 00 00 00 02 00 00 00  |.?..............|\n000005c0  00 00 00 00 00 00 00 00  e8 3f 00 00 00 00 00 00  |.........?......|\n000005d0  06 00 00 00 04 00 00 00  00 00 00 00 00 00 00 00  |................|\n000005e0  f0 3f 00 00 00 00 00 00  06 00 00 00 05 00 00 00  |.?..............|\n000005f0  00 00 00 00 00 00 00 00  f8 3f 00 00 00 00 00 00  |.........?......|\n00000600  06 00 00 00 06 00 00 00  00 00 00 00 00 00 00 00  |................|\n00000610  d0 3f 00 00 00 00 00 00  07 00 00 00 03 00 00 00  |.?..............|\n00000620  00 00 00 00 00 00 00 00  00 00 00 00 00 00 00 00  |................|\n*\n00001000  f3 0f 1e fa 48 83 ec 08  48 8b 05 d9 2f 00 00 48  |....H...H.../..H|\n00001010  85 c0 74 02 ff d0 48 83  c4 08 c3 00 00 00 00 00  |..t...H.........|\n00001020  ff 35 9a 2f 00 00 f2 ff  25 9b 2f 00 00 0f 1f 00  |.5./....%./.....|\n00001030  f3 0f 1e fa 68 00 00 00  00 f2 e9 e1 ff ff ff 90  |....h...........|\n00001040  f3 0f 1e fa f2 ff 25 ad  2f 00 00 0f 1f 44 00 00  |......%./....D..|\n00001050  f3 0f 1e fa f2 ff 25 75  2f 00 00 0f 1f 44 00 00  |......%u/....D..|\n00001060  f3 0f 1e fa 31 ed 49 89  d1 5e 48 89 e2 48 83 e4  |....1.I..^H..H..|\n00001070  f0 50 54 45 31 c0 31 c9  48 8d 3d ca 00 00 00 ff  |.PTE1.1.H.=.....|\n00001080  15 53 2f 00 00 f4 66 2e  0f 1f 84 00 00 00 00 00  |.S/...f.........|\n00001090  48 8d 3d 79 2f 00 00 48  8d 05 72 2f 00 00 48 39  |H.=y/..H..r/..H9|\n000010a0  f8 74 15 48 8b 05 36 2f  00 00 48 85 c0 74 09 ff  |.t.H..6/..H..t..|\n000010b0  e0 0f 1f 80 00 00 00 00  c3 0f 1f 80 00 00 00 00  |................|\n000010c0  48 8d 3d 49 2f 00 00 48  8d 35 42 2f 00 00 48 29  |H.=I/..H.5B/..H)|\n000010d0  fe 48 89 f0 48 c1 ee 3f  48 c1 f8 03 48 01 c6 48  |.H..H..?H...H..H|\n000010e0  d1 fe 74 14 48 8b 05 05  2f 00 00 48 85 c0 74 08  |..t.H.../..H..t.|\n000010f0  ff e0 66 0f 1f 44 00 00  c3 0f 1f 80 00 00 00 00  |..f..D..........|\n00001100  f3 0f 1e fa 80 3d 05 2f  00 00 00 75 2b 55 48 83  |.....=./...u+UH.|\n00001110  3d e2 2e 00 00 00 48 89  e5 74 0c 48 8b 3d e6 2e  |=.....H..t.H.=..|\n00001120  00 00 e8 19 ff ff ff e8  64 ff ff ff c6 05 dd 2e  |........d.......|\n00001130  00 00 01 5d c3 0f 1f 00  c3 0f 1f 80 00 00 00 00  |...]............|\n00001140  f3 0f 1e fa e9 77 ff ff  ff f3 0f 1e fa 55 48 89  |.....w.......UH.|\n00001150  e5 48 83 ec 10 c7 45 f8  01 00 00 00 c7 45 fc 02  |.H....E......E..|\n00001160  00 00 00 8b 55 f8 8b 45  fc 8d 0c 02 8b 55 fc 8b  |....U..E.....U..|\n00001170  45 f8 89 c6 48 8d 05 89  0e 00 00 48 89 c7 b8 00  |E...H......H....|\n00001180  00 00 00 e8 c8 fe ff ff  90 c9 c3 00 f3 0f 1e fa  |................|\n00001190  48 83 ec 08 48 83 c4 08  c3 00 00 00 00 00 00 00  |H...H...........|\n000011a0  00 00 00 00 00 00 00 00  00 00 00 00 00 00 00 00  |................|\n*\n00002000  01 00 02 00 25 64 20 2b  20 25 64 20 3d 20 25 64  |....%d + %d = %d|\n00002010  0a 00 00 00 01 1b 03 3b  30 00 00 00 05 00 00 00  |.......;0.......|\n00002020  0c f0 ff ff 64 00 00 00  2c f0 ff ff 8c 00 00 00  |....d...,.......|\n00002030  3c f0 ff ff a4 00 00 00  4c f0 ff ff 4c 00 00 00  |<.......L...L...|\n00002040  35 f1 ff ff bc 00 00 00  14 00 00 00 00 00 00 00  |5...............|\n00002050  01 7a 52 00 01 78 10 01  1b 0c 07 08 90 01 00 00  |.zR..x..........|\n00002060  14 00 00 00 1c 00 00 00  f8 ef ff ff 26 00 00 00  |............&...|\n00002070  00 44 07 10 00 00 00 00  24 00 00 00 34 00 00 00  |.D......$...4...|\n00002080  a0 ef ff ff 20 00 00 00  00 0e 10 46 0e 18 4a 0f  |.... ......F..J.|\n00002090  0b 77 08 80 00 3f 1a 3a  2a 33 24 22 00 00 00 00  |.w...?.:*3$\"....|\n000020a0  14 00 00 00 5c 00 00 00  98 ef ff ff 10 00 00 00  |....\\...........|\n000020b0  00 00 00 00 00 00 00 00  14 00 00 00 74 00 00 00  |............t...|\n000020c0  90 ef ff ff 10 00 00 00  00 00 00 00 00 00 00 00  |................|\n000020d0  1c 00 00 00 8c 00 00 00  71 f0 ff ff 42 00 00 00  |........q...B...|\n000020e0  00 45 0e 10 86 02 43 0d  06 79 0c 07 08 00 00 00  |.E....C..y......|\n000020f0  00 00 00 00 00 00 00 00  00 00 00 00 00 00 00 00  |................|\n*\n00002db0  00 00 00 00 00 00 00 00  40 11 00 00 00 00 00 00  |........@.......|\n00002dc0  00 11 00 00 00 00 00 00  01 00 00 00 00 00 00 00  |................|\n00002dd0  29 00 00 00 00 00 00 00  0c 00 00 00 00 00 00 00  |)...............|\n00002de0  00 10 00 00 00 00 00 00  0d 00 00 00 00 00 00 00  |................|\n00002df0  8c 11 00 00 00 00 00 00  19 00 00 00 00 00 00 00  |................|\n00002e00  b8 3d 00 00 00 00 00 00  1b 00 00 00 00 00 00 00  |.=..............|\n00002e10  08 00 00 00 00 00 00 00  1a 00 00 00 00 00 00 00  |................|\n00002e20  c0 3d 00 00 00 00 00 00  1c 00 00 00 00 00 00 00  |.=..............|\n00002e30  08 00 00 00 00 00 00 00  f5 fe ff 6f 00 00 00 00  |...........o....|\n00002e40  b0 03 00 00 00 00 00 00  05 00 00 00 00 00 00 00  |................|\n00002e50  80 04 00 00 00 00 00 00  06 00 00 00 00 00 00 00  |................|\n00002e60  d8 03 00 00 00 00 00 00  0a 00 00 00 00 00 00 00  |................|\n00002e70  8f 00 00 00 00 00 00 00  0b 00 00 00 00 00 00 00  |................|\n00002e80  18 00 00 00 00 00 00 00  15 00 00 00 00 00 00 00  |................|\n00002e90  00 00 00 00 00 00 00 00  03 00 00 00 00 00 00 00  |................|\n00002ea0  b8 3f 00 00 00 00 00 00  02 00 00 00 00 00 00 00  |.?..............|\n00002eb0  18 00 00 00 00 00 00 00  14 00 00 00 00 00 00 00  |................|\n00002ec0  07 00 00 00 00 00 00 00  17 00 00 00 00 00 00 00  |................|\n00002ed0  10 06 00 00 00 00 00 00  07 00 00 00 00 00 00 00  |................|\n00002ee0  50 05 00 00 00 00 00 00  08 00 00 00 00 00 00 00  |P...............|\n00002ef0  c0 00 00 00 00 00 00 00  09 00 00 00 00 00 00 00  |................|\n00002f00  18 00 00 00 00 00 00 00  1e 00 00 00 00 00 00 00  |................|\n00002f10  08 00 00 00 00 00 00 00  fb ff ff 6f 00 00 00 00  |...........o....|\n00002f20  01 00 00 08 00 00 00 00  fe ff ff 6f 00 00 00 00  |...........o....|\n00002f30  20 05 00 00 00 00 00 00  ff ff ff 6f 00 00 00 00  | ..........o....|\n00002f40  01 00 00 00 00 00 00 00  f0 ff ff 6f 00 00 00 00  |...........o....|\n00002f50  10 05 00 00 00 00 00 00  f9 ff ff 6f 00 00 00 00  |...........o....|\n00002f60  03 00 00 00 00 00 00 00  00 00 00 00 00 00 00 00  |................|\n00002f70  00 00 00 00 00 00 00 00  00 00 00 00 00 00 00 00  |................|\n*\n00002fb0  00 00 00 00 00 00 00 00  c8 3d 00 00 00 00 00 00  |.........=......|\n00002fc0  00 00 00 00 00 00 00 00  00 00 00 00 00 00 00 00  |................|\n00002fd0  30 10 00 00 00 00 00 00  00 00 00 00 00 00 00 00  |0...............|\n00002fe0  00 00 00 00 00 00 00 00  00 00 00 00 00 00 00 00  |................|\n*\n00003000  00 00 00 00 00 00 00 00  08 40 00 00 00 00 00 00  |.........@......|\n00003010  47 43 43 3a 20 28 55 62  75 6e 74 75 20 31 31 2e  |GCC: (Ubuntu 11.|\n00003020  34 2e 30 2d 31 75 62 75  6e 74 75 31 7e 32 32 2e  |4.0-1ubuntu1~22.|\n00003030  30 34 29 20 31 31 2e 34  2e 30 00 00 00 00 00 00  |04) 11.4.0......|\n00003040  00 00 00 00 00 00 00 00  00 00 00 00 00 00 00 00  |................|\n00003050  00 00 00 00 00 00 00 00  01 00 00 00 04 00 f1 ff  |................|\n00003060  00 00 00 00 00 00 00 00  00 00 00 00 00 00 00 00  |................|\n00003070  09 00 00 00 01 00 04 00  8c 03 00 00 00 00 00 00  |................|\n00003080  20 00 00 00 00 00 00 00  13 00 00 00 04 00 f1 ff  | ...............|\n00003090  00 00 00 00 00 00 00 00  00 00 00 00 00 00 00 00  |................|\n000030a0  1e 00 00 00 02 00 10 00  90 10 00 00 00 00 00 00  |................|\n000030b0  00 00 00 00 00 00 00 00  20 00 00 00 02 00 10 00  |........ .......|\n000030c0  c0 10 00 00 00 00 00 00  00 00 00 00 00 00 00 00  |................|\n000030d0  33 00 00 00 02 00 10 00  00 11 00 00 00 00 00 00  |3...............|\n000030e0  00 00 00 00 00 00 00 00  49 00 00 00 01 00 1a 00  |........I.......|\n000030f0  10 40 00 00 00 00 00 00  01 00 00 00 00 00 00 00  |.@..............|\n00003100  55 00 00 00 01 00 16 00  c0 3d 00 00 00 00 00 00  |U........=......|\n00003110  00 00 00 00 00 00 00 00  7c 00 00 00 02 00 10 00  |........|.......|\n00003120  40 11 00 00 00 00 00 00  00 00 00 00 00 00 00 00  |@...............|\n00003130  88 00 00 00 01 00 15 00  b8 3d 00 00 00 00 00 00  |.........=......|\n00003140  00 00 00 00 00 00 00 00  a7 00 00 00 04 00 f1 ff  |................|\n00003150  00 00 00 00 00 00 00 00  00 00 00 00 00 00 00 00  |................|\n00003160  13 00 00 00 04 00 f1 ff  00 00 00 00 00 00 00 00  |................|\n00003170  00 00 00 00 00 00 00 00  af 00 00 00 01 00 14 00  |................|\n00003180  f0 20 00 00 00 00 00 00  00 00 00 00 00 00 00 00  |. ..............|\n00003190  00 00 00 00 04 00 f1 ff  00 00 00 00 00 00 00 00  |................|\n000031a0  00 00 00 00 00 00 00 00  bd 00 00 00 01 00 17 00  |................|\n000031b0  c8 3d 00 00 00 00 00 00  00 00 00 00 00 00 00 00  |.=..............|\n000031c0  c6 00 00 00 00 00 13 00  14 20 00 00 00 00 00 00  |......... ......|\n000031d0  00 00 00 00 00 00 00 00  d9 00 00 00 01 00 18 00  |................|\n000031e0  b8 3f 00 00 00 00 00 00  00 00 00 00 00 00 00 00  |.?..............|\n000031f0  ef 00 00 00 12 00 00 00  00 00 00 00 00 00 00 00  |................|\n00003200  00 00 00 00 00 00 00 00  0c 01 00 00 20 00 00 00  |............ ...|\n00003210  00 00 00 00 00 00 00 00  00 00 00 00 00 00 00 00  |................|\n00003220  4a 01 00 00 20 00 19 00  00 40 00 00 00 00 00 00  |J... ....@......|\n00003230  00 00 00 00 00 00 00 00  28 01 00 00 10 00 19 00  |........(.......|\n00003240  10 40 00 00 00 00 00 00  00 00 00 00 00 00 00 00  |.@..............|\n00003250  2f 01 00 00 12 02 11 00  8c 11 00 00 00 00 00 00  |/...............|\n00003260  00 00 00 00 00 00 00 00  35 01 00 00 12 00 00 00  |........5.......|\n00003270  00 00 00 00 00 00 00 00  00 00 00 00 00 00 00 00  |................|\n00003280  48 01 00 00 10 00 19 00  00 40 00 00 00 00 00 00  |H........@......|\n00003290  00 00 00 00 00 00 00 00  55 01 00 00 20 00 00 00  |........U... ...|\n000032a0  00 00 00 00 00 00 00 00  00 00 00 00 00 00 00 00  |................|\n000032b0  64 01 00 00 11 02 19 00  08 40 00 00 00 00 00 00  |d........@......|\n000032c0  00 00 00 00 00 00 00 00  71 01 00 00 11 00 12 00  |........q.......|\n000032d0  00 20 00 00 00 00 00 00  04 00 00 00 00 00 00 00  |. ..............|\n000032e0  80 01 00 00 10 00 1a 00  18 40 00 00 00 00 00 00  |.........@......|\n000032f0  00 00 00 00 00 00 00 00  4e 01 00 00 12 00 10 00  |........N.......|\n00003300  60 10 00 00 00 00 00 00  26 00 00 00 00 00 00 00  |`.......&.......|\n00003310  85 01 00 00 10 00 1a 00  10 40 00 00 00 00 00 00  |.........@......|\n00003320  00 00 00 00 00 00 00 00  91 01 00 00 12 00 10 00  |................|\n00003330  49 11 00 00 00 00 00 00  42 00 00 00 00 00 00 00  |I.......B.......|\n00003340  96 01 00 00 11 02 19 00  10 40 00 00 00 00 00 00  |.........@......|\n00003350  00 00 00 00 00 00 00 00  a2 01 00 00 20 00 00 00  |............ ...|\n00003360  00 00 00 00 00 00 00 00  00 00 00 00 00 00 00 00  |................|\n00003370  bc 01 00 00 22 00 00 00  00 00 00 00 00 00 00 00  |....\"...........|\n00003380  00 00 00 00 00 00 00 00  d7 01 00 00 12 02 0c 00  |................|\n00003390  00 10 00 00 00 00 00 00  00 00 00 00 00 00 00 00  |................|\n000033a0  00 53 63 72 74 31 2e 6f  00 5f 5f 61 62 69 5f 74  |.Scrt1.o.__abi_t|\n000033b0  61 67 00 63 72 74 73 74  75 66 66 2e 63 00 64 65  |ag.crtstuff.c.de|\n000033c0  72 65 67 69 73 74 65 72  5f 74 6d 5f 63 6c 6f 6e  |register_tm_clon|\n000033d0  65 73 00 5f 5f 64 6f 5f  67 6c 6f 62 61 6c 5f 64  |es.__do_global_d|\n000033e0  74 6f 72 73 5f 61 75 78  00 63 6f 6d 70 6c 65 74  |tors_aux.complet|\n000033f0  65 64 2e 30 00 5f 5f 64  6f 5f 67 6c 6f 62 61 6c  |ed.0.__do_global|\n00003400  5f 64 74 6f 72 73 5f 61  75 78 5f 66 69 6e 69 5f  |_dtors_aux_fini_|\n00003410  61 72 72 61 79 5f 65 6e  74 72 79 00 66 72 61 6d  |array_entry.fram|\n00003420  65 5f 64 75 6d 6d 79 00  5f 5f 66 72 61 6d 65 5f  |e_dummy.__frame_|\n00003430  64 75 6d 6d 79 5f 69 6e  69 74 5f 61 72 72 61 79  |dummy_init_array|\n00003440  5f 65 6e 74 72 79 00 68  65 6c 6c 6f 2e 63 00 5f  |_entry.hello.c._|\n00003450  5f 46 52 41 4d 45 5f 45  4e 44 5f 5f 00 5f 44 59  |_FRAME_END__._DY|\n00003460  4e 41 4d 49 43 00 5f 5f  47 4e 55 5f 45 48 5f 46  |NAMIC.__GNU_EH_F|\n00003470  52 41 4d 45 5f 48 44 52  00 5f 47 4c 4f 42 41 4c  |RAME_HDR._GLOBAL|\n00003480  5f 4f 46 46 53 45 54 5f  54 41 42 4c 45 5f 00 5f  |_OFFSET_TABLE_._|\n00003490  5f 6c 69 62 63 5f 73 74  61 72 74 5f 6d 61 69 6e  |_libc_start_main|\n000034a0  40 47 4c 49 42 43 5f 32  2e 33 34 00 5f 49 54 4d  |@GLIBC_2.34._ITM|\n000034b0  5f 64 65 72 65 67 69 73  74 65 72 54 4d 43 6c 6f  |_deregisterTMClo|\n000034c0  6e 65 54 61 62 6c 65 00  5f 65 64 61 74 61 00 5f  |neTable._edata._|\n000034d0  66 69 6e 69 00 70 72 69  6e 74 66 40 47 4c 49 42  |fini.printf@GLIB|\n000034e0  43 5f 32 2e 32 2e 35 00  5f 5f 64 61 74 61 5f 73  |C_2.2.5.__data_s|\n000034f0  74 61 72 74 00 5f 5f 67  6d 6f 6e 5f 73 74 61 72  |tart.__gmon_star|\n00003500  74 5f 5f 00 5f 5f 64 73  6f 5f 68 61 6e 64 6c 65  |t__.__dso_handle|\n00003510  00 5f 49 4f 5f 73 74 64  69 6e 5f 75 73 65 64 00  |._IO_stdin_used.|\n00003520  5f 65 6e 64 00 5f 5f 62  73 73 5f 73 74 61 72 74  |_end.__bss_start|\n00003530  00 6d 61 69 6e 00 5f 5f  54 4d 43 5f 45 4e 44 5f  |.main.__TMC_END_|\n00003540  5f 00 5f 49 54 4d 5f 72  65 67 69 73 74 65 72 54  |_._ITM_registerT|\n00003550  4d 43 6c 6f 6e 65 54 61  62 6c 65 00 5f 5f 63 78  |MCloneTable.__cx|\n00003560  61 5f 66 69 6e 61 6c 69  7a 65 40 47 4c 49 42 43  |a_finalize@GLIBC|\n00003570  5f 32 2e 32 2e 35 00 5f  69 6e 69 74 00 00 2e 73  |_2.2.5._init...s|\n00003580  79 6d 74 61 62 00 2e 73  74 72 74 61 62 00 2e 73  |ymtab..strtab..s|\n00003590  68 73 74 72 74 61 62 00  2e 69 6e 74 65 72 70 00  |hstrtab..interp.|\n000035a0  2e 6e 6f 74 65 2e 67 6e  75 2e 70 72 6f 70 65 72  |.note.gnu.proper|\n000035b0  74 79 00 2e 6e 6f 74 65  2e 67 6e 75 2e 62 75 69  |ty..note.gnu.bui|\n000035c0  6c 64 2d 69 64 00 2e 6e  6f 74 65 2e 41 42 49 2d  |ld-id..note.ABI-|\n000035d0  74 61 67 00 2e 67 6e 75  2e 68 61 73 68 00 2e 64  |tag..gnu.hash..d|\n000035e0  79 6e 73 79 6d 00 2e 64  79 6e 73 74 72 00 2e 67  |ynsym..dynstr..g|\n000035f0  6e 75 2e 76 65 72 73 69  6f 6e 00 2e 67 6e 75 2e  |nu.version..gnu.|\n00003600  76 65 72 73 69 6f 6e 5f  72 00 2e 72 65 6c 61 2e  |version_r..rela.|\n00003610  64 79 6e 00 2e 72 65 6c  61 2e 70 6c 74 00 2e 69  |dyn..rela.plt..i|\n00003620  6e 69 74 00 2e 70 6c 74  2e 67 6f 74 00 2e 70 6c  |nit..plt.got..pl|\n00003630  74 2e 73 65 63 00 2e 74  65 78 74 00 2e 66 69 6e  |t.sec..text..fin|\n00003640  69 00 2e 72 6f 64 61 74  61 00 2e 65 68 5f 66 72  |i..rodata..eh_fr|\n00003650  61 6d 65 5f 68 64 72 00  2e 65 68 5f 66 72 61 6d  |ame_hdr..eh_fram|\n00003660  65 00 2e 69 6e 69 74 5f  61 72 72 61 79 00 2e 66  |e..init_array..f|\n00003670  69 6e 69 5f 61 72 72 61  79 00 2e 64 79 6e 61 6d  |ini_array..dynam|\n00003680  69 63 00 2e 64 61 74 61  00 2e 62 73 73 00 2e 63  |ic..data..bss..c|\n00003690  6f 6d 6d 65 6e 74 00 00  00 00 00 00 00 00 00 00  |omment..........|\n000036a0  00 00 00 00 00 00 00 00  00 00 00 00 00 00 00 00  |................|\n*\n000036d0  00 00 00 00 00 00 00 00  1b 00 00 00 01 00 00 00  |................|\n000036e0  02 00 00 00 00 00 00 00  18 03 00 00 00 00 00 00  |................|\n000036f0  18 03 00 00 00 00 00 00  1c 00 00 00 00 00 00 00  |................|\n00003700  00 00 00 00 00 00 00 00  01 00 00 00 00 00 00 00  |................|\n00003710  00 00 00 00 00 00 00 00  23 00 00 00 07 00 00 00  |........#.......|\n00003720  02 00 00 00 00 00 00 00  38 03 00 00 00 00 00 00  |........8.......|\n00003730  38 03 00 00 00 00 00 00  30 00 00 00 00 00 00 00  |8.......0.......|\n00003740  00 00 00 00 00 00 00 00  08 00 00 00 00 00 00 00  |................|\n00003750  00 00 00 00 00 00 00 00  36 00 00 00 07 00 00 00  |........6.......|\n00003760  02 00 00 00 00 00 00 00  68 03 00 00 00 00 00 00  |........h.......|\n00003770  68 03 00 00 00 00 00 00  24 00 00 00 00 00 00 00  |h.......$.......|\n00003780  00 00 00 00 00 00 00 00  04 00 00 00 00 00 00 00  |................|\n00003790  00 00 00 00 00 00 00 00  49 00 00 00 07 00 00 00  |........I.......|\n000037a0  02 00 00 00 00 00 00 00  8c 03 00 00 00 00 00 00  |................|\n000037b0  8c 03 00 00 00 00 00 00  20 00 00 00 00 00 00 00  |........ .......|\n000037c0  00 00 00 00 00 00 00 00  04 00 00 00 00 00 00 00  |................|\n000037d0  00 00 00 00 00 00 00 00  57 00 00 00 f6 ff ff 6f  |........W......o|\n000037e0  02 00 00 00 00 00 00 00  b0 03 00 00 00 00 00 00  |................|\n000037f0  b0 03 00 00 00 00 00 00  24 00 00 00 00 00 00 00  |........$.......|\n00003800  06 00 00 00 00 00 00 00  08 00 00 00 00 00 00 00  |................|\n00003810  00 00 00 00 00 00 00 00  61 00 00 00 0b 00 00 00  |........a.......|\n00003820  02 00 00 00 00 00 00 00  d8 03 00 00 00 00 00 00  |................|\n00003830  d8 03 00 00 00 00 00 00  a8 00 00 00 00 00 00 00  |................|\n00003840  07 00 00 00 01 00 00 00  08 00 00 00 00 00 00 00  |................|\n00003850  18 00 00 00 00 00 00 00  69 00 00 00 03 00 00 00  |........i.......|\n00003860  02 00 00 00 00 00 00 00  80 04 00 00 00 00 00 00  |................|\n00003870  80 04 00 00 00 00 00 00  8f 00 00 00 00 00 00 00  |................|\n00003880  00 00 00 00 00 00 00 00  01 00 00 00 00 00 00 00  |................|\n00003890  00 00 00 00 00 00 00 00  71 00 00 00 ff ff ff 6f  |........q......o|\n000038a0  02 00 00 00 00 00 00 00  10 05 00 00 00 00 00 00  |................|\n000038b0  10 05 00 00 00 00 00 00  0e 00 00 00 00 00 00 00  |................|\n000038c0  06 00 00 00 00 00 00 00  02 00 00 00 00 00 00 00  |................|\n000038d0  02 00 00 00 00 00 00 00  7e 00 00 00 fe ff ff 6f  |........~......o|\n000038e0  02 00 00 00 00 00 00 00  20 05 00 00 00 00 00 00  |........ .......|\n000038f0  20 05 00 00 00 00 00 00  30 00 00 00 00 00 00 00  | .......0.......|\n00003900  07 00 00 00 01 00 00 00  08 00 00 00 00 00 00 00  |................|\n00003910  00 00 00 00 00 00 00 00  8d 00 00 00 04 00 00 00  |................|\n00003920  02 00 00 00 00 00 00 00  50 05 00 00 00 00 00 00  |........P.......|\n00003930  50 05 00 00 00 00 00 00  c0 00 00 00 00 00 00 00  |P...............|\n00003940  06 00 00 00 00 00 00 00  08 00 00 00 00 00 00 00  |................|\n00003950  18 00 00 00 00 00 00 00  97 00 00 00 04 00 00 00  |................|\n00003960  42 00 00 00 00 00 00 00  10 06 00 00 00 00 00 00  |B...............|\n00003970  10 06 00 00 00 00 00 00  18 00 00 00 00 00 00 00  |................|\n00003980  06 00 00 00 18 00 00 00  08 00 00 00 00 00 00 00  |................|\n00003990  18 00 00 00 00 00 00 00  a1 00 00 00 01 00 00 00  |................|\n000039a0  06 00 00 00 00 00 00 00  00 10 00 00 00 00 00 00  |................|\n000039b0  00 10 00 00 00 00 00 00  1b 00 00 00 00 00 00 00  |................|\n000039c0  00 00 00 00 00 00 00 00  04 00 00 00 00 00 00 00  |................|\n000039d0  00 00 00 00 00 00 00 00  9c 00 00 00 01 00 00 00  |................|\n000039e0  06 00 00 00 00 00 00 00  20 10 00 00 00 00 00 00  |........ .......|\n000039f0  20 10 00 00 00 00 00 00  20 00 00 00 00 00 00 00  | ....... .......|\n00003a00  00 00 00 00 00 00 00 00  10 00 00 00 00 00 00 00  |................|\n00003a10  10 00 00 00 00 00 00 00  a7 00 00 00 01 00 00 00  |................|\n00003a20  06 00 00 00 00 00 00 00  40 10 00 00 00 00 00 00  |........@.......|\n00003a30  40 10 00 00 00 00 00 00  10 00 00 00 00 00 00 00  |@...............|\n00003a40  00 00 00 00 00 00 00 00  10 00 00 00 00 00 00 00  |................|\n00003a50  10 00 00 00 00 00 00 00  b0 00 00 00 01 00 00 00  |................|\n00003a60  06 00 00 00 00 00 00 00  50 10 00 00 00 00 00 00  |........P.......|\n00003a70  50 10 00 00 00 00 00 00  10 00 00 00 00 00 00 00  |P...............|\n00003a80  00 00 00 00 00 00 00 00  10 00 00 00 00 00 00 00  |................|\n00003a90  10 00 00 00 00 00 00 00  b9 00 00 00 01 00 00 00  |................|\n00003aa0  06 00 00 00 00 00 00 00  60 10 00 00 00 00 00 00  |........`.......|\n00003ab0  60 10 00 00 00 00 00 00  2b 01 00 00 00 00 00 00  |`.......+.......|\n00003ac0  00 00 00 00 00 00 00 00  10 00 00 00 00 00 00 00  |................|\n00003ad0  00 00 00 00 00 00 00 00  bf 00 00 00 01 00 00 00  |................|\n00003ae0  06 00 00 00 00 00 00 00  8c 11 00 00 00 00 00 00  |................|\n00003af0  8c 11 00 00 00 00 00 00  0d 00 00 00 00 00 00 00  |................|\n00003b00  00 00 00 00 00 00 00 00  04 00 00 00 00 00 00 00  |................|\n00003b10  00 00 00 00 00 00 00 00  c5 00 00 00 01 00 00 00  |................|\n00003b20  02 00 00 00 00 00 00 00  00 20 00 00 00 00 00 00  |......... ......|\n00003b30  00 20 00 00 00 00 00 00  12 00 00 00 00 00 00 00  |. ..............|\n00003b40  00 00 00 00 00 00 00 00  04 00 00 00 00 00 00 00  |................|\n00003b50  00 00 00 00 00 00 00 00  cd 00 00 00 01 00 00 00  |................|\n00003b60  02 00 00 00 00 00 00 00  14 20 00 00 00 00 00 00  |......... ......|\n00003b70  14 20 00 00 00 00 00 00  34 00 00 00 00 00 00 00  |. ......4.......|\n00003b80  00 00 00 00 00 00 00 00  04 00 00 00 00 00 00 00  |................|\n00003b90  00 00 00 00 00 00 00 00  db 00 00 00 01 00 00 00  |................|\n00003ba0  02 00 00 00 00 00 00 00  48 20 00 00 00 00 00 00  |........H ......|\n00003bb0  48 20 00 00 00 00 00 00  ac 00 00 00 00 00 00 00  |H ..............|\n00003bc0  00 00 00 00 00 00 00 00  08 00 00 00 00 00 00 00  |................|\n00003bd0  00 00 00 00 00 00 00 00  e5 00 00 00 0e 00 00 00  |................|\n00003be0  03 00 00 00 00 00 00 00  b8 3d 00 00 00 00 00 00  |.........=......|\n00003bf0  b8 2d 00 00 00 00 00 00  08 00 00 00 00 00 00 00  |.-..............|\n00003c00  00 00 00 00 00 00 00 00  08 00 00 00 00 00 00 00  |................|\n00003c10  08 00 00 00 00 00 00 00  f1 00 00 00 0f 00 00 00  |................|\n00003c20  03 00 00 00 00 00 00 00  c0 3d 00 00 00 00 00 00  |.........=......|\n00003c30  c0 2d 00 00 00 00 00 00  08 00 00 00 00 00 00 00  |.-..............|\n00003c40  00 00 00 00 00 00 00 00  08 00 00 00 00 00 00 00  |................|\n00003c50  08 00 00 00 00 00 00 00  fd 00 00 00 06 00 00 00  |................|\n00003c60  03 00 00 00 00 00 00 00  c8 3d 00 00 00 00 00 00  |.........=......|\n00003c70  c8 2d 00 00 00 00 00 00  f0 01 00 00 00 00 00 00  |.-..............|\n00003c80  07 00 00 00 00 00 00 00  08 00 00 00 00 00 00 00  |................|\n00003c90  10 00 00 00 00 00 00 00  ab 00 00 00 01 00 00 00  |................|\n00003ca0  03 00 00 00 00 00 00 00  b8 3f 00 00 00 00 00 00  |.........?......|\n00003cb0  b8 2f 00 00 00 00 00 00  48 00 00 00 00 00 00 00  |./......H.......|\n00003cc0  00 00 00 00 00 00 00 00  08 00 00 00 00 00 00 00  |................|\n00003cd0  08 00 00 00 00 00 00 00  06 01 00 00 01 00 00 00  |................|\n00003ce0  03 00 00 00 00 00 00 00  00 40 00 00 00 00 00 00  |.........@......|\n00003cf0  00 30 00 00 00 00 00 00  10 00 00 00 00 00 00 00  |.0..............|\n00003d00  00 00 00 00 00 00 00 00  08 00 00 00 00 00 00 00  |................|\n00003d10  00 00 00 00 00 00 00 00  0c 01 00 00 08 00 00 00  |................|\n00003d20  03 00 00 00 00 00 00 00  10 40 00 00 00 00 00 00  |.........@......|\n00003d30  10 30 00 00 00 00 00 00  08 00 00 00 00 00 00 00  |.0..............|\n00003d40  00 00 00 00 00 00 00 00  01 00 00 00 00 00 00 00  |................|\n00003d50  00 00 00 00 00 00 00 00  11 01 00 00 01 00 00 00  |................|\n00003d60  30 00 00 00 00 00 00 00  00 00 00 00 00 00 00 00  |0...............|\n00003d70  10 30 00 00 00 00 00 00  2b 00 00 00 00 00 00 00  |.0......+.......|\n00003d80  00 00 00 00 00 00 00 00  01 00 00 00 00 00 00 00  |................|\n00003d90  01 00 00 00 00 00 00 00  01 00 00 00 02 00 00 00  |................|\n00003da0  00 00 00 00 00 00 00 00  00 00 00 00 00 00 00 00  |................|\n00003db0  40 30 00 00 00 00 00 00  60 03 00 00 00 00 00 00  |@0......`.......|\n00003dc0  1d 00 00 00 12 00 00 00  08 00 00 00 00 00 00 00  |................|\n00003dd0  18 00 00 00 00 00 00 00  09 00 00 00 03 00 00 00  |................|\n00003de0  00 00 00 00 00 00 00 00  00 00 00 00 00 00 00 00  |................|\n00003df0  a0 33 00 00 00 00 00 00  dd 01 00 00 00 00 00 00  |.3..............|\n00003e00  00 00 00 00 00 00 00 00  01 00 00 00 00 00 00 00  |................|\n00003e10  00 00 00 00 00 00 00 00  11 00 00 00 03 00 00 00  |................|\n00003e20  00 00 00 00 00 00 00 00  00 00 00 00 00 00 00 00  |................|\n00003e30  7d 35 00 00 00 00 00 00  1a 01 00 00 00 00 00 00  |}5..............|\n00003e40  00 00 00 00 00 00 00 00  01 00 00 00 00 00 00 00  |................|\n00003e50  00 00 00 00 00 00 00 00                           |........|\n00003e58\n"
    }
   ],
   "source": [
    "!hexdump -C a.out\n"
   ]
  },
  {
   "cell_type": "markdown",
   "metadata": {},
   "source": [
    "Conversion specifiers<br>\n",
    "출력 형식\n",
    "* Reference : https://docs.python.org/3/library/stdtypes.html#printf-style-string-formatting\n",
    "* 참고 : https://wikidocs.net/13#_17\n",
    "\n"
   ]
  },
  {
   "cell_type": "code",
   "execution_count": null,
   "metadata": {},
   "outputs": [],
   "source": [
    "a = 1\n",
    "b = 2\n",
    "print(\"%s + %s = %s\" % (a, b, a+b))\n"
   ]
  },
  {
   "cell_type": "code",
   "execution_count": null,
   "metadata": {},
   "outputs": [],
   "source": [
    "a = 1.0\n",
    "b = 2\n",
    "print(\"%s + %s = %s\" % (a, b, a+b))\n"
   ]
  },
  {
   "cell_type": "code",
   "execution_count": null,
   "metadata": {},
   "outputs": [],
   "source": [
    "a = 1.0\n",
    "b = 2\n",
    "print(\"%d + %d = %d\" % (a, b, a+b))\n"
   ]
  },
  {
   "cell_type": "code",
   "execution_count": null,
   "metadata": {},
   "outputs": [],
   "source": [
    "a = 1.0\n",
    "b = 2\n",
    "print(\"%f + %f = %f\" % (a, b, a+b))\n"
   ]
  },
  {
   "cell_type": "markdown",
   "source": [
    "In the example below, what do you think about the roles of numbers between `%` and `f`?<br>\n",
    "아래 예에서 `%` 와 `f` 사이의 숫자들의 역할에 대해 어떻게 생각하는가?\n",
    "\n"
   ],
   "metadata": {}
  },
  {
   "cell_type": "code",
   "source": [
    "a = 1.0\n",
    "b = 2\n",
    "print(\"%12f + %8.4f = %010.4f\" % (a, b, a+b))\n",
    "# text column ruler\n",
    "# 문자 위치 자\n",
    "print(\"1234567890\"*4)\n",
    "\n"
   ],
   "metadata": {},
   "execution_count": null,
   "outputs": []
  },
  {
   "cell_type": "code",
   "execution_count": null,
   "metadata": {},
   "outputs": [],
   "source": [
    "a = 1.0\n",
    "b = 23456000000000000000\n",
    "print(\"%e + %e = %e\" % (a, b, a+b))\n"
   ]
  },
  {
   "cell_type": "code",
   "execution_count": null,
   "metadata": {},
   "outputs": [],
   "source": [
    "a = -5.0\n",
    "b = 23456000000000000000\n",
    "print(\"%+g * %+g = %+g\" % (a, b, a*b))\n"
   ]
  },
  {
   "cell_type": "code",
   "execution_count": null,
   "metadata": {},
   "outputs": [],
   "source": [
    "a = 1.0\n",
    "b = 2\n",
    "c = a * b\n",
    "print(\"%s * %s = %s\" % (a, b, c))\n",
    "\n"
   ]
  },
  {
   "cell_type": "code",
   "execution_count": null,
   "metadata": {},
   "outputs": [],
   "source": [
    "aa = \"real 1.0\"\n",
    "bb = 3\n",
    "cc = aa * bb\n",
    "print(\"%s * %s = %s\" % (aa, bb, cc))\n",
    "\n"
   ]
  },
  {
   "cell_type": "markdown",
   "metadata": {},
   "source": [
    "`%r`\n"
   ]
  },
  {
   "cell_type": "code",
   "execution_count": null,
   "metadata": {},
   "outputs": [],
   "source": [
    "aa = \"real 1.0\"\n",
    "bb = 3\n",
    "cc = aa * bb\n",
    "print(\"%r * %r = %r\" % (aa, bb, cc))\n",
    "\n"
   ]
  },
  {
   "cell_type": "code",
   "execution_count": null,
   "metadata": {},
   "outputs": [],
   "source": [
    "aa = \"real 1.0\"\n",
    "bb = 3\n",
    "cc = aa * bb\n",
    "# 아래는 Try Except Block\n",
    "# \"예외 처리\"를 위함\n",
    "try:\n",
    "  # Error!\n",
    "  print(\"%f * %f = %f\" % (aa, bb, cc))\n",
    "except TypeError as e:\n",
    "  print(e)\n",
    "# Try Exception Block 끝\n"
   ]
  },
  {
   "cell_type": "code",
   "source": [
    "dd = 'a\\tb'\n",
    "print('%s' % dd)\n",
    "\n"
   ],
   "metadata": {},
   "execution_count": null,
   "outputs": []
  },
  {
   "cell_type": "code",
   "source": [
    "print('%r' % dd)\n",
    "\n"
   ],
   "metadata": {},
   "execution_count": null,
   "outputs": []
  },
  {
   "cell_type": "markdown",
   "metadata": {},
   "source": [
    "### `.format()`\n",
    "\n"
   ]
  },
  {
   "cell_type": "code",
   "execution_count": null,
   "metadata": {},
   "outputs": [],
   "source": [
    "print(\"{} + {} = {}\".format(a, b, a+b))\n",
    "\n"
   ]
  },
  {
   "cell_type": "markdown",
   "metadata": {},
   "source": [
    "### f-string\n",
    "\n"
   ]
  },
  {
   "cell_type": "markdown",
   "source": [
    "Since python 3.6, f-string is available. (Possibly the most popular)<br>\n",
    "python 3.6 이후 f 문자열을 사용할 수 있다. (아마도 가장 널리 사용)\n"
   ],
   "metadata": {}
  },
  {
   "cell_type": "markdown",
   "source": [
    "Unlike the other methods above, f-string enables co-locating the values and their respective locations within the string itself.<br>이전의 방식들과는 달리, f-문자열은 문자열 안에서 값과 위치를 일치시킬 수 있다.\n"
   ],
   "metadata": {}
  },
  {
   "cell_type": "code",
   "execution_count": null,
   "metadata": {},
   "outputs": [],
   "source": [
    "print(f\"{a} + {b} = {a+b}\")\n",
    "\n"
   ]
  },
  {
   "cell_type": "code",
   "source": [
    "print(f\"{a:f} + {b:16e} = {(a+b):010.2e}\")\n",
    "\n"
   ],
   "metadata": {},
   "execution_count": null,
   "outputs": []
  },
  {
   "cell_type": "markdown",
   "metadata": {},
   "source": [
    "## 함수<br>Functions\n",
    "\n"
   ]
  },
  {
   "cell_type": "markdown",
   "metadata": {},
   "source": [
    "자주 반복되는 코드는 함수로 모아 두면 편리하다.<br>\n",
    "It is convenient to wrap a frequently used code block into a function.\n",
    "\n"
   ]
  },
  {
   "cell_type": "code",
   "execution_count": null,
   "metadata": {},
   "outputs": [],
   "source": [
    "print(2 * 'abc')\n",
    "\n"
   ]
  },
  {
   "cell_type": "markdown",
   "metadata": {},
   "source": [
    "파이썬 함수는 `def` 로 시작한다.<br>`def` keyword indicates the beginning of a function.\n",
    "\n"
   ]
  },
  {
   "cell_type": "markdown",
   "metadata": {},
   "source": [
    "`def` 다음에는 함수의 이름이 자리한다.<br>Next to the `def` keyword is the name of the function.\n",
    "\n"
   ]
  },
  {
   "cell_type": "markdown",
   "metadata": {},
   "source": [
    "함수의 이름 뒤의 `(` `)` 안에는 매개변수가 들어간다.<br>The arguments are in the `(` `)` after the name.\n",
    "\n"
   ]
  },
  {
   "cell_type": "markdown",
   "metadata": {},
   "source": [
    "함수의 내용에 해당하는 행은 들여쓰기로 표시한다.<br>The lines belong to the function are indented.\n",
    "\n"
   ]
  },
  {
   "cell_type": "markdown",
   "metadata": {},
   "source": [
    "`return` 으로 결과를 반환한다.<br>Values after the `return` will be the results of the function.\n",
    "\n"
   ]
  },
  {
   "cell_type": "code",
   "execution_count": null,
   "metadata": {},
   "outputs": [],
   "source": [
    "def twice(x):\n",
    "    return 2 * x\n",
    "# end of indentation indicates the end of the function\n",
    "# 들여쓰기가 끝나는 곳은 함수의 끝\n",
    "\n"
   ]
  },
  {
   "cell_type": "markdown",
   "metadata": {},
   "source": [
    "아래는 함수를 호출 한 예 이다.<br>\n",
    "   We can call a function as follows.\n",
    "\n"
   ]
  },
  {
   "cell_type": "markdown",
   "metadata": {},
   "source": [
    "함수의 이름 뒤에 괄호 `(` `)` 를 열고 전달할 매개변수 값을 나열한 뒤 괄호를 닫는다.<br>\n",
    "   Between the parenthesis `(` `)` after the function name, list the parameter valuse.\n",
    "\n"
   ]
  },
  {
   "cell_type": "code",
   "execution_count": null,
   "metadata": {},
   "outputs": [],
   "source": [
    "twice(12)\n",
    "\n"
   ]
  },
  {
   "cell_type": "code",
   "execution_count": null,
   "metadata": {},
   "outputs": [],
   "source": [
    "twice('abc')\n",
    "\n"
   ]
  },
  {
   "cell_type": "markdown",
   "metadata": {},
   "source": [
    "In iPython, `_` indicates the result from the previous cell.<br>iPython 에서 `_` 는 이전 셀의 결과를 가리킨다.\n",
    "\n"
   ]
  },
  {
   "cell_type": "code",
   "execution_count": null,
   "metadata": {},
   "outputs": [],
   "source": [
    "_\n",
    "\n"
   ]
  },
  {
   "cell_type": "code",
   "execution_count": null,
   "metadata": {},
   "outputs": [],
   "source": [
    "twice(_)\n",
    "\n"
   ]
  },
  {
   "cell_type": "markdown",
   "metadata": {},
   "source": [
    "여기서 함수 `twice()` 가 반환한 값은 변수 `b`에 저장된다.<br>Here, the returned value from the function `twice()` is stored in the variable `b`.\n",
    "\n"
   ]
  },
  {
   "cell_type": "code",
   "execution_count": null,
   "metadata": {},
   "outputs": [],
   "source": [
    "b = twice('a')\n",
    "print(b)\n",
    "\n"
   ]
  },
  {
   "cell_type": "code",
   "execution_count": null,
   "metadata": {},
   "outputs": [],
   "source": [
    "twice('zzz')\n"
   ]
  },
  {
   "cell_type": "markdown",
   "source": [
    "### Benefits of functions<br>함수의 장점\n",
    "* More readable.<br>더 읽기 좋다.\n",
    "* More maintainable.<br>관리하기 좋다.\n",
    "* Reusable.<br>재사용할 수 있다.\n",
    "\n"
   ],
   "metadata": {}
  },
  {
   "cell_type": "markdown",
   "metadata": {},
   "source": [
    "### 변수의 유효범위<br>Scope of variables\n",
    "\n"
   ]
  },
  {
   "cell_type": "markdown",
   "source": [
    "The variables defined within a function is created when the function is called and deleted when the function returns. We call them **local variables**.<br>함수 안에서 정의된 변수는 함수가 호출될 때 생기고 함수가 반환할 때 사라진다.  이러한 변수를 **지역변수** 라고 부른다.\n",
    "\n"
   ],
   "metadata": {}
  },
  {
   "cell_type": "markdown",
   "metadata": {},
   "source": [
    "Outside of a function, the local variables defined inside are not accessable.<br>함수 안에서 정의된 지역 변수는 함수 밖에서 읽을 수 없다.\n",
    "\n"
   ]
  },
  {
   "cell_type": "code",
   "execution_count": null,
   "metadata": {},
   "outputs": [],
   "source": [
    "def can_you_read_b(x):\n",
    "    b_in_function = 2\n",
    "    print(\"b_in_function =\", b_in_function)\n",
    "    return b_in_function + x\n",
    "\n"
   ]
  },
  {
   "cell_type": "code",
   "execution_count": null,
   "metadata": {},
   "outputs": [],
   "source": [
    "can_you_read_b(2)\n",
    "\n"
   ]
  },
  {
   "cell_type": "code",
   "execution_count": null,
   "metadata": {},
   "outputs": [],
   "source": [
    "can_you_read_b(10)\n",
    "\n"
   ]
  },
  {
   "cell_type": "code",
   "execution_count": null,
   "metadata": {},
   "outputs": [],
   "source": [
    "try:\n",
    "    # 아래 행은 오류를 발생시킬 것이다.\n",
    "    # Following line would cause an error\n",
    "    print(\"b_in_function =\", b_in_function)\n",
    "except NameError as e:\n",
    "    # 위 try: 와 except 사이에서 오류가 발생하면 아래 행이 실행\n",
    "    # In case of an error between try and except, following line runs\n",
    "    print(\"NameError:\",e)\n",
    "\n"
   ]
  },
  {
   "cell_type": "markdown",
   "metadata": {},
   "source": [
    "Within a function, the **global variables** defined outside are available.<br>함수 안에서는 함수 밖에 정의된 **전역변수** 값에 접근할 수 있다.\n",
    "\n"
   ]
  },
  {
   "cell_type": "code",
   "execution_count": null,
   "metadata": {},
   "outputs": [],
   "source": [
    "a = 100\n",
    "\n"
   ]
  },
  {
   "cell_type": "code",
   "execution_count": null,
   "metadata": {},
   "outputs": [],
   "source": [
    "def can_this_use_a(x):\n",
    "    print(\"a =\", a)\n",
    "    print(\"x =\", x)\n",
    "    return a + x\n",
    "\n"
   ]
  },
  {
   "cell_type": "code",
   "execution_count": null,
   "metadata": {},
   "outputs": [],
   "source": [
    "can_this_use_a(3)\n",
    "\n"
   ]
  },
  {
   "cell_type": "markdown",
   "source": [
    "ATTENTION : FUNCTIONS MAY OVERWRITE GLOBAL VARIABLES!!!<br>주의 : 함수가 전역변수를 덮어쓸 수 있다!!!\n",
    "\n"
   ],
   "metadata": {}
  },
  {
   "cell_type": "code",
   "source": [
    "def can_this_change_a(x):\n",
    "    global a\n",
    "    print(\"before : a =\", a, \"x = \", x)\n",
    "    a = x\n",
    "    print(\"after : a =\", a, \"x = \", x)\n",
    "\n"
   ],
   "metadata": {},
   "execution_count": null,
   "outputs": []
  },
  {
   "cell_type": "code",
   "source": [
    "can_this_change_a('new a value')\n",
    "print('a =', a)\n",
    "\n"
   ],
   "metadata": {},
   "execution_count": null,
   "outputs": []
  },
  {
   "cell_type": "markdown",
   "metadata": {},
   "source": [
    "함수 안의 변수가 우선한다.<br>\n",
    "Variables inside of the function has higher priority.<br>\n",
    "함수 안에서 변수값을 할당해도 함수 밖 변수 값에 영향을 주지 않는다.<br>\n",
    "Assigining a variable within a function does not influence the variable outside of the function.\n",
    "\n"
   ]
  },
  {
   "cell_type": "code",
   "execution_count": null,
   "metadata": {},
   "outputs": [],
   "source": [
    "z = 1 # Global variable 전역변수\n",
    "\n",
    "def x_times_z(x):\n",
    "  z = 2 # Local variable 지역변수\n",
    "  print('z in the function =', z)\n",
    "  return x * z\n",
    "\n"
   ]
  },
  {
   "cell_type": "code",
   "execution_count": null,
   "metadata": {},
   "outputs": [],
   "source": [
    "print(x_times_z(z))\n",
    "print(\"z outside of the function =\", z)\n",
    "\n"
   ]
  },
  {
   "cell_type": "markdown",
   "metadata": {},
   "source": [
    "### 함수의 기본 매개변수<br>Default Arguments\n",
    "\n"
   ]
  },
  {
   "cell_type": "markdown",
   "metadata": {},
   "source": [
    "파이썬 함수를 정의할 때 매개변수에 기본값을 정해놓을 수 있다.<br>\n",
    "One may designate a default value when defining a python function.\n",
    "\n"
   ]
  },
  {
   "cell_type": "code",
   "execution_count": null,
   "metadata": {},
   "outputs": [],
   "source": [
    "def ax_plus_b(x, a=2, b=3):\n",
    "\n",
    "    print(f'x = {x}', end=', ')\n",
    "    print(f'a = {a}', end=', ')\n",
    "    print(f'b = {b}')\n",
    "\n",
    "    return a * x + b\n",
    "\n"
   ]
  },
  {
   "cell_type": "code",
   "execution_count": null,
   "metadata": {},
   "outputs": [],
   "source": [
    "ax_plus_b(1, 4, 5)\n",
    "\n"
   ]
  },
  {
   "cell_type": "code",
   "execution_count": null,
   "metadata": {},
   "outputs": [],
   "source": [
    "ax_plus_b(1)\n",
    "\n"
   ]
  },
  {
   "cell_type": "code",
   "execution_count": null,
   "metadata": {},
   "outputs": [],
   "source": [
    "ax_plus_b(1, 1)\n",
    "\n"
   ]
  },
  {
   "cell_type": "code",
   "execution_count": null,
   "metadata": {},
   "outputs": [],
   "source": [
    "ax_plus_b(1, b=1)\n",
    "\n"
   ]
  },
  {
   "cell_type": "markdown",
   "metadata": {},
   "source": [
    "### Callback Function<br>콜백함수\n",
    "\n"
   ]
  },
  {
   "cell_type": "markdown",
   "source": [
    "A callback function is a function (let's call this `f()`) you provide as an input argument to another function (and call this `s()`).<br>콜백함수(`f()`함수라고 하자)는 다른 함수(`s()`라고 하자)에 입력 매개변수로 전달하는 함수이다.<br>The \"another\" function `s()` will call your function `f()` with specific information or results as it runs.<br>함수`s()`가 실행 중 특정 싯점에 함수`f()`를 호출할 것이다.\n",
    "\n"
   ],
   "metadata": {}
  },
  {
   "cell_type": "markdown",
   "metadata": {},
   "source": [
    "아래 두 함수가 주어져 있다.<br>Following two functions are given.\n",
    "\n"
   ]
  },
  {
   "cell_type": "code",
   "execution_count": null,
   "metadata": {},
   "outputs": [],
   "source": [
    "def add(a, b):\n",
    "    print(f\"{a} + {b}\")\n",
    "    return a + b\n",
    "\n",
    "def mul(a, b):\n",
    "    print(f\"{a} * {b}\")\n",
    "    return a * b\n",
    "\n"
   ]
  },
  {
   "cell_type": "markdown",
   "metadata": {},
   "source": [
    "아래와 같은 함수를 생각해 보자.<br>Let's consider a function as follows.\n",
    "\n"
   ]
  },
  {
   "cell_type": "code",
   "execution_count": null,
   "metadata": {},
   "outputs": [],
   "source": [
    "def s(f, aa, bb):\n",
    "    return f(aa, bb)\n",
    "\n"
   ]
  },
  {
   "cell_type": "markdown",
   "metadata": {},
   "source": [
    "Here, let's pass another function's name as the argument `f`.<br>여기서 매개변수 `f`로 다른 함수의 이름을 전달해 보자.\n",
    "\n"
   ]
  },
  {
   "cell_type": "code",
   "execution_count": null,
   "metadata": {},
   "outputs": [],
   "source": [
    "print(s(add, 1, 2))\n",
    "\n"
   ]
  },
  {
   "cell_type": "code",
   "execution_count": null,
   "metadata": {},
   "outputs": [],
   "source": [
    "print(s(mul, 1, 2))\n",
    "\n"
   ]
  },
  {
   "cell_type": "markdown",
   "metadata": {},
   "source": [
    "위 두 함수 호출의 결과에 대해 어떻게 생각하는가?<br>What do you think about the results of the two function calls above.\n",
    "\n"
   ]
  },
  {
   "cell_type": "markdown",
   "source": [
    "Also let's think about the following function.<br>또한 다음 함수를 생각해 보자.\n",
    "\n"
   ],
   "metadata": {}
  },
  {
   "cell_type": "code",
   "source": [
    "def mini_reduce(f, aa, bb, cc):\n",
    "    # call f with aa and bb as arguments\n",
    "    # 함수 f 를 매개 변수로 aa 와 bb 를 써서 호츨\n",
    "    first_result = f(aa, bb)\n",
    "    # this time, result from the previous function call and cc as arguments\n",
    "    # 이번에는 위 호출의 결과와 cc를 매개변수로\n",
    "    second_result = f(first_result, cc)\n",
    "    return second_result\n",
    "\n"
   ],
   "metadata": {},
   "execution_count": null,
   "outputs": []
  },
  {
   "cell_type": "code",
   "source": [
    "adj_m = 3 # adjacent leg\n",
    "opp_m = 4 # opposite leg\n",
    "hyp_m = 5 # hypotenuse\n",
    "\n",
    "perimeter_m = mini_reduce(add, adj_m, opp_m, hyp_m)\n",
    "print(perimeter_m)\n",
    "\n"
   ],
   "metadata": {},
   "execution_count": null,
   "outputs": []
  },
  {
   "cell_type": "code",
   "source": [
    "width_m = 3\n",
    "depth_m = 4\n",
    "height_m = 5\n",
    "\n",
    "box_volume_m3 = mini_reduce(mul, width_m, depth_m, height_m)\n",
    "print(box_volume_m3)\n",
    "\n"
   ],
   "metadata": {},
   "execution_count": null,
   "outputs": []
  },
  {
   "cell_type": "markdown",
   "source": [
    "### `lambda`\n",
    "\n"
   ],
   "metadata": {}
  },
  {
   "cell_type": "markdown",
   "metadata": {},
   "source": [
    "`lambda` defines an anonymous function.<br>`lambda`로 이름 없는 함수를 정의할 수 있다.\n",
    "\n"
   ]
  },
  {
   "cell_type": "code",
   "execution_count": null,
   "metadata": {},
   "outputs": [],
   "source": [
    "print(s(lambda x, y: x/y, 15, 2))\n",
    "\n"
   ]
  },
  {
   "cell_type": "markdown",
   "source": [
    "The cell above is (almost) equivalent to the following cell.<br>위 셀과 아래 셀은 효과가 (거의) 같다.\n",
    "\n"
   ],
   "metadata": {}
  },
  {
   "cell_type": "code",
   "source": [
    "def div(x, y):\n",
    "  return x/y\n",
    "print(s(div, 15, 2))\n",
    "\n"
   ],
   "metadata": {},
   "execution_count": null,
   "outputs": []
  },
  {
   "cell_type": "markdown",
   "source": [
    "namespace\n"
   ],
   "metadata": {}
  },
  {
   "cell_type": "code",
   "source": [
    "list(filter(lambda name:not name.startswith('_'), dir()))\n"
   ],
   "metadata": {},
   "execution_count": null,
   "outputs": []
  },
  {
   "cell_type": "markdown",
   "metadata": {},
   "source": [
    "## 모음<br>Collection\n",
    "\n"
   ]
  },
  {
   "cell_type": "markdown",
   "metadata": {},
   "source": [
    "모음은 여러 데이터를 한 **이름** 아래 저장한 것이다.<br>\n",
    "Collection contains multiple data under one **name**.\n",
    "\n"
   ]
  },
  {
   "cell_type": "markdown",
   "metadata": {},
   "source": [
    "Python 에서는 기본적으로 `list()`, `tuple()`, `dict()`, `set()` 과 같은 데이터 모음이 사용가능하다.<br>\n",
    "In python, data collections such as `list()`, `tuple()`, `dict()`, and `set()` are available built-in.\n",
    "\n"
   ]
  },
  {
   "cell_type": "markdown",
   "metadata": {},
   "source": [
    "### 리스트<br>List\n",
    "\n"
   ]
  },
  {
   "cell_type": "markdown",
   "metadata": {},
   "source": [
    "리스트는 순서 대로 몇개의 자료를 모은 것이다.<br>\n",
    "A `list()` is a collection of data in a sequnce.\n",
    "\n"
   ]
  },
  {
   "cell_type": "code",
   "execution_count": null,
   "metadata": {},
   "outputs": [],
   "source": [
    "x = list([1, 3, 5, 7, 9])\n",
    "x\n",
    "\n"
   ]
  },
  {
   "cell_type": "markdown",
   "metadata": {},
   "source": [
    "`len()` 함수를 이용하여 리스트의 항목 수를 알 수 있다.<br>\n",
    "Calling function `len()` one can find the number of items within a list.\n",
    "\n"
   ]
  },
  {
   "cell_type": "code",
   "execution_count": null,
   "metadata": {},
   "outputs": [],
   "source": [
    "len(x)\n",
    "\n"
   ]
  },
  {
   "cell_type": "markdown",
   "metadata": {},
   "source": [
    "항목을 `[` `]` 로 둘러 싸서 만들 수도 있다.<br>\n",
    "One can also make a list by wrapping items with `[` and `]`.\n",
    "\n"
   ]
  },
  {
   "cell_type": "code",
   "execution_count": null,
   "metadata": {},
   "outputs": [],
   "source": [
    "y = [1, 2, ['other', 'list'], 'python']\n",
    "y\n",
    "\n"
   ]
  },
  {
   "cell_type": "code",
   "execution_count": null,
   "metadata": {},
   "outputs": [],
   "source": [
    "len(y)\n",
    "\n"
   ]
  },
  {
   "cell_type": "markdown",
   "metadata": {},
   "source": [
    "문자열로부터 list를 만들 수도 있다.<br>\n",
    "A list can be made from a string.\n",
    "\n"
   ]
  },
  {
   "cell_type": "code",
   "execution_count": null,
   "metadata": {},
   "outputs": [],
   "source": [
    "a_list = list('abc')\n",
    "a_list\n",
    "\n"
   ]
  },
  {
   "cell_type": "markdown",
   "metadata": {},
   "source": [
    "항목을 추가할 수 있다.<br>We may add more items.\n"
   ]
  },
  {
   "cell_type": "code",
   "execution_count": null,
   "metadata": {},
   "outputs": [],
   "source": [
    "a_list.append('d')\n",
    "a_list\n",
    "\n"
   ]
  },
  {
   "cell_type": "markdown",
   "metadata": {},
   "source": [
    "다른 list를 붙인 새로운 list를 만들 수도 있다.<br>We may make a new list by connecting multiple lists.\n"
   ]
  },
  {
   "cell_type": "code",
   "execution_count": null,
   "metadata": {},
   "outputs": [],
   "source": [
    "z_list = a_list + ['yy', 'zzz']\n",
    "z_list\n",
    "\n"
   ]
  },
  {
   "cell_type": "markdown",
   "metadata": {},
   "source": [
    "#### 항목 지정<br>Indexing an item (or items)\n",
    "\n"
   ]
  },
  {
   "cell_type": "markdown",
   "metadata": {},
   "source": [
    "각 항목을 읽거나 쓰기 위해 인덱스로 순서를 지정한다.<br>\n",
    "To access each item, you can indicate by its index.\n",
    "\n"
   ]
  },
  {
   "cell_type": "markdown",
   "metadata": {},
   "source": [
    "첫 항목의 인덱스는 0 이다.  이후는 1씩 증가한다.<br>\n",
    "Index 0 indicates the first item.  Afterward, it increases by one each.\n",
    "\n"
   ]
  },
  {
   "cell_type": "markdown",
   "metadata": {},
   "source": [
    "리스트 변수 이름 뒤 대괄호 `[` `]` 사이에 해당 인덱스 값을 넣는다.<br>\n",
    "The index places between the brakets `[` `]` after the name of the list variable.\n",
    "\n"
   ]
  },
  {
   "cell_type": "code",
   "execution_count": null,
   "metadata": {},
   "outputs": [],
   "source": [
    "x\n",
    "\n"
   ]
  },
  {
   "cell_type": "code",
   "execution_count": null,
   "metadata": {},
   "outputs": [],
   "source": [
    "x[0]\n",
    "\n"
   ]
  },
  {
   "cell_type": "code",
   "execution_count": null,
   "metadata": {},
   "outputs": [],
   "source": [
    "x[1]\n",
    "\n"
   ]
  },
  {
   "cell_type": "code",
   "execution_count": null,
   "metadata": {},
   "outputs": [],
   "source": [
    "try:\n",
    "  # Error!\n",
    "  x(0)\n",
    "except TypeError as e:\n",
    "  print(e)\n",
    "\n"
   ]
  },
  {
   "cell_type": "markdown",
   "metadata": {},
   "source": [
    "`-1` 은 마지막 항목을 가리킨다.<br>\n",
    "`-` indicates the last item.\n",
    "\n"
   ]
  },
  {
   "cell_type": "code",
   "execution_count": null,
   "metadata": {},
   "outputs": [],
   "source": [
    "x[-1]\n",
    "\n"
   ]
  },
  {
   "cell_type": "code",
   "execution_count": null,
   "metadata": {},
   "outputs": [],
   "source": [
    "y[-1]\n",
    "\n"
   ]
  },
  {
   "cell_type": "markdown",
   "metadata": {},
   "source": [
    "`:` 로 여러 항목을 선택할 수도 있다. 이를 *슬라이싱* 이라고 한다.<br>\n",
    "`:` can indicate multiple items. It is called *slicing*.\n",
    "\n"
   ]
  },
  {
   "cell_type": "code",
   "execution_count": null,
   "metadata": {},
   "outputs": [],
   "source": [
    "z = list(range(20+1))\n",
    "z\n",
    "\n"
   ]
  },
  {
   "cell_type": "code",
   "execution_count": null,
   "metadata": {},
   "outputs": [],
   "source": [
    "z[2]\n",
    "\n"
   ]
  },
  {
   "cell_type": "code",
   "execution_count": null,
   "metadata": {},
   "outputs": [],
   "source": [
    "z[:2]\n",
    "\n"
   ]
  },
  {
   "cell_type": "markdown",
   "metadata": {},
   "source": [
    "위 결과에 `z[2]` 가 포함되었는가?<br>\n",
    "Does the result above include `z[2]`?\n",
    "\n"
   ]
  },
  {
   "cell_type": "code",
   "execution_count": null,
   "metadata": {},
   "outputs": [],
   "source": [
    "z[2:]\n",
    "\n"
   ]
  },
  {
   "cell_type": "markdown",
   "metadata": {},
   "source": [
    "위 결과에 `z[2]` 가 포함되었는가?<br>\n",
    "Does the result above include `z[2]`?\n",
    "\n"
   ]
  },
  {
   "cell_type": "code",
   "execution_count": null,
   "metadata": {},
   "outputs": [],
   "source": [
    "z[2:12]\n",
    "\n"
   ]
  },
  {
   "cell_type": "markdown",
   "metadata": {},
   "source": [
    "이번에는 무엇이 달라졌는가?<br>\n",
    "What is different this time?\n",
    "\n"
   ]
  },
  {
   "cell_type": "code",
   "execution_count": null,
   "metadata": {},
   "outputs": [],
   "source": [
    "z[2:12:2]\n",
    "\n"
   ]
  },
  {
   "cell_type": "markdown",
   "metadata": {},
   "source": [
    "마지막 `:2`의 역할은 무엇인가?<br>\n",
    "What is the role of the `:2` at the end?\n",
    "\n"
   ]
  },
  {
   "cell_type": "code",
   "execution_count": null,
   "metadata": {},
   "outputs": [],
   "source": [
    "z[2:12:3]\n",
    "\n"
   ]
  },
  {
   "cell_type": "code",
   "execution_count": null,
   "metadata": {},
   "outputs": [],
   "source": [
    "z[2:12:4]\n",
    "\n"
   ]
  },
  {
   "cell_type": "markdown",
   "metadata": {},
   "source": [
    "`range()` 함수의 세 매개변수의 각각의 역할은 무엇인가?<br>\n",
    "What are the respective roles of the three arguments of the `range()` function ?\n",
    "\n"
   ]
  },
  {
   "cell_type": "markdown",
   "metadata": {},
   "source": [
    "#### 소속 여부<br>Membership\n",
    "\n"
   ]
  },
  {
   "cell_type": "markdown",
   "metadata": {},
   "source": [
    "`in` 연산자로 어떤 항목이 어떤 list 에 포함되어 있는지 알 수 있다.<br>\n",
    "`in` operater can tell us if a list has a certain item.\n",
    "\n"
   ]
  },
  {
   "cell_type": "code",
   "execution_count": null,
   "metadata": {},
   "outputs": [],
   "source": [
    "z_list\n",
    "\n"
   ]
  },
  {
   "cell_type": "code",
   "execution_count": null,
   "metadata": {},
   "outputs": [],
   "source": [
    "'a' in z_list\n",
    "\n"
   ]
  },
  {
   "cell_type": "code",
   "execution_count": null,
   "metadata": {},
   "outputs": [],
   "source": [
    "\"b\" in z_list\n",
    "\n"
   ]
  },
  {
   "cell_type": "code",
   "execution_count": null,
   "metadata": {},
   "outputs": [],
   "source": [
    "'z' in z_list\n",
    "\n"
   ]
  },
  {
   "cell_type": "code",
   "execution_count": null,
   "metadata": {},
   "outputs": [],
   "source": [
    "'zzz' in z_list\n",
    "\n"
   ]
  },
  {
   "cell_type": "code",
   "execution_count": null,
   "metadata": {},
   "outputs": [],
   "source": [
    "'z' in \"zzz\"\n",
    "\n"
   ]
  },
  {
   "cell_type": "code",
   "execution_count": null,
   "metadata": {},
   "outputs": [],
   "source": [
    "'zz' in \"zzz\"\n",
    "\n"
   ]
  },
  {
   "cell_type": "markdown",
   "metadata": {},
   "source": [
    "### list & tuple\n",
    "\n"
   ]
  },
  {
   "cell_type": "markdown",
   "metadata": {},
   "source": [
    "리스트 `list` 와 튜플 `tuple` 모두 여러 항목을 저장할 수 있다.<br>Both `list` and `tuple` can store multiple items.\n",
    "\n"
   ]
  },
  {
   "cell_type": "markdown",
   "metadata": {},
   "source": [
    "또한 각 항목을 순서로 구분한다.<br>Also, distinguish each item with the order.\n",
    "\n"
   ]
  },
  {
   "cell_type": "markdown",
   "metadata": {},
   "source": [
    "리스트는 항목을 변경 추가 삭제할 수 있으나 (mutable) 튜플은 한번 만들어지면 변경할 수 없다 (immutable).<br>We may change, add, or remove items in lists (mutable) but we cannot with tuples (immutable).\n",
    "\n"
   ]
  },
  {
   "cell_type": "markdown",
   "metadata": {},
   "source": [
    "예를 들어 다음을 생각해 보자.<br>Let's check the followings.\n",
    "\n"
   ]
  },
  {
   "cell_type": "code",
   "execution_count": null,
   "metadata": {},
   "outputs": [],
   "source": [
    "x_list = [1, 2, 3]\n",
    "print(\"before :\", x_list)\n",
    "x_list[0] = '0'\n",
    "print(\"after :\", x_list)\n",
    "\n"
   ]
  },
  {
   "cell_type": "markdown",
   "metadata": {},
   "source": [
    "튜플 tuple 의 경우, 항목을 바꿀 수 없으므로 아래 예에서 예외 Exception 가 발생한다.<br>\n",
    "Because a tuple does not allow chaning one of its items, following example would raise an Exception.\n",
    "\n"
   ]
  },
  {
   "cell_type": "code",
   "execution_count": null,
   "metadata": {},
   "outputs": [],
   "source": [
    "try:\n",
    "    z_tuple = (4, 5, 6)\n",
    "    print(\"before :\", z_tuple)\n",
    "    # Error!\n",
    "    z_tuple[0] = '0'\n",
    "    print(\"after :\", z_tuple)\n",
    "except TypeError as e:\n",
    "    print(e)\n",
    "    print('cannot change an item in tuple')\n",
    "\n"
   ]
  },
  {
   "cell_type": "markdown",
   "metadata": {},
   "source": [
    "### 딕셔너리<br>Dictionary\n",
    "\n"
   ]
  },
  {
   "cell_type": "markdown",
   "metadata": {},
   "source": [
    "순서로 각 요소를 구분하는 list 나 tuple 과는 달리 `dict`는 key - value 쌍을 저장한다.<br>Unlike list or tuple distinguishing items by the sequence, `dict` stores key - value pairs.\n",
    "\n"
   ]
  },
  {
   "cell_type": "code",
   "execution_count": null,
   "metadata": {},
   "outputs": [],
   "source": [
    "a_dict = {\n",
    "    'name': 'Iron',   # key : 'name', value : 'Iron'\n",
    "    'atomic no': 26,  # key : 'atomic number', value : 26\n",
    "}\n",
    "\n"
   ]
  },
  {
   "cell_type": "code",
   "execution_count": null,
   "metadata": {},
   "outputs": [],
   "source": [
    "a_dict\n",
    "\n"
   ]
  },
  {
   "cell_type": "code",
   "execution_count": null,
   "metadata": {},
   "outputs": [],
   "source": [
    "a_dict['name']\n",
    "\n"
   ]
  },
  {
   "cell_type": "code",
   "execution_count": null,
   "metadata": {},
   "outputs": [],
   "source": [
    "a_dict['atomic no']\n",
    "\n"
   ]
  },
  {
   "cell_type": "markdown",
   "metadata": {},
   "source": [
    "(하나 또는 여러개의) 새로운 key - value 쌍을 추가할 수도 있다.<br>One can add a new key - value pair(or pairs).\n",
    "\n"
   ]
  },
  {
   "cell_type": "code",
   "execution_count": null,
   "metadata": {},
   "outputs": [],
   "source": [
    "a_dict\n",
    "\n"
   ]
  },
  {
   "cell_type": "code",
   "execution_count": null,
   "metadata": {},
   "outputs": [],
   "source": [
    "a_dict['atomic weight'] = 55\n",
    "\n"
   ]
  },
  {
   "cell_type": "code",
   "execution_count": null,
   "metadata": {},
   "outputs": [],
   "source": [
    "a_dict\n",
    "\n"
   ]
  },
  {
   "cell_type": "markdown",
   "metadata": {},
   "source": [
    "`in`\n",
    "\n"
   ]
  },
  {
   "cell_type": "code",
   "execution_count": null,
   "metadata": {},
   "outputs": [],
   "source": [
    "'name' in a_dict\n",
    "\n"
   ]
  },
  {
   "cell_type": "code",
   "execution_count": null,
   "metadata": {},
   "outputs": [],
   "source": [
    "a_dict.keys()\n",
    "\n"
   ]
  },
  {
   "cell_type": "code",
   "execution_count": null,
   "metadata": {},
   "outputs": [],
   "source": [
    "'name' in a_dict.keys()\n",
    "\n"
   ]
  },
  {
   "cell_type": "code",
   "execution_count": null,
   "metadata": {},
   "outputs": [],
   "source": [
    "'Iron' in a_dict\n",
    "\n"
   ]
  },
  {
   "cell_type": "markdown",
   "metadata": {},
   "source": [
    "#### `.get()`\n",
    "\n"
   ]
  },
  {
   "cell_type": "code",
   "execution_count": null,
   "metadata": {},
   "outputs": [],
   "source": [
    "a_dict['name']\n",
    "\n"
   ]
  },
  {
   "cell_type": "code",
   "execution_count": null,
   "metadata": {},
   "outputs": [],
   "source": [
    "a_dict.get('name')\n",
    "\n"
   ]
  },
  {
   "cell_type": "code",
   "execution_count": null,
   "metadata": {},
   "outputs": [],
   "source": [
    "'price' in a_dict\n",
    "\n"
   ]
  },
  {
   "cell_type": "code",
   "execution_count": null,
   "metadata": {},
   "outputs": [],
   "source": [
    "try:\n",
    "    # Error!\n",
    "    a_dict['price']\n",
    "except KeyError as e:\n",
    "    print(\"KeyError:\", e)\n",
    "\n"
   ]
  },
  {
   "cell_type": "code",
   "execution_count": null,
   "metadata": {},
   "outputs": [],
   "source": [
    "# No error\n",
    "a_dict.get('price')\n",
    "\n"
   ]
  },
  {
   "cell_type": "code",
   "execution_count": null,
   "metadata": {},
   "outputs": [],
   "source": [
    "a_dict.get('price', '''Does not have 'price' yet.''')\n",
    "\n"
   ]
  },
  {
   "cell_type": "code",
   "execution_count": null,
   "metadata": {},
   "outputs": [],
   "source": [
    "a_dict.get(\n",
    "    'atomic no',\n",
    "    '''Does not have 'atomic no' yet.'''\n",
    ")\n",
    "\n"
   ]
  },
  {
   "cell_type": "markdown",
   "metadata": {},
   "source": [
    "#### `.update()`\n",
    "\n"
   ]
  },
  {
   "cell_type": "code",
   "execution_count": null,
   "metadata": {},
   "outputs": [],
   "source": [
    "dict_b = {\n",
    "    'atomic weight': 55.845,\n",
    "    'poisson ratio': 0.29,\n",
    "}\n",
    "\n"
   ]
  },
  {
   "cell_type": "code",
   "execution_count": null,
   "metadata": {},
   "outputs": [],
   "source": [
    "dict_b\n",
    "\n"
   ]
  },
  {
   "cell_type": "code",
   "execution_count": null,
   "metadata": {},
   "outputs": [],
   "source": [
    "a_dict\n",
    "\n"
   ]
  },
  {
   "cell_type": "code",
   "execution_count": null,
   "metadata": {},
   "outputs": [],
   "source": [
    "a_dict.update(dict_b)\n",
    "\n"
   ]
  },
  {
   "cell_type": "code",
   "execution_count": null,
   "metadata": {},
   "outputs": [],
   "source": [
    "a_dict\n",
    "\n"
   ]
  },
  {
   "cell_type": "markdown",
   "source": [
    "## Conditional Execution and Iteration<br>조건문과 반복문\n",
    "\n"
   ],
   "metadata": {}
  },
  {
   "cell_type": "markdown",
   "metadata": {},
   "source": [
    "### `if` `elif` `else`\n",
    "\n"
   ]
  },
  {
   "cell_type": "markdown",
   "metadata": {},
   "source": [
    "어떤 논리 연산의 결과에 따라 특정 코드를 실행시키도록 할 수 있다.<br>\n",
    "Depending on the result of a logical operation, we may activate a certain block of code to run.\n",
    "\n"
   ]
  },
  {
   "cell_type": "code",
   "execution_count": null,
   "metadata": {},
   "outputs": [],
   "source": [
    "a = 1\n",
    "1 == a\n",
    "\n"
   ]
  },
  {
   "cell_type": "code",
   "execution_count": null,
   "metadata": {},
   "outputs": [],
   "source": [
    "if 1 == a:\n",
    "    print(\"Variable `a` contains one\")\n",
    "\n"
   ]
  },
  {
   "cell_type": "markdown",
   "metadata": {},
   "source": [
    "결과에 따라 특정 코드를 대신 실행시키도록 할 수 있다.<br>\n",
    "Depending on the result, we may make a different block of code to run.\n",
    "\n"
   ]
  },
  {
   "cell_type": "code",
   "execution_count": null,
   "metadata": {},
   "outputs": [],
   "source": [
    "a = 1\n",
    "if 2 == a:\n",
    "    print(\"Variable `a` is equal to two\")\n",
    "else:\n",
    "    print(\"Variable `a` is not equal to two\")\n",
    "\n"
   ]
  },
  {
   "cell_type": "markdown",
   "metadata": {},
   "source": [
    "또한 여러 논리식을 순차적으로 검토하여 실행할 코드를 선택할 수도 있다.<br>\n",
    "Also, we may choose which code to run by evaluating a series of logical operations.\n",
    "\n"
   ]
  },
  {
   "cell_type": "code",
   "execution_count": null,
   "metadata": {},
   "outputs": [],
   "source": [
    "a = 0\n",
    "if 0 < a:\n",
    "    print(\"Variable `a` is positive\")\n",
    "elif 0 > a:\n",
    "    print(\"Variable `a` contains a negative number\")\n",
    "elif 0 == a:\n",
    "    print(\"`a` is zero\")\n",
    "elif 0 >= a:\n",
    "    print(\"`a` is zero or negative\")\n",
    "else:\n",
    "    # 상정 이외의 경우에는 오류를 발생시켜야 할 수도 있다.\n",
    "    # On an exceptional case, we may need to raise one.\n",
    "    raise NotImplementedError\n",
    "\n"
   ]
  },
  {
   "cell_type": "markdown",
   "metadata": {},
   "source": [
    "### `for` iterations<br>`for` 반복문\n",
    "\n"
   ]
  },
  {
   "cell_type": "markdown",
   "metadata": {},
   "source": [
    "어떤 작업을 정해진 횟수 만큼 반복시키고 싶다면 `for` 문을 사용할 수 있다.<br>\n",
    "`for` loops for a fixed number of iterations.\n",
    "\n"
   ]
  },
  {
   "cell_type": "code",
   "execution_count": null,
   "metadata": {},
   "outputs": [],
   "source": [
    "for a in [1, 'a', 3, 'b', 5]:\n",
    "  print(a)\n",
    "  print(\"end of for block\")\n",
    "\n"
   ]
  },
  {
   "cell_type": "code",
   "execution_count": null,
   "metadata": {},
   "outputs": [],
   "source": [
    "for a in [1, 'a', 3, 'b', 5]:\n",
    "  print(a)\n",
    "print(\"end of for block\")\n",
    "\n"
   ]
  },
  {
   "cell_type": "code",
   "execution_count": null,
   "metadata": {},
   "outputs": [],
   "source": [
    "a = 'iteration'\n",
    "\n",
    "for i in [0, 'a', ['b', 2],]:\n",
    "  print(i, a)\n",
    "\n",
    "print(\"end of for block\")\n",
    "\n"
   ]
  },
  {
   "cell_type": "markdown",
   "metadata": {},
   "source": [
    "위 셀에서 변수 `i` 는 `in` 다음의 list 안의 값을 하나씩 짚을 것이다.<br>In the cell above, the variable `i` will step over the values of the list following `in`.\n",
    "\n"
   ]
  },
  {
   "cell_type": "markdown",
   "metadata": {},
   "source": [
    "`n` 번 반복시키려면 0 부터 `n-1` 까지 발생시키는 `range(n)` 을 사용할 수 있다.<br>\n",
    "To loop `n` iterations, we can use `range(n)` that will generate from 0 to `n-1`.\n",
    "\n"
   ]
  },
  {
   "cell_type": "code",
   "execution_count": null,
   "metadata": {},
   "outputs": [],
   "source": [
    "a = 'iteration'\n",
    "n = 5\n",
    "\n",
    "for i in range(n):\n",
    "    print(i, a)\n",
    "\n",
    "print(\"end of for block\")\n",
    "\n"
   ]
  },
  {
   "cell_type": "markdown",
   "metadata": {},
   "source": [
    "`range()` 를 이용하여 새로운 list를 만들어 갈 수도 있다.<br>\n",
    "We may make a new list using the `range()`.\n",
    "\n"
   ]
  },
  {
   "cell_type": "code",
   "execution_count": null,
   "metadata": {},
   "outputs": [],
   "source": [
    "square = []\n",
    "n = 10\n",
    "\n",
    "for i in range(n):\n",
    "    square.append(i * i)\n",
    "    print(\"i =\", i, \", square =\", square)\n",
    "\n",
    "print(square)\n",
    "\n"
   ]
  },
  {
   "cell_type": "markdown",
   "metadata": {},
   "source": [
    "Arguments of the `range()` function<br>\n",
    "`range()` 함수의 매개변수\n",
    "\n"
   ]
  },
  {
   "cell_type": "code",
   "execution_count": null,
   "metadata": {},
   "outputs": [],
   "source": [
    "for i in range(1, 10+1, 2):\n",
    "  print(i, end=', ')\n",
    "\n"
   ]
  },
  {
   "cell_type": "markdown",
   "metadata": {},
   "source": [
    "### `while` iterations<br>`while` 반복문\n",
    "\n"
   ]
  },
  {
   "cell_type": "markdown",
   "metadata": {},
   "source": [
    "Whenever possible, please use `for` loops.<br>가능하면 `for` 반복문을 사용하기 바람.\n",
    "\n"
   ]
  },
  {
   "cell_type": "code",
   "execution_count": null,
   "metadata": {},
   "outputs": [],
   "source": [
    "i = 0\n",
    "while (i < 3):\n",
    "  i = i + 1\n",
    "  # what if line above missing?\n",
    "  # infinite loop\n",
    "  print(\"Is i ==\", i, \"less than 3 ?\", i < 3)\n",
    "print(\"end of while loop\")\n",
    "\n"
   ]
  },
  {
   "cell_type": "markdown",
   "metadata": {},
   "source": [
    "## 파일 입출력<br>File I/O\n",
    "\n"
   ]
  },
  {
   "cell_type": "markdown",
   "metadata": {},
   "source": [
    "파이썬에서 파일을 읽고 쓸 때는 `open()` 함수를 호출한다.<br>\n",
    "To read from or write to a file in python, we can usually start with calling `open()`.\n",
    "\n"
   ]
  },
  {
   "cell_type": "code",
   "execution_count": null,
   "metadata": {},
   "outputs": [],
   "source": [
    "%%writefile hello.txt\n",
    "Hello python!\n"
   ]
  },
  {
   "cell_type": "code",
   "execution_count": null,
   "metadata": {},
   "outputs": [],
   "source": [
    "fi = open(\"hello.txt\", 'rt')\n",
    "print(fi.read())\n",
    "fi.close()\n",
    "\n"
   ]
  },
  {
   "cell_type": "markdown",
   "metadata": {},
   "source": [
    "* IPython magic command\n",
    "* https://ipython.readthedocs.io/en/stable/interactive/magics.html#cellmagic-writefile\n",
    "\n"
   ]
  },
  {
   "cell_type": "markdown",
   "metadata": {},
   "source": [
    "File write mode 파일 쓰기 모드\n"
   ]
  },
  {
   "cell_type": "code",
   "execution_count": null,
   "metadata": {},
   "outputs": [],
   "source": [
    "fo = open(\"sample.txt\", \"wt\")\n",
    "fo.write(\"Hello Python!\\n\")\n",
    "fo.close()\n",
    "\n"
   ]
  },
  {
   "cell_type": "markdown",
   "metadata": {},
   "source": [
    "`with`와 `as`, 들여쓰기로 파일이 열려 있는 구간을 표시하는 *Context Manager* 방식도 가능하다.<br>We may also use the *Context Manager*. It uses `with` and `as` keywords.  Indentation indicates that the file is open.\n",
    "\n"
   ]
  },
  {
   "cell_type": "code",
   "execution_count": null,
   "metadata": {},
   "outputs": [],
   "source": [
    "with open(\"sample.txt\", \"rt\") as fi:\n",
    "    # file is open\n",
    "    txt = fi.read()\n",
    "# file is now closed\n",
    "print(txt)\n",
    "\n"
   ]
  },
  {
   "cell_type": "markdown",
   "source": [
    "Shell command `cat` will snow the content of the file.<br>\n",
    "쉘 명령 `cat`으로 파일의 내용을 볼 수 있다.\n",
    "\n"
   ],
   "metadata": {}
  },
  {
   "cell_type": "code",
   "execution_count": null,
   "metadata": {},
   "outputs": [],
   "source": [
    "!cat sample.txt\n",
    "\n"
   ]
  },
  {
   "cell_type": "markdown",
   "source": [
    "ipython magic command `pycat` is similar to `cat`.<br>\n",
    "i파이썬 매직 커맨드 `pycat` 은 `cat`와 비슷하다.\n",
    "\n"
   ],
   "metadata": {}
  },
  {
   "cell_type": "code",
   "source": [
    "%pycat sample.txt\n",
    "\n"
   ],
   "metadata": {},
   "execution_count": null,
   "outputs": []
  },
  {
   "cell_type": "markdown",
   "metadata": {},
   "source": [
    "## `import`\n",
    "\n"
   ]
  },
  {
   "cell_type": "markdown",
   "metadata": {},
   "source": [
    "파이썬의 강점 가운데 하나는 새로운 기능을 확장하는 것이 쉽다는 것이다.<br>\n",
    "One of the strengths of the python is it can expand its capabilities easily.\n",
    "\n"
   ]
  },
  {
   "cell_type": "markdown",
   "metadata": {},
   "source": [
    "어떤 파이썬 소스 코드 파일이든 `import` 하여 그 안에 포함된 함수와 변수를 사용할 수 있다.<br>\n",
    "We can `import` just about any python source code file and use included functions and variables.\n",
    "\n"
   ]
  },
  {
   "cell_type": "code",
   "execution_count": null,
   "metadata": {},
   "outputs": [],
   "source": [
    "%%writefile import_this.py\n",
    "def three_times(x):\n",
    "  return 3 * x\n"
   ]
  },
  {
   "cell_type": "markdown",
   "metadata": {},
   "source": [
    "Is the file created?<br>파일이 생성되었는가?\n",
    "\n"
   ]
  },
  {
   "cell_type": "code",
   "execution_count": null,
   "metadata": {},
   "outputs": [],
   "source": [
    "%ls\n"
   ]
  },
  {
   "cell_type": "markdown",
   "metadata": {},
   "source": [
    "What is the content of the file?<br>\n",
    "파일의 내용은?\n",
    "\n"
   ]
  },
  {
   "cell_type": "code",
   "execution_count": null,
   "metadata": {},
   "outputs": [],
   "source": [
    "%pycat import_this.py\n"
   ]
  },
  {
   "cell_type": "markdown",
   "metadata": {},
   "source": [
    "Let's `import` the file.  What happens after modifying the function?<br>파일을 `import` 해 보자.  함수를 수정한 후에는 어떻게 되는가?\n",
    "\n"
   ]
  },
  {
   "cell_type": "code",
   "execution_count": null,
   "metadata": {},
   "outputs": [],
   "source": [
    "import import_this\n",
    "import imp\n",
    "imp.reload(import_this)\n",
    "\n",
    "print(import_this.three_times('a'))\n",
    "\n"
   ]
  },
  {
   "cell_type": "markdown",
   "metadata": {},
   "source": [
    "Any changes after first `import`?<br>처음 `import` 한 후 바뀐 것이 있는가?\n",
    "\n"
   ]
  },
  {
   "cell_type": "code",
   "execution_count": null,
   "metadata": {},
   "outputs": [],
   "source": [
    "%ls\n"
   ]
  },
  {
   "cell_type": "markdown",
   "metadata": {},
   "source": [
    "What's in the `__pycache__` folder?<br>\n",
    "`__pycache__` 폴더의 내용은?\n",
    "\n"
   ]
  },
  {
   "cell_type": "code",
   "execution_count": null,
   "metadata": {},
   "outputs": [],
   "source": [
    "%ls __pycache__/\n",
    "\n"
   ]
  },
  {
   "cell_type": "markdown",
   "metadata": {},
   "source": [
    "다른 이름으로 불러올 수도 있다.<br>We may assign the name of the module to a different name.\n",
    "\n"
   ]
  },
  {
   "cell_type": "code",
   "execution_count": null,
   "metadata": {},
   "outputs": [],
   "source": [
    "import import_this as it\n",
    "\n",
    "print(it.three_times('a'))\n",
    "\n"
   ]
  },
  {
   "cell_type": "markdown",
   "metadata": {},
   "source": [
    "`import` 하여 사용할 수 있는 다른사람들이 제공해 준 파일들도 많이 있다.<br>\n",
    "We may `import` numerous files by generous contributors.\n",
    "\n"
   ]
  },
  {
   "cell_type": "code",
   "execution_count": null,
   "metadata": {},
   "outputs": [],
   "source": [
    "# 아래 os 모듈은 운영체제 관련 기능을 담고 있다.\n",
    "# Following os module includes many features related to operating systems\n",
    "import os\n",
    "\n",
    "# 예를 들어 현재 폴더에 포함된 파일의 목록은 다음과 같이 알 수 있다.\n",
    "# For example, we may obtain a list of files in the current folder\n",
    "os.listdir()\n",
    "\n"
   ]
  },
  {
   "cell_type": "markdown",
   "metadata": {},
   "source": [
    "현재 폴더에 `import_this.py` 파일이 포함되어 있는가?<br>\n",
    "Does the current folder have the `import_this.py` file?\n",
    "\n"
   ]
  },
  {
   "cell_type": "code",
   "execution_count": null,
   "metadata": {},
   "outputs": [],
   "source": [
    "\"import_this.py\" in os.listdir()\n",
    "\n"
   ]
  },
  {
   "cell_type": "markdown",
   "metadata": {},
   "source": [
    "어떤 파일을 삭제할 수도 있다.<br>\n",
    "We may delete an existing file.\n",
    "\n"
   ]
  },
  {
   "cell_type": "code",
   "execution_count": null,
   "metadata": {},
   "outputs": [],
   "source": [
    "if \"import_this.py\" in os.listdir():\n",
    "    os.remove(\"import_this.py\")\n",
    "\n"
   ]
  },
  {
   "cell_type": "code",
   "execution_count": null,
   "metadata": {},
   "outputs": [],
   "source": [
    "os.listdir()\n",
    "\n"
   ]
  },
  {
   "cell_type": "code",
   "execution_count": null,
   "metadata": {},
   "outputs": [],
   "source": [
    "\"import_this.py\" in os.listdir()\n",
    "\n"
   ]
  },
  {
   "cell_type": "code",
   "execution_count": null,
   "metadata": {},
   "outputs": [],
   "source": [
    "\"sample.txt\" in os.listdir()\n",
    "\n"
   ]
  },
  {
   "cell_type": "code",
   "execution_count": null,
   "metadata": {},
   "outputs": [],
   "source": [
    "if \"sample.txt\" in os.listdir():\n",
    "    os.remove(\"sample.txt\")\n",
    "\n"
   ]
  },
  {
   "cell_type": "code",
   "execution_count": null,
   "metadata": {},
   "outputs": [],
   "source": [
    "os.listdir()\n",
    "\n"
   ]
  },
  {
   "cell_type": "code",
   "execution_count": null,
   "metadata": {},
   "outputs": [],
   "source": [
    "\"sample.txt\" in os.listdir()\n",
    "\n"
   ]
  },
  {
   "cell_type": "markdown",
   "metadata": {},
   "source": [
    "## 소프트웨어 시험 함수<br>Software Test Functions\n",
    "\n"
   ]
  },
  {
   "cell_type": "markdown",
   "metadata": {},
   "source": [
    "모든 소프트웨어는 예상 대로 작동하는지 확인해야 한다.<br>\n",
    "We must verify all code lines work as we expect.\n",
    "\n"
   ]
  },
  {
   "cell_type": "markdown",
   "metadata": {},
   "source": [
    "예를 들어 아래와 같은 함수를 생각해 보자.<br>\n",
    "Let's think about a function as follows.\n",
    "\n"
   ]
  },
  {
   "cell_type": "code",
   "execution_count": null,
   "metadata": {},
   "outputs": [],
   "source": [
    "def add(a, b):\n",
    "    return a + b\n",
    "\n"
   ]
  },
  {
   "cell_type": "markdown",
   "metadata": {},
   "source": [
    "아래는 위 함수가 맞게 작성되었는지 확인한다.<br>Following is a test function.\n",
    "\n"
   ]
  },
  {
   "cell_type": "code",
   "execution_count": null,
   "metadata": {},
   "outputs": [],
   "source": [
    "def test_add():\n",
    "    # 논리식이 참이 아니면 assert 문은 AssertionError 오류를 발생시키며 ',' 뒤의 메시지를 보여 줄 것이다.\n",
    "    # If the logical operation is not true, assert will raise AssertionError with the message after ','\n",
    "    assert 3 == add(1, 2), f\"add(1, 2) = {add(1, 2)} != 3\"\n",
    "\n"
   ]
  },
  {
   "cell_type": "markdown",
   "metadata": {},
   "source": [
    "시험 함수를 호출해 보자.<br>\n",
    "Let's call the test function.\n",
    "\n"
   ]
  },
  {
   "cell_type": "code",
   "execution_count": null,
   "metadata": {},
   "outputs": [],
   "source": [
    "test_add()\n",
    "\n"
   ]
  },
  {
   "cell_type": "markdown",
   "metadata": {},
   "source": [
    "오류가 발생하지 않았다면 해당 함수가 위 시험은 통과한 것이다.<br>\n",
    "If no error message, we can see that the function passed the particular test.\n",
    "\n"
   ]
  },
  {
   "cell_type": "markdown",
   "metadata": {},
   "source": [
    "`add()` 함수의 내용을 고의로 바꾸어 보자.<br>Let's intentionally change the `add()` function.\n",
    "\n"
   ]
  },
  {
   "cell_type": "code",
   "execution_count": null,
   "metadata": {},
   "outputs": [],
   "source": [
    "def add(a, b):\n",
    "    return a - b\n",
    "\n"
   ]
  },
  {
   "cell_type": "code",
   "execution_count": null,
   "metadata": {},
   "outputs": [],
   "source": [
    "try:\n",
    "  test_add()\n",
    "except AssertionError as e:\n",
    "  print(e)\n",
    "  print(\"add() did not pass this time\")\n",
    "\n"
   ]
  },
  {
   "cell_type": "markdown",
   "metadata": {},
   "source": [
    "## 변수형 표시<br>Type Hints\n",
    "\n"
   ]
  },
  {
   "cell_type": "markdown",
   "metadata": {},
   "source": [
    "어떤 변수는 어떤 형일지 표시해 주는 기능이 있다.<br>\n",
    "Using type hints, we can take a note of types of variable.\n",
    "\n"
   ]
  },
  {
   "cell_type": "code",
   "execution_count": null,
   "metadata": {},
   "outputs": [],
   "source": [
    "def twice(x):\n",
    "    return 2 * x\n",
    "\n"
   ]
  },
  {
   "cell_type": "markdown",
   "metadata": {},
   "source": [
    "위 함수에 아래와 같이 type hint 를 추가할 수 있다.<br>\n",
    "We may add type hints to the function above as follows.\n",
    "\n"
   ]
  },
  {
   "cell_type": "code",
   "execution_count": null,
   "metadata": {},
   "outputs": [],
   "source": [
    "def twice(x:int) -> int:\n",
    "    return 2 * x\n",
    "\n"
   ]
  },
  {
   "cell_type": "markdown",
   "metadata": {},
   "source": [
    "여기서, `x:int` 는 `x` 가 아마도 정수형일 것으로 예상된다는 뜻이다.<br>\n",
    "Here, `x:int` means that `x` would probably be an integer.\n",
    "\n"
   ]
  },
  {
   "cell_type": "markdown",
   "metadata": {},
   "source": [
    "또한, `-> int:` 는 해당 함수가 아마도 정수형을 반환할 것으로 예상된다는 뜻이다.<br>\n",
    "Also, `-> int:` means that the function would probably return an integer.\n",
    "\n"
   ]
  },
  {
   "cell_type": "markdown",
   "metadata": {},
   "source": [
    "실행시 `x`는 정수가 아닐 수도 있다. 함수 `f()` 도 정수형이 아닌 값을 반환할 수도 있다.<br>\n",
    "During the runtime, `x` may not be an integer. The function `f()` may return a value which is not an integer.\n",
    "\n"
   ]
  },
  {
   "cell_type": "markdown",
   "metadata": {},
   "source": [
    "현재 변수형을 표시하는 까닭은 개발자와 통합개발환경을 위해서이다.<br>For now, type hints are for the developers and integrated development environments.\n",
    "\n"
   ]
  },
  {
   "cell_type": "markdown",
   "metadata": {},
   "source": [
    "변수형 표시 기능을 확장하기 위해 `typing` 모듈을 사용할 수 있다.<br>\n",
    "To extend type hints, we may import `typing` module.\n",
    "\n"
   ]
  },
  {
   "cell_type": "markdown",
   "metadata": {},
   "source": [
    "예를 들어, `typing` 으로부터 `List`, `Tuple`, `Union` 을 import 할 수 있다.<br>For example, we may import `List`, `Tuple`, and `Union` from `typing`.\n",
    "\n"
   ]
  },
  {
   "cell_type": "code",
   "execution_count": null,
   "metadata": {},
   "outputs": [],
   "source": [
    "from typing import List, Tuple, Union\n",
    "\n"
   ]
  },
  {
   "cell_type": "markdown",
   "metadata": {},
   "source": [
    "예상되는 `x`의 변수형이 여러가지라면, `Union` 으로 표시할 수 있다.<br>If `x` may be one of multiple types, `Union` may indicate them.\n",
    "\n"
   ]
  },
  {
   "cell_type": "code",
   "execution_count": null,
   "metadata": {},
   "outputs": [],
   "source": [
    "def g(x:Union[int, float, str]) -> Union[int, float, str]:\n",
    "    return 2 * x\n",
    "\n"
   ]
  },
  {
   "cell_type": "markdown",
   "metadata": {},
   "source": [
    "`List` 와 `Tuple`로 list 또는 tuple 의 항목의 변수형을 표시할 수 있다.<br>`List` or `Tuple` may indicate the types of items within a list or tuple.\n",
    "\n"
   ]
  },
  {
   "cell_type": "code",
   "execution_count": null,
   "metadata": {},
   "outputs": [],
   "source": [
    "def h(x:List[int], y:List[float]) -> Tuple[float]:\n",
    "    return x + y\n",
    "\n"
   ]
  },
  {
   "cell_type": "markdown",
   "metadata": {},
   "source": [
    "자주 사용하는 변수형을 지정하여 사용하는 것도 가능하다.<br>We may assign frequently used types.\n",
    "\n"
   ]
  },
  {
   "cell_type": "code",
   "execution_count": null,
   "metadata": {},
   "outputs": [],
   "source": [
    "Scalar = Union[int, float]\n",
    "Vector = Union[List[Scalar], Tuple[Scalar]]\n",
    "Matrix = Union[List[Vector], Tuple[Vector]]\n",
    "\n"
   ]
  },
  {
   "cell_type": "code",
   "execution_count": null,
   "metadata": {},
   "outputs": [],
   "source": [
    "def mat_times_scalar(a:Scalar, X:Matrix) -> Matrix:\n",
    "    result = []\n",
    "    for row in X:\n",
    "        new_row = []\n",
    "        result.append(new_row)\n",
    "        for x_ij in row:\n",
    "            new_row.append(x_ij * a)\n",
    "    return result\n",
    "\n"
   ]
  },
  {
   "cell_type": "markdown",
   "metadata": {},
   "source": [
    "## Final Bell<br>마지막 종\n",
    "\n"
   ]
  },
  {
   "cell_type": "code",
   "execution_count": null,
   "metadata": {},
   "outputs": [],
   "source": [
    "# stackoverfow.com/a/24634221\n",
    "import os\n",
    "os.system(\"printf '\\a'\");\n",
    "\n"
   ]
  },
  {
   "cell_type": "code",
   "execution_count": null,
   "metadata": {},
   "outputs": [],
   "source": []
  }
 ],
 "metadata": {
  "colab": {
   "provenance": [],
   "include_colab_link": true
  },
  "kernelspec": {
   "display_name": "Python 3 (ipykernel)",
   "language": "python",
   "name": "python3"
  },
  "language_info": {
   "codemirror_mode": {
    "name": "ipython",
    "version": 3
   },
   "file_extension": ".py",
   "mimetype": "text/x-python",
   "name": "python",
   "nbconvert_exporter": "python",
   "pygments_lexer": "ipython3",
   "version": "3.10.10"
  }
 },
 "nbformat": 4,
 "nbformat_minor": 0
}