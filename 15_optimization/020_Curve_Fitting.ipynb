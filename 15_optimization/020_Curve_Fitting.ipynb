{
 "cells": [
  {
   "cell_type": "markdown",
   "metadata": {
    "id": "view-in-github",
    "colab_type": "text"
   },
   "source": [
    "<a href=\"https://colab.research.google.com/github/kangwonlee/nmisp/blob/main/15_optimization/020_Curve_Fitting.ipynb\" target=\"_parent\"><img src=\"https://colab.research.google.com/assets/colab-badge.svg\" alt=\"Open In Colab\"/></a>\n"
   ]
  },
  {
   "cell_type": "markdown",
   "metadata": {},
   "source": [
    "# 최적화를 이용한 곡선적합<br>Curve fitting by Optimization\n"
   ]
  },
  {
   "cell_type": "code",
   "execution_count": null,
   "metadata": {},
   "outputs": [],
   "source": [
    "import matplotlib.pyplot as plt\n",
    "import numpy as np\n",
    "import scipy.optimize as so\n",
    "np.random.seed()\n",
    "\n"
   ]
  },
  {
   "cell_type": "markdown",
   "metadata": {},
   "source": [
    "데이터 생성<br>Generating data\n",
    "\n"
   ]
  },
  {
   "cell_type": "code",
   "execution_count": null,
   "metadata": {},
   "outputs": [],
   "source": [
    "x_data = np.linspace(-10, 10)\n",
    "y_true = (x_data - 1.0) * (x_data - 2.0)\n",
    "noise = np.random.normal(0, 10, y_true.shape)\n",
    "y_measure = y_true + noise\n",
    "\n"
   ]
  },
  {
   "cell_type": "markdown",
   "metadata": {},
   "source": [
    "생성한 데이터를 표시<br>\n",
    "Visualizing the data\n",
    "\n"
   ]
  },
  {
   "cell_type": "code",
   "execution_count": null,
   "metadata": {},
   "outputs": [],
   "source": [
    "plt.plot(x_data, y_true, label=\"true\")\n",
    "plt.plot(x_data, y_measure, '.', label=\"with noise\")\n",
    "plt.grid(True)\n",
    "plt.legend(loc=0)\n",
    "plt.show()\n",
    "plt.close();\n",
    "\n"
   ]
  },
  {
   "cell_type": "markdown",
   "metadata": {},
   "source": [
    "곡선 적합 함수 선언<br>\n",
    "Declare a function for curve fitting\n",
    "\n"
   ]
  },
  {
   "cell_type": "markdown",
   "metadata": {},
   "source": [
    "$$\n",
    "model(x, a, b, c) = a x^2 + bx + c\n",
    "$$\n",
    "\n"
   ]
  },
  {
   "cell_type": "code",
   "execution_count": null,
   "metadata": {},
   "outputs": [],
   "source": [
    "def model(x, a, b, c):\n",
    "    result = x * x * a + x * b + c\n",
    "    return result\n",
    "\n"
   ]
  },
  {
   "cell_type": "code",
   "execution_count": null,
   "metadata": {},
   "outputs": [],
   "source": [
    "def calc_yhat(coefs, x):\n",
    "    a, b, c = coefs\n",
    "    return model(x, a, b, c)\n",
    "\n"
   ]
  },
  {
   "cell_type": "markdown",
   "metadata": {},
   "source": [
    "위 함수를 시각화<br>Plot the function above\n",
    "\n"
   ]
  },
  {
   "cell_type": "code",
   "execution_count": null,
   "metadata": {},
   "outputs": [],
   "source": [
    "def plot_curve_fitting(coefs, x):\n",
    "    y_fitting = calc_yhat(coefs, x)\n",
    "\n",
    "    plt.plot(x_data, y_fitting, label=\"curve fitting\")\n",
    "    plt.plot(x_data, y_measure, '.', label=\"with noise\")\n",
    "    plt.grid(True)\n",
    "    plt.title(f\"coefs = {coefs}\")\n",
    "    plt.legend(loc=0)\n",
    "    plt.show()\n",
    "    plt.close();\n",
    "\n"
   ]
  },
  {
   "cell_type": "code",
   "execution_count": null,
   "metadata": {},
   "outputs": [],
   "source": [
    "plot_curve_fitting([1, 2, 3], x_data)\n",
    "\n"
   ]
  },
  {
   "cell_type": "markdown",
   "metadata": {},
   "source": [
    "$i$'th Estimation :<br>\n",
    "$i$ 번째 예측값 :\n",
    "\n"
   ]
  },
  {
   "cell_type": "markdown",
   "metadata": {},
   "source": [
    "$$\n",
    "{\\hat{y}}_i = model(x_i,a,b,c),i=0, 1, ..., n-1\n",
    "$$\n",
    "\n"
   ]
  },
  {
   "cell_type": "markdown",
   "metadata": {},
   "source": [
    "## `scipy.optimize.minimize()`\n",
    "\n"
   ]
  },
  {
   "cell_type": "markdown",
   "metadata": {},
   "source": [
    "Search for $(a, b, c)$ minimizing root mean square error.<br>\n",
    "제곱 평균 제곱근 오차를 최소화 하는 $(a, b, c)$를 탐색.\n",
    "\n"
   ]
  },
  {
   "cell_type": "markdown",
   "metadata": {},
   "source": [
    "Error of $i$'th estimation :<br>\n",
    "$i$번째 예측값의 오차 :\n",
    "\n"
   ]
  },
  {
   "cell_type": "markdown",
   "metadata": {},
   "source": [
    "$$\n",
    "e_i=y_i - {\\hat{y}}_i\n",
    "$$\n"
   ]
  },
  {
   "cell_type": "markdown",
   "metadata": {},
   "source": [
    "Calculate root mean square error<br>\n",
    "오차의 제곱의 평균의 제곱근을 계산\n",
    "\n"
   ]
  },
  {
   "cell_type": "markdown",
   "metadata": {},
   "source": [
    "$$\n",
    "\\begin{align}\n",
    "    rms &=\n",
    "        \\sqrt {\n",
    "            \\frac{1}{n} \\left[\n",
    "                \\left(y_0 - {\\hat{y}}_0\\right)^2 +\n",
    "                \\left(y_1 - {\\hat{y}}_1\\right)^2 +\n",
    "                ...\n",
    "                \\left(y_{n-1} - {\\hat{y}}_{n-1}\\right)^2\n",
    "            \\right]\n",
    "        } \\\\\n",
    "    &=\n",
    "        \\sqrt {\n",
    "            \\frac{1}{n} \\left[ {e_0}^2 + {e_1}^2 + ... + {e_{n-1}}^2\n",
    "            \\right]\n",
    "        } \\\\\n",
    "    &=\n",
    "        \\sqrt {\n",
    "            \\frac{1}{n} \\left[\n",
    "                \\sum_{i=0}^{n-1} \\left(y_i - {\\hat{y}}_i\\right)^2\n",
    "            \\right]\n",
    "        } \\\\\n",
    "    &=\n",
    "        \\sqrt {\n",
    "            \\frac{1}{n} \\left(\n",
    "                \\sum_{i=0}^{n-1} {e_i}^2\n",
    "            \\right)\n",
    "        }\n",
    "\\end{align}\n",
    "$$\n",
    "\n"
   ]
  },
  {
   "cell_type": "code",
   "execution_count": null,
   "metadata": {},
   "outputs": [],
   "source": [
    "def rms(coefs, x, y):\n",
    "    y_fit = calc_yhat(coefs, x)\n",
    "    error = y - y_fit\n",
    "    error_square = error * error\n",
    "    result = error_square.mean() ** 0.5\n",
    "    return result\n",
    "\n"
   ]
  },
  {
   "cell_type": "markdown",
   "metadata": {},
   "source": [
    "중간 과정을 시각화하는 비용함수를 선언<br>\n",
    "Declare a cost function visualizing intermediate steps\n",
    "\n"
   ]
  },
  {
   "cell_type": "code",
   "execution_count": null,
   "metadata": {},
   "outputs": [],
   "source": [
    "def rms_plot(coefs:np.ndarray, x:np.ndarray, y:np.ndarray) -> float:\n",
    "    result = rms(coefs, x, y)\n",
    "\n",
    "    plot_curve_fitting(coefs, x)\n",
    "\n",
    "    return result\n",
    "\n"
   ]
  },
  {
   "cell_type": "code",
   "execution_count": null,
   "metadata": {
    "scrolled": true
   },
   "outputs": [],
   "source": [
    "result_minimize = so.minimize(rms_plot, [-1, 2, 30], args=(x_data, y_measure), method=\"Nelder-Mead\")\n",
    "\n"
   ]
  },
  {
   "cell_type": "code",
   "execution_count": null,
   "metadata": {},
   "outputs": [],
   "source": [
    "result_minimize\n",
    "\n"
   ]
  },
  {
   "cell_type": "markdown",
   "metadata": {},
   "source": [
    "Result:<br>\n",
    "결과:\n",
    "\n"
   ]
  },
  {
   "cell_type": "code",
   "source": [
    "plt.plot(x_data, calc_yhat(result_minimize.x, x_data), label=\"curve fitting\")\n",
    "plt.plot(x_data, y_measure, '.', label=\"with noise\")\n",
    "plt.plot(x_data, y_true, label=\"true\", alpha=0.5)\n",
    "plt.grid(True)\n",
    "plt.title(f\"coefs = {result_minimize.x}\")\n",
    "plt.legend(loc=0)\n",
    "plt.show()\n",
    "plt.close();\n",
    "\n"
   ],
   "metadata": {},
   "execution_count": null,
   "outputs": []
  },
  {
   "cell_type": "code",
   "execution_count": null,
   "metadata": {},
   "outputs": [],
   "source": [
    "rms(result_minimize.x, x_data, y_measure)\n",
    "\n"
   ]
  },
  {
   "cell_type": "markdown",
   "metadata": {},
   "source": [
    "## `scipy.optimize.curve_fit()`\n",
    "\n"
   ]
  },
  {
   "cell_type": "markdown",
   "metadata": {},
   "source": [
    "A more specialized function for curve fitting<br>곡선 적합에 보다 전문화된 함수\n",
    "\n"
   ]
  },
  {
   "cell_type": "code",
   "execution_count": null,
   "metadata": {
    "scrolled": true
   },
   "outputs": [],
   "source": [
    "popt, pcov = so.curve_fit(model, x_data, y_measure, (1, 2, 3))\n",
    "result_curve_fit = popt\n",
    "result_curve_fit\n",
    "\n"
   ]
  },
  {
   "cell_type": "markdown",
   "metadata": {},
   "source": [
    "Result:<br>\n",
    "결과:\n",
    "\n"
   ]
  },
  {
   "cell_type": "code",
   "execution_count": null,
   "metadata": {
    "scrolled": true
   },
   "outputs": [],
   "source": [
    "plot_curve_fitting(result_curve_fit, x_data)\n",
    "\n"
   ]
  },
  {
   "cell_type": "markdown",
   "metadata": {},
   "source": [
    "## Comparing two results<br>두 결과를 비교\n",
    "\n"
   ]
  },
  {
   "cell_type": "markdown",
   "metadata": {},
   "source": [
    "rms error<br>오차 제곱 평균 제곱근\n",
    "\n"
   ]
  },
  {
   "cell_type": "code",
   "execution_count": null,
   "metadata": {},
   "outputs": [],
   "source": [
    "rms(result_minimize.x, x_data, y_measure), rms(result_curve_fit, x_data, y_measure)\n",
    "\n"
   ]
  },
  {
   "cell_type": "markdown",
   "metadata": {},
   "source": [
    "Which runs faster?<br>\n",
    "더 빠른 쪽은?\n",
    "\n"
   ]
  },
  {
   "cell_type": "code",
   "execution_count": null,
   "metadata": {},
   "outputs": [],
   "source": [
    "%%time\n",
    "result_minimize = so.minimize(rms, [-1, 2, 30], args=(x_data, y_measure), method=\"Nelder-Mead\")\n",
    "\n"
   ]
  },
  {
   "cell_type": "code",
   "execution_count": null,
   "metadata": {},
   "outputs": [],
   "source": [
    "%%time\n",
    "popt, pcov = so.curve_fit(model, x_data, y_measure, (1, 2, 3))\n",
    "\n"
   ]
  },
  {
   "cell_type": "markdown",
   "metadata": {},
   "source": [
    "## Final Bell<br>마지막 종\n",
    "\n"
   ]
  },
  {
   "cell_type": "code",
   "execution_count": null,
   "metadata": {},
   "outputs": [],
   "source": [
    "# stackoverfow.com/a/24634221\n",
    "import os\n",
    "os.system(\"printf '\\a'\");\n",
    "\n"
   ]
  },
  {
   "cell_type": "code",
   "execution_count": null,
   "metadata": {},
   "outputs": [],
   "source": []
  }
 ],
 "metadata": {
  "colab": {
   "provenance": [],
   "include_colab_link": true
  },
  "kernelspec": {
   "display_name": "Python 3",
   "language": "python",
   "name": "python3"
  },
  "language_info": {
   "codemirror_mode": {
    "name": "ipython",
    "version": 3
   },
   "file_extension": ".py",
   "mimetype": "text/x-python",
   "name": "python",
   "nbconvert_exporter": "python",
   "pygments_lexer": "ipython3",
   "version": "3.10.0"
  }
 },
 "nbformat": 4,
 "nbformat_minor": 0
}