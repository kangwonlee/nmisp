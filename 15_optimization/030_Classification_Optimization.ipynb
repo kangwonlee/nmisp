{
 "cells": [
  {
   "cell_type": "markdown",
   "metadata": {
    "id": "view-in-github",
    "colab_type": "text"
   },
   "source": [
    "<a href=\"https://colab.research.google.com/github/kangwonlee/nmisp/blob/osx-miniconda/15_optimization/030_Classification_Optimization.ipynb\" target=\"_parent\"><img src=\"https://colab.research.google.com/assets/colab-badge.svg\" alt=\"Open In Colab\"/></a>\n"
   ]
  },
  {
   "cell_type": "markdown",
   "metadata": {},
   "source": [
    "# 분류 최적화<br>Classification Optimization\n"
   ]
  },
  {
   "cell_type": "markdown",
   "metadata": {},
   "source": [
    "* Let's say there are two sets : $set_0$ & $set_1$.<br>두 집합 $set_0$ & $set_1$ 이 있다고 하자.\n",
    "* Each set has $\\frac{n}{2}$ entries.<br>각 집합에는 각각 $\\frac{n}{2}$ 원소가 있다.\n",
    "* We can measure two variables : $\\textbf{x} = (x_1, x_2)$.<br>\n",
    "우리는 두 집합의 각 원소에 대해 $\\textbf{x} = (x_1, x_2)$ 두가지 값을 측정할 수 있다.\n",
    "* Can we decide which entry belongs to which set based on these two measurements?<br>이 두 측정값을 이용하여 어떤 원소가 어떤 집합에 속하는지 알 수 있을까?\n",
    "\n"
   ]
  },
  {
   "cell_type": "code",
   "execution_count": null,
   "metadata": {},
   "outputs": [],
   "source": [
    "import functools\n",
    "import os\n",
    "\n",
    "\n",
    "import matplotlib.pyplot as plt\n",
    "import numpy as np\n",
    "import numpy.random as nr\n",
    "import scipy.optimize as so\n",
    "\n"
   ]
  },
  {
   "cell_type": "markdown",
   "metadata": {},
   "source": [
    "$(x_1, x_2)$ 데이터 집합 두개 생성<br>Generating two data sets\n",
    "\n"
   ]
  },
  {
   "cell_type": "code",
   "execution_count": null,
   "metadata": {},
   "outputs": [],
   "source": [
    "set_0_bar = (1, 0)\n",
    "set_1_bar = (0, 1)\n",
    "\n"
   ]
  },
  {
   "cell_type": "code",
   "execution_count": null,
   "metadata": {},
   "outputs": [],
   "source": [
    "n = 2000\n",
    "\n",
    "set_0 = nr.normal(set_0_bar, [1, 1], (n//2, 2))\n",
    "set_1 = nr.normal(set_1_bar, [1, 1], (n//2, 2))\n",
    "\n"
   ]
  },
  {
   "cell_type": "markdown",
   "metadata": {},
   "source": [
    "생성한 두 데이터 집합을 표시<br>\n",
    "Visualizing the two data sets\n",
    "\n"
   ]
  },
  {
   "cell_type": "code",
   "execution_count": null,
   "metadata": {},
   "outputs": [],
   "source": [
    "def plot_two_sets(set_a, set_b, set_a_x_bar=set_0_bar, set_b_x_bar=set_1_bar):\n",
    "\n",
    "    plt.plot(set_a[:, 0], set_a[:, 1], '.', label=\"y=0\", alpha=0.5)\n",
    "    plt.plot(set_b[:, 0], set_b[:, 1], '+', label=\"y=1\", alpha=0.5)\n",
    "\n",
    "    plt.plot(set_a_x_bar[0], set_a_x_bar[1], 'kx')\n",
    "    plt.plot(set_b_x_bar[0], set_b_x_bar[1], 'kx')\n",
    "\n",
    "    plt.grid(True)\n",
    "    plt.axis('equal')\n",
    "    plt.xlabel(\"$x_1$\")\n",
    "    plt.ylabel(\"$x_2$\")\n",
    "\n"
   ]
  },
  {
   "cell_type": "code",
   "execution_count": null,
   "metadata": {},
   "outputs": [],
   "source": [
    "plot_two_sets(set_0, set_1, set_0_bar, set_1_bar)\n",
    "\n",
    "xlim_data = plt.xlim()\n",
    "ylim_data = plt.ylim()\n",
    "\n",
    "plt.legend(loc=0)\n",
    "plt.show()\n",
    "plt.close();\n",
    "\n"
   ]
  },
  {
   "cell_type": "markdown",
   "metadata": {},
   "source": [
    "## 데이터 준비<br>Prepare data\n",
    "\n"
   ]
  },
  {
   "cell_type": "markdown",
   "metadata": {},
   "source": [
    "Collect all measurements & labels (set number) into one `numpy.ndarray`<br>\n",
    "모든 측정 값과 소속 집합 이름표 라벨을 하나의 배열 안에 모음\n",
    "\n"
   ]
  },
  {
   "cell_type": "markdown",
   "metadata": {},
   "source": [
    "| measurement 측정값 | label 라벨 |\n",
    "|:----------:|:-----------:|\n",
    "| $(x_1, x_2)$ | 0 |\n",
    "| $(x_1, x_2)$ | 1 |\n",
    "\n"
   ]
  },
  {
   "cell_type": "code",
   "execution_count": null,
   "metadata": {},
   "outputs": [],
   "source": [
    "y0 = np.zeros((len(set_0), 1))\n",
    "y1 = np.ones((len(set_1), 1))\n",
    "\n",
    "data_0 = np.concatenate([set_0, y0], axis=1)\n",
    "data_1 = np.concatenate([set_1, y1], axis=1)\n",
    "\n",
    "data = np.concatenate([\n",
    "        data_0,\n",
    "        data_1\n",
    "    ], axis=0\n",
    ")\n",
    "\n"
   ]
  },
  {
   "cell_type": "markdown",
   "metadata": {},
   "source": [
    "행과 열의 갯수 확인<br>\n",
    "Check the number of rows and columns\n",
    "\n"
   ]
  },
  {
   "cell_type": "code",
   "execution_count": null,
   "metadata": {},
   "outputs": [],
   "source": [
    "data.shape\n",
    "\n"
   ]
  },
  {
   "cell_type": "markdown",
   "metadata": {},
   "source": [
    "처음 10개의 data<br>First 10 data points\n",
    "\n"
   ]
  },
  {
   "cell_type": "code",
   "execution_count": null,
   "metadata": {},
   "outputs": [],
   "source": [
    "data[:10, :]\n",
    "\n"
   ]
  },
  {
   "cell_type": "markdown",
   "metadata": {},
   "source": [
    "마지막 10개의 data<br>Last 10 data points\n",
    "\n"
   ]
  },
  {
   "cell_type": "code",
   "execution_count": null,
   "metadata": {},
   "outputs": [],
   "source": [
    "data[-10:, :]\n",
    "\n"
   ]
  },
  {
   "cell_type": "markdown",
   "metadata": {},
   "source": [
    "## 첫번째 (순진한) 시도<br>First (naive) attempt\n",
    "\n"
   ]
  },
  {
   "cell_type": "markdown",
   "metadata": {},
   "source": [
    "### 모델<br>Model\n",
    "\n"
   ]
  },
  {
   "cell_type": "markdown",
   "metadata": {},
   "source": [
    "Using a Linear function, estimate $y$ from $x_1$ and $x_2$<br>\n",
    "선형적으로 $x_1$, $x_2$ 로부터 $y$ 값을 추정\n",
    "\n"
   ]
  },
  {
   "cell_type": "markdown",
   "metadata": {},
   "source": [
    "$$\n",
    "\\hat y = H(\\textbf x)= w_1 x_1 +  x_2 + w_2\n",
    "$$\n",
    "\n"
   ]
  },
  {
   "cell_type": "code",
   "execution_count": null,
   "metadata": {},
   "outputs": [],
   "source": [
    "def wx(w:np.ndarray, x_y:np.ndarray) -> np.ndarray:\n",
    "    w1 = w[0]\n",
    "    w2 = w[1]\n",
    "\n",
    "    x1 = x_y[:, 0]\n",
    "    x2 = x_y[:, 1]\n",
    "\n",
    "    return w1 * x1 + x2 + w2\n",
    "\n"
   ]
  },
  {
   "cell_type": "markdown",
   "metadata": {},
   "source": [
    "이 $\\hat y$ 값이 0.5 보다 크면 1, 아니면 0 인 것으로 가정.<br>Let's assume it was one if this $\\hat y$ is larger than 0.5. Zero otherwise.\n"
   ]
  },
  {
   "cell_type": "markdown",
   "metadata": {},
   "source": [
    "### 비용 함수<br>Cost function\n",
    "\n"
   ]
  },
  {
   "cell_type": "markdown",
   "metadata": {},
   "source": [
    "$$\n",
    "C = \\frac{1}{n}\\sum_{i=1}^{n} \\left( \\hat y_i - y_i \\right)^2\n",
    "$$\n"
   ]
  },
  {
   "cell_type": "markdown",
   "metadata": {},
   "source": [
    "예상되는 문제점?<br>\n",
    "Can you expect any possible issues?\n",
    "\n"
   ]
  },
  {
   "cell_type": "code",
   "execution_count": null,
   "metadata": {},
   "outputs": [],
   "source": [
    "def cost_function_first_attempt(w:np.ndarray, x_y:np.ndarray) -> float:\n",
    "    n = len(x_y)\n",
    "    y_hat = wx(w, x_y)\n",
    "    y = x_y[:, -1]\n",
    "\n",
    "    error = y_hat - y\n",
    "    error_sqr = error ** 2\n",
    "    result = error_sqr.sum() / n\n",
    "\n",
    "    return result\n",
    "\n"
   ]
  },
  {
   "cell_type": "markdown",
   "metadata": {},
   "source": [
    "Cost function over parameter space ($w_1 \\times w_2$ plane)<br>\n",
    "매개변수공간 ($w_1 \\times w_2$ 평면) 상의 비용함수\n",
    "\n"
   ]
  },
  {
   "cell_type": "code",
   "source": [
    "@functools.lru_cache\n",
    "def calc_cost_surf(cost_function):\n",
    "    w1 = np.linspace(-10.0, 10.0, 20*20+1)\n",
    "    w2 = np.linspace(-10.0, 10.0, 20*20+1)\n",
    "\n",
    "    W1, W2 = np.meshgrid(w1, w2)\n",
    "    C = np.zeros_like(W1)\n",
    "\n",
    "    for i_row in range(W1.shape[0]):\n",
    "        for j_col in range(W1.shape[1]):\n",
    "            w = np.array([W1[i_row, j_col], W2[i_row, j_col]])\n",
    "            C[i_row, j_col] = cost_function(w, data)\n",
    "\n",
    "    return W1, W2, C\n",
    "\n"
   ],
   "metadata": {},
   "execution_count": null,
   "outputs": []
  },
  {
   "cell_type": "code",
   "execution_count": null,
   "metadata": {},
   "outputs": [],
   "source": [
    "def plot_cost_surf(cost_function):\n",
    "\n",
    "    W1, W2, C = calc_cost_surf(cost_function)\n",
    "\n",
    "    fig = plt.figure(figsize=(10, 5))\n",
    "\n",
    "    ax0 = fig.add_subplot(1, 2, 1)\n",
    "    ax0.contour(W1, W2, C, cmap='viridis')\n",
    "    ax0.set_xlabel('$w_1$')\n",
    "    ax0.set_ylabel('$w_2$')\n",
    "    ax0.axis('equal')\n",
    "    ax0.grid(True)\n",
    "\n",
    "    ax1 = fig.add_subplot(1, 2, 2, projection='3d')\n",
    "    ax1.plot_surface(W1, W2, C, cmap='viridis')\n",
    "    ax1.set_xlabel('$w_1$')\n",
    "    ax1.set_ylabel('$w_2$')\n",
    "\n",
    "    return ax0, ax1\n",
    "\n"
   ]
  },
  {
   "cell_type": "code",
   "execution_count": null,
   "metadata": {},
   "outputs": [],
   "source": [
    "axs = plot_cost_surf(cost_function_first_attempt)\n",
    "\n"
   ]
  },
  {
   "cell_type": "markdown",
   "metadata": {},
   "source": [
    "최적화<br>\n",
    "Optimize\n",
    "\n"
   ]
  },
  {
   "cell_type": "code",
   "source": [
    "def get_callback(weight_list=[], cost_list=[]):\n",
    "  def callback(intermediate_result:so.OptimizeResult):\n",
    "    weight_list.append(intermediate_result.x)\n",
    "    cost_list.append(intermediate_result.fun)\n",
    "\n",
    "  return callback\n",
    "\n"
   ],
   "metadata": {},
   "execution_count": null,
   "outputs": []
  },
  {
   "cell_type": "code",
   "execution_count": null,
   "metadata": {},
   "outputs": [],
   "source": [
    "weight_list_linear = []\n",
    "cost_list_linear = []\n",
    "\n",
    "result = so.minimize(\n",
    "    cost_function_first_attempt,\n",
    "    x0=np.array([-5.0, 10.0]),\n",
    "    args=(data,),\n",
    "    method=\"Nelder-Mead\",\n",
    "    callback=get_callback(weight_list_linear, cost_list_linear),\n",
    ")\n",
    "\n",
    "weights = result.x\n",
    "cost_value = result.fun\n",
    "n_iter = result.nit\n",
    "n_call = result.nfev\n",
    "warning = result.message\n",
    "\n",
    "result\n",
    "\n"
   ]
  },
  {
   "cell_type": "code",
   "source": [
    "plt.plot(cost_list_linear, '.-', label='linear')\n",
    "plt.xlabel('iter')\n",
    "plt.ylabel('cost')\n",
    "plt.legend(loc=0)\n",
    "plt.grid(True)\n",
    "\n"
   ],
   "metadata": {},
   "execution_count": null,
   "outputs": []
  },
  {
   "cell_type": "markdown",
   "metadata": {},
   "source": [
    "Decision bounday satsfying $\\hat y = 0.5$<br>\n",
    "0 과 1이 나누어지는 경계 : $\\hat y = 0.5$\n",
    "\n"
   ]
  },
  {
   "cell_type": "markdown",
   "metadata": {},
   "source": [
    "$$\n",
    "\\begin{align}\n",
    "    \\hat y &= 0.5 \\\\\n",
    "    w_1 x_1 +  x_2 + w_2 &= 0.5 \\\\\n",
    "     x_2 &= -w_1 x_1 -w_2 + 0.5\n",
    "\\end{align}\n",
    "$$\n",
    "\n"
   ]
  },
  {
   "cell_type": "code",
   "execution_count": null,
   "metadata": {},
   "outputs": [],
   "source": [
    "def plot_decision_boundary(x_min, x_max, weights_array):\n",
    "    x1_array = np.linspace(x_min, x_max)\n",
    "    x2_array = - weights_array[0] * x1_array - weights_array[1] + 0.5\n",
    "\n",
    "    plt.plot(x1_array, x2_array, label=\"$\\hat y = 0.5$\")\n",
    "\n"
   ]
  },
  {
   "cell_type": "code",
   "execution_count": null,
   "metadata": {},
   "outputs": [],
   "source": [
    "plot_two_sets(set_0, set_1)\n",
    "plot_decision_boundary(data[:, 0].min(), data[:, 0].max(), weights)\n",
    "\n",
    "plt.legend(loc=0)\n",
    "plt.show()\n",
    "plt.close();\n",
    "\n"
   ]
  },
  {
   "cell_type": "code",
   "source": [
    "axs = plot_cost_surf(cost_function_first_attempt)\n",
    "\n",
    "weight_array = np.array(weight_list_linear)\n",
    "\n",
    "axs[0].plot(weight_array[:, 0], weight_array[:, 1], 'C1');\n",
    "axs[1].plot(weight_array[:, 0], weight_array[:, 1], cost_list_linear, 'C1');\n",
    "\n"
   ],
   "metadata": {},
   "execution_count": null,
   "outputs": []
  },
  {
   "cell_type": "markdown",
   "metadata": {},
   "source": [
    "## Second attempt : Step function<br>두번째 시도 : 계단함수\n",
    "\n"
   ]
  },
  {
   "cell_type": "markdown",
   "metadata": {},
   "source": [
    "0 또는 1로 바꾸어주는 함수<br>\n",
    "A function generating 0 or 1<br>\n",
    "\n"
   ]
  },
  {
   "cell_type": "markdown",
   "metadata": {},
   "source": [
    "$$\n",
    "s(z)=\n",
    "    \\begin{cases}\n",
    "        0, z < 0\\\\\n",
    "        1, z >= 0 \\\\\n",
    "    \\end{cases}\n",
    "$$\n",
    "\n"
   ]
  },
  {
   "cell_type": "code",
   "execution_count": null,
   "metadata": {},
   "outputs": [],
   "source": [
    "def step(z):\n",
    "    return np.heaviside(z, 0)\n",
    "\n"
   ]
  },
  {
   "cell_type": "code",
   "execution_count": null,
   "metadata": {},
   "outputs": [],
   "source": [
    "z_array = np.linspace(-10, 10)\n",
    "g_z_array = step(z_array)\n",
    "plt.plot(z_array, g_z_array)\n",
    "plt.grid(True)\n",
    "plt.xlabel('$z$')\n",
    "plt.ylabel('$g(z)$')\n",
    "plt.show()\n",
    "\n"
   ]
  },
  {
   "cell_type": "markdown",
   "metadata": {},
   "source": [
    "계단 함수를 사용하는 비용함수<br>\n",
    "Cost function using the sigmoid function\n",
    "\n"
   ]
  },
  {
   "cell_type": "markdown",
   "metadata": {},
   "source": [
    "$$\n",
    "\\begin{align}\n",
    "    H(\\textbf x) &= s(w_1 x_1 +  x_2 + w_2)\\\\\n",
    "    cost(w_1, w_2) &= \\frac{1}{n} \\sum_{i=1}^n {\\left(H(\\textbf{x}_i) - y_i\\right)^2}\n",
    "\\end{align}\n",
    "$$\n"
   ]
  },
  {
   "cell_type": "code",
   "execution_count": null,
   "metadata": {},
   "outputs": [],
   "source": [
    "def cost_function_step(w:np.ndarray, x_y:np.ndarray) -> float:\n",
    "    n = len(x_y)\n",
    "    y_hat = step(wx(w, x_y))\n",
    "    y = x_y[:, -1]\n",
    "\n",
    "    error = y_hat - y\n",
    "    error_sqr = error ** 2\n",
    "    result = error_sqr.sum() / n\n",
    "\n",
    "    return result\n",
    "\n"
   ]
  },
  {
   "cell_type": "markdown",
   "metadata": {},
   "source": [
    "Cost function over parameter space ($w_1 \\times w_2$ plane)<br>\n",
    "매개변수공간 ($w_1 \\times w_2$ 평면) 상의 비용함수\n",
    "\n"
   ]
  },
  {
   "cell_type": "code",
   "execution_count": null,
   "metadata": {},
   "outputs": [],
   "source": [
    "plot_cost_surf(cost_function_step)\n",
    "\n"
   ]
  },
  {
   "cell_type": "markdown",
   "metadata": {},
   "source": [
    "최적화<br>\n",
    "Optimize\n",
    "\n"
   ]
  },
  {
   "cell_type": "code",
   "execution_count": null,
   "metadata": {
    "scrolled": true
   },
   "outputs": [],
   "source": [
    "weights_list_step = []\n",
    "cost_list_step = []\n",
    "\n",
    "result = so.minimize(\n",
    "    cost_function_step,\n",
    "    x0=np.array([-5.0, 10.0]),\n",
    "    args=(data,),\n",
    "    method=\"Nelder-Mead\",\n",
    "    callback=get_callback(weights_list_step, cost_list_step),\n",
    ")\n",
    "\n",
    "weights = result.x\n",
    "cost_value = result.fun\n",
    "n_iter = result.nit\n",
    "n_call = result.nfev\n",
    "warning = result.message\n",
    "\n",
    "result\n",
    "\n"
   ]
  },
  {
   "cell_type": "code",
   "source": [
    "plt.plot(cost_list_linear, '.-', label='linear')\n",
    "plt.plot(cost_list_step, '.-', label='step')\n",
    "plt.xlabel('iter')\n",
    "plt.ylabel('cost')\n",
    "plt.legend(loc=0)\n",
    "plt.grid(True)\n",
    "\n"
   ],
   "metadata": {},
   "execution_count": null,
   "outputs": []
  },
  {
   "cell_type": "code",
   "execution_count": null,
   "metadata": {
    "scrolled": true
   },
   "outputs": [],
   "source": [
    "plot_two_sets(set_0, set_1)\n",
    "plot_decision_boundary(data[:, 0].min(), data[:, 0].max(), weights)\n",
    "\n",
    "plt.xlim(xlim_data)\n",
    "plt.ylim(ylim_data)\n",
    "\n",
    "plt.legend(loc=0)\n",
    "plt.show()\n",
    "plt.close();\n",
    "\n"
   ]
  },
  {
   "cell_type": "code",
   "source": [
    "weights_array_step = np.array(weights_list_step)\n",
    "axs = plot_cost_surf(cost_function_step)\n",
    "axs[0].plot(\n",
    "    weights_array_step[:, 0], weights_array_step[:, 1], 'C1'\n",
    ");\n",
    "axs[1].plot(\n",
    "    weights_array_step[:, 0], weights_array_step[:, 1],\n",
    "    cost_list_step,\n",
    "    'C1'\n",
    ");\n",
    "\n"
   ],
   "metadata": {},
   "execution_count": null,
   "outputs": []
  },
  {
   "cell_type": "markdown",
   "metadata": {},
   "source": [
    "## Third attempt : Sigmoid function<br>세번째 시도 : 시그모이드 함수\n",
    "\n"
   ]
  },
  {
   "cell_type": "markdown",
   "metadata": {},
   "source": [
    "0 과 1 사이를 부드럽게 연결하는 함수<br>\n",
    "A function connecting 0 and 1 smoothly<br>\n",
    "ref : [![youtube](https://i.ytimg.com/vi/PIjno6paszY/hqdefault.jpg)](https://youtu.be/PIjno6paszY?t=650)\n",
    "\n"
   ]
  },
  {
   "cell_type": "markdown",
   "metadata": {},
   "source": [
    "$$\n",
    "z = w_1 x_1 +  x_2 + w_2\n",
    "$$\n",
    "\n"
   ]
  },
  {
   "cell_type": "markdown",
   "metadata": {},
   "source": [
    "$$\n",
    "\\hat y =  g(z)=\\frac{1}{1+exp\\left(-z\\right)}\n",
    "$$\n",
    "\n"
   ]
  },
  {
   "cell_type": "markdown",
   "metadata": {},
   "source": [
    "$$\n",
    "C = \\frac{1}{n}\\sum_{i=1}^{n} \\left( \\hat y_i - y_i \\right)^2\n",
    "$$\n"
   ]
  },
  {
   "cell_type": "code",
   "execution_count": null,
   "metadata": {},
   "outputs": [],
   "source": [
    "def sigmoid(z):\n",
    "    return 1.0 / (1.0 + np.exp(-z))\n",
    "\n"
   ]
  },
  {
   "cell_type": "code",
   "execution_count": null,
   "metadata": {},
   "outputs": [],
   "source": [
    "z_array = np.linspace(-10, 10)\n",
    "g_z_array = sigmoid(z_array)\n",
    "plt.plot(z_array, g_z_array)\n",
    "plt.grid(True)\n",
    "plt.xlabel('$z$')\n",
    "plt.ylabel(\"$g(z)$\")\n",
    "plt.show()\n",
    "\n"
   ]
  },
  {
   "cell_type": "markdown",
   "metadata": {},
   "source": [
    "시그모이드 함수를 사용하는 비용함수<br>\n",
    "Cost function using the sigmoid function\n",
    "\n"
   ]
  },
  {
   "cell_type": "code",
   "execution_count": null,
   "metadata": {},
   "outputs": [],
   "source": [
    "def cost_function_sigmoid(w:np.ndarray, x_y:np.ndarray) -> float:\n",
    "    n = len(x_y)\n",
    "    y_hat = sigmoid(wx(w, x_y))\n",
    "    y = x_y[:, -1]\n",
    "\n",
    "    error = y_hat - y\n",
    "    error_sqr = error ** 2\n",
    "    result = error_sqr.sum() / n\n",
    "\n",
    "    return result\n",
    "\n"
   ]
  },
  {
   "cell_type": "markdown",
   "metadata": {},
   "source": [
    "Cost function over parameter space ($w_1 \\times w_2$ plane)<br>\n",
    "매개변수공간 ($w_1 \\times w_2$ 평면) 상의 비용함수\n",
    "\n"
   ]
  },
  {
   "cell_type": "code",
   "execution_count": null,
   "metadata": {},
   "outputs": [],
   "source": [
    "axs = plot_cost_surf(cost_function_sigmoid)\n",
    "\n"
   ]
  },
  {
   "cell_type": "markdown",
   "metadata": {},
   "source": [
    "최적화<br>\n",
    "Optimize\n",
    "\n"
   ]
  },
  {
   "cell_type": "code",
   "execution_count": null,
   "metadata": {
    "scrolled": true
   },
   "outputs": [],
   "source": [
    "weight_list_sigmoid = []\n",
    "cost_list_sigmoid = []\n",
    "\n",
    "result = so.minimize(\n",
    "    cost_function_sigmoid,\n",
    "    x0=np.array([10.0, 5.0]),\n",
    "    args=(data,),\n",
    "    method=\"Nelder-Mead\",\n",
    "    callback=get_callback(weight_list_sigmoid, cost_list_sigmoid),\n",
    ")\n",
    "\n",
    "weights = result.x\n",
    "cost_value = result.fun\n",
    "n_iter = result.nit\n",
    "n_call = result.nfev\n",
    "warning = result.message\n",
    "\n",
    "result\n",
    "\n"
   ]
  },
  {
   "cell_type": "code",
   "source": [
    "plt.plot(cost_list_linear, '.-', label='linear')\n",
    "plt.plot(cost_list_step, '.-', label='step')\n",
    "plt.plot(cost_list_sigmoid, '.-', label='sigmoid')\n",
    "plt.xlabel('iter')\n",
    "plt.ylabel('cost')\n",
    "plt.legend(loc=0)\n",
    "plt.grid(True)\n",
    "\n"
   ],
   "metadata": {},
   "execution_count": null,
   "outputs": []
  },
  {
   "cell_type": "code",
   "execution_count": null,
   "metadata": {
    "scrolled": true
   },
   "outputs": [],
   "source": [
    "plot_two_sets(set_0, set_1)\n",
    "plot_decision_boundary(data[:, 0].min(), data[:, 0].max(), weights)\n",
    "\n",
    "plt.legend(loc=0)\n",
    "plt.show()\n",
    "plt.close();\n",
    "\n"
   ]
  },
  {
   "cell_type": "code",
   "source": [
    "weights_array_sigmoind = np.array(weight_list_sigmoid)\n",
    "\n",
    "axs = plot_cost_surf(cost_function_sigmoid)\n",
    "axs[0].plot(\n",
    "    weights_array_sigmoind[:, 0],\n",
    "    weights_array_sigmoind[:, 1],\n",
    "    'C1'\n",
    ");\n",
    "axs[1].plot(\n",
    "    weights_array_sigmoind[:, 0],\n",
    "    weights_array_sigmoind[:, 1],\n",
    "    cost_list_sigmoid,\n",
    "    'C1'\n",
    ");\n",
    "\n"
   ],
   "metadata": {},
   "execution_count": null,
   "outputs": []
  },
  {
   "cell_type": "markdown",
   "metadata": {},
   "source": [
    "## 교차 엔트로피 비용함수<br>Cross entropy cost function\n",
    "\n"
   ]
  },
  {
   "cell_type": "markdown",
   "metadata": {},
   "source": [
    "국소 최소점을 피해 전역 최소점을 찾기 위해 사용<br>To find global and avoid local minimum.\n",
    "\n"
   ]
  },
  {
   "cell_type": "markdown",
   "metadata": {},
   "source": [
    "ref : (14:23)\n",
    "[![youtube](https://i.ytimg.com/vi/6vzchGYEJBc/hqdefault.jpg)](https://youtu.be/6vzchGYEJBc)\n",
    "\n"
   ]
  },
  {
   "cell_type": "markdown",
   "metadata": {},
   "source": [
    "$$\n",
    "C = \\frac{1}{n}\\sum_{i=1}^{n} \\left[ -y_i log \\left( \\hat y_i \\right) - \\left(1 - y_i \\right) log \\left( 1 - \\hat y_i \\right)\\right]\n",
    "$$\n"
   ]
  },
  {
   "cell_type": "code",
   "execution_count": null,
   "metadata": {},
   "outputs": [],
   "source": [
    "def cost_function_cross_entropy(w:np.ndarray, x_y:np.ndarray) -> float:\n",
    "    n = len(x_y)\n",
    "    y_hat = sigmoid(wx(w, x_y))\n",
    "    y = x_y[:, -1]\n",
    "\n",
    "    cost = -y * np.log2(y_hat) - (1 - y) * np.log2(1 - y_hat)\n",
    "\n",
    "    return np.mean(cost)\n",
    "\n"
   ]
  },
  {
   "cell_type": "markdown",
   "metadata": {},
   "source": [
    "Cost function over parameter space ($w_1 \\times w_2$ plane)<br>\n",
    "매개변수공간 ($w_1 \\times w_2$ 평면) 상의 비용함수\n",
    "\n"
   ]
  },
  {
   "cell_type": "code",
   "execution_count": null,
   "metadata": {},
   "outputs": [],
   "source": [
    "axs = plot_cost_surf(cost_function_cross_entropy)\n",
    "\n"
   ]
  },
  {
   "cell_type": "markdown",
   "metadata": {},
   "source": [
    "최적화<br>\n",
    "Optimize\n",
    "\n"
   ]
  },
  {
   "cell_type": "code",
   "execution_count": null,
   "metadata": {
    "scrolled": false
   },
   "outputs": [],
   "source": [
    "weights_list_cross_entropy = []\n",
    "cost_list_cross_entropy = []\n",
    "\n",
    "result = so.minimize(\n",
    "    cost_function_cross_entropy,\n",
    "    x0=np.array([-5.0, 10.0]),\n",
    "    args=(data,),\n",
    "    method=\"Nelder-Mead\",\n",
    "    callback=get_callback(weights_list_cross_entropy, cost_list_cross_entropy),\n",
    ")\n",
    "\n",
    "weights = result.x\n",
    "cost_value = result.fun\n",
    "n_iter = result.nit\n",
    "n_call = result.nfev\n",
    "warning = result.message\n",
    "\n",
    "result\n",
    "\n"
   ]
  },
  {
   "cell_type": "code",
   "source": [
    "plt.plot(cost_list_linear, '.-', label='linear')\n",
    "plt.plot(cost_list_step, '.-', label='step')\n",
    "plt.plot(cost_list_sigmoid, '.-', label='sigmoid')\n",
    "plt.plot(cost_list_cross_entropy, '.-', label='cross entropy')\n",
    "plt.xlabel('iter')\n",
    "plt.ylabel('cost')\n",
    "plt.legend(loc=0)\n",
    "plt.grid(True)\n",
    "\n"
   ],
   "metadata": {},
   "execution_count": null,
   "outputs": []
  },
  {
   "cell_type": "code",
   "execution_count": null,
   "metadata": {
    "scrolled": false
   },
   "outputs": [],
   "source": [
    "plot_two_sets(set_0, set_1)\n",
    "plot_decision_boundary(data[:, 0].min(), data[:, 0].max(), weights)\n",
    "\n",
    "plt.legend(loc=0)\n",
    "\n",
    "plt.show()\n",
    "plt.close();\n",
    "\n"
   ]
  },
  {
   "cell_type": "code",
   "source": [
    "weights_array_cross_entropy = np.array(weights_list_cross_entropy)\n",
    "\n",
    "axs = plot_cost_surf(cost_function_cross_entropy)\n",
    "\n",
    "axs[0].plot(\n",
    "    weights_array_cross_entropy[:, 0],\n",
    "    weights_array_cross_entropy[:, 1],\n",
    "    'C1'\n",
    ");\n",
    "axs[1].plot(\n",
    "    weights_array_cross_entropy[:, 0],\n",
    "    weights_array_cross_entropy[:, 1],\n",
    "    cost_list_cross_entropy,\n",
    "    'C1'\n",
    ");\n",
    "\n"
   ],
   "metadata": {},
   "execution_count": null,
   "outputs": []
  },
  {
   "cell_type": "markdown",
   "metadata": {},
   "source": [
    "## scikit-learn\n",
    "A library more specialized to (computational) machine learning<br>\n",
    "보다 (전산) 기계 학습에 더 특화된 라이브러리\n",
    "\n"
   ]
  },
  {
   "cell_type": "markdown",
   "metadata": {},
   "source": [
    "ref :\n",
    "* [[0](https://scikit-learn.org/stable/modules/lda_qda.html)] description\n",
    "* [[1](https://scikit-learn.org/stable/auto_examples/classification/plot_lda_qda.html)] example\n"
   ]
  },
  {
   "cell_type": "code",
   "execution_count": null,
   "metadata": {},
   "outputs": [],
   "source": [
    "import sklearn.discriminant_analysis as sd\n",
    "lda = sd.LinearDiscriminantAnalysis(solver=\"svd\", store_covariance=True)\n",
    "\n",
    "X = data[:, :2]\n",
    "y = data[:, 2]\n",
    "\n",
    "lda.fit(X, y)\n",
    "\n"
   ]
  },
  {
   "cell_type": "code",
   "execution_count": null,
   "metadata": {},
   "outputs": [],
   "source": [
    "def plot_mesh_pred(lda, x_min, x_max, y_min, y_max, nx=100, ny=100):\n",
    "\n",
    "    x_mesh, y_mesh = np.meshgrid(\n",
    "        np.linspace(x_min, x_max, nx),\n",
    "        np.linspace(y_min, y_max, ny),\n",
    "    )\n",
    "\n",
    "    xy_mesh_columns = np.c_[x_mesh.ravel(), y_mesh.ravel()]\n",
    "\n",
    "    z_column = lda.predict_proba(xy_mesh_columns)\n",
    "\n",
    "    z_mesh = z_column[:, 1].reshape(x_mesh.shape)\n",
    "\n",
    "    plt.pcolor(x_mesh, y_mesh, z_mesh, shading=\"auto\")\n",
    "    plt.contour(x_mesh, y_mesh, z_mesh, [0.5], colors=\"white\")\n",
    "\n",
    "    plt.grid(True)\n",
    "\n"
   ]
  },
  {
   "cell_type": "code",
   "execution_count": null,
   "metadata": {},
   "outputs": [],
   "source": [
    "plot_two_sets(set_0, set_1)\n",
    "plot_mesh_pred(lda, -10, 10, -6, 10)\n",
    "\n",
    "plt.legend(loc=0)\n",
    "plt.show()\n",
    "plt.close();\n",
    "\n"
   ]
  },
  {
   "cell_type": "markdown",
   "metadata": {},
   "source": [
    "## Tensorflow\n",
    "A library specialized in neural networks<br>인공신경망에 특화된 라이브러리\n",
    "\n"
   ]
  },
  {
   "cell_type": "markdown",
   "metadata": {},
   "source": [
    "Got some help from https://chat.openai.com to generate following code.<br>\n",
    "아래의 코드를 생성하기 위해 일부 https://chat.openai.com 의 도움을 받았음.\n",
    "\n"
   ]
  },
  {
   "cell_type": "code",
   "execution_count": null,
   "metadata": {},
   "outputs": [],
   "source": [
    "import numpy as np\n",
    "import tensorflow as tf\n",
    "\n",
    "\n",
    "X = data[:, :2]\n",
    "y = data[:, 2]\n",
    "\n",
    "\n",
    "# Define the model architecture\n",
    "tf_model = tf.keras.Sequential([\n",
    "  tf.keras.layers.Dense(1, input_shape=(2,), activation='sigmoid',)\n",
    "])\n",
    "\n",
    "\n",
    "# Compile the model\n",
    "tf_model.compile(optimizer='adam', loss='binary_crossentropy', metrics=['accuracy'])\n",
    "\n",
    "\n",
    "# Train the model\n",
    "n_epoch = 50\n",
    "\n",
    "# To save time when automatically testing the SW\n",
    "if os.getenv('CI', False):\n",
    "    n_epoch = 1\n",
    "\n",
    "tf_model.fit(X, y, epochs=50, batch_size=10)\n",
    "\n",
    "\n",
    "# Evaluate the model\n",
    "loss, accuracy = tf_model.evaluate(X, y)\n",
    "print(\"Accuracy:\", accuracy)\n"
   ]
  },
  {
   "cell_type": "code",
   "execution_count": null,
   "metadata": {},
   "outputs": [],
   "source": [
    "def plot_decision_boundary_tf(tf_model, x_min, x_max, nx=100):\n",
    "\n",
    "    x_array = np.linspace(x_min, x_max, nx)\n",
    "\n",
    "    weights, bias = tf_model.get_weights()\n",
    "\n",
    "    # w0 x0 + w1 x1 + bias\n",
    "    # -> x1 = -(w0/w1) x0 - bias/w1\n",
    "    slope = -weights[0] / weights[1]\n",
    "    intercept = -bias / weights[1]\n",
    "\n",
    "    decision_bounday = slope * x_array + intercept\n",
    "    plt.plot(x_array, decision_bounday, 'k-')\n",
    "\n",
    "    plt.grid(True)\n",
    "\n"
   ]
  },
  {
   "cell_type": "code",
   "execution_count": null,
   "metadata": {},
   "outputs": [],
   "source": [
    "plot_two_sets(set_0, set_1)\n",
    "plot_decision_boundary_tf(\n",
    "    tf_model,\n",
    "    *(plt.gca().get_xlim())\n",
    ")\n",
    "\n"
   ]
  },
  {
   "cell_type": "markdown",
   "metadata": {},
   "source": [
    "## PyTorch\n",
    "\n",
    "I got help from https://gemini.google.com to write the code below.<br>\n",
    "아래 코드 작성을 위해 https://gemini.google.com 로 부터 도움을 받았음.\n",
    "\n"
   ]
  },
  {
   "cell_type": "code",
   "execution_count": null,
   "metadata": {},
   "outputs": [],
   "source": [
    "import torch\n",
    "import torch.nn\n",
    "import torch.optim\n",
    "\n",
    "\n",
    "# Datasets\n",
    "X = torch.tensor(data[:, :2], dtype=torch.float32)\n",
    "y = torch.tensor(data[:, 2], dtype=torch.float32)\n",
    "\n",
    "\n",
    "# Model\n",
    "class MyModel(torch.nn.Module):  # PyTorch models are usually defined as classes\n",
    "    def __init__(self, in_dim=2, out_dim=1):\n",
    "        super(MyModel, self).__init__()\n",
    "        self.linear = torch.nn.Linear(in_dim, out_dim)  # Equivalent to Dense layer\n",
    "\n",
    "    def forward(self, x):\n",
    "        x = self.linear(x)\n",
    "        return torch.sigmoid(x)\n",
    "\n",
    "\n",
    "def train(model, X, y, optimizer, criterion, n_epoch=50):\n",
    "\n",
    "    epoch_list = []\n",
    "    loss_list = []\n",
    "\n",
    "    if os.getenv('CI', False):  # CI environment check\n",
    "        n_epoch = 1\n",
    "\n",
    "    for epoch in range(n_epoch):\n",
    "        total = 0\n",
    "        for i in range(0, len(X), 10):  # Batching\n",
    "            batch_X = X[i:i+10]\n",
    "            batch_y = y[i:i+10]\n",
    "\n",
    "            output = model(batch_X)\n",
    "            loss = criterion(output.squeeze(1), batch_y)  # squeeze for BCEWithLogitsLoss\n",
    "\n",
    "            total += loss.item()\n",
    "\n",
    "            optimizer.zero_grad()\n",
    "            loss.backward()\n",
    "            optimizer.step()\n",
    "\n",
    "        loss_list.append(total)\n",
    "\n",
    "    return loss_list\n",
    "\n",
    "\n",
    "torch_model = MyModel()\n",
    "\n",
    "cost_list_torch = train(\n",
    "    torch_model, X, y,\n",
    "    optimizer=torch.optim.Adam(torch_model.parameters()),\n",
    "    criterion=torch.nn.BCELoss()\n",
    ")\n",
    "\n"
   ]
  },
  {
   "cell_type": "code",
   "execution_count": null,
   "metadata": {},
   "outputs": [],
   "source": [
    "def plot_decision_boundary_pytorch(pytorch_model, x_min, x_max, nx=100):\n",
    "    x_array = np.linspace(x_min, x_max, nx)\n",
    "\n",
    "    # Extract weights and bias (assuming a two-input linear model)\n",
    "    weights = pytorch_model.linear.weight.detach().numpy()[0]  # Access parameters\n",
    "    bias = pytorch_model.linear.bias.detach().numpy()\n",
    "\n",
    "    slope = -weights[0] / weights[1]\n",
    "    intercept = -bias / weights[1]\n",
    "\n",
    "    decision_boundary = slope * x_array + intercept\n",
    "    plt.plot(x_array, decision_boundary, 'k-')\n",
    "\n",
    "    plt.grid(True)\n",
    "\n"
   ]
  },
  {
   "cell_type": "code",
   "source": [
    "plt.plot(cost_list_linear, '.-', label='linear')\n",
    "plt.plot(cost_list_step, '.-', label='step')\n",
    "plt.plot(cost_list_sigmoid, '.-', label='sigmoid')\n",
    "plt.plot(cost_list_cross_entropy, '.-', label='cross entropy')\n",
    "plt.plot(cost_list_torch, '.-', label='pytorch mini-batch')\n",
    "plt.xlabel('iter')\n",
    "plt.ylabel('cost')\n",
    "plt.legend(loc=0)\n",
    "plt.grid(True)\n",
    "\n"
   ],
   "metadata": {},
   "execution_count": null,
   "outputs": []
  },
  {
   "cell_type": "code",
   "execution_count": null,
   "metadata": {},
   "outputs": [],
   "source": [
    "# Example usage with the 'model' defined earlier\n",
    "plot_two_sets(set_0, set_1)  # You'll need to define how to plot these sets\n",
    "plot_decision_boundary_pytorch(\n",
    "    torch_model,\n",
    "    *(plt.gca().get_xlim())\n",
    ")\n",
    "\n"
   ]
  },
  {
   "cell_type": "markdown",
   "metadata": {},
   "source": [
    "## Final Bell<br>마지막 종\n",
    "\n"
   ]
  },
  {
   "cell_type": "code",
   "execution_count": null,
   "metadata": {},
   "outputs": [],
   "source": [
    "# stackoverfow.com/a/24634221\n",
    "import os\n",
    "os.system(\"printf '\\a'\");\n",
    "\n"
   ]
  },
  {
   "cell_type": "markdown",
   "source": [
    "## References<br>참고문헌\n",
    "* J. Santarcangelo, Deep Neural Networks with PyTorch, Coursera\n",
    "* S. Kim, Deep Learning for Everyone, http://hunkim.github.io/ml/\n",
    "* SciPy Developer Community, Optimization and root finding, SciPy Documentation, https://docs.scipy.org/doc/scipy/reference/optimize.html\n",
    "\n"
   ],
   "metadata": {}
  },
  {
   "cell_type": "code",
   "execution_count": null,
   "metadata": {},
   "outputs": [],
   "source": []
  }
 ],
 "metadata": {
  "colab": {
   "provenance": [],
   "include_colab_link": true
  },
  "interpreter": {
   "hash": "c4f5d83b4c99dc49532e0bea049a2f4d94cab49dd603fc8b0a3a009bd3bea565"
  },
  "kernelspec": {
   "display_name": "Python 3 (ipykernel)",
   "language": "python",
   "name": "python3"
  },
  "language_info": {
   "codemirror_mode": {
    "name": "ipython",
    "version": 3
   },
   "file_extension": ".py",
   "mimetype": "text/x-python",
   "name": "python",
   "nbconvert_exporter": "python",
   "pygments_lexer": "ipython3",
   "version": "3.10.13"
  }
 },
 "nbformat": 4,
 "nbformat_minor": 0
}