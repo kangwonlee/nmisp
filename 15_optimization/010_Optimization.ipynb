{
 "cells": [
  {
   "cell_type": "markdown",
   "metadata": {
    "id": "view-in-github",
    "colab_type": "text"
   },
   "source": [
    "<a href=\"https://colab.research.google.com/github/kangwonlee/nmisp/blob/dependabot/pip/tests/requests-2.31.0/15_optimization/010_Optimization.ipynb\" target=\"_parent\"><img src=\"https://colab.research.google.com/assets/colab-badge.svg\" alt=\"Open In Colab\"/></a>\n"
   ]
  },
  {
   "cell_type": "markdown",
   "metadata": {},
   "source": [
    "# 최적화 Optimization\n",
    "\n"
   ]
  },
  {
   "cell_type": "markdown",
   "metadata": {},
   "source": [
    "$$\n",
    "y_{minimum} = \\underset{x}{\\min} f(x)\n",
    "$$\n",
    "\n"
   ]
  },
  {
   "cell_type": "markdown",
   "metadata": {},
   "source": [
    "$$\n",
    "x_{minimum} = \\underset{x}{\\arg \\min} f(x)\n",
    "$$\n",
    "\n"
   ]
  },
  {
   "cell_type": "markdown",
   "metadata": {},
   "source": [
    "Convexity\n"
   ]
  },
  {
   "cell_type": "markdown",
   "metadata": {},
   "source": [
    "$$\n",
    "f(tx + (1-t)y) \\le tf(x) + (1-t)f(y)\n",
    "$$\n",
    "\n"
   ]
  },
  {
   "cell_type": "markdown",
   "metadata": {},
   "source": [
    "## 사용법 요약<br>Summary\n",
    "\n"
   ]
  },
  {
   "cell_type": "markdown",
   "metadata": {},
   "source": [
    "`scipy` 패키지의 `optimize` 부 패키지를 읽어들임<br>[Scipy Documentation](https://docs.scipy.org/doc/scipy/reference/optimize.html)\n",
    "\n"
   ]
  },
  {
   "cell_type": "code",
   "execution_count": null,
   "metadata": {},
   "outputs": [],
   "source": [
    "import scipy.optimize as so\n",
    "\n"
   ]
  },
  {
   "cell_type": "markdown",
   "metadata": {},
   "source": [
    "최적화할 `cost_function` 을 선언함<br>\n",
    "Declare `cost_function` to optimize\n",
    "\n"
   ]
  },
  {
   "cell_type": "code",
   "execution_count": null,
   "metadata": {},
   "outputs": [],
   "source": [
    "def cost_function(x:float, x_min:float=10.0):\n",
    "    return (x-x_min) * (x-x_min)\n",
    "\n"
   ]
  },
  {
   "cell_type": "markdown",
   "metadata": {},
   "source": [
    "위 함수를 매개변수로 `minimize()`를 호출<br>\n",
    "Call `minimize()` using the function above as an argument\n",
    "\n"
   ]
  },
  {
   "cell_type": "code",
   "execution_count": null,
   "metadata": {},
   "outputs": [],
   "source": [
    "%%time\n",
    "result = so.minimize_scalar(cost_function)\n",
    "result\n"
   ]
  },
  {
   "cell_type": "markdown",
   "metadata": {},
   "source": [
    "중간 과정의 그래프를 그려 주는 비용 함수를 선언<br>Declare another cost function that will plot intermediate results\n",
    "\n"
   ]
  },
  {
   "cell_type": "code",
   "execution_count": null,
   "metadata": {},
   "outputs": [],
   "source": [
    "import matplotlib.pyplot as plt\n",
    "import numpy as np\n",
    "\n",
    "\n",
    "def cost_function_with_plot(x):\n",
    "    x_plot = np.linspace(-25, 25)\n",
    "    y_plot = cost_function(x_plot)\n",
    "    plt.plot(x_plot, y_plot)\n",
    "    result = cost_function(x)\n",
    "    plt.plot(x, result, 'o')\n",
    "    plt.title(f\"x = {x}\")\n",
    "    plt.grid(True)\n",
    "    plt.show()\n",
    "    plt.close()\n",
    "    return result\n",
    "\n"
   ]
  },
  {
   "cell_type": "code",
   "execution_count": null,
   "metadata": {
    "scrolled": false
   },
   "outputs": [],
   "source": [
    "%%time\n",
    "result = so.minimize_scalar(cost_function_with_plot)\n",
    "\n"
   ]
  },
  {
   "cell_type": "code",
   "source": [
    "result\n",
    "\n"
   ],
   "metadata": {},
   "execution_count": null,
   "outputs": []
  },
  {
   "cell_type": "markdown",
   "metadata": {},
   "source": [
    "## Callback Function\n",
    "\n"
   ]
  },
  {
   "cell_type": "markdown",
   "metadata": {},
   "source": [
    "어떤 함수가 매개변수로 다른 함수를 받아들여서 호출하는 경우, 호출된 함수는 **callback function**<br>\n",
    "If a function takes another function as an argument and calls it, the called function is a **callback function**\n",
    "\n",
    "\n"
   ]
  },
  {
   "cell_type": "markdown",
   "metadata": {},
   "source": [
    "## 도움말<br>Help\n",
    "\n"
   ]
  },
  {
   "cell_type": "code",
   "execution_count": null,
   "metadata": {},
   "outputs": [],
   "source": [
    "help(so.minimize)\n",
    "\n"
   ]
  },
  {
   "cell_type": "markdown",
   "metadata": {},
   "source": [
    "Help on function fmin in module scipy.optimize.optimize:<br>\n",
    "`scipy.optimize.optimize` 모듈의 `minimize()` 함수에 관한 도움말:\n",
    "\n"
   ]
  },
  {
   "cell_type": "markdown",
   "metadata": {},
   "source": [
    "### Parameters<br>매개변수\n",
    "\n"
   ]
  },
  {
   "cell_type": "markdown",
   "metadata": {},
   "source": [
    "#### `func` : callable `func(x,*args)`\n",
    "\n"
   ]
  },
  {
   "cell_type": "markdown",
   "metadata": {},
   "source": [
    "첫번째 매개변수는 최적화할 함수의 이름. 예를 들어 함수의 형태는 다음과 같음\n",
    "\n"
   ]
  },
  {
   "cell_type": "code",
   "execution_count": null,
   "metadata": {},
   "outputs": [],
   "source": [
    "def second_order_polynomial(x, *args):\n",
    "    a, b, c = args\n",
    "    cost = a * x * x + b * x + c\n",
    "    return cost\n",
    "\n"
   ]
  },
  {
   "cell_type": "markdown",
   "metadata": {},
   "source": [
    "위 함수에서 `args` 는 `minimize()`함수를 호출할 때 추가할 수 있는 다른 매개변수 `args` 의 내용이 전달됨.  $x ^ 2 - 2x - 1$ 라는 2차 다항식에 $x=3$ 을 대입한 값을 계산하도록 하려면 다음과 같이 가능함.\n",
    "\n"
   ]
  },
  {
   "cell_type": "code",
   "execution_count": null,
   "metadata": {},
   "outputs": [],
   "source": [
    "second_order_polynomial(3, 1, -2, -1)\n",
    "\n"
   ]
  },
  {
   "cell_type": "markdown",
   "source": [
    " $x^2 - 4x + 4$ 라는 2차 다항식에 $x=3$ 을 대입한 값을 계산하도록 하려면 다음과 같이 매개변수만 바꾸는 것으로 가능함.\n"
   ],
   "metadata": {}
  },
  {
   "cell_type": "code",
   "source": [
    "second_order_polynomial(3, 1, -4, 4)\n",
    "\n"
   ],
   "metadata": {},
   "execution_count": null,
   "outputs": []
  },
  {
   "cell_type": "markdown",
   "metadata": {},
   "source": [
    "#### x0 : `ndarray`\n",
    "\n"
   ]
  },
  {
   "cell_type": "markdown",
   "metadata": {},
   "source": [
    "두번째 매개변수는 최적화를 시작할 초기값.  *충분히* 가까운 값을 주는 것이 유리.  `numpy` 의 (다차원) 배열 이라고 적혀 있으나 실수 float 값을 전달하는 것도 가능.\n",
    "\n"
   ]
  },
  {
   "cell_type": "markdown",
   "metadata": {},
   "source": [
    "그런데, 얼마나 가까와야 하는가? 는 생각 보다 알기 힘들 수도 있음.\n",
    "\n"
   ]
  },
  {
   "cell_type": "code",
   "execution_count": null,
   "metadata": {},
   "outputs": [],
   "source": [
    "def a_func_not_smooth(x):\n",
    "    return np.sin(x*10) + 2.0 * x * x\n",
    "\n"
   ]
  },
  {
   "cell_type": "code",
   "execution_count": null,
   "metadata": {
    "scrolled": true
   },
   "outputs": [],
   "source": [
    "def plot_the_func_not_smooth():\n",
    "    x_array = np.linspace(-1, 1, 200)\n",
    "    y_array = a_func_not_smooth(x_array)\n",
    "    plt.plot(x_array, y_array)\n",
    "    plt.grid(True)\n",
    "\n",
    "\n",
    "plot_the_func_not_smooth()\n",
    "plt.show()\n",
    "plt.close()\n",
    "\n"
   ]
  },
  {
   "cell_type": "markdown",
   "metadata": {},
   "source": [
    "\"충분히 가깝지 않은\" 경우\n",
    "\n"
   ]
  },
  {
   "cell_type": "code",
   "execution_count": null,
   "metadata": {
    "scrolled": true
   },
   "outputs": [],
   "source": [
    "not_the_best_initial_guess = -0.7\n",
    "result_not_the_best_initial_guess = so.minimize(\n",
    "    a_func_not_smooth,\n",
    "    not_the_best_initial_guess,\n",
    "    method=\"Nelder-Mead\",\n",
    ")\n",
    "\n",
    "plot_the_func_not_smooth()\n",
    "plt.plot(\n",
    "    result_not_the_best_initial_guess.x,\n",
    "    a_func_not_smooth(result_not_the_best_initial_guess.x),\n",
    "    'o', label='final'\n",
    ")\n",
    "plt.plot(\n",
    "    not_the_best_initial_guess,\n",
    "    a_func_not_smooth(not_the_best_initial_guess),\n",
    "    'x', label='initial'\n",
    ")\n",
    "plt.legend(loc=0)\n",
    "plt.show()\n",
    "plt.close()\n",
    "\n"
   ]
  },
  {
   "cell_type": "markdown",
   "metadata": {},
   "source": [
    "**운** 좋게 \"충분히 가까운\" 경우\n",
    "\n"
   ]
  },
  {
   "cell_type": "code",
   "execution_count": null,
   "metadata": {},
   "outputs": [],
   "source": [
    "a_better_initial_guess = -0.3\n",
    "result_a_better_initial_guess = so.minimize(\n",
    "    a_func_not_smooth,\n",
    "    a_better_initial_guess,\n",
    "    method=\"Nelder-Mead\"\n",
    ")\n",
    "\n",
    "plot_the_func_not_smooth()\n",
    "plt.plot(\n",
    "  result_a_better_initial_guess.x,\n",
    "  a_func_not_smooth(result_a_better_initial_guess.x),\n",
    "  'o', label='final'\n",
    ")\n",
    "plt.plot(\n",
    "  a_better_initial_guess,\n",
    "  a_func_not_smooth(a_better_initial_guess),\n",
    "  'x', label='initial'\n",
    ")\n",
    "plt.legend(loc=0)\n",
    "plt.show()\n",
    "plt.close()\n",
    "\n"
   ]
  },
  {
   "cell_type": "markdown",
   "metadata": {},
   "source": [
    "#### `args` : `tuple`, optional\n",
    "\n"
   ]
  },
  {
   "cell_type": "markdown",
   "metadata": {},
   "source": [
    "첫번째 매개변수로 전달한 함수의 두번째 이후 매개변수.  필요에 따라 사용. 튜플 `tuple` 이므로 내용이 변화하지 않음.  예를 들어 다음과 같이 여러 2차 다항식을 적용해 볼 수 있음.\n",
    "\n"
   ]
  },
  {
   "cell_type": "code",
   "execution_count": null,
   "metadata": {},
   "outputs": [],
   "source": [
    "def second_order_polynomial(x, *args):\n",
    "    a, b, c = args\n",
    "    cost = a * x * x + b * x + c\n",
    "    return cost\n",
    "\n"
   ]
  },
  {
   "cell_type": "markdown",
   "metadata": {},
   "source": [
    "$$\n",
    "f(x) = x^2 -2x -1\n",
    "$$\n"
   ]
  },
  {
   "cell_type": "code",
   "execution_count": null,
   "metadata": {},
   "outputs": [],
   "source": [
    "first_case = so.minimize(\n",
    "    second_order_polynomial,\n",
    "    0,\n",
    "    args=(1, -2, -1),\n",
    "    method=\"Nelder-Mead\",\n",
    ")\n",
    "first_case\n",
    "\n"
   ]
  },
  {
   "cell_type": "markdown",
   "metadata": {},
   "source": [
    "$$\n",
    "f(x) = x^2 -4x+4\n",
    "$$\n"
   ]
  },
  {
   "cell_type": "code",
   "execution_count": null,
   "metadata": {
    "scrolled": true
   },
   "outputs": [],
   "source": [
    "second_case = so.minimize(\n",
    "    second_order_polynomial,\n",
    "    0,\n",
    "    (1, -4, +4),\n",
    "    method=\"Nelder-Mead\",\n",
    ")\n",
    "second_case\n",
    "\n"
   ]
  },
  {
   "cell_type": "markdown",
   "metadata": {},
   "source": [
    "#### `method` : `str` or `callable`, optional\n",
    "\n"
   ]
  },
  {
   "cell_type": "markdown",
   "metadata": {},
   "source": [
    "Choose minimization algorithm.<br>\n",
    "최소화 알고리듬을 선택한다.\n",
    "\n",
    "If unspecified, may use an algorithm such as `BFGS`.<br>\n",
    "따로 선택하지 않으면 `BFGS` 등의 알고리듬을 사용한다.\n",
    "\n",
    "The `BFGS` algorithm uses the first derivative of the cost function.<br>\n",
    "해당 알고리듬은 비용함수의 1계 미분을 이용한다.\n",
    "\n",
    "See argument `jac` for more about the first derivative of the cost function.<br>\n",
    "비용함수의 1계 미분에 대해서는 `jac` 매개변수를 참고.\n",
    "\n",
    "`Nedler-Mead` algorithm would minimize a function using the Simplex algorithm.<br>\n",
    "`Nedler-Mead` 알고리듬의 경우, 어떤 함수를 심플렉스 알고리듬을 이용하여 최소화한다.\n",
    "    \n",
    "This algorithm only uses function values, not derivatives or second derivatives.<br>\n",
    "이 알고리듬은 함수의 값만을 사용하며, 미분값이나 두번 미분한 값은 쓰지 않는다.\n",
    "\n"
   ]
  },
  {
   "cell_type": "markdown",
   "metadata": {},
   "source": [
    "#### `jac` : callable `jac(x,*args)`, `\"2-point\"`, `\"3-point\"`, `\"cs\"`, `bool`, optional\n",
    "\n"
   ]
  },
  {
   "cell_type": "markdown",
   "metadata": {},
   "source": [
    "Specifies how to calculate the gradient vector (or Jacobian).<br>경사 벡터를 (또는 쟈코비안을) 계산하는 법을 지정한다.\n",
    "\n",
    "Only for the algorithms using the first derivatives.<br>1계 미분을 이용하는 알고리듬들만 해당된다.\n",
    "\n"
   ]
  },
  {
   "cell_type": "markdown",
   "metadata": {},
   "source": [
    "## Final Bell<br>마지막 종\n",
    "\n"
   ]
  },
  {
   "cell_type": "code",
   "execution_count": null,
   "metadata": {},
   "outputs": [],
   "source": [
    "# stackoverfow.com/a/24634221\n",
    "import os\n",
    "os.system(\"printf '\\a'\");\n",
    "\n"
   ]
  },
  {
   "cell_type": "code",
   "execution_count": null,
   "metadata": {},
   "outputs": [],
   "source": []
  }
 ],
 "metadata": {
  "colab": {
   "provenance": [],
   "include_colab_link": true
  },
  "kernelspec": {
   "display_name": "Python 3",
   "language": "python",
   "name": "python3"
  },
  "language_info": {
   "codemirror_mode": {
    "name": "ipython",
    "version": 3
   },
   "file_extension": ".py",
   "mimetype": "text/x-python",
   "name": "python",
   "nbconvert_exporter": "python",
   "pygments_lexer": "ipython3",
   "version": "3.8.8"
  }
 },
 "nbformat": 4,
 "nbformat_minor": 0
}