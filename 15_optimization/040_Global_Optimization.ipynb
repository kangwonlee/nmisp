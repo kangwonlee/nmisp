{
 "cells": [
  {
   "cell_type": "markdown",
   "metadata": {
    "id": "view-in-github",
    "colab_type": "text"
   },
   "source": [
    "<a href=\"https://colab.research.google.com/github/kangwonlee/nmisp/blob/lecture-idea/15_optimization/040_Global_Optimization.ipynb\" target=\"_parent\"><img src=\"https://colab.research.google.com/assets/colab-badge.svg\" alt=\"Open In Colab\"/></a>\n"
   ]
  },
  {
   "cell_type": "code",
   "execution_count": null,
   "metadata": {},
   "outputs": [],
   "source": [
    "import numpy as np\n",
    "import scipy.optimize as so\n",
    "import matplotlib.pyplot as plt\n",
    "\n"
   ]
  },
  {
   "cell_type": "markdown",
   "metadata": {},
   "source": [
    "# Global Optimization Examples<br>전역최적화 사례\n",
    "\n"
   ]
  },
  {
   "cell_type": "markdown",
   "metadata": {},
   "source": [
    "Let's think about a cost function with multiple local minima.<br>여러 국소 최소점을 가진 비용 함수를 생각해 보자.\n",
    "\n"
   ]
  },
  {
   "cell_type": "code",
   "execution_count": null,
   "metadata": {},
   "outputs": [],
   "source": [
    "def a_func_not_smooth(x):\n",
    "    return np.sin(x*10) + 0.25 * x * x\n",
    "\n"
   ]
  },
  {
   "cell_type": "code",
   "execution_count": null,
   "metadata": {},
   "outputs": [],
   "source": [
    "def df_dx_cost(x):\n",
    "    return 10.0 * np.cos(x * 10.0) + 0.5 * x\n",
    "\n"
   ]
  },
  {
   "cell_type": "code",
   "execution_count": null,
   "metadata": {
    "scrolled": false
   },
   "outputs": [],
   "source": [
    "def plot_the_func_not_smooth():\n",
    "    x_array = np.linspace(-10, 10, 200)\n",
    "    y_array = a_func_not_smooth(x_array)\n",
    "    plt.plot(x_array, y_array)\n",
    "    plt.grid(True)\n",
    "\n",
    "\n",
    "plot_the_func_not_smooth()\n",
    "plt.show()\n",
    "plt.close()\n",
    "\n"
   ]
  },
  {
   "cell_type": "markdown",
   "metadata": {},
   "source": [
    "## A case of a Local Optimization Algorithm<br>국소 최적화 알고리듬의 경우\n",
    "\n"
   ]
  },
  {
   "cell_type": "markdown",
   "metadata": {},
   "source": [
    "A local optimization might have challenges finding the global minimum.<br>국소 최적화 알고리듬은 \"충분히 가깝지 않은\" 경우 전역 최적점을 찾기 힘들 수도 있다.\n",
    "\n"
   ]
  },
  {
   "cell_type": "code",
   "execution_count": null,
   "metadata": {
    "scrolled": true
   },
   "outputs": [],
   "source": [
    "not_the_best_initial_guess = -0.7\n",
    "result_not_the_best_initial_guess = so.minimize(\n",
    "    a_func_not_smooth, not_the_best_initial_guess,\n",
    "    jac=df_dx_cost,\n",
    ")\n",
    "\n",
    "plot_the_func_not_smooth()\n",
    "plt.plot(\n",
    "  not_the_best_initial_guess,\n",
    "    a_func_not_smooth(not_the_best_initial_guess),\n",
    "  'x', label=\"initial\"\n",
    ")\n",
    "\n",
    "plt.plot(\n",
    "  result_not_the_best_initial_guess.x,\n",
    "    a_func_not_smooth(result_not_the_best_initial_guess.x),\n",
    "  'o', label=\"final\"\n",
    ")\n",
    "\n",
    "plt.legend(loc=0)\n",
    "plt.show()\n",
    "plt.close()\n",
    "\n"
   ]
  },
  {
   "cell_type": "markdown",
   "metadata": {},
   "source": [
    "## Cases of Global Optimization Algorithms<br>전역 최적화 알고리듬의 경우\n",
    "\n"
   ]
  },
  {
   "cell_type": "markdown",
   "metadata": {},
   "source": [
    "Declare another cost function that will plot intermediate results<br>중간 과정의 그래프를 그려 주는 비용 함수를 선언\n",
    "\n"
   ]
  },
  {
   "cell_type": "code",
   "execution_count": null,
   "metadata": {},
   "outputs": [],
   "source": [
    "class RoughCostFunctionLogger():\n",
    "    def __init__(self):\n",
    "\n",
    "        self.x_log = []\n",
    "        self.y_log = []\n",
    "\n",
    "        self.x_plot = np.linspace(-10, 10, 201)\n",
    "        self.y_plot = a_func_not_smooth(self.x_plot)\n",
    "\n",
    "    def plot_cost_function(self):\n",
    "        plt.plot(self.x_plot, self.y_plot)\n",
    "        plt.grid(True)\n",
    "\n",
    "    def cost(self, x:np.ndarray) -> float:\n",
    "        result = a_func_not_smooth(x)\n",
    "\n",
    "        self.x_log.append(x[0])\n",
    "        self.y_log.append(result)\n",
    "\n",
    "        return result\n",
    "\n",
    "    def plot_cost_function_and_log(self):\n",
    "        fig, ax = plt.subplots(figsize=(16, 9))\n",
    "        self.plot_cost_function()\n",
    "        plt.scatter(self.x_log, self.y_log, c=range(len(self.x_log)))\n",
    "        plt.colorbar()\n",
    "\n"
   ]
  },
  {
   "cell_type": "markdown",
   "metadata": {},
   "source": [
    "### Basin Hopping\n",
    "\n"
   ]
  },
  {
   "cell_type": "markdown",
   "metadata": {},
   "source": [
    "Uses Monte Carlo method<br>\n",
    "몬테카를로법을 적용 (무작위 시도)\n",
    "\n"
   ]
  },
  {
   "cell_type": "code",
   "execution_count": null,
   "metadata": {},
   "outputs": [],
   "source": [
    "logger_basinhopping = RoughCostFunctionLogger()\n",
    "\n"
   ]
  },
  {
   "cell_type": "code",
   "execution_count": null,
   "metadata": {
    "scrolled": false
   },
   "outputs": [],
   "source": [
    "%%time\n",
    "result_basinhopping = so.basinhopping(logger_basinhopping.cost, [-0.7])\n",
    "result_basinhopping\n",
    "\n"
   ]
  },
  {
   "cell_type": "code",
   "execution_count": null,
   "metadata": {
    "scrolled": false
   },
   "outputs": [],
   "source": [
    "logger_basinhopping.plot_cost_function_and_log()\n",
    "plt.axvline(result_basinhopping.x, color=\"red\");\n",
    "plt.show()\n",
    "plt.close()\n",
    "\n"
   ]
  },
  {
   "cell_type": "markdown",
   "metadata": {},
   "source": [
    "### Brute\n",
    "\n"
   ]
  },
  {
   "cell_type": "markdown",
   "metadata": {},
   "source": [
    "Evaluate the cost function at the grid points within the given range<br>\n",
    "주어진 범위 안에 매개변수 격자를 만들고, 각 격자점에서 비용함수를 계산.\n",
    "\n"
   ]
  },
  {
   "cell_type": "code",
   "execution_count": null,
   "metadata": {},
   "outputs": [],
   "source": [
    "logger_brute = RoughCostFunctionLogger()\n",
    "\n"
   ]
  },
  {
   "cell_type": "code",
   "execution_count": null,
   "metadata": {
    "scrolled": false
   },
   "outputs": [],
   "source": [
    "%%time\n",
    "result_brute = so.brute(logger_brute.cost, ((-5.0, 5.0),))\n",
    "result_brute, a_func_not_smooth(result_brute)\n",
    "\n"
   ]
  },
  {
   "cell_type": "code",
   "execution_count": null,
   "metadata": {},
   "outputs": [],
   "source": [
    "logger_brute.plot_cost_function_and_log()\n",
    "plt.axvline(result_brute, color=\"red\");\n",
    "plt.show()\n",
    "plt.close()\n",
    "\n"
   ]
  },
  {
   "cell_type": "markdown",
   "metadata": {},
   "source": [
    "### Differential Evolution\n",
    "\n"
   ]
  },
  {
   "cell_type": "markdown",
   "metadata": {},
   "source": [
    "Evolution of population : crossover and mutation<br>\n",
    "유전자 모음을 만들고 교배와 변이를 통해 탐색\n",
    "\n"
   ]
  },
  {
   "cell_type": "code",
   "execution_count": null,
   "metadata": {},
   "outputs": [],
   "source": [
    "logger_de = RoughCostFunctionLogger()\n",
    "\n"
   ]
  },
  {
   "cell_type": "code",
   "execution_count": null,
   "metadata": {
    "scrolled": false
   },
   "outputs": [],
   "source": [
    "%%time\n",
    "result_de = so.differential_evolution(logger_de.cost, ((-6.0, 6.0),))\n",
    "result_de\n",
    "\n"
   ]
  },
  {
   "cell_type": "code",
   "execution_count": null,
   "metadata": {},
   "outputs": [],
   "source": [
    "logger_de.plot_cost_function_and_log()\n",
    "plt.axvline(result_de.x, color=\"red\");\n",
    "plt.show()\n",
    "plt.close()\n",
    "\n"
   ]
  },
  {
   "cell_type": "markdown",
   "metadata": {},
   "source": [
    "### SHGO\n",
    "\n"
   ]
  },
  {
   "cell_type": "markdown",
   "source": [
    "LHS vs grid 2D example<br>\n",
    "라틴 하이퍼큐브와 단순 격자 2D 비교<br>\n",
    "ref :<br>\n",
    "* AskUp & https://chat.openai.com\n",
    "* https://en.wikipedia.org/wiki/Latin_hypercube_sampling\n",
    "\n"
   ],
   "metadata": {}
  },
  {
   "cell_type": "code",
   "source": [
    "import numpy as np\n",
    "import matplotlib.pyplot as plt\n",
    "from scipy.stats import qmc\n",
    "\n",
    "# Number of samples per dimension\n",
    "n = 10\n",
    "\n",
    "# Generate Latin Hypercube Sampling\n",
    "lhs_engine = qmc.LatinHypercube(d=2, seed=123)\n",
    "lhs_2D = lhs_engine.random(n=n)\n",
    "\n",
    "# Generate evenly spaced grid\n",
    "x = np.linspace(0, 1, n)\n",
    "y = np.linspace(0, 1, n)\n",
    "grid_x, grid_y = np.meshgrid(x, y)\n",
    "grid_2D = np.vstack((grid_x.flatten(), grid_y.flatten())).T\n",
    "\n",
    "# Plot the samples\n",
    "plt.figure(figsize=(12, 6))\n",
    "\n",
    "plt.subplot(1, 2, 1)\n",
    "plt.scatter(lhs_2D[:, 0], lhs_2D[:, 1], c='red', marker='o')\n",
    "plt.title('Latin Hypercube Sampling')\n",
    "plt.xlabel('X1')\n",
    "plt.ylabel('X2')\n",
    "\n",
    "plt.subplot(1, 2, 2)\n",
    "plt.scatter(grid_2D[:, 0], grid_2D[:, 1], c='blue', marker='o')\n",
    "plt.title('Evenly Spaced Grid')\n",
    "plt.xlabel('X1')\n",
    "plt.ylabel('X2')\n",
    "\n",
    "plt.show()\n",
    "\n"
   ],
   "metadata": {},
   "execution_count": null,
   "outputs": []
  },
  {
   "cell_type": "markdown",
   "metadata": {},
   "source": [
    "Latine Hypercube Sampling : add some randomness to grid points<br>\n",
    "라틴 하이퍼큐브 샘플링 : 격자로 나눈 후 무작위성을 추가\n",
    "\n"
   ]
  },
  {
   "cell_type": "code",
   "execution_count": null,
   "metadata": {},
   "outputs": [],
   "source": [
    "logger_shgo = RoughCostFunctionLogger()\n",
    "\n"
   ]
  },
  {
   "cell_type": "code",
   "execution_count": null,
   "metadata": {
    "scrolled": false
   },
   "outputs": [],
   "source": [
    "%%time\n",
    "result_shgo = so.shgo(logger_shgo.cost, ((-6.0, 6.0),))\n",
    "result_shgo\n",
    "\n"
   ]
  },
  {
   "cell_type": "code",
   "execution_count": null,
   "metadata": {},
   "outputs": [],
   "source": [
    "logger_shgo.plot_cost_function_and_log()\n",
    "plt.axvline(result_shgo.x, color=\"red\");\n",
    "plt.show()\n",
    "plt.close()\n",
    "\n"
   ]
  },
  {
   "cell_type": "markdown",
   "metadata": {},
   "source": [
    "### Dual annealing\n",
    "\n"
   ]
  },
  {
   "cell_type": "markdown",
   "metadata": {},
   "source": [
    "Maintains an internal state `temperature`; if high, search for bigger regions ; vice versa. Another parameter `cooling_schedule` controls the `temperature` change.<br>\n",
    "`temperature` 라는 내부 상태 변수를 두고 높으면 너른 범위를, 낮으면 좁은 범위를 탐색. `cooling_schedule` 이라는 다른 매개변수가 `temperature` 의 변화를 제어.\n",
    "\n"
   ]
  },
  {
   "cell_type": "code",
   "execution_count": null,
   "metadata": {},
   "outputs": [],
   "source": [
    "logger_da = RoughCostFunctionLogger()\n",
    "\n"
   ]
  },
  {
   "cell_type": "code",
   "execution_count": null,
   "metadata": {
    "scrolled": false
   },
   "outputs": [],
   "source": [
    "%%time\n",
    "result_da = so.dual_annealing(logger_da.cost, ((-6.0, 6.0),))\n",
    "result_da\n",
    "\n"
   ]
  },
  {
   "cell_type": "code",
   "execution_count": null,
   "metadata": {},
   "outputs": [],
   "source": [
    "logger_da.plot_cost_function_and_log()\n",
    "plt.axvline(result_da.x, color=\"red\");\n",
    "plt.show()\n",
    "plt.close()\n",
    "\n"
   ]
  },
  {
   "cell_type": "markdown",
   "metadata": {},
   "source": [
    "### Comparison<br>비교\n",
    "\n"
   ]
  },
  {
   "cell_type": "markdown",
   "metadata": {},
   "source": [
    "|   algorithm   | $x_{min}$ | # iter | # `f()` call | time |\n",
    "|:-------------:|:---------:|:------:|:----------:|:----------:|\n",
    "| Basin Hopping | -0.15629813 | 4 | 16 | 126 ms |\n",
    "| Brute | -0.78145559 |   |   | 3.9 ms |\n",
    "| Differential Evolution | -0.15629814 | 10 | 173 | 16.6 ms |\n",
    "| SHGO | -0.15629813 | 2 | 16 | 1.95 ms |\n",
    "| Dual annealing | -0.15629814 | 1000 | 2027 | 124 ms |\n",
    "\n"
   ]
  },
  {
   "cell_type": "markdown",
   "metadata": {},
   "source": [
    "## Final Bell<br>마지막 종\n",
    "\n"
   ]
  },
  {
   "cell_type": "code",
   "execution_count": null,
   "metadata": {},
   "outputs": [],
   "source": [
    "# stackoverfow.com/a/24634221\n",
    "import os\n",
    "os.system(\"printf '\\a'\");\n",
    "\n"
   ]
  },
  {
   "cell_type": "code",
   "execution_count": null,
   "metadata": {},
   "outputs": [],
   "source": []
  }
 ],
 "metadata": {
  "colab": {
   "provenance": [],
   "include_colab_link": true
  },
  "kernelspec": {
   "display_name": "Python 3",
   "language": "python",
   "name": "python3"
  },
  "language_info": {
   "codemirror_mode": {
    "name": "ipython",
    "version": 3
   },
   "file_extension": ".py",
   "mimetype": "text/x-python",
   "name": "python",
   "nbconvert_exporter": "python",
   "pygments_lexer": "ipython3",
   "version": "3.8.8"
  }
 },
 "nbformat": 4,
 "nbformat_minor": 0
}