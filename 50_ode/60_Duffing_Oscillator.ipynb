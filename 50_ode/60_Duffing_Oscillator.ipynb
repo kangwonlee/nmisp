{
 "cells": [
  {
   "cell_type": "markdown",
   "id": "6d355ff4",
   "metadata": {
    "colab_type": "text",
    "id": "view-in-github"
   },
   "source": [
    "<a href=\"https://colab.research.google.com/github/kangwonlee/nmisp/blob/main/50_ode/60_Duffing_Oscillator.ipynb\" target=\"_parent\"><img src=\"https://colab.research.google.com/assets/colab-badge.svg\" alt=\"Open In Colab\"/></a>\n"
   ]
  },
  {
   "cell_type": "code",
   "execution_count": null,
   "id": "d7636b33",
   "metadata": {},
   "outputs": [],
   "source": [
    "# This cell is for the Google Colaboratory\n",
    "# https://stackoverflow.com/a/63519730\n",
    "if 'google.colab' in str(get_ipython()):\n",
    "  path_py = '/content/nmisp_py'\n",
    "\n",
    "  import os\n",
    "  if not os.path.exists(path_py):\n",
    "    import subprocess\n",
    "    subprocess.run(\n",
    "        ('git', 'clone', 'https://github.com/kangwonlee/nmisp_py')\n",
    "    )\n",
    "  assert os.path.exists(path_py)\n",
    "\n",
    "  import sys\n",
    "  sys.path.insert(0, path_py)\n",
    "\n"
   ]
  },
  {
   "cell_type": "code",
   "execution_count": null,
   "id": "7be9cee8",
   "metadata": {},
   "outputs": [],
   "source": [
    "import os\n",
    "\n",
    "import matplotlib.pyplot as plt\n",
    "import matplotlib.gridspec as mg\n",
    "import numpy as np\n",
    "\n"
   ]
  },
  {
   "cell_type": "code",
   "execution_count": null,
   "id": "0ce9b1d6",
   "metadata": {},
   "outputs": [],
   "source": [
    "import ode_solver\n",
    "\n"
   ]
  },
  {
   "cell_type": "markdown",
   "id": "2dd942b8",
   "metadata": {},
   "source": [
    "# Duffing Oscillator<br>더핑 진동자\n",
    "\n"
   ]
  },
  {
   "cell_type": "markdown",
   "id": "26681e74",
   "metadata": {},
   "source": [
    "The Duffing oscillator is a simple model of a mass-spring system with a nonlinear spring. The nonlinearity arises from the fact that the spring's restoring force is not proportional to its displacement. The Duffing oscillator is described by the following second-order differential equation:\n",
    "\n"
   ]
  },
  {
   "cell_type": "markdown",
   "id": "43ef267f",
   "metadata": {},
   "source": [
    "$$\n",
    "m\\frac{d^2}{dt^2}x(t) + c\\frac{d}{dt}x(t) + k x(t) + \\alpha x^3 = F cos \\omega t\n",
    "$$\n"
   ]
  },
  {
   "cell_type": "markdown",
   "id": "853fc830",
   "metadata": {},
   "source": [
    "| symbol<br>기호 | unit<br>단위 | description<br>설명 |\n",
    "|:-------------:|:-------------:|-------------|\n",
    "|  $t$ | sec | time |\n",
    "|  $x(t)$ | m | the displacement of the mass from its equilibrium position |\n",
    "|  $\\frac{d}{dt}x(t)$ | m/s | the velocity of the mass. |\n",
    "|  $\\frac{d^2}{dt^2}x(t)$ | m/s/s | the acceleration of the mass. |\n",
    "|  $m$ | kg | the mass of the object attached to the spring. |\n",
    "|  $c$ | N/(m/s) | the damping coefficient. |\n",
    "|  $k$ | N/m | the linear stiffness coefficient of the spring. |\n",
    "|  $\\alpha$ | $N/{m^3}$ | the nonlinear stiffness coefficient of the spring. |\n",
    "|  $F$ | N | the amplitude of the external driving force. |\n",
    "|  $\\omega$ | rad/sec | the angular frequency of the external driving force. |\n",
    "\n"
   ]
  },
  {
   "cell_type": "markdown",
   "id": "4936e8c4",
   "metadata": {},
   "source": [
    "## The Nonlinear Term\n",
    "\n",
    "The key feature of the Duffing equation is the term $\\alpha x^3$. This term introduces a cubic nonlinearity into the system.  When the displacement $x$ is small, this term is negligible, and the system behaves like a simple harmonic oscillator. However, as the displacement increases, the nonlinear term becomes significant, leading to deviations from simple harmonic motion.\n",
    "\n",
    "## Physical Interpretation\n",
    "\n",
    "The Duffing oscillator can model a variety of physical systems, including:\n",
    "\n",
    "* Mechanical Systems: A mass-spring system where the spring's stiffness changes as it is stretched or compressed.\n",
    "* Electrical Circuits: An RLC circuit with a nonlinear inductor or capacitor.\n",
    "* Structural Systems: A beam or plate with large deflections, where the geometric nonlinearities become important.\n",
    "\n",
    "## Chaotic Behavior\n",
    "\n",
    "For certain combinations of parameters (m, c, k, alpha, F, omega), the Duffing oscillator can exhibit chaotic behavior. This means that the system's response is extremely sensitive to initial conditions, and its long-term behavior is unpredictable.\n",
    "\n",
    "## Numerical Solution\n",
    "\n",
    "The Duffing equation is a nonlinear differential equation, and in most cases, it does not have an analytical solution. Therefore, numerical methods, such as the Runge-Kutta methods, are essential for simulating the behavior of the Duffing oscillator.\n"
   ]
  },
  {
   "cell_type": "code",
   "execution_count": null,
   "id": "165351d6",
   "metadata": {},
   "outputs": [],
   "source": [
    "m_kg = 1.0\n",
    "c_Npmps = 0.25\n",
    "k_Npm = 1\n",
    "alpha_Npm3 = 0.1\n",
    "F_N = 0.5\n",
    "omega_rps = 1.5\n",
    "\n"
   ]
  },
  {
   "cell_type": "code",
   "execution_count": null,
   "id": "1549d9ff",
   "metadata": {},
   "outputs": [],
   "source": [
    "def get_Duffing_oscillator_slope(\n",
    "        m_kg:float, c_Npmps:float, k_Npm:float, alpha_Npm3:float,\n",
    "        F_N:float, omega_rps:float):\n",
    "    '''\n",
    "    Return a closure calculating slope function\n",
    "    기울기 함수를 계산하는 내포 함수를 반환\n",
    "    '''\n",
    "\n",
    "    neg_m_inv = (-1.0) / m_kg\n",
    "    neg_c_m = c_Npmps * neg_m_inv\n",
    "    neg_k_m = k_Npm * neg_m_inv\n",
    "    neg_alpha_m = alpha_Npm3 * neg_m_inv\n",
    "    F_m = F_N / m_kg\n",
    "\n",
    "    def f(t:float, xv:np.ndarray,):\n",
    "        '''\n",
    "        Calculate slope vector of the Duffing Oscillator and a linear oscillator\n",
    "        더핑 진동자와 선형 진동계의 기울기 벡터를 계산\n",
    "        '''\n",
    "        x, v, x2, v2 = xv\n",
    "        dx_dt = v\n",
    "        dv_dt = neg_k_m * x + neg_c_m * v + neg_alpha_m * x**3 + F_m * np.cos(omega_rps * t)\n",
    "        dx2_dt = v2\n",
    "        dv2_dt = neg_k_m * x2 + neg_c_m * v2 + F_m * np.cos(omega_rps * t)\n",
    "\n",
    "        return np.array((dx_dt, dv_dt, dx2_dt, dv2_dt))\n",
    "\n",
    "    return f\n",
    "\n"
   ]
  },
  {
   "cell_type": "code",
   "execution_count": null,
   "id": "05085a6f",
   "metadata": {},
   "outputs": [],
   "source": [
    "def run_sim(\n",
    "        slope, x_0:np.ndarray=np.array((0.0, 0.0, 0.0, 0.0)),\n",
    "        t_start=0.0, t_end=120.0, delta_t_sec=1e-3,\n",
    "    ):\n",
    "    '''\n",
    "    Simulate a one degree of freedom vibration system\n",
    "    1자유도 진동계 시뮬레이션\n",
    "    '''\n",
    "\n",
    "    if os.getenv('CI', False):\n",
    "        t_end = t_start + 1.0\n",
    "\n",
    "    t_array = np.arange(t_start, t_end, delta_t_sec)\n",
    "\n",
    "    t_out, x_out = ode_solver.rk4(slope, t_array, x_0)\n",
    "    x_out = np.array(x_out)\n",
    "    return t_out, x_out\n",
    "\n",
    "\n",
    "def sim_1dof_vib(\n",
    "        slope, x_0:np.ndarray=np.array((0.0, 0.0, 0.0, 0.0)),\n",
    "        t_start=0.0, t_end=120.0, figsize=(14, 14),\n",
    "        delta_t_sec=1e-3,\n",
    "    ):\n",
    "\n",
    "    t_out, x_out = run_sim(\n",
    "        slope, x_0,\n",
    "        t_start, t_end, delta_t_sec,\n",
    "    )\n",
    "\n",
    "    fig = plt.figure(figsize=figsize)\n",
    "    gs = mg.GridSpec(2, 2, height_ratios=[1, 1], width_ratios=[1, 1])\n",
    "\n",
    "    axs = (\n",
    "        fig.add_subplot(gs[0, 0]),\n",
    "        fig.add_subplot(gs[1, 0]),\n",
    "        fig.add_subplot(gs[:, 1])\n",
    "    )\n",
    "\n",
    "    for k in range(2):\n",
    "        axs[k].plot(t_out, x_out[:, k], label='Duffing')\n",
    "        axs[k].plot(t_out, x_out[:, k+2], label='Linear')\n",
    "        axs[k].grid(True)\n",
    "        axs[k].set_xlabel('t(sec)')\n",
    "    axs[0].set_ylabel('$x(t)$')\n",
    "    axs[1].set_ylabel(r'$\\frac{d}{dt}x(t)$')\n",
    "\n",
    "    axs[2].plot(x_out[:, 0], x_out[:, 1], label='Duffing')\n",
    "    axs[2].plot(x_out[:, 2], x_out[:, 3], label='Linear')\n",
    "    axs[2].grid(True)\n",
    "    axs[2].set_xlabel('$x(t)$')\n",
    "    axs[2].set_ylabel(r'$\\frac{d}{dt}x(t)$')\n",
    "\n",
    "    return axs\n",
    "\n"
   ]
  },
  {
   "cell_type": "markdown",
   "id": "7239b408",
   "metadata": {},
   "source": [
    "* Weak forcing near the natural frequency.\n",
    "\n"
   ]
  },
  {
   "cell_type": "code",
   "execution_count": null,
   "id": "af84b8bb",
   "metadata": {},
   "outputs": [],
   "source": [
    "F_N, omega_rps = 0.1, 1\n",
    "\n",
    "Duffing_oscillator = get_Duffing_oscillator_slope(m_kg, c_Npmps, k_Npm, alpha_Npm3, F_N, omega_rps)\n",
    "ax = sim_1dof_vib(Duffing_oscillator,)\n",
    "\n"
   ]
  },
  {
   "cell_type": "markdown",
   "id": "3b7699b7",
   "metadata": {},
   "source": [
    "* Stronger forcing, potentially leading to nonlinear effects.\n",
    "\n"
   ]
  },
  {
   "cell_type": "code",
   "execution_count": null,
   "id": "e2d62f5c",
   "metadata": {},
   "outputs": [],
   "source": [
    "F_N, omega_rps = 0.5, 1.5\n",
    "\n",
    "Duffing_oscillator = get_Duffing_oscillator_slope(m_kg, c_Npmps, k_Npm, alpha_Npm3, F_N, omega_rps)\n",
    "ax = sim_1dof_vib(Duffing_oscillator,)\n",
    "\n"
   ]
  },
  {
   "cell_type": "markdown",
   "id": "1f5f535b",
   "metadata": {},
   "source": [
    "* Exploring different resonance regions.\n",
    "\n"
   ]
  },
  {
   "cell_type": "code",
   "execution_count": null,
   "id": "8b503880",
   "metadata": {},
   "outputs": [],
   "source": [
    "F_N, omega_rps = 1.0, 0.5\n",
    "\n",
    "Duffing_oscillator = get_Duffing_oscillator_slope(m_kg, c_Npmps, k_Npm, alpha_Npm3, F_N, omega_rps)\n",
    "ax = sim_1dof_vib(Duffing_oscillator,)\n",
    "\n"
   ]
  },
  {
   "cell_type": "code",
   "execution_count": null,
   "id": "6a0c5650",
   "metadata": {},
   "outputs": [],
   "source": [
    "F_N, omega_rps = 1.0, 1.0\n",
    "\n",
    "Duffing_oscillator = get_Duffing_oscillator_slope(m_kg, c_Npmps, k_Npm, alpha_Npm3, F_N, omega_rps)\n",
    "ax = sim_1dof_vib(Duffing_oscillator,)\n",
    "\n"
   ]
  },
  {
   "cell_type": "code",
   "execution_count": null,
   "id": "2e8cc8b2",
   "metadata": {},
   "outputs": [],
   "source": [
    "F_N, omega_rps = 1.0, 2.0\n",
    "\n",
    "Duffing_oscillator = get_Duffing_oscillator_slope(m_kg, c_Npmps, k_Npm, alpha_Npm3, F_N, omega_rps)\n",
    "ax = sim_1dof_vib(Duffing_oscillator,)\n",
    "\n"
   ]
  },
  {
   "cell_type": "markdown",
   "id": "5ccbbdf9",
   "metadata": {},
   "source": [
    "* Sweeping omega to look for period-doubling bifurcations and chaos.\n",
    "\n"
   ]
  },
  {
   "cell_type": "code",
   "execution_count": null,
   "id": "224c3460",
   "metadata": {},
   "outputs": [],
   "source": [
    "F_N, omega_rps = 1.5, 0.8\n",
    "\n",
    "Duffing_oscillator = get_Duffing_oscillator_slope(m_kg, c_Npmps, k_Npm, alpha_Npm3, F_N, omega_rps)\n",
    "ax = sim_1dof_vib(Duffing_oscillator,)\n",
    "\n"
   ]
  },
  {
   "cell_type": "code",
   "execution_count": null,
   "id": "073f502c",
   "metadata": {},
   "outputs": [],
   "source": [
    "F_N, omega_rps = 1.5, 1.2\n",
    "\n",
    "Duffing_oscillator = get_Duffing_oscillator_slope(m_kg, c_Npmps, k_Npm, alpha_Npm3, F_N, omega_rps)\n",
    "ax = sim_1dof_vib(Duffing_oscillator,)\n",
    "\n"
   ]
  },
  {
   "cell_type": "markdown",
   "metadata": {},
   "source": [
    "* Strong forcing showing nonlinear force effects\n",
    "\n"
   ]
  },
  {
   "cell_type": "code",
   "execution_count": null,
   "metadata": {},
   "outputs": [],
   "source": [
    "F_N, omega_rps = 2.5, 0.48\n",
    "\n",
    "Duffing_oscillator = get_Duffing_oscillator_slope(m_kg, c_Npmps, k_Npm, alpha_Npm3, F_N, omega_rps)\n",
    "ax = sim_1dof_vib(Duffing_oscillator,)\n",
    "\n"
   ]
  },
  {
   "cell_type": "code",
   "execution_count": null,
   "id": "cedccf41-8ef1-42c5-8b34-09255ff0301e",
   "metadata": {},
   "outputs": [],
   "source": [
    "import multiprocessing as mp\n",
    "import scipy.optimize as so\n",
    "\n",
    "\n",
    "def cost(x):\n",
    "    delta_t_sec = 1e-3\n",
    "    period_sec = (k_Npm / m_kg) ** 0.5\n",
    "    n_fold = int(period_sec / delta_t_sec)\n",
    "\n",
    "    F_N, omega_rps = x\n",
    "\n",
    "    Duffing_oscillator = get_Duffing_oscillator_slope(m_kg, c_Npmps, k_Npm, alpha_Npm3, F_N, omega_rps)\n",
    "    t, x = run_sim(\n",
    "        Duffing_oscillator, x_0=np.array((0.0, 0.0, 0.0, 0.0)),\n",
    "        t_start=0.0, t_end=120.0, delta_t_sec=1e-3,\n",
    "    )\n",
    "\n",
    "    # after transient response\n",
    "    i_start = n_fold * 30\n",
    "    x_sample = x[i_start:, 0].squeeze()\n",
    "    x_period = x_sample.reshape(int(n_fold), -1)\n",
    "    x_top = x_period.max(axis=0)\n",
    "    return (- x_top.std())\n",
    "\n"
   ]
  },
  {
   "cell_type": "code",
   "execution_count": null,
   "id": "918804b2-e0ef-44db-a376-438d8477145a",
   "metadata": {},
   "outputs": [],
   "source": [
    "result = so.minimize(cost, (1, 1))\n",
    "result\n",
    "\n"
   ]
  },
  {
   "cell_type": "code",
   "execution_count": null,
   "id": "47f7e2df",
   "metadata": {},
   "outputs": [],
   "source": []
  }
 ],
 "metadata": {
  "kernelspec": {
   "display_name": "Python 3 (ipykernel)",
   "language": "python",
   "name": "python3"
  },
  "language_info": {
   "codemirror_mode": {
    "name": "ipython",
    "version": 3
   },
   "file_extension": ".py",
   "mimetype": "text/x-python",
   "name": "python",
   "nbconvert_exporter": "python",
   "pygments_lexer": "ipython3",
   "version": "3.10.0"
  }
 },
 "nbformat": 4,
 "nbformat_minor": 5
}
