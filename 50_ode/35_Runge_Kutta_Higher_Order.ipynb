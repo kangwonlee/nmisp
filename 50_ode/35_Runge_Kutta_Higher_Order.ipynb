{
 "cells": [
  {
   "cell_type": "markdown",
   "metadata": {
    "id": "view-in-github",
    "colab_type": "text"
   },
   "source": [
    "<a href=\"https://colab.research.google.com/github/kangwonlee/nmisp/blob/main/50_ode/35_Runge_Kutta_Higher_Order.ipynb\" target=\"_parent\"><img src=\"https://colab.research.google.com/assets/colab-badge.svg\" alt=\"Open In Colab\"/></a>\n"
   ]
  },
  {
   "cell_type": "code",
   "execution_count": null,
   "metadata": {},
   "outputs": [],
   "source": [
    "# This cell is for the Google Colaboratory\n",
    "# https://stackoverflow.com/a/63519730\n",
    "if 'google.colab' in str(get_ipython()):\n",
    "  path_py = '/content/nmisp_py'\n",
    "\n",
    "  import os\n",
    "  if not os.path.exists(path_py):\n",
    "    import subprocess\n",
    "    subprocess.run(\n",
    "        ('git', 'clone', 'https://github.com/kangwonlee/nmisp_py')\n",
    "    )\n",
    "  assert os.path.exists(path_py)\n",
    "\n",
    "  import sys\n",
    "  sys.path.insert(0, path_py)\n",
    "\n"
   ]
  },
  {
   "cell_type": "code",
   "execution_count": null,
   "metadata": {},
   "outputs": [],
   "source": [
    "# 그래프, 수학 기능 추가\n",
    "# Add graph and math features\n",
    "import pylab as py\n",
    "import numpy as np\n",
    "import numpy.linalg as nl\n",
    "\n"
   ]
  },
  {
   "cell_type": "markdown",
   "metadata": {},
   "source": [
    "# 룽게-쿠타법 (RK4) : 고차 상미방<br>Runge-Kutta Method (RK4) : Higher Order ODE\n",
    "\n"
   ]
  },
  {
   "cell_type": "markdown",
   "metadata": {},
   "source": [
    "## 단진자<br>Simple Pendulum\n",
    "\n"
   ]
  },
  {
   "cell_type": "markdown",
   "metadata": {},
   "source": [
    "다음 미분 방정식은 단진자의 운동을 묘사한다.<br>\n",
    "Following differential equation describes the motion of a simple pendulum.<br>\n",
    "Ref : Wikipedia contributors, 'Pendulum (mathematics)', Wikipedia, The Free Encyclopedia, 2 June 2018, 13:28 UTC, <https://en.wikipedia.org/w/index.php?title=Pendulum_(mathematics)&oldid=844080803> [accessed 5 August 2018]\n",
    "\n"
   ]
  },
  {
   "cell_type": "markdown",
   "metadata": {},
   "source": [
    "$$\n",
    "\\frac{d^2\\theta}{dt^2} + \\frac{g}{l}sin\\theta = 0\n",
    "$$\n",
    "\n"
   ]
  },
  {
   "cell_type": "markdown",
   "metadata": {},
   "source": [
    "상태변수는 다음과 같다고 가정하자.<br>\n",
    "Let's assume that the state variables are as follows.\n",
    "\n"
   ]
  },
  {
   "cell_type": "markdown",
   "metadata": {},
   "source": [
    "$$\n",
    "\\mathbf{x}\n",
    "=\n",
    "\\begin{pmatrix}\n",
    "x_0\\\\\n",
    "x_1\n",
    "\\end{pmatrix}\n",
    "=\n",
    "\\begin{pmatrix}\n",
    "\\theta\\\\\n",
    "\\frac{d}{dt}\\theta\n",
    "\\end{pmatrix}\n",
    "$$\n",
    "\n"
   ]
  },
  {
   "cell_type": "markdown",
   "metadata": {},
   "source": [
    "상태변수의 미분은 다음과 같다.<br>Differentiation of the state variables are as follows.\n",
    "\n"
   ]
  },
  {
   "cell_type": "markdown",
   "metadata": {},
   "source": [
    "$$\n",
    "\\frac{d}{dt}\n",
    "\\begin{pmatrix}\n",
    "    x_0\\\\\n",
    "    x_1\n",
    "\\end{pmatrix} \n",
    "=\n",
    "\\begin{pmatrix}\n",
    "    x_1\\\\\n",
    "    -\\frac{g}{l}sinx_0\n",
    "\\end{pmatrix} \n",
    "$$\n",
    "\n"
   ]
  },
  {
   "cell_type": "markdown",
   "metadata": {},
   "source": [
    "python 함수로 구현해 보면 다음과 같을 것이다.<br>\n",
    "One possible python implementation would be as follows.\n",
    "\n"
   ]
  },
  {
   "cell_type": "code",
   "execution_count": null,
   "metadata": {},
   "outputs": [],
   "source": [
    "g_mpsps = 9.8\n",
    "l_m = 0.3\n",
    "\n",
    "legends = ('$\\\\theta(deg)$', '$\\\\frac{d}{dt}\\\\theta(deg/s)$')\n",
    "ylabel = ''\n",
    "\n",
    "# Initial state\n",
    "x_0 = np.array([np.deg2rad(90), 0])\n",
    "\n",
    "def pendulum_NL(t, x):\n",
    "    \"\"\"\n",
    "    Parameters\n",
    "    ==========\n",
    "    x: array of theta and d(theta)/dt\n",
    "    t: time value\n",
    "\n",
    "    Return Value\n",
    "    ============\n",
    "    One dimensional array of dx/dt\n",
    "    \"\"\"\n",
    "\n",
    "    return np.array([x[1], (-g_mpsps/l_m)*np.sin(x[0])])\n",
    "\n"
   ]
  },
  {
   "cell_type": "markdown",
   "metadata": {},
   "source": [
    "룽게-쿠타법을 오일러법, 훈법과 비교해보자.<br>Let's compare the Runge-Kutta method with Euler method, and Heun's method.\n",
    "\n"
   ]
  },
  {
   "cell_type": "code",
   "execution_count": null,
   "metadata": {},
   "outputs": [],
   "source": [
    "import ode_solver\n",
    "import scipy.integrate as si\n",
    "\n"
   ]
  },
  {
   "cell_type": "code",
   "execution_count": null,
   "metadata": {},
   "outputs": [],
   "source": [
    "py.figure(figsize=(12, 12))\n",
    "\n",
    "\n",
    "# Time array\n",
    "delta_t = 0.001\n",
    "\n",
    "t_sec_array = np.arange(0, 6 + delta_t*0.5, delta_t)\n",
    "\n",
    "# *** scipy ***\n",
    "sol_pendulum = si.solve_ivp(pendulum_NL, (t_sec_array[0], t_sec_array[-1]), x_0, t_eval=t_sec_array)\n",
    "py.plot(sol_pendulum.t, sol_pendulum.y.T, 'o', label='solve_ivp', alpha=0.5)\n",
    "\n",
    "# *** Euler ***\n",
    "t_euler_out, x_euler_out = ode_solver.euler(pendulum_NL, t_sec_array, x_0)\n",
    "py.plot(t_euler_out, x_euler_out, '-', label='Euler', alpha=0.5)\n",
    "\n",
    "# *** Heun ***\n",
    "t_heun__out, x_heun__out = ode_solver.heun(pendulum_NL, t_sec_array, x_0)\n",
    "py.plot(t_heun__out, x_heun__out, '-', label='Heun', alpha=0.5)\n",
    "\n",
    "# *** RK4 ***\n",
    "t_rk4___out, x_rk4___out = ode_solver.rk4(pendulum_NL, t_sec_array, x_0)\n",
    "py.plot(t_rk4___out, x_rk4___out, '.', label='RK4', alpha=0.5)\n",
    "\n",
    "\n",
    "py.xlabel('t(sec)')\n",
    "py.ylabel('x(m)')\n",
    "\n",
    "py.legend(loc=0)\n",
    "py.grid(True)\n",
    "\n"
   ]
  },
  {
   "cell_type": "markdown",
   "metadata": {},
   "source": [
    "## 4차 선형 상미방<br>Fourth Order Linear ODE\n",
    "\n"
   ]
  },
  {
   "cell_type": "markdown",
   "metadata": {},
   "source": [
    "아래 4차 선형 상미분 방정식에 대해서도 여러 해법을 적용해 보자.<br>\n",
    "Let's apply various solvers to the following fourth order linear ODE.\n",
    "\n"
   ]
  },
  {
   "cell_type": "markdown",
   "metadata": {},
   "source": [
    "$$\n",
    "         \\frac{d^4x}{dt^4} \n",
    "         + 12 \\frac{d^3x}{dt^3} \n",
    "         + 54 \\frac{d^2x}{dt^2} \n",
    "         + 108 \\frac{dx}{dt} \n",
    "         + 80 x = 0\n",
    "$$\n",
    "\n"
   ]
  },
  {
   "cell_type": "markdown",
   "metadata": {},
   "source": [
    "$$\n",
    "\\mathbf{q} = \\begin{pmatrix}q_0 & q_1 & q_2 & q_3 \\end{pmatrix}^T = \\begin{pmatrix}x & \\frac{dx}{dt} & \\frac{d^2x}{dt^2} & \\frac{d^3x}{dt^3} \\end{pmatrix}^T\n",
    "$$\n",
    "\n"
   ]
  },
  {
   "cell_type": "markdown",
   "metadata": {},
   "source": [
    "$$\n",
    "\\frac{d\\mathbf{q}}{dt}\n",
    "=\n",
    "\\begin{bmatrix}\n",
    "0 & 1 & 0 & 0 \\\\\n",
    "0 & 0 & 1 & 0 \\\\\n",
    "0 & 0 & 0 & 1 \\\\\n",
    "- 80 & - 108 & - 54 & -12\n",
    "\\end{bmatrix}\n",
    "\\begin{pmatrix}\n",
    "q_0 \\\\ q_1 \\\\ q_2 \\\\ q_3\n",
    "\\end{pmatrix}\n",
    "=\n",
    "\\mathbf{Aq}\n",
    "$$\n",
    "\n"
   ]
  },
  {
   "cell_type": "markdown",
   "metadata": {},
   "source": [
    "아래는 해당 4차 선형 상미방을 `dataclass`로 구현한 예이다. (Python 3.7 이후)<br>\n",
    "Following is a `dataclass` implementation of the fourth order LODE. (Python 3.7 or later)\n",
    "\n"
   ]
  },
  {
   "cell_type": "code",
   "execution_count": null,
   "metadata": {},
   "outputs": [],
   "source": [
    "import dataclasses\n",
    "\n",
    "\n",
    "@dataclasses.dataclass\n",
    "class LODE(object):\n",
    "    A : np.ndarray\n",
    "    def slope(self, t, q):\n",
    "        \"\"\"\n",
    "        Parameters\n",
    "        ==========\n",
    "        q: array of q_0, q_1, q_2, ..., q_n\n",
    "        t: time value\n",
    "\n",
    "        Return Value\n",
    "        ============\n",
    "        One dimensional array of dq/dt\n",
    "        \"\"\"\n",
    "\n",
    "        q_column = np.array(q).T\n",
    "        qdot_column = self.A @ q_column\n",
    "\n",
    "        qdot_array = np.array(qdot_column.T).flatten()\n",
    "\n",
    "        return qdot_array\n",
    "\n",
    "\n",
    "lode4 = LODE(np.array([\n",
    "        [0, 1, 0, 0],\n",
    "        [0, 0, 1, 0],\n",
    "        [0, 0, 0, 1],\n",
    "        [-80, -108, -54, -12],\n",
    "]))\n",
    "\n",
    "ylabel = '$\\mathbf{q}$'\n",
    "\n",
    "# Initial state\n",
    "x_0 = np.array([1, 0, 0, 0])\n",
    "\n"
   ]
  },
  {
   "cell_type": "markdown",
   "metadata": {},
   "source": [
    "시간 배열을 정한다.<br>\n",
    "Define an array for time.\n",
    "\n"
   ]
  },
  {
   "cell_type": "code",
   "execution_count": null,
   "metadata": {},
   "outputs": [],
   "source": [
    "delta_t = 0.08\n",
    "t_sec_array = np.arange(0, 6 + delta_t*0.5, delta_t)\n",
    "\n"
   ]
  },
  {
   "cell_type": "markdown",
   "metadata": {},
   "source": [
    "각 해법을 적용한다.<br>\n",
    "Apply each solver.\n",
    "\n"
   ]
  },
  {
   "cell_type": "code",
   "execution_count": null,
   "metadata": {},
   "outputs": [],
   "source": [
    "# *** scipy ***\n",
    "sol = si.solve_ivp(lode4.slope, (t_sec_array[0], t_sec_array[-1]), x_0, t_eval=t_sec_array)\n",
    "\n",
    "# *** Euler ***\n",
    "t_euler_out, x_euler_out_ode4 = ode_solver.euler(lode4.slope, t_sec_array, x_0)\n",
    "\n",
    "# *** Heun ***\n",
    "t_heun__out, x_heun__out_ode4 = ode_solver.heun(lode4.slope, t_sec_array, x_0)\n",
    "\n",
    "# *** RK4 ***\n",
    "t_rk4___out, x_rk4___out_ode4 = ode_solver.rk4(lode4.slope, t_sec_array, x_0)\n",
    "\n"
   ]
  },
  {
   "cell_type": "markdown",
   "metadata": {},
   "source": [
    "$q_i$ 별로 그리기 위해 넘파이 배열로 변환한다.<br>\n",
    "To plot each $q_i$, convert to NumPy arrays.\n",
    "\n"
   ]
  },
  {
   "cell_type": "code",
   "execution_count": null,
   "metadata": {},
   "outputs": [],
   "source": [
    "x_euler_out_ode4_array = np.array(x_euler_out_ode4)\n",
    "x_heun__out_ode4_array = np.array(x_heun__out_ode4)\n",
    "x_rk4___out_ode4_array = np.array(x_rk4___out_ode4)\n",
    "\n"
   ]
  },
  {
   "cell_type": "code",
   "execution_count": null,
   "metadata": {},
   "outputs": [],
   "source": [
    "py.figure(figsize=(10, 10))\n",
    "\n",
    "for i_state in range(x_euler_out_ode4_array.shape[1]):\n",
    "\n",
    "    py.subplot(x_euler_out_ode4_array.shape[1], 1, i_state+1)\n",
    "    py.plot(sol.t, sol.y[i_state, :], 'o', label='solve_ivp')\n",
    "    py.plot(t_euler_out, x_euler_out_ode4_array[:, i_state], '-', label='Euler')\n",
    "    py.plot(t_heun__out, x_heun__out_ode4_array[:, i_state], '-', label='Heun')\n",
    "    py.plot(t_rk4___out, x_rk4___out_ode4_array[:, i_state], '.', label='RK4')\n",
    "    py.xlabel('t(sec)')\n",
    "    py.ylabel(f'$q_{i_state}$')\n",
    "    py.legend(loc=1)\n",
    "    py.grid(True)\n",
    "\n"
   ]
  },
  {
   "cell_type": "markdown",
   "metadata": {},
   "source": [
    "## 연습 문제<br>Exercises\n",
    "\n"
   ]
  },
  {
   "cell_type": "markdown",
   "metadata": {},
   "source": [
    "도전 과제 1: 다음 2계 선형 상미분 방정식의 수치해를 RK4법으로 구하시오:<br>\n",
    "Try This 1: Find the numerical solutions of the following second order linear ordinary equation using RK4 Method:\n",
    "\n",
    "$$\n",
    "\\begin{align}\n",
    "\\frac{d^2}{dt^2}x(t) + 2\\frac{d}{dt}x(t) + x(t) &= 0 \\\\\n",
    "x(0) &= 0 \\\\\n",
    "\\frac{d}{dt}x(0) &= 1\n",
    "\\end{align}\n",
    "$$\n",
    "\n"
   ]
  },
  {
   "cell_type": "code",
   "execution_count": null,
   "metadata": {},
   "outputs": [],
   "source": []
  },
  {
   "cell_type": "markdown",
   "metadata": {},
   "source": [
    "도전 과제 2: 다음 2계 선형 상미분 방정식의 수치해를 RK4법으로 구하시오:<br>\n",
    "Try This 2: Find the numerical solutions of the following second order linear ordinary equation using RK4 Method:\n",
    "\n",
    "$$\n",
    "\\begin{align}\n",
    "\\frac{d^2}{dt^2}x(t) + \\frac{d}{dt}x(t) + 4x(t) &= sin(t[rad]) \\\\\n",
    "x(0) &= 0 \\\\\n",
    "\\frac{d}{dt}x(0) &= 0\n",
    "\\end{align}\n",
    "$$\n",
    "\n"
   ]
  },
  {
   "cell_type": "code",
   "execution_count": null,
   "metadata": {},
   "outputs": [],
   "source": []
  },
  {
   "cell_type": "markdown",
   "metadata": {},
   "source": [
    "도전 과제 3: 다음 연립 상미분 방정식의 수치해를 RK4법으로 구하시오:<br>\n",
    "Try This 3: Find the numerical solutions of the following system of ordinary equations using RK4 Method:\n",
    "\n",
    "$$\n",
    "\\begin{cases}\n",
    "    \\begin{align}\n",
    "        \\frac{d}{dt}x(t) &= 2 x(t) - y(t) \\\\\n",
    "        \\frac{d}{dt}y(t) &= 2.1 y(t) - x(t)\n",
    "    \\end{align}\n",
    "\\end{cases}\\\\\n",
    "x(0) = y(0) = 1.0 \\\\\n",
    "0 \\le t \\le 2\n",
    "$$\n",
    "\n",
    "\n",
    "ref : Zill & Cullen\n",
    "\n"
   ]
  },
  {
   "cell_type": "code",
   "execution_count": null,
   "metadata": {},
   "outputs": [],
   "source": []
  },
  {
   "cell_type": "markdown",
   "metadata": {},
   "source": [
    "도전 과제 4: 다음 연립 상미분 방정식의 수치해를 RK4법으로 구하시오:<br>\n",
    "Try This 4: Find the numerical solutions of the following system of ordinary equations using RK4 Method:\n",
    "\n",
    "$$\n",
    "\\begin{cases}\n",
    "    \\begin{align}\n",
    "        \\frac{d}{dt}x(t) + \\frac{d}{dt}y(t) + 2y(t)&= 0 \\\\\n",
    "        \\frac{d}{dt}x(t) - 3x(t) - 2 y(t) &= 0\n",
    "    \\end{align}\n",
    "\\end{cases}\\\\\n",
    "x(0) = y(0) = 1.0 \\\\\n",
    "0 \\le t \\le 2\n",
    "$$\n",
    "\n",
    "\n",
    "ref : Zill & Cullen\n",
    "\n"
   ]
  },
  {
   "cell_type": "code",
   "execution_count": null,
   "metadata": {},
   "outputs": [],
   "source": []
  },
  {
   "cell_type": "markdown",
   "metadata": {},
   "source": [
    "## 부록: 단진자의 방향장<br>Appendix: The direction field of a simple pendulum\n",
    "\n"
   ]
  },
  {
   "cell_type": "markdown",
   "metadata": {},
   "source": [
    "각 상태에서 상태변수의 변화의 방향 $\\left(\\frac{d}{dt}\\theta, \\frac{d^2}{dt^2}\\theta \\right)$ 을 표시해 보자.<br>At each state, let's present the direction of state variable change $\\left(\\frac{d}{dt}\\theta, \\frac{d^2}{dt^2}\\theta \\right)$.\n",
    "\n"
   ]
  },
  {
   "cell_type": "code",
   "execution_count": null,
   "metadata": {},
   "outputs": [],
   "source": [
    "import ode_plot\n",
    "\n"
   ]
  },
  {
   "cell_type": "code",
   "execution_count": null,
   "metadata": {},
   "outputs": [],
   "source": [
    "time_list = []\n",
    "\n",
    "# list of theta\n",
    "theta_deg_array = np.arange(-540, 540+1, 30)\n",
    "theta_rad_list = np.deg2rad(theta_deg_array)\n",
    "\n",
    "# list of theta_dot\n",
    "theta_dot_deg_array = np.arange(-540, 540+1, 45)\n",
    "theta_dot_rad_list = np.deg2rad(theta_dot_deg_array)\n",
    "\n",
    "# plot the direction filed\n",
    "ode_plot.ode_slopes_2states_cartesian(pendulum_NL, theta_rad_list, theta_dot_rad_list, time_list)\n",
    "\n",
    "# Convert pendulum solution curves to NumPy arrays\n",
    "x_euler_out_array, x_heun__out_array, x_rk4___out_array = (\n",
    "    np.array(x_euler_out), np.array(x_heun__out), np.array(x_rk4___out))\n",
    "\n",
    "# Plot the solution curves\n",
    "py.plot(\n",
    "  py.rad2deg(x_euler_out_array[:, 0]),\n",
    "  py.rad2deg(x_euler_out_array[:, 1]),\n",
    "  '-', label='Euler', alpha=0.7\n",
    ")\n",
    "py.plot(\n",
    "  py.rad2deg(x_heun__out_array[:, 0]),\n",
    "  py.rad2deg(x_heun__out_array[:, 1]),\n",
    "  '.-', label='Heun', alpha=0.7\n",
    ")\n",
    "py.plot(\n",
    "  py.rad2deg(x_rk4___out_array[:, 0]),\n",
    "  py.rad2deg(x_rk4___out_array[:, 1]),\n",
    "  '-', label='RK4', alpha=0.7\n",
    ")\n",
    "\n",
    "ode_plot.set_axis(\n",
    "    py.gca(), \n",
    "    theta_deg_array[0], theta_deg_array[-1], \n",
    "    theta_dot_deg_array[0], theta_dot_deg_array[-1],\n",
    ")\n",
    "\n",
    "py.legend(loc=0)\n",
    "ode_plot.title_axis_labels()\n",
    "\n",
    "py.savefig('pendulum_direction_field.svg')\n",
    "\n"
   ]
  },
  {
   "cell_type": "markdown",
   "metadata": {},
   "source": [
    "## Final Bell<br>마지막 종\n",
    "\n"
   ]
  },
  {
   "cell_type": "code",
   "execution_count": null,
   "metadata": {},
   "outputs": [],
   "source": [
    "# stackoverfow.com/a/24634221\n",
    "import os\n",
    "os.system(\"printf '\\a'\");\n",
    "\n"
   ]
  },
  {
   "cell_type": "code",
   "execution_count": null,
   "metadata": {},
   "outputs": [],
   "source": []
  }
 ],
 "metadata": {
  "kernelspec": {
   "display_name": "Python 3",
   "language": "python",
   "name": "python3"
  },
  "language_info": {
   "codemirror_mode": {
    "name": "ipython",
    "version": 3
   },
   "file_extension": ".py",
   "mimetype": "text/x-python",
   "name": "python",
   "nbconvert_exporter": "python",
   "pygments_lexer": "ipython3",
   "version": "3.7.3"
  },
  "colab": {
   "provenance": [],
   "include_colab_link": true
  }
 },
 "nbformat": 4,
 "nbformat_minor": 0
}