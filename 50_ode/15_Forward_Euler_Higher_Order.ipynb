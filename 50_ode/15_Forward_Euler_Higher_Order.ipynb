{
 "cells": [
  {
   "cell_type": "markdown",
   "metadata": {
    "id": "view-in-github",
    "colab_type": "text"
   },
   "source": [
    "<a href=\"https://colab.research.google.com/github/kangwonlee/nmisp/blob/lecture-idea/50_ode/15_Forward_Euler_Higher_Order.ipynb\" target=\"_parent\"><img src=\"https://colab.research.google.com/assets/colab-badge.svg\" alt=\"Open In Colab\"/></a>\n"
   ]
  },
  {
   "cell_type": "code",
   "execution_count": null,
   "metadata": {},
   "outputs": [],
   "source": [
    "# This cell is for the Google Colaboratory\n",
    "# https://stackoverflow.com/a/63519730\n",
    "if 'google.colab' in str(get_ipython()):\n",
    "  path_py = '/content/nmisp_py'\n",
    "\n",
    "  import os\n",
    "  if not os.path.exists(path_py):\n",
    "    import subprocess\n",
    "    subprocess.run(\n",
    "        ('git', 'clone', 'https://github.com/kangwonlee/nmisp_py')\n",
    "    )\n",
    "  assert os.path.exists(path_py)\n",
    "\n",
    "  import sys\n",
    "  sys.path.insert(0, path_py)\n",
    "\n"
   ]
  },
  {
   "cell_type": "code",
   "execution_count": null,
   "metadata": {},
   "outputs": [],
   "source": [
    "# 그래프, 수학 기능 추가\n",
    "# Add graph and math features\n",
    "import pylab as py\n",
    "import numpy as np\n",
    "import numpy.linalg as nl\n",
    "\n"
   ]
  },
  {
   "cell_type": "markdown",
   "metadata": {},
   "source": [
    "# 오일러법: 고차 상미분 방정식<br>Euler Method: Higher Order ODE\n",
    "\n"
   ]
  },
  {
   "cell_type": "markdown",
   "metadata": {},
   "source": [
    "오일러법으로 1계 선형 미분 방정식의 근사해를 구하는 방법은 이미 살펴 보았다.<br>\n",
    "Previously, we numerically solved a first order linear ordinary equation using Euler method.\n",
    "\n"
   ]
  },
  {
   "cell_type": "markdown",
   "metadata": {},
   "source": [
    "이번에는 미분 차수가 1보다 높은 경우들을 살펴보자.<br>\n",
    "This time, let's take a look at cases with order higher than one.\n",
    "\n"
   ]
  },
  {
   "cell_type": "markdown",
   "metadata": {},
   "source": [
    "## 2계 (비선형) 상미분 방정식<br>Second order (Nonlinear) Ordinary Differential Equation\n",
    "\n"
   ]
  },
  {
   "cell_type": "markdown",
   "metadata": {},
   "source": [
    "예를 들어 단진자가 어떻게 움직이는지 다음과 같이 묘사할 수 있다.<br>\n",
    "For example, we can describe how a simple pendulum moves as follows.<br>\n",
    "Ref : Wikipedia contributors, 'Pendulum (mathematics)', Wikipedia, The Free Encyclopedia, 2 June 2018, 13:28 UTC, <https://en.wikipedia.org/w/index.php?title=Pendulum_(mathematics)&oldid=844080803> [accessed 5 August 2018]\n",
    "\n"
   ]
  },
  {
   "cell_type": "markdown",
   "metadata": {},
   "source": [
    "$$\n",
    "\\frac{d^2\\theta}{dt^2} + \\frac{g}{l}sin\\theta = 0\n",
    "$$\n",
    "\n"
   ]
  },
  {
   "cell_type": "markdown",
   "metadata": {},
   "source": [
    "위 상미분 방정식은 $\\theta$의 2계 미분과 $sin\\theta$ 를 포함하고 있다.<br>The ordinary differential equation above includes a second order derivative of $\\theta$ and $sin\\theta$.\n",
    "\n"
   ]
  },
  {
   "cell_type": "markdown",
   "metadata": {},
   "source": [
    "여기서 $sin\\theta$ 는 비선형으로, 위 해당 식은 2계 비선형 상미분 방정식이다.<br>Here $sin\\theta$ is nonlinear; thus the equation above is a second order nonlinear ordinary differential equation.\n",
    "\n"
   ]
  },
  {
   "cell_type": "markdown",
   "metadata": {},
   "source": [
    "해당 방정식을 풀기 위해 다음과 같이 $x_0$, $x_1$ 와 같은 상태변수를 도입하자.<br>To solve the equation, let's introduce state variables $x_0$ and $x_1$ as follows.\n",
    "\n"
   ]
  },
  {
   "cell_type": "markdown",
   "metadata": {},
   "source": [
    "$$\n",
    "\\begin{cases}\n",
    "\\begin{align}\n",
    "    x_0 &= \\theta\\\\\n",
    "    x_1 &= \\frac{d\\theta}{dt}  = \\frac{d}{dt}x_0\\\\\n",
    "\\end{align}\n",
    "\\end{cases}\n",
    "$$\n",
    "\n"
   ]
  },
  {
   "cell_type": "markdown",
   "metadata": {},
   "source": [
    "방정식의 각 항을 상태변수로 다시 써 보자.<br>Let's rewrite each term of the equation using the state variables.\n",
    "\n"
   ]
  },
  {
   "cell_type": "markdown",
   "metadata": {},
   "source": [
    "$$\n",
    "\\begin{cases}\n",
    "\\begin{align}\n",
    "    sin \\theta &= sin x_0\\\\\n",
    "    \\frac{d^2\\theta}{dt^2} &= \\frac{d}{dt} \\frac{d\\theta}{dt}= \\frac{d}{dt} x_1\\\\\n",
    "\\end{align}\n",
    "\\end{cases}\n",
    "$$\n",
    "\n"
   ]
  },
  {
   "cell_type": "markdown",
   "metadata": {},
   "source": [
    "다시 방정식에 대입해 보자.<br>Let's substitute back to the equation.\n",
    "\n"
   ]
  },
  {
   "cell_type": "markdown",
   "metadata": {},
   "source": [
    "$$\n",
    "\\frac{dx_1}{dt} + \\frac{g}{l}sinx_0 = 0 \\\\\n",
    "\\frac{dx_1}{dt} =- \\frac{g}{l}sinx_0\n",
    "$$\n",
    "\n"
   ]
  },
  {
   "cell_type": "markdown",
   "metadata": {},
   "source": [
    "$x_0$와 $x_1$의 미분을 살펴 보자.<br>Let's take a look at the derivatives of $x_0$ and $x_1$.\n",
    "\n"
   ]
  },
  {
   "cell_type": "markdown",
   "metadata": {},
   "source": [
    "$$\n",
    "\\frac{d}{dt}\n",
    "\\begin{pmatrix}\n",
    "    x_0\\\\\n",
    "    x_1\n",
    "\\end{pmatrix} \n",
    "=\n",
    "\\begin{pmatrix}\n",
    "    \\frac{d}{dt}x_0\\\\\n",
    "    \\frac{d}{dt}x_1\n",
    "\\end{pmatrix} \n",
    "=\n",
    "\\frac{d}{dt}\n",
    "\\begin{pmatrix}\n",
    "    \\theta\\\\\n",
    "    \\frac{d}{dt}\\theta\n",
    "\\end{pmatrix} \n",
    "=\n",
    "\\begin{pmatrix}\n",
    "    x_1\\\\\n",
    "    -\\frac{g}{l}sinx_0\n",
    "\\end{pmatrix} \n",
    "$$\n",
    "\n"
   ]
  },
  {
   "cell_type": "markdown",
   "metadata": {},
   "source": [
    "이를 python 함수로 구현해 보자.<br>Let's implement this in a python function.\n",
    "\n"
   ]
  },
  {
   "cell_type": "code",
   "execution_count": null,
   "metadata": {},
   "outputs": [],
   "source": [
    "g_mpsps = 9.8\n",
    "l_m = 0.3\n",
    "\n",
    "legends = ('$\\\\theta(deg)$', '$\\\\frac{d}{dt}\\\\theta(deg/s)$')\n",
    "ylabel = ''\n",
    "\n",
    "# Initial state\n",
    "x_0 = np.array([np.deg2rad(90), 0])\n",
    "\n",
    "def pendulum_NL(t, x):\n",
    "    \"\"\"\n",
    "    Parameters\n",
    "    ==========\n",
    "    t: time value\n",
    "    x: array of theta and d(theta)/dt\n",
    "\n",
    "    Return Value\n",
    "    ============\n",
    "    One dimensional array of dx/dt\n",
    "    \"\"\"\n",
    "\n",
    "    return np.array([x[1], (-g_mpsps/l_m)*np.sin(x[0])])\n",
    "\n"
   ]
  },
  {
   "cell_type": "markdown",
   "metadata": {},
   "source": [
    "오일러법을 적용해 보자.<br>Let's apply the Euler Method.\n",
    "\n"
   ]
  },
  {
   "cell_type": "code",
   "execution_count": null,
   "metadata": {},
   "outputs": [],
   "source": [
    "import ode_solver\n",
    "\n"
   ]
  },
  {
   "cell_type": "code",
   "execution_count": null,
   "metadata": {},
   "outputs": [],
   "source": [
    "# Time step interval\n",
    "delta_t = 0.1\n",
    "\n",
    "# Time array\n",
    "t_sec_array = np.arange(0, 6 + delta_t*0.5, delta_t)\n",
    "\n",
    "# *** ODE solver ***\n",
    "t_01, x_01 = ode_solver.euler(pendulum_NL, t_sec_array, x_0)\n",
    "\n"
   ]
  },
  {
   "cell_type": "code",
   "execution_count": null,
   "metadata": {},
   "outputs": [],
   "source": [
    "x_result_array = np.array(x_01).T\n",
    "for label, x_result in zip(legends, x_result_array):\n",
    "    py.plot(t_01, np.rad2deg(x_result), label=label)\n",
    "# https://stackoverflow.com/questions/11481644/how-do-i-assign-multiple-labels-at-once-in-matplotlib\n",
    "\n",
    "py.xlabel('t(sec)')\n",
    "py.ylabel(ylabel)\n",
    "\n",
    "py.legend(loc=0)\n",
    "py.grid(True)\n",
    "\n"
   ]
  },
  {
   "cell_type": "markdown",
   "metadata": {},
   "source": [
    "위 근사해는 불안정해 보인다. $\\Delta t$를 줄여 보자.<br>The approximate solution looks unstable. Let's make $\\Delta t$ smaller.\n",
    "\n"
   ]
  },
  {
   "cell_type": "code",
   "execution_count": null,
   "metadata": {},
   "outputs": [],
   "source": [
    "# Time step interval\n",
    "delta_t = 0.001\n",
    "\n",
    "# Time array\n",
    "t_sec_array = np.arange(0, 6 + delta_t*0.5, delta_t)\n",
    "\n",
    "# *** ODE solver ***\n",
    "import ode_solver\n",
    "t_01, x_01 = ode_solver.euler(pendulum_NL, t_sec_array, x_0)\n",
    "\n"
   ]
  },
  {
   "cell_type": "code",
   "execution_count": null,
   "metadata": {},
   "outputs": [],
   "source": [
    "x_result_array = np.array(x_01).T\n",
    "for label, x_result in zip(legends, x_result_array):\n",
    "    py.plot(t_01, np.rad2deg(x_result), label=label)\n",
    "# https://stackoverflow.com/questions/11481644/how-do-i-assign-multiple-labels-at-once-in-matplotlib\n",
    "\n",
    "py.xlabel('t(sec)')\n",
    "py.ylabel(ylabel)\n",
    "\n",
    "py.legend(loc=0)\n",
    "py.grid(True)\n",
    "\n"
   ]
  },
  {
   "cell_type": "markdown",
   "metadata": {},
   "source": [
    "30cm 길이의 단진자로 시험해 보자.<br>Let's test using a 30cm simple pendulum.\n",
    "\n"
   ]
  },
  {
   "cell_type": "markdown",
   "metadata": {},
   "source": [
    "## Scipy\n"
   ]
  },
  {
   "cell_type": "code",
   "execution_count": null,
   "metadata": {},
   "outputs": [],
   "source": [
    "import scipy.integrate as si\n",
    "\n"
   ]
  },
  {
   "cell_type": "code",
   "execution_count": null,
   "metadata": {},
   "outputs": [],
   "source": [
    "sol = si.solve_ivp(pendulum_NL, (t_sec_array[0], t_sec_array[-1]), x_0, t_eval=t_sec_array)\n",
    "\n"
   ]
  },
  {
   "cell_type": "code",
   "execution_count": null,
   "metadata": {},
   "outputs": [],
   "source": [
    "for label, q_result, q_solve_ivp in zip(legends, x_result_array, sol.y.tolist()):\n",
    "    py.plot(sol.t, q_solve_ivp, 'o', label='solve_ivp')\n",
    "    py.plot(t_sec_array, q_result, label=label)\n",
    "# https://stackoverflow.com/questions/11481644/how-do-i-assign-multiple-labels-at-once-in-matplotlib\n",
    "\n",
    "py.xlabel('t(sec)')\n",
    "py.ylabel(ylabel)\n",
    "\n",
    "py.legend(loc=0)\n",
    "py.grid(True)\n",
    "\n"
   ]
  },
  {
   "cell_type": "markdown",
   "metadata": {},
   "source": [
    "## 높은 차수의 선형 상미분 방정식<br>Linear Ordinary Differential Equation of Higher Order\n",
    "\n"
   ]
  },
  {
   "cell_type": "markdown",
   "metadata": {},
   "source": [
    "위 예에서는 어떻게 2차 (비선형) 상미분 방정식에 오일러법을 적용하는지 살펴보았다.<br>\n",
    "In the previous example, we observed how to apply Euler method to a 2nd order (nonlinear) ordinary differential equation.\n",
    "\n"
   ]
  },
  {
   "cell_type": "markdown",
   "metadata": {},
   "source": [
    "일반적으로, 우변이 0인 (모든 가능한) $n$차 선형 상미분 방정식은 다음과 같이 쓸 수 있다.<br>\n",
    "In general, we can write (all possible) $n$th order linear ordinary differential equation with right side zero as follows.\n",
    "\n"
   ]
  },
  {
   "cell_type": "markdown",
   "metadata": {},
   "source": [
    "$$\n",
    "    a_0 \\frac{d^nx}{dt^n} + a_1 \\frac{d^{n-1}x}{dt^{n-1}} + a_2 \\frac{d^{n-2}x}{dt^{n-2}} + \\ldots + a_i  \\frac{d^{n-i}x}{dt^{n-i}} + \\ldots + a_{n-2} \\frac{d^2x}{dt^2} + a_{n-1} \\frac{dx}{dt} + a_n x = 0\n",
    "$$\n",
    "\n"
   ]
  },
  {
   "cell_type": "markdown",
   "metadata": {},
   "source": [
    "가장 높은 차수의 항만 남기고 모두 우변으로 옮겨 보자.<br>\n",
    "Let's move everyone to the right side except the highest order term.\n",
    "\n"
   ]
  },
  {
   "cell_type": "markdown",
   "metadata": {},
   "source": [
    "$$\n",
    "\\begin{align}\n",
    "    a_0 \\frac{d^nx}{dt^n} &= \n",
    "    - a_1 \\frac{d^{n-1}x}{dt^{n-1}} \n",
    "    - a_2 \\frac{d^{n-2}x}{dt^{n-2}} \n",
    "    - \\ldots \n",
    "    - a_i  \\frac{d^{n-i}x}{dt^{n-i}} \n",
    "    - \\ldots \n",
    "    - a_{n-2} \\frac{d^2x}{dt^2} \n",
    "    - a_{n-1} \\frac{dx}{dt} \n",
    "    - a_n x \\\\\n",
    "    \\frac{d^nx}{dt^n} &= \n",
    "    - \\frac{a_1}{a_0} \\frac{d^{n-1}x}{dt^{n-1}} \n",
    "    - \\frac{a_2}{a_0} \\frac{d^{n-2}x}{dt^{n-2}} \n",
    "    - \\ldots \n",
    "    - \\frac{a_i}{a_0}  \\frac{d^{n-i}x}{dt^{n-i}} \n",
    "    - \\ldots \n",
    "    - \\frac{a_{n-2}}{a_0} \\frac{d^2x}{dt^2} \n",
    "    - \\frac{a_{n-1}}{a_0} \\frac{dx}{dt} \n",
    "    - \\frac{a_n}{a_0} x    \n",
    "\\end{align}\n",
    "$$\n",
    "\n"
   ]
  },
  {
   "cell_type": "markdown",
   "metadata": {},
   "source": [
    "앞과 마찬가지로, 최고 차수인 $n$ 개의 상태변수를 도입해 보자.<br>As before, let's introduce $n$, the highest order, state variables.\n",
    "\n"
   ]
  },
  {
   "cell_type": "markdown",
   "metadata": {},
   "source": [
    "$$\n",
    "\\mathbf{q}=\n",
    "\\begin{pmatrix}\n",
    "    q_0 \\\\ q_1 \\\\ q_2 \\\\ \\vdots \\\\ q_i \\\\ \\vdots \\\\ q_{n-2} \\\\ q_{n-1}\n",
    "\\end{pmatrix}\n",
    "=\n",
    "\\begin{pmatrix}\n",
    "    x \\\\ \\frac{d}{dt}x \\\\ \\frac{d^2}{dt^2}x \\\\ \\vdots \\\\ \\frac{d^i}{dt^i}x \\\\ \\vdots \\\\ \\frac{d^{n-2}}{dt^{n-2}}x \\\\ \\frac{d^{n-1}}{dt^{n-1}}x\n",
    "\\end{pmatrix}\n",
    "$$\n",
    "\n"
   ]
  },
  {
   "cell_type": "markdown",
   "metadata": {},
   "source": [
    "가장 높은 차수의 미분을 상태변수로 표시해 보자.<br>Let's indicate the highest order differentiation in the state variable form.\n",
    "\n"
   ]
  },
  {
   "cell_type": "markdown",
   "metadata": {},
   "source": [
    "$$\n",
    "    \\frac{d^nx}{dt^n} = \n",
    "    - \\frac{a_1}{a_0} q_{n-1} \n",
    "    - \\frac{a_2}{a_0} q_{n-2} \n",
    "    - \\ldots \n",
    "    - \\frac{a_i}{a_0}  q_{n-i}\n",
    "    - \\ldots \n",
    "    - \\frac{a_{n-2}}{a_0} q_{2} \n",
    "    - \\frac{a_{n-1}}{a_0} q_{1} \n",
    "    - \\frac{a_n}{a_0} q_{0}\n",
    "$$\n",
    "\n"
   ]
  },
  {
   "cell_type": "markdown",
   "metadata": {},
   "source": [
    "시간에 대해 $\\mathbf{q}$ 를 미분해 보자.<br>Let's differentiate $\\mathbf{q}$ with respect to time.\n",
    "\n"
   ]
  },
  {
   "cell_type": "markdown",
   "metadata": {},
   "source": [
    "$$\n",
    "\\frac{d}{dt}\\mathbf{q}=\n",
    "\\begin{pmatrix}\n",
    "    \\frac{d}{dt}q_0 \\\\ \\frac{d}{dt}q_1 \\\\ \\frac{d}{dt}q_2 \\\\ \\vdots \\\\ \\frac{d}{dt}q_i \\\\ \\vdots \\\\ \\frac{d}{dt}q_{n-2} \\\\ \\frac{d}{dt}q_{n-1}\n",
    "\\end{pmatrix}\n",
    "=\n",
    "\\begin{pmatrix}\n",
    "    \\frac{d}{dt}x \\\\ \\frac{d^2}{dt^2}x  \\\\ \\frac{d^3}{dt^3}x \\\\ \\vdots \\\\ \\frac{d^{i+1}}{dt^{i+1}}x \\\\ \\vdots \\\\ \\frac{d^{n-1}}{dt^{n-1}}x \\\\ \\frac{d^{n}}{dt^{n}}x\n",
    "\\end{pmatrix}\n",
    "=\n",
    "\\begin{pmatrix}\n",
    "q_1 \\\\ q_2 \\\\ q_3 \\\\ \\vdots \\\\ q_{i+1} \\\\ \\vdots \\\\ q_{n-1} \\\\ \n",
    "- \\frac{a_1}{a_0} q_{n-1} \n",
    "    - \\frac{a_2}{a_0} q_{n-2} \n",
    "    - \\ldots \n",
    "    - \\frac{a_i}{a_0}  q_{n-i}\n",
    "    - \\ldots \n",
    "    - \\frac{a_{n-2}}{a_0} q_{2} \n",
    "    - \\frac{a_{n-1}}{a_0} q_{1} \n",
    "    - \\frac{a_n}{a_0} q_{0}\n",
    "\\end{pmatrix}\n",
    "$$\n",
    "\n"
   ]
  },
  {
   "cell_type": "markdown",
   "metadata": {},
   "source": [
    "행렬 형태로 다시 쓸 수도 있다.<br>We can rewrite in a matrix form.\n",
    "\n"
   ]
  },
  {
   "cell_type": "markdown",
   "metadata": {},
   "source": [
    "$n=4$인 경우를 생각해 보자.<br>Let's think about a case of $n=4$.\n",
    "\n"
   ]
  },
  {
   "cell_type": "markdown",
   "metadata": {},
   "source": [
    "$$\n",
    "\\frac{d\\mathbf{q}}{dt}\n",
    "=\n",
    "\\begin{pmatrix}\n",
    "\\frac{d}{dt} q_0 \\\\ \\frac{d}{dt} q_1 \\\\ \\frac{d}{dt} q_2 \\\\ \\frac{d}{dt} q_3\n",
    "\\end{pmatrix}\n",
    "=\n",
    "\\begin{pmatrix}\n",
    "q_1 \\\\ q_2 \\\\ q_3 \\\\ \n",
    "- \\frac{a_4}{a_0}q_0 - \\frac{a_3}{a_0}q_1 - \\frac{a_2}{a_0}q_2 - \\frac{a_1}{a_0}q_3\n",
    "\\end{pmatrix}\n",
    "=\n",
    "\\begin{bmatrix}\n",
    "0 & 1 & 0 & 0 \\\\\n",
    "0 & 0 & 1 & 0 \\\\\n",
    "0 & 0 & 0 & 1 \\\\\n",
    "- \\frac{a_4}{a_0} & - \\frac{a_3}{a_0} & - \\frac{a_2}{a_0} & - \\frac{a_1}{a_0}\n",
    "\\end{bmatrix}\n",
    "\\begin{pmatrix}\n",
    "q_0 \\\\ q_1 \\\\ q_2 \\\\ q_3\n",
    "\\end{pmatrix}\n",
    "=\n",
    "\\mathbf{Aq}\n",
    "$$\n",
    "\n"
   ]
  },
  {
   "cell_type": "markdown",
   "metadata": {},
   "source": [
    "위 식의 의미는, $n$차 선형 상미분 방정식의 경우, $n$개의 1차 선형 상미분 방정식으로 바꾸어 풀 수 있다는 것이다.<br>\n",
    "The equation above means that we can solve a $n$th order linear ordinary differential equation by converting it to a system of $n$ first order linear differential equations.\n",
    "\n"
   ]
  },
  {
   "cell_type": "markdown",
   "metadata": {},
   "source": [
    "다음 예를 살펴 보자.<br>Let's think about following example.\n",
    "\n"
   ]
  },
  {
   "cell_type": "markdown",
   "metadata": {},
   "source": [
    "$$\n",
    "         \\frac{d^4x}{dt^4} \n",
    "         + 12 \\frac{d^3x}{dt^3} \n",
    "         + 54 \\frac{d^2x}{dt^2} \n",
    "         + 108 \\frac{dx}{dt} \n",
    "         + 80 x = 0\n",
    "$$\n",
    "\n"
   ]
  },
  {
   "cell_type": "markdown",
   "metadata": {},
   "source": [
    "연립 1차 선형 상미분 방정식으로는 다음과 같이 다시 쓸 수 있다.<br>We can rewrite in a system of linear ODE's as follows.\n",
    "\n"
   ]
  },
  {
   "cell_type": "markdown",
   "metadata": {},
   "source": [
    "$$\n",
    "\\frac{d\\mathbf{q}}{dt}\n",
    "=\n",
    "\\begin{bmatrix}\n",
    "0 & 1 & 0 & 0 \\\\\n",
    "0 & 0 & 1 & 0 \\\\\n",
    "0 & 0 & 0 & 1 \\\\\n",
    "- 80 & - 108 & - 54 & -12\n",
    "\\end{bmatrix}\n",
    "\\begin{pmatrix}\n",
    "q_0 \\\\ q_1 \\\\ q_2 \\\\ q_3\n",
    "\\end{pmatrix}\n",
    "=\n",
    "\\mathbf{Aq}\n",
    "$$\n",
    "\n"
   ]
  },
  {
   "cell_type": "markdown",
   "metadata": {},
   "source": [
    "여기서 상태변수는 다음과 같다.<br>Here, state variables are as follows.\n",
    "\n"
   ]
  },
  {
   "cell_type": "markdown",
   "metadata": {},
   "source": [
    "$$\n",
    "\\mathbf{q} = \\begin{pmatrix}q_0 & q_1 & q_2 & q_3 \\end{pmatrix}^T = \\begin{pmatrix}x & \\frac{dx}{dt} & \\frac{d^2x}{dt^2} & \\frac{d^3x}{dt^3} \\end{pmatrix}^T\n",
    "$$\n",
    "\n"
   ]
  },
  {
   "cell_type": "markdown",
   "metadata": {},
   "source": [
    "python 함수 형태로도 써 보자.<br>Let's write a python function, too.\n",
    "\n"
   ]
  },
  {
   "cell_type": "code",
   "execution_count": null,
   "metadata": {},
   "outputs": [],
   "source": [
    "matrix_A = np.array([\n",
    "        [0, 1, 0, 0],\n",
    "        [0, 0, 1, 0],\n",
    "        [0, 0, 0, 1],\n",
    "        [-80, -108, -54, -12],\n",
    "])\n",
    "\n",
    "legends = [f'$q_{k}$' for k in range(matrix_A.shape[0])]\n",
    "\n",
    "ylabel = '$\\mathbf{q}$'\n",
    "\n",
    "def fourth_order(t, q):\n",
    "    \"\"\"\n",
    "    Parameters\n",
    "    ==========\n",
    "    q: array of q_0, q_1, q_2, and q_3\n",
    "    t: time value\n",
    "\n",
    "    Return Value\n",
    "    ============\n",
    "    One dimensional array of dq/dt\n",
    "    \"\"\"\n",
    "\n",
    "    q_column = np.array(q).T\n",
    "    qdot_column = matrix_A @ q_column\n",
    "\n",
    "    qdot_array = np.array(qdot_column.T).flatten()\n",
    "\n",
    "    return qdot_array\n",
    "\n"
   ]
  },
  {
   "cell_type": "markdown",
   "metadata": {},
   "source": [
    "오일러법을 적용해 보자.<br>Let's apply the Euler Method.\n",
    "\n"
   ]
  },
  {
   "cell_type": "code",
   "execution_count": null,
   "metadata": {},
   "outputs": [],
   "source": [
    "# Time step interval and Time array\n",
    "delta_t = 0.01\n",
    "t_sec_array = np.arange(0, 6 + delta_t*0.5, delta_t)\n",
    "\n",
    "# Initial value of q\n",
    "q_0 = np.array([1.0, 0, 0, 0])\n",
    "\n",
    "# *** ODE solver ***\n",
    "t, q_list = ode_solver.euler(fourth_order, t_sec_array, q_0)\n",
    "\n"
   ]
  },
  {
   "cell_type": "markdown",
   "metadata": {},
   "source": [
    "반환값을 한번 살펴 보자.<br>\n",
    "Let's take a look at some of the results.\n",
    "\n"
   ]
  },
  {
   "cell_type": "code",
   "execution_count": null,
   "metadata": {},
   "outputs": [],
   "source": [
    "len(t), len(q_list)\n",
    "\n"
   ]
  },
  {
   "cell_type": "code",
   "execution_count": null,
   "metadata": {},
   "outputs": [],
   "source": [
    "assert len(t) == len(q_list), \"Error : len(t) != len(q_list)\"\n",
    "\n"
   ]
  },
  {
   "cell_type": "markdown",
   "metadata": {},
   "source": [
    "`t` 와 `q_list`의 길이가 같다.<br>The lengths of `t` and `q_list` are the same.\n",
    "\n"
   ]
  },
  {
   "cell_type": "code",
   "execution_count": null,
   "metadata": {},
   "outputs": [],
   "source": [
    "type(t[0]), type(q_list[0])\n",
    "\n"
   ]
  },
  {
   "cell_type": "markdown",
   "metadata": {},
   "source": [
    "`q_list`에 들어 있는 것은 배열인 것으로 보인다.<br>\n",
    "`q_list` seems to contain arrays.\n",
    "\n"
   ]
  },
  {
   "cell_type": "code",
   "execution_count": null,
   "metadata": {},
   "outputs": [],
   "source": [
    "q_0, q_list[0]\n",
    "\n"
   ]
  },
  {
   "cell_type": "code",
   "execution_count": null,
   "metadata": {},
   "outputs": [],
   "source": [
    "import numpy.linalg as nl\n",
    "\n",
    "assert 1e-7 > nl.norm(q_0 - q_list[0]), \"Error : q_0 != q_list[0]\"\n",
    "\n"
   ]
  },
  {
   "cell_type": "markdown",
   "metadata": {},
   "source": [
    "`q`의 초기값과 결과 리스트의 첫번째 값이 같다.<br>\n",
    "Initial value of `q` is the same as the first item of the result list.\n",
    "\n"
   ]
  },
  {
   "cell_type": "markdown",
   "metadata": {},
   "source": [
    "$q_0$, $q_1$, $q_2$, $q_3$ 별로 그리기 위해 배열의 리스트를 2차원 배열로 바꾼다.<br>\n",
    "To plot each $q_0$, $q_1$, $q_2$, and $q_3$, convert the list of arrays to a two dimensional array.\n",
    "\n"
   ]
  },
  {
   "cell_type": "code",
   "execution_count": null,
   "metadata": {},
   "outputs": [],
   "source": [
    "q_result_array = np.array(q_list).T\n",
    "\n"
   ]
  },
  {
   "cell_type": "markdown",
   "metadata": {},
   "source": [
    "2차원 배열의 크기를 확인한다.<br>\n",
    "Check the shape of the two dimensional array.\n",
    "\n"
   ]
  },
  {
   "cell_type": "code",
   "execution_count": null,
   "metadata": {},
   "outputs": [],
   "source": [
    "q_result_array.shape\n",
    "\n"
   ]
  },
  {
   "cell_type": "markdown",
   "metadata": {},
   "source": [
    "예를 들어 아래와 같이 각 $q_i$를 그려볼 수 있다.<br>\n",
    "For example, we can plot each $q_i$ as follows.\n",
    "\n"
   ]
  },
  {
   "cell_type": "code",
   "execution_count": null,
   "metadata": {},
   "outputs": [],
   "source": [
    "for label, q_result in zip(legends, q_result_array):\n",
    "    py.plot(t, q_result, label=label)\n",
    "# https://stackoverflow.com/questions/11481644/how-do-i-assign-multiple-labels-at-once-in-matplotlib\n",
    "\n",
    "py.xlabel('t(sec)')\n",
    "py.ylabel(ylabel)\n",
    "\n",
    "py.legend(loc=0)\n",
    "py.grid(True)\n",
    "\n"
   ]
  },
  {
   "cell_type": "markdown",
   "metadata": {},
   "source": [
    "## Scipy\n"
   ]
  },
  {
   "cell_type": "code",
   "execution_count": null,
   "metadata": {},
   "outputs": [],
   "source": [
    "import scipy.integrate as si\n",
    "\n"
   ]
  },
  {
   "cell_type": "code",
   "execution_count": null,
   "metadata": {},
   "outputs": [],
   "source": [
    "sol = si.solve_ivp(fourth_order, (t_sec_array[0], t_sec_array[-1]), q_0, t_eval=t_sec_array)\n",
    "\n"
   ]
  },
  {
   "cell_type": "code",
   "execution_count": null,
   "metadata": {},
   "outputs": [],
   "source": [
    "for label, q_result, q_solve_ivp in zip(legends, q_result_array, sol.y.tolist()):\n",
    "    py.plot(sol.t, q_solve_ivp, 'o', label='solve_ivp')\n",
    "    py.plot(t, q_result, label=label)\n",
    "# https://stackoverflow.com/questions/11481644/how-do-i-assign-multiple-labels-at-once-in-matplotlib\n",
    "\n",
    "py.xlabel('t(sec)')\n",
    "py.ylabel(ylabel)\n",
    "\n",
    "py.legend(loc=4)\n",
    "py.grid(True)\n",
    "\n"
   ]
  },
  {
   "cell_type": "markdown",
   "metadata": {},
   "source": [
    "## 연습 문제<br>Exercise\n",
    "\n"
   ]
  },
  {
   "cell_type": "markdown",
   "metadata": {},
   "source": [
    "도전 과제 1: 다음 2계 선형 상미분 방정식의 수치해를 오일러법으로 구하시오:<br>\n",
    "Try This 1: Find the numerical solutions of the following second order linear ordinary equation using Euler Method:\n",
    "\n",
    "$$\n",
    "\\begin{align}\n",
    "\\frac{d^2}{dt^2}x(t) + 2\\frac{d}{dt}x(t) + 2x(t) &= 0 \\\\\n",
    "x(0) &= 0 \\\\\n",
    "\\frac{d}{dt}x(0) &= 1\n",
    "\\end{align}\n",
    "$$\n",
    "\n"
   ]
  },
  {
   "cell_type": "code",
   "execution_count": null,
   "metadata": {},
   "outputs": [],
   "source": []
  },
  {
   "cell_type": "markdown",
   "metadata": {},
   "source": [
    "도전 과제 2: 다음 2계 상미분 방정식의 수치해를 오일러법으로 구하시오:<br>\n",
    "Try This 2: Find the numerical solutions of the following second order ordinary equation using Euler Method:\n",
    "\n",
    "$$\n",
    "\\begin{align}\n",
    "\\frac{d^2}{dt^2}x(t) + \\cos(t)\\cdot x(t) &= 0 \\\\\n",
    "x(0) &= 1 \\\\\n",
    "\\frac{d}{dt}x(0) &= 0\n",
    "\\end{align}\n",
    "$$\n",
    "\n",
    "ref : Zill & Cullen\n",
    "\n"
   ]
  },
  {
   "cell_type": "code",
   "execution_count": null,
   "metadata": {},
   "outputs": [],
   "source": []
  },
  {
   "cell_type": "markdown",
   "metadata": {},
   "source": [
    "도전 과제 3: 다음 2계 상미분 방정식의 수치해를 오일러법으로 구하시오:<br>\n",
    "Try This 3: Find the numerical solutions of the following second order ordinary equation using Euler Method: $0 < x\\le 10$\n",
    "\n",
    "$$\n",
    "\\begin{align}\n",
    "x^2\\frac{d^2}{dx^2}y(t)+ x\\frac{d}{dx}y(t) + \\left(x^2-2^2\\right) y(x) &= 0 \\\\\n",
    "y(0) &= 1 \\\\\n",
    "\\frac{d}{dx}y(0) &= 0\n",
    "\\end{align}\n",
    "$$\n",
    "\n",
    "ref : Zill & Cullen\n",
    "\n"
   ]
  },
  {
   "cell_type": "code",
   "execution_count": null,
   "metadata": {},
   "outputs": [],
   "source": []
  },
  {
   "cell_type": "markdown",
   "metadata": {},
   "source": [
    "도전 과제 4: 다음 2계 상미분 방정식의 수치해를 오일러법으로 구하시오:<br>\n",
    "Try This 4: Find the numerical solutions of the following second order ordinary equation using Euler Method: $-1 \\le x\\le 1$, $n$ = 1, 2, 3, 4\n",
    "\n",
    "$$\n",
    "\\begin{align}\n",
    "\\left(1-x^2\\right)\\frac{d^2}{dx^2}y(t)-2 x\\frac{d}{dx}y(t) + n\\left(n+1\\right) y(x) &= 0 \\\\\n",
    "y(-1) &= (-1)^{n+1} \\\\\n",
    "\\frac{d}{dx}y(-1) &= 0\n",
    "\\end{align}\n",
    "$$\n",
    "\n",
    "ref : Zill & Cullen\n",
    "\n"
   ]
  },
  {
   "cell_type": "code",
   "execution_count": null,
   "metadata": {},
   "outputs": [],
   "source": []
  },
  {
   "cell_type": "markdown",
   "metadata": {},
   "source": [
    "## 부록: 단진자의 기울기 장<br>Appendix: Slope Field of the Simple Pendulum\n",
    "\n"
   ]
  },
  {
   "cell_type": "markdown",
   "metadata": {},
   "source": [
    "$$\n",
    "\\frac{d}{dt}\n",
    "\\begin{pmatrix}\n",
    "    x_0\\\\\n",
    "    x_1\n",
    "\\end{pmatrix} \n",
    "=\n",
    "\\begin{pmatrix}\n",
    "    \\frac{d}{dt}x_0\\\\\n",
    "    \\frac{d}{dt}x_1\n",
    "\\end{pmatrix} \n",
    "=\n",
    "\\frac{d}{dt}\n",
    "\\begin{pmatrix}\n",
    "    \\theta\\\\\n",
    "    \\frac{d}{dt}\\theta\n",
    "\\end{pmatrix} \n",
    "=\n",
    "\\begin{pmatrix}\n",
    "    x_1\\\\\n",
    "    -\\frac{g}{l}sinx_0\n",
    "\\end{pmatrix} \n",
    "$$\n",
    "\n"
   ]
  },
  {
   "cell_type": "markdown",
   "metadata": {},
   "source": [
    "단진자 사례의 상태변수는 $\\left(\\theta, \\frac{d}{dt}\\theta\\right)$이다.<br>State variables of the simple pendulum example are $\\left(\\theta, \\frac{d}{dt}\\theta\\right)$.\n",
    "\n"
   ]
  },
  {
   "cell_type": "markdown",
   "metadata": {},
   "source": [
    "가로축을 $\\theta$, 세로축을 $\\frac{d}{dt}\\theta$로 하는 2차원 좌표 평면을 생각해 보자.<br>Let's think about a 2D plane with $\\theta$ as the horizontal axis and $\\frac{d}{dt}\\theta$ as the vertical axis.\n",
    "\n"
   ]
  },
  {
   "cell_type": "markdown",
   "metadata": {},
   "source": [
    "각 상태에서 상태변수의 변화의 방향 $\\left(\\frac{d}{dt}\\theta, \\frac{d^2}{dt^2}\\theta \\right)$ 을 표시해 보자.<br>At each state, let's present the direction of state variable change $\\left(\\frac{d}{dt}\\theta, \\frac{d^2}{dt^2}\\theta \\right)$.\n",
    "\n"
   ]
  },
  {
   "cell_type": "code",
   "execution_count": null,
   "metadata": {},
   "outputs": [],
   "source": [
    "import ode_plot\n",
    "\n"
   ]
  },
  {
   "cell_type": "code",
   "execution_count": null,
   "metadata": {
    "scrolled": false
   },
   "outputs": [],
   "source": [
    "time_list = []\n",
    "\n",
    "# list of theta\n",
    "theta_deg_array = np.arange(-540, 540+1, 30)\n",
    "theta_rad_list = np.deg2rad(theta_deg_array)\n",
    "\n",
    "# list of theta_dot\n",
    "theta_dot_deg_array = np.arange(-540, 540+1, 45)\n",
    "theta_dot_rad_list = np.deg2rad(theta_dot_deg_array)\n",
    "\n",
    "# plot direction field\n",
    "ode_plot.ode_slopes_2states_cartesian(pendulum_NL, theta_rad_list, theta_dot_rad_list, time_list)\n",
    "\n",
    "# Plot the solution curve by Euler method\n",
    "py.plot(py.rad2deg(x_result_array[0]), py.rad2deg(x_result_array[1]), 'r-')\n",
    "\n",
    "ode_plot.set_axis(\n",
    "    py.gca(), \n",
    "    theta_deg_array[0], theta_deg_array[-1], \n",
    "    theta_dot_deg_array[0], theta_dot_deg_array[-1],\n",
    ")\n",
    "\n",
    "ode_plot.title_axis_labels()\n",
    "\n"
   ]
  },
  {
   "cell_type": "markdown",
   "metadata": {},
   "source": [
    "## Final Bell<br>마지막 종\n",
    "\n"
   ]
  },
  {
   "cell_type": "code",
   "execution_count": null,
   "metadata": {},
   "outputs": [],
   "source": [
    "# stackoverfow.com/a/24634221\n",
    "import os\n",
    "os.system(\"printf '\\a'\");\n",
    "\n"
   ]
  },
  {
   "cell_type": "code",
   "execution_count": null,
   "metadata": {},
   "outputs": [],
   "source": []
  }
 ],
 "metadata": {
  "kernelspec": {
   "display_name": "Python 3",
   "language": "python",
   "name": "python3"
  },
  "language_info": {
   "codemirror_mode": {
    "name": "ipython",
    "version": 3
   },
   "file_extension": ".py",
   "mimetype": "text/x-python",
   "name": "python",
   "nbconvert_exporter": "python",
   "pygments_lexer": "ipython3",
   "version": "3.7.3"
  },
  "colab": {
   "provenance": [],
   "include_colab_link": true
  }
 },
 "nbformat": 4,
 "nbformat_minor": 0
}