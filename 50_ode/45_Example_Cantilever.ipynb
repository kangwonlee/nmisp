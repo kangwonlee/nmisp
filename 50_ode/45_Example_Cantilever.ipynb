{
 "cells": [
  {
   "cell_type": "markdown",
   "metadata": {
    "id": "view-in-github",
    "colab_type": "text"
   },
   "source": [
    "<a href=\"https://colab.research.google.com/github/kangwonlee/nmisp/blob/dependabot/pip/tests/requests-2.31.0/50_ode/45_Example_Cantilever.ipynb\" target=\"_parent\"><img src=\"https://colab.research.google.com/assets/colab-badge.svg\" alt=\"Open In Colab\"/></a>\n"
   ]
  },
  {
   "cell_type": "code",
   "execution_count": null,
   "metadata": {},
   "outputs": [],
   "source": [
    "# This cell is for the Google Colaboratory\n",
    "# https://stackoverflow.com/a/63519730\n",
    "if 'google.colab' in str(get_ipython()):\n",
    "  path_py = '/content/nmisp_py'\n",
    "\n",
    "  import os\n",
    "  if not os.path.exists(path_py):\n",
    "    import subprocess\n",
    "    subprocess.run(\n",
    "        ('git', 'clone', 'https://github.com/kangwonlee/nmisp_py')\n",
    "    )\n",
    "  assert os.path.exists(path_py)\n",
    "\n",
    "  import sys\n",
    "  sys.path.insert(0, path_py)\n",
    "\n"
   ]
  },
  {
   "cell_type": "code",
   "execution_count": null,
   "metadata": {},
   "outputs": [],
   "source": [
    "# 그래프, 수학 기능 추가\n",
    "# Add graph and math features\n",
    "import pylab as py\n",
    "import numpy as np\n",
    "import numpy.linalg as nl\n",
    "\n"
   ]
  },
  {
   "cell_type": "markdown",
   "metadata": {},
   "source": [
    "# 적용사례 : 오일러 베르누이 외팔보<br>Application Example : Euler-Bernoulli Cantilever\n",
    "\n"
   ]
  },
  {
   "cell_type": "code",
   "execution_count": null,
   "metadata": {},
   "outputs": [],
   "source": [
    "import ode_solver\n",
    "import scipy.integrate as si\n",
    "\n"
   ]
  },
  {
   "cell_type": "markdown",
   "metadata": {},
   "source": [
    "## 오일러 베르누이 외팔보<br>Euler-Bernoulli Cantilever\n",
    "\n"
   ]
  },
  {
   "cell_type": "markdown",
   "metadata": {},
   "source": [
    "Ref : Wikipedia contributors, 'Euler–Bernoulli beam theory', Wikipedia, The Free Encyclopedia, 19 November 2018, 22:12 UTC, https://en.wikipedia.org/w/index.php?title=Euler%E2%80%93Bernoulli_beam_theory&oldid=869647128 [accessed 24 November 2018]\n",
    "\n"
   ]
  },
  {
   "cell_type": "markdown",
   "metadata": {},
   "source": [
    "외팔보는 한쪽 끝에서 처짐과 기울기가 0인 보 이다.<br>A cantilever is a beam with both zero deflection and rotation at one end.\n",
    "\n"
   ]
  },
  {
   "cell_type": "markdown",
   "metadata": {},
   "source": [
    "오일러 베르누이 보 이론은 분포하중과 보의 처짐은 다음과 같은 관계를 가진다고 가정한다.<br>\n",
    "Euler-Bernoulli beam theory assumes that the deflection of a beam and the distributed load has following relationship.\n",
    "\n"
   ]
  },
  {
   "cell_type": "markdown",
   "metadata": {},
   "source": [
    "$$\n",
    "\\frac{d^2}{dx^2} \\left( EI \\frac{d^2w(x)}{dx^2} \\right) = q(x)\n",
    "$$\n",
    "\n"
   ]
  },
  {
   "cell_type": "markdown",
   "metadata": {},
   "source": [
    "여기서 $w(x)$와 $q(x)$는 각각 보의 위치 $x$에서의 $z$방향 처짐과 분포하중이다.<br>\n",
    "Here, $w(x)$ and $q$ are, respectively, $z$ directional deflection and distributed load at a location $x$ of the beam.\n",
    "\n"
   ]
  },
  {
   "cell_type": "markdown",
   "metadata": {},
   "source": [
    "단순화 하기 위해 $EI$는 일정하다고 가정하자.<br>\n",
    "To simplify, let's assume $EI$ is constant.\n",
    "\n"
   ]
  },
  {
   "cell_type": "markdown",
   "metadata": {},
   "source": [
    "$$\n",
    "E[Nm^{-2}]I[m^4] \\frac{d^4w(x)}{dx^4}[m^{-3}] = q(x)[Nm^{-1}]\n",
    "$$\n",
    "\n"
   ]
  },
  {
   "cell_type": "markdown",
   "metadata": {},
   "source": [
    "상태 변수 $\\mathbb{r}(x)$ 를 다음과 같이 정해 보자.<br>\n",
    "Let state variable $\\mathbb{r}(x)$ be as follows.\n",
    "\n"
   ]
  },
  {
   "cell_type": "markdown",
   "metadata": {},
   "source": [
    "$$\n",
    "\\mathbb{r}(x) \n",
    "= \n",
    "\\begin{pmatrix}\n",
    "r_0\\\\\n",
    "r_1\\\\\n",
    "r_2\\\\\n",
    "r_3\\\\\n",
    "\\end{pmatrix} \n",
    "= \n",
    "\\begin{pmatrix}\n",
    "w(x) \\\\\n",
    "\\frac{d}{dx}w(x) \\\\\n",
    "\\frac{d^2}{dx^2}w(x) \\\\\n",
    "\\frac{d^3}{dx^3}w(x) \\\\\n",
    "\\end{pmatrix}\n",
    "= \n",
    "\\begin{pmatrix}\n",
    "w(x) \\\\\n",
    "\\theta(x) \\\\\n",
    "(EI)^{-1}M(x) \\\\\n",
    "(EI)^{-1}V(x) \\\\\n",
    "\\end{pmatrix}\n",
    "$$\n",
    "\n"
   ]
  },
  {
   "cell_type": "markdown",
   "metadata": {},
   "source": [
    "여기서 $\\theta(x), M(x), V(x)$ 는 각각 $x$ 에서의 기울기, 모멘트, 전단력이다.<br>\n",
    "Here, $\\theta(x), M(x), V(x)$ are, repectively, slope, moment, and shear force at $x$.\n",
    "\n"
   ]
  },
  {
   "cell_type": "markdown",
   "metadata": {},
   "source": [
    "미분해보자.<br>\n",
    "Let's differentiate.\n",
    "\n"
   ]
  },
  {
   "cell_type": "markdown",
   "metadata": {},
   "source": [
    "$$\n",
    "\\frac{d}{dx}\\mathbb{r}(x) = \\begin{pmatrix}\n",
    "\\frac{d}{dx}w(x) \\\\\n",
    "\\frac{d^2}{dx^2}w(x) \\\\\n",
    "\\frac{d^3}{dx^3}w(x) \\\\\n",
    "\\frac{d^4}{dx^4}w(x) \\\\\n",
    "\\end{pmatrix}\n",
    "=\n",
    "\\begin{pmatrix}\n",
    "r_1\\\\\n",
    "r_2\\\\\n",
    "r_3\\\\\n",
    "(EI)^{-1}q(x) \\\\\n",
    "\\end{pmatrix}\n",
    "$$\n",
    "\n"
   ]
  },
  {
   "cell_type": "markdown",
   "metadata": {},
   "source": [
    "행렬로 다시 써 보면 다음과 같다.<br>\n",
    "Let's rewrite using matrices.\n",
    "\n"
   ]
  },
  {
   "cell_type": "markdown",
   "metadata": {},
   "source": [
    "$$\n",
    "\\frac{d}{dx}\\mathbb{r}(x) = \n",
    "\\begin{bmatrix}\n",
    "0 & 1 & 0 & 0\\\\\n",
    "0 & 0 & 1 & 0\\\\\n",
    "0 & 0 & 0 & 1\\\\\n",
    "0 & 0 & 0 & 0\\\\\n",
    "\\end{bmatrix}\n",
    "\\begin{pmatrix}\n",
    "r_0\\\\\n",
    "r_1\\\\\n",
    "r_2\\\\\n",
    "r_3 \\\\\n",
    "\\end{pmatrix}\n",
    "+\n",
    "\\begin{pmatrix}\n",
    "0\\\\\n",
    "0\\\\\n",
    "0\\\\\n",
    "(EI)^{-1} \\\\\n",
    "\\end{pmatrix}\n",
    "q(x)\n",
    "$$\n",
    "\n"
   ]
  },
  {
   "cell_type": "markdown",
   "metadata": {},
   "source": [
    "$x=0$ 지점에서의 초기조건을 생각해 보자.<br>Let's think about the initial conditions at $x=0$.\n",
    "\n"
   ]
  },
  {
   "cell_type": "markdown",
   "metadata": {},
   "source": [
    "$$\n",
    "\\mathbb{r}(0) \n",
    "= \n",
    "\\begin{pmatrix}\n",
    "w(0)[m] \\\\\n",
    "\\frac{d}{dx}w(0)[rad]  \\\\\n",
    "\\frac{d^2}{dx^2}w(0)[m^{-1}] \\\\\n",
    "\\frac{d^3}{dx^3}w(0)[m^{-2}] \\\\\n",
    "\\end{pmatrix}\n",
    "= \n",
    "\\begin{pmatrix}\n",
    "w(0)[m] \\\\\n",
    "\\theta(0)[rad] \\\\\n",
    "(EI)^{-1}[N^{-1}m^{-2}]M(0)[Nm] \\\\\n",
    "(EI)^{-1}[N^{-1}m^{-2}]V(0)[N] \\\\\n",
    "\\end{pmatrix}\n",
    "= \n",
    "\\begin{pmatrix}\n",
    "0 \\\\\n",
    "0 \\\\\n",
    "(EI)^{-1}M(0) \\\\\n",
    "(EI)^{-1}V(0) \\\\\n",
    "\\end{pmatrix}\n",
    "$$\n",
    "\n"
   ]
  },
  {
   "cell_type": "markdown",
   "metadata": {},
   "source": [
    "외팔보의 경우, $V(0)$ 는 $q(x)$ 를 $x=0$에서 $x=L$ 까지 적분한 힘과 평형을 이룰 것이다.<br>\n",
    "In case of a cantilever, $V(0)$ would be in equilibrium with the integration of $q(x)$ from $x=0$ to $x=L$.\n",
    "\n"
   ]
  },
  {
   "cell_type": "markdown",
   "metadata": {},
   "source": [
    "$$\n",
    "\\begin{align}\n",
    "V(0) &+ \\int_{x=0}^{x=L}q(x)dx = 0 \\\\\n",
    "V(0) &= - \\int_{x=0}^{x=L}q(x)dx\n",
    "\\end{align}\n",
    "$$\n",
    "\n"
   ]
  },
  {
   "cell_type": "markdown",
   "metadata": {},
   "source": [
    "$M(0)$는 $q(x)$의 도심 $\\bar{x}$에 $V(0)$가 작용할 경우 $x=0$에서의 모멘트이다.<br>\n",
    "$M(0)$ is the moment at $x=0$ when $V(0)$ is located at the centroid $\\bar{x}$ of $q(x)$.\n",
    "\n"
   ]
  },
  {
   "cell_type": "markdown",
   "metadata": {},
   "source": [
    "$$\n",
    "M(0) = \\bar{x}V(0)\n",
    "$$\n",
    "\n"
   ]
  },
  {
   "cell_type": "markdown",
   "metadata": {},
   "source": [
    "도심 $\\bar{x}$ 는 다음과 같이 구할 수 있다.<br>We can find the cetroid $\\bar{x}$ as follows.\n",
    "\n"
   ]
  },
  {
   "cell_type": "markdown",
   "metadata": {},
   "source": [
    "$$\n",
    "\\bar{x} = \\frac{1}{L}\\int_{x=0}^{x=L}xq(x)dx\n",
    "$$\n",
    "\n"
   ]
  },
  {
   "cell_type": "markdown",
   "metadata": {},
   "source": [
    "모멘트 $M(0)$는 $x$ 에서의 전단력 $V(x)$ 가 $x=0$ 점에 작용하는 모멘트와 균형을 이룬다.<br>\n",
    "The moment $M(0)$ is in equilibrium with the moment by shear force $V(x)$ at $x$ on $x=0$ point.\n",
    "\n"
   ]
  },
  {
   "cell_type": "markdown",
   "metadata": {},
   "source": [
    "$$\n",
    "M(0) + \\int_{x=0}^{x=L}xV(x)dx = 0 \\\\\n",
    "M(0) + \\int_{x=0}^{x=L}x\\left(V_0+ \\int_{\\xi=0}^{\\xi=x}q(\\xi)d\\xi  \\right)dx = 0\n",
    "$$\n",
    "\n"
   ]
  },
  {
   "cell_type": "markdown",
   "metadata": {},
   "source": [
    "우선 초기조건을 찾아보자.<br>Let's first find the initial conditions.\n",
    "\n"
   ]
  },
  {
   "cell_type": "markdown",
   "metadata": {},
   "source": [
    "(Pytel & Kiusalaas, Mechanics of Materials, 2nd Ed., Cengage Learning, 2013, Example 6.1.)\n",
    "\n"
   ]
  },
  {
   "cell_type": "markdown",
   "metadata": {},
   "source": [
    "분포 하중은 다음과 같다.<br>\n",
    "Distributed load is as follows.\n",
    "\n"
   ]
  },
  {
   "cell_type": "code",
   "execution_count": null,
   "metadata": {},
   "outputs": [],
   "source": [
    "w_N_m = 2000\n",
    "\n",
    "def q_N_m(x_m):\n",
    "    return w_N_m\n",
    "\n"
   ]
  },
  {
   "cell_type": "code",
   "execution_count": null,
   "metadata": {},
   "outputs": [],
   "source": [
    "def find_init(x_m, r):\n",
    "    return np.array([-q_N_m(x_m), x_m*(q_N_m(x_m))])\n",
    "\n"
   ]
  },
  {
   "cell_type": "code",
   "execution_count": null,
   "metadata": {},
   "outputs": [],
   "source": [
    "L_m = 4\n",
    "\n",
    "E_N_m2 = 200e9\n",
    "\n",
    "I_mm4 = 113e6\n",
    "I_m4 = I_mm4 * ((1e-3)**4)\n",
    "\n",
    "EI_Nm2 = E_N_m2 * I_m4\n",
    "\n",
    "one_over_EI_1_Nm2 = 1.0 / EI_Nm2\n",
    "\n"
   ]
  },
  {
   "cell_type": "code",
   "execution_count": null,
   "metadata": {},
   "outputs": [],
   "source": [
    "x_m_array = np.linspace(0, L_m, 1000+1)\n",
    "\n",
    "x, V_M = ode_solver.rk4(find_init, x_m_array, np.array([0, 0]))\n",
    "\n",
    "V_0_N = V_M[-1][0]\n",
    "M_0_Nm = V_M[-1][1]\n",
    "[V_0_N, M_0_Nm]\n",
    "\n"
   ]
  },
  {
   "cell_type": "markdown",
   "metadata": {},
   "source": [
    "구한 초기값을 확인해 보자.<br>Let's check the initial values that we just found.\n",
    "\n"
   ]
  },
  {
   "cell_type": "code",
   "execution_count": null,
   "metadata": {},
   "outputs": [],
   "source": [
    "assert abs((-w_N_m * L_m)-V_0_N) < 1e-6\n",
    "assert abs((0.5 * w_N_m * L_m**2)-M_0_Nm) < 1e-6\n",
    "\n"
   ]
  },
  {
   "cell_type": "code",
   "execution_count": null,
   "metadata": {},
   "outputs": [],
   "source": [
    "import numpy.testing as nt\n",
    "nt.assert_allclose((-w_N_m * L_m), V_0_N)\n",
    "nt.assert_allclose((0.5 * w_N_m * L_m**2), M_0_Nm)\n",
    "\n"
   ]
  },
  {
   "cell_type": "markdown",
   "metadata": {},
   "source": [
    "이제 처짐 곡선을 구해 보자.<br>Let's find out the deflection curve.\n",
    "\n"
   ]
  },
  {
   "cell_type": "code",
   "execution_count": null,
   "metadata": {},
   "outputs": [],
   "source": [
    "mat_A = np.array(\n",
    "    [\n",
    "        [0, 1, 0, 0],\n",
    "        [0, 0, 1, 0],\n",
    "        [0, 0, 0, 1],\n",
    "        [0, 0, 0, 0],\n",
    "    ]\n",
    ")\n",
    "\n",
    "mat_B = np.array([0, 0, 0, one_over_EI_1_Nm2])\n",
    "\n"
   ]
  },
  {
   "cell_type": "code",
   "execution_count": null,
   "metadata": {},
   "outputs": [],
   "source": [
    "def dr_dx(x_m, r):\n",
    "    return mat_A @ r + mat_B * q_N_m(x_m)\n",
    "\n"
   ]
  },
  {
   "cell_type": "code",
   "execution_count": null,
   "metadata": {},
   "outputs": [],
   "source": [
    "r0 = np.array(\n",
    "    [\n",
    "        0, 0, M_0_Nm*one_over_EI_1_Nm2, V_0_N*one_over_EI_1_Nm2\n",
    "    ]\n",
    ")\n",
    "\n"
   ]
  },
  {
   "cell_type": "code",
   "execution_count": null,
   "metadata": {},
   "outputs": [],
   "source": [
    "x, r = ode_solver.rk4(dr_dx, x_m_array, r0)\n",
    "\n",
    "r[-1]\n",
    "\n"
   ]
  },
  {
   "cell_type": "code",
   "execution_count": null,
   "metadata": {},
   "outputs": [],
   "source": [
    "r_array = np.array(r).T\n",
    "r_array.shape\n",
    "\n"
   ]
  },
  {
   "cell_type": "markdown",
   "metadata": {},
   "source": [
    "### 엄밀해와 비교<br>Compare with exact solutions\n",
    "\n"
   ]
  },
  {
   "cell_type": "markdown",
   "metadata": {},
   "source": [
    "#### 처짐<br>Deflection\n",
    "\n"
   ]
  },
  {
   "cell_type": "markdown",
   "metadata": {},
   "source": [
    "처짐 $w(x)$의 이론해는 다음과 같다.<br>Exact solution of the deflection $w(x)$ is as follows.\n",
    "\n"
   ]
  },
  {
   "cell_type": "markdown",
   "metadata": {},
   "source": [
    "$$\n",
    "w(x) = \\frac{w_0 x^2}{24EI}\\left(6L^2 -4Lx + x^2 \\right)\n",
    "$$\n",
    "\n"
   ]
  },
  {
   "cell_type": "code",
   "execution_count": null,
   "metadata": {},
   "outputs": [],
   "source": [
    "w_table_6_2 = (w_N_m * (x_m_array ** 2) / (24 * E_N_m2 * I_m4)) * \\\n",
    "    (6 * L_m ** 2 - 4 * L_m * x_m_array + x_m_array**2)\n",
    "w_table_6_2[-1]\n",
    "\n"
   ]
  },
  {
   "cell_type": "code",
   "execution_count": null,
   "metadata": {
    "scrolled": true
   },
   "outputs": [],
   "source": [
    "py.plot(x, r_array[0, :], '.', label='numerical')\n",
    "py.plot(x_m_array, w_table_6_2, label='exact')\n",
    "\n",
    "py.xlabel('x[m]')\n",
    "py.ylabel('w(x)[m]')\n",
    "\n",
    "py.legend(loc=0)\n",
    "\n",
    "py.grid(True)\n",
    "\n"
   ]
  },
  {
   "cell_type": "markdown",
   "metadata": {},
   "source": [
    "상대오차<br>\n",
    "Relative error\n",
    "\n"
   ]
  },
  {
   "cell_type": "code",
   "execution_count": null,
   "metadata": {},
   "outputs": [],
   "source": [
    "w_numerical_m = np.interp(x_m_array, x, r_array[0, :])\n",
    "w_error = nl.norm(w_table_6_2 - w_numerical_m) / nl.norm(w_table_6_2)\n",
    "\n",
    "assert 1e-7 > w_error, f\"deflection error {w_error*100}% larger than expected\"\n",
    "\n"
   ]
  },
  {
   "cell_type": "markdown",
   "metadata": {},
   "source": [
    "`numpy` also supports testing.<br>\n",
    "`numpy` 도 결과 확인을 지원한다.\n",
    "\n"
   ]
  },
  {
   "cell_type": "code",
   "execution_count": null,
   "metadata": {},
   "outputs": [],
   "source": [
    "import numpy.testing as nt\n",
    "nt.assert_allclose(w_table_6_2, w_numerical_m)\n",
    "\n"
   ]
  },
  {
   "cell_type": "markdown",
   "metadata": {},
   "source": [
    "####  전단력<br>Shear force\n",
    "\n"
   ]
  },
  {
   "cell_type": "markdown",
   "metadata": {},
   "source": [
    "전단력의 이론해<br>\n",
    "Shear force (in theory)\n",
    "\n"
   ]
  },
  {
   "cell_type": "code",
   "execution_count": null,
   "metadata": {},
   "outputs": [],
   "source": [
    "sf_N = V_0_N + w_N_m * x_m_array\n",
    "\n"
   ]
  },
  {
   "cell_type": "markdown",
   "metadata": {},
   "source": [
    "전단력의 수치해<br>Numerical solution of the shear force\n",
    "\n"
   ]
  },
  {
   "cell_type": "code",
   "execution_count": null,
   "metadata": {},
   "outputs": [],
   "source": [
    "sf_numerical_N = np.interp(x_m_array, x, r_array[3, :]) * EI_Nm2\n",
    "\n"
   ]
  },
  {
   "cell_type": "code",
   "execution_count": null,
   "metadata": {},
   "outputs": [],
   "source": [
    "py.plot(x_m_array, sf_numerical_N, '.', label='numerical')\n",
    "py.plot(x_m_array, sf_N, label='exact')\n",
    "py.xlabel('x[m]')\n",
    "py.ylabel('V[N]')\n",
    "\n",
    "py.legend(loc=0)\n",
    "\n",
    "py.grid(True)\n",
    "\n"
   ]
  },
  {
   "cell_type": "code",
   "execution_count": null,
   "metadata": {},
   "outputs": [],
   "source": [
    "sf_error = nl.norm(sf_N - sf_numerical_N) / nl.norm(sf_N)\n",
    "\n",
    "assert 1e-7 > sf_error, f\"shear force error ({sf_error}) larger than expected\"\n",
    "\n"
   ]
  },
  {
   "cell_type": "markdown",
   "metadata": {},
   "source": [
    "#### 굽힘모멘트<br>Bending moment\n",
    "\n"
   ]
  },
  {
   "cell_type": "markdown",
   "metadata": {},
   "source": [
    "굽힘모멘트의 이론해<br>\n",
    "Bending Moment (in theory)\n",
    "\n"
   ]
  },
  {
   "cell_type": "code",
   "execution_count": null,
   "metadata": {},
   "outputs": [],
   "source": [
    "bm_Nm = M_0_Nm + V_0_N * x_m_array + 0.5 * w_N_m * x_m_array ** 2\n",
    "\n"
   ]
  },
  {
   "cell_type": "markdown",
   "metadata": {},
   "source": [
    "굽힘모멘트의 수치해<br>Numerical solution of the bending moment\n",
    "\n"
   ]
  },
  {
   "cell_type": "code",
   "execution_count": null,
   "metadata": {},
   "outputs": [],
   "source": [
    "bm_numerical_Nm = np.interp(x_m_array, x, r_array[2, :]) * EI_Nm2\n",
    "\n"
   ]
  },
  {
   "cell_type": "code",
   "execution_count": null,
   "metadata": {},
   "outputs": [],
   "source": [
    "py.plot(x_m_array, bm_numerical_Nm, '.', label='numerical')\n",
    "py.plot(x_m_array, bm_Nm, label='exact')\n",
    "\n",
    "py.xlabel('x[m]')\n",
    "py.ylabel('M[Nm]')\n",
    "\n",
    "py.legend(loc=0)\n",
    "\n",
    "py.grid(True)\n",
    "\n"
   ]
  },
  {
   "cell_type": "code",
   "execution_count": null,
   "metadata": {},
   "outputs": [],
   "source": [
    "bm_error = nl.norm(bm_Nm - bm_numerical_Nm) / nl.norm(bm_Nm)\n",
    "\n",
    "assert 1e-7 > bm_error, f\"bending moment error {bm_error} larger than expected\"\n",
    "\n"
   ]
  },
  {
   "cell_type": "markdown",
   "metadata": {},
   "source": [
    "#### 기울기<br>Slope\n",
    "\n"
   ]
  },
  {
   "cell_type": "markdown",
   "metadata": {},
   "source": [
    "기울기의 엄밀해<br>\n",
    "Exact solution of the slope\n",
    "\n"
   ]
  },
  {
   "cell_type": "code",
   "execution_count": null,
   "metadata": {},
   "outputs": [],
   "source": [
    "theta_table_6_2 = (w_N_m  / (24 * E_N_m2 * I_m4)) * \\\n",
    "    (12 * L_m ** 2 * x_m_array - 12 * L_m * x_m_array ** 2 + 4 * x_m_array ** 3)\n",
    "theta_table_6_2[-1]\n",
    "\n"
   ]
  },
  {
   "cell_type": "markdown",
   "metadata": {},
   "source": [
    "기울기의 수치해<br>\n",
    "Numerical solution of the slope\n",
    "\n"
   ]
  },
  {
   "cell_type": "code",
   "execution_count": null,
   "metadata": {},
   "outputs": [],
   "source": [
    "slope_numerical_radian = np.interp(x_m_array, x, r_array[1, :])\n",
    "\n"
   ]
  },
  {
   "cell_type": "code",
   "execution_count": null,
   "metadata": {},
   "outputs": [],
   "source": [
    "py.plot(x_m_array, py.rad2deg(slope_numerical_radian), '.', label='numerical')\n",
    "py.plot(x_m_array, py.rad2deg(theta_table_6_2), label='exact')\n",
    "\n",
    "py.xlabel('x[m]')\n",
    "py.ylabel('$\\\\theta$(deg)')\n",
    "\n",
    "py.grid(True)\n",
    "\n"
   ]
  },
  {
   "cell_type": "markdown",
   "metadata": {},
   "source": [
    "상대 오차 확인<br>Check the relative error of the slope\n",
    "\n"
   ]
  },
  {
   "cell_type": "code",
   "execution_count": null,
   "metadata": {},
   "outputs": [],
   "source": [
    "theta_error = nl.norm(theta_table_6_2 - slope_numerical_radian) / nl.norm(theta_table_6_2)\n",
    "\n",
    "assert 1e-7 > bm_error, f\"slope moment error {theta_error} larger than expected\"\n",
    "\n"
   ]
  },
  {
   "cell_type": "code",
   "execution_count": null,
   "metadata": {},
   "outputs": [],
   "source": [
    "import numpy.testing as nt\n",
    "nt.assert_allclose(theta_table_6_2, slope_numerical_radian)\n",
    "\n"
   ]
  },
  {
   "cell_type": "markdown",
   "metadata": {},
   "source": [
    "ref : Leif Rune Hellevik, Numerical Methods for Engineers, 2018, [Online] Available : https://www.ntnu.no/wiki/download/attachments/69242130/main.pdf\n",
    "\n"
   ]
  },
  {
   "cell_type": "markdown",
   "metadata": {},
   "source": [
    "## 연습 문제<br>Exercises\n",
    "\n"
   ]
  },
  {
   "cell_type": "markdown",
   "metadata": {},
   "source": [
    "외팔보 상의 분포하중 $q(x)$가 다음과 같을 때 질문에 답하시오:<br>When the distributed load is as follows, answer the question:\n",
    "$$\n",
    "q(x) = 2\\left(1 - \\frac{1}{L}x \\right)\n",
    "$$\n",
    "\n"
   ]
  },
  {
   "cell_type": "markdown",
   "metadata": {},
   "source": [
    "따로 주어지지 않은 값은 위의 예의 값을 사용할 수 있음.<br>You may use values above if not given.\n",
    "\n"
   ]
  },
  {
   "cell_type": "markdown",
   "metadata": {},
   "source": [
    "도전 과제 1: $x=0$ 에서의 전단력의 초기 조건을 구하시오.<br>\n",
    "Try This 1: Find the initial condition of the shear force at $x=0$.\n",
    "\n"
   ]
  },
  {
   "cell_type": "code",
   "execution_count": null,
   "metadata": {},
   "outputs": [],
   "source": []
  },
  {
   "cell_type": "markdown",
   "metadata": {},
   "source": [
    "도전 과제 2: $x=0$ 에서의 굽힘모멘트의 초기 조건을 구하시오.<br>\n",
    "Try This 2: Find the initial condition of the bending moment at $x=0$.\n",
    "\n"
   ]
  },
  {
   "cell_type": "code",
   "execution_count": null,
   "metadata": {},
   "outputs": [],
   "source": []
  },
  {
   "cell_type": "markdown",
   "metadata": {},
   "source": [
    "도전 과제 3: $x$ 에서의 처짐 곡선을 구하시오.<br>\n",
    "Try This 3: Find the deflection curve at $x$.\n",
    "\n"
   ]
  },
  {
   "cell_type": "code",
   "execution_count": null,
   "metadata": {},
   "outputs": [],
   "source": []
  },
  {
   "cell_type": "markdown",
   "metadata": {},
   "source": [
    "도전 과제 4: 이론해와 비교해 보시오.<br>Try This 4: Compare with the exact solution.\n",
    "\n",
    "$$\n",
    "w(x)=\\frac{w_0 x^2}{120 L \\cdot EI}\\left( 10L^3 - 10L^2x + 5Lx^2 - x^3 \\right)\n",
    "$$\n",
    "\n"
   ]
  },
  {
   "cell_type": "code",
   "execution_count": null,
   "metadata": {},
   "outputs": [],
   "source": []
  },
  {
   "cell_type": "markdown",
   "metadata": {},
   "source": [
    "## Final Bell<br>마지막 종\n",
    "\n"
   ]
  },
  {
   "cell_type": "code",
   "execution_count": null,
   "metadata": {},
   "outputs": [],
   "source": [
    "# stackoverfow.com/a/24634221\n",
    "import os\n",
    "os.system(\"printf '\\a'\");\n",
    "\n"
   ]
  },
  {
   "cell_type": "code",
   "execution_count": null,
   "metadata": {},
   "outputs": [],
   "source": []
  }
 ],
 "metadata": {
  "kernelspec": {
   "display_name": "Python 3",
   "language": "python",
   "name": "python3"
  },
  "language_info": {
   "codemirror_mode": {
    "name": "ipython",
    "version": 3
   },
   "file_extension": ".py",
   "mimetype": "text/x-python",
   "name": "python",
   "nbconvert_exporter": "python",
   "pygments_lexer": "ipython3",
   "version": "3.7.3"
  },
  "colab": {
   "provenance": [],
   "include_colab_link": true
  }
 },
 "nbformat": 4,
 "nbformat_minor": 0
}