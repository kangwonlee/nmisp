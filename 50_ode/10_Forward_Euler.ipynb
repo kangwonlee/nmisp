{
 "cells": [
  {
   "cell_type": "markdown",
   "metadata": {
    "id": "view-in-github",
    "colab_type": "text"
   },
   "source": [
    "<a href=\"https://colab.research.google.com/github/kangwonlee/nmisp/blob/main/50_ode/10_Forward_Euler.ipynb\" target=\"_parent\"><img src=\"https://colab.research.google.com/assets/colab-badge.svg\" alt=\"Open In Colab\"/></a>\n"
   ]
  },
  {
   "cell_type": "code",
   "execution_count": null,
   "metadata": {},
   "outputs": [],
   "source": [
    "# This cell is for the Google Colaboratory\n",
    "# https://stackoverflow.com/a/63519730\n",
    "if 'google.colab' in str(get_ipython()):\n",
    "  path_py = '/content/nmisp_py'\n",
    "\n",
    "  import os\n",
    "  if not os.path.exists(path_py):\n",
    "    import subprocess\n",
    "    subprocess.run(\n",
    "        ('git', 'clone', 'https://github.com/kangwonlee/nmisp_py')\n",
    "    )\n",
    "  assert os.path.exists(path_py)\n",
    "\n",
    "  import sys\n",
    "  sys.path.insert(0, path_py)\n",
    "\n"
   ]
  },
  {
   "cell_type": "code",
   "execution_count": null,
   "metadata": {},
   "outputs": [],
   "source": [
    "# 그래프, 수학 기능 추가\n",
    "# Add graph and math features\n",
    "import pylab as py\n",
    "import numpy as np\n",
    "import numpy.linalg as nl\n",
    "\n"
   ]
  },
  {
   "cell_type": "markdown",
   "metadata": {},
   "source": [
    "# 상미분방정식을 위한 오일러법<br>Euler Method for Ordinary Differntial Equation\n",
    "\n"
   ]
  },
  {
   "cell_type": "markdown",
   "metadata": {},
   "source": [
    "[![Euler's method | Differential equations| AP Calculus BC | Khan Academy](https://i.ytimg.com/vi/q87L9R9v274/hqdefault.jpg)](https://www.youtube.com/watch?v=q87L9R9v274)\n",
    "\n"
   ]
  },
  {
   "cell_type": "markdown",
   "metadata": {},
   "source": [
    "## 여러 $(t, x)$ 지점에서의 기울기<br>Slopes at $(t, x)$ points\n",
    "\n"
   ]
  },
  {
   "cell_type": "markdown",
   "metadata": {},
   "source": [
    "다시 한번 주어진 미분 방정식을 생각해 보자.<br>Let's think about the first order differential equation again.\n",
    "\n"
   ]
  },
  {
   "cell_type": "markdown",
   "metadata": {},
   "source": [
    "$$\n",
    "\\left\\{\n",
    "    \\begin{align}\n",
    "        a_0 \\frac{d}{dt}x(t)+a_1 x(t)&=0 \\\\\n",
    "        x(0)&=x_0 \\\\\n",
    "    \\end{align}\n",
    "\\right.\n",
    "$$\n",
    "\n"
   ]
  },
  {
   "cell_type": "markdown",
   "metadata": {},
   "source": [
    "미분항을 남기고 나머지를 등호의 오른쪽으로 옮겨 보자.<br>Let's move terms except the differential to the right side of the equal sign.\n",
    "\n"
   ]
  },
  {
   "cell_type": "markdown",
   "metadata": {},
   "source": [
    "$$\n",
    "a_0 \\frac{d}{dt}x(t)=-a_1 x(t)\n",
    "$$\n",
    "\n"
   ]
  },
  {
   "cell_type": "markdown",
   "metadata": {},
   "source": [
    "양변을 $a_0$로 나누어 보자.<br>Let's divide both sides with $a_0$.\n",
    "\n"
   ]
  },
  {
   "cell_type": "markdown",
   "metadata": {},
   "source": [
    "$$\n",
    "\\frac{d}{dt}x(t)=-\\frac{a_1}{a_0} x(t)\n",
    "$$\n",
    "\n"
   ]
  },
  {
   "cell_type": "markdown",
   "metadata": {},
   "source": [
    "이 식의 의미를 한번 생각해 보자.<br>Let's think about the meaning of this equation.\n",
    "\n"
   ]
  },
  {
   "cell_type": "markdown",
   "metadata": {},
   "source": [
    "위 미분방정식을 만족시키는 어떤 함수 $x(t)$의 $t=t_i$, $x=x_j$ 점에서의 $t$에 대한 기울기는 다음과 같을 것이라는 의미이다.<br>\n",
    "This equation indicates that a function $x(t)$ satisfying the differential equation above would have a slope as follows at a point of $t=t_i$ and $x=x_j$.\n",
    "\n"
   ]
  },
  {
   "cell_type": "markdown",
   "metadata": {},
   "source": [
    "$$\n",
    "\\left.\\frac{d}{dt}x\\right|_{\\left(t, x\\right)=\\left(t_i,x_j\\right)}=-\\frac{a_1}{a_0} x_j\n",
    "$$\n",
    "\n"
   ]
  },
  {
   "cell_type": "markdown",
   "metadata": {},
   "source": [
    "이런식으로 $t$의 변화에 따른 $x$의 기울기 $\\frac{d}{dt}x(t)$ 를 모든 $(t, x)$ 점에서 구할 수 있다.<br>\n",
    "In this way, we can find all the $\\frac{d}{dx}x(t)$, slopes of $x$ with respect to the change of $t$ at all $(t, x)$ points.\n",
    "\n"
   ]
  },
  {
   "cell_type": "markdown",
   "metadata": {},
   "source": [
    "## 방향장 기울기 시각화<br>Visualizing the slopes in the [Direction Field](https://en.wikipedia.org/wiki/Direction_field)\n",
    "\n"
   ]
  },
  {
   "cell_type": "markdown",
   "metadata": {},
   "source": [
    "다음 예를 생각해 보자.<br>\n",
    "Let's think about an example as follows.\n",
    "\n"
   ]
  },
  {
   "cell_type": "markdown",
   "metadata": {},
   "source": [
    "$$\n",
    "\\left\\{\n",
    "    \\begin{align}\n",
    "        2 \\frac{d}{dt}x(t)+ x(t)&=0 \\\\\n",
    "        x(0)&=x_0 \\\\\n",
    "    \\end{align}\n",
    "\\right.\n",
    "$$\n",
    "\n"
   ]
  },
  {
   "cell_type": "markdown",
   "metadata": {},
   "source": [
    "기울기를 계산하는 파이썬 함수를 생각해 보자.<br>Let's think about a python function calculating the slope.\n",
    "\n"
   ]
  },
  {
   "cell_type": "code",
   "execution_count": null,
   "metadata": {},
   "outputs": [],
   "source": [
    "a_0, a_1 = 2.0, 1.0\n",
    "\n",
    "def dx_dt(t, x):\n",
    "    return - a_1 * x / a_0\n",
    "\n"
   ]
  },
  {
   "cell_type": "markdown",
   "metadata": {},
   "source": [
    "예를 들어 $0 \\le t \\le 10$, $-6 \\le x \\le 6$ 인 영역에서 기울기를 그려 보자.<br>\n",
    "Let's plot slopes within the region of $0 \\le t \\le 10$ and $-6 \\le x \\le 6$.\n",
    "\n"
   ]
  },
  {
   "cell_type": "code",
   "execution_count": null,
   "metadata": {},
   "outputs": [],
   "source": [
    "t_slope = py.linspace(0, 10)\n",
    "x_slope = py.linspace(-6, 6)\n",
    "\n"
   ]
  },
  {
   "cell_type": "code",
   "execution_count": null,
   "metadata": {},
   "outputs": [],
   "source": [
    "import ode_plot\n",
    "\n",
    "ode_plot.ode_slope_1state(dx_dt, x_slope, t_slope)\n",
    "py.savefig('slopes_t_x.svg')\n",
    "\n"
   ]
  },
  {
   "cell_type": "markdown",
   "metadata": {},
   "source": [
    " 위와 같이 모든 점에서의 기울기의 그림을 **방향장** 또는 **기울기장** 이라고 한다.<br>\n",
    " As above, a plot of the slopes of all points is called a [**Direction Field**](https://en.wikipedia.org/wiki/Direction_field) or **Slope Field**\n",
    " \n",
    "\n"
   ]
  },
  {
   "cell_type": "markdown",
   "metadata": {},
   "source": [
    "엄밀해를 겹쳐 그려 보자<br>Let's overlap the curve of the exact solution.\n",
    "\n"
   ]
  },
  {
   "cell_type": "markdown",
   "metadata": {},
   "source": [
    "$$x(t)=x_0 e^{-\\frac{a_1}{a_0} t}$$\n",
    "\n"
   ]
  },
  {
   "cell_type": "code",
   "execution_count": null,
   "metadata": {},
   "outputs": [],
   "source": [
    "import ode_plot\n",
    "\n",
    "\n",
    "# Plot direction field\n",
    "# 방향장 표시\n",
    "ode_plot.ode_slope_1state(dx_dt, x_slope, t_slope)\n",
    "\n",
    "def exact(t, x_0=4.5):\n",
    "    return x_0 * py.exp((-a_1 / a_0) * t)\n",
    "\n",
    "x_0 = 4.5\n",
    "py.plot(t_slope, exact(t_slope, x_0), label=f\"$x_0 = {x_0}$\")\n",
    "\n",
    "x_0 = 2.0\n",
    "py.plot(t_slope, exact(t_slope, x_0), label=f\"$x_0 = {x_0}$\")\n",
    "\n",
    "x_0 = -2.0\n",
    "py.plot(t_slope, exact(t_slope, x_0), label=f\"$x_0 = {x_0}$\")\n",
    "\n",
    "py.legend(loc=0)\n",
    "\n",
    "py.savefig('slopes_t_x_exact.svg')\n",
    "\n"
   ]
  },
  {
   "cell_type": "markdown",
   "metadata": {},
   "source": [
    "$t=0$에서의 $x$의 초기값에 따라 엄밀해가 달라질 수 있음을 기억하자.<br>Let's remember that the exact solution may vary depending on the initial value of $x$ at $t=0$.\n",
    "\n"
   ]
  },
  {
   "cell_type": "markdown",
   "metadata": {},
   "source": [
    "이것을 이용해서 미분방정식의 해 곡선을 구해볼 수 있을까?<br>Using this, can we find solution curves of a differential equation?\n",
    "\n"
   ]
  },
  {
   "cell_type": "markdown",
   "metadata": {},
   "source": [
    "## 오일러법<br>Euler Method\n",
    "\n"
   ]
  },
  {
   "cell_type": "markdown",
   "metadata": {},
   "source": [
    "$\\left(t,x\\right) = \\left(0, x_0\\right)$ 에서의 $x(t)$의 기울기를 생각해 보자.<br>\n",
    "Let's think about the slope of $x(t)$ at $\\left(t,x\\right) = \\left(0, x_0\\right)$.\n",
    "\n"
   ]
  },
  {
   "cell_type": "markdown",
   "metadata": {},
   "source": [
    "$$\n",
    "\\left.\\frac{d}{dt}x\\right|_{\\left(t, x\\right)=\\left(0,x_0\\right)}=-\\frac{a_1}{a_0} x_0=s_0\n",
    "$$\n",
    "\n"
   ]
  },
  {
   "cell_type": "markdown",
   "metadata": {},
   "source": [
    "그렇다면, $(0, x_0)$점을 지나고 기울기가 $s_0=-\\frac{a_1}{a_0} x_0$ 인 직선을 생각할 수 있다.<br>\n",
    "Then, we can think about a line passing through $(0, x_0)$ with the slope of $s_0=-\\frac{a_1}{a_0} x_0$.\n",
    "\n"
   ]
  },
  {
   "cell_type": "markdown",
   "metadata": {},
   "source": [
    "$$\n",
    "x=-\\frac{a_1}{a_0} x_0 \\left(t -  0 \\right) + x_0=s_0\\left(t -  0 \\right) + x_0\n",
    "$$\n",
    "\n"
   ]
  },
  {
   "cell_type": "markdown",
   "metadata": {},
   "source": [
    "이 직선을 따라 $t_1$ 까지 전진해 보자.<br>\n",
    "Following this line, let's move forward to $t_1$.\n",
    "\n"
   ]
  },
  {
   "cell_type": "markdown",
   "metadata": {},
   "source": [
    "$$\n",
    "t_1=t_0 + \\Delta t = 0 + 0.5\n",
    "$$\n",
    "\n"
   ]
  },
  {
   "cell_type": "code",
   "execution_count": null,
   "metadata": {},
   "outputs": [],
   "source": [
    "# Initial point\n",
    "t_0 = 0\n",
    "x_0 = 4.5\n",
    "\n",
    "# time step\n",
    "delta_t = 0.5\n",
    "\n"
   ]
  },
  {
   "cell_type": "code",
   "execution_count": null,
   "metadata": {},
   "outputs": [],
   "source": [
    "# Slope at the initial point (t_0, x_0) point\n",
    "s_0 = dx_dt(t_0, x_0)\n",
    "\n",
    "# Straight line to next time step\n",
    "t_0_array = py.linspace(0, delta_t)\n",
    "x_0_array = s_0 * (t_0_array - t_0) + x_0\n",
    "\n",
    "# (t_1, x_1) point\n",
    "t_1, x_1 = t_0_array[-1], x_0_array[-1]\n",
    "\n"
   ]
  },
  {
   "cell_type": "code",
   "execution_count": null,
   "metadata": {},
   "outputs": [],
   "source": [
    "ode_plot.indicate_initial_point(t_0, x_0)\n",
    "ode_plot.plot_one_step(t_0_array, x_0_array, 0)\n",
    "ode_plot.format_incremental_plot()\n",
    "\n"
   ]
  },
  {
   "cell_type": "markdown",
   "metadata": {},
   "source": [
    "$(t_1, x_1)$ 에서의 기울기 $s_1$ 과 그러한 기울기를 가지고 $\\left(t_1, x_1\\right)$ 을 지나는 직선은 다음과 같다.<br>\n",
    "The slope $s_1$ at $\\left(t_1, x_1\\right)$ and another line with such slope and passing $\\left(t_1, x_1\\right)$ would be as follows.\n",
    "\n"
   ]
  },
  {
   "cell_type": "markdown",
   "metadata": {},
   "source": [
    "$$\n",
    "\\begin{align}\n",
    "\\left.\\frac{d}{dt}x\\right|_{\\left(t, x\\right) = \\left(t_1,x_1\\right)} &=-\\frac{a_1}{a_0} x_1=s_1 \\\\\n",
    "x & = s_1\\left(t - t_1 \\right) + x_1\n",
    "\\end{align}\n",
    "$$\n",
    "\n"
   ]
  },
  {
   "cell_type": "code",
   "execution_count": null,
   "metadata": {},
   "outputs": [],
   "source": [
    "# Slope at (t_1, x_1) point\n",
    "s_1 = dx_dt(t_1, x_1)\n",
    "\n",
    "# Straight line to next time step\n",
    "t_1_array = py.linspace(t_1, t_1 + delta_t)\n",
    "x_1_array = s_1 * (t_1_array - t_1) + x_1\n",
    "\n",
    "# (t_2, x_2) point\n",
    "t_2, x_2 = t_1_array[-1], x_1_array[-1]\n",
    "\n"
   ]
  },
  {
   "cell_type": "code",
   "execution_count": null,
   "metadata": {},
   "outputs": [],
   "source": [
    "# Indicate the line from (t_0, x_0) with slope s_0\n",
    "ode_plot.indicate_initial_point(t_0, x_0)\n",
    "ode_plot.plot_one_step(t_0_array, x_0_array, 0)\n",
    "\n",
    "# Indicate the line from (t_1, x_1) with slope s_1\n",
    "ode_plot.plot_one_step(t_1_array, x_1_array, 1)\n",
    "\n",
    "ode_plot.format_incremental_plot()\n",
    "\n"
   ]
  },
  {
   "cell_type": "markdown",
   "metadata": {},
   "source": [
    "엄밀해와 비교해 보자.<br>Let's compare with the exact solution.\n",
    "\n"
   ]
  },
  {
   "cell_type": "code",
   "execution_count": null,
   "metadata": {},
   "outputs": [],
   "source": [
    "# https://stackoverflow.com/a/9236970\n",
    "t_array = py.concatenate([t_0_array.tolist(), t_1_array.tolist()], axis=None)\n",
    "exact = ode_plot.ExactPlotterFirstOrderODE(t_array)\n",
    "\n"
   ]
  },
  {
   "cell_type": "code",
   "execution_count": null,
   "metadata": {},
   "outputs": [],
   "source": [
    "# Indicate the line segments\n",
    "ode_plot.indicate_initial_point(t_0, x_0)\n",
    "ode_plot.plot_one_step(t_0_array, x_0_array, 0)\n",
    "ode_plot.plot_one_step(t_1_array, x_1_array, 1)\n",
    "\n",
    "# plot exact solution\n",
    "exact.plot()\n",
    "\n",
    "ode_plot.format_incremental_plot()\n",
    "\n"
   ]
  },
  {
   "cell_type": "markdown",
   "metadata": {},
   "source": [
    "$t$값이 커 짐에 따라, 엄밀해와 $x_1$의 오차 보다 엄밀해와 $x_2$ 사이의 오차가 커지는 것을 볼 수 있다.<br>\n",
    "As $t$ increases, the error between $x_2$ and the exact solution is larger than the error between $x_1$ and the exact solution.\n",
    "\n"
   ]
  },
  {
   "cell_type": "markdown",
   "metadata": {},
   "source": [
    "## 함수로 변환<br>Convert to a function\n",
    "\n"
   ]
  },
  {
   "cell_type": "markdown",
   "metadata": {},
   "source": [
    "사용상 편리를 위해 함수를 만들어 보자.<br>To make it easier to use, let's make it a function.\n",
    "\n"
   ]
  },
  {
   "cell_type": "code",
   "execution_count": null,
   "metadata": {},
   "outputs": [],
   "source": [
    "def euler(f, t_array, x_0):\n",
    "    '''\n",
    "    Forward Euler Method\n",
    "    전진 오일러법\n",
    "\n",
    "    Parameters\n",
    "    매개변수\n",
    "    ----------\n",
    "    f : callable 함수\n",
    "\n",
    "        The calling signature is f(t, x)\n",
    "        f(t, x) 와 같이 호출\n",
    "\n",
    "        Returns slope at (t, x)\n",
    "        (t, x) 점에서의 기울기를 반환\n",
    "\n",
    "    t_array : array_like 배열과 비슷한 변수\n",
    "\n",
    "        Collection of t at which we want to know x\n",
    "        x를 구하고자 하는 시각의 모음\n",
    "\n",
    "    x_0 : operatable 숫자 또는 배열\n",
    "\n",
    "        Initial value of x\n",
    "        x의 초기값\n",
    "\n",
    "    Returns\n",
    "    반환값\n",
    "    -------\n",
    "    time_list : list of t_i's 시간의 리스트\n",
    "    result_list : list of x_i's x의 리스트\n",
    "    '''\n",
    "\n",
    "    # initialize results\n",
    "    # 결과를 초기화\n",
    "    time_list = [t_array[0]]\n",
    "    result_list = [x_0]\n",
    "\n",
    "    # initialize x\n",
    "    # x를 초기화\n",
    "    x_i = x_0\n",
    "\n",
    "    # time step loop\n",
    "    # 매 시각을 훑는 반복문\n",
    "    for k, t_i in enumerate(t_array[:-1]):\n",
    "        # time step interval\n",
    "        # 시간 간격\n",
    "        delta_t = t_array[k+1] - t_array[k]\n",
    "\n",
    "        # slope at (t_i, x_i)\n",
    "        # (t_i, x_i)에서의 기울기\n",
    "        s_i = f(t_i, x_i)\n",
    "\n",
    "        # x[i + 1]\n",
    "        # i+1 단계의 x\n",
    "        x_i_plus_1 = x_i + s_i * delta_t\n",
    "\n",
    "        # append i + 1st t & x to the results\n",
    "        # i + 1 번째 t와 x 를 결과에 추가\n",
    "        time_list.append(t_array[k+1])\n",
    "        result_list.append(x_i_plus_1)\n",
    "\n",
    "        # x_i for the next step\n",
    "        # 다음 단계를 위한 x_i\n",
    "        x_i = x_i_plus_1\n",
    "    # end of time step loop\n",
    "    # 반복문 끝\n",
    "\n",
    "    # return the results\n",
    "    # 결과를 반환\n",
    "    return time_list, result_list\n",
    "\n"
   ]
  },
  {
   "cell_type": "markdown",
   "metadata": {},
   "source": [
    "다시 그려 보자.<br>Let's plot again.\n",
    "\n"
   ]
  },
  {
   "cell_type": "code",
   "execution_count": null,
   "metadata": {},
   "outputs": [],
   "source": [
    "# Time step interval\n",
    "delta_t = 0.5\n",
    "\n",
    "# Time array\n",
    "t_sec_array = np.arange(0, 1 + delta_t*0.5, delta_t)\n",
    "\n",
    "# Initial state\n",
    "x_0 = 4.5\n",
    "\n",
    "# *** new function ***\n",
    "t_euler_out, x_euler_out = euler(dx_dt, t_sec_array, x_0)\n",
    "# *** new function ***\n",
    "\n",
    "py.plot(t_euler_out, x_euler_out, 'o-')\n",
    "\n",
    "for k in range(len(t_euler_out)):\n",
    "    ode_plot.text_xy_k(t_euler_out[k], x_euler_out[k], k)\n",
    "\n",
    "# Indicate the exact solution\n",
    "exact.plot()\n",
    "\n",
    "ode_plot.format_incremental_plot()\n",
    "\n"
   ]
  },
  {
   "cell_type": "markdown",
   "metadata": {},
   "source": [
    "## $\\Delta t$ 간격의 영향<br>Influence of $\\Delta t$ interval\n",
    "\n"
   ]
  },
  {
   "cell_type": "markdown",
   "metadata": {},
   "source": [
    "오차를 줄일 수 있는 좋은 방법이 없을까?<br>Is there a good way to reduce the error?\n",
    "\n"
   ]
  },
  {
   "cell_type": "markdown",
   "metadata": {},
   "source": [
    "$\\Delta t=0.5$ 를 $\\Delta t=0.1$로 한번 줄여 보자.<br>Let's make $\\Delta t=0.5$ to $\\Delta t=0.1$.\n",
    "\n"
   ]
  },
  {
   "cell_type": "code",
   "execution_count": null,
   "metadata": {},
   "outputs": [],
   "source": [
    "# Time step interval & Time array\n",
    "delta_t = 0.1\n",
    "t_sec_array = np.arange(0, 1 + delta_t*0.5, delta_t)\n",
    "\n",
    "# Initial state\n",
    "x_0 = 4.5\n",
    "\n",
    "# *** new function ***\n",
    "t_euler_out_01, x_euler_out_01 = euler(dx_dt, t_sec_array, x_0)\n",
    "\n"
   ]
  },
  {
   "cell_type": "code",
   "execution_count": null,
   "metadata": {
    "scrolled": true
   },
   "outputs": [],
   "source": [
    "py.plot(t_euler_out, x_euler_out, 'o-', label='$\\Delta t=0.5$')\n",
    "py.plot(t_euler_out_01, x_euler_out_01, '.-', label='$\\Delta t=0.1$')\n",
    "\n",
    "# Indicate the exact solution\n",
    "exact.plot()\n",
    "\n",
    "ode_plot.format_incremental_plot()\n",
    "\n"
   ]
  },
  {
   "cell_type": "markdown",
   "metadata": {},
   "source": [
    "$\\Delta t$ 간격을 줄이면 오차에 어떤 영향을 미쳤는가?<br>How did reducing $\\Delta t$ interval influence the error?\n",
    "\n"
   ]
  },
  {
   "cell_type": "markdown",
   "metadata": {},
   "source": [
    "### 근사해와 방향장<br>Approximate solutions and direction fields\n",
    "\n"
   ]
  },
  {
   "cell_type": "markdown",
   "metadata": {},
   "source": [
    "해를 방향장과 겹쳐 그려 보자.<br>\n",
    "Let's overlap the solutions and the direction field.\n",
    "\n"
   ]
  },
  {
   "cell_type": "markdown",
   "metadata": {},
   "source": [
    "$t$와 $x$의 범위<br>\n",
    "Ranges of $t$ and $x$\n",
    "\n"
   ]
  },
  {
   "cell_type": "code",
   "execution_count": null,
   "metadata": {},
   "outputs": [],
   "source": [
    "t_slopes = py.linspace(0, 6)\n",
    "x_slopes = py.linspace(0, 6)\n",
    "\n"
   ]
  },
  {
   "cell_type": "markdown",
   "metadata": {},
   "source": [
    "초기값<br>Initial value<br>\n",
    "$x(t_0)$\n",
    "\n"
   ]
  },
  {
   "cell_type": "code",
   "execution_count": null,
   "metadata": {},
   "outputs": [],
   "source": [
    "x_0 = 4.5\n",
    "\n"
   ]
  },
  {
   "cell_type": "markdown",
   "metadata": {},
   "source": [
    "$\n",
    "\\Delta t = 0.5 \n",
    "$ (sec)\n",
    "\n"
   ]
  },
  {
   "cell_type": "code",
   "execution_count": null,
   "metadata": {},
   "outputs": [],
   "source": [
    "delta_t_05 = 0.5\n",
    "t_05_sec = np.arange(t_slopes[0], t_slopes[-1] + delta_t_05*0.5, delta_t_05)\n",
    "t_out_05, x_out_05 = euler(dx_dt, t_05_sec, x_0)\n",
    "\n"
   ]
  },
  {
   "cell_type": "markdown",
   "metadata": {},
   "source": [
    "$\n",
    "\\Delta t = 0.1 \n",
    "$ (sec)\n",
    "\n"
   ]
  },
  {
   "cell_type": "code",
   "execution_count": null,
   "metadata": {},
   "outputs": [],
   "source": [
    "delta_t_01 = 0.1\n",
    "t_01_sec = np.arange(t_slopes[0], t_slopes[-1] + delta_t_01*0.5, delta_t_01)\n",
    "t_out_01, x_out_01 = euler(dx_dt, t_01_sec, x_0)\n",
    "\n"
   ]
  },
  {
   "cell_type": "markdown",
   "metadata": {},
   "source": [
    "이제 그려 보자.<br>Now let's plot.\n",
    "\n"
   ]
  },
  {
   "cell_type": "code",
   "execution_count": null,
   "metadata": {},
   "outputs": [],
   "source": [
    "# Slopes at each (t, x) points\n",
    "ode_plot.ode_slope_1state(dx_dt, x_slopes, t_slopes)\n",
    "\n",
    "py.plot(t_out_05, x_out_05, 'o-', label='$\\Delta t=0.5$')\n",
    "py.plot(t_out_01, x_out_01, 'o-', label='$\\Delta t=0.1$')\n",
    "\n",
    "# plot exact solution\n",
    "exact = ode_plot.ExactPlotterFirstOrderODE(t_slopes)\n",
    "exact.plot()\n",
    "\n",
    "# Aspect ratio\n",
    "py.axis('equal')\n",
    "\n",
    "# xy limits\n",
    "py.xlim(left=t_slopes[0], right=t_slopes[-1])\n",
    "py.ylim(bottom=x_slopes[0], top=x_slopes[-1])\n",
    "\n",
    "py.legend(loc=1, fontsize='xx-large');\n",
    "\n"
   ]
  },
  {
   "cell_type": "markdown",
   "metadata": {},
   "source": [
    "$i$번째 점과 $i+1$번째 점 사이에서 $\\frac{d}{dt}x(t)$는 계속 변화하고 있으나, 오일러법은 해당 구간에서의 기울기가 $\\frac{d}{dt}x(t_i)$인 것으로 가정한다.<br>\n",
    "Between the $i$th and $i+1$st points, $\\frac{d}{dt}x(t)$ continuously changes.  However, the Euler Method assumes that the slope is fixed at $\\frac{d}{dt}x(t_1)$ within the interval.\n",
    "\n"
   ]
  },
  {
   "cell_type": "markdown",
   "metadata": {},
   "source": [
    "그렇다면, $t_i \\le t \\le t_{i+1}$ 사이에서 대표적인 $\\frac{d}{dt}x$ 값은 어떤 값이 좋을 것인가?<br>\n",
    "If so, within $t_i \\le t \\le t_{i+1}$, which value of $\\frac{d}{dt}x$ would be representative?\n",
    "\n"
   ]
  },
  {
   "cell_type": "markdown",
   "metadata": {},
   "source": [
    "## Scipy\n",
    "\n"
   ]
  },
  {
   "cell_type": "markdown",
   "metadata": {},
   "source": [
    "과학기술 계산 라이브러리인 사이파이 `scipy` 의 `scipy.integrate` 를 통해서 다수의 상미분 방정식 솔버 solver 를 제공한다.<br>\n",
    "As a scientific computation library, `scipy` has ODE solvers in `scipy.integrate`.\n",
    "\n"
   ]
  },
  {
   "cell_type": "code",
   "execution_count": null,
   "metadata": {},
   "outputs": [],
   "source": [
    "import scipy.integrate as si\n",
    "\n"
   ]
  },
  {
   "cell_type": "code",
   "execution_count": null,
   "metadata": {},
   "outputs": [],
   "source": [
    "sol = si.solve_ivp(dx_dt, (t_out_01[0], t_out_01[-1]), [x_0], t_eval=t_out_01)\n",
    "\n"
   ]
  },
  {
   "cell_type": "markdown",
   "metadata": {},
   "source": [
    "엄밀해, 오일러법 결과와 비교해보자.<br>\n",
    "Let's compare with the exact solution and the result of the Euler's method.\n",
    "\n"
   ]
  },
  {
   "cell_type": "code",
   "execution_count": null,
   "metadata": {},
   "outputs": [],
   "source": [
    "py.plot(sol.t, sol.y[0, :], 'o', label='solve_ivp')\n",
    "py.plot(t_out_01, x_out_01, '.-', label='$\\Delta t=0.1$')\n",
    "\n",
    "# plot exact solution\n",
    "exact = ode_plot.ExactPlotterFirstOrderODE(t_slopes)\n",
    "exact.plot()\n",
    "py.grid(True)\n",
    "py.xlabel('t(sec)')\n",
    "py.ylabel('y(t)')\n",
    "py.legend(loc=0);\n",
    "\n"
   ]
  },
  {
   "cell_type": "markdown",
   "metadata": {},
   "source": [
    "판다스 `pandas` 를 이용해 표 형태로도 살펴볼 수 있을 것이다.<br>\n",
    "The `pandas`would enable observing in a table form.\n",
    "\n"
   ]
  },
  {
   "cell_type": "code",
   "execution_count": null,
   "metadata": {},
   "outputs": [],
   "source": [
    "import pandas as pd\n",
    "\n",
    "\n",
    "df = pd.DataFrame(\n",
    "    data={\n",
    "        'euler':x_out_01,\n",
    "        'solve_ivp':sol.y[0, :],\n",
    "        'exact':exact.exact(py.array(t_out_01))\n",
    "    },\n",
    "    index=pd.Series(t_out_01, name='t(sec)'),\n",
    "    columns=['exact', 'euler', 'solve_ivp']\n",
    ")\n",
    "\n"
   ]
  },
  {
   "cell_type": "markdown",
   "metadata": {},
   "source": [
    "열 연산으로 엄밀해에 대한 오차를 구해보자.<br>\n",
    "Let's calculate the error against the exact solution.\n",
    "\n"
   ]
  },
  {
   "cell_type": "code",
   "execution_count": null,
   "metadata": {},
   "outputs": [],
   "source": [
    "df['euler_error'] = df.euler - df.exact\n",
    "df['solve_ivp_error'] = df.solve_ivp - df.exact\n",
    "\n"
   ]
  },
  {
   "cell_type": "markdown",
   "metadata": {},
   "source": [
    "표 형태<br>Table form\n",
    "\n"
   ]
  },
  {
   "cell_type": "code",
   "execution_count": null,
   "metadata": {},
   "outputs": [],
   "source": [
    "pd.set_option('display.max_rows', 10)\n",
    "df\n",
    "\n"
   ]
  },
  {
   "cell_type": "markdown",
   "metadata": {},
   "source": [
    "각종 통계<br>Statistics\n",
    "\n"
   ]
  },
  {
   "cell_type": "code",
   "execution_count": null,
   "metadata": {},
   "outputs": [],
   "source": [
    "df.describe()\n",
    "\n"
   ]
  },
  {
   "cell_type": "markdown",
   "metadata": {},
   "source": [
    "이 경우, 오일러법의 오차에 대한 의견은?<br>\n",
    "In this case, what do you think about the error of the Euler method?\n",
    "\n"
   ]
  },
  {
   "cell_type": "code",
   "execution_count": null,
   "metadata": {},
   "outputs": [],
   "source": [
    "import numpy.linalg as nl\n",
    "\n",
    "\n",
    "nl.norm(df.euler_error), nl.norm(df.solve_ivp_error), \n",
    "\n"
   ]
  },
  {
   "cell_type": "markdown",
   "metadata": {},
   "source": [
    "## 연습 문제<br>Exercise\n"
   ]
  },
  {
   "cell_type": "markdown",
   "metadata": {},
   "source": [
    "도전과제 1: 다음 미분방정식의 해곡선을 전진 오일러법으로 구하시오.<br>\n",
    "Try This 1: Find a solution curve of the following differential equation using the forward Euler method.\n",
    "\n"
   ]
  },
  {
   "cell_type": "markdown",
   "metadata": {},
   "source": [
    "$$\n",
    "\\begin{cases}\n",
    "\\begin{align}\n",
    "a_0\\frac{d}{dt}x(t) + a_1 x(t) &= 0 \\\\\n",
    "x(0)&=x_0\n",
    "\\end{align}\n",
    "\\end{cases}\n",
    "$$\n"
   ]
  },
  {
   "cell_type": "code",
   "execution_count": null,
   "metadata": {},
   "outputs": [],
   "source": []
  },
  {
   "cell_type": "markdown",
   "metadata": {},
   "source": [
    "도전과제 2: 다음 미분방정식의 해곡선을 전진 오일러법으로 구하시오.<br>\n",
    "Try This 2: Find a solution curve of the following differential equation using the forward Euler method.\n",
    "\n"
   ]
  },
  {
   "cell_type": "markdown",
   "metadata": {},
   "source": [
    "$$\n",
    "\\begin{cases}\n",
    "\\begin{align}\n",
    "a_0 \\frac{d}{dt}x(t) + a_1 x(t) &= b_0 t \\\\\n",
    "x(0)&=0\n",
    "\\end{align}\n",
    "\\end{cases}\n",
    "$$\n"
   ]
  },
  {
   "cell_type": "code",
   "execution_count": null,
   "metadata": {},
   "outputs": [],
   "source": []
  },
  {
   "cell_type": "markdown",
   "metadata": {},
   "source": [
    "도전과제 3: 다음 미분방정식의 해곡선을 전진 오일러법으로 구하시오.<br>\n",
    "Try This 3: Find a solution curve of the following differential equation using the forward Euler method.\n",
    "\n"
   ]
  },
  {
   "cell_type": "markdown",
   "metadata": {},
   "source": [
    "$$\n",
    "\\begin{cases}\n",
    "\\begin{align}\n",
    "a_0 \\frac{d}{dt}x(t) + a_1 x(t) &= b_0 sin(t) \\\\\n",
    "x(0)&=x_0\n",
    "\\end{align}\n",
    "\\end{cases}\n",
    "$$\n"
   ]
  },
  {
   "cell_type": "code",
   "execution_count": null,
   "metadata": {},
   "outputs": [],
   "source": []
  },
  {
   "cell_type": "markdown",
   "metadata": {},
   "source": [
    "도전과제 4: 다음 미분방정식의 해곡선을 전진 오일러법으로 구하시오.<br>\n",
    "Try This 4: Find a solution curve of the following differential equation using the forward Euler method. [[link](https://en.wikipedia.org/wiki/Bernoulli_differential_equation)]<br>\n",
    "$1 \\le x \\le 10$\n",
    "\n"
   ]
  },
  {
   "cell_type": "markdown",
   "metadata": {},
   "source": [
    "$$\n",
    "\\begin{cases}\n",
    "\\begin{align}\n",
    "\\frac{d}{dx}y(x) - \\frac{2}{x}y(x) &= -x^2y^2 \\\\\n",
    "y(1)&=1\n",
    "\\end{align}\n",
    "\\end{cases}\n",
    "$$\n"
   ]
  },
  {
   "cell_type": "code",
   "execution_count": null,
   "metadata": {},
   "outputs": [],
   "source": []
  },
  {
   "cell_type": "markdown",
   "metadata": {},
   "source": [
    "## 예상 자료형<br>Type hints\n",
    "\n"
   ]
  },
  {
   "cell_type": "markdown",
   "metadata": {},
   "source": [
    "References : [[1](https://docs.python.org/3/library/typing.html)], [[2](https://stackoverflow.com/a/54610845)]\n",
    "\n"
   ]
  },
  {
   "cell_type": "markdown",
   "metadata": {},
   "source": [
    "타입 힌트는 변수의 예상 자료형을 예시하여 (개발자 또는) 개발용 소프트웨어 등을 돕기 위한 것이다.<br>\n",
    "Type hints are to present expected data types to help (developers or) development software.\n",
    "\n"
   ]
  },
  {
   "cell_type": "code",
   "execution_count": null,
   "metadata": {},
   "outputs": [],
   "source": [
    "def dx_dt_type_hints(t:float, x:float) -> float:\n",
    "    return - a_1 / a_0 * x\n",
    "\n"
   ]
  },
  {
   "cell_type": "markdown",
   "metadata": {},
   "source": [
    "예를 들어 위 함수는 실수형 매개변수 `t`, 실수형 매개변수 `x` 를 받아들여 계산한 결과를 실수형으로 반환할 것이라는 의미이다.<br>\n",
    "For example, the function above would accept two `float` arguments of `t` and `x` to return the calculated result in  `float`.\n",
    "\n"
   ]
  },
  {
   "cell_type": "markdown",
   "metadata": {},
   "source": [
    "매개변수 `t` 가 실수형 또는 정수형으로 예상된다면, 다음과 같이  `typing` 모듈의 `Union`으로 표시할 수 있다.<br>\n",
    "If the argument `t`is expected to be `float` or `int`, we can indicate as follows using `Union` of the `typing` module.\n",
    "\n"
   ]
  },
  {
   "cell_type": "code",
   "execution_count": null,
   "metadata": {},
   "outputs": [],
   "source": [
    "from typing import Union\n",
    "\n",
    "\n",
    "def dx_dt_type_hints(t:Union[float, int], x:float) -> float:\n",
    "    return - a_1 / a_0 * x\n",
    "\n"
   ]
  },
  {
   "cell_type": "markdown",
   "metadata": {},
   "source": [
    "`euler( )`와 같이 함수 또는 list를 받아들이는 경우는 다음과 같이 표시할 수 있을 것이다.<br>\n",
    "If arguments are a function or a list as `euler( )`, following cell would be possible.\n",
    "\n"
   ]
  },
  {
   "cell_type": "code",
   "execution_count": null,
   "metadata": {},
   "outputs": [],
   "source": [
    "from typing import Callable, List, Tuple, Union\n",
    "\n",
    "\n",
    "import numpy as np\n",
    "\n",
    "Scalar = Union[float, int]\n",
    "Time = Scalar\n",
    "TimeList = Union[List[Time], Tuple[Time]]\n",
    "State = Union[Scalar, List[Scalar], Tuple[Scalar], np.ndarray]\n",
    "StateList = Union[List[State], Tuple[State]]\n",
    "SlopeFunction = Callable[[Time, State], State]\n",
    "\n",
    "\n",
    "def euler(f:SlopeFunction, t_array:TimeList, x_0:State) -> Tuple[TimeList, StateList]:\n",
    "\n",
    "    time_list = [t_array[0]]\n",
    "    result_list = [x_0]\n",
    "\n",
    "    x_i = x_0\n",
    "\n",
    "    for k, t_i in enumerate(t_array[:-1]):\n",
    "        # time step\n",
    "        delta_t = t_array[k+1] - t_array[k]\n",
    "\n",
    "        # slope\n",
    "        s_i = f(t_i, x_i)\n",
    "\n",
    "        # x[i + 1]\n",
    "        x_i_plus_1 = x_i + s_i * delta_t\n",
    "\n",
    "        time_list.append(t_array[k+1])\n",
    "        result_list.append(x_i_plus_1)\n",
    "        \n",
    "        x_i = x_i_plus_1\n",
    "\n",
    "    return time_list, result_list\n",
    "\n"
   ]
  },
  {
   "cell_type": "markdown",
   "metadata": {},
   "source": [
    "## 중첩함수와 클로져<br>Nested function and Closure\n",
    "\n"
   ]
  },
  {
   "cell_type": "markdown",
   "metadata": {},
   "source": [
    "내장 함수는 다른 함수 안에 정의된 함수이다.<br>A nested function is a function defined another function.\n",
    "\n"
   ]
  },
  {
   "cell_type": "code",
   "execution_count": null,
   "metadata": {},
   "outputs": [],
   "source": [
    "def function_with_a_nested_function(t_list, x_list, a=0.5, b=2):\n",
    "\n",
    "    def nested_function(t_i, x_i):\n",
    "\n",
    "        return a * t_i + b * x_i\n",
    "\n",
    "    y_list = []\n",
    "\n",
    "    for t_j, x_j in zip(t_list, x_list):\n",
    "        y_list.append(nested_function(t_j, x_j))\n",
    "\n",
    "    return y_list\n",
    "\n"
   ]
  },
  {
   "cell_type": "code",
   "execution_count": null,
   "metadata": {},
   "outputs": [],
   "source": [
    "t_list = [0, 1, 2]\n",
    "x_list = [0.1, 0.2, 0.3]\n",
    "function_with_a_nested_function(t_list, x_list)\n",
    "\n"
   ]
  },
  {
   "cell_type": "markdown",
   "metadata": {},
   "source": [
    "**클로져**는 이러한 *내장 함수가 함수의 반환값*인 경우라고 할 수 있다.<br>\n",
    "A **closure** can be a nested function returned from a function.\n",
    "\n"
   ]
  },
  {
   "cell_type": "code",
   "execution_count": null,
   "metadata": {},
   "outputs": [],
   "source": [
    "def function_returning_a_closure(a=0.5, b=2):\n",
    "\n",
    "    def this_will_be_a_closure(t_i, x_i):\n",
    "\n",
    "        return a * t_i + b * x_i\n",
    "\n",
    "    return this_will_be_a_closure # no ( )\n",
    "\n"
   ]
  },
  {
   "cell_type": "code",
   "execution_count": null,
   "metadata": {},
   "outputs": [],
   "source": [
    "this_is_a_closure = function_returning_a_closure()\n",
    "\n",
    "t_list_closure = [0, 1, 2]\n",
    "x_list_closure = [0.1, 0.2, 0.3]\n",
    "y_list_closure = []\n",
    "\n",
    "for t_j, x_j in zip(t_list_closure, x_list_closure):\n",
    "    y_list_closure.append(this_is_a_closure(t_j, x_j))\n",
    "\n",
    "y_list_closure\n",
    "\n"
   ]
  },
  {
   "cell_type": "markdown",
   "metadata": {},
   "source": [
    "예를 들어 미분방정식의 기울기를 계산하는 함수를 closure 로 생성하는 것도 가능할 것이다.<br>\n",
    "For example, we may think about a function returning a closure calculating the slope for the differential equation.\n",
    "\n"
   ]
  },
  {
   "cell_type": "markdown",
   "source": [
    "$$\n",
    "\\frac{d}{dt}x(t)=-\\frac{a_1}{a_0}x(t)\n",
    "$$\n",
    "\n"
   ],
   "metadata": {}
  },
  {
   "cell_type": "code",
   "execution_count": null,
   "metadata": {},
   "outputs": [],
   "source": [
    "def get_slope_function_LODE1(a0, a1):\n",
    "\n",
    "    '''\n",
    "    Make a function calculating the slope\n",
    "    기울기를 계산하는 함수를 만들어주는 함수\n",
    "    '''\n",
    "\n",
    "    # Coefficient to calculate the slope\n",
    "    # 기울기를 계산하기 위해 필요한 계수\n",
    "    minus_a1_over_a0 = -a1 / a0\n",
    "    # This variable would survive even after this function returns\n",
    "    # get_slope_function_LODE1() 함수가 반환된 후에도 이 변수는 수명을 유지할 것이다.\n",
    "\n",
    "    # Following nested function would calculate slope at (t, x)\n",
    "    # 아래 내부 함수는 (t, x) 에서의 기울기를 계산할 것이다.\n",
    "    def slope_LODE1(t, x):\n",
    "        return minus_a1_over_a0 * x\n",
    "\n",
    "    # The nested function is the return value\n",
    "    # 내부 함수가 반환값이 된다.\n",
    "    return slope_LODE1\n",
    "\n"
   ]
  },
  {
   "cell_type": "markdown",
   "source": [
    "We can make the slope function as follows.<br>\n",
    "아래와 같이 기울기 함수를 만들 수 있다.\n",
    "\n"
   ],
   "metadata": {}
  },
  {
   "cell_type": "code",
   "execution_count": null,
   "metadata": {},
   "outputs": [],
   "source": [
    "dx_dt_closure = get_slope_function_LODE1(a_0, a_1)\n",
    "\n"
   ]
  },
  {
   "cell_type": "markdown",
   "source": [
    "Let's apply the original function and the closure to the `euler()`.<br>\n",
    "원래 함수와 클로져를 `euler()`에 적용해 보자.\n",
    "\n"
   ],
   "metadata": {}
  },
  {
   "cell_type": "code",
   "source": [
    "delta_t_01 = 0.1\n",
    "t_01_sec = np.arange(t_slopes[0], t_slopes[-1] + delta_t_01*0.5, delta_t_01)\n",
    "\n",
    "# Original function\n",
    "# 원래의 함수\n",
    "(t_out_01, x_out_01) = euler(dx_dt, t_01_sec, x_0)\n",
    "\n",
    "# Closure\n",
    "# 클로져\n",
    "(t_out_01_closure, x_out_01_closure) = euler(dx_dt_closure, t_01_sec, x_0)\n",
    "\n"
   ],
   "metadata": {},
   "execution_count": null,
   "outputs": []
  },
  {
   "cell_type": "code",
   "source": [
    "import numpy as np\n",
    "import numpy.testing as nt\n",
    "\n"
   ],
   "metadata": {},
   "execution_count": null,
   "outputs": []
  },
  {
   "cell_type": "markdown",
   "source": [
    "If the tests below pass, results using the closure is close to the original function.<br>\n",
    "아래 테스트가 통과된다면, 클로져를 사용한 결과와 원래 함수의 결과는 서로 가까운 것이다.\n",
    "\n"
   ],
   "metadata": {}
  },
  {
   "cell_type": "code",
   "source": [
    "nt.assert_allclose(\n",
    "  np.array(t_out_01),\n",
    "  np.array(t_out_01_closure)\n",
    ")\n",
    "\n",
    "nt.assert_allclose(\n",
    "  np.array(x_out_01),\n",
    "  np.array(x_out_01_closure)\n",
    ")\n",
    "\n"
   ],
   "metadata": {},
   "execution_count": null,
   "outputs": []
  },
  {
   "cell_type": "markdown",
   "metadata": {},
   "source": [
    "Following cell compares return values from functions `dx_dt()` and `dx_dt_closure()` using `t_out_01` and `x_out_01` results.<br>\n",
    "아래 셀은 `t_out_01` 과 `x_out_01` 결과를 이용하여 함수 `dx_dt()` 와 `dx_dt_closure()`의 반환값을 비교할 것이다.\n",
    "\n"
   ]
  },
  {
   "cell_type": "code",
   "execution_count": null,
   "metadata": {},
   "outputs": [],
   "source": [
    "nt.assert_allclose(\n",
    "  dx_dt(np.array(t_out_01), np.array(x_out_01)),\n",
    "  dx_dt_closure(np.array(t_out_01), np.array(x_out_01))\n",
    ")\n",
    "\n"
   ]
  },
  {
   "cell_type": "markdown",
   "metadata": {},
   "source": [
    "## Final Bell<br>마지막 종\n",
    "\n"
   ]
  },
  {
   "cell_type": "code",
   "execution_count": null,
   "metadata": {},
   "outputs": [],
   "source": [
    "# stackoverfow.com/a/24634221\n",
    "import os\n",
    "os.system(\"printf '\\a'\");\n",
    "\n"
   ]
  },
  {
   "cell_type": "code",
   "execution_count": null,
   "metadata": {},
   "outputs": [],
   "source": []
  }
 ],
 "metadata": {
  "kernelspec": {
   "display_name": "Python 3",
   "language": "python",
   "name": "python3"
  },
  "language_info": {
   "codemirror_mode": {
    "name": "ipython",
    "version": 3
   },
   "file_extension": ".py",
   "mimetype": "text/x-python",
   "name": "python",
   "nbconvert_exporter": "python",
   "pygments_lexer": "ipython3",
   "version": "3.7.3"
  },
  "colab": {
   "provenance": [],
   "include_colab_link": true
  }
 },
 "nbformat": 4,
 "nbformat_minor": 0
}