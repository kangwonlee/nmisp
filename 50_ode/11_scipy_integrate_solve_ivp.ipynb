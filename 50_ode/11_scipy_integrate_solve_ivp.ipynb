{
 "cells": [
  {
   "cell_type": "markdown",
   "metadata": {
    "id": "view-in-github",
    "colab_type": "text"
   },
   "source": [
    "<a href=\"https://colab.research.google.com/github/kangwonlee/nmisp/blob/truss-example/50_ode/11_scipy_integrate_solve_ivp.ipynb\" target=\"_parent\"><img src=\"https://colab.research.google.com/assets/colab-badge.svg\" alt=\"Open In Colab\"/></a>\n"
   ]
  },
  {
   "cell_type": "code",
   "execution_count": null,
   "metadata": {},
   "outputs": [],
   "source": [
    "import numpy as np\n",
    "import scipy.integrate\n",
    "import matplotlib.pyplot as plt\n",
    "\n"
   ]
  },
  {
   "cell_type": "markdown",
   "metadata": {},
   "source": [
    "# A little bit more on `scipy.integrate`<br>`scipy.integrate`에 대해 좀 더 알아봅시다\n",
    "\n"
   ]
  },
  {
   "cell_type": "markdown",
   "metadata": {},
   "source": [
    "* Let's recall following differential equation.<br>다음 미분방정식을 떠올려 보자.\n",
    "\n",
    "$$\n",
    "a_0 \\frac{d}{dx}y(t) + a_1 y(t) = 0\n",
    "$$\n",
    "\n"
   ]
  },
  {
   "cell_type": "markdown",
   "metadata": {},
   "source": [
    "* We can subtract $a_1 y(t)$ from both sides.<br>등호의 오른쪽과 왼쪽 모두에서 $a_1 y(t)$ 을 빼 보자.\n",
    "\n",
    "$$\n",
    "a_0 \\frac{d}{dx}y(t) =- a_1 y(t)\n",
    "$$\n",
    "\n"
   ]
  },
  {
   "cell_type": "markdown",
   "metadata": {},
   "source": [
    "* Dividing both sides with $a_0$ gives the slope of the solution $y(t)$.<br>등호의 오른쪽과 왼쪽을 모두 $a_0$로 나누면 미분방정식의 해 $y(t)$의 기울기를 얻는다.\n",
    "\n",
    "$$\n",
    "\\begin{align}\n",
    "    \\frac{d}{dx}y(t) =- \\frac{a_1}{a_0} y(t)\\\\\n",
    "    \\frac{d}{dx}y(t) =c_0 y(t)\n",
    "\\end{align}\n",
    "$$\n",
    "\n"
   ]
  },
  {
   "cell_type": "markdown",
   "metadata": {},
   "source": [
    "* Let's write a python function calculating the Slope function.<br>기울기 함수를 계산하는 파이썬 함수를 작성해 보자.\n",
    "\n"
   ]
  },
  {
   "cell_type": "code",
   "execution_count": null,
   "metadata": {},
   "outputs": [],
   "source": [
    "a0 = 2.0\n",
    "a1 = 1.0\n",
    "\n",
    "y0 = 1.0\n",
    "\n",
    "c0 = - a1 / a0\n",
    "\n",
    "def dy_dx(x, y):\n",
    "  return c0 * y\n",
    "\n"
   ]
  },
  {
   "cell_type": "markdown",
   "metadata": {},
   "source": [
    "* Also we know the exact solution of this differential equation.<br>또한 이 미분방정식은 엄밀해도 알고 있다.\n",
    "\n"
   ]
  },
  {
   "cell_type": "code",
   "execution_count": null,
   "metadata": {},
   "outputs": [],
   "source": [
    "def exact(x):\n",
    "  return y0 * np.exp(c0*x)\n",
    "\n"
   ]
  },
  {
   "cell_type": "markdown",
   "metadata": {},
   "source": [
    "* Let's calculate the numerical approximation<br>수치적 근사해를 계산해 보자.\n",
    "\n",
    "https://docs.scipy.org/doc/scipy/reference/generated/scipy.integrate.solve_ivp.html\n"
   ]
  },
  {
   "cell_type": "code",
   "execution_count": null,
   "metadata": {},
   "outputs": [],
   "source": [
    "x_start = 0\n",
    "x_end = 10\n",
    "\n",
    "y0_arg = [y0]\n",
    "\n",
    "t_plot = np.linspace(x_start, x_end)\n",
    "\n",
    "sol = scipy.integrate.solve_ivp(\n",
    "    dy_dx, # slope function 기울기 함수\n",
    "    (x_start, x_end), # time span 시작시간 끝시간\n",
    "    y0=y0_arg,  # initial value of y(x) 함수 y(x)의 초기값\n",
    ")\n",
    "\n"
   ]
  },
  {
   "cell_type": "code",
   "execution_count": null,
   "metadata": {},
   "outputs": [],
   "source": [
    "sol\n"
   ]
  },
  {
   "cell_type": "code",
   "execution_count": null,
   "metadata": {},
   "outputs": [],
   "source": [
    "def plot_sol(sol, t_plot):\n",
    "    plt.plot(t_plot, exact(t_plot), 'o-', color='C1', label='exact')\n",
    "    plt.plot(sol.t, sol.y[0], '.-', color='C0', label='solve_ivp')\n",
    "    plt.xlabel('$x$')\n",
    "    plt.ylabel('$y$')\n",
    "    plt.legend(loc=0)\n",
    "    plt.grid(True)\n",
    "\n"
   ]
  },
  {
   "cell_type": "code",
   "execution_count": null,
   "metadata": {},
   "outputs": [],
   "source": [
    "plot_sol(sol, t_plot)\n",
    "\n"
   ]
  },
  {
   "cell_type": "markdown",
   "metadata": {},
   "source": [
    "* What is the effect of `t_eval` argument?<br>`t_eval` 매개변수는 어떤 효과를 일으키는가?\n",
    "\n"
   ]
  },
  {
   "cell_type": "code",
   "execution_count": null,
   "metadata": {},
   "outputs": [],
   "source": [
    "x_start = 0\n",
    "x_end = 10\n",
    "\n",
    "y0_arg = [y0]\n",
    "\n",
    "t_plot = np.linspace(x_start, x_end)\n",
    "\n",
    "sol = scipy.integrate.solve_ivp(\n",
    "    dy_dx, # slope function 기울기 함수\n",
    "    (x_start, x_end), # time span 시작시간 끝시간\n",
    "    y0=y0_arg,  # initial value of y(x) 함수 y(x)의 초기값\n",
    "    t_eval=t_plot,\n",
    "    # time steps where we want to know y(x)\n",
    "    # y(x) 를 알고싶은 x 의 모음\n",
    ")\n",
    "\n"
   ]
  },
  {
   "cell_type": "code",
   "execution_count": null,
   "metadata": {},
   "outputs": [],
   "source": [
    "t_plot.shape, sol.t.shape, sol.y.shape\n",
    "\n"
   ]
  },
  {
   "cell_type": "code",
   "execution_count": null,
   "metadata": {},
   "outputs": [],
   "source": [
    "plot_sol(sol, t_plot)\n",
    "\n"
   ]
  },
  {
   "cell_type": "code",
   "execution_count": null,
   "metadata": {},
   "outputs": [],
   "source": []
  }
 ],
 "metadata": {
  "colab": {
   "private_outputs": true,
   "provenance": [],
   "include_colab_link": true
  },
  "kernelspec": {
   "display_name": "Python 3 (ipykernel)",
   "language": "python",
   "name": "python3"
  },
  "language_info": {
   "codemirror_mode": {
    "name": "ipython",
    "version": 3
   },
   "file_extension": ".py",
   "mimetype": "text/x-python",
   "name": "python",
   "nbconvert_exporter": "python",
   "pygments_lexer": "ipython3",
   "version": "3.10.0"
  }
 },
 "nbformat": 4,
 "nbformat_minor": 0
}