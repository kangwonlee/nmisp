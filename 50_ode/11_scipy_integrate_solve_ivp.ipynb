{
 "nbformat": 4,
 "nbformat_minor": 0,
 "metadata": {
  "colab": {
   "private_outputs": true,
   "provenance": [],
   "authorship_tag": "ABX9TyN56BTb6TsK+J5wkaAEMZfC",
   "include_colab_link": true
  },
  "kernelspec": {
   "name": "python3",
   "display_name": "Python 3"
  },
  "language_info": {
   "name": "python"
  }
 },
 "cells": [
  {
   "cell_type": "markdown",
   "metadata": {
    "id": "view-in-github",
    "colab_type": "text"
   },
   "source": [
    "<a href=\"https://colab.research.google.com/github/kangwonlee/nmisp/blob/lecture-idea/50_ode/11_scipy_integrate_solve_ivp.ipynb\" target=\"_parent\"><img src=\"https://colab.research.google.com/assets/colab-badge.svg\" alt=\"Open In Colab\"/></a>\n"
   ]
  },
  {
   "cell_type": "markdown",
   "source": [
    "미분방정식\n",
    "\n",
    "$$\n",
    "a_0 \\frac{d}{dx}y(t) + a_1 y(t) = 0\n",
    "$$\n",
    "\n"
   ],
   "metadata": {}
  },
  {
   "cell_type": "markdown",
   "source": [
    "이항\n",
    "\n",
    "$$\n",
    "a_0 \\frac{d}{dx}y(t) =- a_1 y(t)\n",
    "$$\n",
    "\n"
   ],
   "metadata": {}
  },
  {
   "cell_type": "markdown",
   "source": [
    "기울기\n",
    "\n",
    "$$\n",
    "\\frac{d}{dx}y(t) =- \\frac{a_1}{a_0} y(t)\\\\\n",
    "\\frac{d}{dx}y(t) =c_0 y(t)\n",
    "$$\n",
    "\n"
   ],
   "metadata": {}
  },
  {
   "cell_type": "markdown",
   "source": [
    "Slope function<br>기울기 함수\n",
    "\n"
   ],
   "metadata": {}
  },
  {
   "cell_type": "code",
   "execution_count": null,
   "metadata": {},
   "outputs": [],
   "source": [
    "a0 = 2.0\n",
    "a1 = 1.0\n",
    "\n",
    "y0 = 1.0\n",
    "\n",
    "c0 = - a1 / a0\n",
    "\n",
    "def dy_dx(x, y):\n",
    "  return c0 * y\n",
    "\n"
   ]
  },
  {
   "cell_type": "markdown",
   "source": [
    "Exact solution<br>엄밀해\n"
   ],
   "metadata": {}
  },
  {
   "cell_type": "code",
   "source": [
    "import numpy as np\n",
    "\n",
    "\n",
    "def exact(x):\n",
    "  return y0 * np.exp(c0*x)\n",
    "\n"
   ],
   "metadata": {},
   "execution_count": null,
   "outputs": []
  },
  {
   "cell_type": "markdown",
   "source": [
    "Numerical approximation<br>수치적 근사해\n",
    "\n",
    "https://docs.scipy.org/doc/scipy/reference/generated/scipy.integrate.solve_ivp.html\n"
   ],
   "metadata": {}
  },
  {
   "cell_type": "code",
   "source": [
    "import scipy.integrate\n",
    "\n",
    "x_start = 0\n",
    "x_end = 10\n",
    "\n",
    "y0_arg = [y0]\n",
    "\n",
    "t_plot = np.linspace(x_start, x_end)\n",
    "\n",
    "sol = scipy.integrate.solve_ivp(\n",
    "    dy_dx, # slope function 기울기 함수\n",
    "    (x_start, x_end), # time span 시작시간 끝시간\n",
    "    y0=y0_arg,  # initial value of y(x) 함수 y(x)의 초기값\n",
    "    t_eval=t_plot,\n",
    "    # time steps where we want to know y(x)\n",
    "    # y(x) 를 알고싶은 x 의 모음\n",
    ")\n",
    "\n"
   ],
   "metadata": {},
   "execution_count": null,
   "outputs": []
  },
  {
   "cell_type": "code",
   "source": [
    "sol\n"
   ],
   "metadata": {},
   "execution_count": null,
   "outputs": []
  },
  {
   "cell_type": "markdown",
   "source": [
    "Effect of `t_eval` argument<br>`t_eval` 매개변수의 효과\n",
    "\n"
   ],
   "metadata": {}
  },
  {
   "cell_type": "code",
   "source": [
    "t_plot.shape, sol.t.shape, sol.y.shape\n",
    "\n"
   ],
   "metadata": {},
   "execution_count": null,
   "outputs": []
  },
  {
   "cell_type": "code",
   "source": [
    "import matplotlib.pyplot as plt\n",
    "\n",
    "plt.plot(sol.t, sol.y[0], 'o-', label='solve_ivp')\n",
    "plt.plot(sol.t, exact(sol.t), '.-', label='exact')\n",
    "plt.xlabel('$x$')\n",
    "plt.ylabel('$y$')\n",
    "plt.legend(loc=0)\n",
    "plt.grid(True)\n",
    "\n"
   ],
   "metadata": {},
   "execution_count": null,
   "outputs": []
  },
  {
   "cell_type": "code",
   "source": [],
   "metadata": {},
   "execution_count": null,
   "outputs": []
  }
 ]
}