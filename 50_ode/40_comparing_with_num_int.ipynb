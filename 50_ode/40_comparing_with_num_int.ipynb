{
 "cells": [
  {
   "cell_type": "markdown",
   "metadata": {
    "id": "view-in-github",
    "colab_type": "text"
   },
   "source": [
    "<a href=\"https://colab.research.google.com/github/kangwonlee/nmisp/blob/dependabot/pip/tests/requests-2.31.0/50_ode/40_comparing_with_num_int.ipynb\" target=\"_parent\"><img src=\"https://colab.research.google.com/assets/colab-badge.svg\" alt=\"Open In Colab\"/></a>\n"
   ]
  },
  {
   "cell_type": "markdown",
   "metadata": {},
   "source": [
    "# 수치적분과의 비교<br>Comparison with Numerical Integration\n",
    "\n"
   ]
  },
  {
   "cell_type": "markdown",
   "metadata": {},
   "source": [
    "다음 미분 방정식을 생각해 보자.<br>Let's think about a differential equation of following form.\n",
    "\n"
   ]
  },
  {
   "cell_type": "markdown",
   "metadata": {},
   "source": [
    "$$\n",
    "    \\frac{d^2x}{dt^2}+0 \\cdot \\frac{dx}{dt} + 0 \\cdot x = \\frac{1}{m}f(t)\n",
    "$$\n",
    "\n"
   ]
  },
  {
   "cell_type": "markdown",
   "metadata": {},
   "source": [
    "실은 위 식은 뉴턴의 2번째 운동법칙으로 그 해는 우변을 두번 적분한 것이다.<br>\n",
    "In fact, the equation above is the Newton's second law of motion, and we can solve it by integrating the right side twice.\n",
    "\n"
   ]
  },
  {
   "cell_type": "markdown",
   "metadata": {},
   "source": [
    "이 예를 생각해 보면, 미분방정식을 푸는 과정과 적분은 무언가 통하는 점이 있을 수 있다.<br>Considering this example, solving for a differential equation and integration might be somewhat related.\n",
    "\n"
   ]
  },
  {
   "cell_type": "markdown",
   "metadata": {},
   "source": [
    "|  order  | Numerical Integration       | method | ODE Solver                    |\n",
    "|:---------:|:--------------------------------:|:--------:|:------------------------------------------------:|\n",
    "| 0th order | $$ F_k = f(x_k)\\cdot \\Delta x $$ |  Euler   | $$ x_{k+1} = x_{k} + \\Delta t \\cdot f(x_k, t_k) $$ |\n",
    "| 1st order | $$ F_k = \\frac{\\Delta x}{2}\\left[f(x_k) + f(x_{k+1})\\right] $$ |  Heun   | $$ x_{k+1} = x_{k} + \\frac{\\Delta t}{2} \\left[f(x_k, t_k) + f(\\hat{x}_{k+1}, t_{k+1})\\right] $$ |\n",
    "| 2nd order | $$ F_k = \\frac{\\Delta x}{6}\\left[f(x_k) + 4 \\cdot f(x_{k+1}) + f(x_{k+2})\\right] $$ |  Runge-Kutta   | $$ x_{k+1} = x_{k} + \\frac{\\Delta t}{6} \\left[f(x_k, t_k) + 2 f(\\hat{x}_{k+\\frac{1}{2}}, t_{k+\\frac{1}{2}})_1+ 2 f(\\hat{x}_{k+\\frac{1}{2}}, t_{k+\\frac{1}{2}})_2 + f(\\hat{x}_{k+1}, t_{k+1})\\right] $$ |\n",
    "\n"
   ]
  },
  {
   "cell_type": "code",
   "execution_count": null,
   "metadata": {},
   "outputs": [],
   "source": []
  }
 ],
 "metadata": {
  "kernelspec": {
   "display_name": "Python 3",
   "language": "python",
   "name": "python3"
  },
  "language_info": {
   "codemirror_mode": {
    "name": "ipython",
    "version": 3
   },
   "file_extension": ".py",
   "mimetype": "text/x-python",
   "name": "python",
   "nbconvert_exporter": "python",
   "pygments_lexer": "ipython3",
   "version": "3.7.3"
  }
 },
 "nbformat": 4,
 "nbformat_minor": 2
}