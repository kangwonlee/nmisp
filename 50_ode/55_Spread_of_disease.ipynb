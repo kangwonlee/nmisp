{
 "nbformat": 4,
 "nbformat_minor": 0,
 "metadata": {
  "colab": {
   "private_outputs": true,
   "provenance": [],
   "include_colab_link": true
  },
  "kernelspec": {
   "name": "python3",
   "display_name": "Python 3"
  },
  "language_info": {
   "name": "python"
  }
 },
 "cells": [
  {
   "cell_type": "markdown",
   "metadata": {
    "id": "view-in-github",
    "colab_type": "text"
   },
   "source": [
    "<a href=\"https://colab.research.google.com/github/kangwonlee/nmisp/blob/main/50_ode/55_Spread_of_disease.ipynb\" target=\"_parent\"><img src=\"https://colab.research.google.com/assets/colab-badge.svg\" alt=\"Open In Colab\"/></a>\n"
   ]
  },
  {
   "cell_type": "markdown",
   "source": [
    "## Simulating Spread of Disease<br>질병 전파 시뮬레이션\n"
   ],
   "metadata": {}
  },
  {
   "cell_type": "markdown",
   "source": [
    "Ref : David Smith and Lang Moore, \"The SIR Model for Spread of Disease - The Differential Equation Model,\" Convergence (December 2004),  https://www.maa.org/press/periodicals/loci/joma/the-sir-model-for-spread-of-disease-the-differential-equation-model\n",
    "\n"
   ],
   "metadata": {}
  },
  {
   "cell_type": "code",
   "execution_count": null,
   "metadata": {},
   "outputs": [],
   "source": [
    "import matplotlib.pyplot as plt\n",
    "import numpy as np\n",
    "import numpy.linalg as nl\n",
    "import scipy.integrate as si\n",
    "\n"
   ]
  },
  {
   "cell_type": "markdown",
   "source": [
    "We would consider three types of people.<br>3종류의 사람들로 구분할 것이다.\n",
    "\n"
   ],
   "metadata": {}
  },
  {
   "cell_type": "markdown",
   "source": [
    "| variable<br>변수 | description<br>설명 |\n",
    "|:-----:|:-----:|\n",
    "| $s$ | the susceptible fraction of the population<br>감염될 수 있는 인구 비중 |\n",
    "| $i$ | the infected fraction of the population<br>감염된 인구 비중 |\n",
    "| $r$ | the recovered fraction of the population<br>회복된 인구 비중 |\n",
    "\n"
   ],
   "metadata": {}
  },
  {
   "cell_type": "markdown",
   "source": [
    "$$\n",
    "\\begin{align}\n",
    "\\frac{ds}{dt}&=-b\\cdot s(t)i(t) \\\\\n",
    "\\frac{di}{dt}&=b\\cdot s(t)i(t)-k\\cdot i(t) \\\\\n",
    "\\frac{dr}{dt}&=k\\cdot i(t) \\\\\n",
    "\\end{align}\n",
    "$$\n",
    "\n"
   ],
   "metadata": {}
  },
  {
   "cell_type": "markdown",
   "source": [
    "| variable<br>변수 |   value<br>값    |\n",
    "|:---------------:|:---------------:|\n",
    "| $b$ | 1/2 |\n",
    "| $k$ | 1/3 |\n",
    "\n"
   ],
   "metadata": {}
  },
  {
   "cell_type": "code",
   "source": [
    "b = 0.5\n",
    "k = 1.0/3\n",
    "\n"
   ],
   "metadata": {},
   "execution_count": null,
   "outputs": []
  },
  {
   "cell_type": "markdown",
   "source": [
    "### Numerical Solution using `solve_ivp()`<br>`solve_ivp()` 수치해\n",
    "\n"
   ],
   "metadata": {}
  },
  {
   "cell_type": "markdown",
   "source": [
    "Slope function<br>기울기 함수\n",
    "\n"
   ],
   "metadata": {}
  },
  {
   "cell_type": "code",
   "source": [
    "def dy_dt(t, y):\n",
    "  s = y[0]\n",
    "  i = y[1]\n",
    "  r = y[2]\n",
    "  return np.array((\n",
    "      -b * s * i,\n",
    "      b * s * i - k * i,\n",
    "      k * i,\n",
    "  ))\n",
    "\n"
   ],
   "metadata": {},
   "execution_count": null,
   "outputs": []
  },
  {
   "cell_type": "markdown",
   "source": [
    "Simulation<br>시뮬레이션\n",
    "\n"
   ],
   "metadata": {}
  },
  {
   "cell_type": "code",
   "source": [
    "delta_t = 1 # day\n",
    "t_start = 0\n",
    "t_end = 150 # day\n",
    "\n",
    "y0 = [1, 1.27e-6, 0]\n",
    "\n",
    "t_eval = np.arange(t_start, t_end, delta_t)\n",
    "\n",
    "sol = si.solve_ivp(dy_dt, (t_start, t_end), y0=y0, t_eval=t_eval)\n",
    "\n"
   ],
   "metadata": {},
   "execution_count": null,
   "outputs": []
  },
  {
   "cell_type": "code",
   "source": [
    "sol\n",
    "\n"
   ],
   "metadata": {},
   "execution_count": null,
   "outputs": []
  },
  {
   "cell_type": "markdown",
   "source": [
    "Let's plot.<br>그림으로 표시해 보자.\n",
    "\n"
   ],
   "metadata": {}
  },
  {
   "cell_type": "code",
   "source": [
    "ylabels = ['s', 'i', 'r']\n",
    "\n",
    "for k, y in enumerate(sol.y):\n",
    "\n",
    "  ax = plt.subplot(len(sol.y), 1, k+1)\n",
    "  ax.plot(sol.t, y)\n",
    "  ax.set_ylabel(f'${ylabels[k]}(t)$')\n",
    "  ax.grid(True)\n",
    "\n",
    "ax.set_xlabel('$t(sec)$');\n",
    "\n"
   ],
   "metadata": {},
   "execution_count": null,
   "outputs": []
  },
  {
   "cell_type": "markdown",
   "source": [
    "I hope your and everyone's hearlth<br>여러분 모두의 건강을 빕니다.\n",
    "\n"
   ],
   "metadata": {}
  },
  {
   "cell_type": "code",
   "source": [],
   "metadata": {},
   "execution_count": null,
   "outputs": []
  }
 ]
}