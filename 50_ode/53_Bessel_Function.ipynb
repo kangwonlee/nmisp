{
 "cells": [
  {
   "cell_type": "markdown",
   "metadata": {
    "id": "view-in-github",
    "colab_type": "text"
   },
   "source": [
    "<a href=\"https://colab.research.google.com/github/kangwonlee/nmisp/blob/ode-bessel/50_ode/53_Bessel_Function.ipynb\" target=\"_parent\"><img src=\"https://colab.research.google.com/assets/colab-badge.svg\" alt=\"Open In Colab\"/></a>\n"
   ]
  },
  {
   "cell_type": "code",
   "execution_count": null,
   "metadata": {},
   "outputs": [],
   "source": [
    "import matplotlib.pyplot as plt\n",
    "import numpy as np\n",
    "import scipy.integrate as si\n",
    "import scipy.special as sp\n",
    "\n"
   ]
  },
  {
   "cell_type": "markdown",
   "metadata": {},
   "source": [
    "# Bessel Functions<br>베셀 함수\n",
    "\n"
   ]
  },
  {
   "cell_type": "markdown",
   "metadata": {},
   "source": [
    "references : \n",
    "* https://en.wikipedia.org/wiki/Bessel_function\n",
    "\n"
   ]
  },
  {
   "cell_type": "markdown",
   "metadata": {},
   "source": [
    "* Bessel functions are solutions of the Bessel's differential equation<br>베셀함수는 베셀미분방정식의 해 이다.\n",
    "\n"
   ]
  },
  {
   "cell_type": "markdown",
   "metadata": {},
   "source": [
    "* Let's rewrite in the state space form.<br>상태공간식으로 고쳐써보자.\n",
    "\n"
   ]
  },
  {
   "cell_type": "markdown",
   "metadata": {},
   "source": [
    "$$\n",
    "x^2 \\frac{d^2}{dx^2}y + x \\frac{d}{dx}y+\\left(x^2 - \\alpha^2 \\right)y = 0\n",
    "$$\n",
    "\n"
   ]
  },
  {
   "cell_type": "markdown",
   "metadata": {},
   "source": [
    "$$\n",
    "    q =\n",
    "        \\begin{pmatrix}\n",
    "            q_0 \\\\\n",
    "            q_1\n",
    "        \\end{pmatrix}\n",
    "    = \n",
    "        \\begin{pmatrix}\n",
    "            y \\\\\n",
    "            \\frac{dy}{dx}\n",
    "        \\end{pmatrix}\n",
    "$$\n"
   ]
  },
  {
   "cell_type": "markdown",
   "metadata": {},
   "source": [
    "$$\n",
    "x^2 \\frac{d}{dx}q_1 = - x q_1+\\left(\\alpha^2 - x^2 \\right)q_0\n",
    "$$\n"
   ]
  },
  {
   "cell_type": "markdown",
   "metadata": {},
   "source": [
    "$$\n",
    "\\frac{d}{dx}q_1 = - \\frac{1}{x} q_1+\\left(\\frac{\\alpha^2}{x^2} - 1 \\right)q_0\n",
    "$$\n",
    "\n"
   ]
  },
  {
   "cell_type": "markdown",
   "metadata": {},
   "source": [
    "$$\n",
    "    \\frac{d}{dx}q =\n",
    "        \\begin{pmatrix}\n",
    "            \\frac{d}{dx}q_0 \\\\\n",
    "            \\frac{d}{dx}q_1\n",
    "        \\end{pmatrix}\n",
    "    = \n",
    "        \\begin{pmatrix}\n",
    "            q_1 \\\\\n",
    "            \\left(\\frac{\\alpha^2}{x^2} - 1 \\right)q_0 - \\frac{1}{x} q_1\n",
    "        \\end{pmatrix}\n",
    "    = \n",
    "        \\begin{bmatrix}\n",
    "            0 & 1 \\\\\n",
    "            \\left(\\frac{\\alpha^2}{x^2} - 1 \\right) & - \\frac{1}{x} \n",
    "        \\end{bmatrix}\n",
    "        \\begin{pmatrix}\n",
    "            q_0 \\\\\n",
    "            q_1\n",
    "        \\end{pmatrix}\n",
    "$$\n"
   ]
  },
  {
   "cell_type": "markdown",
   "metadata": {},
   "source": [
    "* Python callback function<br>콜백함수\n",
    "\n",
    "\n"
   ]
  },
  {
   "cell_type": "code",
   "execution_count": null,
   "metadata": {},
   "outputs": [],
   "source": [
    "def dqdt(q, x, alpha=0):\n",
    "    q0 = q[0]\n",
    "    q1 = q[1]\n",
    "    a10 = (alpha/x)**2 - 1.0\n",
    "    a11 = (-1.0) / x\n",
    "    return (q1, a10 * q0 + a11 * q1)\n",
    "\n"
   ]
  },
  {
   "cell_type": "code",
   "execution_count": null,
   "metadata": {},
   "outputs": [],
   "source": [
    "def get_bessel(x, alpha=0):\n",
    "    if 0 == alpha:\n",
    "        y0 = 1\n",
    "        y1 = 0\n",
    "    else:\n",
    "        y0 = 0\n",
    "        y1 = 0.00001\n",
    "\n",
    "    q0 = (y0, y1)\n",
    "\n",
    "    return si.odeint(dqdt, q0, x, args=(alpha,))\n",
    "\n"
   ]
  },
  {
   "cell_type": "markdown",
   "metadata": {},
   "source": [
    "* Let's plot<br>그려보자.\n",
    "\n"
   ]
  },
  {
   "cell_type": "code",
   "execution_count": null,
   "metadata": {},
   "outputs": [],
   "source": [
    "x = np.linspace(0.0001, 20, 1001)\n",
    "ax = plt.gca()\n",
    "for alpha in range(0, 3):\n",
    "    y = get_bessel(x, alpha)\n",
    "    y_scipy = sp.jv(alpha, x)\n",
    "    ax.plot(x, y[:, 0], '.', label=rf'$\\alpha={alpha}$')\n",
    "    ax.plot(x, y_scipy, label=rf'jv({alpha},z)')\n",
    "\n",
    "ax.set_xlabel('$x$')\n",
    "ax.legend(loc=0)\n",
    "ax.grid(True)\n",
    "\n"
   ]
  },
  {
   "cell_type": "code",
   "execution_count": null,
   "metadata": {},
   "outputs": [],
   "source": []
  }
 ],
 "metadata": {
  "kernelspec": {
   "display_name": "Python 3 (ipykernel)",
   "language": "python",
   "name": "python3"
  },
  "language_info": {
   "codemirror_mode": {
    "name": "ipython",
    "version": 3
   },
   "file_extension": ".py",
   "mimetype": "text/x-python",
   "name": "python",
   "nbconvert_exporter": "python",
   "pygments_lexer": "ipython3",
   "version": "3.10.0"
  }
 },
 "nbformat": 4,
 "nbformat_minor": 5
}