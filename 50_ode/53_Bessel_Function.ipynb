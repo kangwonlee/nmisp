{
 "cells": [
  {
   "cell_type": "code",
   "execution_count": null,
   "id": "435c7eed",
   "metadata": {},
   "outputs": [],
   "source": [
    "import matplotlib.pyplot as plt\n",
    "import numpy as np\n",
    "import scipy.integrate as si\n",
    "\n"
   ]
  },
  {
   "cell_type": "markdown",
   "id": "379cf658",
   "metadata": {},
   "source": [
    "# Bessel Functions<br>베셀 함수\n",
    "\n"
   ]
  },
  {
   "cell_type": "markdown",
   "id": "23ae25ee",
   "metadata": {},
   "source": [
    "references : \n",
    "* https://en.wikipedia.org/wiki/Bessel_function\n",
    "\n"
   ]
  },
  {
   "cell_type": "markdown",
   "id": "91cd58f6",
   "metadata": {},
   "source": [
    "* Bessel functions are solutions of the Bessel's differential equation<br>베셀함수는 베셀미분방정식의 해 이다.\n",
    "\n"
   ]
  },
  {
   "cell_type": "markdown",
   "id": "5c100c45-ed98-49ca-85b6-3ed5f092a0bf",
   "metadata": {},
   "source": [
    "* Let's rewrite in the state space form.<br>상태공간식으로 고쳐써보자.\n",
    "\n"
   ]
  },
  {
   "cell_type": "markdown",
   "id": "5ead7f4b-fe5a-4fa7-9379-f14629cf8c9f",
   "metadata": {},
   "source": [
    "$$\n",
    "x^2 \\frac{d^2}{dx^2}y + x \\frac{d}{dx}y+\\left(x^2 - \\alpha^2 \\right)y = 0\n",
    "$$\n",
    "\n"
   ]
  },
  {
   "cell_type": "markdown",
   "id": "daf03ffb-a777-4f13-b12b-de980236e5a2",
   "metadata": {},
   "source": [
    "$$\n",
    "    q =\n",
    "        \\begin{pmatrix}\n",
    "            q_0 \\\\\n",
    "            q_1\n",
    "        \\end{pmatrix}\n",
    "    = \n",
    "        \\begin{pmatrix}\n",
    "            y \\\\\n",
    "            \\frac{dy}{dx}\n",
    "        \\end{pmatrix}\n",
    "$$\n"
   ]
  },
  {
   "cell_type": "markdown",
   "id": "4e1a33e0-3bf6-490f-a61f-4a94cf4db1f7",
   "metadata": {},
   "source": [
    "$$\n",
    "x^2 \\frac{d}{dx}q_1 = - x q_1+\\left(\\alpha^2 - x^2 \\right)q_0\n",
    "$$\n"
   ]
  },
  {
   "cell_type": "markdown",
   "id": "3ffae8eb-fbe5-4608-94ce-9756bd23f581",
   "metadata": {},
   "source": [
    "$$\n",
    "\\frac{d}{dx}q_1 = - \\frac{1}{x} q_1+\\left(\\frac{\\alpha^2}{x^2} - 1 \\right)q_0\n",
    "$$\n",
    "\n"
   ]
  },
  {
   "cell_type": "markdown",
   "id": "3aaa7426-cbd4-4b4f-9b25-2209c7250a3b",
   "metadata": {},
   "source": [
    "$$\n",
    "    \\frac{d}{dx}q =\n",
    "        \\begin{pmatrix}\n",
    "            \\frac{d}{dx}q_0 \\\\\n",
    "            \\frac{d}{dx}q_1\n",
    "        \\end{pmatrix}\n",
    "    = \n",
    "        \\begin{pmatrix}\n",
    "            q_1 \\\\\n",
    "            \\left(\\frac{\\alpha^2}{x^2} - 1 \\right)q_0 - \\frac{1}{x} q_1\n",
    "        \\end{pmatrix}\n",
    "    = \n",
    "        \\begin{bmatrix}\n",
    "            0 & 1 \\\\\n",
    "            \\left(\\frac{\\alpha^2}{x^2} - 1 \\right) & - \\frac{1}{x} \n",
    "        \\end{bmatrix}\n",
    "        \\begin{pmatrix}\n",
    "            q_0 \\\\\n",
    "            q_1\n",
    "        \\end{pmatrix}\n",
    "$$\n"
   ]
  },
  {
   "cell_type": "markdown",
   "id": "1c2dafa4-f424-42c1-975d-cc7aa1c354f5",
   "metadata": {},
   "source": [
    "* Python callback function<br>콜백함수\n",
    "\n",
    "\n"
   ]
  },
  {
   "cell_type": "code",
   "execution_count": null,
   "id": "d0341e93-c97f-415a-862c-4b727c809662",
   "metadata": {},
   "outputs": [],
   "source": [
    "def dqdt(q, x, alpha=0):\n",
    "    q0 = q[0]\n",
    "    q1 = q[1]\n",
    "    a10 = (alpha/x)**2 - 1.0\n",
    "    a11 = (-1.0) / x\n",
    "    return (q1, a10 * q0 + a11 * q1)\n",
    "\n"
   ]
  },
  {
   "cell_type": "code",
   "execution_count": null,
   "id": "2d98a7be-c7a8-42db-8fc0-69e97ca860f7",
   "metadata": {},
   "outputs": [],
   "source": [
    "def get_bessel(x, alpha=0):\n",
    "    if 0 == alpha:\n",
    "        y0 = 1\n",
    "        y1 = 0\n",
    "    else:\n",
    "        y0 = 0\n",
    "        y1 = 0.00001\n",
    "\n",
    "    q0 = (y0, y1)\n",
    "\n",
    "    return si.odeint(dqdt, q0, x, args=(alpha,))\n",
    "\n"
   ]
  },
  {
   "cell_type": "markdown",
   "id": "8f8dd864-ab2c-48cd-a514-20c49b0db755",
   "metadata": {},
   "source": [
    "* Let's plot<br>그려보자.\n",
    "\n"
   ]
  },
  {
   "cell_type": "code",
   "execution_count": null,
   "id": "f43fd653-3423-470b-b052-312126ae53eb",
   "metadata": {},
   "outputs": [],
   "source": [
    "x = np.linspace(0.0001, 20, 1001)\n",
    "ax = plt.gca()\n",
    "for alpha in range(0, 3):\n",
    "    y = get_bessel(x, alpha)\n",
    "    ax.plot(x, y[:, 0], label=rf'$\\alpha={alpha}$')\n",
    "\n",
    "ax.set_xlabel('$x$')\n",
    "ax.legend(loc=0)\n",
    "ax.grid(True)\n",
    "\n"
   ]
  },
  {
   "cell_type": "code",
   "execution_count": null,
   "id": "ff3940f8",
   "metadata": {},
   "outputs": [],
   "source": []
  }
 ],
 "metadata": {
  "kernelspec": {
   "display_name": "Python 3 (ipykernel)",
   "language": "python",
   "name": "python3"
  },
  "language_info": {
   "codemirror_mode": {
    "name": "ipython",
    "version": 3
   },
   "file_extension": ".py",
   "mimetype": "text/x-python",
   "name": "python",
   "nbconvert_exporter": "python",
   "pygments_lexer": "ipython3",
   "version": "3.10.0"
  }
 },
 "nbformat": 4,
 "nbformat_minor": 5
}
