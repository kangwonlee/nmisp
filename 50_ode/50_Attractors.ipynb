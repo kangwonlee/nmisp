{
 "cells": [
  {
   "cell_type": "markdown",
   "metadata": {
    "id": "view-in-github",
    "colab_type": "text"
   },
   "source": [
    "<a href=\"https://colab.research.google.com/github/kangwonlee/nmisp/blob/det-minor-adj/50_ode/50_Attractors.ipynb\" target=\"_parent\"><img src=\"https://colab.research.google.com/assets/colab-badge.svg\" alt=\"Open In Colab\"/></a>\n"
   ]
  },
  {
   "cell_type": "code",
   "execution_count": null,
   "metadata": {},
   "outputs": [],
   "source": [
    "# This cell is for the Google Colaboratory\n",
    "# https://stackoverflow.com/a/63519730\n",
    "if 'google.colab' in str(get_ipython()):\n",
    "  path_py = '/content/nmisp_py'\n",
    "\n",
    "  import os\n",
    "  if not os.path.exists(path_py):\n",
    "    import subprocess\n",
    "    subprocess.run(\n",
    "        ('git', 'clone', 'https://github.com/kangwonlee/nmisp_py')\n",
    "    )\n",
    "  assert os.path.exists(path_py)\n",
    "\n",
    "  import sys\n",
    "  sys.path.insert(0, path_py)\n",
    "\n"
   ]
  },
  {
   "cell_type": "code",
   "execution_count": null,
   "metadata": {},
   "outputs": [],
   "source": [
    "import matplotlib.pyplot as plt\n",
    "import numpy as np\n",
    "\n"
   ]
  },
  {
   "cell_type": "code",
   "execution_count": null,
   "metadata": {},
   "outputs": [],
   "source": [
    "import ode_solver\n",
    "\n"
   ]
  },
  {
   "cell_type": "markdown",
   "metadata": {},
   "source": [
    "# Numerical Simulation of Chaotic Systems: The Lorenz Attractor.<br>카오스 시스템의 수치 시뮬레이션 : 로렌츠 계\n",
    "\n"
   ]
  },
  {
   "cell_type": "markdown",
   "metadata": {},
   "source": [
    "references :\n",
    "* https://en.wikipedia.org/wiki/Lorenz_system\n",
    "* https://behance.net/gallery/7618879/Strange-Attractors\n",
    "* https://en.wikipedia.org/wiki/List_of_chaotic_maps\n",
    "* https://matplotlib.org/stable/gallery/mplot3d/scatter3d.html\n",
    "* https://gemini.google.com\n",
    "\n"
   ]
  },
  {
   "cell_type": "markdown",
   "metadata": {},
   "source": [
    "We can use ODE solvers to calculate the trajectories of chaotic systems.<br>\n",
    "ODE solver 는 카오스 시스템의 궤적을 계산하기 위해서도 사용할 수 있다.\n",
    "\n"
   ]
  },
  {
   "cell_type": "markdown",
   "metadata": {},
   "source": [
    "## The Lorenz System<br>로렌츠 계\n",
    "\n"
   ]
  },
  {
   "cell_type": "markdown",
   "metadata": {},
   "source": [
    "In 1963, Prof. Edward Lorenz and his colleagues developed a simplifed mathematical model of atmospheric convection.<br>1963년 미국의 기상학자이자 수학자인 에드워드 로렌츠가 동료들과 함께 대기의 대류 현상을 수학적으로 단순화하여 표현하기 위해 개발한 모델이다.\n",
    "\n"
   ]
  },
  {
   "cell_type": "markdown",
   "metadata": {},
   "source": [
    "The Lorenz attractor is a set of chaotic solutions; an attractor is a region in the state space where a system tends to evolve towards over time, often regardless of its initial conditions within a particular region.<br>\n",
    "Lorenz Attractor 로렌츠 끌개란 그 카오스 해의 집합을 말한다. Attractor 끌개 란, 시간이 흐름에 따라 시스템이 상태 공간상 특정 영역 안에서 시작하였을 때 도달하게 되는 상태공간상의 영역 또는 평형점을 말한다.\n",
    "\n"
   ]
  },
  {
   "cell_type": "markdown",
   "metadata": {},
   "source": [
    "$$\n",
    "\\begin{align}\n",
    "    \\frac{dx}{dt} & = \\sigma (y - x) \\\\\n",
    "    \\frac{dy}{dt} & = x (\\rho - z) - y \\\\\n",
    "    \\frac{dz}{dt} & = x y - \\beta z\n",
    "\\end{align}\n",
    "$$\n"
   ]
  },
  {
   "cell_type": "markdown",
   "metadata": {},
   "source": [
    "The Lorenz system models a simplified scenario of a two-dimensional fluid layer uniformly warmed below and cooled from above.<br>해당 미분방정식이 나타내는 로렌츠 계는 아래에서 덥혀지고 위에서 냉각되는 유체의 움직임에 관한 것이다.\n",
    "\n"
   ]
  },
  {
   "cell_type": "markdown",
   "metadata": {},
   "source": [
    "Please consider trying different values of the following parameters of the Lorenz system<br>아래 로렌츠 계 매개변수의 다른 값을 시도해 보는 것도 생각해 보자.\n",
    "\n"
   ]
  },
  {
   "cell_type": "code",
   "execution_count": null,
   "metadata": {},
   "outputs": [],
   "source": [
    "sigma = 10.0\n",
    "rho = 28.0\n",
    "beta = 8.0 / 3.0\n",
    "\n"
   ]
  },
  {
   "cell_type": "code",
   "execution_count": null,
   "metadata": {},
   "outputs": [],
   "source": [
    "def get_Lorenz_system_slope(sigma:float, rho:float, beta:float):\n",
    "    '''\n",
    "    Return a closure calculating slope function\n",
    "    기울기 함수를 계산하는 내포 함수를 반환\n",
    "    '''\n",
    "    def f(t:float, xv:np.ndarray,):\n",
    "        '''\n",
    "        Calculate slope vector of the Lorenz system\n",
    "        로렌츠 계의 기울기 벡터를 계산\n",
    "        '''\n",
    "        x, y, z = xv\n",
    "        dx_dt = sigma * (y - x)\n",
    "        dy_dt = x * (rho - z) - y\n",
    "        dz_dt = x * y - beta * z\n",
    "\n",
    "        return np.array((dx_dt, dy_dt, dz_dt))\n",
    "\n",
    "    return f\n",
    "\n",
    "\n",
    "Lorenz_attractor = get_Lorenz_system_slope(sigma=sigma, rho=rho, beta=beta)\n",
    "\n"
   ]
  },
  {
   "cell_type": "code",
   "execution_count": null,
   "metadata": {},
   "outputs": [],
   "source": [
    "def sim_attractor(\n",
    "        attractor, x_0:np.ndarray=(np.array((1, 1, 1)) * 1.0),\n",
    "        sigma:float=10.0, rho:float=28.0, beta:float=(8.0/3.0),\n",
    "        t_end=60.0,\n",
    "        elev_deg:float=None, azim_deg:float=None, figsize=(14, 14)\n",
    "    ):\n",
    "    '''\n",
    "    Simulate a chatoic attractor\n",
    "    카오스 계 해 곡선을 시뮬레이션\n",
    "    '''\n",
    "    t_array = np.arange(0, t_end, 1e-3)\n",
    "\n",
    "    t_out, x_out = ode_solver.rk4(attractor, t_array, x_0)\n",
    "    x_out = np.array(x_out)\n",
    "    ax = plt.figure(figsize=figsize).add_subplot(projection=\"3d\")\n",
    "    ax.view_init(elev_deg, azim_deg)\n",
    "    ax.plot(x_out[:, 0], x_out[:, 1], x_out[:, 2])\n",
    "    ax.plot(\n",
    "        (x_out[0, 0], x_out[-1, 0]),\n",
    "        (x_out[0, 1], x_out[-1, 1]),\n",
    "        (x_out[0, 2], x_out[-1, 2]),\n",
    "        'o'\n",
    "    )\n",
    "    ax.text(x_out[0, 0], x_out[0, 1], x_out[0, 2], 'start')\n",
    "    ax.text(x_out[-1, 0], x_out[-1, 1], x_out[-1, 2], 'end')\n",
    "\n",
    "    ax.set_xlabel('rate of convection')\n",
    "    ax.set_ylabel('horizontal temperature variation')\n",
    "    ax.set_zlabel('vertical temperature variation')\n",
    "    ax.grid(True)\n",
    "\n",
    "    return ax\n",
    "\n"
   ]
  },
  {
   "cell_type": "code",
   "execution_count": null,
   "metadata": {},
   "outputs": [],
   "source": [
    "%time ax = sim_attractor(Lorenz_attractor, (np.array((1, 1, 1)) * 1.0))\n",
    "\n"
   ]
  },
  {
   "cell_type": "markdown",
   "metadata": {},
   "source": [
    "Now let's slightly change the initial condition. How different is the final point this time?<br>이제 초기 조건을 살짝 바꾸어 보자. 마지막 점의 위치는 얼마 정도 달라졌는가?\n",
    "\n"
   ]
  },
  {
   "cell_type": "code",
   "execution_count": null,
   "metadata": {},
   "outputs": [],
   "source": [
    "%time ax = sim_attractor(Lorenz_attractor, (np.array((1, 1, 1.001)) * 1.0))\n",
    "\n"
   ]
  },
  {
   "cell_type": "markdown",
   "metadata": {},
   "source": [
    "To analyze such nonlinear systems, can numerical methods such as RK4 be helpful?<br>이러한 비선형 시스템 해석에 RK4와 같은 수치 해법이 도움이 될 수 있다고 생각하는가?\n",
    "\n"
   ]
  },
  {
   "cell_type": "code",
   "execution_count": null,
   "metadata": {},
   "outputs": [],
   "source": []
  }
 ],
 "metadata": {
  "kernelspec": {
   "display_name": "Python 3 (ipykernel)",
   "language": "python",
   "name": "python3"
  },
  "language_info": {
   "codemirror_mode": {
    "name": "ipython",
    "version": 3
   },
   "file_extension": ".py",
   "mimetype": "text/x-python",
   "name": "python",
   "nbconvert_exporter": "python",
   "pygments_lexer": "ipython3",
   "version": "3.10.0"
  }
 },
 "nbformat": 4,
 "nbformat_minor": 5
}