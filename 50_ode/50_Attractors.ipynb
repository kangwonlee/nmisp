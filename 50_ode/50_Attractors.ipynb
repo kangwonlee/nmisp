{
 "cells": [
  {
   "cell_type": "markdown",
   "metadata": {
    "id": "view-in-github",
    "colab_type": "text"
   },
   "source": [
    "<a href=\"https://colab.research.google.com/github/kangwonlee/nmisp/blob/dependabot/pip/tests/requests-2.31.0/50_ode/50_Attractors.ipynb\" target=\"_parent\"><img src=\"https://colab.research.google.com/assets/colab-badge.svg\" alt=\"Open In Colab\"/></a>\n"
   ]
  },
  {
   "cell_type": "code",
   "execution_count": null,
   "metadata": {},
   "outputs": [],
   "source": [
    "# This cell is for the Google Colaboratory\n",
    "# https://stackoverflow.com/a/63519730\n",
    "if 'google.colab' in str(get_ipython()):\n",
    "  path_py = '/content/nmisp_py'\n",
    "\n",
    "  import os\n",
    "  if not os.path.exists(path_py):\n",
    "    import subprocess\n",
    "    subprocess.run(\n",
    "        ('git', 'clone', 'https://github.com/kangwonlee/nmisp_py')\n",
    "    )\n",
    "  assert os.path.exists(path_py)\n",
    "\n",
    "  import sys\n",
    "  sys.path.insert(0, path_py)\n",
    "\n"
   ]
  },
  {
   "cell_type": "code",
   "execution_count": null,
   "metadata": {},
   "outputs": [],
   "source": [
    "import matplotlib.pyplot as plt\n",
    "import numpy as np\n",
    "\n"
   ]
  },
  {
   "cell_type": "code",
   "execution_count": null,
   "metadata": {},
   "outputs": [],
   "source": [
    "import ode_solver\n",
    "\n"
   ]
  },
  {
   "cell_type": "markdown",
   "metadata": {},
   "source": [
    "# Nonlinea System Example : Attractor<br>비선형 시스템 예: 끌개\n",
    "\n"
   ]
  },
  {
   "cell_type": "markdown",
   "metadata": {},
   "source": [
    "references : \n",
    "* https://en.wikipedia.org/wiki/Lorenz_system\n",
    "* https://behance.net/gallery/7618879/Strange-Attractors\n",
    "* https://en.wikipedia.org/wiki/List_of_chaotic_maps\n",
    "* https://matplotlib.org/stable/gallery/mplot3d/scatter3d.html\n",
    "\n"
   ]
  },
  {
   "cell_type": "markdown",
   "metadata": {},
   "source": [
    "We may also use the ODE solvers to calculate trajectories of the chaotic systems.<br>\n",
    "ODE solver 는 카오스 시스템의 궤적을 계산하기 위해서도 사용할 수 있다.\n",
    "\n"
   ]
  },
  {
   "cell_type": "markdown",
   "metadata": {},
   "source": [
    "## The Lorenz Attractor\n",
    "\n"
   ]
  },
  {
   "cell_type": "markdown",
   "metadata": {},
   "source": [
    "$$\n",
    "\\begin{align}\n",
    "    \\frac{dx}{dt} & = \\sigma (y - x) \\\\\n",
    "    \\frac{dy}{dt} & = x (\\rho - z) - y \\\\\n",
    "    \\frac{dz}{dt} & = x y - \\beta z\n",
    "\\end{align}\n",
    "$$\n"
   ]
  },
  {
   "cell_type": "code",
   "execution_count": null,
   "metadata": {},
   "outputs": [],
   "source": [
    "def Lorenz_attractor(t:float, xv:np.ndarray, sigma:float=10.0, rho:float=28.0, beta:float=(8.0/3.0)):\n",
    "    x, y, z = xv\n",
    "    dx_dt = sigma * (y - x)\n",
    "    dy_dt = x * (rho - z) - y\n",
    "    dz_dt = x * y - beta * z\n",
    "\n",
    "    return np.array((dx_dt, dy_dt, dz_dt))\n",
    "\n"
   ]
  },
  {
   "cell_type": "code",
   "execution_count": null,
   "metadata": {},
   "outputs": [],
   "source": [
    "def sim_attractor(attractor, t_end=40.0, elev_deg:float=None, azim_deg:float=None, figsize=(14, 14)):\n",
    "    t_array = np.arange(0, t_end, 1e-3)\n",
    "    x_0 = np.array((1, 1, 1)) * 1.0\n",
    "    t_out, x_out = ode_solver.rk4(attractor, t_array, x_0)\n",
    "    x_out = np.array(x_out)\n",
    "    ax = plt.figure(figsize=figsize).add_subplot(projection=\"3d\")\n",
    "    ax.view_init(elev_deg, azim_deg)\n",
    "    ax.plot(x_out[:, 0], x_out[:, 1], x_out[:, 2], '.-')\n",
    "    ax.grid(True)\n",
    "    \n",
    "    return ax\n",
    "\n"
   ]
  },
  {
   "cell_type": "code",
   "execution_count": null,
   "metadata": {},
   "outputs": [],
   "source": [
    "%time ax = sim_attractor(Lorenz_attractor)\n",
    "\n"
   ]
  },
  {
   "cell_type": "markdown",
   "metadata": {},
   "source": [
    "## The Finance Attractor\n",
    "\n"
   ]
  },
  {
   "cell_type": "markdown",
   "metadata": {},
   "source": [
    "$$\n",
    "\\begin{align}\n",
    "    \\frac{dx}{dt} & = \\left( \\frac{1}{\\beta} - \\alpha \\right) x + z + xy \\\\\n",
    "    \\frac{dy}{dt} & = - \\beta y - x^2 \\\\\n",
    "    \\frac{dz}{dt} & = -x - \\zeta z\n",
    "\\end{align}\n",
    "$$\n"
   ]
  },
  {
   "cell_type": "code",
   "execution_count": null,
   "metadata": {},
   "outputs": [],
   "source": [
    "def finance_attractor(t:float, xv:np.ndarray, alpha:float=0.001, beta:float=0.2, zeta:float=1.1):\n",
    "    x, y, z = xv\n",
    "    dx_dt = (1/beta - alpha) * x + z + x * y\n",
    "    dy_dt = (-beta) * y - x * x\n",
    "    dz_dt = (-x) - zeta * z\n",
    "\n",
    "    return np.array((dx_dt, dy_dt, dz_dt))\n",
    "\n"
   ]
  },
  {
   "cell_type": "code",
   "execution_count": null,
   "metadata": {
    "scrolled": false
   },
   "outputs": [],
   "source": [
    "ax = sim_attractor(finance_attractor, 300, elev_deg=80)\n",
    "\n"
   ]
  },
  {
   "cell_type": "code",
   "execution_count": null,
   "metadata": {},
   "outputs": [],
   "source": []
  }
 ],
 "metadata": {
  "kernelspec": {
   "display_name": "Python 3",
   "language": "python",
   "name": "python3"
  },
  "language_info": {
   "codemirror_mode": {
    "name": "ipython",
    "version": 3
   },
   "file_extension": ".py",
   "mimetype": "text/x-python",
   "name": "python",
   "nbconvert_exporter": "python",
   "pygments_lexer": "ipython3",
   "version": "3.8.8"
  }
 },
 "nbformat": 4,
 "nbformat_minor": 5
}